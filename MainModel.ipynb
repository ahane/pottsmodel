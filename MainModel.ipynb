{
 "metadata": {
  "name": ""
 },
 "nbformat": 3,
 "nbformat_minor": 0,
 "worksheets": [
  {
   "cells": [
    {
     "cell_type": "code",
     "collapsed": false,
     "input": [
      "import collection.mutable.{ArrayBuffer, Set, Map}\n",
      "import cc.factorie.variable.{CategoricalDomain, CategoricalVariable, DiffList, Var}"
     ],
     "language": "python",
     "metadata": {},
     "outputs": [
      {
       "output_type": "stream",
       "stream": "stdout",
       "text": []
      },
      {
       "output_type": "stream",
       "stream": "stderr",
       "text": []
      }
     ],
     "prompt_number": 12
    },
    {
     "cell_type": "code",
     "collapsed": false,
     "input": [
      "implicit val random = new scala.util.Random(0)\n",
      "implicit val d = new DiffList"
     ],
     "language": "python",
     "metadata": {},
     "outputs": [
      {
       "output_type": "stream",
       "stream": "stdout",
       "text": []
      },
      {
       "output_type": "stream",
       "stream": "stderr",
       "text": []
      },
      {
       "metadata": {},
       "output_type": "pyout",
       "prompt_number": 13,
       "text": [
        "DiffList()"
       ]
      }
     ],
     "prompt_number": 13
    },
    {
     "cell_type": "code",
     "collapsed": false,
     "input": [
      "object spinDomain extends CategoricalDomain[Char]"
     ],
     "language": "python",
     "metadata": {},
     "outputs": [
      {
       "output_type": "stream",
       "stream": "stdout",
       "text": []
      },
      {
       "output_type": "stream",
       "stream": "stderr",
       "text": []
      },
      {
       "metadata": {},
       "output_type": "pyout",
       "prompt_number": 14,
       "text": [
        "CategoricalDomain[](0)"
       ]
      }
     ],
     "prompt_number": 14
    },
    {
     "cell_type": "code",
     "collapsed": false,
     "input": [
      "//object spinDomain extends CategoricalDomain[Char](List('a', 'b'))"
     ],
     "language": "python",
     "metadata": {},
     "outputs": [
      {
       "output_type": "stream",
       "stream": "stdout",
       "text": []
      },
      {
       "output_type": "stream",
       "stream": "stderr",
       "text": []
      },
      {
       "ename": "",
       "evalue": "",
       "output_type": "pyerr",
       "traceback": [
        "incomplete"
       ]
      }
     ],
     "prompt_number": 15
    },
    {
     "cell_type": "code",
     "collapsed": false,
     "input": [
      "//object spinDomain extends CategoricalDomain[Char](List('a', 'r', 'n', 'd', 'c', 'q', 'e', 'g', 'h', 'i', 'l', 'k', 'm', 'f', 'p', 's', 't', 'w', 'y', 'v', '-'))  "
     ],
     "language": "python",
     "metadata": {},
     "outputs": [
      {
       "ename": "",
       "evalue": "",
       "output_type": "pyerr",
       "traceback": [
        "incomplete"
       ]
      },
      {
       "output_type": "stream",
       "stream": "stderr",
       "text": []
      },
      {
       "output_type": "stream",
       "stream": "stdout",
       "text": []
      }
     ],
     "prompt_number": 16
    },
    {
     "cell_type": "code",
     "collapsed": false,
     "input": [
      "class Spin(startvalue: Char, val i: Int) extends CategoricalVariable[Char](startvalue){\n",
      "    def domain = spinDomain\n",
      "    var cont: IndexedSeq[Spin] = null\n",
      "    def setContainer(c: IndexedSeq[Spin]): Unit = {this.cont = c}\n",
      "    override def toString = this.value.toString\n",
      "    \n",
      "}"
     ],
     "language": "python",
     "metadata": {},
     "outputs": [
      {
       "output_type": "stream",
       "stream": "stdout",
       "text": []
      },
      {
       "output_type": "stream",
       "stream": "stderr",
       "text": []
      }
     ],
     "prompt_number": 17
    },
    {
     "cell_type": "code",
     "collapsed": false,
     "input": [
      "def generateSpinVector(s: String): IndexedSeq[Spin] = {\n",
      "    val variables = for((s, i) <- s.zipWithIndex) yield new Spin(s, i)\n",
      "    variables.foreach(_.setContainer(variables))\n",
      "    variables\n",
      "}"
     ],
     "language": "python",
     "metadata": {},
     "outputs": [
      {
       "output_type": "stream",
       "stream": "stdout",
       "text": []
      },
      {
       "output_type": "stream",
       "stream": "stderr",
       "text": []
      }
     ],
     "prompt_number": 18
    },
    {
     "cell_type": "code",
     "collapsed": false,
     "input": [
      "class SpinContainer(values: String){\n",
      "    val variables = for((s, i) <- values.zipWithIndex) yield new Spin(s, i)\n",
      "    //variables.foreach(_.setContainer(this))\n",
      "    def apply(i: Int) = variables(i)\n",
      "}"
     ],
     "language": "python",
     "metadata": {},
     "outputs": [
      {
       "output_type": "stream",
       "stream": "stderr",
       "text": []
      },
      {
       "output_type": "stream",
       "stream": "stdout",
       "text": []
      }
     ],
     "prompt_number": 19
    },
    {
     "cell_type": "code",
     "collapsed": false,
     "input": [
      "import cc.factorie.model.{Parameters, Model, Factor, DotFamilyWithStatistics1, DotFamilyWithStatistics2}\n",
      "import cc.factorie.la.{DenseTensor1, DenseTensor2}"
     ],
     "language": "python",
     "metadata": {},
     "outputs": [
      {
       "output_type": "stream",
       "stream": "stdout",
       "text": []
      },
      {
       "output_type": "stream",
       "stream": "stderr",
       "text": []
      }
     ],
     "prompt_number": 20
    },
    {
     "cell_type": "code",
     "collapsed": false,
     "input": [
      "class PottsModel(val num: Int, val spinDomain: CategoricalDomain[Char]) extends Model with Parameters {\n",
      "    val domSize = spinDomain.size\n",
      "    \n",
      "    val localFamilies = for(i <- 0 until num) yield new DotFamilyWithStatistics1[Spin] {val weights = Weights(new DenseTensor1(domSize))}\n",
      "    \n",
      "    val pairwiseFamilies = Map[(Int, Int), DotFamilyWithStatistics2[Spin, Spin]]()\n",
      "    for(i <- 0 until num; j <- 0 until num if i < j) { \n",
      "        pairwiseFamilies += ((i, j) -> new DotFamilyWithStatistics2[Spin, Spin] {\n",
      "            val weights = Weights(new DenseTensor2(domSize, domSize))\n",
      "        })\n",
      "    }\n",
      "            \n",
      "    def factors(variables: Iterable[Var]): Iterable[Factor] = {\n",
      "        val results = new ArrayBuffer[Factor]\n",
      "        \n",
      "        val spins = variables collect {case s: Spin => s}\n",
      "        \n",
      "        for(s <- spins){\n",
      "                val i = s.i\n",
      "                val localFamiliy = localFamilies(i)\n",
      "                results += localFamiliy.Factor(s)\n",
      "                \n",
      "                val spinContainer = s.cont\n",
      "                val pKeys = pairwiseFamilies.keys.filter((k: Pair[Int, Int]) => k._1 == i || k._2 == i)\n",
      "                for(k <- pKeys) {\n",
      "                    val pairwiseFamily = pairwiseFamilies(k)\n",
      "                    results += pairwiseFamily.Factor(spinContainer(k._1), spinContainer(k._2))\n",
      "                }\n",
      "        }\n",
      "        results\n",
      "    }\n",
      "    \n",
      "    \n",
      "}"
     ],
     "language": "python",
     "metadata": {},
     "outputs": [
      {
       "output_type": "stream",
       "stream": "stdout",
       "text": []
      },
      {
       "output_type": "stream",
       "stream": "stderr",
       "text": []
      }
     ],
     "prompt_number": 21
    },
    {
     "cell_type": "code",
     "collapsed": false,
     "input": [
      "val myData = List(\"edevaeddf-\",\"edeevefqvc\",\"pdcefslqvs\",\"metcgslive\",\"mecfgtiwev\",\"geqmgtfnev\",\"gwp-aaeqlt\",\"fpieawq-w-\",\"ypicrwqtw-\",\"ypndpwqet-\",\"enmwnwygtv\",\"aepqcepgeq\",\"edegcgdglm\",\"edpqpgdewm\",\"edevigrhlm\",\"edkpsgdqlm\",\"qdpesgdqcm\",\"edfvpgdfpm\",\"edetpgdspm\",\"edwwpgffpm\",\"edwmpifkpw\",\"pmwvfiefpc\",\"pawwwikdfc\",\"prhfkgkdsc\",\"mpeemvtgqf\",\"mtepmvqp-e\",\"kptcmqwpae\",\"ketgdqwqce\",\"pcvqee-eee\",\"fdvqddneem\",\"qppqlgddnm\",\"qdwqpeleqm\",\"p-dkpkedqp\",\"pcgwlffewv\",\"dewwpeepfm\",\"dpcdceeppt\",\"decqlpehpt\",\"dccqppg-lm\",\"fcqqeppecm\",\"fnfqepeecm\",\"fmeqepaeit\",\"deegkpemig\",\"dpgekfepw-\",\"dppnffqcg-\",\"dqpvfwqewm\",\"dpiqaweelm\",\"dciqvweegm\",\"dpiqvwqefv\",\"egeqhwqdfm\",\"esmqwwqvvm\",\"dppkcwekvm\",\"acmvcfekvm\",\"dppvcgeecm\",\"dppvvsepcm\",\"qvp-sgfqvm\",\"qdsevmdqcw\",\"epeevmeqcw\",\"dpepvpqncy\",\"dpepvmepfg\",\"dpedemeqcg\",\"dpveemevvg\",\"dpdevlqqlg\",\"dqeevtglwg\",\"dqyeff-yee\",\"dcmefc-teg\",\"dpeefmdgwg\",\"dvqgalgcgg\",\"dpedfpepqe\",\"dqfgpe-ctd\",\"demhpe-cnm\",\"de-vte-mpq\",\"deevichkpg\",\"dsqlkldfpt\",\"dqpqkedfpy\",\"dshgkgdfpg\",\"dpprkgefpg\",\"dqprcggceq\",\"dwfeeggqcm\",\"ymf-pvgns-\",\"dwempc-gt-\",\"edtgpmfetp\",\"qveypefet-\",\"pmcvpefdtm\",\"edvyaedfcw\",\"eddwv-gecw\",\"eddrktdewp\",\"edvwptdewp\",\"edddptveqp\",\"ewlyp-flqe\",\"dvr-feelae\",\"plwefdeqee\",\"pmqeffyqee\",\"wdvesvvgee\",\"nfqestvree\",\"wrhfmvtvee\",\"mpeggqcgae\",\"vppqdev-ge\",\"vwtydpvmne\",\"vpeqdwqsqe\",\"vpwgpieewe\",\"dpwqptqewh\",\"epfawtdewh\",\"drlpitqcwf\",\"dpepifqpwg\",\"dwtpfqep-g\",\"dppgfgep-h\",\"dqwnwigpan\",\"dpwwlgkdvl\",\"gswtfgdigl\",\"gqpkwgkpfl\",\"dpfwvgepnm\",\"dwegvggcnl\",\"dseivmdpfl\",\"ddegvedpft\",\"qdegiedp-t\",\"qdvwiedpfm\",\"qdvqvedpnm\",\"edeedldqcw\",\"edkpt-qqpw\",\"emept-fqpw\",\"eykps-dypw\",\"edemtmdepw\",\"elwqi-ifpw\",\"ewapvirqc-\",\"epwefyfhgn\",\"edt-fadqev\",\"edwefadqen\",\"edyefadqe-\",\"edymctvwev\",\"ey-ectvqen\",\"wvleccevvi\",\"dpmdceecvm\",\"decdve-vve\",\"pqcgfeskae\",\"pdcffefkae\",\"edfvweddfq\",\"mppeweggpq\",\"mepgwgpgpq\",\"mqpgpgkgpq\",\"-wwgwgefpq\",\"tkpgwgtfpq\",\"mpkgwvtgeq\",\"mawgfvvgee\",\"evvghwqew-\",\"dpismwepes\",\"dpipfadteh\",\"dpfafageqa\",\"dqqgfveelg\",\"dqwqpvgelm\",\"dqcqlpeest\",\"dpw-wpgnlt\",\"dpp-we-ntt\",\"drppwwqelt\",\"dpigawqpfq\",\"dwiaewqelq\",\"dmigvweelq\",\"drgiteeplq\",\"dpmeteeqlq\",\"dcmetefqlv\",\"edgdvfdqcw\",\"edepvmdqcw\",\"edcefmfqcw\",\"eywpvmfqcm\",\"pde-vcsqcm\",\"pyevv-ftkm\",\"pdempwlnt-\",\"pdgspwgdt-\",\"ew-dtwgdt-\",\"ypeetvcglg\",\"ypeepqcqsg\",\"ypseppvwpg\",\"vagepgpwsm\",\"clwvpgedpm\",\"eigvppafpm\",\"evcmppafpn\",\"eyweppvlqe\",\"cpfpphegqp\",\"-mmgerdgae\",\"-pvgfeewhe\",\"ypvsaedege\",\"qpggvppegp\",\"edews-degw\",\"edelvmdhcw\",\"epeedmfwcg\",\"vpnedmeafg\",\"dqeqkf-prg\",\"dqhskm-pfg\",\"dqcgvmppfg\",\"dffpemepcd\",\"nctkeepvcq\",\"pcveeepqcq\",\"pkveeefqcq\",\"pmeee-fqcq\",\"pddeeefqcq\",\"pmveeefqfq\",\"mvvevepdfq\",\"pfeeeefdfq\",\"cdfeeegdfq\",\"p-veieeqfq\",\"pieeeeedfq\",\"pedeee-dfm\",\"pmvveepdfq\",\"f-peegeleq\",\"wneetdeqpq\",\"vitep-ewpp\",\"pdqkpiflqp\",\"pgwppiglqp\",\"edwkpsdvqp\",\"eddknedfdp\",\"edvvhedfdw\",\"edpvtedge-\",\"ngmmcavgtv\",\"avqhgwfgtm\",\"akppqwtnlm\",\"emfqpvperm\",\"yeeqpmndpm\",\"cdwwpgpfpm\",\"epwcpgnfpm\",\"cpwgppmfpp\",\"cfgwepmfcp\",\"cfewemnfcw\",\"ndalvmdqcw\",\"edeedmdacw\",\"edetvmdgcw\",\"edepeefgsm\",\"qvvqsdfecm\",\"qtewvedecm\",\"qdevigdpfq\",\"edeqivqpfg\",\"dpegvfeecv\",\"degqkeltem\",\"deq-gd-qfm\",\"pme-vm-qcm\",\"qdeqemdecm\",\"qdeqved-cm\",\"qdclvedelm\",\"qd-vttdklv\",\"eplwtepelm\",\"qpcyvelpcm\",\"qdcqsddeem\",\"qvvqfefegm\",\"dmvtveetit\",\"dlwgwpeplt\",\"dpfywpeeim\",\"derqfgeelm\",\"dmfqppeepm\",\"fpcqpee-pm\",\"ypcqppc-pm\",\"ypgqppe-pm\",\"dpfhpge-pm\",\"dpw-p-eelm\",\"dcwvfgefpq\",\"dewvtgefpm\",\"deewpgnfpm\",\"dewwpgkcpm\",\"ircdqpefpw\",\"eievtqvfhw\",\"eplrtqqvrw\",\"deevtqwkpw\",\"p-evt-ffpw\",\"nrlltmq-pw\",\"wemntwq-d-\",\"yppntwqpd-\",\"dplmlwqplv\",\"dp-qtwqplm\",\"dr-qftqeee\",\"dedqftqeee\",\"dpwqftdeqe\",\"dseqqrdeee\",\"ed-qftpewe\",\"pcwwfmpvve\",\"mweeg-tdee\",\"mdeefvdgae\",\"edvgfedkae\",\"edqpredkae\",\"edpvfedkvm\",\"edcppedkpm\",\"edcvppdflm\",\"emw-sgrewm\",\"epevvfrevm\",\"ypeqfgrewm\",\"dppqfdepwg\",\"dettfyqpw-\",\"dewrft-ewd\",\"dqqqef-ewm\",\"demqfe-eie\",\"dpwqfpeeim\",\"dmfqfpeegm\",\"qmwvfpeevm\",\"dpwqfgneem\",\"dewqfgkegg\",\"dppykgdveq\",\"dphvigereq\",\"rwavqgeypq\",\"fppergcfpq\",\"mpedqvcdpq\",\"mieetgnqpq\",\"wefetgiqpq\",\"deqetgnqpq\",\"aekewgiipq\",\"mpfewge-pq\",\"dgpelggply\",\"depgtweew-\",\"de-qptqew-\",\"plesitgswp\",\"edeestdvwf\",\"edfcrtdfw-\",\"ed-cptdaw-\",\"edqtsldew-\",\"edqqptdewm\",\"edaqpgdeem\",\"edfqcadeev\",\"eddwitdfep\",\"edcgftddme\",\"edpfhedgve\",\"edvgfefkae\",\"pdewielkae\",\"pdevve-dv-\",\"pedvpekdt-\",\"pfcmiekdfq\",\"pevteepdfq\",\"kaigegdelq\",\"g-egyveela\",\"seqg-vwfea\",\"ktteeapdeq\",\"pegeegkqcm\",\"pqp-egpcem\",\"fqywfqferw\",\"dkfpvqtpfg\",\"dqak-mspcp\",\"pdqyemseqp\",\"pdhspafpqp\",\"qqgtspep-m\",\"dmgpppegpm\",\"-apvtgdwpm\",\"-peppgvwpm\",\"vpkfpgvwcm\",\"vsfdvgnqcm\",\"edfmsgdncm\",\"qdp-egdqcm\",\"edfpvgdncn\",\"ede-vedqfq\",\"edeeeeddtr\",\"edtqledeth\",\"depgqe-cnd\",\"decwmeecae\",\"--cdmirwhp\",\"wpapsiecqp\",\"dpwtmpeewp\",\"defqsveeqm\",\"dcevtkgegm\",\"mwgvdpgeic\",\"fwgldgvelq\",\"vpwdqvrmlq\",\"vpeeqgcqpq\",\"epwepefqsm\",\"ipt-pewqpm\",\"pvcepgkqpq\",\"pefewgplqf\",\"rpppqgeg-m\",\"apevigep-m\",\"dpappgep-g\",\"dqwpfiepfg\",\"dpwqkmepfg\",\"dwnegm-pfg\",\"drecvmepfg\",\"dpegvmdpft\",\"dpegvngpll\",\"ddegvggpft\",\"qqfpwpep-t\",\"dpfqwpep-t\",\"dedgweep-t\",\"dmpkffep-g\",\"dppgffepws\",\"dwpgftetee\",\"dmwgfiegew\",\"epwphtvhew\",\"eppdftkwee\",\"dqcwfelmee\",\"dppffedtae\",\"ddmdfedvve\",\"edwkfsdhem\",\"edp-cgdqcm\",\"elt-fedqee\",\"edvefedevq\",\"drcveedk-w\",\"dptvfregew\",\"dmvek-etcq\",\"dpstdcencg\",\"vwecvmewcg\",\"vpfeemnwcg\",\"vfefemhwcd\",\"gevpeerpwd\",\"gqdgeqrv-d\",\"pddgeqfqcq\",\"pnteiesgtq\",\"pdcgdeigte\",\"qdvgledeqe\",\"hdcqerfeem\",\"hdi-aafeim\",\"etiqewqeqt\",\"dpmgcwqp--\",\"dslqwwqp-t\",\"dpipcwqp-t\",\"dplriqqpkg\",\"dpepiqepwg\",\"dpelfpep-w\",\"dpwpfikp-s\",\"dqwglgkp-y\",\"dpmgtfepqy\",\"dpeit-vmpw\",\"vwlmt-v-pq\",\"fpttdedine\",\"kdcvdedeae\",\"lqgqdepdae\",\"kevgdepkae\",\"lwpgfeecae\",\"deqgfemcve\",\"lfvgfemecq\",\"fevveepfcw\",\"pcmrtmkqpw\",\"pdeet-fqcw\",\"eddpveggck\",\"edeavedefw\",\"dpfsemfpcg\",\"knesempsws\",\"sqieawpswm\",\"cpiweweecm\",\"dppqvdeegt\",\"dpdqapeett\",\"dpeqkeeect\",\"dppgsdeedt\",\"dhdwteetcw\",\"dsqdfndwee\",\"-gcgftdwee\",\"-veeefageq\",\"svvgecpgeq\",\"ageevvtgea\",\"awyafagiea\",\"dwwafpetea\",\"eleaeigiha\",\"sdwhwikiha\",\"pvwawifitc\",\"ppmfvwfcwc\",\"ediea-dwwc\",\"edetv-dewc\",\"eseefqffwc\",\"edpwffqewv\",\"qdpdawdef-\",\"epi-wwqefm\",\"eppqcwqde-\",\"metemtpqaf\",\"-gqe-edqcp\",\"-dwepgdwwc\",\"edpfftv-gc\",\"gwclfpm-gl\",\"gewlfpm-gm\",\"aewpfeiege\",\"dicqeeieem\",\"qqe-itqlem\",\"p-e-vtewvl\",\"gpewvgevql\",\"dpldwsecvn\",\"dwpecs-qe-\",\"ewpwcf-dvw\",\"pepgffmkre\",\"p-efetedap\",\"fwqwdepct-\",\"fvvcdwqet-\",\"kpegdwqfdq\",\"cpglnwlflm\",\"edfgwp-eqt\",\"pdfqwhs-qe\",\"wmflptqeee\",\"ymdemfedae\",\"wftqtdp-pl\",\"wm-cmes-pe\",\"w-cepeefqe\",\"wlcwfew-ge\",\"wvvqfqw-ke\",\"w-vqdqwvae\",\"wkeeeqtdae\",\"pcmqwepdvt\",\"fnqewnpqnq\",\"mqaedgpqlq\",\"mngeqgpqpq\",\"eepewgaqfq\",\"mepewgpqpq\",\"pcfewgkqsq\",\"tcfewgetpq\",\"twfrwggieq\",\"mcfmwgpefh\",\"mevgdekpfe\",\"kfffeewdvq\",\"cpdfwefcfv\",\"empwwetef-\",\"mffwwekdae\",\"py-yfekdae\",\"petgeepkae\")\n",
      "val myVaribs = for(e <- myData) yield generateSpinVector(e)\n"
     ],
     "language": "python",
     "metadata": {},
     "outputs": [
      {
       "output_type": "stream",
       "stream": "stderr",
       "text": []
      },
      {
       "output_type": "stream",
       "stream": "stdout",
       "text": []
      },
      {
       "metadata": {},
       "output_type": "pyout",
       "prompt_number": 22,
       "text": [
        "List(Vector(e, d, e, v, a, e, d, d, f, -), Vector(e, d, e, e, v, e, f, q, v, c), Vector(p, d, c, e, f, s, l, q, v, s), Vector(m, e, t, c, g, s, l, i, v, e), Vector(m, e, c, f, g, t, i, w, e, v), Vector(g, e, q, m, g, t, f, n, e, v), Vector(g, w, p, -, a, a, e, q, l, t), Vector(f, p, i, e, a, w, q, -, w, -), Vector(y, p, i, c, r, w, q, t, w, -), Vector(y, p, n, d, p, w, q, e, t, -), Vector(e, n, m, w, n, w, y, g, t, v), Vector(a, e, p, q, c, e, p, g, e, q), Vector(e, d, e, g, c, g, d, g, l, m), Vector(e, d, p, q, p, g, d, e, w, m), Vector(e, d, e, v, i, g, r, h, l, m), Vector(e, d, k, p, s, g, d, q, l, m), Vector(q, d, p, e, s, g, d, q, c, m), Vector(e, d, f, v, p, g, d, f, p, m), Vector(e, d, e, t, p, g, d, s, p, m), Vector(e, d, w, w, p, g, f, f, p, m), Vector(e, d, w, m, p, i, f, k, p, w), Vector(p, m, w, v, f, i, e, f, p, c), Vector(p, a, w, w, w, i, k, d, f, c), Vector(p, r, h, f, k, g, k, d, s, c), Vector(m, p, e, e, m, v, t, g, q, f), Vector(m, t, e, p, m, v, q, p, -, e), Vector(k, p, t, c, m, q, w, p, a, e), Vector(k, e, t, g, d, q, w, q, c, e), Vector(p, c, v, q, e, e, -, e, e, e), Vector(f, d, v, q, d, d, n, e, e, m), Vector(q, p, p, q, l, g, d, d, n, m), Vector(q, d, w, q, p, e, l, e, q, m), Vector(p, -, d, k, p, k, e, d, q, p), Vector(p, c, g, w, l, f, f, e, w, v), Vector(d, e, w, w, p, e, e, p, f, m), Vector(d, p, c, d, c, e, e, p, p, t), Vector(d, e, c, q, l, p, e, h, p, t), Vector(d, c, c, q, p, p, g, -, l, m), Vector(f, c, q, q, e, p, p, e, c, m), Vector(f, n, f, q, e, p, e, e, c, m), Vector(f, m, e, q, e, p, a, e, i, t), Vector(d, e, e, g, k, p, e, m, i, g), Vector(d, p, g, e, k, f, e, p, w, -), Vector(d, p, p, n, f, f, q, c, g, -), Vector(d, q, p, v, f, w, q, e, w, m), Vector(d, p, i, q, a, w, e, e, l, m), Vector(d, c, i, q, v, w, e, e, g, m), Vector(d, p, i, q, v, w, q, e, f, v), Vector(e, g, e, q, h, w, q, d, f, m), Vector(e, s, m, q, w, w, q, v, v, m), Vector(d, p, p, k, c, w, e, k, v, m), Vector(a, c, m, v, c, f, e, k, v, m), Vector(d, p, p, v, c, g, e, e, c, m), Vector(d, p, p, v, v, s, e, p, c, m), Vector(q, v, p, -, s, g, f, q, v, m), Vector(q, d, s, e, v, m, d, q, c, w), Vector(e, p, e, e, v, m, e, q, c, w), Vector(d, p, e, p, v, p, q, n, c, y), Vector(d, p, e, p, v, m, e, p, f, g), Vector(d, p, e, d, e, m, e, q, c, g), Vector(d, p, v, e, e, m, e, v, v, g), Vector(d, p, d, e, v, l, q, q, l, g), Vector(d, q, e, e, v, t, g, l, w, g), Vector(d, q, y, e, f, f, -, y, e, e), Vector(d, c, m, e, f, c, -, t, e, g), Vector(d, p, e, e, f, m, d, g, w, g), Vector(d, v, q, g, a, l, g, c, g, g), Vector(d, p, e, d, f, p, e, p, q, e), Vector(d, q, f, g, p, e, -, c, t, d), Vector(d, e, m, h, p, e, -, c, n, m), Vector(d, e, -, v, t, e, -, m, p, q), Vector(d, e, e, v, i, c, h, k, p, g), Vector(d, s, q, l, k, l, d, f, p, t), Vector(d, q, p, q, k, e, d, f, p, y), Vector(d, s, h, g, k, g, d, f, p, g), Vector(d, p, p, r, k, g, e, f, p, g), Vector(d, q, p, r, c, g, g, c, e, q), Vector(d, w, f, e, e, g, g, q, c, m), Vector(y, m, f, -, p, v, g, n, s, -), Vector(d, w, e, m, p, c, -, g, t, -), Vector(e, d, t, g, p, m, f, e, t, p), Vector(q, v, e, y, p, e, f, e, t, -), Vector(p, m, c, v, p, e, f, d, t, m), Vector(e, d, v, y, a, e, d, f, c, w), Vector(e, d, d, w, v, -, g, e, c, w), Vector(e, d, d, r, k, t, d, e, w, p), Vector(e, d, v, w, p, t, d, e, w, p), Vector(e, d, d, d, p, t, v, e, q, p), Vector(e, w, l, y, p, -, f, l, q, e), Vector(d, v, r, -, f, e, e, l, a, e), Vector(p, l, w, e, f, d, e, q, e, e), Vector(p, m, q, e, f, f, y, q, e, e), Vector(w, d, v, e, s, v, v, g, e, e), Vector(n, f, q, e, s, t, v, r, e, e), Vector(w, r, h, f, m, v, t, v, e, e), Vector(m, p, e, g, g, q, c, g, a, e), Vector(v, p, p, q, d, e, v, -, g, e), Vector(v, w, t, y, d, p, v, m, n, e), Vector(v, p, e, q, d, w, q, s, q, e), Vector(v, p, w, g, p, i, e, e, w, e), Vector(d, p, w, q, p, t, q, e, w, h), Vector(e, p, f, a, w, t, d, e, w, h), Vector(d, r, l, p, i, t, q, c, w, f), Vector(d, p, e, p, i, f, q, p, w, g), Vector(d, w, t, p, f, q, e, p, -, g), Vector(d, p, p, g, f, g, e, p, -, h), Vector(d, q, w, n, w, i, g, p, a, n), Vector(d, p, w, w, l, g, k, d, v, l), Vector(g, s, w, t, f, g, d, i, g, l), Vector(g, q, p, k, w, g, k, p, f, l), Vector(d, p, f, w, v, g, e, p, n, m), Vector(d, w, e, g, v, g, g, c, n, l), Vector(d, s, e, i, v, m, d, p, f, l), Vector(d, d, e, g, v, e, d, p, f, t), Vector(q, d, e, g, i, e, d, p, -, t), Vector(q, d, v, w, i, e, d, p, f, m), Vector(q, d, v, q, v, e, d, p, n, m), Vector(e, d, e, e, d, l, d, q, c, w), Vector(e, d, k, p, t, -, q, q, p, w), Vector(e, m, e, p, t, -, f, q, p, w), Vector(e, y, k, p, s, -, d, y, p, w), Vector(e, d, e, m, t, m, d, e, p, w), Vector(e, l, w, q, i, -, i, f, p, w), Vector(e, w, a, p, v, i, r, q, c, -), Vector(e, p, w, e, f, y, f, h, g, n), Vector(e, d, t, -, f, a, d, q, e, v), Vector(e, d, w, e, f, a, d, q, e, n), Vector(e, d, y, e, f, a, d, q, e, -), Vector(e, d, y, m, c, t, v, w, e, v), Vector(e, y, -, e, c, t, v, q, e, n), Vector(w, v, l, e, c, c, e, v, v, i), Vector(d, p, m, d, c, e, e, c, v, m), Vector(d, e, c, d, v, e, -, v, v, e), Vector(p, q, c, g, f, e, s, k, a, e), Vector(p, d, c, f, f, e, f, k, a, e), Vector(e, d, f, v, w, e, d, d, f, q), Vector(m, p, p, e, w, e, g, g, p, q), Vector(m, e, p, g, w, g, p, g, p, q), Vector(m, q, p, g, p, g, k, g, p, q), Vector(-, w, w, g, w, g, e, f, p, q), Vector(t, k, p, g, w, g, t, f, p, q), Vector(m, p, k, g, w, v, t, g, e, q), Vector(m, a, w, g, f, v, v, g, e, e), Vector(e, v, v, g, h, w, q, e, w, -), Vector(d, p, i, s, m, w, e, p, e, s), Vector(d, p, i, p, f, a, d, t, e, h), Vector(d, p, f, a, f, a, g, e, q, a), Vector(d, q, q, g, f, v, e, e, l, g), Vector(d, q, w, q, p, v, g, e, l, m), Vector(d, q, c, q, l, p, e, e, s, t), Vector(d, p, w, -, w, p, g, n, l, t), Vector(d, p, p, -, w, e, -, n, t, t), Vector(d, r, p, p, w, w, q, e, l, t), Vector(d, p, i, g, a, w, q, p, f, q), Vector(d, w, i, a, e, w, q, e, l, q), Vector(d, m, i, g, v, w, e, e, l, q), Vector(d, r, g, i, t, e, e, p, l, q), Vector(d, p, m, e, t, e, e, q, l, q), Vector(d, c, m, e, t, e, f, q, l, v), Vector(e, d, g, d, v, f, d, q, c, w), Vector(e, d, e, p, v, m, d, q, c, w), Vector(e, d, c, e, f, m, f, q, c, w), Vector(e, y, w, p, v, m, f, q, c, m), Vector(p, d, e, -, v, c, s, q, c, m), Vector(p, y, e, v, v, -, f, t, k, m), Vector(p, d, e, m, p, w, l, n, t, -), Vector(p, d, g, s, p, w, g, d, t, -), Vector(e, w, -, d, t, w, g, d, t, -), Vector(y, p, e, e, t, v, c, g, l, g), Vector(y, p, e, e, p, q, c, q, s, g), Vector(y, p, s, e, p, p, v, w, p, g), Vector(v, a, g, e, p, g, p, w, s, m), Vector(c, l, w, v, p, g, e, d, p, m), Vector(e, i, g, v, p, p, a, f, p, m), Vector(e, v, c, m, p, p, a, f, p, n), Vector(e, y, w, e, p, p, v, l, q, e), Vector(c, p, f, p, p, h, e, g, q, p), Vector(-, m, m, g, e, r, d, g, a, e), Vector(-, p, v, g, f, e, e, w, h, e), Vector(y, p, v, s, a, e, d, e, g, e), Vector(q, p, g, g, v, p, p, e, g, p), Vector(e, d, e, w, s, -, d, e, g, w), Vector(e, d, e, l, v, m, d, h, c, w), Vector(e, p, e, e, d, m, f, w, c, g), Vector(v, p, n, e, d, m, e, a, f, g), Vector(d, q, e, q, k, f, -, p, r, g), Vector(d, q, h, s, k, m, -, p, f, g), Vector(d, q, c, g, v, m, p, p, f, g), Vector(d, f, f, p, e, m, e, p, c, d), Vector(n, c, t, k, e, e, p, v, c, q), Vector(p, c, v, e, e, e, p, q, c, q), Vector(p, k, v, e, e, e, f, q, c, q), Vector(p, m, e, e, e, -, f, q, c, q), Vector(p, d, d, e, e, e, f, q, c, q), Vector(p, m, v, e, e, e, f, q, f, q), Vector(m, v, v, e, v, e, p, d, f, q), Vector(p, f, e, e, e, e, f, d, f, q), Vector(c, d, f, e, e, e, g, d, f, q), Vector(p, -, v, e, i, e, e, q, f, q), Vector(p, i, e, e, e, e, e, d, f, q), Vector(p, e, d, e, e, e, -, d, f, m), Vector(p, m, v, v, e, e, p, d, f, q), Vector(f, -, p, e, e, g, e, l, e, q), Vector(w, n, e, e, t, d, e, q, p, q), Vector(v, i, t, e, p, -, e, w, p, p), Vector(p, d, q, k, p, i, f, l, q, p), Vector(p, g, w, p, p, i, g, l, q, p), Vector(e, d, w, k, p, s, d, v, q, p), Vector(e, d, d, k, n, e, d, f, d, p), Vector(e, d, v, v, h, e, d, f, d, w), Vector(e, d, p, v, t, e, d, g, e, -), Vector(n, g, m, m, c, a, v, g, t, v), Vector(a, v, q, h, g, w, f, g, t, m), Vector(a, k, p, p, q, w, t, n, l, m), Vector(e, m, f, q, p, v, p, e, r, m), Vector(y, e, e, q, p, m, n, d, p, m), Vector(c, d, w, w, p, g, p, f, p, m), Vector(e, p, w, c, p, g, n, f, p, m), Vector(c, p, w, g, p, p, m, f, p, p), Vector(c, f, g, w, e, p, m, f, c, p), Vector(c, f, e, w, e, m, n, f, c, w), Vector(n, d, a, l, v, m, d, q, c, w), Vector(e, d, e, e, d, m, d, a, c, w), Vector(e, d, e, t, v, m, d, g, c, w), Vector(e, d, e, p, e, e, f, g, s, m), Vector(q, v, v, q, s, d, f, e, c, m), Vector(q, t, e, w, v, e, d, e, c, m), Vector(q, d, e, v, i, g, d, p, f, q), Vector(e, d, e, q, i, v, q, p, f, g), Vector(d, p, e, g, v, f, e, e, c, v), Vector(d, e, g, q, k, e, l, t, e, m), Vector(d, e, q, -, g, d, -, q, f, m), Vector(p, m, e, -, v, m, -, q, c, m), Vector(q, d, e, q, e, m, d, e, c, m), Vector(q, d, e, q, v, e, d, -, c, m), Vector(q, d, c, l, v, e, d, e, l, m), Vector(q, d, -, v, t, t, d, k, l, v), Vector(e, p, l, w, t, e, p, e, l, m), Vector(q, p, c, y, v, e, l, p, c, m), Vector(q, d, c, q, s, d, d, e, e, m), Vector(q, v, v, q, f, e, f, e, g, m), Vector(d, m, v, t, v, e, e, t, i, t), Vector(d, l, w, g, w, p, e, p, l, t), Vector(d, p, f, y, w, p, e, e, i, m), Vector(d, e, r, q, f, g, e, e, l, m), Vector(d, m, f, q, p, p, e, e, p, m), Vector(f, p, c, q, p, e, e, -, p, m), Vector(y, p, c, q, p, p, c, -, p, m), Vector(y, p, g, q, p, p, e, -, p, m), Vector(d, p, f, h, p, g, e, -, p, m), Vector(d, p, w, -, p, -, e, e, l, m), Vector(d, c, w, v, f, g, e, f, p, q), Vector(d, e, w, v, t, g, e, f, p, m), Vector(d, e, e, w, p, g, n, f, p, m), Vector(d, e, w, w, p, g, k, c, p, m), Vector(i, r, c, d, q, p, e, f, p, w), Vector(e, i, e, v, t, q, v, f, h, w), Vector(e, p, l, r, t, q, q, v, r, w), Vector(d, e, e, v, t, q, w, k, p, w), Vector(p, -, e, v, t, -, f, f, p, w), Vector(n, r, l, l, t, m, q, -, p, w), Vector(w, e, m, n, t, w, q, -, d, -), Vector(y, p, p, n, t, w, q, p, d, -), Vector(d, p, l, m, l, w, q, p, l, v), Vector(d, p, -, q, t, w, q, p, l, m), Vector(d, r, -, q, f, t, q, e, e, e), Vector(d, e, d, q, f, t, q, e, e, e), Vector(d, p, w, q, f, t, d, e, q, e), Vector(d, s, e, q, q, r, d, e, e, e), Vector(e, d, -, q, f, t, p, e, w, e), Vector(p, c, w, w, f, m, p, v, v, e), Vector(m, w, e, e, g, -, t, d, e, e), Vector(m, d, e, e, f, v, d, g, a, e), Vector(e, d, v, g, f, e, d, k, a, e), Vector(e, d, q, p, r, e, d, k, a, e), Vector(e, d, p, v, f, e, d, k, v, m), Vector(e, d, c, p, p, e, d, k, p, m), Vector(e, d, c, v, p, p, d, f, l, m), Vector(e, m, w, -, s, g, r, e, w, m), Vector(e, p, e, v, v, f, r, e, v, m), Vector(y, p, e, q, f, g, r, e, w, m), Vector(d, p, p, q, f, d, e, p, w, g), Vector(d, e, t, t, f, y, q, p, w, -), Vector(d, e, w, r, f, t, -, e, w, d), Vector(d, q, q, q, e, f, -, e, w, m), Vector(d, e, m, q, f, e, -, e, i, e), Vector(d, p, w, q, f, p, e, e, i, m), Vector(d, m, f, q, f, p, e, e, g, m), Vector(q, m, w, v, f, p, e, e, v, m), Vector(d, p, w, q, f, g, n, e, e, m), Vector(d, e, w, q, f, g, k, e, g, g), Vector(d, p, p, y, k, g, d, v, e, q), Vector(d, p, h, v, i, g, e, r, e, q), Vector(r, w, a, v, q, g, e, y, p, q), Vector(f, p, p, e, r, g, c, f, p, q), Vector(m, p, e, d, q, v, c, d, p, q), Vector(m, i, e, e, t, g, n, q, p, q), Vector(w, e, f, e, t, g, i, q, p, q), Vector(d, e, q, e, t, g, n, q, p, q), Vector(a, e, k, e, w, g, i, i, p, q), Vector(m, p, f, e, w, g, e, -, p, q), Vector(d, g, p, e, l, g, g, p, l, y), Vector(d, e, p, g, t, w, e, e, w, -), Vector(d, e, -, q, p, t, q, e, w, -), Vector(p, l, e, s, i, t, g, s, w, p), Vector(e, d, e, e, s, t, d, v, w, f), Vector(e, d, f, c, r, t, d, f, w, -), Vector(e, d, -, c, p, t, d, a, w, -), Vector(e, d, q, t, s, l, d, e, w, -), Vector(e, d, q, q, p, t, d, e, w, m), Vector(e, d, a, q, p, g, d, e, e, m), Vector(e, d, f, q, c, a, d, e, e, v), Vector(e, d, d, w, i, t, d, f, e, p), Vector(e, d, c, g, f, t, d, d, m, e), Vector(e, d, p, f, h, e, d, g, v, e), Vector(e, d, v, g, f, e, f, k, a, e), Vector(p, d, e, w, i, e, l, k, a, e), Vector(p, d, e, v, v, e, -, d, v, -), Vector(p, e, d, v, p, e, k, d, t, -), Vector(p, f, c, m, i, e, k, d, f, q), Vector(p, e, v, t, e, e, p, d, f, q), Vector(k, a, i, g, e, g, d, e, l, q), Vector(g, -, e, g, y, v, e, e, l, a), Vector(s, e, q, g, -, v, w, f, e, a), Vector(k, t, t, e, e, a, p, d, e, q), Vector(p, e, g, e, e, g, k, q, c, m), Vector(p, q, p, -, e, g, p, c, e, m), Vector(f, q, y, w, f, q, f, e, r, w), Vector(d, k, f, p, v, q, t, p, f, g), Vector(d, q, a, k, -, m, s, p, c, p), Vector(p, d, q, y, e, m, s, e, q, p), Vector(p, d, h, s, p, a, f, p, q, p), Vector(q, q, g, t, s, p, e, p, -, m), Vector(d, m, g, p, p, p, e, g, p, m), Vector(-, a, p, v, t, g, d, w, p, m), Vector(-, p, e, p, p, g, v, w, p, m), Vector(v, p, k, f, p, g, v, w, c, m), Vector(v, s, f, d, v, g, n, q, c, m), Vector(e, d, f, m, s, g, d, n, c, m), Vector(q, d, p, -, e, g, d, q, c, m), Vector(e, d, f, p, v, g, d, n, c, n), Vector(e, d, e, -, v, e, d, q, f, q), Vector(e, d, e, e, e, e, d, d, t, r), Vector(e, d, t, q, l, e, d, e, t, h), Vector(d, e, p, g, q, e, -, c, n, d), Vector(d, e, c, w, m, e, e, c, a, e), Vector(-, -, c, d, m, i, r, w, h, p), Vector(w, p, a, p, s, i, e, c, q, p), Vector(d, p, w, t, m, p, e, e, w, p), Vector(d, e, f, q, s, v, e, e, q, m), Vector(d, c, e, v, t, k, g, e, g, m), Vector(m, w, g, v, d, p, g, e, i, c), Vector(f, w, g, l, d, g, v, e, l, q), Vector(v, p, w, d, q, v, r, m, l, q), Vector(v, p, e, e, q, g, c, q, p, q), Vector(e, p, w, e, p, e, f, q, s, m), Vector(i, p, t, -, p, e, w, q, p, m), Vector(p, v, c, e, p, g, k, q, p, q), Vector(p, e, f, e, w, g, p, l, q, f), Vector(r, p, p, p, q, g, e, g, -, m), Vector(a, p, e, v, i, g, e, p, -, m), Vector(d, p, a, p, p, g, e, p, -, g), Vector(d, q, w, p, f, i, e, p, f, g), Vector(d, p, w, q, k, m, e, p, f, g), Vector(d, w, n, e, g, m, -, p, f, g), Vector(d, r, e, c, v, m, e, p, f, g), Vector(d, p, e, g, v, m, d, p, f, t), Vector(d, p, e, g, v, n, g, p, l, l), Vector(d, d, e, g, v, g, g, p, f, t), Vector(q, q, f, p, w, p, e, p, -, t), Vector(d, p, f, q, w, p, e, p, -, t), Vector(d, e, d, g, w, e, e, p, -, t), Vector(d, m, p, k, f, f, e, p, -, g), Vector(d, p, p, g, f, f, e, p, w, s), Vector(d, w, p, g, f, t, e, t, e, e), Vector(d, m, w, g, f, i, e, g, e, w), Vector(e, p, w, p, h, t, v, h, e, w), Vector(e, p, p, d, f, t, k, w, e, e), Vector(d, q, c, w, f, e, l, m, e, e), Vector(d, p, p, f, f, e, d, t, a, e), Vector(d, d, m, d, f, e, d, v, v, e), Vector(e, d, w, k, f, s, d, h, e, m), Vector(e, d, p, -, c, g, d, q, c, m), Vector(e, l, t, -, f, e, d, q, e, e), Vector(e, d, v, e, f, e, d, e, v, q), Vector(d, r, c, v, e, e, d, k, -, w), Vector(d, p, t, v, f, r, e, g, e, w), Vector(d, m, v, e, k, -, e, t, c, q), Vector(d, p, s, t, d, c, e, n, c, g), Vector(v, w, e, c, v, m, e, w, c, g), Vector(v, p, f, e, e, m, n, w, c, g), Vector(v, f, e, f, e, m, h, w, c, d), Vector(g, e, v, p, e, e, r, p, w, d), Vector(g, q, d, g, e, q, r, v, -, d), Vector(p, d, d, g, e, q, f, q, c, q), Vector(p, n, t, e, i, e, s, g, t, q), Vector(p, d, c, g, d, e, i, g, t, e), Vector(q, d, v, g, l, e, d, e, q, e), Vector(h, d, c, q, e, r, f, e, e, m), Vector(h, d, i, -, a, a, f, e, i, m), Vector(e, t, i, q, e, w, q, e, q, t), Vector(d, p, m, g, c, w, q, p, -, -), Vector(d, s, l, q, w, w, q, p, -, t), Vector(d, p, i, p, c, w, q, p, -, t), Vector(d, p, l, r, i, q, q, p, k, g), Vector(d, p, e, p, i, q, e, p, w, g), Vector(d, p, e, l, f, p, e, p, -, w), Vector(d, p, w, p, f, i, k, p, -, s), Vector(d, q, w, g, l, g, k, p, -, y), Vector(d, p, m, g, t, f, e, p, q, y), Vector(d, p, e, i, t, -, v, m, p, w), Vector(v, w, l, m, t, -, v, -, p, q), Vector(f, p, t, t, d, e, d, i, n, e), Vector(k, d, c, v, d, e, d, e, a, e), Vector(l, q, g, q, d, e, p, d, a, e), Vector(k, e, v, g, d, e, p, k, a, e), Vector(l, w, p, g, f, e, e, c, a, e), Vector(d, e, q, g, f, e, m, c, v, e), Vector(l, f, v, g, f, e, m, e, c, q), Vector(f, e, v, v, e, e, p, f, c, w), Vector(p, c, m, r, t, m, k, q, p, w), Vector(p, d, e, e, t, -, f, q, c, w), Vector(e, d, d, p, v, e, g, g, c, k), Vector(e, d, e, a, v, e, d, e, f, w), Vector(d, p, f, s, e, m, f, p, c, g), Vector(k, n, e, s, e, m, p, s, w, s), Vector(s, q, i, e, a, w, p, s, w, m), Vector(c, p, i, w, e, w, e, e, c, m), Vector(d, p, p, q, v, d, e, e, g, t), Vector(d, p, d, q, a, p, e, e, t, t), Vector(d, p, e, q, k, e, e, e, c, t), Vector(d, p, p, g, s, d, e, e, d, t), Vector(d, h, d, w, t, e, e, t, c, w), Vector(d, s, q, d, f, n, d, w, e, e), Vector(-, g, c, g, f, t, d, w, e, e), Vector(-, v, e, e, e, f, a, g, e, q), Vector(s, v, v, g, e, c, p, g, e, q), Vector(a, g, e, e, v, v, t, g, e, a), Vector(a, w, y, a, f, a, g, i, e, a), Vector(d, w, w, a, f, p, e, t, e, a), Vector(e, l, e, a, e, i, g, i, h, a), Vector(s, d, w, h, w, i, k, i, h, a), Vector(p, v, w, a, w, i, f, i, t, c), Vector(p, p, m, f, v, w, f, c, w, c), Vector(e, d, i, e, a, -, d, w, w, c), Vector(e, d, e, t, v, -, d, e, w, c), Vector(e, s, e, e, f, q, f, f, w, c), Vector(e, d, p, w, f, f, q, e, w, v), Vector(q, d, p, d, a, w, d, e, f, -), Vector(e, p, i, -, w, w, q, e, f, m), Vector(e, p, p, q, c, w, q, d, e, -), Vector(m, e, t, e, m, t, p, q, a, f), Vector(-, g, q, e, -, e, d, q, c, p), Vector(-, d, w, e, p, g, d, w, w, c), Vector(e, d, p, f, f, t, v, -, g, c), Vector(g, w, c, l, f, p, m, -, g, l), Vector(g, e, w, l, f, p, m, -, g, m), Vector(a, e, w, p, f, e, i, e, g, e), Vector(d, i, c, q, e, e, i, e, e, m), Vector(q, q, e, -, i, t, q, l, e, m), Vector(p, -, e, -, v, t, e, w, v, l), Vector(g, p, e, w, v, g, e, v, q, l), Vector(d, p, l, d, w, s, e, c, v, n), Vector(d, w, p, e, c, s, -, q, e, -), Vector(e, w, p, w, c, f, -, d, v, w), Vector(p, e, p, g, f, f, m, k, r, e), Vector(p, -, e, f, e, t, e, d, a, p), Vector(f, w, q, w, d, e, p, c, t, -), Vector(f, v, v, c, d, w, q, e, t, -), Vector(k, p, e, g, d, w, q, f, d, q), Vector(c, p, g, l, n, w, l, f, l, m), Vector(e, d, f, g, w, p, -, e, q, t), Vector(p, d, f, q, w, h, s, -, q, e), Vector(w, m, f, l, p, t, q, e, e, e), Vector(y, m, d, e, m, f, e, d, a, e), Vector(w, f, t, q, t, d, p, -, p, l), Vector(w, m, -, c, m, e, s, -, p, e), Vector(w, -, c, e, p, e, e, f, q, e), Vector(w, l, c, w, f, e, w, -, g, e), Vector(w, v, v, q, f, q, w, -, k, e), Vector(w, -, v, q, d, q, w, v, a, e), Vector(w, k, e, e, e, q, t, d, a, e), Vector(p, c, m, q, w, e, p, d, v, t), Vector(f, n, q, e, w, n, p, q, n, q), Vector(m, q, a, e, d, g, p, q, l, q), Vector(m, n, g, e, q, g, p, q, p, q), Vector(e, e, p, e, w, g, a, q, f, q), Vector(m, e, p, e, w, g, p, q, p, q), Vector(p, c, f, e, w, g, k, q, s, q), Vector(t, c, f, e, w, g, e, t, p, q), Vector(t, w, f, r, w, g, g, i, e, q), Vector(m, c, f, m, w, g, p, e, f, h), Vector(m, e, v, g, d, e, k, p, f, e), Vector(k, f, f, f, e, e, w, d, v, q), Vector(c, p, d, f, w, e, f, c, f, v), Vector(e, m, p, w, w, e, t, e, f, -), Vector(m, f, f, w, w, e, k, d, a, e), Vector(p, y, -, y, f, e, k, d, a, e), Vector(p, e, t, g, e, e, p, k, a, e))"
       ]
      }
     ],
     "prompt_number": 22
    },
    {
     "cell_type": "code",
     "collapsed": false,
     "input": [],
     "language": "python",
     "metadata": {},
     "outputs": [],
     "prompt_number": 22
    },
    {
     "cell_type": "code",
     "collapsed": false,
     "input": [
      "import cc.factorie.la.DenseTensor2"
     ],
     "language": "python",
     "metadata": {},
     "outputs": [
      {
       "output_type": "stream",
       "stream": "stdout",
       "text": []
      },
      {
       "output_type": "stream",
       "stream": "stderr",
       "text": []
      }
     ],
     "prompt_number": 23
    },
    {
     "cell_type": "code",
     "collapsed": false,
     "input": [
      "//has been tested\n",
      "def fobeniusNorm(t: DenseTensor2): Double = {\n",
      "    def averageOverRow(t: DenseTensor2, k: Int): Double = {\n",
      "        // J_ij(k, .) k being a row\n",
      "        val row = for(l <- 0 until t.dim2) yield t(k, l)\n",
      "        row.sum/row.length\n",
      "    }    \n",
      "    def averageOverCol(t: DenseTensor2, l: Int): Double = {\n",
      "        // J_ij(., l) l being a column\n",
      "        val col = for(k <- 0 until t.dim1) yield t(k, l)\n",
      "        col.sum/col.length\n",
      "    }\n",
      "        \n",
      "    val totalAverage: Double = t.sum/t.length\n",
      "    \n",
      "    val transformed: DenseTensor2 = t.copy\n",
      "    for(k <- 0 until t.dim1; l <- 0 until t.dim2) {\n",
      "        transformed(k, l) = t(k, l) - averageOverRow(t, k) - averageOverCol(t, l) + totalAverage\n",
      "    }\n",
      "    \n",
      "    math.sqrt(transformed.twoNorm)\n",
      "}"
     ],
     "language": "python",
     "metadata": {},
     "outputs": [
      {
       "output_type": "stream",
       "stream": "stdout",
       "text": []
      },
      {
       "output_type": "stream",
       "stream": "stderr",
       "text": []
      }
     ],
     "prompt_number": 24
    },
    {
     "cell_type": "code",
     "collapsed": false,
     "input": [
      "def printSortedNorms(model: PottsModel): Unit = {\n",
      "    val norms = for(k <- model.pairwiseFamilies.keys) yield (k, fobeniusNorm(model.parameters(model.pairwiseFamilies(k).weights).asInstanceOf[DenseTensor2]))\n",
      "    val sorted = norms.toList.sortBy(_._2)\n",
      "    for(s <- sorted) println(s)\n",
      "}"
     ],
     "language": "python",
     "metadata": {},
     "outputs": [
      {
       "output_type": "stream",
       "stream": "stdout",
       "text": []
      },
      {
       "output_type": "stream",
       "stream": "stderr",
       "text": []
      }
     ],
     "prompt_number": 25
    },
    {
     "cell_type": "code",
     "collapsed": false,
     "input": [
      "import cc.factorie.optimize.{AdaGrad, Trainer, LikelihoodExample}\n",
      "import cc.factorie.infer.{InferByMeanField, InferByBPLoopy, InferByBPTree, InferByGibbsSampling}\n",
      "val model1 = new PottsModel(10, spinDomain)\n",
      "val model2 = new PottsModel(10, spinDomain)"
     ],
     "language": "python",
     "metadata": {},
     "outputs": [
      {
       "output_type": "stream",
       "stream": "stdout",
       "text": []
      },
      {
       "output_type": "stream",
       "stream": "stderr",
       "text": []
      },
      {
       "metadata": {},
       "output_type": "pyout",
       "prompt_number": 31,
       "text": [
        "PottsModel@3730d3ba"
       ]
      }
     ],
     "prompt_number": 31
    },
    {
     "cell_type": "code",
     "collapsed": false,
     "input": [
      "val loopyexamples = myVaribs.map(v => new LikelihoodExample(v, model1, InferByBPLoopy))\n",
      "val gibbsexamples = myVaribs.map(v => new LikelihoodExample(v, model2, InferByGibbsSampling))"
     ],
     "language": "python",
     "metadata": {},
     "outputs": [
      {
       "output_type": "stream",
       "stream": "stdout",
       "text": []
      },
      {
       "output_type": "stream",
       "stream": "stderr",
       "text": []
      },
      {
       "metadata": {},
       "output_type": "pyout",
       "prompt_number": 32,
       "text": [
        "List(cc.factorie.optimize.LikelihoodExample@34396ac9, cc.factorie.optimize.LikelihoodExample@2591cce8, cc.factorie.optimize.LikelihoodExample@723a69d, cc.factorie.optimize.LikelihoodExample@358f9114, cc.factorie.optimize.LikelihoodExample@647dd384, cc.factorie.optimize.LikelihoodExample@c9b2a7, cc.factorie.optimize.LikelihoodExample@39eff258, cc.factorie.optimize.LikelihoodExample@380f8d1f, cc.factorie.optimize.LikelihoodExample@4fa0afa, cc.factorie.optimize.LikelihoodExample@3be6a5a3, cc.factorie.optimize.LikelihoodExample@23848f0e, cc.factorie.optimize.LikelihoodExample@53cbf259, cc.factorie.optimize.LikelihoodExample@7293dc09, cc.factorie.optimize.LikelihoodExample@49530da3, cc.factorie.optimize.LikelihoodExample@6ba46df0, cc.factorie.optimize.LikelihoodExample@782ddec5, cc.factorie.optimize.LikelihoodExample@b7c9527, cc.factorie.optimize.LikelihoodExample@20243955, cc.factorie.optimize.LikelihoodExample@2a300bef, cc.factorie.optimize.LikelihoodExample@385f8d8c, cc.factorie.optimize.LikelihoodExample@945ff3e, cc.factorie.optimize.LikelihoodExample@52784433, cc.factorie.optimize.LikelihoodExample@55c59a91, cc.factorie.optimize.LikelihoodExample@2026d195, cc.factorie.optimize.LikelihoodExample@54899db0, cc.factorie.optimize.LikelihoodExample@16cfb92c, cc.factorie.optimize.LikelihoodExample@1f860367, cc.factorie.optimize.LikelihoodExample@17496f5c, cc.factorie.optimize.LikelihoodExample@562e0cf5, cc.factorie.optimize.LikelihoodExample@6954d506, cc.factorie.optimize.LikelihoodExample@406db2f0, cc.factorie.optimize.LikelihoodExample@61fecb9b, cc.factorie.optimize.LikelihoodExample@1ee95f60, cc.factorie.optimize.LikelihoodExample@6b74a77a, cc.factorie.optimize.LikelihoodExample@379f71b3, cc.factorie.optimize.LikelihoodExample@44e1bb4c, cc.factorie.optimize.LikelihoodExample@3fcf9de8, cc.factorie.optimize.LikelihoodExample@57880b12, cc.factorie.optimize.LikelihoodExample@248ef7a3, cc.factorie.optimize.LikelihoodExample@26240115, cc.factorie.optimize.LikelihoodExample@5c31d43, cc.factorie.optimize.LikelihoodExample@4cb61ca9, cc.factorie.optimize.LikelihoodExample@4813c297, cc.factorie.optimize.LikelihoodExample@94c6c79, cc.factorie.optimize.LikelihoodExample@786580b3, cc.factorie.optimize.LikelihoodExample@4fe4a585, cc.factorie.optimize.LikelihoodExample@2c2ee7bd, cc.factorie.optimize.LikelihoodExample@3b703ff4, cc.factorie.optimize.LikelihoodExample@4676caa8, cc.factorie.optimize.LikelihoodExample@20f2ffbc, cc.factorie.optimize.LikelihoodExample@3173a08a, cc.factorie.optimize.LikelihoodExample@1e30dd63, cc.factorie.optimize.LikelihoodExample@1a169e11, cc.factorie.optimize.LikelihoodExample@42e37b78, cc.factorie.optimize.LikelihoodExample@64bf2596, cc.factorie.optimize.LikelihoodExample@413cce86, cc.factorie.optimize.LikelihoodExample@7f1ae0df, cc.factorie.optimize.LikelihoodExample@3da191aa, cc.factorie.optimize.LikelihoodExample@3a624f82, cc.factorie.optimize.LikelihoodExample@c51fdc0, cc.factorie.optimize.LikelihoodExample@5aea4e91, cc.factorie.optimize.LikelihoodExample@4ccc4038, cc.factorie.optimize.LikelihoodExample@758c43eb, cc.factorie.optimize.LikelihoodExample@4bbf3597, cc.factorie.optimize.LikelihoodExample@7657735a, cc.factorie.optimize.LikelihoodExample@67565668, cc.factorie.optimize.LikelihoodExample@5542fad8, cc.factorie.optimize.LikelihoodExample@2062a6a3, cc.factorie.optimize.LikelihoodExample@2caa27f1, cc.factorie.optimize.LikelihoodExample@5724561f, cc.factorie.optimize.LikelihoodExample@129239eb, cc.factorie.optimize.LikelihoodExample@3e187cd3, cc.factorie.optimize.LikelihoodExample@39ab207e, cc.factorie.optimize.LikelihoodExample@11e24dc6, cc.factorie.optimize.LikelihoodExample@20600b56, cc.factorie.optimize.LikelihoodExample@1884bb5, cc.factorie.optimize.LikelihoodExample@1b2258dc, cc.factorie.optimize.LikelihoodExample@6bf7e16e, cc.factorie.optimize.LikelihoodExample@5ef13422, cc.factorie.optimize.LikelihoodExample@2d95d4e0, cc.factorie.optimize.LikelihoodExample@47cad581, cc.factorie.optimize.LikelihoodExample@55872cf9, cc.factorie.optimize.LikelihoodExample@1d99bb4d, cc.factorie.optimize.LikelihoodExample@57d7cb69, cc.factorie.optimize.LikelihoodExample@186b878d, cc.factorie.optimize.LikelihoodExample@3b904681, cc.factorie.optimize.LikelihoodExample@7d04ddb3, cc.factorie.optimize.LikelihoodExample@4a7752e4, cc.factorie.optimize.LikelihoodExample@5fe31ced, cc.factorie.optimize.LikelihoodExample@37803cc9, cc.factorie.optimize.LikelihoodExample@4416cc96, cc.factorie.optimize.LikelihoodExample@34d1aec6, cc.factorie.optimize.LikelihoodExample@32296441, cc.factorie.optimize.LikelihoodExample@3b750121, cc.factorie.optimize.LikelihoodExample@7e9d3c05, cc.factorie.optimize.LikelihoodExample@4cfad34, cc.factorie.optimize.LikelihoodExample@5e743363, cc.factorie.optimize.LikelihoodExample@1ed9d907, cc.factorie.optimize.LikelihoodExample@70376a63, cc.factorie.optimize.LikelihoodExample@4629c323, cc.factorie.optimize.LikelihoodExample@5fca52d1, cc.factorie.optimize.LikelihoodExample@5c034878, cc.factorie.optimize.LikelihoodExample@5b8aed79, cc.factorie.optimize.LikelihoodExample@7decd1e2, cc.factorie.optimize.LikelihoodExample@46c78d04, cc.factorie.optimize.LikelihoodExample@56fb25e9, cc.factorie.optimize.LikelihoodExample@276109c, cc.factorie.optimize.LikelihoodExample@153c7307, cc.factorie.optimize.LikelihoodExample@33a3db75, cc.factorie.optimize.LikelihoodExample@4a9cf8cf, cc.factorie.optimize.LikelihoodExample@793044e, cc.factorie.optimize.LikelihoodExample@44ffa0c4, cc.factorie.optimize.LikelihoodExample@6a93c73f, cc.factorie.optimize.LikelihoodExample@bfe2fc3, cc.factorie.optimize.LikelihoodExample@5cf1b15b, cc.factorie.optimize.LikelihoodExample@7fb2fd08, cc.factorie.optimize.LikelihoodExample@400259b7, cc.factorie.optimize.LikelihoodExample@5a501e35, cc.factorie.optimize.LikelihoodExample@41ef57e5, cc.factorie.optimize.LikelihoodExample@48739d34, cc.factorie.optimize.LikelihoodExample@1e55e615, cc.factorie.optimize.LikelihoodExample@19747c42, cc.factorie.optimize.LikelihoodExample@2e89de1c, cc.factorie.optimize.LikelihoodExample@5d551822, cc.factorie.optimize.LikelihoodExample@7da3900c, cc.factorie.optimize.LikelihoodExample@7d464444, cc.factorie.optimize.LikelihoodExample@102c0c9d, cc.factorie.optimize.LikelihoodExample@3bf01fb6, cc.factorie.optimize.LikelihoodExample@11b20478, cc.factorie.optimize.LikelihoodExample@3e436b5b, cc.factorie.optimize.LikelihoodExample@3c3d434c, cc.factorie.optimize.LikelihoodExample@5a0d5179, cc.factorie.optimize.LikelihoodExample@20600d1f, cc.factorie.optimize.LikelihoodExample@1fd7ed4, cc.factorie.optimize.LikelihoodExample@29919151, cc.factorie.optimize.LikelihoodExample@13db7229, cc.factorie.optimize.LikelihoodExample@2c23ebee, cc.factorie.optimize.LikelihoodExample@6a566ce5, cc.factorie.optimize.LikelihoodExample@500764ed, cc.factorie.optimize.LikelihoodExample@15732ca7, cc.factorie.optimize.LikelihoodExample@3c7892f1, cc.factorie.optimize.LikelihoodExample@ff72b3b, cc.factorie.optimize.LikelihoodExample@2c3736ad, cc.factorie.optimize.LikelihoodExample@5ce6ae88, cc.factorie.optimize.LikelihoodExample@2ccc925e, cc.factorie.optimize.LikelihoodExample@2a9d704c, cc.factorie.optimize.LikelihoodExample@4637a36f, cc.factorie.optimize.LikelihoodExample@6ecaf06c, cc.factorie.optimize.LikelihoodExample@4d6e7b47, cc.factorie.optimize.LikelihoodExample@105f9a08, cc.factorie.optimize.LikelihoodExample@74798b9d, cc.factorie.optimize.LikelihoodExample@57bd2c28, cc.factorie.optimize.LikelihoodExample@449e2318, cc.factorie.optimize.LikelihoodExample@6a121fd9, cc.factorie.optimize.LikelihoodExample@4be915f6, cc.factorie.optimize.LikelihoodExample@33a0f069, cc.factorie.optimize.LikelihoodExample@b0797fa, cc.factorie.optimize.LikelihoodExample@1f8aa3be, cc.factorie.optimize.LikelihoodExample@47041f1f, cc.factorie.optimize.LikelihoodExample@5f9750a5, cc.factorie.optimize.LikelihoodExample@472fb1aa, cc.factorie.optimize.LikelihoodExample@c393469, cc.factorie.optimize.LikelihoodExample@7f9fdfc3, cc.factorie.optimize.LikelihoodExample@591bbcaa, cc.factorie.optimize.LikelihoodExample@2bff6a9a, cc.factorie.optimize.LikelihoodExample@dafbb07, cc.factorie.optimize.LikelihoodExample@c1fcf96, cc.factorie.optimize.LikelihoodExample@7c758711, cc.factorie.optimize.LikelihoodExample@7f6aced, cc.factorie.optimize.LikelihoodExample@53d2ffb0, cc.factorie.optimize.LikelihoodExample@4190a6ce, cc.factorie.optimize.LikelihoodExample@7fb74002, cc.factorie.optimize.LikelihoodExample@57cb84cf, cc.factorie.optimize.LikelihoodExample@727c5f10, cc.factorie.optimize.LikelihoodExample@43454e28, cc.factorie.optimize.LikelihoodExample@7b0e4698, cc.factorie.optimize.LikelihoodExample@663ce445, cc.factorie.optimize.LikelihoodExample@27aea273, cc.factorie.optimize.LikelihoodExample@3a2b405f, cc.factorie.optimize.LikelihoodExample@6d8f3ace, cc.factorie.optimize.LikelihoodExample@565de293, cc.factorie.optimize.LikelihoodExample@2dc64d31, cc.factorie.optimize.LikelihoodExample@35f5e371, cc.factorie.optimize.LikelihoodExample@22272b64, cc.factorie.optimize.LikelihoodExample@3991c3c0, cc.factorie.optimize.LikelihoodExample@10ca8fc7, cc.factorie.optimize.LikelihoodExample@62a55a6d, cc.factorie.optimize.LikelihoodExample@55d3dcb3, cc.factorie.optimize.LikelihoodExample@483e97ca, cc.factorie.optimize.LikelihoodExample@55f73d4, cc.factorie.optimize.LikelihoodExample@3dad660d, cc.factorie.optimize.LikelihoodExample@4306ff1d, cc.factorie.optimize.LikelihoodExample@56eb4c, cc.factorie.optimize.LikelihoodExample@4a71cac0, cc.factorie.optimize.LikelihoodExample@74b6296e, cc.factorie.optimize.LikelihoodExample@635a309e, cc.factorie.optimize.LikelihoodExample@362e0807, cc.factorie.optimize.LikelihoodExample@8111f5b, cc.factorie.optimize.LikelihoodExample@1c219380, cc.factorie.optimize.LikelihoodExample@605ac6ed, cc.factorie.optimize.LikelihoodExample@67ba2306, cc.factorie.optimize.LikelihoodExample@6d51941d, cc.factorie.optimize.LikelihoodExample@6d333fd, cc.factorie.optimize.LikelihoodExample@13fa2a8b, cc.factorie.optimize.LikelihoodExample@cff15ec, cc.factorie.optimize.LikelihoodExample@3ef83f9e, cc.factorie.optimize.LikelihoodExample@1c18be5e, cc.factorie.optimize.LikelihoodExample@1c7a1bbb, cc.factorie.optimize.LikelihoodExample@14b2a098, cc.factorie.optimize.LikelihoodExample@5b4d65c5, cc.factorie.optimize.LikelihoodExample@36549757, cc.factorie.optimize.LikelihoodExample@6b9bec9e, cc.factorie.optimize.LikelihoodExample@49cbb043, cc.factorie.optimize.LikelihoodExample@5ba1248e, cc.factorie.optimize.LikelihoodExample@306715a1, cc.factorie.optimize.LikelihoodExample@3fbd15da, cc.factorie.optimize.LikelihoodExample@16e5bbe7, cc.factorie.optimize.LikelihoodExample@4493466f, cc.factorie.optimize.LikelihoodExample@20f54495, cc.factorie.optimize.LikelihoodExample@4669a31a, cc.factorie.optimize.LikelihoodExample@41532413, cc.factorie.optimize.LikelihoodExample@39657ce6, cc.factorie.optimize.LikelihoodExample@35eafd7a, cc.factorie.optimize.LikelihoodExample@56a7703d, cc.factorie.optimize.LikelihoodExample@ab9e13d, cc.factorie.optimize.LikelihoodExample@3172714b, cc.factorie.optimize.LikelihoodExample@506c0c49, cc.factorie.optimize.LikelihoodExample@659ab5de, cc.factorie.optimize.LikelihoodExample@101a35ef, cc.factorie.optimize.LikelihoodExample@28cae62b, cc.factorie.optimize.LikelihoodExample@20cd25f9, cc.factorie.optimize.LikelihoodExample@7c780f41, cc.factorie.optimize.LikelihoodExample@2e31b43e, cc.factorie.optimize.LikelihoodExample@41306a23, cc.factorie.optimize.LikelihoodExample@51884144, cc.factorie.optimize.LikelihoodExample@4875012d, cc.factorie.optimize.LikelihoodExample@79a05684, cc.factorie.optimize.LikelihoodExample@d90327e, cc.factorie.optimize.LikelihoodExample@75e2f526, cc.factorie.optimize.LikelihoodExample@74cce41, cc.factorie.optimize.LikelihoodExample@43791125, cc.factorie.optimize.LikelihoodExample@4154b6be, cc.factorie.optimize.LikelihoodExample@20a99574, cc.factorie.optimize.LikelihoodExample@5d93036c, cc.factorie.optimize.LikelihoodExample@5ec5d772, cc.factorie.optimize.LikelihoodExample@ec3adfa, cc.factorie.optimize.LikelihoodExample@50d2ffa8, cc.factorie.optimize.LikelihoodExample@4c8e980c, cc.factorie.optimize.LikelihoodExample@25a06318, cc.factorie.optimize.LikelihoodExample@44c9cff4, cc.factorie.optimize.LikelihoodExample@1d73bf74, cc.factorie.optimize.LikelihoodExample@1a1e67c7, cc.factorie.optimize.LikelihoodExample@422f4736, cc.factorie.optimize.LikelihoodExample@2dec4c2c, cc.factorie.optimize.LikelihoodExample@747cf441, cc.factorie.optimize.LikelihoodExample@37881326, cc.factorie.optimize.LikelihoodExample@46a14045, cc.factorie.optimize.LikelihoodExample@482963d, cc.factorie.optimize.LikelihoodExample@1955811b, cc.factorie.optimize.LikelihoodExample@3c8f209b, cc.factorie.optimize.LikelihoodExample@58a5bf2c, cc.factorie.optimize.LikelihoodExample@69aa0f2b, cc.factorie.optimize.LikelihoodExample@1bca063f, cc.factorie.optimize.LikelihoodExample@6c602059, cc.factorie.optimize.LikelihoodExample@1aebeaa5, cc.factorie.optimize.LikelihoodExample@767a0471, cc.factorie.optimize.LikelihoodExample@44b9d37b, cc.factorie.optimize.LikelihoodExample@3eb537d, cc.factorie.optimize.LikelihoodExample@4eb6358d, cc.factorie.optimize.LikelihoodExample@1c75e45a, cc.factorie.optimize.LikelihoodExample@7fe2df4e, cc.factorie.optimize.LikelihoodExample@7b2bb7a, cc.factorie.optimize.LikelihoodExample@67324a88, cc.factorie.optimize.LikelihoodExample@16bb5ba6, cc.factorie.optimize.LikelihoodExample@667dfaf2, cc.factorie.optimize.LikelihoodExample@58e65a6f, cc.factorie.optimize.LikelihoodExample@7b3b5b01, cc.factorie.optimize.LikelihoodExample@75d3dddb, cc.factorie.optimize.LikelihoodExample@288a914c, cc.factorie.optimize.LikelihoodExample@2149295f, cc.factorie.optimize.LikelihoodExample@4a3b2d0b, cc.factorie.optimize.LikelihoodExample@730a533f, cc.factorie.optimize.LikelihoodExample@2adf881a, cc.factorie.optimize.LikelihoodExample@396078f3, cc.factorie.optimize.LikelihoodExample@6ca4b6f2, cc.factorie.optimize.LikelihoodExample@31e70197, cc.factorie.optimize.LikelihoodExample@35197a19, cc.factorie.optimize.LikelihoodExample@1b9f1a8b, cc.factorie.optimize.LikelihoodExample@6a87a9d7, cc.factorie.optimize.LikelihoodExample@709f98e4, cc.factorie.optimize.LikelihoodExample@7deeda7f, cc.factorie.optimize.LikelihoodExample@4c4b0870, cc.factorie.optimize.LikelihoodExample@52171831, cc.factorie.optimize.LikelihoodExample@6a356311, cc.factorie.optimize.LikelihoodExample@56fb2790, cc.factorie.optimize.LikelihoodExample@2e28b8d, cc.factorie.optimize.LikelihoodExample@6737d775, cc.factorie.optimize.LikelihoodExample@3227744, cc.factorie.optimize.LikelihoodExample@4bc412f7, cc.factorie.optimize.LikelihoodExample@35b93cfd, cc.factorie.optimize.LikelihoodExample@14532199, cc.factorie.optimize.LikelihoodExample@5dc2ce3b, cc.factorie.optimize.LikelihoodExample@2071b394, cc.factorie.optimize.LikelihoodExample@8c4ca30, cc.factorie.optimize.LikelihoodExample@2fb619cf, cc.factorie.optimize.LikelihoodExample@5c587d81, cc.factorie.optimize.LikelihoodExample@3597cf84, cc.factorie.optimize.LikelihoodExample@1b8fe99, cc.factorie.optimize.LikelihoodExample@1852efb1, cc.factorie.optimize.LikelihoodExample@6cf659f0, cc.factorie.optimize.LikelihoodExample@218ad373, cc.factorie.optimize.LikelihoodExample@21403439, cc.factorie.optimize.LikelihoodExample@7e249b3c, cc.factorie.optimize.LikelihoodExample@154bc0d7, cc.factorie.optimize.LikelihoodExample@20616e2d, cc.factorie.optimize.LikelihoodExample@5c885cf6, cc.factorie.optimize.LikelihoodExample@7c8f49ef, cc.factorie.optimize.LikelihoodExample@233f29cc, cc.factorie.optimize.LikelihoodExample@7d12228, cc.factorie.optimize.LikelihoodExample@3319741a, cc.factorie.optimize.LikelihoodExample@4c15712b, cc.factorie.optimize.LikelihoodExample@13b8e513, cc.factorie.optimize.LikelihoodExample@4fc74c82, cc.factorie.optimize.LikelihoodExample@257013b9, cc.factorie.optimize.LikelihoodExample@611ee9e2, cc.factorie.optimize.LikelihoodExample@348d263e, cc.factorie.optimize.LikelihoodExample@1ec9cb66, cc.factorie.optimize.LikelihoodExample@5248a554, cc.factorie.optimize.LikelihoodExample@1f5e5800, cc.factorie.optimize.LikelihoodExample@6ae37816, cc.factorie.optimize.LikelihoodExample@7be1232c, cc.factorie.optimize.LikelihoodExample@79cc5d3d, cc.factorie.optimize.LikelihoodExample@57fd8e43, cc.factorie.optimize.LikelihoodExample@4786fdd6, cc.factorie.optimize.LikelihoodExample@6f831149, cc.factorie.optimize.LikelihoodExample@5e408d1, cc.factorie.optimize.LikelihoodExample@3dfed45c, cc.factorie.optimize.LikelihoodExample@252803d0, cc.factorie.optimize.LikelihoodExample@66125fbe, cc.factorie.optimize.LikelihoodExample@404be74c, cc.factorie.optimize.LikelihoodExample@373e4f8e, cc.factorie.optimize.LikelihoodExample@5bd90ff7, cc.factorie.optimize.LikelihoodExample@7a7503d, cc.factorie.optimize.LikelihoodExample@7984d8b7, cc.factorie.optimize.LikelihoodExample@b014b5, cc.factorie.optimize.LikelihoodExample@281f776d, cc.factorie.optimize.LikelihoodExample@29d9a9af, cc.factorie.optimize.LikelihoodExample@111335a0, cc.factorie.optimize.LikelihoodExample@425a422, cc.factorie.optimize.LikelihoodExample@433ab64e, cc.factorie.optimize.LikelihoodExample@4396dd5d, cc.factorie.optimize.LikelihoodExample@659f2755, cc.factorie.optimize.LikelihoodExample@33cf7192, cc.factorie.optimize.LikelihoodExample@782942d0, cc.factorie.optimize.LikelihoodExample@5ce1a351, cc.factorie.optimize.LikelihoodExample@61a94a7a, cc.factorie.optimize.LikelihoodExample@3158c1ad, cc.factorie.optimize.LikelihoodExample@3a135e2a, cc.factorie.optimize.LikelihoodExample@4d8b352f, cc.factorie.optimize.LikelihoodExample@6e50c86e, cc.factorie.optimize.LikelihoodExample@7996e656, cc.factorie.optimize.LikelihoodExample@21ec5677, cc.factorie.optimize.LikelihoodExample@2320b007, cc.factorie.optimize.LikelihoodExample@3704ad95, cc.factorie.optimize.LikelihoodExample@14202d6b, cc.factorie.optimize.LikelihoodExample@4c85d61f, cc.factorie.optimize.LikelihoodExample@66acb478, cc.factorie.optimize.LikelihoodExample@547c66f1, cc.factorie.optimize.LikelihoodExample@334a838c, cc.factorie.optimize.LikelihoodExample@610276a2, cc.factorie.optimize.LikelihoodExample@68bab76f, cc.factorie.optimize.LikelihoodExample@3a610e20, cc.factorie.optimize.LikelihoodExample@39e674d1, cc.factorie.optimize.LikelihoodExample@48ff6309, cc.factorie.optimize.LikelihoodExample@76bf094f, cc.factorie.optimize.LikelihoodExample@77fc5e70, cc.factorie.optimize.LikelihoodExample@599c489a, cc.factorie.optimize.LikelihoodExample@2362a46c, cc.factorie.optimize.LikelihoodExample@2118c09a, cc.factorie.optimize.LikelihoodExample@600ccf6f, cc.factorie.optimize.LikelihoodExample@6906b1ac, cc.factorie.optimize.LikelihoodExample@367ac912, cc.factorie.optimize.LikelihoodExample@3726d8af, cc.factorie.optimize.LikelihoodExample@575be572, cc.factorie.optimize.LikelihoodExample@5234cc2c, cc.factorie.optimize.LikelihoodExample@84886de, cc.factorie.optimize.LikelihoodExample@518e5d11, cc.factorie.optimize.LikelihoodExample@598030eb, cc.factorie.optimize.LikelihoodExample@6f0bc234, cc.factorie.optimize.LikelihoodExample@6cfb1ce0, cc.factorie.optimize.LikelihoodExample@5a24ee05, cc.factorie.optimize.LikelihoodExample@2e86b87f, cc.factorie.optimize.LikelihoodExample@ebab1b6, cc.factorie.optimize.LikelihoodExample@2e92b48, cc.factorie.optimize.LikelihoodExample@1a188576, cc.factorie.optimize.LikelihoodExample@3fe2135c, cc.factorie.optimize.LikelihoodExample@13651dc8, cc.factorie.optimize.LikelihoodExample@53863f6a, cc.factorie.optimize.LikelihoodExample@12ad72fd, cc.factorie.optimize.LikelihoodExample@3958499f, cc.factorie.optimize.LikelihoodExample@53498322, cc.factorie.optimize.LikelihoodExample@7f4057e5, cc.factorie.optimize.LikelihoodExample@594abca7, cc.factorie.optimize.LikelihoodExample@39a7a5bd, cc.factorie.optimize.LikelihoodExample@2d7238dd, cc.factorie.optimize.LikelihoodExample@25f34c7a, cc.factorie.optimize.LikelihoodExample@821f10d, cc.factorie.optimize.LikelihoodExample@6c5890a6, cc.factorie.optimize.LikelihoodExample@2a80b9dc, cc.factorie.optimize.LikelihoodExample@692a3050, cc.factorie.optimize.LikelihoodExample@50ca0a20, cc.factorie.optimize.LikelihoodExample@5ee450, cc.factorie.optimize.LikelihoodExample@55df4060, cc.factorie.optimize.LikelihoodExample@33fb8aab, cc.factorie.optimize.LikelihoodExample@474cfb36, cc.factorie.optimize.LikelihoodExample@f00bacc, cc.factorie.optimize.LikelihoodExample@78e7aec5, cc.factorie.optimize.LikelihoodExample@32834586, cc.factorie.optimize.LikelihoodExample@48497a52, cc.factorie.optimize.LikelihoodExample@4ffdc291, cc.factorie.optimize.LikelihoodExample@1cf0e69e, cc.factorie.optimize.LikelihoodExample@bb49dea, cc.factorie.optimize.LikelihoodExample@7eeb73a6, cc.factorie.optimize.LikelihoodExample@13f5d863, cc.factorie.optimize.LikelihoodExample@715155d1, cc.factorie.optimize.LikelihoodExample@12d94676, cc.factorie.optimize.LikelihoodExample@76a0f6a4, cc.factorie.optimize.LikelihoodExample@41a0c5d4, cc.factorie.optimize.LikelihoodExample@221c02f5, cc.factorie.optimize.LikelihoodExample@5d063451, cc.factorie.optimize.LikelihoodExample@4254e18d, cc.factorie.optimize.LikelihoodExample@52a41200, cc.factorie.optimize.LikelihoodExample@1199e863, cc.factorie.optimize.LikelihoodExample@f67c49c, cc.factorie.optimize.LikelihoodExample@659ce5aa, cc.factorie.optimize.LikelihoodExample@1faa3004, cc.factorie.optimize.LikelihoodExample@5e3666d9, cc.factorie.optimize.LikelihoodExample@459a60e1, cc.factorie.optimize.LikelihoodExample@1a4e777a, cc.factorie.optimize.LikelihoodExample@1585f814, cc.factorie.optimize.LikelihoodExample@e61f416, cc.factorie.optimize.LikelihoodExample@40dfd7ba, cc.factorie.optimize.LikelihoodExample@27cc159c, cc.factorie.optimize.LikelihoodExample@479ec92d, cc.factorie.optimize.LikelihoodExample@9a9ce17, cc.factorie.optimize.LikelihoodExample@6b194cf5, cc.factorie.optimize.LikelihoodExample@4a0b9fc1, cc.factorie.optimize.LikelihoodExample@41255de1, cc.factorie.optimize.LikelihoodExample@7c368030, cc.factorie.optimize.LikelihoodExample@5e1a0f05, cc.factorie.optimize.LikelihoodExample@d04187, cc.factorie.optimize.LikelihoodExample@687e067b, cc.factorie.optimize.LikelihoodExample@29dbaad5, cc.factorie.optimize.LikelihoodExample@14ac9b6b, cc.factorie.optimize.LikelihoodExample@500f9867, cc.factorie.optimize.LikelihoodExample@2fdebb41, cc.factorie.optimize.LikelihoodExample@47d7c0f4, cc.factorie.optimize.LikelihoodExample@25bcf805, cc.factorie.optimize.LikelihoodExample@193f239e, cc.factorie.optimize.LikelihoodExample@3b6705, cc.factorie.optimize.LikelihoodExample@3be87961, cc.factorie.optimize.LikelihoodExample@1b78ee01, cc.factorie.optimize.LikelihoodExample@205191be, cc.factorie.optimize.LikelihoodExample@4b376185, cc.factorie.optimize.LikelihoodExample@20e38957, cc.factorie.optimize.LikelihoodExample@3a4dbf9f, cc.factorie.optimize.LikelihoodExample@465f7da0, cc.factorie.optimize.LikelihoodExample@2730b778, cc.factorie.optimize.LikelihoodExample@6f5d3b61, cc.factorie.optimize.LikelihoodExample@51e59665, cc.factorie.optimize.LikelihoodExample@37f4eae4, cc.factorie.optimize.LikelihoodExample@30693b6f, cc.factorie.optimize.LikelihoodExample@4cbd0d3d, cc.factorie.optimize.LikelihoodExample@fb04727, cc.factorie.optimize.LikelihoodExample@7e0f597c, cc.factorie.optimize.LikelihoodExample@21bc1c8c, cc.factorie.optimize.LikelihoodExample@44f63ca1, cc.factorie.optimize.LikelihoodExample@2069166, cc.factorie.optimize.LikelihoodExample@7d33c093, cc.factorie.optimize.LikelihoodExample@50a8331c, cc.factorie.optimize.LikelihoodExample@52b39ca2, cc.factorie.optimize.LikelihoodExample@df07a19, cc.factorie.optimize.LikelihoodExample@26e00675, cc.factorie.optimize.LikelihoodExample@3dc7ff43, cc.factorie.optimize.LikelihoodExample@1547a765, cc.factorie.optimize.LikelihoodExample@133ee2cd, cc.factorie.optimize.LikelihoodExample@59c0a9a, cc.factorie.optimize.LikelihoodExample@477c0756, cc.factorie.optimize.LikelihoodExample@1fc5c3c4, cc.factorie.optimize.LikelihoodExample@70b78927, cc.factorie.optimize.LikelihoodExample@218d9941, cc.factorie.optimize.LikelihoodExample@57488b9c, cc.factorie.optimize.LikelihoodExample@5bc5db88, cc.factorie.optimize.LikelihoodExample@1acfecca, cc.factorie.optimize.LikelihoodExample@48c2cf86, cc.factorie.optimize.LikelihoodExample@6dc68bbb, cc.factorie.optimize.LikelihoodExample@5ffda4b, cc.factorie.optimize.LikelihoodExample@60547500, cc.factorie.optimize.LikelihoodExample@48cd8468)"
       ]
      }
     ],
     "prompt_number": 32
    },
    {
     "cell_type": "code",
     "collapsed": false,
     "input": [
      "val optimizer1 = new AdaGrad()"
     ],
     "language": "python",
     "metadata": {},
     "outputs": [
      {
       "output_type": "stream",
       "stream": "stderr",
       "text": []
      },
      {
       "output_type": "stream",
       "stream": "stdout",
       "text": []
      },
      {
       "metadata": {},
       "output_type": "pyout",
       "prompt_number": 33,
       "text": [
        "cc.factorie.optimize.AdaGrad@62bf0d9a"
       ]
      }
     ],
     "prompt_number": 33
    },
    {
     "cell_type": "code",
     "collapsed": false,
     "input": [
      "Trainer.onlineTrain(model1.parameters, loopyexamples, optimizer=optimizer1)\n",
      "printSortedNorms(model1)"
     ],
     "language": "python",
     "metadata": {},
     "outputs": [
      {
       "output_type": "stream",
       "stream": "stdout",
       "text": [
        "((3,4),1.6016571581104617)\n",
        "((2,8),1.6057041130080862)\n",
        "((2,7),1.608852362908383)\n",
        "((2,3),1.61282198540204)\n",
        "((3,8),1.613673157521246)\n",
        "((6,8),1.6679339203970218)\n",
        "((1,8),1.6754890545279628)\n",
        "((3,6),1.680338517995542)\n",
        "((1,3),1.689687636925106)\n",
        "((4,7),1.6925613792545195)\n",
        "((4,6),1.6968666630188878)\n",
        "((3,5),1.7278912099803858)\n",
        "((1,4),1.738923183219308)\n",
        "((2,6),1.738949081850332)\n",
        "((2,9),1.739523970769652)\n",
        "((4,5),1.7585934683610882)\n",
        "((5,7),1.7823342482820446)\n",
        "((0,8),1.7993028693514055)\n",
        "((6,9),1.8659702934229514)\n",
        "((0,2),1.8683523165016087)\n",
        "((1,2),1.874417493252905)\n",
        "((6,7),1.8826340188344663)\n",
        "((0,3),1.925280568037567)\n",
        "((0,5),1.9280607001979533)\n",
        "((1,9),1.9340043512374816)\n",
        "((2,4),1.9348917816827342)\n",
        "((1,7),1.94909417765957)\n",
        "((1,5),1.94948819381356)\n",
        "((7,9),1.9738671733501219)\n",
        "((5,8),1.9861989200618224)\n",
        "((2,5),1.9912752865039702)\n",
        "((4,8),2.0053215147394807)\n",
        "((7,8),2.013955086705902)\n",
        "((8,9),2.0237389312625362)\n",
        "((0,4),2.028276060012958)\n",
        "((5,6),2.044863414874363)\n",
        "((4,9),2.0934229434268232)\n",
        "((3,9),2.1177033071289193)\n",
        "((0,9),2.1190955668770095)\n",
        "((3,7),2.235018080219537)\n",
        "((5,9),2.2627126593828173)\n",
        "((0,7),2.3256487698895976)\n",
        "((1,6),2.6089211927318767)\n",
        "((0,6),2.6383345063352803)\n",
        "((0,1),2.7217596017654753)\n"
       ]
      },
      {
       "output_type": "stream",
       "stream": "stderr",
       "text": []
      }
     ],
     "prompt_number": 34
    },
    {
     "cell_type": "code",
     "collapsed": false,
     "input": [],
     "language": "python",
     "metadata": {},
     "outputs": [
      {
       "output_type": "stream",
       "stream": "stdout",
       "text": [
        "((1,4),1.5206123616468146)\n",
        "((0,1),1.5385353834667985)\n",
        "((0,4),1.6877230716417424)\n",
        "((1,2),1.7023170623726545)\n",
        "((0,3),1.7219608826803152)\n",
        "((3,4),1.8710607835660593)\n",
        "((2,3),1.8979389492932481)\n",
        "((0,2),2.1172378836537993)\n",
        "((2,4),2.436979059033097)\n",
        "((1,3),2.5946409186418204)\n"
       ]
      },
      {
       "output_type": "stream",
       "stream": "stderr",
       "text": []
      }
     ],
     "prompt_number": 50
    },
    {
     "cell_type": "code",
     "collapsed": false,
     "input": [],
     "language": "python",
     "metadata": {},
     "outputs": []
    }
   ],
   "metadata": {}
  }
 ]
}