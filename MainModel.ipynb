{
 "metadata": {
  "name": ""
 },
 "nbformat": 3,
 "nbformat_minor": 0,
 "worksheets": [
  {
   "cells": [
    {
     "cell_type": "code",
     "collapsed": false,
     "input": [
      "import collection.mutable.{ArrayBuffer, Set, Map}\n",
      "import cc.factorie.variable.{CategoricalDomain, CategoricalVariable, DiffList, Var}"
     ],
     "language": "python",
     "metadata": {},
     "outputs": [
      {
       "output_type": "stream",
       "stream": "stdout",
       "text": []
      },
      {
       "output_type": "stream",
       "stream": "stderr",
       "text": []
      }
     ],
     "prompt_number": 5
    },
    {
     "cell_type": "code",
     "collapsed": false,
     "input": [
      "implicit val random = new scala.util.Random(0)\n",
      "implicit val d = new DiffList"
     ],
     "language": "python",
     "metadata": {},
     "outputs": [
      {
       "output_type": "stream",
       "stream": "stderr",
       "text": []
      },
      {
       "output_type": "stream",
       "stream": "stdout",
       "text": []
      },
      {
       "metadata": {},
       "output_type": "pyout",
       "prompt_number": 2,
       "text": [
        "DiffList()"
       ]
      }
     ],
     "prompt_number": 2
    },
    {
     "cell_type": "code",
     "collapsed": false,
     "input": [
      "object spinDomain extends CategoricalDomain[Char](List('a', 'b'))"
     ],
     "language": "python",
     "metadata": {},
     "outputs": [
      {
       "output_type": "stream",
       "stream": "stderr",
       "text": []
      },
      {
       "output_type": "stream",
       "stream": "stdout",
       "text": []
      },
      {
       "metadata": {},
       "output_type": "pyout",
       "prompt_number": 6,
       "text": [
        "CategoricalDomain[](2)"
       ]
      }
     ],
     "prompt_number": 6
    },
    {
     "cell_type": "code",
     "collapsed": false,
     "input": [
      "object spinDomain extends CategoricalDomain[Char](List('a', 'r', 'n', 'd', 'c', 'q', 'e', 'g', 'h', 'i', 'l', 'k', 'm', 'f', 'p', 's', 't', 'w', 'y', 'v', '-'))  "
     ],
     "language": "python",
     "metadata": {},
     "outputs": [
      {
       "output_type": "stream",
       "stream": "stdout",
       "text": []
      },
      {
       "output_type": "stream",
       "stream": "stderr",
       "text": []
      },
      {
       "metadata": {},
       "output_type": "pyout",
       "prompt_number": 8,
       "text": [
        "CategoricalDomain[](21)"
       ]
      }
     ],
     "prompt_number": 8
    },
    {
     "cell_type": "code",
     "collapsed": false,
     "input": [
      "class Spin(startvalue: Char, val i: Int) extends CategoricalVariable[Char](startvalue){\n",
      "    def domain = spinDomain\n",
      "    var cont: IndexedSeq[Spin] = null\n",
      "    def setContainer(c: IndexedSeq[Spin]): Unit = {this.cont = c}\n",
      "    override def toString = this.value.toString\n",
      "    \n",
      "}"
     ],
     "language": "python",
     "metadata": {},
     "outputs": [
      {
       "output_type": "stream",
       "stream": "stderr",
       "text": []
      },
      {
       "output_type": "stream",
       "stream": "stdout",
       "text": []
      }
     ],
     "prompt_number": 4
    },
    {
     "cell_type": "code",
     "collapsed": false,
     "input": [
      "def generateSpinVector(s: String): IndexedSeq[Spin] = {\n",
      "    val variables = for((s, i) <- s.zipWithIndex) yield new Spin(s, i)\n",
      "    variables.foreach(_.setContainer(variables))\n",
      "    variables\n",
      "}"
     ],
     "language": "python",
     "metadata": {},
     "outputs": [
      {
       "output_type": "stream",
       "stream": "stdout",
       "text": []
      },
      {
       "output_type": "stream",
       "stream": "stderr",
       "text": []
      }
     ],
     "prompt_number": 5
    },
    {
     "cell_type": "code",
     "collapsed": false,
     "input": [
      "class SpinContainer(values: String){\n",
      "    val variables = for((s, i) <- values.zipWithIndex) yield new Spin(s, i)\n",
      "    //variables.foreach(_.setContainer(this))\n",
      "    def apply(i: Int) = variables(i)\n",
      "}"
     ],
     "language": "python",
     "metadata": {},
     "outputs": [
      {
       "output_type": "stream",
       "stream": "stderr",
       "text": []
      },
      {
       "output_type": "stream",
       "stream": "stdout",
       "text": []
      }
     ],
     "prompt_number": 6
    },
    {
     "cell_type": "code",
     "collapsed": false,
     "input": [
      "import cc.factorie.model.{Parameters, Model, Factor, DotFamilyWithStatistics1, DotFamilyWithStatistics2}\n",
      "import cc.factorie.la.{DenseTensor1, DenseTensor2}"
     ],
     "language": "python",
     "metadata": {},
     "outputs": [
      {
       "output_type": "stream",
       "stream": "stdout",
       "text": []
      },
      {
       "output_type": "stream",
       "stream": "stderr",
       "text": []
      }
     ],
     "prompt_number": 7
    },
    {
     "cell_type": "code",
     "collapsed": false,
     "input": [
      "class PottsModel(val num: Int, val spinDomain: CategoricalDomain[Char]) extends Model with Parameters {\n",
      "    val domSize = spinDomain.size\n",
      "    \n",
      "    val localFamilies = for(i <- 0 until num) yield new DotFamilyWithStatistics1[Spin] {val weights = Weights(new DenseTensor1(domSize))}\n",
      "    \n",
      "    val pairwiseFamilies = Map[(Int, Int), DotFamilyWithStatistics2[Spin, Spin]]()\n",
      "    for(i <- 0 until num; j <- 0 until num if i < j) { \n",
      "        pairwiseFamilies += ((i, j) -> new DotFamilyWithStatistics2[Spin, Spin] {\n",
      "            val weights = Weights(new DenseTensor2(domSize, domSize))\n",
      "        })\n",
      "    }\n",
      "            \n",
      "    def factors(variables: Iterable[Var]): Iterable[Factor] = {\n",
      "        val results = new ArrayBuffer[Factor]\n",
      "        \n",
      "        val spins = variables collect {case s: Spin => s}\n",
      "        \n",
      "        for(s <- spins){\n",
      "                val i = s.i\n",
      "                val localFamiliy = localFamilies(i)\n",
      "                results += localFamiliy.Factor(s)\n",
      "                \n",
      "                val spinContainer = s.cont\n",
      "                val pKeys = pairwiseFamilies.keys.filter((k: Pair[Int, Int]) => k._1 == i || k._2 == i)\n",
      "                for(k <- pKeys) {\n",
      "                    val pairwiseFamily = pairwiseFamilies(k)\n",
      "                    results += pairwiseFamily.Factor(spinContainer(k._1), spinContainer(k._2))\n",
      "                }\n",
      "        }\n",
      "        results\n",
      "    }\n",
      "    \n",
      "    \n",
      "}"
     ],
     "language": "python",
     "metadata": {},
     "outputs": [
      {
       "output_type": "stream",
       "stream": "stdout",
       "text": []
      },
      {
       "output_type": "stream",
       "stream": "stderr",
       "text": []
      }
     ],
     "prompt_number": 8
    },
    {
     "cell_type": "code",
     "collapsed": false,
     "input": [
      "val myData = List(\n",
      "                  \"A0E0B\",\n",
      "                  \"A0E0B\",\n",
      "                  \"D0E0C\",\n",
      "                  \"A0E0B\",\n",
      "                  \"D0E0C\",\n",
      "                  \"A0E0B\",\n",
      "                  \"D0E0C\",\n",
      "                  \"A0E0B\",\n",
      "                  \"A0E0B\",\n",
      "                  \"D0E0D\"\n",
      "                  )\n",
      "val myVaribs = for(e <- myData) yield generateSpinVector(e)\n"
     ],
     "language": "python",
     "metadata": {},
     "outputs": [
      {
       "output_type": "stream",
       "stream": "stdout",
       "text": []
      },
      {
       "output_type": "stream",
       "stream": "stderr",
       "text": []
      },
      {
       "metadata": {},
       "output_type": "pyout",
       "prompt_number": 9,
       "text": [
        "List(Vector(A, 0, E, 0, B), Vector(A, 0, E, 0, B), Vector(D, 0, E, 0, C), Vector(A, 0, E, 0, B), Vector(D, 0, E, 0, C), Vector(A, 0, E, 0, B), Vector(D, 0, E, 0, C), Vector(A, 0, E, 0, B), Vector(A, 0, E, 0, B), Vector(D, 0, E, 0, D))"
       ]
      }
     ],
     "prompt_number": 9
    },
    {
     "cell_type": "code",
     "collapsed": false,
     "input": [],
     "language": "python",
     "metadata": {},
     "outputs": [],
     "prompt_number": 9
    },
    {
     "cell_type": "code",
     "collapsed": false,
     "input": [
      "import cc.factorie.la.DenseTensor2"
     ],
     "language": "python",
     "metadata": {},
     "outputs": [
      {
       "output_type": "stream",
       "stream": "stdout",
       "text": []
      },
      {
       "output_type": "stream",
       "stream": "stderr",
       "text": []
      }
     ],
     "prompt_number": 10
    },
    {
     "cell_type": "code",
     "collapsed": false,
     "input": [
      "//has been tested\n",
      "def fobeniusNorm(t: DenseTensor2): Double = {\n",
      "    def averageOverRow(t: DenseTensor2, k: Int): Double = {\n",
      "        // J_ij(k, .) k being a row\n",
      "        val row = for(l <- 0 until t.dim2) yield t(k, l)\n",
      "        row.sum/row.length\n",
      "    }    \n",
      "    def averageOverCol(t: DenseTensor2, l: Int): Double = {\n",
      "        // J_ij(., l) l being a column\n",
      "        val col = for(k <- 0 until t.dim1) yield t(k, l)\n",
      "        col.sum/col.length\n",
      "    }\n",
      "        \n",
      "    val totalAverage: Double = t.sum/t.length\n",
      "    \n",
      "    val transformed: DenseTensor2 = t.copy\n",
      "    for(k <- 0 until t.dim1; l <- 0 until t.dim2) {\n",
      "        transformed(k, l) = t(k, l) - averageOverRow(t, k) - averageOverCol(t, l) + totalAverage\n",
      "    }\n",
      "    \n",
      "    math.sqrt(transformed.twoNorm)\n",
      "}"
     ],
     "language": "python",
     "metadata": {},
     "outputs": [
      {
       "output_type": "stream",
       "stream": "stdout",
       "text": []
      },
      {
       "output_type": "stream",
       "stream": "stderr",
       "text": []
      }
     ],
     "prompt_number": 11
    },
    {
     "cell_type": "code",
     "collapsed": false,
     "input": [
      "def printSortedNorms(model: PottsModel): Unit = {\n",
      "    val norms = for(k <- model.pairwiseFamilies.keys) yield (k, fobeniusNorm(model.parameters(model.pairwiseFamilies(k).weights).asInstanceOf[DenseTensor2]))\n",
      "    val sorted = norms.toList.sortBy(_._2)\n",
      "    for(s <- sorted) println(s)\n",
      "}"
     ],
     "language": "python",
     "metadata": {},
     "outputs": [
      {
       "output_type": "stream",
       "stream": "stdout",
       "text": []
      },
      {
       "output_type": "stream",
       "stream": "stderr",
       "text": []
      }
     ],
     "prompt_number": 12
    },
    {
     "cell_type": "code",
     "collapsed": false,
     "input": [
      "import cc.factorie.optimize.{AdaGrad, Trainer, LikelihoodExample}\n",
      "import cc.factorie.infer.{InferByMeanField, InferByBPLoopy, InferByBPTree, InferByGibbsSampling}\n",
      "val model1 = new PottsModel(5, spinDomain)\n",
      "val model2 = new PottsModel(5, spinDomain)"
     ],
     "language": "python",
     "metadata": {},
     "outputs": [
      {
       "output_type": "stream",
       "stream": "stderr",
       "text": []
      },
      {
       "output_type": "stream",
       "stream": "stdout",
       "text": []
      },
      {
       "metadata": {},
       "output_type": "pyout",
       "prompt_number": 107,
       "text": [
        "PottsModel@16e747ef"
       ]
      }
     ],
     "prompt_number": 107
    },
    {
     "cell_type": "code",
     "collapsed": false,
     "input": [
      "val loopyexamples = myVaribs.map(v => new LikelihoodExample(v, model1, InferByBPLoopy))\n",
      "//val treeexamples = myVaribs.map(v => new LikelihoodExample(v, model, InferByBPTree))\n",
      "//val mfexamples = myVaribs.map(v => new LikelihoodExample(v, model, InferByMeanField))\n",
      "val gibbsexamples = myVaribs.map(v => new LikelihoodExample(v, model2, InferByGibbsSampling))"
     ],
     "language": "python",
     "metadata": {},
     "outputs": [
      {
       "output_type": "stream",
       "stream": "stdout",
       "text": []
      },
      {
       "output_type": "stream",
       "stream": "stderr",
       "text": []
      },
      {
       "metadata": {},
       "output_type": "pyout",
       "prompt_number": 108,
       "text": [
        "List(cc.factorie.optimize.LikelihoodExample@1d08511e, cc.factorie.optimize.LikelihoodExample@d059776, cc.factorie.optimize.LikelihoodExample@6a1acaa7, cc.factorie.optimize.LikelihoodExample@4eed05d, cc.factorie.optimize.LikelihoodExample@5ab18c32, cc.factorie.optimize.LikelihoodExample@3e6b5522, cc.factorie.optimize.LikelihoodExample@78a24b31, cc.factorie.optimize.LikelihoodExample@66f6bbd6, cc.factorie.optimize.LikelihoodExample@50a61369, cc.factorie.optimize.LikelihoodExample@47447bdc)"
       ]
      }
     ],
     "prompt_number": 108
    },
    {
     "cell_type": "code",
     "collapsed": false,
     "input": [
      "spinDomain.length"
     ],
     "language": "python",
     "metadata": {},
     "outputs": [
      {
       "output_type": "stream",
       "stream": "stdout",
       "text": []
      },
      {
       "output_type": "stream",
       "stream": "stderr",
       "text": []
      },
      {
       "metadata": {},
       "output_type": "pyout",
       "prompt_number": 9,
       "text": [
        "21"
       ]
      }
     ],
     "prompt_number": 9
    },
    {
     "cell_type": "code",
     "collapsed": false,
     "input": [
      "import cc.factorie._\n",
      "import cc.factorie.directed._\n",
      "import cc.factorie.variable.DoubleVariable\n",
      "val NUMSITES = 32\n",
      "val NUMAA = spinDomain.length\n",
      "val allEdges = (for(i <- 0 until NUMSITES; j <- 0 until NUMSITES if i < j) yield (i, j)).toSet\n",
      "def drawFromSet[A](p: Double, s: Set[A]): Set[A] = {\n",
      "    val rand = new scala.util.Random(0)\n",
      "    val drawn = for(i <- s if p > rand.nextDouble) yield i\n",
      "    drawn\n",
      "}\n",
      "val drawnEdges = drawFromSet[Pair[Int, Int]](0.05, allEdges)\n",
      "//bert\n",
      "implicit val model = DirectedModel()\n",
      "implicit val random = new scala.util.Random(0)\n",
      "val mean = new DoubleVariable(0)\n",
      "val variance = new DoubleVariable(1.0)\n",
      "val localWeights = for(i <- 0 until NUMSITES) yield new DenseTensor1(NUMAA)\n",
      "for(s <- localWeights){\n",
      "    for(a <- 0 until NUMAA) {\n",
      "        val w = new DoubleVariable :~ Gaussian(mean, variance)\n",
      "        s(a) = w.value\n",
      "    }\n",
      "}      \n",
      "                        \n",
      "val pairWeights = Map[Pair[Int, Int], DenseTensor2]()\n",
      "for(e <- allEdges) pairWeights += (e -> new DenseTensor2(NUMAA, NUMAA))\n",
      "for(e <- drawnEdges){\n",
      "    for(a1 <- 0 until NUMAA; a2 <- 0 until NUMAA if a1 <= a2) {\n",
      "        val w = new DoubleVariable :~ Gaussian(mean, variance)\n",
      "        pairWeights(e)(a1, a2) = w.value\n",
      "        pairWeights(e)(a2, a1) = w.value\n",
      "    }\n",
      "}"
     ],
     "language": "python",
     "metadata": {},
     "outputs": [
      {
       "output_type": "stream",
       "stream": "stderr",
       "text": []
      },
      {
       "output_type": "stream",
       "stream": "stdout",
       "text": []
      },
      {
       "ename": "",
       "evalue": "",
       "output_type": "pyerr",
       "traceback": [
        "<console>:21: error: type mismatch;",
        " found   : scala.collection.immutable.Set[(Int, Int)]",
        " required: scala.collection.mutable.Set[(Int, Int)]",
        " Note: implicit value model is not applicable here because it comes after the application point and it lacks an explicit result type",
        "              val drawnEdges = drawFromSet[Pair[Int, Int]](0.05, allEdges)",
        "                                                                 ^"
       ]
      }
     ],
     "prompt_number": 19
    },
    {
     "cell_type": "code",
     "collapsed": false,
     "input": [],
     "language": "python",
     "metadata": {},
     "outputs": []
    }
   ],
   "metadata": {}
  }
 ]
}