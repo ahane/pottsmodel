{
 "metadata": {
  "name": ""
 },
 "nbformat": 3,
 "nbformat_minor": 0,
 "worksheets": [
  {
   "cells": [
    {
     "cell_type": "code",
     "collapsed": false,
     "input": [
      "import cc.factorie._\n",
      "import cc.factorie.directed._\n",
      "import la.{DenseTensor2, Tensor2, DenseTensor1, Tensor1, Tensor}\n",
      "import cc.factorie.directed.{MaximizeMultivariateGaussianCovariance, MaximizeMultivariateGaussianMean, MultivariateGaussian, Gaussian}\n",
      "//import collection.mutable.{Map}\n",
      "import collection.mutable.{ArrayBuffer}\n",
      "import cc.factorie.variable.{CategoricalDomain, CategoricalVariable, DoubleVariable, MutableDiscreteVar}\n",
      "import cc.factorie.model.{Parameters, Model, Factor, DotFamilyWithStatistics1, DotFamilyWithStatistics2, Weights2, WeightsMap,WeightsSet}\n",
      "import cc.factorie.la.{DenseTensor1, DenseTensor2}"
     ],
     "language": "python",
     "metadata": {},
     "outputs": [
      {
       "output_type": "stream",
       "stream": "stdout",
       "text": []
      },
      {
       "output_type": "stream",
       "stream": "stderr",
       "text": []
      }
     ],
     "prompt_number": 1
    },
    {
     "cell_type": "code",
     "collapsed": false,
     "input": [
      "implicit val random = scala.util.Random"
     ],
     "language": "python",
     "metadata": {},
     "outputs": [
      {
       "output_type": "stream",
       "stream": "stderr",
       "text": []
      },
      {
       "output_type": "stream",
       "stream": "stdout",
       "text": []
      },
      {
       "metadata": {},
       "output_type": "pyout",
       "prompt_number": 2,
       "text": [
        "scala.util.Random$@e25df95"
       ]
      }
     ],
     "prompt_number": 2
    },
    {
     "cell_type": "code",
     "collapsed": false,
     "input": [
      "object spinDomain extends CategoricalDomain[Char](List('a', 'r', 'n', 'd', 'c', 'q', 'e', 'g', 'h', 'i', 'l', 'k', 'm', 'f', 'p', 's', 't', 'w', 'y', 'v', '-'))  "
     ],
     "language": "python",
     "metadata": {},
     "outputs": [
      {
       "output_type": "stream",
       "stream": "stderr",
       "text": []
      },
      {
       "output_type": "stream",
       "stream": "stdout",
       "text": []
      },
      {
       "metadata": {},
       "output_type": "pyout",
       "prompt_number": 3,
       "text": [
        "CategoricalDomain[](21)"
       ]
      }
     ],
     "prompt_number": 3
    },
    {
     "cell_type": "code",
     "collapsed": false,
     "input": [
      "class GREMLINWeightGenerator(\n",
      "    val domain: CategoricalDomain[Char], \n",
      "    val numSites: Int, \n",
      "    val edgeProbability: Double,\n",
      "    val localMean: Double = 0,\n",
      "    val localVariance: Double = 1.0,\n",
      "    val pairwiseMean: Double = 0,\n",
      "    val pairwiseVariance: Double = 3.0)(implicit val random: scala.util.Random)  {\n",
      "    \n",
      "    \n",
      "    //allEdges contains all permutations of our\n",
      "    val allEdges = (for(i <- 0 until numSites; j <- 0 until numSites if i < j) yield (i, j)).toSet\n",
      "    val activeEdges = drawFromSet(edgeProbability, allEdges)\n",
      "    \n",
      "    def drawFromSet[A](p: Double, s: Set[A]): Set[A] = {\n",
      "        val drawn = for(i <- s if random.nextDouble < p) yield i\n",
      "        drawn\n",
      "    }  \n",
      "    \n",
      "    def generateLocalMasses: IndexedSeq[DenseTensor1] = {\n",
      "        implicit val model = DirectedModel()\n",
      "        \n",
      "        val mean = new DoubleVariable(localMean)\n",
      "        val variance = new DoubleVariable(localVariance)\n",
      "        \n",
      "        val localMasses = for(i <- 0 until numSites) yield new DenseTensor1(domain.size)\n",
      "        for(massTensor <- localMasses){\n",
      "            for(i <- 0 until massTensor.dim1){\n",
      "                val mass = new DoubleVariable :~ Gaussian(mean, variance)\n",
      "                massTensor(i) = mass.value\n",
      "            }\n",
      "        }\n",
      "        localMasses\n",
      "    }\n",
      "    \n",
      "    def generatePairwiseMasses: Map[(Int, Int), DenseTensor2] = {\n",
      "        val pairMasses: Map[(Int, Int), DenseTensor2] =(for(e <- activeEdges) yield (e -> generatePairwiseTensor)).toMap\n",
      "        pairMasses\n",
      "    }\n",
      "    \n",
      "    def generatePairwiseTensor: DenseTensor2 = {\n",
      "        implicit val model = DirectedModel()\n",
      "        \n",
      "        val mean = new DoubleVariable(pairwiseMean)\n",
      "        val variance = new DoubleVariable(pairwiseVariance)\n",
      "        \n",
      "        val tensor = new DenseTensor2(domain.size, domain.size)\n",
      "        //for(a1 <- 0 until domain.size; a2 <- 0 until domain.size if a1 <= a2) {\n",
      "        for(a1 <- 0 until domain.size; a2 <- 0 until domain.size) {\n",
      "            val mass = new DoubleVariable :~ Gaussian(mean, variance)\n",
      "            tensor(a1, a2) = mass.value\n",
      "            //tensor(a2, a1) = mass.value\n",
      "        }\n",
      "        tensor\n",
      "    }\n",
      "}\n",
      "\n",
      "object GREMLINWeightGenerator {\n",
      "    def apply(domain: CategoricalDomain[Char], n: Int, p: Double) = new GREMLINWeightGenerator(domain, n, p)\n",
      "    def apply(domain: CategoricalDomain[Char], p: Double) = new GREMLINWeightGenerator(domain, 10, p)\n",
      "}"
     ],
     "language": "python",
     "metadata": {},
     "outputs": [
      {
       "output_type": "stream",
       "stream": "stdout",
       "text": []
      },
      {
       "output_type": "stream",
       "stream": "stderr",
       "text": []
      },
      {
       "metadata": {},
       "output_type": "pyout",
       "prompt_number": 4,
       "text": [
        "GREMLINWeightGenerator$@d27bdb2"
       ]
      }
     ],
     "prompt_number": 4
    },
    {
     "cell_type": "code",
     "collapsed": false,
     "input": [
      "class Spin(v: Char, val i: Int, d: CategoricalDomain[Char]) extends CategoricalVariable[Char](v){\n",
      "    def domain = d\n",
      "    var cont: IndexedSeq[Spin] = null\n",
      "    def setContainer(c: IndexedSeq[Spin]): Unit = {this.cont = c}\n",
      "    override def toString = this.i.toString + \": \" + this.value.toString  \n",
      "}\n",
      "object Spin {\n",
      "    def apply(c: Char, i: Int, d: CategoricalDomain[Char]): Spin = new Spin(c, i, d)\n",
      "    def vector(s: String, d: CategoricalDomain[Char]): IndexedSeq[Spin] = {\n",
      "        val vector = for((c, i) <- s.zipWithIndex) yield Spin(c, i, d)\n",
      "        vector.foreach(_.setContainer(vector))\n",
      "        vector\n",
      "    }\n",
      "    def vector(c: Char, numSites: Int, d: CategoricalDomain[Char]): IndexedSeq[Spin] = {\n",
      "        val vector = for(i <- 0 until numSites) yield Spin(c, i, d)\n",
      "        vector.foreach(_.setContainer(vector))\n",
      "        vector\n",
      "    }\n",
      "}"
     ],
     "language": "python",
     "metadata": {},
     "outputs": [
      {
       "output_type": "stream",
       "stream": "stdout",
       "text": []
      },
      {
       "output_type": "stream",
       "stream": "stderr",
       "text": []
      },
      {
       "metadata": {},
       "output_type": "pyout",
       "prompt_number": 5,
       "text": [
        "Spin$@7444320a"
       ]
      }
     ],
     "prompt_number": 5
    },
    {
     "cell_type": "code",
     "collapsed": false,
     "input": [
      "class PottsModel(\n",
      "    val domain: CategoricalDomain[Char], \n",
      "    val localMasses: IndexedSeq[DenseTensor1],\n",
      "    val pairwiseMasses: Map[(Int, Int), DenseTensor2])\n",
      "    extends Model with Parameters {\n",
      "    \n",
      "    val localFamilies: IndexedSeq[DotFamilyWithStatistics1[Spin]] = \n",
      "        for(m <- localMasses) yield new DotFamilyWithStatistics1[Spin] { val weights = Weights(m) }\n",
      "                                       \n",
      "    val pairwiseFamilies: Map[(Int, Int), DotFamilyWithStatistics2[Spin, Spin]] =\n",
      "        for((k, m) <- pairwiseMasses) yield (k -> new DotFamilyWithStatistics2[Spin, Spin] { val weights = Weights(m) })\n",
      "    \n",
      "            \n",
      "    def factors(variables: Iterable[Var]): Iterable[Factor] = {\n",
      "        val results = new ArrayBuffer[Factor]\n",
      "        \n",
      "        val spins = variables collect {case s: Spin => s}\n",
      "        for(s <- spins){\n",
      "                val localFamily = localFamilies(s.i)\n",
      "                results += localFamily.Factor(s)\n",
      "            \n",
      "                val pKeys = pairwiseFamilies.keys.filter((k: (Int, Int)) => k._1 == s.i || k._2 == s.i)\n",
      "                for(k <- pKeys) {\n",
      "                    val pairwiseFamily = pairwiseFamilies(k)\n",
      "                    results += pairwiseFamily.Factor(s.cont(k._1), s.cont(k._2))\n",
      "                }\n",
      "        }\n",
      "        results\n",
      "    }\n",
      "}\n",
      "    \n",
      "object PottsModel {\n",
      "    def apply(numSites: Int, domain: CategoricalDomain[Char]): PottsModel = {\n",
      "        val localMasses = for(i <- 0 until numSites) yield new DenseTensor1(domain.size)\n",
      "        val pairwiseMasses = (for(i <- 0 until numSites; j <- 0 until numSites if i < j) yield ((i, j), new DenseTensor2(domain.size, domain.size))).toMap\n",
      "        \n",
      "        new PottsModel(domain, localMasses, pairwiseMasses)\n",
      "    }\n",
      "    def apply(localMasses: IndexedSeq[DenseTensor1], pairwiseMasses: Map[(Int, Int), DenseTensor2], domain: CategoricalDomain[Char]): PottsModel = {\n",
      "        new PottsModel(domain, localMasses, pairwiseMasses)\n",
      "    }\n",
      "    \n",
      "    def frequenciesAsWeights(samples: Seq[IndexedSeq[Spin]], domain: CategoricalDomain[Char]): PottsModel = {\n",
      "        val PSEUDOCOUNT = 2.\n",
      "        assert(samples.forall(_.length == samples(0).length), \"Samples must all be of same length.\")\n",
      "        val numSites = samples(0).length\n",
      "        val numSamples = samples.toList.length\n",
      "        val model = PottsModel(numSites, domain)\n",
      "        \n",
      "        for ((key, family) <- model.pairwiseFamilies) {\n",
      "            val weightTensor = model.parameters(family.weights)\n",
      "            \n",
      "            //we add a pseudocount as in [Weight08]\n",
      "            val pseudoCountTensor = weightTensor.copy\n",
      "            for(i <- 0 until pseudoCountTensor.asArray.length) pseudoCountTensor.update(i, (PSEUDOCOUNT/domain.size))\n",
      "            weightTensor += pseudoCountTensor\n",
      "            \n",
      "            for(s <- samples) {\n",
      "                val factor = family.Factor(s(key._1), s(key._2))    \n",
      "                weightTensor += factor.currentStatistics\n",
      "            }\n",
      "            //we correct our denominator by domain.size to account for the pseudocount\n",
      "            weightTensor *= 1./(numSamples + (domain.size * PSEUDOCOUNT))\n",
      "        }\n",
      "        for ((family, i) <- model.localFamilies.zipWithIndex) {\n",
      "            val weightTensor = model.parameters(family.weights)\n",
      "            \n",
      "            val pseudoCountTensor = weightTensor.copy\n",
      "            for(i <- 0 until pseudoCountTensor.asArray.length) pseudoCountTensor.update(i, PSEUDOCOUNT)\n",
      "            weightTensor += pseudoCountTensor\n",
      "            \n",
      "            for(s <- samples) {\n",
      "                val factor = family.Factor(s(i))\n",
      "                weightTensor += factor.currentStatistics\n",
      "            }\n",
      "            weightTensor *= 1./(numSamples + (domain.size * PSEUDOCOUNT))\n",
      "        }\n",
      "        model\n",
      "    }      \n",
      "\n",
      "}"
     ],
     "language": "python",
     "metadata": {},
     "outputs": [
      {
       "output_type": "stream",
       "stream": "stdout",
       "text": []
      },
      {
       "output_type": "stream",
       "stream": "stderr",
       "text": []
      },
      {
       "metadata": {},
       "output_type": "pyout",
       "prompt_number": 92,
       "text": [
        "PottsModel$@6c764cf6"
       ]
      }
     ],
     "prompt_number": 92
    },
    {
     "cell_type": "markdown",
     "metadata": {},
     "source": []
    },
    {
     "cell_type": "code",
     "collapsed": false,
     "input": [
      "def makeFreqModel(numSites: Int, domain: CategoricalDomain[Char], connectedness: Double): (PottsModel, PottsModel) = {\n",
      "    val g = GREMLINWeightGenerator(domain, numSites, connectedness)\n",
      "    val localWeights = g.generateLocalMasses\n",
      "    val pairwiseWeights = g.generatePairwiseMasses\n",
      "    val trueModel = PottsModel(localWeights, pairwiseWeights, domain)\n",
      "    val spins = Spin.vector('a', numSites, domain)\n",
      "    val strings = generateSampleStrings(2000, trueModel, spins)\n",
      "    val vectors = strings.map(Spin.vector(_, domain))\n",
      "    \n",
      "    val objectiveModel = PottsModel.frequenciesAsWeights(vectors, domain)\n",
      "\n",
      "    return (trueModel, objectiveModel)\n",
      "    }\n",
      "    "
     ],
     "language": "python",
     "metadata": {},
     "outputs": [
      {
       "output_type": "stream",
       "stream": "stderr",
       "text": []
      },
      {
       "output_type": "stream",
       "stream": "stdout",
       "text": []
      }
     ],
     "prompt_number": 37
    },
    {
     "cell_type": "code",
     "collapsed": false,
     "input": [
      "val m = PottsModel.frequenciesAsWeights(s, d)"
     ],
     "language": "python",
     "metadata": {},
     "outputs": [
      {
       "output_type": "stream",
       "stream": "stdout",
       "text": []
      },
      {
       "output_type": "stream",
       "stream": "stderr",
       "text": []
      },
      {
       "metadata": {},
       "output_type": "pyout",
       "prompt_number": 75,
       "text": [
        "PottsModel@30d07453"
       ]
      }
     ],
     "prompt_number": 75
    },
    {
     "cell_type": "code",
     "collapsed": false,
     "input": [
      "m.parameters(m.pairwiseFamilies(0, 1).weights)"
     ],
     "language": "python",
     "metadata": {},
     "outputs": [
      {
       "output_type": "stream",
       "stream": "stderr",
       "text": []
      },
      {
       "output_type": "stream",
       "stream": "stdout",
       "text": []
      },
      {
       "metadata": {},
       "output_type": "pyout",
       "prompt_number": 76,
       "text": [
        "DenseTensor2(0.3333333333333333,0.3333333333333333,0.0,0.3333333333333333)"
       ]
      }
     ],
     "prompt_number": 76
    },
    {
     "cell_type": "code",
     "collapsed": false,
     "input": [
      "m.parameters(m.localFamilies(2).weights)"
     ],
     "language": "python",
     "metadata": {},
     "outputs": [
      {
       "output_type": "stream",
       "stream": "stdout",
       "text": []
      },
      {
       "output_type": "stream",
       "stream": "stderr",
       "text": []
      },
      {
       "metadata": {},
       "output_type": "pyout",
       "prompt_number": 77,
       "text": [
        "Tensor1(1.0,0.0)"
       ]
      }
     ],
     "prompt_number": 77
    },
    {
     "cell_type": "code",
     "collapsed": false,
     "input": [
      "(m.parameters(m.localFamilies(1).weights) outer m.parameters(m.localFamilies(2).weights))"
     ],
     "language": "python",
     "metadata": {},
     "outputs": [
      {
       "output_type": "stream",
       "stream": "stdout",
       "text": []
      },
      {
       "output_type": "stream",
       "stream": "stderr",
       "text": []
      },
      {
       "metadata": {},
       "output_type": "pyout",
       "prompt_number": 82,
       "text": [
        "cc.factorie.la.Outer1Tensor2(0.3333333333333333,0.0,0.6666666666666666,0.0)"
       ]
      }
     ],
     "prompt_number": 82
    },
    {
     "cell_type": "code",
     "collapsed": false,
     "input": [
      "m.parameters(m.pairwiseFamilies(1, 2).weights) - (m.parameters(m.localFamilies(1).weights) outer m.parameters(m.localFamilies(2).weights))"
     ],
     "language": "python",
     "metadata": {},
     "outputs": [
      {
       "output_type": "stream",
       "stream": "stdout",
       "text": []
      },
      {
       "output_type": "stream",
       "stream": "stderr",
       "text": []
      },
      {
       "metadata": {},
       "output_type": "pyout",
       "prompt_number": 81,
       "text": [
        "DenseTensor2(0.0,0.0,0.0,0.0)"
       ]
      }
     ],
     "prompt_number": 81
    },
    {
     "cell_type": "code",
     "collapsed": false,
     "input": [
      "val d = new CategoricalDomain[Char](List('a', 'b'))"
     ],
     "language": "python",
     "metadata": {},
     "outputs": [
      {
       "output_type": "stream",
       "stream": "stdout",
       "text": []
      },
      {
       "output_type": "stream",
       "stream": "stderr",
       "text": []
      },
      {
       "metadata": {},
       "output_type": "pyout",
       "prompt_number": 39,
       "text": [
        "CategoricalDomain[](2)"
       ]
      }
     ],
     "prompt_number": 39
    },
    {
     "cell_type": "code",
     "collapsed": false,
     "input": [
      "val s = List(\"aaaa\", \"bbaa\", \"abaa\").map(Spin.vector(_, d))"
     ],
     "language": "python",
     "metadata": {},
     "outputs": [
      {
       "output_type": "stream",
       "stream": "stdout",
       "text": []
      },
      {
       "output_type": "stream",
       "stream": "stderr",
       "text": []
      },
      {
       "metadata": {},
       "output_type": "pyout",
       "prompt_number": 65,
       "text": [
        "List(Vector(0: a, 1: a, 2: a, 3: a), Vector(0: b, 1: b, 2: a, 3: a), Vector(0: a, 1: b, 2: a, 3: a))"
       ]
      }
     ],
     "prompt_number": 65
    },
    {
     "cell_type": "code",
     "collapsed": false,
     "input": [
      "import cc.factorie.infer.{VariableSettingsSampler, InferByGibbsSampling, GibbsSampler}"
     ],
     "language": "python",
     "metadata": {},
     "outputs": []
    },
    {
     "cell_type": "code",
     "collapsed": false,
     "input": [
      "def generateSampleStrings(N:Int, model: PottsModel, variables: IndexedSeq[Spin], burnin: Int = 500): Seq[String] = {\n",
      "    implicit val random = new scala.util.Random(0)                                                                                                   \n",
      "    val sampler = new GibbsSampler(model)\n",
      "    val strings = new ArrayBuffer[String]\n",
      "    for(i <- 0 until N+burnin) {\n",
      "        sampler.processAll(variables)\n",
      "        if(i > burnin) strings += variables.map(_.value).mkString\n",
      "    }\n",
      "    strings\n",
      "}"
     ],
     "language": "python",
     "metadata": {},
     "outputs": [
      {
       "output_type": "stream",
       "stream": "stdout",
       "text": []
      },
      {
       "output_type": "stream",
       "stream": "stderr",
       "text": []
      }
     ],
     "prompt_number": 93
    },
    {
     "cell_type": "code",
     "collapsed": false,
     "input": [
      "object Timer {\n",
      "    var t: Long = 0\n",
      "    def start: Unit = { t = System.currentTimeMillis }\n",
      "    def stop: Long = { System.currentTimeMillis - t}\n",
      "}"
     ],
     "language": "python",
     "metadata": {},
     "outputs": [
      {
       "output_type": "stream",
       "stream": "stdout",
       "text": []
      },
      {
       "output_type": "stream",
       "stream": "stderr",
       "text": []
      },
      {
       "metadata": {},
       "output_type": "pyout",
       "prompt_number": 10,
       "text": [
        "Timer$@37b1c132"
       ]
      }
     ],
     "prompt_number": 10
    },
    {
     "cell_type": "code",
     "collapsed": false,
     "input": [
      "class ModelValidator(val trueModel: PottsModel, val proposedModel: PottsModel, val stats: Map[(Int, Int), Double]) {\n",
      "    val allNorms =\n",
      "        (for {(key, family) <- proposedModel.pairwiseFamilies //the proposedModel is completely connected\n",
      "                \n",
      "                val trueNorm = if(trueModel.pairwiseFamilies.keys.toSet.contains(key)) \n",
      "                               fNorm(trueModel.parameters(trueModel.pairwiseFamilies(key).weights)) \n",
      "                           else\n",
      "                               0.0\n",
      "                //propNorm = fNorm(proposedModel.parameters(family.weights))\n",
      "                val propNorm = fNorm(proposedModel.parameters(proposedModel.pairwiseFamilies(key).weights))\n",
      "            }\n",
      "            yield (key, (trueNorm, propNorm))).toMap\n",
      "    \n",
      "    \n",
      "    val allSquaredErrors = (for((trueValue, proposedValue) <- allNorms.values) yield squaredError(trueValue, proposedValue))\n",
      "    \n",
      "    val meanSquaredError = allSquaredErrors.sum / allSquaredErrors.toList.length\n",
      "    \n",
      "    def squaredError(values: Tuple2[Double, Double]): Double = math.pow((values._1 - values._2), 2)                                                                                       \n",
      "    \n",
      "    def printStats(): Unit = {\n",
      "            val sorted = allNorms.toList.sortBy(_._2._2).reverse //sort by trueNorm\n",
      "            val maxKeyLength = allNorms.toList.map(_._1).map(k => k._1.toString.length + k._1.toString.length).max\n",
      "            val maxTrueNormLength = allNorms.toList.map(_._2._1).map(_.toString.length).max\n",
      "            val maxPropNormLength = allNorms.toList.map(_._2._2).map(_.toString.length).max\n",
      "            for ((k, v) <- sorted) {\n",
      "                val keyLength: Int = k._1.toString.length + k._2.toString.length\n",
      "                print(k)\n",
      "                for(i <- 0 until maxKeyLength - keyLength) print(\" \")\n",
      "                print(\"    \")\n",
      "                print(v._1)\n",
      "                for(i <- 0 until maxTrueNormLength - v._1.toString.length) print(\" \")\n",
      "                print(\"    \")\n",
      "                print(v._2)\n",
      "                for(i <- 0 until maxPropNormLength - v._2.toString.length) print(\" \")\n",
      "                print(\"    \")\n",
      "                if(stats != null) print(stats(k))\n",
      "                println()\n",
      "            }\n",
      "        }\n",
      "        \n",
      "        \n",
      "    \n",
      "    //The frobenius norm\n",
      "    def fNorm(w: Tensor): Double = {\n",
      "        val t = w.asInstanceOf[DenseTensor2]\n",
      "        def averageOverRow(t: DenseTensor2, k: Int): Double = {\n",
      "            // J_ij(k, .) k being a row\n",
      "            val row = for(l <- 0 until t.dim2) yield t(k, l)\n",
      "            row.sum/row.length\n",
      "        }    \n",
      "        def averageOverCol(t: DenseTensor2, l: Int): Double = {\n",
      "            // J_ij(., l) l being a column\n",
      "            val col = for(k <- 0 until t.dim1) yield t(k, l)\n",
      "            col.sum/col.length\n",
      "        }\n",
      "        val totalAverage: Double = t.sum/t.length\n",
      "        val transformed: DenseTensor2 = t.copy\n",
      "        for(k <- 0 until t.dim1; l <- 0 until t.dim2) {\n",
      "            transformed(k, l) = t(k, l) - averageOverRow(t, k) - averageOverCol(t, l) + totalAverage\n",
      "        }\n",
      "        math.sqrt(transformed.twoNorm)\n",
      "    }\n",
      "}\n",
      "object ModelValidator {\n",
      "    def apply(proposedModel: PottsModel, trueModel: PottsModel) = new ModelValidator(proposedModel, trueModel, null)\n",
      "    def apply(proposedModel: PottsModel, trueModel: PottsModel, stats: Map[(Int, Int), Double]) = new ModelValidator(proposedModel, trueModel, stats)\n",
      "}"
     ],
     "language": "python",
     "metadata": {},
     "outputs": [
      {
       "output_type": "stream",
       "stream": "stderr",
       "text": []
      },
      {
       "output_type": "stream",
       "stream": "stdout",
       "text": []
      },
      {
       "metadata": {},
       "output_type": "pyout",
       "prompt_number": 11,
       "text": [
        "ModelValidator$@b5acfcd"
       ]
      }
     ],
     "prompt_number": 11
    },
    {
     "cell_type": "code",
     "collapsed": false,
     "input": [
      "import cc.factorie.optimize._\n",
      "import cc.factorie.infer.{InferByBPLoopy, InferByGibbsSampling}"
     ],
     "language": "python",
     "metadata": {},
     "outputs": [
      {
       "output_type": "stream",
       "stream": "stdout",
       "text": []
      },
      {
       "output_type": "stream",
       "stream": "stderr",
       "text": []
      }
     ],
     "prompt_number": 12
    },
    {
     "cell_type": "code",
     "collapsed": false,
     "input": [
      "implicit val random = scala.util.Random"
     ],
     "language": "python",
     "metadata": {},
     "outputs": [
      {
       "output_type": "stream",
       "stream": "stdout",
       "text": []
      },
      {
       "output_type": "stream",
       "stream": "stderr",
       "text": []
      },
      {
       "metadata": {},
       "output_type": "pyout",
       "prompt_number": 13,
       "text": [
        "scala.util.Random$@e25df95"
       ]
      }
     ],
     "prompt_number": 13
    },
    {
     "cell_type": "code",
     "collapsed": false,
     "input": [],
     "language": "python",
     "metadata": {},
     "outputs": [],
     "prompt_number": 13
    },
    {
     "cell_type": "code",
     "collapsed": false,
     "input": [
      "//we add a pseudocount of 1\n",
      "class Counter(var value: Double=1) {\n",
      "    def add(t: Double): Unit = {value += t}\n",
      "    def divide(t: Double): Unit = {value *= 1/t}\n",
      "    override def toString: String = {value.toString}\n",
      "}"
     ],
     "language": "python",
     "metadata": {},
     "outputs": [
      {
       "output_type": "stream",
       "stream": "stdout",
       "text": []
      },
      {
       "output_type": "stream",
       "stream": "stderr",
       "text": []
      }
     ],
     "prompt_number": 14
    },
    {
     "cell_type": "code",
     "collapsed": false,
     "input": [
      "//merge this mith PottsModel.frequenciesAsWeights\n",
      "class MutualInformation(val samples: Seq[String], domain: CategoricalDomain[Char]) {\n",
      "    val total = samples.length\n",
      "    val numSites = samples(0).length\n",
      "    val categories = domain.categories\n",
      "    \n",
      "    val localFreqs = countLocalFrequencies\n",
      "    val pairwiseFreqs = countPairwiseFrequencies\n",
      "    \n",
      "    \n",
      "    def makeLocalCountsMap: Map[Char, Counter] = (for(c <- categories) yield (c, new Counter)).toMap\n",
      "    def countLocalFrequencies: IndexedSeq[Map[Char, Counter]] = {\n",
      "        val sitewiseCountMaps: IndexedSeq[Map[Char, Counter]] = for(i <- 0 until numSites) yield makeLocalCountsMap\n",
      "        \n",
      "        for(sample <- samples; (category, i) <- sample.zipWithIndex) sitewiseCountMaps(i)(category).add(1)\n",
      "        \n",
      "        for(countMap <- sitewiseCountMaps; c <- categories) countMap(c).divide(total)\n",
      "        sitewiseCountMaps\n",
      "    }\n",
      "    \n",
      "    def makePairwiseCountsMap: Map[(Char, Char), Counter] = (for(c1 <- categories; c2 <- categories) yield ((c1, c2), new Counter)).toMap\n",
      "    def countPairwiseFrequencies: Map[(Int, Int), Map[(Char, Char), Counter]] = {\n",
      "   \n",
      "        val pairwiseCountMaps: Map[(Int, Int), Map[(Char, Char), Counter]] = (for(i <- 0 until numSites; j <- 0 until numSites) yield ((i, j), makePairwiseCountsMap)).toMap\n",
      "    \n",
      "        for(sample <- samples; (c_i, i) <- sample.zipWithIndex; (c_j, j) <- sample.zipWithIndex) pairwiseCountMaps(i, j)(c_i, c_j).add(1)\n",
      "        for(countMap <- pairwiseCountMaps.values; c_i <- categories; c_j <- categories) countMap(c_i, c_j).divide(total)\n",
      "        pairwiseCountMaps\n",
      "    }\n",
      "    \n",
      "    def MI(i: Int, j: Int): Double = { \n",
      "        val f_i = localFreqs(i)\n",
      "        val f_j = localFreqs(j)\n",
      "        val f_ij = pairwiseFreqs(i, j)\n",
      "        \n",
      "        (for(k <- categories; l <- categories) yield (f_ij(k, l).value*math.log(f_ij(k,l).value/(f_i(k).value*f_j(l).value)))).sum\n",
      "        \n",
      "    }\n",
      "    val allMIs: Map[(Int, Int), Double] = (for(i <- 0 until numSites; j <- 0 until numSites if i < j) yield ((i, j), MI(i, j))).toMap\n",
      "}\n",
      "object MutualInformation {\n",
      "        def apply(samples: Seq[String], domain: CategoricalDomain[Char]) = new MutualInformation(samples, domain)\n",
      "}"
     ],
     "language": "python",
     "metadata": {},
     "outputs": [
      {
       "output_type": "stream",
       "stream": "stderr",
       "text": []
      },
      {
       "output_type": "stream",
       "stream": "stdout",
       "text": []
      },
      {
       "metadata": {},
       "output_type": "pyout",
       "prompt_number": 15,
       "text": [
        "MutualInformation$@22cb1792"
       ]
      }
     ],
     "prompt_number": 15
    },
    {
     "cell_type": "code",
     "collapsed": false,
     "input": [
      "val a = new optimize.AdaGrad with optimize.L2Regularization"
     ],
     "language": "python",
     "metadata": {},
     "outputs": [
      {
       "ename": "",
       "evalue": "",
       "output_type": "pyerr",
       "traceback": [
        "<console>:27: error: overriding method step in trait GradientStep of type (weights: cc.factorie.model.WeightsSet, gradient: cc.factorie.model.WeightsMap, value: Double)Unit;",
        " method step in trait L2Regularization of type (weights: cc.factorie.model.WeightsSet, gradient: cc.factorie.model.WeightsMap, value: Double)Unit cannot override final member",
        "       val a = new optimize.AdaGrad with optimize.L2Regularization",
        "                   ^"
       ]
      },
      {
       "output_type": "stream",
       "stream": "stdout",
       "text": []
      },
      {
       "output_type": "stream",
       "stream": "stderr",
       "text": []
      }
     ],
     "prompt_number": 32
    },
    {
     "cell_type": "code",
     "collapsed": false,
     "input": [
      "val averager = new optimize.MIRA with optimize.ParameterAveraging"
     ],
     "language": "python",
     "metadata": {},
     "outputs": [
      {
       "output_type": "stream",
       "stream": "stderr",
       "text": []
      },
      {
       "output_type": "stream",
       "stream": "stdout",
       "text": []
      },
      {
       "metadata": {},
       "output_type": "pyout",
       "prompt_number": 88,
       "text": [
        "$anon$1@534afe4"
       ]
      }
     ],
     "prompt_number": 88
    },
    {
     "cell_type": "code",
     "collapsed": false,
     "input": [
      "def experiment(numSites: Int, domain: CategoricalDomain[Char], connectedness: Double): (PottsModel, PottsModel, PottsModel, Long, Double, Seq[IndexedSeq[Spin]]) = {\n",
      "    val g = GREMLINWeightGenerator(domain, numSites, connectedness)\n",
      "    val localWeights = g.generateLocalMasses\n",
      "    val pairwiseWeights = g.generatePairwiseMasses\n",
      "    val trueModel = PottsModel(localWeights, pairwiseWeights, domain)\n",
      "    val spins = Spin.vector('a', numSites, domain)\n",
      "    val strings = generateSampleStrings(2000, trueModel, spins)\n",
      "    val vectors = strings.map(Spin.vector(_, domain))\n",
      "    \n",
      "    val objectiveModel = PottsModel.frequenciesAsWeights(vectors, domain)\n",
      "    \n",
      "    val srVectors = for((v, i) <- vectors.zipWithIndex if i % 5 == 0) yield v\n",
      "    \n",
      "    val learnedModel = PottsModel(numSites, domain)\n",
      "    val sampler = new GibbsSampler(learnedModel, objectiveModel)\n",
      "    val SRTrainer = new SampleRankTrainer(sampler, averager)\n",
      "    Timer.start\n",
      "    for(vec <- vectors) {\n",
      "        println(vec)\n",
      "        SRTrainer.processContexts(vec.shuffle, iterations=2)\n",
      "        println(vec)\n",
      "            println(\"--\")\n",
      "    }\n",
      "    return (trueModel, learnedModel, objectiveModel, Timer.stop, connectedness, srVectors)\n",
      "    }\n",
      "    "
     ],
     "language": "python",
     "metadata": {},
     "outputs": [
      {
       "output_type": "stream",
       "stream": "stdout",
       "text": []
      },
      {
       "output_type": "stream",
       "stream": "stderr",
       "text": []
      }
     ],
     "prompt_number": 94
    },
    {
     "cell_type": "code",
     "collapsed": false,
     "input": [
      "val e = experiment(10, spinDomain, 0.3)"
     ],
     "language": "python",
     "metadata": {},
     "outputs": [
      {
       "output_type": "stream",
       "stream": "stdout",
       "text": [
        "Vector(0: n, 1: i, 2: d, 3: r, 4: h, 5: a, 6: p, 7: w, 8: q, 9: k)\n",
        "Vector(0: d, 1: a, 2: w, 3: v, 4: g, 5: w, 6: q, 7: -, 8: s, 9: q)\n",
        "--\n",
        "Vector(0: s, 1: i, 2: d, 3: r, 4: h, 5: n, 6: p, 7: w, 8: y, 9: k)\n",
        "Vector(0: m, 1: v, 2: t, 3: a, 4: g, 5: g, 6: y, 7: a, 8: m, 9: e)\n",
        "--\n",
        "Vector(0: s, 1: i, 2: d, 3: r, 4: h, 5: v, 6: p, 7: w, 8: g, 9: k)\n",
        "Vector(0: f, 1: k, 2: p, 3: m, 4: m, 5: e, 6: h, 7: y, 8: i, 9: s)\n",
        "--\n",
        "Vector(0: g, 1: i, 2: f, 3: r, 4: h, 5: i, 6: p, 7: w, 8: t, 9: k)\n",
        "Vector(0: s, 1: c, 2: k, 3: r, 4: f, 5: h, 6: f, 7: a, 8: v, 9: s)\n",
        "--\n",
        "Vector(0: k, 1: i, 2: f, 3: r, 4: h, 5: w, 6: p, 7: w, 8: c, 9: k)\n",
        "Vector(0: v, 1: f, 2: s, 3: y, 4: e, 5: k, 6: v, 7: p, 8: q, 9: f)\n",
        "--\n",
        "Vector(0: g, 1: i, 2: d, 3: r, 4: h, 5: v, 6: p, 7: k, 8: r, 9: k)\n",
        "Vector(0: w, 1: p, 2: r, 3: p, 4: f, 5: h, 6: e, 7: t, 8: g, 9: s)\n",
        "--\n",
        "Vector(0: s, 1: i, 2: w, 3: r, 4: h, 5: r, 6: y, 7: k, 8: y, 9: c)\n",
        "Vector(0: q, 1: d, 2: g, 3: g, 4: l, 5: l, 6: t, 7: h, 8: l, 9: l)\n",
        "--\n",
        "Vector(0: s, 1: i, 2: w, 3: r, 4: h, 5: r, 6: r, 7: w, 8: w, 9: c)\n",
        "Vector(0: -, 1: g, 2: r, 3: s, 4: n, 5: w, 6: -, 7: k, 8: e, 9: d)\n",
        "--\n",
        "Vector(0: s, 1: i, 2: a, 3: r, 4: h, 5: w, 6: r, 7: w, 8: n, 9: c)\n",
        "Vector(0: p, 1: e, 2: s, 3: y, 4: g, 5: p, 6: a, 7: q, 8: m, 9: l)\n",
        "--\n",
        "Vector(0: s, 1: i, 2: a, 3: r, 4: h, 5: d, 6: r, 7: f, 8: q, 9: c)\n",
        "Vector(0: e, 1: g, 2: -, 3: d, 4: w, 5: h, 6: m, 7: t, 8: k, 9: y)\n",
        "--\n",
        "Vector(0: s, 1: i, 2: i, 3: g, 4: q, 5: r, 6: y, 7: w, 8: l, 9: d)\n",
        "Vector(0: y, 1: k, 2: q, 3: p, 4: r, 5: y, 6: -, 7: g, 8: a, 9: n)\n",
        "--\n",
        "Vector(0: s, 1: i, 2: w, 3: e, 4: i, 5: r, 6: y, 7: w, 8: l, 9: d)\n",
        "Vector(0: p, 1: i, 2: v, 3: c, 4: -, 5: s, 6: g, 7: r, 8: t, 9: c)\n",
        "--\n",
        "Vector(0: s, 1: i, 2: w, 3: g, 4: h, 5: r, 6: y, 7: f, 8: y, 9: s)\n",
        "Vector(0: e, 1: s, 2: v, 3: d, 4: n, 5: t, 6: l, 7: k, 8: f, 9: r)\n",
        "--\n",
        "Vector(0: s, 1: i, 2: w, 3: r, 4: h, 5: e, 6: y, 7: k, 8: w, 9: c)\n",
        "Vector(0: e, 1: v, 2: s, 3: q, 4: p, 5: w, 6: e, 7: s, 8: i, 9: p)\n",
        "--\n",
        "Vector(0: s, 1: i, 2: e, 3: r, 4: h, 5: e, 6: a, 7: f, 8: k, 9: c)\n",
        "Vector(0: d, 1: h, 2: h, 3: i, 4: w, 5: l, 6: y, 7: s, 8: w, 9: v)\n",
        "--\n",
        "Vector(0: s, 1: i, 2: e, 3: r, 4: h, 5: e, 6: a, 7: k, 8: l, 9: c)\n",
        "Vector(0: m, 1: i, 2: w, 3: i, 4: l, 5: y, 6: i, 7: v, 8: p, 9: i)\n",
        "--\n",
        "Vector(0: s, 1: i, 2: e, 3: r, 4: h, 5: e, 6: r, 7: f, 8: r, 9: c)\n",
        "Vector(0: v, 1: c, 2: n, 3: i, 4: n, 5: f, 6: s, 7: w, 8: e, 9: i)\n",
        "--\n",
        "Vector(0: s, 1: i, 2: w, 3: r, 4: h, 5: e, 6: r, 7: w, 8: d, 9: c)\n",
        "Vector(0: t, 1: f, 2: d, 3: k, 4: i, 5: g, 6: q, 7: y, 8: w, 9: y)\n",
        "--\n",
        "Vector(0: s, 1: i, 2: e, 3: r, 4: h, 5: e, 6: d, 7: f, 8: q, 9: c)\n",
        "Vector(0: q, 1: p, 2: e, 3: l, 4: q, 5: t, 6: k, 7: h, 8: k, 9: g)\n",
        "--\n",
        "Vector(0: s, 1: q, 2: e, 3: i, 4: i, 5: e, 6: d, 7: f, 8: q, 9: c)\n",
        "Vector(0: l, 1: h, 2: c, 3: c, 4: s, 5: g, 6: g, 7: p, 8: m, 9: c)\n",
        "--\n",
        "Vector(0: s, 1: i, 2: e, 3: i, 4: i, 5: e, 6: d, 7: f, 8: r, 9: c)\n",
        "Vector(0: w, 1: -, 2: n, 3: g, 4: w, 5: p, 6: s, 7: r, 8: r, 9: s)\n",
        "--\n",
        "Vector(0: s, 1: i, 2: e, 3: i, 4: i, 5: r, 6: a, 7: f, 8: w, 9: c)\n",
        "Vector(0: s, 1: m, 2: h, 3: f, 4: c, 5: i, 6: y, 7: a, 8: f, 9: a)\n",
        "--\n",
        "Vector(0: s, 1: c, 2: h, 3: i, 4: l, 5: r, 6: r, 7: y, 8: p, 9: c)\n",
        "Vector(0: s, 1: p, 2: q, 3: p, 4: r, 5: e, 6: a, 7: a, 8: r, 9: i)\n",
        "--\n",
        "Vector(0: s, 1: c, 2: r, 3: i, 4: l, 5: a, 6: r, 7: y, 8: g, 9: c)\n",
        "Vector(0: d, 1: a, 2: r, 3: r, 4: -, 5: r, 6: g, 7: a, 8: r, 9: w)\n",
        "--\n",
        "Vector(0: s, 1: e, 2: r, 3: q, 4: l, 5: w, 6: r, 7: y, 8: r, 9: c)\n",
        "Vector(0: a, 1: r, 2: f, 3: w, 4: -, 5: n, 6: y, 7: -, 8: a, 9: y)\n",
        "--\n",
        "Vector(0: s, 1: e, 2: i, 3: i, 4: f, 5: w, 6: r, 7: y, 8: w, 9: c)\n",
        "Vector(0: p, 1: c, 2: w, 3: a, 4: h, 5: r, 6: g, 7: q, 8: k, 9: q)\n",
        "--\n",
        "Vector(0: s, 1: e, 2: i, 3: q, 4: y, 5: n, 6: r, 7: y, 8: r, 9: c)\n",
        "Vector(0: a, 1: n, 2: t, 3: f, 4: e, 5: w, 6: v, 7: f, 8: t, 9: k)\n",
        "--\n",
        "Vector(0: s, 1: e, 2: i, 3: i, 4: l, 5: g, 6: r, 7: y, 8: w, 9: c)\n",
        "Vector(0: i, 1: f, 2: r, 3: s, 4: c, 5: q, 6: k, 7: f, 8: m, 9: w)\n",
        "--\n",
        "Vector(0: s, 1: c, 2: w, 3: i, 4: l, 5: m, 6: h, 7: y, 8: g, 9: c)\n"
       ]
      },
      {
       "output_type": "stream",
       "stream": "stdout",
       "text": [
        "Vector(0: h, 1: i, 2: q, 3: d, 4: q, 5: l, 6: y, 7: y, 8: q, 9: s)\n",
        "--\n",
        "Vector(0: s, 1: c, 2: v, 3: i, 4: l, 5: a, 6: h, 7: y, 8: r, 9: c)\n",
        "Vector(0: i, 1: m, 2: q, 3: g, 4: q, 5: l, 6: y, 7: i, 8: e, 9: w)\n",
        "--\n",
        "Vector(0: s, 1: i, 2: w, 3: q, 4: l, 5: e, 6: r, 7: r, 8: r, 9: c)\n",
        "Vector(0: -, 1: e, 2: e, 3: s, 4: a, 5: v, 6: k, 7: f, 8: c, 9: t)\n",
        "--\n",
        "Vector(0: s, 1: i, 2: w, 3: a, 4: l, 5: r, 6: r, 7: w, 8: q, 9: c)\n"
       ]
      },
      {
       "output_type": "stream",
       "stream": "stdout",
       "text": [
        "Vector(0: g, 1: m, 2: q, 3: l, 4: r, 5: f, 6: g, 7: e, 8: e, 9: s)\n",
        "--\n",
        "Vector(0: s, 1: i, 2: a, 3: e, 4: l, 5: r, 6: r, 7: t, 8: r, 9: c)\n",
        "Vector(0: r, 1: v, 2: i, 3: y, 4: -, 5: h, 6: -, 7: s, 8: g, 9: t)\n",
        "--\n",
        "Vector(0: s, 1: c, 2: w, 3: g, 4: l, 5: e, 6: r, 7: t, 8: g, 9: a)\n"
       ]
      },
      {
       "output_type": "stream",
       "stream": "stdout",
       "text": [
        "Vector(0: m, 1: t, 2: a, 3: i, 4: w, 5: r, 6: i, 7: a, 8: f, 9: l)\n",
        "--\n",
        "Vector(0: n, 1: i, 2: w, 3: g, 4: l, 5: r, 6: r, 7: t, 8: p, 9: a)\n",
        "Vector(0: w, 1: y, 2: l, 3: t, 4: w, 5: k, 6: c, 7: r, 8: c, 9: s)\n",
        "--\n",
        "Vector(0: c, 1: y, 2: w, 3: g, 4: h, 5: e, 6: r, 7: t, 8: p, 9: a)\n"
       ]
      },
      {
       "output_type": "stream",
       "stream": "stdout",
       "text": [
        "Vector(0: a, 1: n, 2: h, 3: d, 4: r, 5: k, 6: s, 7: -, 8: v, 9: i)\n",
        "--\n",
        "Vector(0: g, 1: d, 2: e, 3: g, 4: h, 5: e, 6: a, 7: t, 8: s, 9: a)\n",
        "Vector(0: h, 1: f, 2: d, 3: d, 4: d, 5: t, 6: y, 7: g, 8: l, 9: g)\n",
        "--\n",
        "Vector(0: g, 1: d, 2: e, 3: g, 4: h, 5: e, 6: d, 7: t, 8: r, 9: a)\n",
        "Vector(0: h, 1: c, 2: c, 3: -, 4: n, 5: -, 6: f, 7: q, 8: k, 9: n)\n",
        "--\n",
        "Vector(0: g, 1: d, 2: e, 3: g, 4: h, 5: e, 6: d, 7: t, 8: i, 9: a)\n"
       ]
      },
      {
       "output_type": "stream",
       "stream": "stdout",
       "text": [
        "Vector(0: r, 1: f, 2: w, 3: q, 4: h, 5: a, 6: e, 7: y, 8: d, 9: r)\n",
        "--\n",
        "Vector(0: g, 1: d, 2: e, 3: g, 4: h, 5: e, 6: r, 7: t, 8: l, 9: a)\n",
        "Vector(0: t, 1: v, 2: t, 3: v, 4: e, 5: m, 6: a, 7: i, 8: q, 9: r)\n",
        "--\n",
        "Vector(0: g, 1: d, 2: s, 3: g, 4: h, 5: y, 6: r, 7: t, 8: w, 9: a)\n",
        "Vector(0: t, 1: y, 2: e, 3: c, 4: l, 5: i, 6: k, 7: n, 8: l, 9: i)\n",
        "--\n",
        "Vector(0: g, 1: d, 2: s, 3: g, 4: h, 5: l, 6: r, 7: t, 8: g, 9: a)\n"
       ]
      },
      {
       "output_type": "stream",
       "stream": "stdout",
       "text": [
        "Vector(0: v, 1: q, 2: w, 3: n, 4: g, 5: -, 6: y, 7: k, 8: p, 9: v)\n",
        "--\n",
        "Vector(0: g, 1: d, 2: i, 3: g, 4: h, 5: l, 6: r, 7: t, 8: i, 9: a)\n",
        "Vector(0: c, 1: h, 2: e, 3: q, 4: v, 5: t, 6: f, 7: w, 8: e, 9: v)\n",
        "--\n",
        "Vector(0: g, 1: d, 2: i, 3: g, 4: h, 5: l, 6: r, 7: t, 8: d, 9: a)\n"
       ]
      },
      {
       "output_type": "stream",
       "stream": "stdout",
       "text": [
        "Vector(0: n, 1: f, 2: -, 3: c, 4: n, 5: y, 6: v, 7: d, 8: h, 9: s)\n",
        "--\n",
        "Vector(0: g, 1: d, 2: i, 3: g, 4: h, 5: w, 6: r, 7: t, 8: w, 9: a)\n",
        "Vector(0: g, 1: w, 2: r, 3: g, 4: w, 5: q, 6: p, 7: t, 8: l, 9: e)\n",
        "--\n",
        "Vector(0: g, 1: d, 2: i, 3: g, 4: h, 5: n, 6: r, 7: t, 8: n, 9: a)\n",
        "Vector(0: r, 1: w, 2: i, 3: v, 4: n, 5: w, 6: c, 7: y, 8: r, 9: c)\n",
        "--\n",
        "Vector(0: g, 1: d, 2: i, 3: g, 4: l, 5: l, 6: r, 7: t, 8: q, 9: a)\n"
       ]
      },
      {
       "output_type": "stream",
       "stream": "stdout",
       "text": [
        "Vector(0: k, 1: f, 2: c, 3: v, 4: i, 5: m, 6: p, 7: a, 8: r, 9: -)\n",
        "--\n",
        "Vector(0: n, 1: i, 2: m, 3: g, 4: l, 5: l, 6: r, 7: t, 8: t, 9: a)\n",
        "Vector(0: d, 1: c, 2: k, 3: k, 4: n, 5: v, 6: q, 7: -, 8: d, 9: s)\n",
        "--\n",
        "Vector(0: s, 1: i, 2: i, 3: g, 4: h, 5: w, 6: r, 7: t, 8: q, 9: a)\n",
        "Vector(0: f, 1: p, 2: y, 3: c, 4: p, 5: y, 6: -, 7: q, 8: a, 9: d)\n",
        "--\n",
        "Vector(0: s, 1: e, 2: i, 3: g, 4: p, 5: w, 6: r, 7: w, 8: w, 9: r)\n"
       ]
      },
      {
       "output_type": "stream",
       "stream": "stdout",
       "text": [
        "Vector(0: s, 1: l, 2: i, 3: i, 4: n, 5: y, 6: d, 7: a, 8: r, 9: y)\n",
        "--\n",
        "Vector(0: s, 1: e, 2: i, 3: g, 4: p, 5: c, 6: y, 7: a, 8: w, 9: c)\n",
        "Vector(0: n, 1: s, 2: t, 3: k, 4: m, 5: -, 6: g, 7: f, 8: l, 9: t)\n",
        "--\n",
        "Vector(0: s, 1: e, 2: i, 3: q, 4: p, 5: w, 6: c, 7: a, 8: q, 9: c)\n",
        "Vector(0: y, 1: n, 2: a, 3: s, 4: f, 5: y, 6: d, 7: l, 8: h, 9: v)\n",
        "--\n",
        "Vector(0: s, 1: e, 2: f, 3: q, 4: p, 5: i, 6: a, 7: a, 8: r, 9: c)\n"
       ]
      },
      {
       "output_type": "stream",
       "stream": "stdout",
       "text": [
        "Vector(0: h, 1: e, 2: k, 3: q, 4: q, 5: t, 6: c, 7: r, 8: r, 9: k)\n",
        "--\n",
        "Vector(0: s, 1: e, 2: h, 3: g, 4: p, 5: -, 6: a, 7: a, 8: r, 9: r)\n",
        "Vector(0: e, 1: l, 2: w, 3: h, 4: d, 5: l, 6: y, 7: -, 8: r, 9: c)\n",
        "--\n",
        "Vector(0: s, 1: e, 2: k, 3: -, 4: p, 5: e, 6: a, 7: a, 8: w, 9: c)\n",
        "Vector(0: e, 1: v, 2: v, 3: h, 4: w, 5: l, 6: y, 7: e, 8: c, 9: g)\n",
        "--\n",
        "Vector(0: s, 1: e, 2: l, 3: q, 4: y, 5: e, 6: a, 7: a, 8: r, 9: c)\n"
       ]
      },
      {
       "output_type": "stream",
       "stream": "stdout",
       "text": [
        "Vector(0: v, 1: a, 2: i, 3: p, 4: r, 5: q, 6: d, 7: t, 8: t, 9: m)\n",
        "--\n",
        "Vector(0: s, 1: e, 2: e, 3: q, 4: y, 5: e, 6: a, 7: a, 8: f, 9: c)\n",
        "Vector(0: -, 1: q, 2: m, 3: -, 4: g, 5: g, 6: m, 7: h, 8: a, 9: e)\n",
        "--\n",
        "Vector(0: s, 1: e, 2: e, 3: q, 4: p, 5: e, 6: a, 7: a, 8: w, 9: c)\n",
        "Vector(0: k, 1: l, 2: s, 3: d, 4: n, 5: d, 6: i, 7: a, 8: k, 9: i)\n",
        "--\n",
        "Vector(0: s, 1: e, 2: e, 3: q, 4: p, 5: r, 6: a, 7: a, 8: g, 9: c)\n"
       ]
      },
      {
       "output_type": "stream",
       "stream": "stdout",
       "text": [
        "Vector(0: r, 1: t, 2: r, 3: n, 4: m, 5: r, 6: y, 7: a, 8: i, 9: f)\n",
        "--\n",
        "Vector(0: s, 1: e, 2: e, 3: q, 4: p, 5: r, 6: a, 7: a, 8: d, 9: c)\n",
        "Vector(0: n, 1: w, 2: e, 3: m, 4: p, 5: s, 6: d, 7: t, 8: -, 9: r)\n",
        "--\n",
        "Vector(0: s, 1: e, 2: w, 3: q, 4: p, 5: n, 6: y, 7: a, 8: -, 9: c)\n"
       ]
      },
      {
       "output_type": "stream",
       "stream": "stdout",
       "text": [
        "Vector(0: a, 1: f, 2: g, 3: f, 4: s, 5: h, 6: -, 7: s, 8: h, 9: t)\n",
        "--\n",
        "Vector(0: s, 1: e, 2: a, 3: q, 4: p, 5: f, 6: a, 7: a, 8: g, 9: c)\n",
        "Vector(0: r, 1: v, 2: f, 3: m, 4: h, 5: g, 6: r, 7: h, 8: g, 9: v)\n",
        "--\n",
        "Vector(0: s, 1: e, 2: e, 3: q, 4: p, 5: e, 6: a, 7: a, 8: w, 9: c)\n"
       ]
      },
      {
       "output_type": "stream",
       "stream": "stdout",
       "text": [
        "Vector(0: p, 1: s, 2: d, 3: k, 4: d, 5: m, 6: y, 7: a, 8: c, 9: y)\n",
        "--\n",
        "Vector(0: s, 1: e, 2: l, 3: q, 4: p, 5: e, 6: t, 7: a, 8: k, 9: k)\n",
        "Vector(0: h, 1: e, 2: f, 3: e, 4: h, 5: l, 6: y, 7: v, 8: v, 9: g)\n",
        "--\n",
        "Vector(0: s, 1: e, 2: n, 3: q, 4: p, 5: r, 6: t, 7: a, 8: r, 9: k)\n",
        "Vector(0: e, 1: s, 2: c, 3: k, 4: -, 5: f, 6: v, 7: d, 8: -, 9: v)\n",
        "--\n",
        "Vector(0: s, 1: e, 2: n, 3: q, 4: p, 5: r, 6: p, 7: a, 8: w, 9: c)\n"
       ]
      },
      {
       "output_type": "stream",
       "stream": "stdout",
       "text": [
        "Vector(0: k, 1: p, 2: e, 3: y, 4: -, 5: l, 6: y, 7: a, 8: r, 9: s)\n",
        "--\n",
        "Vector(0: s, 1: f, 2: n, 3: q, 4: n, 5: r, 6: h, 7: a, 8: r, 9: c)\n",
        "Vector(0: y, 1: a, 2: -, 3: w, 4: t, 5: r, 6: c, 7: k, 8: e, 9: q)\n",
        "--\n",
        "Vector(0: r, 1: f, 2: n, 3: g, 4: n, 5: e, 6: h, 7: a, 8: r, 9: s)\n",
        "Vector(0: a, 1: n, 2: w, 3: c, 4: s, 5: r, 6: r, 7: a, 8: v, 9: t)\n",
        "--\n",
        "Vector(0: r, 1: f, 2: n, 3: g, 4: n, 5: r, 6: y, 7: a, 8: w, 9: d)\n"
       ]
      },
      {
       "output_type": "stream",
       "stream": "stdout",
       "text": [
        "Vector(0: r, 1: e, 2: v, 3: g, 4: -, 5: a, 6: w, 7: -, 8: w, 9: i)\n",
        "--\n",
        "Vector(0: r, 1: f, 2: w, 3: g, 4: n, 5: e, 6: y, 7: a, 8: r, 9: s)\n",
        "Vector(0: r, 1: v, 2: m, 3: v, 4: v, 5: n, 6: n, 7: a, 8: i, 9: l)\n",
        "--\n",
        "Vector(0: r, 1: f, 2: w, 3: g, 4: n, 5: r, 6: y, 7: a, 8: w, 9: d)\n",
        "Vector(0: f, 1: q, 2: w, 3: p, 4: y, 5: v, 6: y, 7: k, 8: p, 9: s)\n",
        "--\n",
        "Vector(0: r, 1: f, 2: w, 3: g, 4: n, 5: r, 6: y, 7: a, 8: l, 9: s)\n"
       ]
      },
      {
       "output_type": "stream",
       "stream": "stdout",
       "text": [
        "Vector(0: q, 1: v, 2: l, 3: k, 4: k, 5: m, 6: k, 7: l, 8: e, 9: q)\n",
        "--\n",
        "Vector(0: r, 1: f, 2: a, 3: g, 4: n, 5: l, 6: t, 7: a, 8: p, 9: s)\n",
        "Vector(0: r, 1: m, 2: h, 3: g, 4: h, 5: p, 6: n, 7: m, 8: k, 9: f)\n",
        "--\n",
        "Vector(0: r, 1: f, 2: s, 3: g, 4: n, 5: l, 6: c, 7: a, 8: i, 9: s)\n",
        "Vector(0: s, 1: t, 2: g, 3: k, 4: g, 5: w, 6: l, 7: i, 8: f, 9: i)\n",
        "--\n",
        "Vector(0: r, 1: f, 2: s, 3: g, 4: n, 5: l, 6: t, 7: a, 8: t, 9: s)\n"
       ]
      },
      {
       "output_type": "stream",
       "stream": "stdout",
       "text": [
        "Vector(0: g, 1: a, 2: p, 3: n, 4: l, 5: c, 6: c, 7: a, 8: w, 9: s)\n",
        "--\n",
        "Vector(0: r, 1: f, 2: s, 3: g, 4: n, 5: y, 6: t, 7: a, 8: p, 9: s)\n",
        "Vector(0: -, 1: n, 2: s, 3: f, 4: n, 5: c, 6: y, 7: v, 8: n, 9: f)\n",
        "--\n",
        "Vector(0: r, 1: f, 2: s, 3: g, 4: n, 5: l, 6: y, 7: a, 8: g, 9: s)\n",
        "Vector(0: a, 1: y, 2: m, 3: g, 4: s, 5: r, 6: t, 7: k, 8: g, 9: t)\n",
        "--\n",
        "Vector(0: r, 1: f, 2: i, 3: g, 4: n, 5: e, 6: y, 7: a, 8: r, 9: s)\n"
       ]
      },
      {
       "output_type": "stream",
       "stream": "stdout",
       "text": [
        "Vector(0: i, 1: g, 2: t, 3: k, 4: q, 5: v, 6: w, 7: f, 8: f, 9: y)\n",
        "--\n",
        "Vector(0: r, 1: f, 2: w, 3: g, 4: n, 5: -, 6: y, 7: a, 8: w, 9: s)\n",
        "Vector(0: w, 1: k, 2: r, 3: h, 4: h, 5: p, 6: r, 7: w, 8: r, 9: s)\n",
        "--\n",
        "Vector(0: r, 1: f, 2: i, 3: g, 4: n, 5: n, 6: y, 7: a, 8: p, 9: s)\n",
        "Vector(0: r, 1: y, 2: q, 3: c, 4: -, 5: r, 6: s, 7: a, 8: s, 9: l)\n",
        "--\n",
        "Vector(0: r, 1: f, 2: w, 3: g, 4: n, 5: e, 6: y, 7: a, 8: i, 9: s)\n"
       ]
      },
      {
       "output_type": "stream",
       "stream": "stdout",
       "text": [
        "Vector(0: i, 1: f, 2: e, 3: n, 4: s, 5: l, 6: v, 7: w, 8: l, 9: f)\n",
        "--\n",
        "Vector(0: r, 1: f, 2: w, 3: g, 4: n, 5: r, 6: y, 7: a, 8: m, 9: s)\n",
        "Vector(0: -, 1: q, 2: r, 3: h, 4: s, 5: i, 6: k, 7: s, 8: p, 9: h)\n",
        "--\n",
        "Vector(0: r, 1: f, 2: w, 3: g, 4: n, 5: r, 6: y, 7: a, 8: s, 9: s)\n",
        "Vector(0: w, 1: n, 2: w, 3: a, 4: g, 5: r, 6: v, 7: v, 8: w, 9: -)\n",
        "--\n",
        "Vector(0: r, 1: f, 2: w, 3: g, 4: n, 5: r, 6: y, 7: c, 8: r, 9: s)\n"
       ]
      },
      {
       "output_type": "stream",
       "stream": "stdout",
       "text": [
        "Vector(0: v, 1: n, 2: r, 3: g, 4: n, 5: v, 6: y, 7: d, 8: y, 9: w)\n",
        "--\n",
        "Vector(0: r, 1: f, 2: a, 3: g, 4: n, 5: w, 6: y, 7: a, 8: c, 9: s)\n",
        "Vector(0: c, 1: s, 2: p, 3: a, 4: m, 5: t, 6: i, 7: t, 8: l, 9: m)\n",
        "--\n",
        "Vector(0: r, 1: f, 2: a, 3: g, 4: n, 5: f, 6: t, 7: a, 8: w, 9: s)\n",
        "Vector(0: q, 1: t, 2: q, 3: g, 4: l, 5: e, 6: d, 7: r, 8: l, 9: p)\n",
        "--\n",
        "Vector(0: r, 1: f, 2: c, 3: g, 4: n, 5: f, 6: t, 7: a, 8: -, 9: s)\n"
       ]
      },
      {
       "output_type": "stream",
       "stream": "stdout",
       "text": [
        "Vector(0: r, 1: a, 2: c, 3: g, 4: c, 5: k, 6: y, 7: i, 8: l, 9: d)\n",
        "--\n",
        "Vector(0: r, 1: f, 2: r, 3: g, 4: n, 5: r, 6: t, 7: a, 8: r, 9: s)\n",
        "Vector(0: m, 1: m, 2: v, 3: a, 4: n, 5: r, 6: w, 7: c, 8: m, 9: k)\n",
        "--\n",
        "Vector(0: r, 1: f, 2: n, 3: g, 4: n, 5: y, 6: t, 7: a, 8: q, 9: s)\n",
        "Vector(0: h, 1: q, 2: p, 3: p, 4: k, 5: r, 6: t, 7: d, 8: w, 9: w)\n",
        "--\n",
        "Vector(0: r, 1: f, 2: d, 3: g, 4: n, 5: r, 6: a, 7: a, 8: d, 9: s)\n"
       ]
      },
      {
       "output_type": "stream",
       "stream": "stdout",
       "text": [
        "Vector(0: i, 1: a, 2: m, 3: s, 4: e, 5: g, 6: p, 7: a, 8: i, 9: d)\n",
        "--\n",
        "Vector(0: r, 1: f, 2: h, 3: g, 4: n, 5: r, 6: p, 7: a, 8: k, 9: s)\n",
        "Vector(0: g, 1: q, 2: s, 3: p, 4: q, 5: f, 6: l, 7: l, 8: l, 9: m)\n",
        "--\n",
        "Vector(0: r, 1: f, 2: n, 3: g, 4: n, 5: e, 6: t, 7: a, 8: g, 9: s)\n",
        "Vector(0: r, 1: f, 2: e, 3: k, 4: a, 5: r, 6: -, 7: d, 8: r, 9: s)\n",
        "--\n",
        "Vector(0: r, 1: f, 2: w, 3: g, 4: n, 5: i, 6: y, 7: a, 8: w, 9: s)\n"
       ]
      },
      {
       "output_type": "stream",
       "stream": "stdout",
       "text": [
        "Vector(0: d, 1: k, 2: k, 3: h, 4: h, 5: -, 6: d, 7: d, 8: y, 9: w)\n",
        "--\n",
        "Vector(0: r, 1: f, 2: i, 3: g, 4: n, 5: -, 6: y, 7: a, 8: r, 9: s)\n",
        "Vector(0: v, 1: k, 2: r, 3: h, 4: e, 5: m, 6: d, 7: k, 8: a, 9: f)\n",
        "--\n",
        "Vector(0: r, 1: f, 2: i, 3: g, 4: n, 5: -, 6: y, 7: a, 8: i, 9: s)\n",
        "Vector(0: c, 1: n, 2: w, 3: f, 4: k, 5: c, 6: e, 7: f, 8: q, 9: y)\n",
        "--\n",
        "Vector(0: r, 1: f, 2: i, 3: g, 4: n, 5: l, 6: t, 7: a, 8: g, 9: s)\n"
       ]
      },
      {
       "output_type": "stream",
       "stream": "stdout",
       "text": [
        "Vector(0: t, 1: g, 2: r, 3: -, 4: n, 5: c, 6: l, 7: s, 8: m, 9: p)\n",
        "--\n",
        "Vector(0: r, 1: f, 2: s, 3: g, 4: n, 5: y, 6: -, 7: a, 8: k, 9: s)\n",
        "Vector(0: c, 1: i, 2: r, 3: q, 4: n, 5: t, 6: y, 7: r, 8: g, 9: l)\n",
        "--\n",
        "Vector(0: r, 1: f, 2: s, 3: g, 4: n, 5: y, 6: -, 7: a, 8: r, 9: s)\n",
        "Vector(0: m, 1: t, 2: y, 3: l, 4: d, 5: y, 6: t, 7: a, 8: m, 9: v)\n",
        "--\n",
        "Vector(0: r, 1: f, 2: s, 3: g, 4: n, 5: k, 6: t, 7: a, 8: g, 9: s)\n"
       ]
      },
      {
       "output_type": "stream",
       "stream": "stdout",
       "text": [
        "Vector(0: n, 1: d, 2: -, 3: q, 4: n, 5: k, 6: y, 7: e, 8: l, 9: i)\n",
        "--\n",
        "Vector(0: r, 1: f, 2: s, 3: g, 4: n, 5: h, 6: t, 7: a, 8: y, 9: s)\n",
        "Vector(0: g, 1: r, 2: m, 3: n, 4: l, 5: l, 6: r, 7: a, 8: t, 9: h)\n",
        "--\n",
        "Vector(0: r, 1: f, 2: s, 3: g, 4: n, 5: y, 6: t, 7: a, 8: q, 9: s)\n",
        "Vector(0: h, 1: w, 2: f, 3: g, 4: y, 5: r, 6: y, 7: m, 8: v, 9: n)\n",
        "--\n",
        "Vector(0: r, 1: f, 2: s, 3: g, 4: n, 5: y, 6: t, 7: a, 8: w, 9: s)\n"
       ]
      },
      {
       "output_type": "stream",
       "stream": "stdout",
       "text": [
        "Vector(0: v, 1: m, 2: h, 3: g, 4: l, 5: i, 6: y, 7: m, 8: -, 9: s)\n",
        "--\n",
        "Vector(0: r, 1: f, 2: s, 3: g, 4: n, 5: l, 6: t, 7: a, 8: g, 9: s)\n",
        "Vector(0: h, 1: t, 2: e, 3: s, 4: n, 5: k, 6: h, 7: h, 8: r, 9: l)\n",
        "--\n",
        "Vector(0: r, 1: f, 2: s, 3: g, 4: n, 5: l, 6: c, 7: a, 8: d, 9: s)\n",
        "Vector(0: y, 1: d, 2: v, 3: p, 4: -, 5: r, 6: y, 7: a, 8: i, 9: w)\n",
        "--\n",
        "Vector(0: r, 1: f, 2: s, 3: g, 4: n, 5: y, 6: l, 7: a, 8: s, 9: s)\n"
       ]
      },
      {
       "output_type": "stream",
       "stream": "stdout",
       "text": [
        "Vector(0: r, 1: q, 2: s, 3: s, 4: w, 5: s, 6: l, 7: y, 8: a, 9: q)\n",
        "--\n",
        "Vector(0: r, 1: f, 2: s, 3: g, 4: n, 5: l, 6: t, 7: a, 8: t, 9: s)\n",
        "Vector(0: c, 1: f, 2: d, 3: a, 4: r, 5: r, 6: i, 7: g, 8: q, 9: s)\n",
        "--\n",
        "Vector(0: r, 1: f, 2: s, 3: g, 4: n, 5: y, 6: y, 7: a, 8: a, 9: s)\n",
        "Vector(0: n, 1: f, 2: f, 3: v, 4: n, 5: k, 6: t, 7: w, 8: r, 9: s)\n",
        "--\n",
        "Vector(0: r, 1: f, 2: s, 3: g, 4: n, 5: l, 6: -, 7: a, 8: w, 9: s)\n"
       ]
      },
      {
       "output_type": "stream",
       "stream": "stdout",
       "text": [
        "Vector(0: f, 1: h, 2: v, 3: q, 4: v, 5: e, 6: m, 7: a, 8: n, 9: s)\n",
        "--\n",
        "Vector(0: r, 1: f, 2: s, 3: g, 4: n, 5: l, 6: t, 7: a, 8: r, 9: s)\n",
        "Vector(0: c, 1: f, 2: w, 3: p, 4: n, 5: r, 6: s, 7: m, 8: v, 9: c)\n",
        "--\n",
        "Vector(0: r, 1: f, 2: s, 3: g, 4: n, 5: l, 6: t, 7: a, 8: l, 9: s)\n",
        "Vector(0: i, 1: w, 2: s, 3: s, 4: e, 5: r, 6: c, 7: a, 8: c, 9: w)\n",
        "--\n",
        "Vector(0: r, 1: f, 2: s, 3: g, 4: n, 5: y, 6: t, 7: a, 8: r, 9: s)\n"
       ]
      },
      {
       "output_type": "stream",
       "stream": "stdout",
       "text": [
        "Vector(0: e, 1: l, 2: y, 3: g, 4: n, 5: c, 6: t, 7: k, 8: h, 9: f)\n",
        "--\n",
        "Vector(0: r, 1: f, 2: s, 3: g, 4: n, 5: l, 6: y, 7: a, 8: d, 9: d)\n",
        "Vector(0: v, 1: g, 2: w, 3: l, 4: p, 5: l, 6: h, 7: w, 8: e, 9: w)\n",
        "--\n",
        "Vector(0: r, 1: f, 2: i, 3: g, 4: n, 5: w, 6: y, 7: a, 8: w, 9: s)\n",
        "Vector(0: r, 1: f, 2: w, 3: g, 4: e, 5: c, 6: y, 7: a, 8: h, 9: i)\n",
        "--\n",
        "Vector(0: r, 1: f, 2: i, 3: g, 4: n, 5: e, 6: y, 7: c, 8: g, 9: s)\n"
       ]
      },
      {
       "output_type": "stream",
       "stream": "stdout",
       "text": [
        "Vector(0: m, 1: h, 2: k, 3: q, 4: v, 5: l, 6: s, 7: g, 8: w, 9: w)\n",
        "--\n",
        "Vector(0: r, 1: f, 2: w, 3: g, 4: n, 5: e, 6: y, 7: a, 8: -, 9: s)\n",
        "Vector(0: l, 1: r, 2: h, 3: p, 4: v, 5: m, 6: m, 7: w, 8: g, 9: m)\n",
        "--\n",
        "Vector(0: r, 1: f, 2: w, 3: g, 4: n, 5: e, 6: c, 7: a, 8: g, 9: s)\n"
       ]
      },
      {
       "output_type": "stream",
       "stream": "stdout",
       "text": [
        "Vector(0: r, 1: c, 2: v, 3: g, 4: n, 5: w, 6: -, 7: y, 8: r, 9: s)\n",
        "--\n",
        "Vector(0: r, 1: f, 2: w, 3: g, 4: n, 5: h, 6: y, 7: a, 8: r, 9: s)\n",
        "Vector(0: r, 1: e, 2: v, 3: g, 4: h, 5: t, 6: d, 7: w, 8: m, 9: w)\n",
        "--\n",
        "Vector(0: r, 1: f, 2: w, 3: g, 4: n, 5: m, 6: y, 7: a, 8: r, 9: s)\n",
        "Vector(0: r, 1: y, 2: d, 3: -, 4: s, 5: l, 6: r, 7: q, 8: s, 9: v)\n",
        "--\n",
        "Vector(0: r, 1: f, 2: w, 3: g, 4: n, 5: y, 6: y, 7: a, 8: s, 9: s)\n"
       ]
      },
      {
       "output_type": "stream",
       "stream": "stdout",
       "text": [
        "Vector(0: y, 1: f, 2: t, 3: c, 4: l, 5: l, 6: y, 7: n, 8: n, 9: h)\n",
        "--\n",
        "Vector(0: r, 1: f, 2: s, 3: g, 4: n, 5: y, 6: y, 7: a, 8: f, 9: s)\n",
        "Vector(0: c, 1: c, 2: v, 3: g, 4: -, 5: f, 6: h, 7: y, 8: r, 9: d)\n",
        "--\n",
        "Vector(0: r, 1: f, 2: s, 3: g, 4: n, 5: y, 6: c, 7: a, 8: i, 9: s)\n",
        "Vector(0: l, 1: s, 2: w, 3: s, 4: -, 5: k, 6: -, 7: e, 8: v, 9: m)\n",
        "--\n",
        "Vector(0: r, 1: f, 2: s, 3: g, 4: n, 5: l, 6: y, 7: a, 8: w, 9: d)\n"
       ]
      },
      {
       "output_type": "stream",
       "stream": "stdout",
       "text": [
        "Vector(0: w, 1: i, 2: p, 3: l, 4: n, 5: r, 6: d, 7: c, 8: t, 9: s)\n",
        "--\n",
        "Vector(0: r, 1: f, 2: w, 3: g, 4: n, 5: f, 6: y, 7: a, 8: w, 9: s)\n",
        "Vector(0: f, 1: l, 2: m, 3: f, 4: w, 5: i, 6: v, 7: d, 8: -, 9: n)\n",
        "--\n",
        "Vector(0: r, 1: f, 2: a, 3: g, 4: n, 5: r, 6: a, 7: a, 8: l, 9: -)\n",
        "Vector(0: r, 1: s, 2: l, 3: f, 4: r, 5: g, 6: y, 7: t, 8: m, 9: i)\n",
        "--\n",
        "Vector(0: r, 1: f, 2: w, 3: g, 4: n, 5: v, 6: c, 7: l, 8: n, 9: s)\n"
       ]
      },
      {
       "output_type": "stream",
       "stream": "stdout",
       "text": [
        "Vector(0: e, 1: n, 2: p, 3: d, 4: p, 5: s, 6: y, 7: i, 8: y, 9: -)\n",
        "--\n",
        "Vector(0: r, 1: i, 2: w, 3: g, 4: r, 5: a, 6: r, 7: l, 8: r, 9: -)\n",
        "Vector(0: c, 1: y, 2: p, 3: k, 4: y, 5: d, 6: p, 7: t, 8: v, 9: s)\n",
        "--\n",
        "Vector(0: d, 1: i, 2: i, 3: r, 4: v, 5: l, 6: r, 7: k, 8: i, 9: -)\n"
       ]
      },
      {
       "output_type": "stream",
       "stream": "stdout",
       "text": [
        "Vector(0: r, 1: q, 2: s, 3: r, 4: n, 5: e, 6: y, 7: f, 8: h, 9: w)\n",
        "--\n",
        "Vector(0: d, 1: i, 2: s, 3: r, 4: v, 5: d, 6: n, 7: k, 8: w, 9: -)\n",
        "Vector(0: t, 1: -, 2: t, 3: y, 4: e, 5: r, 6: m, 7: a, 8: m, 9: -)\n",
        "--\n",
        "Vector(0: d, 1: i, 2: s, 3: r, 4: v, 5: y, 6: v, 7: w, 8: l, 9: m)\n",
        "Vector(0: f, 1: w, 2: f, 3: i, 4: n, 5: k, 6: y, 7: c, 8: k, 9: r)\n",
        "--\n",
        "Vector(0: d, 1: i, 2: s, 3: r, 4: v, 5: l, 6: p, 7: w, 8: w, 9: k)\n"
       ]
      },
      {
       "output_type": "stream",
       "stream": "stdout",
       "text": [
        "Vector(0: h, 1: d, 2: v, 3: t, 4: t, 5: r, 6: s, 7: c, 8: v, 9: n)\n",
        "--\n",
        "Vector(0: d, 1: i, 2: i, 3: r, 4: v, 5: n, 6: q, 7: w, 8: p, 9: k)\n",
        "Vector(0: -, 1: d, 2: v, 3: p, 4: y, 5: k, 6: f, 7: n, 8: k, 9: -)\n",
        "--\n",
        "Vector(0: d, 1: i, 2: c, 3: r, 4: v, 5: f, 6: p, 7: w, 8: y, 9: k)\n",
        "Vector(0: l, 1: f, 2: w, 3: g, 4: f, 5: p, 6: m, 7: a, 8: l, 9: w)\n",
        "--\n",
        "Vector(0: d, 1: i, 2: d, 3: r, 4: v, 5: n, 6: p, 7: w, 8: w, 9: k)\n"
       ]
      },
      {
       "output_type": "stream",
       "stream": "stdout",
       "text": [
        "Vector(0: w, 1: l, 2: w, 3: h, 4: n, 5: n, 6: y, 7: k, 8: y, 9: s)\n",
        "--\n",
        "Vector(0: d, 1: i, 2: d, 3: r, 4: v, 5: n, 6: p, 7: w, 8: w, 9: k)\n",
        "Vector(0: i, 1: d, 2: -, 3: m, 4: n, 5: q, 6: q, 7: a, 8: e, 9: l)\n",
        "--\n",
        "Vector(0: d, 1: i, 2: d, 3: r, 4: v, 5: n, 6: p, 7: w, 8: c, 9: k)\n",
        "Vector(0: t, 1: h, 2: s, 3: p, 4: q, 5: y, 6: l, 7: f, 8: r, 9: g)\n",
        "--\n",
        "Vector(0: d, 1: i, 2: d, 3: r, 4: v, 5: n, 6: p, 7: w, 8: v, 9: l)\n"
       ]
      },
      {
       "output_type": "stream",
       "stream": "stdout",
       "text": [
        "Vector(0: v, 1: i, 2: y, 3: p, 4: h, 5: r, 6: y, 7: n, 8: i, 9: i)\n",
        "--\n",
        "Vector(0: d, 1: i, 2: d, 3: r, 4: v, 5: n, 6: p, 7: w, 8: s, 9: m)\n",
        "Vector(0: d, 1: g, 2: d, 3: e, 4: s, 5: m, 6: y, 7: l, 8: w, 9: n)\n",
        "--\n",
        "Vector(0: d, 1: i, 2: c, 3: r, 4: v, 5: -, 6: p, 7: w, 8: w, 9: k)\n"
       ]
      },
      {
       "output_type": "stream",
       "stream": "stdout",
       "text": [
        "Vector(0: r, 1: k, 2: a, 3: t, 4: q, 5: i, 6: a, 7: n, 8: c, 9: i)\n",
        "--\n",
        "Vector(0: d, 1: i, 2: t, 3: r, 4: v, 5: l, 6: g, 7: w, 8: d, 9: l)\n",
        "Vector(0: a, 1: r, 2: l, 3: q, 4: f, 5: h, 6: h, 7: y, 8: q, 9: g)\n",
        "--\n",
        "Vector(0: v, 1: i, 2: s, 3: r, 4: m, 5: l, 6: n, 7: w, 8: t, 9: l)\n",
        "Vector(0: s, 1: h, 2: c, 3: g, 4: -, 5: r, 6: t, 7: a, 8: f, 9: q)\n",
        "--\n",
        "Vector(0: d, 1: i, 2: s, 3: r, 4: v, 5: y, 6: i, 7: w, 8: y, 9: l)\n"
       ]
      },
      {
       "output_type": "stream",
       "stream": "stdout",
       "text": [
        "Vector(0: e, 1: e, 2: v, 3: q, 4: y, 5: c, 6: l, 7: y, 8: r, 9: g)\n",
        "--\n",
        "Vector(0: d, 1: i, 2: s, 3: r, 4: v, 5: y, 6: i, 7: w, 8: r, 9: l)\n",
        "Vector(0: q, 1: y, 2: p, 3: -, 4: f, 5: -, 6: i, 7: v, 8: d, 9: -)\n",
        "--\n",
        "Vector(0: d, 1: i, 2: s, 3: r, 4: v, 5: y, 6: s, 7: w, 8: s, 9: l)\n",
        "Vector(0: g, 1: m, 2: e, 3: h, 4: n, 5: t, 6: -, 7: a, 8: n, 9: t)\n",
        "--\n",
        "Vector(0: d, 1: i, 2: w, 3: r, 4: v, 5: i, 6: n, 7: w, 8: s, 9: l)\n"
       ]
      },
      {
       "output_type": "stream",
       "stream": "stdout",
       "text": [
        "Vector(0: p, 1: t, 2: c, 3: q, 4: y, 5: p, 6: q, 7: y, 8: k, 9: y)\n",
        "--\n",
        "Vector(0: d, 1: i, 2: f, 3: r, 4: v, 5: n, 6: p, 7: w, 8: r, 9: k)\n",
        "Vector(0: h, 1: n, 2: n, 3: t, 4: e, 5: m, 6: w, 7: f, 8: l, 9: -)\n",
        "--\n",
        "Vector(0: d, 1: i, 2: d, 3: r, 4: v, 5: r, 6: p, 7: w, 8: r, 9: k)\n",
        "Vector(0: r, 1: g, 2: q, 3: q, 4: n, 5: m, 6: d, 7: y, 8: r, 9: s)\n",
        "--\n",
        "Vector(0: d, 1: i, 2: h, 3: r, 4: v, 5: r, 6: p, 7: w, 8: r, 9: k)\n"
       ]
      },
      {
       "output_type": "stream",
       "stream": "stdout",
       "text": [
        "Vector(0: k, 1: c, 2: w, 3: e, 4: d, 5: w, 6: c, 7: y, 8: g, 9: c)\n",
        "--\n",
        "Vector(0: d, 1: i, 2: n, 3: r, 4: v, 5: m, 6: p, 7: w, 8: w, 9: m)\n",
        "Vector(0: t, 1: i, 2: -, 3: f, 4: f, 5: y, 6: m, 7: w, 8: w, 9: k)\n",
        "--\n",
        "Vector(0: d, 1: i, 2: f, 3: r, 4: v, 5: w, 6: p, 7: w, 8: r, 9: k)\n"
       ]
      },
      {
       "output_type": "stream",
       "stream": "stdout",
       "text": [
        "Vector(0: c, 1: e, 2: f, 3: y, 4: n, 5: r, 6: p, 7: t, 8: q, 9: t)\n",
        "--\n",
        "Vector(0: d, 1: i, 2: n, 3: r, 4: v, 5: m, 6: p, 7: w, 8: w, 9: k)\n",
        "Vector(0: e, 1: n, 2: w, 3: e, 4: -, 5: c, 6: y, 7: q, 8: d, 9: i)\n",
        "--\n",
        "Vector(0: d, 1: i, 2: f, 3: r, 4: v, 5: i, 6: p, 7: w, 8: g, 9: m)\n",
        "Vector(0: h, 1: w, 2: e, 3: i, 4: n, 5: h, 6: p, 7: l, 8: i, 9: i)\n",
        "--\n",
        "Vector(0: d, 1: i, 2: w, 3: r, 4: v, 5: r, 6: v, 7: k, 8: y, 9: -)\n"
       ]
      },
      {
       "output_type": "stream",
       "stream": "stdout",
       "text": [
        "Vector(0: l, 1: a, 2: d, 3: f, 4: s, 5: g, 6: -, 7: m, 8: a, 9: e)\n",
        "--\n",
        "Vector(0: d, 1: i, 2: e, 3: r, 4: v, 5: e, 6: r, 7: k, 8: g, 9: -)\n",
        "Vector(0: i, 1: f, 2: m, 3: -, 4: m, 5: n, 6: -, 7: a, 8: s, 9: s)\n",
        "--\n",
        "Vector(0: d, 1: i, 2: i, 3: r, 4: v, 5: g, 6: r, 7: k, 8: l, 9: q)\n",
        "Vector(0: r, 1: f, 2: w, 3: g, 4: t, 5: n, 6: g, 7: p, 8: r, 9: s)\n",
        "--\n",
        "Vector(0: d, 1: i, 2: i, 3: r, 4: v, 5: w, 6: y, 7: k, 8: d, 9: q)\n"
       ]
      },
      {
       "output_type": "stream",
       "stream": "stdout",
       "text": [
        "Vector(0: p, 1: v, 2: y, 3: p, 4: a, 5: d, 6: t, 7: a, 8: q, 9: q)\n",
        "--\n",
        "Vector(0: d, 1: i, 2: i, 3: r, 4: v, 5: l, 6: y, 7: k, 8: r, 9: q)\n",
        "Vector(0: n, 1: g, 2: v, 3: s, 4: i, 5: p, 6: w, 7: r, 8: m, 9: v)\n",
        "--\n",
        "Vector(0: d, 1: i, 2: i, 3: r, 4: v, 5: n, 6: y, 7: k, 8: q, 9: q)\n",
        "Vector(0: s, 1: f, 2: k, 3: l, 4: l, 5: -, 6: -, 7: e, 8: p, 9: f)\n",
        "--\n",
        "Vector(0: d, 1: i, 2: w, 3: r, 4: v, 5: e, 6: y, 7: k, 8: q, 9: q)\n"
       ]
      },
      {
       "output_type": "stream",
       "stream": "stdout",
       "text": [
        "Vector(0: r, 1: f, 2: g, 3: k, 4: m, 5: m, 6: v, 7: p, 8: r, 9: l)\n",
        "--\n",
        "Vector(0: d, 1: i, 2: w, 3: r, 4: v, 5: r, 6: y, 7: k, 8: r, 9: -)\n",
        "Vector(0: h, 1: q, 2: i, 3: l, 4: -, 5: l, 6: g, 7: p, 8: d, 9: y)\n",
        "--\n",
        "Vector(0: d, 1: i, 2: w, 3: r, 4: v, 5: e, 6: r, 7: k, 8: r, 9: -)\n",
        "Vector(0: -, 1: i, 2: d, 3: c, 4: y, 5: r, 6: p, 7: h, 8: d, 9: i)\n",
        "--\n",
        "Vector(0: d, 1: i, 2: i, 3: r, 4: v, 5: w, 6: r, 7: k, 8: r, 9: -)\n"
       ]
      },
      {
       "output_type": "stream",
       "stream": "stdout",
       "text": [
        "Vector(0: r, 1: s, 2: c, 3: n, 4: t, 5: m, 6: f, 7: q, 8: l, 9: e)\n",
        "--\n",
        "Vector(0: d, 1: i, 2: r, 3: r, 4: v, 5: l, 6: v, 7: k, 8: i, 9: -)\n",
        "Vector(0: w, 1: g, 2: w, 3: q, 4: t, 5: r, 6: s, 7: e, 8: f, 9: e)\n",
        "--\n",
        "Vector(0: d, 1: i, 2: s, 3: r, 4: v, 5: l, 6: r, 7: k, 8: s, 9: l)\n",
        "Vector(0: l, 1: r, 2: f, 3: t, 4: n, 5: p, 6: v, 7: q, 8: c, 9: w)\n",
        "--\n",
        "Vector(0: d, 1: i, 2: i, 3: r, 4: v, 5: n, 6: y, 7: w, 8: k, 9: l)\n"
       ]
      },
      {
       "output_type": "stream",
       "stream": "stdout",
       "text": [
        "Vector(0: v, 1: f, 2: n, 3: g, 4: c, 5: d, 6: g, 7: y, 8: s, 9: s)\n",
        "--\n",
        "Vector(0: d, 1: i, 2: i, 3: r, 4: v, 5: -, 6: r, 7: w, 8: w, 9: l)\n",
        "Vector(0: e, 1: l, 2: i, 3: t, 4: n, 5: n, 6: s, 7: t, 8: p, 9: g)\n",
        "--\n",
        "Vector(0: d, 1: i, 2: i, 3: r, 4: v, 5: -, 6: m, 7: k, 8: s, 9: l)\n",
        "Vector(0: m, 1: f, 2: l, 3: -, 4: s, 5: -, 6: e, 7: e, 8: y, 9: f)\n",
        "--\n",
        "Vector(0: d, 1: i, 2: i, 3: r, 4: v, 5: w, 6: y, 7: k, 8: s, 9: k)\n"
       ]
      },
      {
       "output_type": "stream",
       "stream": "stdout",
       "text": [
        "Vector(0: r, 1: f, 2: w, 3: k, 4: t, 5: l, 6: k, 7: q, 8: r, 9: s)\n",
        "--\n",
        "Vector(0: d, 1: i, 2: s, 3: r, 4: v, 5: l, 6: t, 7: k, 8: g, 9: k)\n",
        "Vector(0: y, 1: w, 2: e, 3: s, 4: f, 5: t, 6: i, 7: n, 8: v, 9: k)\n",
        "--\n",
        "Vector(0: d, 1: i, 2: r, 3: r, 4: v, 5: y, 6: t, 7: k, 8: p, 9: s)\n",
        "Vector(0: q, 1: y, 2: y, 3: r, 4: -, 5: v, 6: q, 7: w, 8: m, 9: h)\n",
        "--\n",
        "Vector(0: d, 1: i, 2: s, 3: r, 4: v, 5: g, 6: l, 7: k, 8: w, 9: h)\n"
       ]
      },
      {
       "output_type": "stream",
       "stream": "stdout",
       "text": [
        "Vector(0: r, 1: a, 2: v, 3: f, 4: i, 5: m, 6: v, 7: p, 8: e, 9: -)\n",
        "--\n",
        "Vector(0: d, 1: i, 2: s, 3: r, 4: v, 5: y, 6: y, 7: k, 8: q, 9: q)\n",
        "Vector(0: l, 1: g, 2: a, 3: p, 4: y, 5: y, 6: n, 7: r, 8: h, 9: c)\n",
        "--\n",
        "Vector(0: d, 1: i, 2: s, 3: r, 4: v, 5: l, 6: t, 7: k, 8: w, 9: -)\n",
        "Vector(0: g, 1: k, 2: -, 3: y, 4: g, 5: r, 6: q, 7: h, 8: f, 9: l)\n",
        "--\n",
        "Vector(0: d, 1: i, 2: s, 3: r, 4: v, 5: l, 6: r, 7: k, 8: l, 9: -)\n"
       ]
      },
      {
       "output_type": "stream",
       "stream": "stdout",
       "text": [
        "Vector(0: y, 1: p, 2: t, 3: g, 4: q, 5: e, 6: t, 7: l, 8: t, 9: m)\n",
        "--\n",
        "Vector(0: d, 1: i, 2: i, 3: r, 4: v, 5: -, 6: r, 7: k, 8: p, 9: -)\n",
        "Vector(0: g, 1: m, 2: w, 3: p, 4: l, 5: y, 6: l, 7: y, 8: h, 9: p)\n",
        "--\n",
        "Vector(0: d, 1: i, 2: h, 3: r, 4: v, 5: i, 6: w, 7: g, 8: l, 9: d)\n",
        "Vector(0: v, 1: k, 2: e, 3: k, 4: i, 5: p, 6: e, 7: c, 8: p, 9: -)\n",
        "--\n",
        "Vector(0: d, 1: i, 2: y, 3: r, 4: v, 5: w, 6: w, 7: w, 8: r, 9: l)\n"
       ]
      },
      {
       "output_type": "stream",
       "stream": "stdout",
       "text": [
        "Vector(0: t, 1: -, 2: l, 3: i, 4: t, 5: r, 6: y, 7: -, 8: m, 9: h)\n",
        "--\n",
        "Vector(0: d, 1: i, 2: v, 3: r, 4: v, 5: g, 6: w, 7: w, 8: n, 9: l)\n",
        "Vector(0: m, 1: a, 2: a, 3: p, 4: h, 5: d, 6: a, 7: e, 8: g, 9: t)\n",
        "--\n",
        "Vector(0: d, 1: i, 2: v, 3: r, 4: v, 5: e, 6: n, 7: w, 8: a, 9: l)\n",
        "Vector(0: l, 1: f, 2: m, 3: i, 4: n, 5: v, 6: a, 7: c, 8: f, 9: m)\n",
        "--\n",
        "Vector(0: l, 1: i, 2: t, 3: i, 4: s, 5: n, 6: s, 7: w, 8: y, 9: l)\n"
       ]
      },
      {
       "output_type": "stream",
       "stream": "stdout",
       "text": [
        "Vector(0: t, 1: f, 2: s, 3: m, 4: r, 5: s, 6: y, 7: a, 8: r, 9: e)\n",
        "--\n",
        "Vector(0: l, 1: i, 2: i, 3: s, 4: r, 5: l, 6: r, 7: f, 8: g, 9: l)\n",
        "Vector(0: -, 1: v, 2: g, 3: w, 4: i, 5: m, 6: c, 7: w, 8: q, 9: r)\n",
        "--\n",
        "Vector(0: v, 1: i, 2: i, 3: s, 4: v, 5: -, 6: y, 7: f, 8: s, 9: d)\n",
        "Vector(0: r, 1: w, 2: a, 3: g, 4: s, 5: s, 6: v, 7: a, 8: r, 9: s)\n",
        "--\n",
        "Vector(0: v, 1: i, 2: i, 3: r, 4: l, 5: -, 6: y, 7: w, 8: q, 9: d)\n"
       ]
      },
      {
       "output_type": "stream",
       "stream": "stdout",
       "text": [
        "Vector(0: n, 1: m, 2: t, 3: h, 4: c, 5: q, 6: f, 7: q, 8: p, 9: h)\n",
        "--\n",
        "Vector(0: v, 1: i, 2: i, 3: h, 4: l, 5: g, 6: y, 7: w, 8: q, 9: d)\n",
        "Vector(0: i, 1: d, 2: l, 3: a, 4: n, 5: h, 6: c, 7: f, 8: r, 9: p)\n",
        "--\n",
        "Vector(0: d, 1: i, 2: i, 3: h, 4: l, 5: w, 6: y, 7: w, 8: g, 9: n)\n"
       ]
      },
      {
       "output_type": "stream",
       "stream": "stdout",
       "text": [
        "Vector(0: e, 1: p, 2: y, 3: y, 4: e, 5: f, 6: y, 7: w, 8: r, 9: k)\n",
        "--\n",
        "Vector(0: d, 1: i, 2: d, 3: h, 4: l, 5: w, 6: v, 7: h, 8: w, 9: n)\n",
        "Vector(0: r, 1: f, 2: e, 3: g, 4: y, 5: c, 6: a, 7: e, 8: m, 9: s)\n",
        "--\n",
        "Vector(0: n, 1: d, 2: d, 3: h, 4: l, 5: y, 6: v, 7: w, 8: r, 9: n)\n",
        "Vector(0: i, 1: t, 2: a, 3: i, 4: r, 5: a, 6: k, 7: a, 8: a, 9: i)\n",
        "--\n",
        "Vector(0: n, 1: i, 2: s, 3: h, 4: l, 5: y, 6: v, 7: w, 8: k, 9: n)\n"
       ]
      },
      {
       "output_type": "stream",
       "stream": "stdout",
       "text": [
        "Vector(0: f, 1: w, 2: p, 3: g, 4: v, 5: f, 6: l, 7: -, 8: r, 9: t)\n",
        "--\n",
        "Vector(0: s, 1: i, 2: e, 3: h, 4: l, 5: n, 6: v, 7: w, 8: w, 9: n)\n",
        "Vector(0: r, 1: -, 2: m, 3: e, 4: n, 5: c, 6: t, 7: s, 8: -, 9: s)\n",
        "--\n",
        "Vector(0: n, 1: i, 2: s, 3: h, 4: l, 5: y, 6: v, 7: w, 8: r, 9: n)\n",
        "Vector(0: f, 1: e, 2: s, 3: k, 4: g, 5: g, 6: l, 7: n, 8: w, 9: d)\n",
        "--\n",
        "Vector(0: n, 1: i, 2: s, 3: h, 4: l, 5: l, 6: v, 7: w, 8: q, 9: n)\n"
       ]
      },
      {
       "output_type": "stream",
       "stream": "stdout",
       "text": [
        "Vector(0: w, 1: q, 2: a, 3: t, 4: m, 5: e, 6: a, 7: g, 8: r, 9: f)\n",
        "--\n",
        "Vector(0: n, 1: i, 2: s, 3: h, 4: l, 5: w, 6: v, 7: w, 8: n, 9: n)\n",
        "Vector(0: l, 1: s, 2: m, 3: m, 4: -, 5: a, 6: e, 7: q, 8: s, 9: -)\n",
        "--\n",
        "Vector(0: n, 1: i, 2: f, 3: h, 4: l, 5: i, 6: y, 7: w, 8: r, 9: n)\n",
        "Vector(0: h, 1: f, 2: r, 3: p, 4: -, 5: k, 6: i, 7: n, 8: -, 9: c)\n",
        "--\n",
        "Vector(0: n, 1: i, 2: f, 3: h, 4: l, 5: m, 6: v, 7: w, 8: r, 9: n)\n"
       ]
      },
      {
       "output_type": "stream",
       "stream": "stdout",
       "text": [
        "Vector(0: g, 1: l, 2: v, 3: t, 4: -, 5: t, 6: a, 7: w, 8: s, 9: e)\n",
        "--\n",
        "Vector(0: n, 1: i, 2: r, 3: h, 4: l, 5: a, 6: v, 7: w, 8: c, 9: n)\n",
        "Vector(0: q, 1: h, 2: -, 3: y, 4: p, 5: -, 6: e, 7: c, 8: k, 9: w)\n",
        "--\n",
        "Vector(0: n, 1: i, 2: r, 3: h, 4: l, 5: r, 6: v, 7: w, 8: y, 9: n)\n",
        "Vector(0: h, 1: t, 2: n, 3: g, 4: t, 5: g, 6: d, 7: v, 8: e, 9: v)\n",
        "--\n",
        "Vector(0: n, 1: i, 2: g, 3: h, 4: m, 5: r, 6: v, 7: w, 8: i, 9: n)\n"
       ]
      },
      {
       "output_type": "stream",
       "stream": "stdout",
       "text": [
        "Vector(0: k, 1: m, 2: w, 3: k, 4: k, 5: k, 6: v, 7: m, 8: c, 9: f)\n",
        "--\n",
        "Vector(0: n, 1: i, 2: e, 3: h, 4: l, 5: r, 6: v, 7: w, 8: g, 9: n)\n",
        "Vector(0: y, 1: y, 2: m, 3: g, 4: v, 5: e, 6: w, 7: a, 8: p, 9: c)\n",
        "--\n",
        "Vector(0: n, 1: i, 2: e, 3: h, 4: l, 5: e, 6: v, 7: w, 8: q, 9: n)\n",
        "Vector(0: y, 1: p, 2: v, 3: n, 4: e, 5: r, 6: w, 7: t, 8: k, 9: i)\n",
        "--\n",
        "Vector(0: d, 1: i, 2: w, 3: h, 4: l, 5: r, 6: r, 7: w, 8: w, 9: n)\n"
       ]
      },
      {
       "output_type": "stream",
       "stream": "stdout",
       "text": [
        "Vector(0: s, 1: m, 2: t, 3: g, 4: k, 5: t, 6: a, 7: n, 8: s, 9: q)\n",
        "--\n",
        "Vector(0: n, 1: i, 2: p, 3: h, 4: l, 5: n, 6: r, 7: w, 8: s, 9: n)\n",
        "Vector(0: s, 1: w, 2: p, 3: g, 4: -, 5: v, 6: y, 7: g, 8: r, 9: s)\n",
        "--\n",
        "Vector(0: n, 1: i, 2: d, 3: h, 4: l, 5: y, 6: v, 7: w, 8: r, 9: d)\n",
        "Vector(0: f, 1: e, 2: v, 3: k, 4: c, 5: s, 6: e, 7: a, 8: f, 9: d)\n",
        "--\n",
        "Vector(0: v, 1: i, 2: s, 3: h, 4: l, 5: l, 6: v, 7: w, 8: l, 9: d)\n"
       ]
      },
      {
       "output_type": "stream",
       "stream": "stdout",
       "text": [
        "Vector(0: m, 1: f, 2: l, 3: g, 4: p, 5: i, 6: d, 7: -, 8: m, 9: s)\n",
        "--\n",
        "Vector(0: v, 1: m, 2: s, 3: h, 4: l, 5: l, 6: y, 7: w, 8: r, 9: d)\n",
        "Vector(0: m, 1: r, 2: r, 3: g, 4: y, 5: f, 6: l, 7: f, 8: a, 9: d)\n",
        "--\n",
        "Vector(0: v, 1: i, 2: i, 3: h, 4: l, 5: n, 6: y, 7: w, 8: g, 9: d)\n",
        "Vector(0: p, 1: m, 2: i, 3: v, 4: i, 5: h, 6: y, 7: q, 8: r, 9: c)\n",
        "--\n",
        "Vector(0: v, 1: i, 2: w, 3: h, 4: l, 5: v, 6: y, 7: w, 8: r, 9: d)\n"
       ]
      },
      {
       "output_type": "stream",
       "stream": "stdout",
       "text": [
        "Vector(0: r, 1: t, 2: t, 3: q, 4: q, 5: e, 6: g, 7: t, 8: y, 9: q)\n",
        "--\n",
        "Vector(0: v, 1: i, 2: w, 3: h, 4: l, 5: r, 6: y, 7: w, 8: r, 9: d)\n",
        "Vector(0: p, 1: f, 2: w, 3: a, 4: a, 5: r, 6: n, 7: y, 8: f, 9: -)\n",
        "--\n",
        "Vector(0: v, 1: i, 2: w, 3: h, 4: l, 5: r, 6: y, 7: w, 8: r, 9: d)\n",
        "Vector(0: -, 1: p, 2: k, 3: g, 4: n, 5: a, 6: p, 7: f, 8: r, 9: s)\n",
        "--\n",
        "Vector(0: v, 1: i, 2: w, 3: h, 4: l, 5: f, 6: y, 7: w, 8: c, 9: d)\n"
       ]
      },
      {
       "output_type": "stream",
       "stream": "stdout",
       "text": [
        "Vector(0: r, 1: k, 2: w, 3: n, 4: p, 5: p, 6: s, 7: d, 8: d, 9: g)\n",
        "--\n",
        "Vector(0: d, 1: i, 2: a, 3: h, 4: l, 5: d, 6: y, 7: w, 8: r, 9: d)\n",
        "Vector(0: r, 1: p, 2: p, 3: g, 4: d, 5: t, 6: d, 7: p, 8: f, 9: k)\n",
        "--\n",
        "Vector(0: v, 1: i, 2: s, 3: s, 4: l, 5: l, 6: y, 7: w, 8: g, 9: l)\n",
        "Vector(0: t, 1: d, 2: k, 3: i, 4: -, 5: d, 6: d, 7: p, 8: a, 9: k)\n",
        "--\n",
        "Vector(0: v, 1: i, 2: i, 3: s, 4: m, 5: w, 6: i, 7: w, 8: h, 9: l)\n"
       ]
      },
      {
       "output_type": "stream",
       "stream": "stdout",
       "text": [
        "Vector(0: r, 1: f, 2: s, 3: g, 4: m, 5: w, 6: a, 7: -, 8: a, 9: s)\n",
        "--\n",
        "Vector(0: d, 1: i, 2: s, 3: r, 4: v, 5: n, 6: s, 7: w, 8: y, 9: l)\n",
        "Vector(0: r, 1: f, 2: n, 3: t, 4: v, 5: r, 6: y, 7: v, 8: h, 9: w)\n",
        "--\n",
        "Vector(0: d, 1: i, 2: d, 3: r, 4: v, 5: w, 6: p, 7: w, 8: w, 9: k)\n"
       ]
      },
      {
       "output_type": "stream",
       "stream": "stdout",
       "text": [
        "Vector(0: n, 1: s, 2: k, 3: p, 4: q, 5: s, 6: h, 7: k, 8: n, 9: p)\n",
        "--\n",
        "Vector(0: d, 1: i, 2: f, 3: r, 4: v, 5: m, 6: p, 7: w, 8: q, 9: k)\n",
        "Vector(0: a, 1: d, 2: w, 3: f, 4: r, 5: w, 6: g, 7: w, 8: n, 9: e)\n",
        "--\n",
        "Vector(0: d, 1: i, 2: f, 3: r, 4: v, 5: w, 6: p, 7: w, 8: r, 9: k)\n"
       ]
      },
      {
       "output_type": "stream",
       "stream": "stdout",
       "text": [
        "Vector(0: l, 1: h, 2: y, 3: r, 4: t, 5: d, 6: y, 7: w, 8: m, 9: f)\n",
        "--\n",
        "Vector(0: d, 1: i, 2: q, 3: r, 4: v, 5: g, 6: p, 7: w, 8: w, 9: m)\n",
        "Vector(0: i, 1: s, 2: -, 3: i, 4: i, 5: m, 6: e, 7: w, 8: -, 9: m)\n",
        "--\n",
        "Vector(0: d, 1: i, 2: p, 3: r, 4: v, 5: g, 6: p, 7: w, 8: q, 9: k)\n"
       ]
      },
      {
       "output_type": "stream",
       "stream": "stdout",
       "text": [
        "Vector(0: y, 1: m, 2: m, 3: k, 4: h, 5: m, 6: v, 7: h, 8: r, 9: c)\n",
        "--\n",
        "Vector(0: d, 1: i, 2: p, 3: r, 4: v, 5: g, 6: p, 7: w, 8: r, 9: k)\n",
        "Vector(0: -, 1: r, 2: w, 3: k, 4: n, 5: g, 6: f, 7: y, 8: y, 9: w)\n",
        "--\n",
        "Vector(0: d, 1: i, 2: p, 3: r, 4: v, 5: w, 6: p, 7: w, 8: g, 9: m)\n",
        "Vector(0: r, 1: t, 2: d, 3: y, 4: w, 5: r, 6: i, 7: w, 8: e, 9: n)\n",
        "--\n",
        "Vector(0: d, 1: i, 2: d, 3: r, 4: v, 5: n, 6: p, 7: w, 8: n, 9: m)\n"
       ]
      },
      {
       "output_type": "stream",
       "stream": "stdout",
       "text": [
        "Vector(0: r, 1: g, 2: m, 3: t, 4: l, 5: g, 6: i, 7: r, 8: w, 9: l)\n",
        "--\n",
        "Vector(0: d, 1: i, 2: d, 3: r, 4: v, 5: n, 6: p, 7: w, 8: i, 9: m)\n",
        "Vector(0: w, 1: m, 2: e, 3: t, 4: i, 5: f, 6: i, 7: t, 8: k, 9: q)\n",
        "--\n",
        "Vector(0: d, 1: i, 2: a, 3: r, 4: v, 5: r, 6: p, 7: w, 8: r, 9: k)\n",
        "Vector(0: s, 1: f, 2: f, 3: t, 4: n, 5: q, 6: w, 7: y, 8: m, 9: s)\n",
        "--\n",
        "Vector(0: d, 1: i, 2: h, 3: r, 4: h, 5: r, 6: g, 7: q, 8: w, 9: k)\n"
       ]
      },
      {
       "output_type": "stream",
       "stream": "stdout",
       "text": [
        "Vector(0: r, 1: f, 2: -, 3: g, 4: i, 5: h, 6: y, 7: a, 8: w, 9: c)\n",
        "--\n",
        "Vector(0: g, 1: i, 2: f, 3: r, 4: h, 5: i, 6: g, 7: w, 8: s, 9: v)\n",
        "Vector(0: s, 1: f, 2: h, 3: e, 4: n, 5: p, 6: y, 7: a, 8: a, 9: s)\n",
        "--\n",
        "Vector(0: g, 1: i, 2: f, 3: r, 4: h, 5: r, 6: v, 7: w, 8: w, 9: v)\n",
        "Vector(0: i, 1: w, 2: r, 3: t, 4: n, 5: i, 6: -, 7: k, 8: r, 9: p)\n",
        "--\n",
        "Vector(0: g, 1: i, 2: e, 3: r, 4: h, 5: r, 6: v, 7: w, 8: r, 9: v)\n"
       ]
      },
      {
       "output_type": "stream",
       "stream": "stdout",
       "text": [
        "Vector(0: k, 1: i, 2: t, 3: n, 4: -, 5: q, 6: d, 7: f, 8: d, 9: l)\n",
        "--\n",
        "Vector(0: g, 1: i, 2: e, 3: r, 4: h, 5: r, 6: g, 7: w, 8: q, 9: k)\n",
        "Vector(0: y, 1: t, 2: v, 3: v, 4: a, 5: w, 6: r, 7: i, 8: h, 9: m)\n",
        "--\n",
        "Vector(0: s, 1: i, 2: f, 3: r, 4: h, 5: i, 6: p, 7: w, 8: q, 9: k)\n",
        "Vector(0: r, 1: f, 2: w, 3: y, 4: c, 5: l, 6: a, 7: v, 8: l, 9: r)\n",
        "--\n",
        "Vector(0: s, 1: i, 2: f, 3: r, 4: h, 5: w, 6: p, 7: w, 8: m, 9: k)\n"
       ]
      },
      {
       "output_type": "stream",
       "stream": "stdout",
       "text": [
        "Vector(0: n, 1: i, 2: q, 3: p, 4: t, 5: r, 6: f, 7: v, 8: c, 9: f)\n",
        "--\n",
        "Vector(0: n, 1: i, 2: p, 3: r, 4: v, 5: w, 6: p, 7: w, 8: r, 9: k)\n",
        "Vector(0: d, 1: a, 2: m, 3: a, 4: k, 5: e, 6: w, 7: c, 8: p, 9: a)\n",
        "--\n",
        "Vector(0: d, 1: i, 2: f, 3: r, 4: v, 5: r, 6: p, 7: w, 8: h, 9: k)\n",
        "Vector(0: e, 1: n, 2: q, 3: i, 4: v, 5: m, 6: t, 7: r, 8: h, 9: s)\n",
        "--\n",
        "Vector(0: d, 1: i, 2: n, 3: r, 4: v, 5: r, 6: p, 7: w, 8: g, 9: k)\n"
       ]
      },
      {
       "output_type": "stream",
       "stream": "stdout",
       "text": [
        "Vector(0: c, 1: f, 2: w, 3: w, 4: -, 5: -, 6: k, 7: n, 8: r, 9: m)\n",
        "--\n",
        "Vector(0: d, 1: i, 2: w, 3: r, 4: v, 5: e, 6: p, 7: w, 8: p, 9: k)\n",
        "Vector(0: -, 1: n, 2: l, 3: q, 4: e, 5: t, 6: m, 7: k, 8: h, 9: r)\n",
        "--\n",
        "Vector(0: d, 1: i, 2: w, 3: r, 4: v, 5: e, 6: p, 7: w, 8: w, 9: k)\n"
       ]
      },
      {
       "output_type": "stream",
       "stream": "stdout",
       "text": [
        "Vector(0: c, 1: i, 2: h, 3: -, 4: v, 5: m, 6: h, 7: v, 8: s, 9: -)\n",
        "--\n",
        "Vector(0: d, 1: i, 2: w, 3: r, 4: v, 5: r, 6: p, 7: w, 8: d, 9: k)\n",
        "Vector(0: p, 1: h, 2: q, 3: g, 4: i, 5: r, 6: t, 7: s, 8: t, 9: m)\n",
        "--\n",
        "Vector(0: n, 1: i, 2: n, 3: r, 4: v, 5: p, 6: p, 7: w, 8: w, 9: k)\n",
        "Vector(0: r, 1: t, 2: p, 3: s, 4: -, 5: v, 6: d, 7: a, 8: c, 9: p)\n",
        "--\n",
        "Vector(0: d, 1: i, 2: y, 3: r, 4: v, 5: t, 6: p, 7: w, 8: r, 9: m)\n"
       ]
      },
      {
       "output_type": "stream",
       "stream": "stdout",
       "text": [
        "Vector(0: w, 1: f, 2: w, 3: -, 4: d, 5: w, 6: i, 7: t, 8: c, 9: v)\n",
        "--\n",
        "Vector(0: d, 1: i, 2: f, 3: r, 4: v, 5: i, 6: p, 7: w, 8: l, 9: k)\n",
        "Vector(0: q, 1: n, 2: c, 3: -, 4: d, 5: s, 6: r, 7: w, 8: n, 9: d)\n",
        "--\n",
        "Vector(0: d, 1: i, 2: f, 3: r, 4: v, 5: i, 6: p, 7: w, 8: r, 9: k)\n"
       ]
      },
      {
       "output_type": "stream",
       "stream": "stdout",
       "text": [
        "Vector(0: k, 1: k, 2: n, 3: p, 4: n, 5: l, 6: e, 7: a, 8: l, 9: -)\n",
        "--\n",
        "Vector(0: d, 1: i, 2: f, 3: r, 4: v, 5: r, 6: p, 7: w, 8: r, 9: m)\n",
        "Vector(0: r, 1: n, 2: w, 3: g, 4: l, 5: d, 6: f, 7: t, 8: g, 9: a)\n",
        "--\n",
        "Vector(0: d, 1: i, 2: w, 3: r, 4: v, 5: e, 6: p, 7: w, 8: l, 9: k)\n",
        "Vector(0: w, 1: d, 2: y, 3: p, 4: v, 5: s, 6: t, 7: w, 8: v, 9: s)\n",
        "--\n",
        "Vector(0: d, 1: i, 2: w, 3: r, 4: v, 5: r, 6: p, 7: w, 8: w, 9: k)\n"
       ]
      },
      {
       "output_type": "stream",
       "stream": "stdout",
       "text": [
        "Vector(0: s, 1: y, 2: -, 3: -, 4: n, 5: l, 6: y, 7: s, 8: y, 9: p)\n",
        "--\n",
        "Vector(0: d, 1: i, 2: w, 3: r, 4: v, 5: r, 6: p, 7: w, 8: r, 9: k)\n",
        "Vector(0: w, 1: e, 2: t, 3: g, 4: n, 5: f, 6: t, 7: e, 8: f, 9: s)\n",
        "--\n",
        "Vector(0: d, 1: i, 2: h, 3: r, 4: v, 5: r, 6: p, 7: w, 8: d, 9: k)\n",
        "Vector(0: r, 1: h, 2: m, 3: -, 4: w, 5: w, 6: y, 7: a, 8: m, 9: n)\n",
        "--\n",
        "Vector(0: d, 1: i, 2: a, 3: r, 4: v, 5: r, 6: p, 7: w, 8: m, 9: k)\n"
       ]
      },
      {
       "output_type": "stream",
       "stream": "stdout",
       "text": [
        "Vector(0: a, 1: d, 2: w, 3: m, 4: g, 5: e, 6: h, 7: v, 8: g, 9: v)\n",
        "--\n",
        "Vector(0: d, 1: i, 2: d, 3: r, 4: v, 5: l, 6: p, 7: w, 8: w, 9: k)\n",
        "Vector(0: c, 1: m, 2: i, 3: h, 4: k, 5: n, 6: t, 7: y, 8: r, 9: l)\n",
        "--\n",
        "Vector(0: d, 1: i, 2: a, 3: r, 4: v, 5: n, 6: p, 7: w, 8: s, 9: k)\n",
        "Vector(0: m, 1: w, 2: t, 3: p, 4: e, 5: h, 6: d, 7: n, 8: n, 9: h)\n",
        "--\n",
        "Vector(0: d, 1: i, 2: d, 3: r, 4: v, 5: w, 6: p, 7: w, 8: n, 9: k)\n"
       ]
      },
      {
       "output_type": "stream",
       "stream": "stdout",
       "text": [
        "Vector(0: c, 1: i, 2: i, 3: l, 4: y, 5: f, 6: s, 7: w, 8: c, 9: r)\n",
        "--\n",
        "Vector(0: d, 1: i, 2: c, 3: r, 4: l, 5: w, 6: p, 7: w, 8: i, 9: k)\n",
        "Vector(0: r, 1: k, 2: l, 3: g, 4: i, 5: r, 6: n, 7: l, 8: a, 9: s)\n",
        "--\n",
        "Vector(0: n, 1: i, 2: f, 3: h, 4: l, 5: i, 6: p, 7: w, 8: d, 9: k)\n"
       ]
      },
      {
       "output_type": "stream",
       "stream": "stdout",
       "text": [
        "Vector(0: y, 1: r, 2: p, 3: e, 4: g, 5: a, 6: y, 7: r, 8: r, 9: e)\n",
        "--\n",
        "Vector(0: n, 1: i, 2: w, 3: h, 4: l, 5: -, 6: p, 7: w, 8: k, 9: k)\n",
        "Vector(0: n, 1: p, 2: h, 3: v, 4: m, 5: h, 6: g, 7: n, 8: r, 9: m)\n",
        "--\n",
        "Vector(0: n, 1: i, 2: w, 3: h, 4: l, 5: r, 6: p, 7: w, 8: m, 9: k)\n",
        "Vector(0: l, 1: f, 2: p, 3: g, 4: i, 5: r, 6: y, 7: q, 8: y, 9: g)\n",
        "--\n",
        "Vector(0: n, 1: i, 2: w, 3: h, 4: l, 5: r, 6: p, 7: w, 8: s, 9: k)\n"
       ]
      },
      {
       "output_type": "stream",
       "stream": "stdout",
       "text": [
        "Vector(0: r, 1: v, 2: g, 3: l, 4: v, 5: r, 6: c, 7: v, 8: w, 9: h)\n",
        "--\n",
        "Vector(0: n, 1: i, 2: n, 3: g, 4: l, 5: r, 6: q, 7: w, 8: l, 9: a)\n",
        "Vector(0: w, 1: l, 2: r, 3: g, 4: d, 5: -, 6: y, 7: e, 8: h, 9: y)\n",
        "--\n",
        "Vector(0: n, 1: i, 2: w, 3: g, 4: v, 5: e, 6: c, 7: a, 8: h, 9: a)\n",
        "Vector(0: n, 1: q, 2: w, 3: l, 4: e, 5: s, 6: r, 7: r, 8: e, 9: f)\n",
        "--\n",
        "Vector(0: d, 1: e, 2: n, 3: q, 4: g, 5: w, 6: c, 7: y, 8: t, 9: a)\n"
       ]
      },
      {
       "output_type": "stream",
       "stream": "stdout",
       "text": [
        "Vector(0: q, 1: t, 2: m, 3: w, 4: p, 5: a, 6: y, 7: i, 8: v, 9: k)\n",
        "--\n",
        "Vector(0: p, 1: e, 2: i, 3: q, 4: l, 5: n, 6: h, 7: y, 8: r, 9: a)\n",
        "Vector(0: y, 1: i, 2: e, 3: p, 4: s, 5: r, 6: m, 7: k, 8: q, 9: a)\n",
        "--\n",
        "Vector(0: s, 1: e, 2: q, 3: q, 4: p, 5: n, 6: c, 7: y, 8: r, 9: a)\n",
        "Vector(0: r, 1: d, 2: w, 3: v, 4: y, 5: c, 6: t, 7: a, 8: w, 9: s)\n",
        "--\n",
        "Vector(0: s, 1: e, 2: q, 3: q, 4: l, 5: n, 6: c, 7: y, 8: w, 9: a)\n",
        "Vector(0: l, 1: v, 2: c, 3: g, 4: n, 5: e, 6: y, 7: q, 8: r, 9: s)\n",
        "--\n",
        "Vector(0: s, 1: e, 2: q, 3: q, 4: l, 5: y, 6: c, 7: y, 8: i, 9: a)\n"
       ]
      },
      {
       "output_type": "stream",
       "stream": "stdout",
       "text": [
        "Vector(0: r, 1: v, 2: m, 3: p, 4: d, 5: n, 6: y, 7: d, 8: p, 9: c)\n",
        "--\n",
        "Vector(0: d, 1: c, 2: s, 3: i, 4: l, 5: l, 6: r, 7: y, 8: -, 9: a)\n",
        "Vector(0: s, 1: t, 2: s, 3: p, 4: y, 5: -, 6: g, 7: v, 8: w, 9: v)\n",
        "--\n",
        "Vector(0: d, 1: i, 2: s, 3: q, 4: l, 5: y, 6: r, 7: y, 8: r, 9: a)\n",
        "Vector(0: r, 1: y, 2: w, 3: g, 4: n, 5: h, 6: y, 7: m, 8: -, 9: s)\n",
        "--\n",
        "Vector(0: v, 1: i, 2: s, 3: q, 4: l, 5: h, 6: c, 7: y, 8: r, 9: a)\n"
       ]
      },
      {
       "output_type": "stream",
       "stream": "stdout",
       "text": [
        "Vector(0: f, 1: f, 2: w, 3: s, 4: n, 5: r, 6: n, 7: e, 8: c, 9: m)\n",
        "--\n",
        "Vector(0: d, 1: i, 2: w, 3: q, 4: l, 5: r, 6: c, 7: y, 8: r, 9: a)\n",
        "Vector(0: n, 1: k, 2: l, 3: r, 4: l, 5: w, 6: s, 7: e, 8: q, 9: s)\n",
        "--\n",
        "Vector(0: d, 1: e, 2: w, 3: q, 4: y, 5: e, 6: r, 7: y, 8: q, 9: a)\n",
        "Vector(0: r, 1: y, 2: w, 3: c, 4: q, 5: k, 6: f, 7: s, 8: r, 9: y)\n",
        "--\n",
        "Vector(0: d, 1: e, 2: w, 3: q, 4: l, 5: r, 6: d, 7: y, 8: r, 9: a)\n"
       ]
      },
      {
       "output_type": "stream",
       "stream": "stdout",
       "text": [
        "Vector(0: r, 1: w, 2: w, 3: h, 4: n, 5: r, 6: w, 7: -, 8: t, 9: s)\n",
        "--\n",
        "Vector(0: d, 1: e, 2: a, 3: q, 4: l, 5: r, 6: r, 7: y, 8: r, 9: a)\n",
        "Vector(0: h, 1: y, 2: h, 3: v, 4: d, 5: p, 6: i, 7: c, 8: e, 9: n)\n",
        "--\n",
        "Vector(0: s, 1: e, 2: w, 3: q, 4: l, 5: e, 6: r, 7: y, 8: r, 9: c)\n",
        "Vector(0: r, 1: w, 2: r, 3: g, 4: n, 5: p, 6: a, 7: r, 8: w, 9: h)\n",
        "--\n",
        "Vector(0: s, 1: e, 2: i, 3: q, 4: l, 5: n, 6: r, 7: y, 8: w, 9: c)\n"
       ]
      },
      {
       "output_type": "stream",
       "stream": "stdout",
       "text": [
        "Vector(0: i, 1: n, 2: p, 3: t, 4: n, 5: k, 6: s, 7: l, 8: d, 9: i)\n",
        "--\n",
        "Vector(0: s, 1: e, 2: i, 3: q, 4: y, 5: -, 6: r, 7: y, 8: y, 9: c)\n",
        "Vector(0: r, 1: n, 2: w, 3: g, 4: n, 5: g, 6: y, 7: a, 8: p, 9: q)\n",
        "--\n",
        "Vector(0: s, 1: e, 2: i, 3: i, 4: y, 5: l, 6: r, 7: y, 8: l, 9: c)\n",
        "Vector(0: p, 1: s, 2: p, 3: g, 4: f, 5: d, 6: a, 7: -, 8: n, 9: g)\n",
        "--\n",
        "Vector(0: s, 1: e, 2: i, 3: i, 4: l, 5: -, 6: r, 7: y, 8: c, 9: c)\n"
       ]
      },
      {
       "output_type": "stream",
       "stream": "stdout",
       "text": [
        "Vector(0: n, 1: f, 2: v, 3: -, 4: y, 5: p, 6: s, 7: a, 8: m, 9: s)\n",
        "--\n",
        "Vector(0: s, 1: c, 2: i, 3: i, 4: l, 5: -, 6: r, 7: y, 8: r, 9: c)\n",
        "Vector(0: r, 1: f, 2: m, 3: g, 4: e, 5: r, 6: y, 7: a, 8: s, 9: s)\n",
        "--\n",
        "Vector(0: s, 1: e, 2: i, 3: i, 4: y, 5: l, 6: r, 7: y, 8: s, 9: c)\n",
        "Vector(0: t, 1: l, 2: r, 3: y, 4: p, 5: e, 6: r, 7: g, 8: e, 9: n)\n",
        "--\n",
        "Vector(0: s, 1: e, 2: i, 3: i, 4: h, 5: e, 6: r, 7: y, 8: r, 9: c)\n"
       ]
      },
      {
       "output_type": "stream",
       "stream": "stdout",
       "text": [
        "Vector(0: t, 1: r, 2: w, 3: f, 4: t, 5: w, 6: l, 7: a, 8: p, 9: q)\n",
        "--\n",
        "Vector(0: s, 1: e, 2: w, 3: i, 4: l, 5: e, 6: r, 7: y, 8: y, 9: c)\n",
        "Vector(0: q, 1: i, 2: g, 3: i, 4: d, 5: l, 6: c, 7: w, 8: c, 9: e)\n",
        "--\n",
        "Vector(0: s, 1: e, 2: i, 3: q, 4: l, 5: l, 6: r, 7: y, 8: q, 9: c)\n",
        "Vector(0: p, 1: p, 2: r, 3: g, 4: w, 5: k, 6: p, 7: l, 8: k, 9: c)\n",
        "--\n",
        "Vector(0: s, 1: e, 2: i, 3: i, 4: y, 5: -, 6: r, 7: y, 8: r, 9: c)\n"
       ]
      },
      {
       "output_type": "stream",
       "stream": "stdout",
       "text": [
        "Vector(0: q, 1: f, 2: s, 3: g, 4: n, 5: r, 6: s, 7: a, 8: n, 9: s)\n",
        "--\n",
        "Vector(0: s, 1: e, 2: i, 3: i, 4: y, 5: l, 6: r, 7: y, 8: w, 9: c)\n",
        "Vector(0: r, 1: v, 2: v, 3: g, 4: n, 5: e, 6: y, 7: l, 8: s, 9: s)\n",
        "--\n",
        "Vector(0: s, 1: e, 2: i, 3: i, 4: y, 5: w, 6: r, 7: y, 8: v, 9: c)\n",
        "Vector(0: e, 1: e, 2: m, 3: h, 4: g, 5: v, 6: m, 7: q, 8: l, 9: s)\n",
        "--\n",
        "Vector(0: s, 1: e, 2: i, 3: i, 4: l, 5: l, 6: r, 7: y, 8: w, 9: c)\n"
       ]
      },
      {
       "output_type": "stream",
       "stream": "stdout",
       "text": [
        "Vector(0: n, 1: d, 2: m, 3: v, 4: n, 5: p, 6: y, 7: r, 8: m, 9: s)\n",
        "--\n",
        "Vector(0: s, 1: i, 2: i, 3: i, 4: l, 5: n, 6: r, 7: w, 8: p, 9: c)\n",
        "Vector(0: e, 1: p, 2: r, 3: q, 4: g, 5: f, 6: s, 7: m, 8: f, 9: w)\n",
        "--\n",
        "Vector(0: s, 1: i, 2: i, 3: i, 4: s, 5: -, 6: r, 7: w, 8: l, 9: c)\n",
        "Vector(0: r, 1: k, 2: w, 3: c, 4: h, 5: r, 6: y, 7: g, 8: n, 9: h)\n",
        "--\n",
        "Vector(0: s, 1: i, 2: w, 3: q, 4: l, 5: r, 6: p, 7: w, 8: e, 9: c)\n"
       ]
      },
      {
       "output_type": "stream",
       "stream": "stdout",
       "text": [
        "Vector(0: -, 1: t, 2: r, 3: l, 4: l, 5: h, 6: y, 7: -, 8: s, 9: m)\n",
        "--\n",
        "Vector(0: s, 1: i, 2: n, 3: a, 4: l, 5: r, 6: v, 7: w, 8: f, 9: d)\n",
        "Vector(0: r, 1: f, 2: t, 3: g, 4: n, 5: t, 6: y, 7: y, 8: p, 9: s)\n",
        "--\n",
        "Vector(0: v, 1: i, 2: e, 3: h, 4: l, 5: r, 6: v, 7: w, 8: k, 9: d)\n",
        "Vector(0: -, 1: r, 2: v, 3: w, 4: n, 5: w, 6: d, 7: a, 8: v, 9: s)\n",
        "--\n",
        "Vector(0: v, 1: i, 2: e, 3: h, 4: l, 5: e, 6: v, 7: w, 8: w, 9: d)\n"
       ]
      },
      {
       "output_type": "stream",
       "stream": "stdout",
       "text": [
        "Vector(0: t, 1: i, 2: g, 3: y, 4: v, 5: r, 6: -, 7: l, 8: i, 9: s)\n",
        "--\n",
        "Vector(0: v, 1: i, 2: e, 3: h, 4: l, 5: e, 6: v, 7: w, 8: g, 9: d)\n",
        "Vector(0: i, 1: f, 2: l, 3: g, 4: m, 5: k, 6: a, 7: e, 8: m, 9: n)\n",
        "--\n",
        "Vector(0: v, 1: i, 2: e, 3: h, 4: l, 5: e, 6: v, 7: w, 8: w, 9: d)\n",
        "Vector(0: c, 1: y, 2: d, 3: p, 4: n, 5: r, 6: g, 7: t, 8: r, 9: e)\n",
        "--\n",
        "Vector(0: v, 1: i, 2: e, 3: h, 4: l, 5: r, 6: w, 7: w, 8: q, 9: d)\n"
       ]
      },
      {
       "output_type": "stream",
       "stream": "stdout",
       "text": [
        "Vector(0: a, 1: p, 2: e, 3: g, 4: l, 5: r, 6: d, 7: h, 8: s, 9: a)\n",
        "--\n",
        "Vector(0: v, 1: i, 2: h, 3: e, 4: l, 5: r, 6: w, 7: w, 8: e, 9: d)\n",
        "Vector(0: i, 1: w, 2: w, 3: g, 4: m, 5: r, 6: d, 7: g, 8: t, 9: q)\n",
        "--\n",
        "Vector(0: v, 1: i, 2: h, 3: s, 4: l, 5: r, 6: p, 7: w, 8: c, 9: d)\n",
        "Vector(0: r, 1: f, 2: w, 3: g, 4: g, 5: a, 6: y, 7: s, 8: r, 9: s)\n",
        "--\n",
        "Vector(0: v, 1: i, 2: e, 3: s, 4: l, 5: e, 6: v, 7: w, 8: r, 9: d)\n"
       ]
      },
      {
       "output_type": "stream",
       "stream": "stdout",
       "text": [
        "Vector(0: f, 1: f, 2: w, 3: g, 4: q, 5: e, 6: n, 7: e, 8: a, 9: s)\n",
        "--\n",
        "Vector(0: v, 1: i, 2: e, 3: s, 4: l, 5: e, 6: v, 7: w, 8: s, 9: d)\n",
        "Vector(0: l, 1: i, 2: h, 3: d, 4: n, 5: s, 6: p, 7: m, 8: h, 9: l)\n",
        "--\n",
        "Vector(0: v, 1: i, 2: e, 3: h, 4: l, 5: e, 6: v, 7: w, 8: -, 9: d)\n",
        "Vector(0: f, 1: l, 2: r, 3: q, 4: t, 5: p, 6: y, 7: i, 8: r, 9: y)\n",
        "--\n",
        "Vector(0: v, 1: i, 2: e, 3: a, 4: l, 5: e, 6: v, 7: w, 8: p, 9: d)\n"
       ]
      },
      {
       "output_type": "stream",
       "stream": "stdout",
       "text": [
        "Vector(0: r, 1: f, 2: a, 3: g, 4: w, 5: q, 6: l, 7: e, 8: s, 9: s)\n",
        "--\n",
        "Vector(0: v, 1: i, 2: e, 3: g, 4: l, 5: e, 6: v, 7: w, 8: y, 9: d)\n",
        "Vector(0: r, 1: v, 2: s, 3: w, 4: i, 5: a, 6: r, 7: v, 8: g, 9: a)\n",
        "--\n",
        "Vector(0: v, 1: i, 2: e, 3: h, 4: l, 5: r, 6: v, 7: w, 8: s, 9: d)\n",
        "Vector(0: y, 1: m, 2: p, 3: r, 4: a, 5: q, 6: t, 7: s, 8: m, 9: l)\n",
        "--\n",
        "Vector(0: d, 1: i, 2: r, 3: h, 4: l, 5: q, 6: v, 7: w, 8: f, 9: n)\n"
       ]
      },
      {
       "output_type": "stream",
       "stream": "stdout",
       "text": [
        "Vector(0: c, 1: i, 2: i, 3: m, 4: a, 5: n, 6: r, 7: w, 8: e, 9: c)\n",
        "--\n",
        "Vector(0: a, 1: i, 2: q, 3: h, 4: s, 5: y, 6: v, 7: w, 8: y, 9: n)\n",
        "Vector(0: q, 1: t, 2: m, 3: c, 4: d, 5: r, 6: f, 7: w, 8: i, 9: s)\n",
        "--\n",
        "Vector(0: d, 1: i, 2: s, 3: h, 4: l, 5: y, 6: v, 7: w, 8: q, 9: n)\n",
        "Vector(0: e, 1: c, 2: p, 3: g, 4: n, 5: v, 6: n, 7: r, 8: g, 9: n)\n",
        "--\n",
        "Vector(0: n, 1: i, 2: s, 3: h, 4: l, 5: y, 6: v, 7: w, 8: q, 9: n)\n"
       ]
      },
      {
       "output_type": "stream",
       "stream": "stdout",
       "text": [
        "Vector(0: m, 1: i, 2: w, 3: c, 4: -, 5: r, 6: k, 7: n, 8: y, 9: t)\n",
        "--\n",
        "Vector(0: n, 1: i, 2: s, 3: h, 4: l, 5: w, 6: v, 7: w, 8: y, 9: n)\n",
        "Vector(0: r, 1: w, 2: f, 3: w, 4: n, 5: c, 6: l, 7: y, 8: v, 9: m)\n",
        "--\n",
        "Vector(0: d, 1: i, 2: y, 3: h, 4: l, 5: i, 6: n, 7: w, 8: m, 9: v)\n",
        "Vector(0: a, 1: f, 2: w, 3: g, 4: n, 5: q, 6: n, 7: d, 8: k, 9: s)\n",
        "--\n",
        "Vector(0: v, 1: i, 2: f, 3: h, 4: l, 5: n, 6: p, 7: w, 8: r, 9: d)\n"
       ]
      },
      {
       "output_type": "stream",
       "stream": "stdout",
       "text": [
        "Vector(0: s, 1: h, 2: g, 3: v, 4: f, 5: c, 6: e, 7: w, 8: t, 9: s)\n",
        "--\n",
        "Vector(0: v, 1: i, 2: f, 3: a, 4: l, 5: m, 6: y, 7: w, 8: h, 9: d)\n",
        "Vector(0: n, 1: v, 2: d, 3: d, 4: n, 5: r, 6: y, 7: -, 8: s, 9: s)\n",
        "--\n",
        "Vector(0: v, 1: i, 2: w, 3: e, 4: l, 5: f, 6: y, 7: w, 8: t, 9: d)\n",
        "Vector(0: p, 1: i, 2: -, 3: v, 4: q, 5: q, 6: l, 7: a, 8: g, 9: s)\n",
        "--\n",
        "Vector(0: v, 1: i, 2: w, 3: r, 4: v, 5: r, 6: p, 7: w, 8: g, 9: k)\n",
        "Vector(0: y, 1: g, 2: h, 3: v, 4: w, 5: q, 6: w, 7: a, 8: g, 9: g)\n",
        "--\n",
        "Vector(0: d, 1: i, 2: f, 3: r, 4: v, 5: n, 6: p, 7: w, 8: w, 9: k)\n"
       ]
      },
      {
       "output_type": "stream",
       "stream": "stdout",
       "text": [
        "Vector(0: n, 1: w, 2: t, 3: g, 4: q, 5: l, 6: -, 7: m, 8: a, 9: s)\n",
        "--\n",
        "Vector(0: d, 1: i, 2: d, 3: r, 4: v, 5: w, 6: q, 7: w, 8: h, 9: l)\n",
        "Vector(0: d, 1: y, 2: n, 3: g, 4: d, 5: h, 6: y, 7: a, 8: k, 9: r)\n",
        "--\n",
        "Vector(0: d, 1: i, 2: n, 3: r, 4: v, 5: r, 6: s, 7: w, 8: d, 9: l)\n"
       ]
      },
      {
       "output_type": "stream",
       "stream": "stdout",
       "text": [
        "Vector(0: r, 1: -, 2: w, 3: y, 4: n, 5: -, 6: q, 7: h, 8: r, 9: i)\n",
        "--\n",
        "Vector(0: d, 1: i, 2: w, 3: r, 4: v, 5: r, 6: s, 7: w, 8: g, 9: l)\n",
        "Vector(0: r, 1: d, 2: l, 3: q, 4: s, 5: q, 6: y, 7: n, 8: n, 9: s)\n",
        "--\n",
        "Vector(0: d, 1: i, 2: n, 3: r, 4: v, 5: w, 6: c, 7: w, 8: w, 9: l)\n",
        "Vector(0: e, 1: d, 2: c, 3: q, 4: d, 5: r, 6: h, 7: k, 8: s, 9: w)\n",
        "--\n",
        "Vector(0: d, 1: i, 2: q, 3: r, 4: v, 5: y, 6: n, 7: g, 8: r, 9: l)\n"
       ]
      },
      {
       "output_type": "stream",
       "stream": "stdout",
       "text": [
        "Vector(0: r, 1: p, 2: g, 3: g, 4: t, 5: k, 6: y, 7: a, 8: -, 9: s)\n",
        "--\n",
        "Vector(0: d, 1: i, 2: s, 3: r, 4: v, 5: l, 6: c, 7: g, 8: -, 9: w)\n",
        "Vector(0: i, 1: n, 2: w, 3: m, 4: n, 5: p, 6: p, 7: e, 8: d, 9: s)\n",
        "--\n",
        "Vector(0: d, 1: i, 2: s, 3: r, 4: v, 5: l, 6: i, 7: g, 8: g, 9: w)\n",
        "Vector(0: g, 1: l, 2: v, 3: l, 4: h, 5: t, 6: y, 7: t, 8: h, 9: y)\n",
        "--\n",
        "Vector(0: d, 1: i, 2: s, 3: r, 4: v, 5: y, 6: c, 7: g, 8: w, 9: w)\n",
        "Vector(0: r, 1: p, 2: g, 3: c, 4: n, 5: k, 6: y, 7: a, 8: r, 9: s)\n",
        "--\n",
        "Vector(0: d, 1: i, 2: s, 3: r, 4: v, 5: l, 6: k, 7: q, 8: w, 9: -)\n"
       ]
      },
      {
       "output_type": "stream",
       "stream": "stdout",
       "text": [
        "Vector(0: v, 1: v, 2: g, 3: g, 4: i, 5: q, 6: s, 7: i, 8: r, 9: w)\n",
        "--\n",
        "Vector(0: d, 1: i, 2: s, 3: r, 4: v, 5: l, 6: n, 7: g, 8: w, 9: -)\n",
        "Vector(0: r, 1: f, 2: w, 3: g, 4: n, 5: r, 6: y, 7: a, 8: e, 9: s)\n",
        "--\n",
        "Vector(0: d, 1: i, 2: s, 3: r, 4: v, 5: l, 6: c, 7: g, 8: k, 9: w)\n",
        "Vector(0: r, 1: c, 2: w, 3: c, 4: f, 5: v, 6: a, 7: a, 8: w, 9: s)\n",
        "--\n",
        "Vector(0: d, 1: i, 2: s, 3: r, 4: v, 5: y, 6: c, 7: g, 8: l, 9: w)\n"
       ]
      },
      {
       "output_type": "stream",
       "stream": "stdout",
       "text": [
        "Vector(0: r, 1: k, 2: q, 3: w, 4: d, 5: w, 6: g, 7: h, 8: r, 9: f)\n",
        "--\n",
        "Vector(0: d, 1: i, 2: s, 3: r, 4: v, 5: l, 6: c, 7: g, 8: s, 9: w)\n",
        "Vector(0: r, 1: -, 2: r, 3: t, 4: l, 5: y, 6: y, 7: d, 8: s, 9: g)\n",
        "--\n",
        "Vector(0: d, 1: i, 2: s, 3: r, 4: v, 5: y, 6: c, 7: g, 8: g, 9: l)\n",
        "Vector(0: l, 1: q, 2: r, 3: g, 4: v, 5: c, 6: h, 7: e, 8: y, 9: s)\n",
        "--\n",
        "Vector(0: d, 1: i, 2: q, 3: r, 4: v, 5: i, 6: c, 7: w, 8: k, 9: l)\n"
       ]
      },
      {
       "output_type": "stream",
       "stream": "stdout",
       "text": [
        "Vector(0: e, 1: d, 2: f, 3: g, 4: v, 5: p, 6: y, 7: d, 8: g, 9: e)\n",
        "--\n",
        "Vector(0: d, 1: i, 2: w, 3: r, 4: v, 5: a, 6: s, 7: w, 8: w, 9: l)\n",
        "Vector(0: g, 1: g, 2: q, 3: y, 4: p, 5: r, 6: -, 7: d, 8: k, 9: r)\n",
        "--\n",
        "Vector(0: d, 1: i, 2: d, 3: r, 4: v, 5: n, 6: s, 7: w, 8: r, 9: l)\n",
        "Vector(0: r, 1: f, 2: -, 3: g, 4: n, 5: r, 6: y, 7: v, 8: p, 9: s)\n",
        "--\n",
        "Vector(0: d, 1: i, 2: d, 3: r, 4: v, 5: n, 6: s, 7: w, 8: l, 9: l)\n"
       ]
      },
      {
       "output_type": "stream",
       "stream": "stdout",
       "text": [
        "Vector(0: i, 1: a, 2: m, 3: g, 4: n, 5: t, 6: y, 7: h, 8: d, 9: s)\n",
        "--\n",
        "Vector(0: d, 1: i, 2: f, 3: r, 4: v, 5: m, 6: n, 7: w, 8: r, 9: l)\n",
        "Vector(0: r, 1: q, 2: w, 3: g, 4: p, 5: r, 6: r, 7: a, 8: r, 9: s)\n",
        "--\n",
        "Vector(0: d, 1: i, 2: f, 3: r, 4: v, 5: n, 6: g, 7: w, 8: l, 9: l)\n",
        "Vector(0: g, 1: i, 2: y, 3: y, 4: q, 5: p, 6: l, 7: w, 8: y, 9: q)\n",
        "--\n",
        "Vector(0: d, 1: i, 2: d, 3: r, 4: v, 5: w, 6: s, 7: w, 8: r, 9: l)\n"
       ]
      },
      {
       "output_type": "stream",
       "stream": "stdout",
       "text": [
        "Vector(0: f, 1: w, 2: l, 3: p, 4: t, 5: c, 6: k, 7: g, 8: r, 9: f)\n",
        "--\n",
        "Vector(0: d, 1: i, 2: d, 3: i, 4: s, 5: n, 6: s, 7: w, 8: i, 9: l)\n",
        "Vector(0: r, 1: f, 2: w, 3: g, 4: d, 5: r, 6: g, 7: a, 8: r, 9: s)\n",
        "--\n",
        "Vector(0: d, 1: i, 2: d, 3: i, 4: s, 5: a, 6: n, 7: w, 8: r, 9: l)\n",
        "Vector(0: r, 1: f, 2: w, 3: g, 4: m, 5: c, 6: a, 7: a, 8: w, 9: s)\n",
        "--\n",
        "Vector(0: d, 1: i, 2: q, 3: i, 4: s, 5: m, 6: n, 7: w, 8: y, 9: l)\n"
       ]
      },
      {
       "output_type": "stream",
       "stream": "stdout",
       "text": [
        "Vector(0: m, 1: s, 2: k, 3: g, 4: n, 5: h, 6: y, 7: a, 8: r, 9: s)\n",
        "--\n",
        "Vector(0: l, 1: i, 2: f, 3: i, 4: s, 5: m, 6: c, 7: w, 8: g, 9: l)\n",
        "Vector(0: s, 1: m, 2: p, 3: a, 4: n, 5: e, 6: k, 7: s, 8: e, 9: s)\n",
        "--\n",
        "Vector(0: l, 1: i, 2: w, 3: -, 4: s, 5: h, 6: r, 7: w, 8: y, 9: l)\n",
        "Vector(0: r, 1: f, 2: l, 3: g, 4: g, 5: l, 6: y, 7: a, 8: f, 9: s)\n",
        "--\n",
        "Vector(0: l, 1: k, 2: s, 3: -, 4: s, 5: y, 6: v, 7: w, 8: w, 9: n)\n"
       ]
      },
      {
       "output_type": "stream",
       "stream": "stdout",
       "text": [
        "Vector(0: r, 1: g, 2: w, 3: g, 4: s, 5: r, 6: a, 7: a, 8: i, 9: m)\n",
        "--\n",
        "Vector(0: y, 1: k, 2: s, 3: -, 4: q, 5: l, 6: v, 7: k, 8: r, 9: n)\n",
        "Vector(0: l, 1: c, 2: w, 3: q, 4: n, 5: w, 6: y, 7: q, 8: q, 9: a)\n",
        "--\n",
        "Vector(0: y, 1: k, 2: s, 3: -, 4: i, 5: l, 6: r, 7: k, 8: r, 9: q)\n",
        "Vector(0: g, 1: w, 2: d, 3: g, 4: n, 5: k, 6: g, 7: f, 8: n, 9: s)\n",
        "--\n",
        "Vector(0: y, 1: k, 2: s, 3: -, 4: i, 5: l, 6: y, 7: k, 8: q, 9: q)\n"
       ]
      },
      {
       "output_type": "stream",
       "stream": "stdout",
       "text": [
        "Vector(0: r, 1: f, 2: w, 3: t, 4: n, 5: s, 6: y, 7: a, 8: n, 9: s)\n",
        "--\n",
        "Vector(0: m, 1: k, 2: s, 3: -, 4: i, 5: l, 6: t, 7: k, 8: l, 9: q)\n",
        "Vector(0: r, 1: c, 2: f, 3: l, 4: y, 5: l, 6: s, 7: n, 8: s, 9: s)\n",
        "--\n",
        "Vector(0: y, 1: k, 2: s, 3: -, 4: l, 5: y, 6: t, 7: k, 8: w, 9: n)\n",
        "Vector(0: r, 1: c, 2: g, 3: h, 4: n, 5: -, 6: y, 7: a, 8: f, 9: e)\n",
        "--\n",
        "Vector(0: y, 1: k, 2: s, 3: -, 4: i, 5: l, 6: y, 7: k, 8: g, 9: q)\n"
       ]
      },
      {
       "output_type": "stream",
       "stream": "stdout",
       "text": [
        "Vector(0: f, 1: p, 2: p, 3: g, 4: p, 5: r, 6: g, 7: l, 8: r, 9: s)\n",
        "--\n",
        "Vector(0: y, 1: k, 2: i, 3: -, 4: q, 5: e, 6: y, 7: k, 8: -, 9: n)\n",
        "Vector(0: k, 1: s, 2: t, 3: -, 4: f, 5: i, 6: s, 7: a, 8: l, 9: f)\n",
        "--\n",
        "Vector(0: y, 1: k, 2: w, 3: -, 4: i, 5: r, 6: y, 7: k, 8: w, 9: q)\n",
        "Vector(0: h, 1: l, 2: w, 3: g, 4: n, 5: i, 6: y, 7: a, 8: s, 9: m)\n",
        "--\n",
        "Vector(0: c, 1: k, 2: w, 3: -, 4: a, 5: r, 6: y, 7: k, 8: r, 9: q)\n"
       ]
      },
      {
       "output_type": "stream",
       "stream": "stdout",
       "text": [
        "Vector(0: r, 1: f, 2: w, 3: g, 4: n, 5: w, 6: y, 7: a, 8: s, 9: s)\n",
        "--\n",
        "Vector(0: l, 1: k, 2: w, 3: -, 4: i, 5: e, 6: y, 7: k, 8: n, 9: q)\n",
        "Vector(0: f, 1: g, 2: r, 3: f, 4: c, 5: g, 6: t, 7: y, 8: e, 9: c)\n",
        "--\n",
        "Vector(0: v, 1: k, 2: e, 3: -, 4: i, 5: y, 6: a, 7: k, 8: y, 9: q)\n",
        "Vector(0: p, 1: -, 2: c, 3: v, 4: p, 5: s, 6: c, 7: i, 8: m, 9: g)\n",
        "--\n",
        "Vector(0: m, 1: k, 2: a, 3: -, 4: i, 5: r, 6: y, 7: k, 8: c, 9: q)\n"
       ]
      },
      {
       "output_type": "stream",
       "stream": "stdout",
       "text": [
        "Vector(0: d, 1: q, 2: s, 3: w, 4: n, 5: r, 6: y, 7: n, 8: y, 9: n)\n",
        "--\n",
        "Vector(0: y, 1: k, 2: w, 3: -, 4: q, 5: m, 6: y, 7: k, 8: w, 9: q)\n",
        "Vector(0: y, 1: p, 2: a, 3: c, 4: d, 5: v, 6: s, 7: c, 8: p, 9: g)\n",
        "--\n",
        "Vector(0: y, 1: k, 2: w, 3: -, 4: i, 5: -, 6: y, 7: k, 8: r, 9: q)\n",
        "Vector(0: r, 1: f, 2: w, 3: g, 4: k, 5: y, 6: y, 7: a, 8: w, 9: e)\n",
        "--\n",
        "Vector(0: y, 1: k, 2: i, 3: -, 4: i, 5: l, 6: y, 7: k, 8: q, 9: q)\n"
       ]
      },
      {
       "output_type": "stream",
       "stream": "stdout",
       "text": [
        "Vector(0: y, 1: n, 2: w, 3: y, 4: e, 5: q, 6: q, 7: v, 8: p, 9: m)\n",
        "--\n",
        "Vector(0: y, 1: k, 2: i, 3: -, 4: q, 5: l, 6: y, 7: k, 8: p, 9: q)\n",
        "Vector(0: f, 1: p, 2: w, 3: s, 4: k, 5: e, 6: f, 7: v, 8: c, 9: s)\n",
        "--\n",
        "Vector(0: y, 1: k, 2: i, 3: -, 4: i, 5: n, 6: y, 7: k, 8: l, 9: q)\n",
        "Vector(0: r, 1: q, 2: n, 3: g, 4: n, 5: i, 6: -, 7: m, 8: q, 9: s)\n",
        "--\n",
        "Vector(0: y, 1: k, 2: w, 3: -, 4: q, 5: -, 6: r, 7: k, 8: w, 9: n)\n"
       ]
      },
      {
       "output_type": "stream",
       "stream": "stdout",
       "text": [
        "Vector(0: r, 1: f, 2: t, 3: g, 4: c, 5: r, 6: y, 7: a, 8: t, 9: s)\n",
        "--\n",
        "Vector(0: y, 1: k, 2: i, 3: -, 4: i, 5: e, 6: r, 7: k, 8: w, 9: n)\n",
        "Vector(0: k, 1: f, 2: f, 3: t, 4: c, 5: f, 6: c, 7: -, 8: n, 9: s)\n",
        "--\n",
        "Vector(0: m, 1: k, 2: w, 3: -, 4: i, 5: r, 6: y, 7: k, 8: y, 9: q)\n",
        "Vector(0: r, 1: n, 2: r, 3: g, 4: n, 5: n, 6: y, 7: a, 8: k, 9: s)\n",
        "--\n",
        "Vector(0: v, 1: k, 2: w, 3: -, 4: i, 5: e, 6: y, 7: k, 8: s, 9: q)\n"
       ]
      },
      {
       "output_type": "stream",
       "stream": "stdout",
       "text": [
        "Vector(0: r, 1: f, 2: h, 3: g, 4: y, 5: r, 6: y, 7: a, 8: p, 9: s)\n",
        "--\n",
        "Vector(0: v, 1: k, 2: w, 3: -, 4: i, 5: e, 6: y, 7: k, 8: l, 9: q)\n",
        "Vector(0: h, 1: l, 2: w, 3: d, 4: n, 5: r, 6: l, 7: p, 8: n, 9: y)\n",
        "--\n",
        "Vector(0: y, 1: k, 2: w, 3: -, 4: i, 5: e, 6: y, 7: k, 8: r, 9: q)\n",
        "Vector(0: n, 1: g, 2: q, 3: q, 4: -, 5: e, 6: y, 7: r, 8: w, 9: h)\n",
        "--\n",
        "Vector(0: c, 1: y, 2: w, 3: -, 4: i, 5: e, 6: y, 7: k, 8: w, 9: q)\n"
       ]
      },
      {
       "output_type": "stream",
       "stream": "stdout",
       "text": [
        "Vector(0: r, 1: -, 2: n, 3: h, 4: e, 5: f, 6: w, 7: v, 8: y, 9: d)\n",
        "--\n",
        "Vector(0: n, 1: y, 2: e, 3: -, 4: i, 5: e, 6: d, 7: k, 8: w, 9: q)\n",
        "Vector(0: v, 1: t, 2: f, 3: w, 4: f, 5: i, 6: g, 7: p, 8: q, 9: n)\n",
        "--\n",
        "Vector(0: c, 1: k, 2: e, 3: -, 4: i, 5: e, 6: d, 7: k, 8: s, 9: q)\n",
        "Vector(0: s, 1: f, 2: e, 3: i, 4: e, 5: y, 6: m, 7: a, 8: m, 9: i)\n",
        "--\n",
        "Vector(0: y, 1: k, 2: e, 3: -, 4: i, 5: e, 6: d, 7: k, 8: k, 9: q)\n"
       ]
      },
      {
       "output_type": "stream",
       "stream": "stdout",
       "text": [
        "Vector(0: r, 1: -, 2: w, 3: g, 4: n, 5: d, 6: y, 7: a, 8: c, 9: l)\n",
        "--\n",
        "Vector(0: y, 1: k, 2: e, 3: -, 4: q, 5: e, 6: d, 7: k, 8: k, 9: q)\n",
        "Vector(0: a, 1: a, 2: l, 3: g, 4: h, 5: p, 6: i, 7: a, 8: r, 9: r)\n",
        "--\n",
        "Vector(0: y, 1: k, 2: e, 3: -, 4: q, 5: e, 6: y, 7: k, 8: q, 9: q)\n",
        "Vector(0: v, 1: t, 2: m, 3: g, 4: s, 5: c, 6: y, 7: a, 8: r, 9: e)\n",
        "--\n",
        "Vector(0: y, 1: k, 2: i, 3: -, 4: i, 5: e, 6: y, 7: k, 8: s, 9: q)\n"
       ]
      },
      {
       "output_type": "stream",
       "stream": "stdout",
       "text": [
        "Vector(0: v, 1: n, 2: e, 3: a, 4: n, 5: y, 6: y, 7: n, 8: h, 9: k)\n",
        "--\n",
        "Vector(0: y, 1: k, 2: i, 3: -, 4: i, 5: l, 6: y, 7: k, 8: y, 9: q)\n",
        "Vector(0: e, 1: -, 2: g, 3: t, 4: k, 5: a, 6: y, 7: a, 8: -, 9: -)\n",
        "--\n",
        "Vector(0: y, 1: k, 2: i, 3: -, 4: i, 5: r, 6: y, 7: k, 8: r, 9: q)\n",
        "Vector(0: r, 1: f, 2: w, 3: g, 4: l, 5: a, 6: -, 7: n, 8: q, 9: s)\n",
        "--\n",
        "Vector(0: v, 1: k, 2: w, 3: -, 4: i, 5: r, 6: y, 7: k, 8: s, 9: q)\n"
       ]
      },
      {
       "output_type": "stream",
       "stream": "stdout",
       "text": [
        "Vector(0: i, 1: g, 2: q, 3: f, 4: q, 5: e, 6: y, 7: -, 8: n, 9: v)\n",
        "--\n",
        "Vector(0: y, 1: k, 2: w, 3: -, 4: q, 5: l, 6: y, 7: k, 8: s, 9: q)\n",
        "Vector(0: c, 1: c, 2: l, 3: e, 4: g, 5: v, 6: n, 7: d, 8: w, 9: l)\n",
        "--\n",
        "Vector(0: y, 1: k, 2: i, 3: -, 4: i, 5: w, 6: y, 7: k, 8: w, 9: q)\n",
        "Vector(0: r, 1: m, 2: s, 3: q, 4: y, 5: m, 6: v, 7: a, 8: r, 9: s)\n",
        "--\n",
        "Vector(0: y, 1: k, 2: a, 3: -, 4: i, 5: r, 6: t, 7: k, 8: y, 9: q)\n"
       ]
      },
      {
       "output_type": "stream",
       "stream": "stdout",
       "text": [
        "Vector(0: r, 1: f, 2: s, 3: g, 4: e, 5: r, 6: y, 7: a, 8: f, 9: s)\n",
        "--\n",
        "Vector(0: y, 1: k, 2: e, 3: -, 4: q, 5: e, 6: d, 7: k, 8: -, 9: q)\n",
        "Vector(0: r, 1: f, 2: -, 3: y, 4: f, 5: e, 6: y, 7: c, 8: r, 9: s)\n",
        "--\n",
        "Vector(0: y, 1: k, 2: e, 3: -, 4: i, 5: t, 6: m, 7: k, 8: q, 9: q)\n",
        "Vector(0: k, 1: -, 2: k, 3: i, 4: v, 5: r, 6: e, 7: k, 8: r, 9: w)\n",
        "--\n",
        "Vector(0: m, 1: k, 2: t, 3: -, 4: i, 5: y, 6: m, 7: k, 8: r, 9: q)\n"
       ]
      },
      {
       "output_type": "stream",
       "stream": "stdout",
       "text": [
        "Vector(0: r, 1: f, 2: d, 3: g, 4: n, 5: g, 6: y, 7: a, 8: k, 9: s)\n",
        "--\n",
        "Vector(0: y, 1: k, 2: s, 3: -, 4: q, 5: l, 6: t, 7: k, 8: p, 9: q)\n",
        "Vector(0: k, 1: r, 2: v, 3: w, 4: n, 5: g, 6: t, 7: a, 8: t, 9: f)\n",
        "--\n",
        "Vector(0: y, 1: k, 2: c, 3: -, 4: q, 5: f, 6: t, 7: k, 8: g, 9: q)\n",
        "Vector(0: r, 1: v, 2: p, 3: g, 4: d, 5: g, 6: y, 7: a, 8: r, 9: s)\n",
        "--\n",
        "Vector(0: y, 1: k, 2: c, 3: -, 4: i, 5: w, 6: t, 7: k, 8: i, 9: q)\n"
       ]
      },
      {
       "output_type": "stream",
       "stream": "stdout",
       "text": [
        "Vector(0: v, 1: k, 2: r, 3: g, 4: d, 5: r, 6: -, 7: m, 8: r, 9: c)\n",
        "--\n",
        "Vector(0: y, 1: k, 2: n, 3: -, 4: i, 5: r, 6: t, 7: k, 8: g, 9: q)\n",
        "Vector(0: n, 1: f, 2: l, 3: y, 4: p, 5: r, 6: y, 7: p, 8: n, 9: a)\n",
        "--\n",
        "Vector(0: y, 1: k, 2: n, 3: -, 4: i, 5: r, 6: d, 7: k, 8: r, 9: q)\n",
        "Vector(0: r, 1: a, 2: w, 3: g, 4: w, 5: m, 6: a, 7: a, 8: r, 9: s)\n",
        "--\n",
        "Vector(0: y, 1: k, 2: e, 3: -, 4: i, 5: r, 6: d, 7: k, 8: w, 9: q)\n"
       ]
      },
      {
       "output_type": "stream",
       "stream": "stdout",
       "text": [
        "Vector(0: r, 1: s, 2: c, 3: g, 4: n, 5: a, 6: y, 7: e, 8: r, 9: r)\n",
        "--\n",
        "Vector(0: y, 1: k, 2: e, 3: -, 4: i, 5: e, 6: d, 7: k, 8: r, 9: q)\n",
        "Vector(0: r, 1: c, 2: l, 3: c, 4: w, 5: y, 6: t, 7: a, 8: -, 9: s)\n",
        "--\n",
        "Vector(0: y, 1: k, 2: e, 3: -, 4: i, 5: e, 6: d, 7: k, 8: r, 9: q)\n",
        "Vector(0: r, 1: f, 2: k, 3: r, 4: v, 5: f, 6: q, 7: y, 8: f, 9: s)\n",
        "--\n",
        "Vector(0: y, 1: k, 2: e, 3: -, 4: i, 5: e, 6: e, 7: k, 8: q, 9: q)\n"
       ]
      },
      {
       "output_type": "stream",
       "stream": "stdout",
       "text": [
        "Vector(0: r, 1: m, 2: k, 3: c, 4: e, 5: -, 6: -, 7: a, 8: f, 9: c)\n",
        "--\n",
        "Vector(0: y, 1: k, 2: w, 3: -, 4: q, 5: i, 6: y, 7: k, 8: y, 9: q)\n",
        "Vector(0: m, 1: r, 2: c, 3: e, 4: m, 5: w, 6: r, 7: y, 8: w, 9: e)\n",
        "--\n",
        "Vector(0: y, 1: k, 2: a, 3: -, 4: q, 5: r, 6: y, 7: k, 8: -, 9: q)\n",
        "Vector(0: r, 1: d, 2: e, 3: r, 4: d, 5: g, 6: y, 7: v, 8: y, 9: s)\n",
        "--\n",
        "Vector(0: y, 1: k, 2: w, 3: -, 4: i, 5: r, 6: y, 7: k, 8: h, 9: q)\n"
       ]
      },
      {
       "output_type": "stream",
       "stream": "stdout",
       "text": [
        "Vector(0: r, 1: f, 2: s, 3: g, 4: n, 5: r, 6: n, 7: a, 8: h, 9: s)\n",
        "--\n",
        "Vector(0: y, 1: k, 2: w, 3: -, 4: q, 5: v, 6: y, 7: k, 8: q, 9: n)\n",
        "Vector(0: r, 1: f, 2: p, 3: g, 4: n, 5: m, 6: g, 7: a, 8: a, 9: s)\n",
        "--\n",
        "Vector(0: y, 1: k, 2: w, 3: -, 4: a, 5: r, 6: y, 7: d, 8: n, 9: n)\n",
        "Vector(0: r, 1: n, 2: w, 3: s, 4: n, 5: d, 6: y, 7: a, 8: r, 9: q)\n",
        "--\n",
        "Vector(0: y, 1: k, 2: w, 3: -, 4: p, 5: i, 6: y, 7: c, 8: q, 9: n)\n"
       ]
      },
      {
       "output_type": "stream",
       "stream": "stdout",
       "text": [
        "Vector(0: d, 1: -, 2: d, 3: r, 4: n, 5: m, 6: a, 7: t, 8: c, 9: n)\n",
        "--\n",
        "Vector(0: y, 1: k, 2: w, 3: -, 4: i, 5: e, 6: y, 7: k, 8: i, 9: q)\n",
        "Vector(0: h, 1: f, 2: g, 3: m, 4: a, 5: l, 6: h, 7: a, 8: d, 9: w)\n",
        "--\n",
        "Vector(0: y, 1: k, 2: i, 3: -, 4: q, 5: w, 6: y, 7: k, 8: r, 9: q)\n",
        "Vector(0: n, 1: w, 2: y, 3: a, 4: n, 5: y, 6: y, 7: s, 8: a, 9: k)\n",
        "--\n",
        "Vector(0: y, 1: k, 2: w, 3: -, 4: q, 5: r, 6: m, 7: k, 8: s, 9: q)\n"
       ]
      },
      {
       "output_type": "stream",
       "stream": "stdout",
       "text": [
        "Vector(0: r, 1: f, 2: w, 3: g, 4: n, 5: c, 6: y, 7: a, 8: c, 9: s)\n",
        "--\n",
        "Vector(0: y, 1: k, 2: n, 3: -, 4: q, 5: r, 6: d, 7: k, 8: -, 9: q)\n",
        "Vector(0: r, 1: v, 2: v, 3: g, 4: r, 5: l, 6: y, 7: g, 8: l, 9: s)\n",
        "--\n",
        "Vector(0: y, 1: k, 2: a, 3: -, 4: i, 5: r, 6: p, 7: g, 8: q, 9: q)\n"
       ]
      },
      {
       "output_type": "stream",
       "stream": "stdout",
       "text": [
        "Vector(0: r, 1: f, 2: y, 3: y, 4: v, 5: i, 6: k, 7: d, 8: s, 9: s)\n",
        "--\n",
        "Vector(0: y, 1: k, 2: w, 3: -, 4: p, 5: n, 6: w, 7: g, 8: y, 9: q)\n",
        "Vector(0: r, 1: f, 2: w, 3: g, 4: n, 5: c, 6: y, 7: t, 8: g, 9: s)\n",
        "--\n",
        "Vector(0: y, 1: k, 2: d, 3: -, 4: p, 5: n, 6: c, 7: g, 8: s, 9: w)\n",
        "Vector(0: d, 1: r, 2: p, 3: a, 4: g, 5: r, 6: y, 7: n, 8: -, 9: a)\n",
        "--\n",
        "Vector(0: y, 1: k, 2: s, 3: -, 4: p, 5: l, 6: c, 7: g, 8: q, 9: q)\n",
        "Vector(0: g, 1: d, 2: n, 3: -, 4: g, 5: q, 6: y, 7: q, 8: y, 9: m)\n",
        "--\n",
        "Vector(0: y, 1: k, 2: s, 3: -, 4: p, 5: r, 6: w, 7: g, 8: w, 9: q)\n"
       ]
      },
      {
       "output_type": "stream",
       "stream": "stdout",
       "text": [
        "Vector(0: r, 1: f, 2: i, 3: g, 4: h, 5: r, 6: a, 7: i, 8: r, 9: s)\n",
        "--\n",
        "Vector(0: y, 1: k, 2: h, 3: -, 4: i, 5: r, 6: w, 7: g, 8: l, 9: q)\n",
        "Vector(0: r, 1: -, 2: w, 3: g, 4: n, 5: r, 6: y, 7: v, 8: g, 9: w)\n",
        "--\n",
        "Vector(0: y, 1: k, 2: h, 3: -, 4: p, 5: i, 6: w, 7: g, 8: g, 9: q)\n",
        "Vector(0: r, 1: f, 2: w, 3: t, 4: n, 5: t, 6: f, 7: c, 8: f, 9: s)\n",
        "--\n",
        "Vector(0: y, 1: k, 2: y, 3: -, 4: i, 5: w, 6: f, 7: k, 8: i, 9: q)\n"
       ]
      },
      {
       "output_type": "stream",
       "stream": "stdout",
       "text": [
        "Vector(0: r, 1: f, 2: w, 3: g, 4: n, 5: r, 6: w, 7: r, 8: v, 9: s)\n",
        "--\n",
        "Vector(0: y, 1: k, 2: y, 3: -, 4: p, 5: w, 6: f, 7: k, 8: -, 9: q)\n",
        "Vector(0: k, 1: y, 2: w, 3: i, 4: -, 5: y, 6: y, 7: g, 8: q, 9: s)\n",
        "--\n",
        "Vector(0: y, 1: k, 2: y, 3: -, 4: q, 5: i, 6: f, 7: k, 8: i, 9: q)\n",
        "Vector(0: w, 1: q, 2: t, 3: y, 4: q, 5: -, 6: -, 7: i, 8: k, 9: g)\n",
        "--\n",
        "Vector(0: y, 1: k, 2: y, 3: -, 4: q, 5: i, 6: f, 7: k, 8: r, 9: q)\n"
       ]
      },
      {
       "output_type": "stream",
       "stream": "stdout",
       "text": [
        "Vector(0: f, 1: a, 2: t, 3: h, 4: y, 5: w, 6: t, 7: s, 8: a, 9: i)\n",
        "--\n",
        "Vector(0: y, 1: k, 2: y, 3: -, 4: q, 5: i, 6: f, 7: k, 8: q, 9: q)\n",
        "Vector(0: i, 1: m, 2: l, 3: d, 4: r, 5: r, 6: y, 7: v, 8: w, 9: v)\n",
        "--\n",
        "Vector(0: y, 1: k, 2: y, 3: -, 4: i, 5: w, 6: f, 7: k, 8: w, 9: q)\n"
       ]
      },
      {
       "output_type": "stream",
       "stream": "stdout",
       "text": [
        "Vector(0: -, 1: f, 2: a, 3: g, 4: n, 5: r, 6: y, 7: a, 8: q, 9: s)\n",
        "--\n",
        "Vector(0: y, 1: k, 2: y, 3: -, 4: i, 5: i, 6: f, 7: k, 8: w, 9: q)\n",
        "Vector(0: n, 1: f, 2: l, 3: g, 4: a, 5: r, 6: p, 7: w, 8: w, 9: s)\n",
        "--\n",
        "Vector(0: y, 1: k, 2: y, 3: -, 4: q, 5: i, 6: f, 7: k, 8: w, 9: q)\n",
        "Vector(0: h, 1: f, 2: i, 3: g, 4: c, 5: r, 6: g, 7: a, 8: i, 9: p)\n",
        "--\n",
        "Vector(0: y, 1: k, 2: y, 3: -, 4: i, 5: w, 6: f, 7: k, 8: r, 9: q)\n"
       ]
      },
      {
       "output_type": "stream",
       "stream": "stdout",
       "text": [
        "Vector(0: g, 1: a, 2: l, 3: g, 4: n, 5: w, 6: y, 7: a, 8: e, 9: s)\n",
        "--\n",
        "Vector(0: c, 1: k, 2: y, 3: -, 4: i, 5: w, 6: f, 7: k, 8: w, 9: q)\n",
        "Vector(0: l, 1: v, 2: a, 3: g, 4: q, 5: r, 6: t, 7: f, 8: r, 9: a)\n",
        "--\n",
        "Vector(0: y, 1: k, 2: y, 3: -, 4: i, 5: w, 6: f, 7: k, 8: n, 9: q)\n",
        "Vector(0: e, 1: -, 2: n, 3: f, 4: w, 5: v, 6: y, 7: e, 8: t, 9: r)\n",
        "--\n",
        "Vector(0: l, 1: k, 2: y, 3: -, 4: i, 5: i, 6: f, 7: k, 8: r, 9: q)\n"
       ]
      },
      {
       "output_type": "stream",
       "stream": "stdout",
       "text": [
        "Vector(0: q, 1: t, 2: c, 3: p, 4: y, 5: g, 6: n, 7: n, 8: r, 9: h)\n",
        "--\n",
        "Vector(0: y, 1: k, 2: y, 3: -, 4: q, 5: w, 6: f, 7: k, 8: r, 9: q)\n",
        "Vector(0: n, 1: f, 2: l, 3: g, 4: n, 5: t, 6: y, 7: a, 8: c, 9: s)\n",
        "--\n",
        "Vector(0: y, 1: k, 2: y, 3: -, 4: q, 5: w, 6: f, 7: k, 8: r, 9: q)\n",
        "Vector(0: q, 1: p, 2: w, 3: c, 4: h, 5: c, 6: p, 7: t, 8: p, 9: s)\n",
        "--\n",
        "Vector(0: y, 1: k, 2: y, 3: -, 4: q, 5: w, 6: f, 7: k, 8: k, 9: q)\n"
       ]
      },
      {
       "output_type": "stream",
       "stream": "stdout",
       "text": [
        "Vector(0: k, 1: s, 2: w, 3: c, 4: n, 5: s, 6: y, 7: a, 8: a, 9: -)\n",
        "--\n",
        "Vector(0: y, 1: k, 2: y, 3: -, 4: i, 5: w, 6: f, 7: k, 8: l, 9: q)\n",
        "Vector(0: p, 1: p, 2: p, 3: g, 4: n, 5: d, 6: t, 7: a, 8: t, 9: w)\n",
        "--\n",
        "Vector(0: l, 1: k, 2: y, 3: -, 4: i, 5: i, 6: f, 7: k, 8: y, 9: q)\n",
        "Vector(0: r, 1: y, 2: -, 3: k, 4: h, 5: n, 6: q, 7: m, 8: r, 9: s)\n",
        "--\n",
        "Vector(0: y, 1: k, 2: y, 3: -, 4: i, 5: i, 6: f, 7: k, 8: r, 9: q)\n"
       ]
      },
      {
       "output_type": "stream",
       "stream": "stdout",
       "text": [
        "Vector(0: r, 1: f, 2: w, 3: v, 4: g, 5: i, 6: t, 7: d, 8: d, 9: n)\n",
        "--\n",
        "Vector(0: y, 1: k, 2: y, 3: -, 4: i, 5: i, 6: f, 7: k, 8: r, 9: q)\n",
        "Vector(0: v, 1: f, 2: p, 3: -, 4: n, 5: w, 6: y, 7: d, 8: f, 9: s)\n",
        "--\n",
        "Vector(0: y, 1: k, 2: y, 3: -, 4: i, 5: w, 6: f, 7: k, 8: w, 9: q)\n",
        "Vector(0: e, 1: r, 2: d, 3: g, 4: e, 5: r, 6: y, 7: q, 8: v, 9: s)\n",
        "--\n",
        "Vector(0: y, 1: k, 2: y, 3: -, 4: i, 5: i, 6: f, 7: k, 8: r, 9: q)\n"
       ]
      },
      {
       "output_type": "stream",
       "stream": "stdout",
       "text": [
        "Vector(0: v, 1: h, 2: w, 3: g, 4: -, 5: r, 6: i, 7: -, 8: t, 9: q)\n",
        "--\n",
        "Vector(0: y, 1: k, 2: w, 3: -, 4: i, 5: r, 6: y, 7: k, 8: p, 9: n)\n",
        "Vector(0: h, 1: l, 2: f, 3: m, 4: e, 5: y, 6: l, 7: f, 8: k, 9: m)\n",
        "--\n",
        "Vector(0: y, 1: k, 2: w, 3: -, 4: i, 5: r, 6: y, 7: k, 8: w, 9: q)\n",
        "Vector(0: w, 1: r, 2: s, 3: q, 4: g, 5: g, 6: r, 7: a, 8: q, 9: h)\n",
        "--\n",
        "Vector(0: c, 1: k, 2: w, 3: -, 4: a, 5: e, 6: y, 7: k, 8: n, 9: q)\n"
       ]
      },
      {
       "output_type": "stream",
       "stream": "stdout",
       "text": [
        "Vector(0: r, 1: f, 2: n, 3: g, 4: t, 5: a, 6: k, 7: l, 8: -, 9: s)\n",
        "--\n",
        "Vector(0: y, 1: k, 2: e, 3: -, 4: i, 5: e, 6: d, 7: k, 8: y, 9: q)\n",
        "Vector(0: k, 1: q, 2: w, 3: y, 4: m, 5: w, 6: y, 7: a, 8: q, 9: a)\n",
        "--\n",
        "Vector(0: y, 1: k, 2: e, 3: -, 4: i, 5: e, 6: d, 7: k, 8: q, 9: q)\n",
        "Vector(0: r, 1: f, 2: -, 3: s, 4: n, 5: i, 6: e, 7: a, 8: r, 9: y)\n",
        "--\n",
        "Vector(0: g, 1: k, 2: e, 3: -, 4: i, 5: e, 6: y, 7: k, 8: r, 9: q)\n"
       ]
      },
      {
       "output_type": "stream",
       "stream": "stdout",
       "text": [
        "Vector(0: l, 1: h, 2: w, 3: h, 4: c, 5: e, 6: e, 7: w, 8: r, 9: t)\n",
        "--\n",
        "Vector(0: m, 1: k, 2: w, 3: -, 4: i, 5: r, 6: y, 7: k, 8: l, 9: q)\n",
        "Vector(0: r, 1: p, 2: q, 3: m, 4: n, 5: e, 6: g, 7: q, 8: r, 9: s)\n",
        "--\n",
        "Vector(0: y, 1: k, 2: w, 3: -, 4: a, 5: l, 6: y, 7: k, 8: w, 9: q)\n",
        "Vector(0: r, 1: m, 2: w, 3: g, 4: n, 5: r, 6: -, 7: w, 8: g, 9: s)\n",
        "--\n",
        "Vector(0: y, 1: k, 2: i, 3: -, 4: i, 5: g, 6: y, 7: k, 8: r, 9: q)\n"
       ]
      },
      {
       "output_type": "stream",
       "stream": "stdout",
       "text": [
        "Vector(0: k, 1: p, 2: w, 3: g, 4: q, 5: p, 6: c, 7: a, 8: v, 9: c)\n",
        "--\n",
        "Vector(0: v, 1: k, 2: i, 3: -, 4: i, 5: n, 6: y, 7: k, 8: r, 9: q)\n",
        "Vector(0: y, 1: f, 2: g, 3: g, 4: n, 5: r, 6: w, 7: a, 8: f, 9: s)\n",
        "--\n",
        "Vector(0: y, 1: k, 2: d, 3: -, 4: i, 5: n, 6: y, 7: k, 8: h, 9: q)\n",
        "Vector(0: r, 1: f, 2: a, 3: l, 4: -, 5: r, 6: q, 7: t, 8: s, 9: l)\n",
        "--\n",
        "Vector(0: y, 1: k, 2: i, 3: -, 4: i, 5: a, 6: y, 7: k, 8: i, 9: q)\n"
       ]
      },
      {
       "output_type": "stream",
       "stream": "stdout",
       "text": [
        "Vector(0: t, 1: f, 2: a, 3: g, 4: n, 5: e, 6: a, 7: a, 8: w, 9: s)\n",
        "--\n",
        "Vector(0: y, 1: k, 2: i, 3: -, 4: i, 5: w, 6: y, 7: k, 8: r, 9: q)\n",
        "Vector(0: r, 1: p, 2: w, 3: t, 4: q, 5: r, 6: y, 7: i, 8: l, 9: t)\n",
        "--\n",
        "Vector(0: y, 1: k, 2: i, 3: -, 4: q, 5: l, 6: y, 7: k, 8: l, 9: q)\n",
        "Vector(0: r, 1: p, 2: i, 3: q, 4: n, 5: c, 6: -, 7: v, 8: r, 9: e)\n",
        "--\n",
        "Vector(0: y, 1: k, 2: s, 3: -, 4: i, 5: l, 6: y, 7: k, 8: m, 9: q)\n"
       ]
      },
      {
       "output_type": "stream",
       "stream": "stdout",
       "text": [
        "Vector(0: r, 1: f, 2: c, 3: g, 4: n, 5: r, 6: y, 7: a, 8: d, 9: s)\n",
        "--\n",
        "Vector(0: c, 1: k, 2: i, 3: -, 4: s, 5: w, 6: y, 7: k, 8: q, 9: q)\n",
        "Vector(0: r, 1: f, 2: h, 3: q, 4: g, 5: l, 6: m, 7: s, 8: p, 9: s)\n",
        "--\n",
        "Vector(0: c, 1: k, 2: s, 3: -, 4: i, 5: n, 6: t, 7: k, 8: r, 9: q)\n",
        "Vector(0: w, 1: m, 2: q, 3: q, 4: n, 5: q, 6: m, 7: e, 8: l, 9: s)\n",
        "--\n",
        "Vector(0: y, 1: k, 2: h, 3: g, 4: q, 5: r, 6: f, 7: s, 8: r, 9: q)\n"
       ]
      },
      {
       "output_type": "stream",
       "stream": "stdout",
       "text": [
        "Vector(0: r, 1: f, 2: w, 3: g, 4: n, 5: r, 6: y, 7: a, 8: r, 9: s)\n",
        "--\n",
        "Vector(0: y, 1: k, 2: e, 3: e, 4: a, 5: r, 6: -, 7: s, 8: w, 9: d)\n",
        "Vector(0: s, 1: l, 2: n, 3: i, 4: w, 5: w, 6: k, 7: r, 8: r, 9: d)\n",
        "--\n",
        "Vector(0: y, 1: k, 2: k, 3: e, 4: a, 5: n, 6: -, 7: s, 8: l, 9: n)\n",
        "Vector(0: r, 1: f, 2: q, 3: g, 4: n, 5: r, 6: y, 7: n, 8: h, 9: s)\n",
        "--\n",
        "Vector(0: y, 1: k, 2: k, 3: e, 4: q, 5: y, 6: -, 7: s, 8: -, 9: d)\n"
       ]
      },
      {
       "output_type": "stream",
       "stream": "stdout",
       "text": [
        "Vector(0: r, 1: f, 2: w, 3: g, 4: n, 5: r, 6: y, 7: a, 8: r, 9: s)\n",
        "--\n",
        "Vector(0: y, 1: k, 2: s, 3: e, 4: v, 5: y, 6: -, 7: s, 8: k, 9: d)\n",
        "Vector(0: r, 1: f, 2: t, 3: g, 4: n, 5: w, 6: y, 7: a, 8: r, 9: s)\n",
        "--\n",
        "Vector(0: y, 1: k, 2: s, 3: e, 4: a, 5: -, 6: -, 7: s, 8: m, 9: n)\n",
        "Vector(0: r, 1: n, 2: p, 3: g, 4: e, 5: r, 6: n, 7: m, 8: l, 9: s)\n",
        "--\n",
        "Vector(0: y, 1: k, 2: k, 3: e, 4: p, 5: -, 6: a, 7: a, 8: t, 9: n)\n"
       ]
      },
      {
       "output_type": "stream",
       "stream": "stdout",
       "text": [
        "Vector(0: r, 1: f, 2: w, 3: g, 4: n, 5: r, 6: s, 7: a, 8: r, 9: s)\n",
        "--\n",
        "Vector(0: y, 1: f, 2: h, 3: e, 4: p, 5: r, 6: a, 7: a, 8: i, 9: d)\n",
        "Vector(0: r, 1: f, 2: w, 3: g, 4: n, 5: r, 6: y, 7: a, 8: r, 9: s)\n",
        "--\n",
        "Vector(0: y, 1: k, 2: h, 3: e, 4: p, 5: d, 6: a, 7: a, 8: p, 9: c)\n",
        "Vector(0: g, 1: f, 2: a, 3: h, 4: n, 5: -, 6: c, 7: c, 8: a, 9: s)\n",
        "--\n",
        "Vector(0: y, 1: k, 2: c, 3: q, 4: n, 5: v, 6: a, 7: a, 8: q, 9: p)\n"
       ]
      },
      {
       "output_type": "stream",
       "stream": "stdout",
       "text": [
        "Vector(0: r, 1: m, 2: -, 3: q, 4: s, 5: r, 6: y, 7: h, 8: c, 9: e)\n",
        "--\n",
        "Vector(0: y, 1: f, 2: c, 3: g, 4: p, 5: i, 6: a, 7: a, 8: n, 9: p)\n",
        "Vector(0: r, 1: f, 2: w, 3: g, 4: n, 5: r, 6: y, 7: a, 8: y, 9: s)\n",
        "--\n",
        "Vector(0: s, 1: e, 2: k, 3: q, 4: p, 5: a, 6: a, 7: a, 8: r, 9: p)\n",
        "Vector(0: r, 1: e, 2: w, 3: g, 4: n, 5: w, 6: y, 7: a, 8: r, 9: s)\n",
        "--\n",
        "Vector(0: s, 1: e, 2: k, 3: q, 4: p, 5: l, 6: a, 7: a, 8: r, 9: c)\n"
       ]
      },
      {
       "output_type": "stream",
       "stream": "stdout",
       "text": [
        "Vector(0: e, 1: v, 2: w, 3: i, 4: n, 5: c, 6: y, 7: a, 8: p, 9: s)\n",
        "--\n",
        "Vector(0: s, 1: e, 2: d, 3: q, 4: p, 5: n, 6: a, 7: a, 8: d, 9: c)\n",
        "Vector(0: r, 1: p, 2: w, 3: l, 4: n, 5: c, 6: v, 7: a, 8: w, 9: s)\n",
        "--\n",
        "Vector(0: s, 1: e, 2: k, 3: q, 4: p, 5: n, 6: a, 7: a, 8: w, 9: c)\n",
        "Vector(0: s, 1: w, 2: n, 3: y, 4: h, 5: c, 6: a, 7: r, 8: g, 9: d)\n",
        "--\n",
        "Vector(0: s, 1: e, 2: c, 3: q, 4: p, 5: w, 6: t, 7: a, 8: r, 9: c)\n"
       ]
      },
      {
       "output_type": "stream",
       "stream": "stdout",
       "text": [
        "Vector(0: k, 1: f, 2: k, 3: g, 4: n, 5: r, 6: y, 7: a, 8: l, 9: s)\n",
        "--\n",
        "Vector(0: s, 1: e, 2: n, 3: q, 4: p, 5: s, 6: t, 7: a, 8: l, 9: c)\n",
        "Vector(0: r, 1: f, 2: w, 3: g, 4: n, 5: e, 6: y, 7: a, 8: r, 9: s)\n",
        "--\n",
        "Vector(0: s, 1: e, 2: f, 3: q, 4: p, 5: i, 6: s, 7: a, 8: l, 9: c)\n",
        "Vector(0: y, 1: c, 2: w, 3: m, 4: n, 5: r, 6: y, 7: q, 8: h, 9: h)\n",
        "--\n",
        "Vector(0: s, 1: e, 2: y, 3: q, 4: p, 5: r, 6: a, 7: a, 8: g, 9: c)\n",
        "Vector(0: f, 1: f, 2: w, 3: g, 4: n, 5: w, 6: y, 7: a, 8: y, 9: s)\n",
        "--\n",
        "Vector(0: s, 1: e, 2: d, 3: q, 4: p, 5: w, 6: q, 7: a, 8: q, 9: k)\n"
       ]
      },
      {
       "output_type": "stream",
       "stream": "stdout",
       "text": [
        "Vector(0: r, 1: f, 2: w, 3: g, 4: n, 5: r, 6: l, 7: e, 8: w, 9: s)\n",
        "--\n",
        "Vector(0: s, 1: e, 2: n, 3: -, 4: p, 5: w, 6: q, 7: a, 8: r, 9: c)\n",
        "Vector(0: n, 1: y, 2: k, 3: g, 4: s, 5: l, 6: y, 7: a, 8: h, 9: e)\n",
        "--\n",
        "Vector(0: s, 1: e, 2: p, 3: q, 4: y, 5: w, 6: a, 7: a, 8: w, 9: c)\n",
        "Vector(0: r, 1: f, 2: c, 3: g, 4: q, 5: r, 6: y, 7: a, 8: a, 9: s)\n",
        "--\n",
        "Vector(0: s, 1: e, 2: c, 3: i, 4: p, 5: q, 6: a, 7: a, 8: n, 9: c)\n"
       ]
      },
      {
       "output_type": "stream",
       "stream": "stdout",
       "text": [
        "Vector(0: r, 1: f, 2: w, 3: d, 4: n, 5: p, 6: y, 7: a, 8: e, 9: s)\n",
        "--\n",
        "Vector(0: s, 1: e, 2: c, 3: q, 4: p, 5: f, 6: a, 7: a, 8: y, 9: c)\n",
        "Vector(0: h, 1: d, 2: w, 3: t, 4: n, 5: v, 6: i, 7: e, 8: m, 9: s)\n",
        "--\n",
        "Vector(0: s, 1: e, 2: e, 3: q, 4: p, 5: e, 6: a, 7: a, 8: r, 9: c)\n",
        "Vector(0: r, 1: f, 2: r, 3: g, 4: n, 5: r, 6: y, 7: a, 8: r, 9: w)\n",
        "--\n",
        "Vector(0: s, 1: e, 2: e, 3: g, 4: p, 5: e, 6: a, 7: a, 8: w, 9: d)\n"
       ]
      },
      {
       "output_type": "stream",
       "stream": "stdout",
       "text": [
        "Vector(0: r, 1: f, 2: i, 3: d, 4: g, 5: s, 6: e, 7: s, 8: a, 9: s)\n",
        "--\n",
        "Vector(0: s, 1: e, 2: e, 3: g, 4: p, 5: e, 6: a, 7: a, 8: r, 9: d)\n",
        "Vector(0: e, 1: w, 2: g, 3: v, 4: d, 5: f, 6: y, 7: v, 8: d, 9: s)\n",
        "--\n",
        "Vector(0: s, 1: f, 2: e, 3: g, 4: p, 5: e, 6: a, 7: a, 8: r, 9: s)\n",
        "Vector(0: r, 1: f, 2: w, 3: g, 4: n, 5: r, 6: y, 7: a, 8: r, 9: s)\n",
        "--\n",
        "Vector(0: r, 1: t, 2: e, 3: g, 4: n, 5: e, 6: -, 7: h, 8: s, 9: s)\n"
       ]
      },
      {
       "output_type": "stream",
       "stream": "stdout",
       "text": [
        "Vector(0: r, 1: f, 2: c, 3: g, 4: n, 5: k, 6: h, 7: a, 8: a, 9: s)\n",
        "--\n",
        "Vector(0: r, 1: v, 2: e, 3: g, 4: n, 5: e, 6: i, 7: h, 8: l, 9: s)\n",
        "Vector(0: r, 1: f, 2: w, 3: f, 4: n, 5: m, 6: m, 7: a, 8: r, 9: s)\n",
        "--\n",
        "Vector(0: r, 1: f, 2: a, 3: g, 4: n, 5: w, 6: i, 7: h, 8: r, 9: s)\n",
        "Vector(0: r, 1: f, 2: w, 3: g, 4: n, 5: p, 6: y, 7: a, 8: r, 9: s)\n",
        "--\n",
        "Vector(0: r, 1: f, 2: a, 3: g, 4: n, 5: l, 6: i, 7: a, 8: s, 9: s)\n"
       ]
      },
      {
       "output_type": "stream",
       "stream": "stdout",
       "text": [
        "Vector(0: r, 1: t, 2: e, 3: g, 4: -, 5: l, 6: y, 7: q, 8: r, 9: s)\n",
        "--\n",
        "Vector(0: r, 1: f, 2: s, 3: g, 4: n, 5: l, 6: -, 7: a, 8: r, 9: s)\n",
        "Vector(0: r, 1: f, 2: w, 3: g, 4: y, 5: r, 6: y, 7: a, 8: v, 9: s)\n",
        "--\n",
        "Vector(0: r, 1: f, 2: s, 3: g, 4: n, 5: l, 6: -, 7: h, 8: r, 9: s)\n",
        "Vector(0: r, 1: f, 2: h, 3: c, 4: c, 5: a, 6: y, 7: d, 8: i, 9: s)\n",
        "--\n",
        "Vector(0: r, 1: f, 2: s, 3: g, 4: n, 5: y, 6: i, 7: a, 8: r, 9: s)\n"
       ]
      },
      {
       "output_type": "stream",
       "stream": "stdout",
       "text": [
        "Vector(0: r, 1: f, 2: w, 3: g, 4: n, 5: h, 6: y, 7: a, 8: y, 9: s)\n",
        "--\n",
        "Vector(0: r, 1: f, 2: s, 3: g, 4: n, 5: l, 6: t, 7: a, 8: r, 9: s)\n",
        "Vector(0: r, 1: f, 2: w, 3: g, 4: n, 5: p, 6: y, 7: a, 8: r, 9: s)\n",
        "--\n",
        "Vector(0: r, 1: f, 2: s, 3: g, 4: n, 5: l, 6: y, 7: c, 8: c, 9: s)\n",
        "Vector(0: r, 1: f, 2: w, 3: g, 4: n, 5: r, 6: y, 7: a, 8: r, 9: s)\n",
        "--\n",
        "Vector(0: r, 1: f, 2: w, 3: g, 4: n, 5: r, 6: y, 7: a, 8: w, 9: s)\n"
       ]
      },
      {
       "output_type": "stream",
       "stream": "stdout",
       "text": [
        "Vector(0: h, 1: f, 2: w, 3: g, 4: n, 5: k, 6: y, 7: a, 8: r, 9: s)\n",
        "--\n",
        "Vector(0: r, 1: f, 2: w, 3: g, 4: n, 5: n, 6: y, 7: a, 8: r, 9: s)\n",
        "Vector(0: r, 1: f, 2: w, 3: g, 4: n, 5: r, 6: y, 7: a, 8: p, 9: s)\n",
        "--\n",
        "Vector(0: r, 1: f, 2: i, 3: g, 4: n, 5: n, 6: y, 7: c, 8: p, 9: s)\n",
        "Vector(0: r, 1: f, 2: w, 3: g, 4: n, 5: i, 6: y, 7: a, 8: v, 9: s)\n",
        "--\n",
        "Vector(0: r, 1: f, 2: w, 3: g, 4: n, 5: r, 6: y, 7: c, 8: w, 9: s)\n"
       ]
      },
      {
       "output_type": "stream",
       "stream": "stdout",
       "text": [
        "Vector(0: r, 1: f, 2: w, 3: i, 4: n, 5: q, 6: e, 7: a, 8: l, 9: s)\n",
        "--\n",
        "Vector(0: r, 1: f, 2: w, 3: g, 4: n, 5: e, 6: y, 7: a, 8: r, 9: s)\n",
        "Vector(0: r, 1: f, 2: w, 3: g, 4: n, 5: w, 6: -, 7: a, 8: e, 9: s)\n",
        "--\n",
        "Vector(0: r, 1: f, 2: i, 3: g, 4: n, 5: l, 6: y, 7: a, 8: r, 9: s)\n",
        "Vector(0: r, 1: f, 2: s, 3: g, 4: s, 5: r, 6: y, 7: a, 8: r, 9: s)\n",
        "--\n",
        "Vector(0: r, 1: f, 2: i, 3: g, 4: n, 5: l, 6: y, 7: a, 8: -, 9: s)\n"
       ]
      },
      {
       "output_type": "stream",
       "stream": "stdout",
       "text": [
        "Vector(0: r, 1: f, 2: w, 3: h, 4: n, 5: e, 6: y, 7: a, 8: h, 9: s)\n",
        "--\n",
        "Vector(0: r, 1: l, 2: i, 3: g, 4: n, 5: n, 6: y, 7: a, 8: r, 9: s)\n",
        "Vector(0: n, 1: c, 2: k, 3: n, 4: i, 5: c, 6: w, 7: y, 8: h, 9: s)\n",
        "--\n",
        "Vector(0: r, 1: f, 2: d, 3: g, 4: n, 5: n, 6: t, 7: a, 8: q, 9: s)\n",
        "Vector(0: r, 1: f, 2: v, 3: d, 4: n, 5: r, 6: y, 7: a, 8: r, 9: s)\n",
        "--\n"
       ]
      },
      {
       "output_type": "stream",
       "stream": "stdout",
       "text": [
        "Vector(0: r, 1: f, 2: c, 3: g, 4: n, 5: f, 6: t, 7: a, 8: m, 9: s)\n",
        "Vector(0: r, 1: f, 2: w, 3: g, 4: n, 5: r, 6: y, 7: a, 8: p, 9: s)\n",
        "--\n",
        "Vector(0: r, 1: f, 2: c, 3: g, 4: n, 5: q, 6: a, 7: a, 8: g, 9: s)\n"
       ]
      },
      {
       "output_type": "stream",
       "stream": "stdout",
       "text": [
        "Vector(0: r, 1: f, 2: r, 3: g, 4: n, 5: r, 6: y, 7: n, 8: r, 9: s)\n",
        "--\n",
        "Vector(0: r, 1: f, 2: k, 3: g, 4: n, 5: i, 6: -, 7: a, 8: p, 9: s)\n",
        "Vector(0: r, 1: f, 2: w, 3: g, 4: n, 5: -, 6: y, 7: a, 8: r, 9: s)\n",
        "--\n",
        "Vector(0: r, 1: f, 2: k, 3: g, 4: n, 5: g, 6: t, 7: a, 8: y, 9: s)\n"
       ]
      },
      {
       "output_type": "stream",
       "stream": "stdout",
       "text": [
        "Vector(0: g, 1: f, 2: l, 3: g, 4: n, 5: m, 6: y, 7: a, 8: r, 9: s)\n",
        "--\n",
        "Vector(0: r, 1: f, 2: g, 3: g, 4: n, 5: r, 6: t, 7: a, 8: w, 9: s)\n",
        "Vector(0: r, 1: f, 2: w, 3: g, 4: s, 5: y, 6: y, 7: a, 8: d, 9: d)\n",
        "--\n",
        "Vector(0: r, 1: f, 2: r, 3: g, 4: n, 5: a, 6: t, 7: a, 8: r, 9: s)\n"
       ]
      },
      {
       "output_type": "stream",
       "stream": "stdout",
       "text": [
        "Vector(0: r, 1: f, 2: w, 3: g, 4: n, 5: a, 6: y, 7: a, 8: i, 9: s)\n",
        "--\n",
        "Vector(0: r, 1: f, 2: r, 3: g, 4: n, 5: r, 6: t, 7: a, 8: k, 9: s)\n",
        "Vector(0: r, 1: f, 2: s, 3: g, 4: n, 5: r, 6: y, 7: a, 8: r, 9: s)\n",
        "--\n",
        "Vector(0: r, 1: f, 2: -, 3: g, 4: n, 5: r, 6: t, 7: a, 8: l, 9: s)\n"
       ]
      },
      {
       "output_type": "stream",
       "stream": "stdout",
       "text": [
        "Vector(0: r, 1: f, 2: s, 3: g, 4: n, 5: r, 6: y, 7: a, 8: r, 9: s)\n",
        "--\n",
        "Vector(0: r, 1: f, 2: n, 3: g, 4: n, 5: r, 6: t, 7: a, 8: -, 9: s)\n",
        "Vector(0: r, 1: f, 2: w, 3: g, 4: g, 5: r, 6: y, 7: a, 8: r, 9: s)\n",
        "--\n",
        "Vector(0: r, 1: f, 2: a, 3: g, 4: n, 5: i, 6: y, 7: a, 8: f, 9: s)\n"
       ]
      },
      {
       "output_type": "stream",
       "stream": "stdout",
       "text": [
        "Vector(0: a, 1: f, 2: m, 3: g, 4: n, 5: r, 6: y, 7: a, 8: s, 9: s)\n",
        "--\n",
        "Vector(0: r, 1: f, 2: w, 3: g, 4: n, 5: r, 6: y, 7: a, 8: w, 9: s)\n",
        "Vector(0: r, 1: f, 2: w, 3: g, 4: n, 5: -, 6: y, 7: a, 8: h, 9: s)\n",
        "--\n",
        "Vector(0: r, 1: f, 2: w, 3: g, 4: n, 5: r, 6: y, 7: a, 8: r, 9: s)\n"
       ]
      },
      {
       "output_type": "stream",
       "stream": "stdout",
       "text": [
        "Vector(0: r, 1: f, 2: y, 3: a, 4: i, 5: t, 6: h, 7: m, 8: r, 9: g)\n",
        "--\n",
        "Vector(0: r, 1: f, 2: w, 3: g, 4: n, 5: r, 6: t, 7: a, 8: r, 9: s)\n",
        "Vector(0: p, 1: f, 2: w, 3: g, 4: n, 5: r, 6: y, 7: a, 8: -, 9: s)\n",
        "--\n",
        "Vector(0: r, 1: f, 2: n, 3: g, 4: n, 5: m, 6: t, 7: a, 8: d, 9: s)\n"
       ]
      },
      {
       "output_type": "stream",
       "stream": "stdout",
       "text": [
        "Vector(0: r, 1: w, 2: w, 3: g, 4: n, 5: k, 6: y, 7: a, 8: r, 9: s)\n",
        "--\n",
        "Vector(0: r, 1: f, 2: n, 3: g, 4: n, 5: r, 6: t, 7: a, 8: p, 9: s)\n",
        "Vector(0: r, 1: f, 2: w, 3: g, 4: d, 5: r, 6: k, 7: g, 8: m, 9: v)\n",
        "--\n",
        "Vector(0: r, 1: f, 2: w, 3: g, 4: n, 5: h, 6: y, 7: a, 8: w, 9: s)\n",
        "Vector(0: r, 1: f, 2: i, 3: g, 4: n, 5: r, 6: y, 7: e, 8: r, 9: s)\n",
        "--\n",
        "Vector(0: r, 1: f, 2: w, 3: g, 4: n, 5: r, 6: y, 7: a, 8: k, 9: d)\n"
       ]
      },
      {
       "output_type": "stream",
       "stream": "stdout",
       "text": [
        "Vector(0: r, 1: c, 2: t, 3: -, 4: n, 5: r, 6: y, 7: a, 8: r, 9: s)\n",
        "--\n",
        "Vector(0: r, 1: f, 2: w, 3: g, 4: n, 5: e, 6: y, 7: a, 8: q, 9: s)\n",
        "Vector(0: y, 1: f, 2: a, 3: v, 4: n, 5: h, 6: y, 7: a, 8: r, 9: s)\n",
        "--\n",
        "Vector(0: r, 1: f, 2: w, 3: g, 4: n, 5: l, 6: y, 7: a, 8: l, 9: s)\n",
        "Vector(0: r, 1: f, 2: w, 3: g, 4: n, 5: e, 6: y, 7: a, 8: y, 9: s)\n",
        "--\n",
        "Vector(0: r, 1: f, 2: s, 3: g, 4: n, 5: l, 6: c, 7: a, 8: s, 9: s)\n"
       ]
      },
      {
       "output_type": "stream",
       "stream": "stdout",
       "text": [
        "Vector(0: r, 1: f, 2: k, 3: s, 4: n, 5: t, 6: y, 7: p, 8: q, 9: s)\n",
        "--\n",
        "Vector(0: r, 1: f, 2: s, 3: g, 4: n, 5: g, 6: y, 7: a, 8: k, 9: s)\n",
        "Vector(0: r, 1: f, 2: w, 3: g, 4: n, 5: r, 6: y, 7: a, 8: r, 9: s)\n",
        "--\n",
        "Vector(0: r, 1: f, 2: i, 3: g, 4: n, 5: e, 6: y, 7: a, 8: r, 9: s)\n",
        "Vector(0: r, 1: f, 2: w, 3: g, 4: n, 5: d, 6: y, 7: a, 8: s, 9: s)\n",
        "--\n",
        "Vector(0: r, 1: f, 2: w, 3: g, 4: n, 5: r, 6: y, 7: a, 8: g, 9: s)\n",
        "Vector(0: r, 1: f, 2: w, 3: g, 4: n, 5: r, 6: y, 7: a, 8: h, 9: s)\n",
        "--\n",
        "Vector(0: r, 1: f, 2: w, 3: g, 4: n, 5: f, 6: y, 7: a, 8: r, 9: s)\n"
       ]
      },
      {
       "output_type": "stream",
       "stream": "stdout",
       "text": [
        "Vector(0: i, 1: f, 2: i, 3: g, 4: n, 5: r, 6: y, 7: a, 8: k, 9: s)\n",
        "--\n",
        "Vector(0: r, 1: f, 2: w, 3: g, 4: n, 5: r, 6: y, 7: a, 8: w, 9: s)\n",
        "Vector(0: r, 1: f, 2: w, 3: g, 4: n, 5: r, 6: y, 7: a, 8: r, 9: s)\n",
        "--\n",
        "Vector(0: r, 1: f, 2: w, 3: g, 4: n, 5: k, 6: y, 7: a, 8: r, 9: s)\n",
        "Vector(0: r, 1: f, 2: l, 3: g, 4: n, 5: c, 6: y, 7: a, 8: -, 9: s)\n",
        "--\n",
        "Vector(0: r, 1: f, 2: w, 3: g, 4: n, 5: e, 6: y, 7: a, 8: q, 9: s)\n"
       ]
      },
      {
       "output_type": "stream",
       "stream": "stdout",
       "text": [
        "Vector(0: r, 1: f, 2: t, 3: g, 4: s, 5: d, 6: y, 7: a, 8: r, 9: s)\n",
        "--\n",
        "Vector(0: r, 1: c, 2: w, 3: g, 4: n, 5: n, 6: y, 7: a, 8: k, 9: s)\n",
        "Vector(0: t, 1: f, 2: k, 3: g, 4: h, 5: m, 6: y, 7: a, 8: r, 9: s)\n",
        "--\n",
        "Vector(0: r, 1: f, 2: i, 3: g, 4: n, 5: w, 6: y, 7: a, 8: r, 9: s)\n",
        "Vector(0: r, 1: f, 2: l, 3: g, 4: n, 5: r, 6: l, 7: a, 8: k, 9: s)\n",
        "--\n",
        "Vector(0: r, 1: f, 2: i, 3: g, 4: n, 5: c, 6: t, 7: a, 8: g, 9: s)\n"
       ]
      },
      {
       "output_type": "stream",
       "stream": "stdout",
       "text": [
        "Vector(0: r, 1: s, 2: w, 3: g, 4: h, 5: r, 6: y, 7: a, 8: q, 9: s)\n",
        "--\n",
        "Vector(0: r, 1: f, 2: r, 3: g, 4: n, 5: w, 6: t, 7: a, 8: r, 9: s)\n",
        "Vector(0: r, 1: f, 2: t, 3: g, 4: n, 5: p, 6: y, 7: v, 8: t, 9: s)\n",
        "--\n",
        "Vector(0: r, 1: f, 2: p, 3: g, 4: n, 5: p, 6: t, 7: a, 8: r, 9: s)\n",
        "Vector(0: a, 1: r, 2: a, 3: y, 4: n, 5: g, 6: y, 7: c, 8: g, 9: r)\n",
        "--\n",
        "Vector(0: r, 1: f, 2: p, 3: g, 4: n, 5: m, 6: t, 7: a, 8: g, 9: s)\n"
       ]
      },
      {
       "output_type": "stream",
       "stream": "stdout",
       "text": [
        "Vector(0: r, 1: f, 2: w, 3: g, 4: n, 5: y, 6: y, 7: a, 8: r, 9: s)\n",
        "--\n",
        "Vector(0: r, 1: f, 2: c, 3: g, 4: n, 5: -, 6: t, 7: a, 8: r, 9: s)\n",
        "Vector(0: r, 1: f, 2: f, 3: e, 4: n, 5: k, 6: y, 7: a, 8: r, 9: s)\n",
        "--\n",
        "Vector(0: r, 1: f, 2: c, 3: g, 4: s, 5: d, 6: t, 7: a, 8: g, 9: s)\n",
        "Vector(0: r, 1: f, 2: s, 3: g, 4: n, 5: r, 6: y, 7: a, 8: e, 9: s)\n",
        "--\n",
        "Vector(0: r, 1: f, 2: c, 3: g, 4: n, 5: r, 6: t, 7: a, 8: i, 9: s)\n"
       ]
      },
      {
       "output_type": "stream",
       "stream": "stdout",
       "text": [
        "Vector(0: r, 1: f, 2: w, 3: h, 4: n, 5: r, 6: y, 7: a, 8: i, 9: s)\n",
        "--\n",
        "Vector(0: s, 1: c, 2: n, 3: g, 4: h, 5: e, 6: t, 7: a, 8: r, 9: s)\n",
        "Vector(0: r, 1: w, 2: f, 3: g, 4: n, 5: e, 6: q, 7: a, 8: r, 9: s)\n",
        "--\n",
        "Vector(0: g, 1: c, 2: n, 3: g, 4: h, 5: r, 6: p, 7: a, 8: w, 9: s)\n",
        "Vector(0: w, 1: d, 2: f, 3: v, 4: n, 5: d, 6: y, 7: a, 8: w, 9: s)\n",
        "--\n",
        "Vector(0: g, 1: f, 2: w, 3: g, 4: p, 5: r, 6: y, 7: a, 8: w, 9: s)\n",
        "Vector(0: r, 1: l, 2: w, 3: g, 4: n, 5: r, 6: y, 7: a, 8: r, 9: s)\n",
        "--\n",
        "Vector(0: r, 1: f, 2: w, 3: g, 4: n, 5: e, 6: y, 7: a, 8: w, 9: s)\n"
       ]
      },
      {
       "output_type": "stream",
       "stream": "stdout",
       "text": [
        "Vector(0: r, 1: h, 2: w, 3: g, 4: n, 5: r, 6: y, 7: d, 8: t, 9: s)\n",
        "--\n",
        "Vector(0: r, 1: f, 2: w, 3: g, 4: n, 5: r, 6: y, 7: a, 8: p, 9: s)\n",
        "Vector(0: r, 1: f, 2: i, 3: g, 4: m, 5: s, 6: y, 7: a, 8: f, 9: s)\n",
        "--\n",
        "Vector(0: r, 1: f, 2: w, 3: g, 4: n, 5: e, 6: y, 7: a, 8: w, 9: s)\n",
        "Vector(0: r, 1: f, 2: w, 3: g, 4: n, 5: r, 6: y, 7: a, 8: y, 9: s)\n",
        "--\n",
        "Vector(0: r, 1: f, 2: w, 3: g, 4: n, 5: e, 6: y, 7: a, 8: p, 9: s)\n"
       ]
      },
      {
       "output_type": "stream",
       "stream": "stdout",
       "text": [
        "Vector(0: v, 1: f, 2: t, 3: g, 4: n, 5: r, 6: y, 7: a, 8: w, 9: s)\n",
        "--\n",
        "Vector(0: r, 1: f, 2: i, 3: g, 4: n, 5: -, 6: t, 7: a, 8: q, 9: s)\n",
        "Vector(0: r, 1: f, 2: p, 3: g, 4: n, 5: f, 6: y, 7: a, 8: c, 9: s)\n",
        "--\n",
        "Vector(0: r, 1: f, 2: k, 3: g, 4: n, 5: i, 6: -, 7: a, 8: r, 9: s)\n",
        "Vector(0: r, 1: f, 2: w, 3: g, 4: p, 5: q, 6: y, 7: a, 8: k, 9: s)\n",
        "--\n",
        "Vector(0: r, 1: f, 2: s, 3: g, 4: n, 5: y, 6: t, 7: a, 8: r, 9: s)\n"
       ]
      },
      {
       "output_type": "stream",
       "stream": "stdout",
       "text": [
        "Vector(0: r, 1: f, 2: w, 3: g, 4: n, 5: r, 6: y, 7: a, 8: k, 9: s)\n",
        "--\n",
        "Vector(0: r, 1: f, 2: s, 3: g, 4: n, 5: h, 6: -, 7: a, 8: r, 9: s)\n",
        "Vector(0: r, 1: f, 2: w, 3: g, 4: n, 5: r, 6: y, 7: a, 8: g, 9: s)\n",
        "--\n",
        "Vector(0: r, 1: f, 2: s, 3: g, 4: n, 5: c, 6: y, 7: a, 8: r, 9: s)\n",
        "Vector(0: r, 1: m, 2: r, 3: p, 4: n, 5: h, 6: v, 7: p, 8: y, 9: s)\n",
        "--\n",
        "Vector(0: r, 1: f, 2: i, 3: g, 4: n, 5: w, 6: y, 7: a, 8: k, 9: s)\n"
       ]
      },
      {
       "output_type": "stream",
       "stream": "stdout",
       "text": [
        "Vector(0: r, 1: f, 2: w, 3: g, 4: n, 5: r, 6: y, 7: a, 8: r, 9: s)\n",
        "--\n",
        "Vector(0: r, 1: f, 2: i, 3: g, 4: n, 5: e, 6: y, 7: a, 8: r, 9: s)\n",
        "Vector(0: r, 1: f, 2: w, 3: g, 4: n, 5: l, 6: y, 7: a, 8: w, 9: s)\n",
        "--\n",
        "Vector(0: r, 1: f, 2: w, 3: g, 4: n, 5: r, 6: a, 7: a, 8: w, 9: s)\n",
        "Vector(0: r, 1: f, 2: w, 3: g, 4: n, 5: h, 6: i, 7: a, 8: r, 9: s)\n",
        "--\n",
        "Vector(0: r, 1: f, 2: e, 3: g, 4: n, 5: y, 6: -, 7: a, 8: s, 9: s)\n"
       ]
      },
      {
       "output_type": "stream",
       "stream": "stdout",
       "text": [
        "Vector(0: r, 1: f, 2: c, 3: g, 4: n, 5: -, 6: y, 7: a, 8: r, 9: s)\n",
        "--\n",
        "Vector(0: r, 1: f, 2: s, 3: g, 4: n, 5: y, 6: y, 7: a, 8: q, 9: s)\n",
        "Vector(0: r, 1: f, 2: w, 3: g, 4: n, 5: v, 6: y, 7: a, 8: m, 9: s)\n",
        "--\n",
        "Vector(0: r, 1: f, 2: s, 3: g, 4: n, 5: l, 6: t, 7: a, 8: r, 9: s)\n",
        "Vector(0: -, 1: q, 2: k, 3: g, 4: n, 5: r, 6: -, 7: t, 8: y, 9: y)\n",
        "--\n",
        "Vector(0: r, 1: f, 2: s, 3: g, 4: n, 5: l, 6: t, 7: a, 8: c, 9: s)\n"
       ]
      },
      {
       "output_type": "stream",
       "stream": "stdout",
       "text": [
        "Vector(0: r, 1: f, 2: p, 3: g, 4: n, 5: -, 6: y, 7: a, 8: r, 9: s)\n",
        "--\n",
        "Vector(0: r, 1: f, 2: s, 3: g, 4: n, 5: w, 6: -, 7: a, 8: r, 9: s)\n",
        "Vector(0: q, 1: f, 2: y, 3: g, 4: n, 5: r, 6: y, 7: a, 8: w, 9: s)\n",
        "--\n",
        "Vector(0: r, 1: f, 2: s, 3: g, 4: n, 5: r, 6: t, 7: a, 8: r, 9: s)\n",
        "Vector(0: l, 1: f, 2: c, 3: g, 4: n, 5: r, 6: y, 7: a, 8: w, 9: s)\n",
        "--\n",
        "Vector(0: r, 1: f, 2: n, 3: g, 4: n, 5: p, 6: t, 7: a, 8: q, 9: s)\n",
        "Vector(0: r, 1: f, 2: w, 3: g, 4: n, 5: r, 6: y, 7: p, 8: s, 9: s)\n",
        "--\n",
        "Vector(0: r, 1: f, 2: n, 3: g, 4: n, 5: r, 6: t, 7: a, 8: i, 9: s)\n"
       ]
      },
      {
       "output_type": "stream",
       "stream": "stdout",
       "text": [
        "Vector(0: w, 1: f, 2: w, 3: g, 4: n, 5: a, 6: y, 7: a, 8: g, 9: s)\n",
        "--\n",
        "Vector(0: r, 1: f, 2: n, 3: g, 4: n, 5: r, 6: t, 7: a, 8: n, 9: s)\n",
        "Vector(0: r, 1: f, 2: w, 3: g, 4: n, 5: k, 6: y, 7: a, 8: r, 9: s)\n",
        "--\n",
        "Vector(0: r, 1: f, 2: h, 3: g, 4: n, 5: a, 6: a, 7: a, 8: w, 9: s)\n",
        "Vector(0: r, 1: f, 2: w, 3: g, 4: n, 5: -, 6: y, 7: a, 8: r, 9: s)\n",
        "--\n",
        "Vector(0: r, 1: f, 2: d, 3: g, 4: n, 5: n, 6: t, 7: a, 8: y, 9: s)\n"
       ]
      },
      {
       "output_type": "stream",
       "stream": "stdout",
       "text": [
        "Vector(0: r, 1: f, 2: w, 3: g, 4: n, 5: r, 6: y, 7: a, 8: r, 9: s)\n",
        "--\n",
        "Vector(0: r, 1: f, 2: c, 3: g, 4: n, 5: w, 6: t, 7: a, 8: d, 9: s)\n",
        "Vector(0: r, 1: f, 2: f, 3: g, 4: e, 5: m, 6: y, 7: -, 8: r, 9: s)\n",
        "--\n",
        "Vector(0: r, 1: f, 2: c, 3: g, 4: n, 5: w, 6: t, 7: a, 8: w, 9: s)\n",
        "Vector(0: r, 1: f, 2: w, 3: g, 4: n, 5: h, 6: c, 7: a, 8: r, 9: s)\n",
        "--\n",
        "Vector(0: r, 1: f, 2: c, 3: g, 4: n, 5: t, 6: t, 7: a, 8: n, 9: s)\n"
       ]
      },
      {
       "output_type": "stream",
       "stream": "stdout",
       "text": [
        "Vector(0: r, 1: f, 2: w, 3: g, 4: n, 5: r, 6: g, 7: a, 8: c, 9: s)\n",
        "--\n",
        "Vector(0: r, 1: f, 2: c, 3: g, 4: n, 5: f, 6: t, 7: a, 8: w, 9: s)\n",
        "Vector(0: r, 1: f, 2: w, 3: g, 4: n, 5: y, 6: y, 7: a, 8: w, 9: s)\n",
        "--\n",
        "Vector(0: r, 1: f, 2: r, 3: g, 4: n, 5: r, 6: t, 7: a, 8: q, 9: s)\n",
        "Vector(0: r, 1: f, 2: w, 3: g, 4: n, 5: r, 6: y, 7: a, 8: g, 9: s)\n",
        "--\n",
        "Vector(0: r, 1: f, 2: n, 3: g, 4: n, 5: y, 6: t, 7: a, 8: n, 9: s)\n"
       ]
      },
      {
       "output_type": "stream",
       "stream": "stdout",
       "text": [
        "Vector(0: r, 1: f, 2: d, 3: g, 4: s, 5: r, 6: y, 7: a, 8: r, 9: s)\n",
        "--\n",
        "Vector(0: r, 1: f, 2: s, 3: g, 4: n, 5: l, 6: y, 7: a, 8: s, 9: s)\n",
        "Vector(0: r, 1: f, 2: r, 3: g, 4: n, 5: r, 6: a, 7: a, 8: r, 9: s)\n",
        "--\n",
        "Vector(0: r, 1: f, 2: i, 3: g, 4: n, 5: e, 6: y, 7: a, 8: s, 9: s)\n",
        "Vector(0: s, 1: f, 2: -, 3: g, 4: n, 5: a, 6: y, 7: n, 8: t, 9: s)\n",
        "--\n",
        "Vector(0: r, 1: f, 2: w, 3: g, 4: n, 5: r, 6: y, 7: a, 8: i, 9: d)\n"
       ]
      },
      {
       "output_type": "stream",
       "stream": "stdout",
       "text": [
        "Vector(0: r, 1: f, 2: v, 3: g, 4: n, 5: r, 6: y, 7: t, 8: c, 9: s)\n",
        "--\n",
        "Vector(0: r, 1: l, 2: a, 3: g, 4: n, 5: r, 6: y, 7: a, 8: w, 9: s)\n",
        "Vector(0: r, 1: f, 2: t, 3: g, 4: n, 5: n, 6: n, 7: a, 8: t, 9: s)\n",
        "--\n",
        "Vector(0: r, 1: f, 2: w, 3: g, 4: n, 5: r, 6: y, 7: a, 8: r, 9: s)\n",
        "Vector(0: r, 1: f, 2: w, 3: g, 4: n, 5: r, 6: y, 7: a, 8: r, 9: s)\n",
        "--\n",
        "Vector(0: r, 1: f, 2: w, 3: g, 4: n, 5: r, 6: y, 7: a, 8: q, 9: s)\n",
        "Vector(0: r, 1: f, 2: w, 3: g, 4: n, 5: y, 6: y, 7: a, 8: r, 9: s)\n",
        "--\n",
        "Vector(0: r, 1: f, 2: w, 3: g, 4: n, 5: m, 6: y, 7: a, 8: g, 9: s)\n"
       ]
      },
      {
       "output_type": "stream",
       "stream": "stdout",
       "text": [
        "Vector(0: p, 1: f, 2: w, 3: c, 4: n, 5: r, 6: y, 7: a, 8: h, 9: s)\n",
        "--\n",
        "Vector(0: r, 1: f, 2: w, 3: g, 4: n, 5: m, 6: y, 7: a, 8: r, 9: s)\n",
        "Vector(0: r, 1: f, 2: w, 3: a, 4: n, 5: r, 6: y, 7: a, 8: f, 9: s)\n",
        "--\n",
        "Vector(0: r, 1: f, 2: w, 3: g, 4: n, 5: e, 6: y, 7: a, 8: p, 9: s)\n",
        "Vector(0: r, 1: f, 2: h, 3: g, 4: n, 5: r, 6: y, 7: a, 8: r, 9: s)\n",
        "--\n",
        "Vector(0: r, 1: f, 2: w, 3: g, 4: n, 5: r, 6: y, 7: a, 8: i, 9: s)\n"
       ]
      },
      {
       "output_type": "stream",
       "stream": "stdout",
       "text": [
        "Vector(0: r, 1: f, 2: h, 3: g, 4: n, 5: a, 6: y, 7: a, 8: t, 9: s)\n",
        "--\n",
        "Vector(0: r, 1: f, 2: w, 3: g, 4: n, 5: r, 6: y, 7: a, 8: r, 9: s)\n",
        "Vector(0: r, 1: f, 2: w, 3: g, 4: g, 5: r, 6: y, 7: a, 8: r, 9: s)\n",
        "--\n",
        "Vector(0: r, 1: f, 2: w, 3: g, 4: n, 5: r, 6: y, 7: a, 8: k, 9: s)\n",
        "Vector(0: r, 1: f, 2: w, 3: g, 4: n, 5: d, 6: y, 7: a, 8: a, 9: s)\n",
        "--\n",
        "Vector(0: r, 1: f, 2: w, 3: g, 4: n, 5: e, 6: y, 7: a, 8: r, 9: s)\n"
       ]
      },
      {
       "output_type": "stream",
       "stream": "stdout",
       "text": [
        "Vector(0: r, 1: f, 2: -, 3: g, 4: n, 5: n, 6: y, 7: a, 8: g, 9: s)\n",
        "--\n",
        "Vector(0: r, 1: f, 2: w, 3: g, 4: n, 5: r, 6: y, 7: a, 8: t, 9: s)\n",
        "Vector(0: r, 1: f, 2: f, 3: g, 4: n, 5: w, 6: y, 7: a, 8: r, 9: s)\n",
        "--\n",
        "Vector(0: r, 1: f, 2: w, 3: g, 4: n, 5: v, 6: y, 7: a, 8: s, 9: s)\n",
        "Vector(0: r, 1: f, 2: t, 3: g, 4: n, 5: r, 6: y, 7: a, 8: v, 9: s)\n",
        "--\n",
        "Vector(0: r, 1: f, 2: w, 3: g, 4: n, 5: e, 6: y, 7: c, 8: g, 9: s)\n",
        "Vector(0: r, 1: f, 2: k, 3: g, 4: n, 5: e, 6: y, 7: a, 8: r, 9: s)\n",
        "--\n",
        "Vector(0: r, 1: f, 2: w, 3: g, 4: n, 5: r, 6: y, 7: a, 8: s, 9: s)\n"
       ]
      },
      {
       "output_type": "stream",
       "stream": "stdout",
       "text": [
        "Vector(0: r, 1: f, 2: w, 3: g, 4: v, 5: a, 6: h, 7: -, 8: r, 9: s)\n",
        "--\n",
        "Vector(0: r, 1: f, 2: w, 3: g, 4: n, 5: e, 6: y, 7: a, 8: l, 9: s)\n",
        "Vector(0: r, 1: f, 2: r, 3: g, 4: p, 5: -, 6: y, 7: a, 8: g, 9: s)\n",
        "--\n",
        "Vector(0: r, 1: f, 2: e, 3: g, 4: n, 5: e, 6: a, 7: a, 8: r, 9: s)\n",
        "Vector(0: r, 1: f, 2: q, 3: g, 4: n, 5: r, 6: y, 7: a, 8: r, 9: s)\n",
        "--\n",
        "Vector(0: r, 1: f, 2: e, 3: g, 4: n, 5: y, 6: a, 7: a, 8: l, 9: s)\n"
       ]
      },
      {
       "output_type": "stream",
       "stream": "stdout",
       "text": [
        "Vector(0: r, 1: f, 2: w, 3: g, 4: p, 5: h, 6: n, 7: a, 8: n, 9: s)\n",
        "--\n",
        "Vector(0: r, 1: f, 2: e, 3: g, 4: n, 5: e, 6: -, 7: a, 8: y, 9: s)\n",
        "Vector(0: r, 1: f, 2: w, 3: g, 4: n, 5: r, 6: y, 7: a, 8: i, 9: s)\n",
        "--\n",
        "Vector(0: r, 1: f, 2: e, 3: g, 4: n, 5: e, 6: a, 7: a, 8: f, 9: s)\n",
        "Vector(0: r, 1: f, 2: r, 3: g, 4: n, 5: a, 6: y, 7: a, 8: p, 9: s)\n",
        "--\n",
        "Vector(0: r, 1: f, 2: e, 3: g, 4: n, 5: e, 6: -, 7: a, 8: d, 9: s)\n"
       ]
      },
      {
       "output_type": "stream",
       "stream": "stdout",
       "text": [
        "Vector(0: m, 1: f, 2: t, 3: g, 4: n, 5: r, 6: y, 7: a, 8: e, 9: s)\n",
        "--\n",
        "Vector(0: r, 1: f, 2: e, 3: g, 4: n, 5: e, 6: a, 7: a, 8: r, 9: s)\n",
        "Vector(0: r, 1: f, 2: w, 3: g, 4: n, 5: s, 6: y, 7: a, 8: r, 9: s)\n",
        "--\n",
        "Vector(0: r, 1: f, 2: w, 3: g, 4: n, 5: r, 6: y, 7: a, 8: -, 9: s)\n",
        "Vector(0: r, 1: f, 2: a, 3: g, 4: n, 5: v, 6: y, 7: a, 8: r, 9: s)\n",
        "--\n",
        "Vector(0: r, 1: f, 2: w, 3: g, 4: n, 5: r, 6: y, 7: c, 8: q, 9: s)\n"
       ]
      },
      {
       "output_type": "stream",
       "stream": "stdout",
       "text": [
        "Vector(0: t, 1: f, 2: w, 3: g, 4: n, 5: t, 6: y, 7: a, 8: p, 9: e)\n",
        "--\n",
        "Vector(0: r, 1: f, 2: w, 3: g, 4: n, 5: r, 6: y, 7: a, 8: l, 9: s)\n",
        "Vector(0: r, 1: f, 2: w, 3: g, 4: n, 5: m, 6: y, 7: a, 8: q, 9: s)\n",
        "--\n",
        "Vector(0: r, 1: f, 2: w, 3: g, 4: n, 5: v, 6: y, 7: a, 8: l, 9: s)\n",
        "Vector(0: r, 1: f, 2: s, 3: g, 4: n, 5: s, 6: y, 7: a, 8: r, 9: s)\n",
        "--\n",
        "Vector(0: r, 1: f, 2: w, 3: g, 4: n, 5: r, 6: y, 7: a, 8: w, 9: s)\n",
        "Vector(0: r, 1: f, 2: w, 3: g, 4: n, 5: r, 6: y, 7: a, 8: w, 9: s)\n",
        "--\n",
        "Vector(0: r, 1: f, 2: w, 3: g, 4: n, 5: r, 6: c, 7: a, 8: p, 9: s)\n"
       ]
      },
      {
       "output_type": "stream",
       "stream": "stdout",
       "text": [
        "Vector(0: r, 1: f, 2: w, 3: a, 4: n, 5: i, 6: y, 7: a, 8: i, 9: s)\n",
        "--\n",
        "Vector(0: r, 1: f, 2: a, 3: g, 4: n, 5: l, 6: -, 7: a, 8: q, 9: s)\n",
        "Vector(0: r, 1: f, 2: s, 3: g, 4: y, 5: r, 6: i, 7: a, 8: r, 9: s)\n",
        "--\n",
        "Vector(0: r, 1: f, 2: s, 3: g, 4: n, 5: l, 6: t, 7: a, 8: w, 9: s)\n",
        "Vector(0: r, 1: f, 2: w, 3: g, 4: d, 5: c, 6: y, 7: a, 8: g, 9: s)\n",
        "--\n",
        "Vector(0: r, 1: f, 2: p, 3: g, 4: n, 5: w, 6: y, 7: a, 8: r, 9: s)\n"
       ]
      },
      {
       "output_type": "stream",
       "stream": "stdout",
       "text": [
        "Vector(0: r, 1: f, 2: w, 3: g, 4: n, 5: r, 6: y, 7: a, 8: f, 9: s)\n",
        "--\n",
        "Vector(0: r, 1: f, 2: i, 3: g, 4: n, 5: l, 6: y, 7: a, 8: p, 9: s)\n",
        "Vector(0: r, 1: f, 2: f, 3: g, 4: n, 5: h, 6: a, 7: a, 8: r, 9: s)\n",
        "--\n",
        "Vector(0: r, 1: f, 2: i, 3: g, 4: n, 5: l, 6: y, 7: c, 8: w, 9: s)\n",
        "Vector(0: r, 1: f, 2: w, 3: g, 4: n, 5: r, 6: y, 7: a, 8: r, 9: s)\n",
        "--\n",
        "Vector(0: r, 1: i, 2: a, 3: g, 4: v, 5: r, 6: y, 7: a, 8: k, 9: s)\n"
       ]
      },
      {
       "output_type": "stream",
       "stream": "stdout",
       "text": [
        "Vector(0: r, 1: f, 2: w, 3: g, 4: n, 5: r, 6: y, 7: a, 8: k, 9: s)\n",
        "--\n",
        "Vector(0: d, 1: i, 2: w, 3: r, 4: v, 5: r, 6: y, 7: k, 8: a, 9: q)\n",
        "Vector(0: e, 1: d, 2: l, 3: g, 4: n, 5: g, 6: y, 7: l, 8: r, 9: y)\n",
        "--\n",
        "Vector(0: d, 1: i, 2: w, 3: r, 4: v, 5: m, 6: y, 7: k, 8: r, 9: s)\n",
        "Vector(0: g, 1: p, 2: l, 3: e, 4: a, 5: t, 6: f, 7: n, 8: a, 9: m)\n",
        "--\n",
        "Vector(0: d, 1: i, 2: w, 3: r, 4: v, 5: e, 6: t, 7: f, 8: i, 9: s)\n"
       ]
      },
      {
       "output_type": "stream",
       "stream": "stdout",
       "text": [
        "Vector(0: l, 1: f, 2: q, 3: -, 4: n, 5: r, 6: t, 7: a, 8: i, 9: s)\n",
        "--\n",
        "Vector(0: d, 1: i, 2: w, 3: r, 4: d, 5: r, 6: y, 7: c, 8: g, 9: s)\n",
        "Vector(0: n, 1: t, 2: w, 3: i, 4: w, 5: r, 6: k, 7: l, 8: l, 9: w)\n",
        "--\n",
        "Vector(0: d, 1: i, 2: w, 3: r, 4: v, 5: n, 6: y, 7: w, 8: l, 9: l)\n",
        "Vector(0: r, 1: n, 2: c, 3: k, 4: r, 5: f, 6: y, 7: c, 8: r, 9: s)\n",
        "--\n",
        "Vector(0: d, 1: i, 2: i, 3: r, 4: v, 5: e, 6: r, 7: w, 8: g, 9: n)\n"
       ]
      },
      {
       "output_type": "stream",
       "stream": "stdout",
       "text": [
        "Vector(0: r, 1: f, 2: w, 3: c, 4: n, 5: l, 6: y, 7: a, 8: r, 9: s)\n",
        "--\n",
        "Vector(0: d, 1: i, 2: w, 3: r, 4: v, 5: r, 6: r, 7: g, 8: a, 9: w)\n",
        "Vector(0: i, 1: f, 2: d, 3: g, 4: n, 5: h, 6: y, 7: a, 8: r, 9: s)\n",
        "--\n",
        "Vector(0: d, 1: i, 2: d, 3: r, 4: v, 5: n, 6: c, 7: g, 8: w, 9: w)\n",
        "Vector(0: f, 1: k, 2: f, 3: y, 4: r, 5: r, 6: y, 7: y, 8: w, 9: s)\n",
        "--\n",
        "Vector(0: d, 1: i, 2: f, 3: r, 4: v, 5: m, 6: c, 7: g, 8: q, 9: w)\n"
       ]
      },
      {
       "output_type": "stream",
       "stream": "stdout",
       "text": [
        "Vector(0: l, 1: c, 2: s, 3: i, 4: i, 5: p, 6: v, 7: k, 8: c, 9: f)\n",
        "--\n",
        "Vector(0: d, 1: i, 2: w, 3: r, 4: v, 5: e, 6: c, 7: g, 8: i, 9: w)\n",
        "Vector(0: s, 1: w, 2: l, 3: g, 4: -, 5: w, 6: w, 7: a, 8: r, 9: s)\n",
        "--\n",
        "Vector(0: d, 1: i, 2: w, 3: r, 4: v, 5: e, 6: c, 7: g, 8: r, 9: w)\n",
        "Vector(0: f, 1: f, 2: q, 3: g, 4: n, 5: g, 6: y, 7: a, 8: r, 9: s)\n",
        "--\n",
        "Vector(0: d, 1: i, 2: w, 3: r, 4: v, 5: f, 6: w, 7: g, 8: s, 9: -)\n",
        "Vector(0: r, 1: i, 2: e, 3: g, 4: v, 5: s, 6: c, 7: i, 8: r, 9: d)\n",
        "--\n",
        "Vector(0: d, 1: i, 2: w, 3: r, 4: v, 5: e, 6: c, 7: g, 8: w, 9: w)\n"
       ]
      },
      {
       "output_type": "stream",
       "stream": "stdout",
       "text": [
        "Vector(0: a, 1: s, 2: d, 3: g, 4: a, 5: r, 6: y, 7: a, 8: s, 9: s)\n",
        "--\n",
        "Vector(0: d, 1: i, 2: w, 3: r, 4: v, 5: r, 6: c, 7: g, 8: s, 9: -)\n",
        "Vector(0: r, 1: f, 2: g, 3: g, 4: n, 5: r, 6: g, 7: a, 8: r, 9: s)\n",
        "--\n",
        "Vector(0: d, 1: i, 2: h, 3: r, 4: v, 5: -, 6: w, 7: g, 8: s, 9: w)\n",
        "Vector(0: v, 1: l, 2: y, 3: k, 4: n, 5: r, 6: l, 7: a, 8: y, 9: w)\n",
        "--\n",
        "Vector(0: d, 1: i, 2: v, 3: r, 4: v, 5: -, 6: w, 7: g, 8: w, 9: -)\n"
       ]
      },
      {
       "output_type": "stream",
       "stream": "stdout",
       "text": [
        "Vector(0: v, 1: d, 2: c, 3: m, 4: n, 5: k, 6: k, 7: m, 8: i, 9: v)\n",
        "--\n",
        "Vector(0: d, 1: i, 2: v, 3: r, 4: v, 5: a, 6: c, 7: g, 8: w, 9: w)\n",
        "Vector(0: w, 1: a, 2: s, 3: g, 4: k, 5: h, 6: y, 7: d, 8: f, 9: r)\n",
        "--\n",
        "Vector(0: d, 1: i, 2: s, 3: r, 4: v, 5: l, 6: c, 7: g, 8: r, 9: w)\n",
        "Vector(0: v, 1: m, 2: a, 3: g, 4: n, 5: c, 6: s, 7: r, 8: r, 9: k)\n",
        "--\n",
        "Vector(0: d, 1: i, 2: s, 3: r, 4: v, 5: l, 6: c, 7: g, 8: g, 9: w)\n"
       ]
      },
      {
       "output_type": "stream",
       "stream": "stdout",
       "text": [
        "Vector(0: n, 1: f, 2: q, 3: g, 4: g, 5: s, 6: y, 7: a, 8: r, 9: s)\n",
        "--\n",
        "Vector(0: d, 1: i, 2: s, 3: r, 4: v, 5: l, 6: c, 7: g, 8: l, 9: w)\n",
        "Vector(0: r, 1: k, 2: d, 3: w, 4: n, 5: t, 6: n, 7: a, 8: r, 9: s)\n",
        "--\n",
        "Vector(0: d, 1: i, 2: s, 3: r, 4: v, 5: y, 6: c, 7: g, 8: q, 9: -)\n",
        "Vector(0: r, 1: f, 2: w, 3: g, 4: n, 5: t, 6: y, 7: a, 8: r, 9: s)\n",
        "--\n",
        "Vector(0: d, 1: i, 2: s, 3: r, 4: v, 5: y, 6: c, 7: g, 8: y, 9: w)\n"
       ]
      },
      {
       "output_type": "stream",
       "stream": "stdout",
       "text": [
        "Vector(0: w, 1: e, 2: m, 3: n, 4: n, 5: q, 6: y, 7: a, 8: r, 9: q)\n",
        "--\n",
        "Vector(0: d, 1: i, 2: s, 3: r, 4: v, 5: l, 6: c, 7: g, 8: s, 9: l)\n",
        "Vector(0: c, 1: f, 2: k, 3: -, 4: r, 5: g, 6: v, 7: s, 8: n, 9: p)\n",
        "--\n",
        "Vector(0: d, 1: i, 2: s, 3: r, 4: v, 5: c, 6: c, 7: w, 8: n, 9: l)\n",
        "Vector(0: s, 1: m, 2: d, 3: s, 4: a, 5: c, 6: y, 7: h, 8: w, 9: e)\n",
        "--\n",
        "Vector(0: d, 1: i, 2: s, 3: r, 4: v, 5: k, 6: i, 7: w, 8: s, 9: l)\n"
       ]
      },
      {
       "output_type": "stream",
       "stream": "stdout",
       "text": [
        "Vector(0: r, 1: f, 2: c, 3: q, 4: m, 5: r, 6: s, 7: a, 8: r, 9: s)\n",
        "--\n",
        "Vector(0: d, 1: i, 2: s, 3: r, 4: v, 5: y, 6: n, 7: w, 8: q, 9: l)\n",
        "Vector(0: r, 1: g, 2: p, 3: w, 4: n, 5: c, 6: t, 7: a, 8: d, 9: s)\n",
        "--\n",
        "Vector(0: d, 1: i, 2: s, 3: r, 4: v, 5: y, 6: n, 7: w, 8: q, 9: l)\n",
        "Vector(0: n, 1: p, 2: k, 3: g, 4: d, 5: r, 6: s, 7: p, 8: c, 9: r)\n",
        "--\n",
        "Vector(0: d, 1: i, 2: s, 3: r, 4: v, 5: l, 6: n, 7: w, 8: l, 9: l)\n",
        "Vector(0: n, 1: p, 2: g, 3: w, 4: v, 5: w, 6: g, 7: i, 8: i, 9: g)\n",
        "--\n",
        "Vector(0: d, 1: i, 2: s, 3: r, 4: v, 5: l, 6: v, 7: w, 8: r, 9: m)\n"
       ]
      },
      {
       "output_type": "stream",
       "stream": "stdout",
       "text": [
        "Vector(0: t, 1: v, 2: k, 3: r, 4: y, 5: r, 6: y, 7: p, 8: e, 9: i)\n",
        "--\n",
        "Vector(0: d, 1: i, 2: s, 3: r, 4: v, 5: k, 6: i, 7: w, 8: p, 9: s)\n",
        "Vector(0: r, 1: f, 2: w, 3: p, 4: r, 5: r, 6: a, 7: s, 8: f, 9: s)\n",
        "--\n",
        "Vector(0: d, 1: i, 2: a, 3: r, 4: v, 5: w, 6: i, 7: k, 8: r, 9: l)\n",
        "Vector(0: s, 1: e, 2: p, 3: g, 4: n, 5: y, 6: w, 7: a, 8: i, 9: k)\n",
        "--\n",
        "Vector(0: d, 1: i, 2: w, 3: r, 4: v, 5: r, 6: y, 7: k, 8: y, 9: q)\n"
       ]
      },
      {
       "output_type": "stream",
       "stream": "stdout",
       "text": [
        "Vector(0: r, 1: m, 2: w, 3: h, 4: y, 5: s, 6: d, 7: a, 8: e, 9: s)\n",
        "--\n",
        "Vector(0: d, 1: i, 2: w, 3: r, 4: v, 5: i, 6: y, 7: k, 8: q, 9: s)\n",
        "Vector(0: r, 1: f, 2: t, 3: v, 4: n, 5: r, 6: y, 7: a, 8: p, 9: g)\n",
        "--\n",
        "Vector(0: d, 1: i, 2: f, 3: r, 4: v, 5: m, 6: y, 7: k, 8: d, 9: q)\n",
        "Vector(0: h, 1: i, 2: f, 3: r, 4: r, 5: c, 6: w, 7: d, 8: h, 9: c)\n",
        "--\n",
        "Vector(0: d, 1: i, 2: w, 3: r, 4: v, 5: r, 6: y, 7: k, 8: y, 9: -)\n"
       ]
      },
      {
       "output_type": "stream",
       "stream": "stdout",
       "text": [
        "Vector(0: r, 1: f, 2: t, 3: g, 4: n, 5: r, 6: y, 7: a, 8: r, 9: s)\n",
        "--\n",
        "Vector(0: d, 1: i, 2: w, 3: r, 4: v, 5: e, 6: c, 7: g, 8: q, 9: w)\n",
        "Vector(0: m, 1: r, 2: v, 3: g, 4: h, 5: i, 6: l, 7: n, 8: t, 9: t)\n",
        "--\n",
        "Vector(0: d, 1: i, 2: n, 3: r, 4: v, 5: y, 6: p, 7: g, 8: -, 9: w)\n",
        "Vector(0: r, 1: i, 2: v, 3: h, 4: p, 5: -, 6: l, 7: w, 8: v, 9: s)\n",
        "--\n",
        "Vector(0: d, 1: i, 2: q, 3: r, 4: v, 5: n, 6: c, 7: g, 8: r, 9: w)\n"
       ]
      },
      {
       "output_type": "stream",
       "stream": "stdout",
       "text": [
        "Vector(0: y, 1: f, 2: s, 3: t, 4: n, 5: g, 6: y, 7: n, 8: t, 9: n)\n",
        "--\n",
        "Vector(0: d, 1: i, 2: k, 3: r, 4: v, 5: e, 6: c, 7: g, 8: g, 9: w)\n",
        "Vector(0: s, 1: i, 2: a, 3: l, 4: m, 5: p, 6: a, 7: w, 8: n, 9: y)\n",
        "--\n",
        "Vector(0: d, 1: i, 2: w, 3: r, 4: v, 5: m, 6: c, 7: g, 8: c, 9: l)\n",
        "Vector(0: r, 1: f, 2: i, 3: g, 4: n, 5: r, 6: i, 7: a, 8: r, 9: s)\n",
        "--\n",
        "Vector(0: d, 1: i, 2: w, 3: r, 4: v, 5: e, 6: c, 7: w, 8: w, 9: l)\n"
       ]
      },
      {
       "output_type": "stream",
       "stream": "stdout",
       "text": [
        "Vector(0: r, 1: a, 2: w, 3: -, 4: n, 5: p, 6: y, 7: f, 8: a, 9: s)\n",
        "--\n",
        "Vector(0: d, 1: i, 2: w, 3: r, 4: v, 5: r, 6: r, 7: f, 8: w, 9: -)\n",
        "Vector(0: r, 1: f, 2: w, 3: g, 4: n, 5: f, 6: y, 7: a, 8: r, 9: y)\n",
        "--\n",
        "Vector(0: d, 1: i, 2: i, 3: r, 4: v, 5: -, 6: y, 7: k, 8: r, 9: s)\n",
        "Vector(0: r, 1: f, 2: h, 3: c, 4: n, 5: s, 6: y, 7: a, 8: r, 9: s)\n",
        "--\n",
        "Vector(0: d, 1: i, 2: i, 3: r, 4: v, 5: w, 6: y, 7: c, 8: s, 9: s)\n"
       ]
      },
      {
       "output_type": "stream",
       "stream": "stdout",
       "text": [
        "Vector(0: r, 1: f, 2: w, 3: q, 4: n, 5: v, 6: y, 7: a, 8: d, 9: s)\n",
        "--\n",
        "Vector(0: d, 1: i, 2: i, 3: r, 4: v, 5: w, 6: y, 7: c, 8: t, 9: m)\n",
        "Vector(0: t, 1: y, 2: d, 3: h, 4: c, 5: r, 6: e, 7: s, 8: g, 9: i)\n",
        "--\n",
        "Vector(0: d, 1: i, 2: i, 3: r, 4: v, 5: l, 6: y, 7: c, 8: p, 9: s)\n",
        "Vector(0: c, 1: i, 2: t, 3: r, 4: v, 5: m, 6: s, 7: y, 8: s, 9: h)\n",
        "--\n",
        "Vector(0: d, 1: i, 2: a, 3: r, 4: v, 5: w, 6: y, 7: c, 8: r, 9: s)\n"
       ]
      },
      {
       "output_type": "stream",
       "stream": "stdout",
       "text": [
        "Vector(0: r, 1: f, 2: m, 3: g, 4: n, 5: k, 6: y, 7: y, 8: r, 9: s)\n",
        "--\n",
        "Vector(0: d, 1: i, 2: i, 3: r, 4: v, 5: w, 6: y, 7: k, 8: p, 9: q)\n",
        "Vector(0: r, 1: f, 2: f, 3: g, 4: n, 5: f, 6: g, 7: a, 8: i, 9: s)\n",
        "--\n",
        "Vector(0: d, 1: i, 2: i, 3: r, 4: v, 5: n, 6: y, 7: k, 8: l, 9: q)\n",
        "Vector(0: r, 1: f, 2: w, 3: g, 4: h, 5: r, 6: y, 7: d, 8: h, 9: s)\n",
        "--\n",
        "Vector(0: d, 1: i, 2: w, 3: r, 4: v, 5: r, 6: y, 7: k, 8: p, 9: q)\n"
       ]
      },
      {
       "output_type": "stream",
       "stream": "stdout",
       "text": [
        "Vector(0: r, 1: p, 2: g, 3: g, 4: n, 5: a, 6: y, 7: a, 8: g, 9: s)\n",
        "--\n",
        "Vector(0: d, 1: i, 2: w, 3: r, 4: v, 5: p, 6: y, 7: k, 8: c, 9: s)\n",
        "Vector(0: r, 1: f, 2: t, 3: g, 4: n, 5: r, 6: y, 7: a, 8: r, 9: s)\n",
        "--\n",
        "Vector(0: d, 1: i, 2: i, 3: r, 4: v, 5: w, 6: y, 7: c, 8: w, 9: s)\n",
        "Vector(0: r, 1: f, 2: w, 3: g, 4: n, 5: r, 6: g, 7: a, 8: v, 9: s)\n",
        "--\n",
        "Vector(0: d, 1: i, 2: i, 3: r, 4: v, 5: w, 6: y, 7: k, 8: g, 9: q)\n"
       ]
      },
      {
       "output_type": "stream",
       "stream": "stdout",
       "text": [
        "Vector(0: h, 1: a, 2: y, 3: l, 4: y, 5: y, 6: m, 7: y, 8: v, 9: q)\n",
        "--\n",
        "Vector(0: v, 1: i, 2: i, 3: -, 4: l, 5: l, 6: y, 7: k, 8: r, 9: q)\n",
        "Vector(0: r, 1: w, 2: k, 3: g, 4: n, 5: r, 6: y, 7: a, 8: r, 9: s)\n",
        "--\n",
        "Vector(0: v, 1: k, 2: a, 3: -, 4: i, 5: r, 6: y, 7: k, 8: q, 9: l)\n",
        "Vector(0: r, 1: v, 2: w, 3: -, 4: a, 5: t, 6: y, 7: t, 8: h, 9: s)\n",
        "--\n",
        "Vector(0: g, 1: k, 2: w, 3: -, 4: i, 5: r, 6: y, 7: k, 8: w, 9: l)\n",
        "Vector(0: f, 1: f, 2: w, 3: k, 4: n, 5: m, 6: c, 7: a, 8: r, 9: s)\n",
        "--\n",
        "Vector(0: m, 1: k, 2: w, 3: -, 4: i, 5: e, 6: y, 7: k, 8: r, 9: q)\n"
       ]
      },
      {
       "output_type": "stream",
       "stream": "stdout",
       "text": [
        "Vector(0: s, 1: m, 2: -, 3: g, 4: r, 5: -, 6: h, 7: g, 8: -, 9: s)\n",
        "--\n",
        "Vector(0: y, 1: k, 2: w, 3: -, 4: q, 5: r, 6: y, 7: k, 8: r, 9: q)\n",
        "Vector(0: r, 1: f, 2: w, 3: g, 4: g, 5: f, 6: s, 7: a, 8: r, 9: s)\n",
        "--\n",
        "Vector(0: y, 1: k, 2: w, 3: -, 4: i, 5: h, 6: y, 7: k, 8: i, 9: q)\n",
        "Vector(0: r, 1: w, 2: w, 3: s, 4: n, 5: l, 6: c, 7: a, 8: -, 9: s)\n",
        "--\n",
        "Vector(0: y, 1: k, 2: w, 3: -, 4: i, 5: i, 6: y, 7: k, 8: q, 9: q)\n"
       ]
      },
      {
       "output_type": "stream",
       "stream": "stdout",
       "text": [
        "Vector(0: r, 1: f, 2: k, 3: g, 4: s, 5: m, 6: i, 7: t, 8: a, 9: s)\n",
        "--\n",
        "Vector(0: v, 1: k, 2: f, 3: -, 4: i, 5: w, 6: m, 7: k, 8: w, 9: q)\n",
        "Vector(0: n, 1: i, 2: f, 3: m, 4: h, 5: r, 6: n, 7: t, 8: n, 9: i)\n",
        "--\n",
        "Vector(0: m, 1: k, 2: w, 3: -, 4: i, 5: f, 6: y, 7: k, 8: f, 9: n)\n",
        "Vector(0: r, 1: f, 2: v, 3: c, 4: n, 5: v, 6: y, 7: a, 8: w, 9: s)\n",
        "--\n",
        "Vector(0: y, 1: k, 2: w, 3: -, 4: q, 5: e, 6: y, 7: k, 8: r, 9: q)\n"
       ]
      },
      {
       "output_type": "stream",
       "stream": "stdout",
       "text": [
        "Vector(0: r, 1: f, 2: w, 3: g, 4: n, 5: k, 6: y, 7: a, 8: r, 9: s)\n",
        "--\n",
        "Vector(0: y, 1: k, 2: w, 3: -, 4: s, 5: r, 6: y, 7: k, 8: l, 9: q)\n",
        "Vector(0: r, 1: f, 2: p, 3: g, 4: n, 5: r, 6: y, 7: a, 8: a, 9: s)\n",
        "--\n",
        "Vector(0: v, 1: k, 2: w, 3: -, 4: i, 5: f, 6: y, 7: k, 8: l, 9: q)\n",
        "Vector(0: q, 1: p, 2: w, 3: c, 4: n, 5: r, 6: y, 7: f, 8: h, 9: d)\n",
        "--\n",
        "Vector(0: y, 1: k, 2: w, 3: -, 4: i, 5: r, 6: y, 7: k, 8: q, 9: q)\n"
       ]
      },
      {
       "output_type": "stream",
       "stream": "stdout",
       "text": [
        "Vector(0: r, 1: f, 2: w, 3: g, 4: n, 5: c, 6: y, 7: a, 8: l, 9: s)\n",
        "--\n",
        "Vector(0: y, 1: k, 2: w, 3: -, 4: q, 5: e, 6: y, 7: k, 8: q, 9: q)\n",
        "Vector(0: r, 1: f, 2: i, 3: g, 4: n, 5: r, 6: y, 7: a, 8: i, 9: s)\n",
        "--\n",
        "Vector(0: y, 1: k, 2: w, 3: -, 4: q, 5: r, 6: y, 7: k, 8: a, 9: q)\n",
        "Vector(0: r, 1: f, 2: v, 3: g, 4: n, 5: r, 6: y, 7: a, 8: p, 9: s)\n",
        "--\n",
        "Vector(0: y, 1: k, 2: w, 3: -, 4: i, 5: n, 6: y, 7: k, 8: w, 9: q)\n"
       ]
      },
      {
       "output_type": "stream",
       "stream": "stdout",
       "text": [
        "Vector(0: k, 1: e, 2: t, 3: g, 4: q, 5: m, 6: d, 7: a, 8: k, 9: s)\n",
        "--\n",
        "Vector(0: l, 1: k, 2: w, 3: -, 4: i, 5: v, 6: y, 7: k, 8: r, 9: q)\n",
        "Vector(0: r, 1: f, 2: i, 3: g, 4: n, 5: y, 6: y, 7: a, 8: s, 9: s)\n",
        "--\n",
        "Vector(0: y, 1: k, 2: w, 3: -, 4: q, 5: r, 6: y, 7: k, 8: g, 9: q)\n",
        "Vector(0: r, 1: f, 2: l, 3: a, 4: n, 5: k, 6: k, 7: a, 8: -, 9: s)\n",
        "--\n",
        "Vector(0: y, 1: k, 2: w, 3: -, 4: q, 5: e, 6: y, 7: k, 8: r, 9: q)\n"
       ]
      },
      {
       "output_type": "stream",
       "stream": "stdout",
       "text": [
        "Vector(0: t, 1: y, 2: t, 3: s, 4: n, 5: k, 6: n, 7: s, 8: t, 9: q)\n",
        "--\n",
        "Vector(0: y, 1: k, 2: w, 3: -, 4: q, 5: r, 6: y, 7: k, 8: q, 9: q)\n",
        "Vector(0: d, 1: m, 2: r, 3: k, 4: m, 5: c, 6: w, 7: -, 8: r, 9: y)\n",
        "--\n",
        "Vector(0: c, 1: k, 2: w, 3: -, 4: a, 5: f, 6: y, 7: k, 8: m, 9: q)\n",
        "Vector(0: -, 1: s, 2: g, 3: l, 4: e, 5: y, 6: t, 7: d, 8: w, 9: i)\n",
        "--\n",
        "Vector(0: y, 1: k, 2: a, 3: -, 4: i, 5: -, 6: y, 7: k, 8: w, 9: q)\n"
       ]
      },
      {
       "output_type": "stream",
       "stream": "stdout",
       "text": [
        "Vector(0: r, 1: t, 2: y, 3: e, 4: t, 5: q, 6: c, 7: v, 8: c, 9: g)\n",
        "--\n",
        "Vector(0: y, 1: k, 2: i, 3: -, 4: i, 5: n, 6: y, 7: k, 8: -, 9: q)\n",
        "Vector(0: r, 1: f, 2: i, 3: g, 4: n, 5: r, 6: y, 7: a, 8: r, 9: s)\n",
        "--\n",
        "Vector(0: y, 1: k, 2: i, 3: -, 4: q, 5: n, 6: y, 7: k, 8: p, 9: q)\n",
        "Vector(0: r, 1: f, 2: w, 3: e, 4: q, 5: n, 6: f, 7: a, 8: r, 9: s)\n",
        "--\n",
        "Vector(0: y, 1: k, 2: s, 3: -, 4: q, 5: w, 6: t, 7: k, 8: p, 9: q)\n"
       ]
      },
      {
       "output_type": "stream",
       "stream": "stdout",
       "text": [
        "Vector(0: r, 1: f, 2: c, 3: g, 4: n, 5: w, 6: i, 7: a, 8: r, 9: s)\n",
        "--\n",
        "Vector(0: c, 1: k, 2: v, 3: -, 4: i, 5: -, 6: d, 7: k, 8: w, 9: q)\n",
        "Vector(0: r, 1: d, 2: y, 3: g, 4: n, 5: r, 6: g, 7: a, 8: r, 9: y)\n",
        "--\n",
        "Vector(0: y, 1: k, 2: q, 3: -, 4: i, 5: -, 6: d, 7: k, 8: q, 9: q)\n",
        "Vector(0: r, 1: t, 2: w, 3: w, 4: f, 5: r, 6: y, 7: a, 8: -, 9: s)\n",
        "--\n",
        "Vector(0: y, 1: k, 2: y, 3: -, 4: i, 5: s, 6: f, 7: k, 8: e, 9: q)\n"
       ]
      },
      {
       "output_type": "stream",
       "stream": "stdout",
       "text": [
        "Vector(0: q, 1: s, 2: s, 3: g, 4: n, 5: f, 6: y, 7: a, 8: c, 9: s)\n",
        "--\n",
        "Vector(0: y, 1: k, 2: y, 3: -, 4: i, 5: r, 6: f, 7: k, 8: m, 9: q)\n",
        "Vector(0: v, 1: h, 2: s, 3: g, 4: f, 5: a, 6: -, 7: g, 8: f, 9: s)\n",
        "--\n",
        "Vector(0: y, 1: k, 2: p, 3: -, 4: q, 5: l, 6: f, 7: k, 8: w, 9: q)\n",
        "Vector(0: g, 1: f, 2: e, 3: e, 4: n, 5: r, 6: m, 7: p, 8: r, 9: k)\n",
        "--\n",
        "Vector(0: y, 1: k, 2: i, 3: -, 4: q, 5: w, 6: y, 7: k, 8: d, 9: q)\n"
       ]
      },
      {
       "output_type": "stream",
       "stream": "stdout",
       "text": [
        "Vector(0: r, 1: q, 2: w, 3: g, 4: -, 5: a, 6: y, 7: t, 8: r, 9: s)\n",
        "--\n",
        "Vector(0: y, 1: k, 2: i, 3: -, 4: q, 5: l, 6: y, 7: k, 8: w, 9: q)\n",
        "Vector(0: r, 1: f, 2: l, 3: c, 4: n, 5: s, 6: y, 7: a, 8: y, 9: c)\n",
        "--\n",
        "Vector(0: y, 1: k, 2: a, 3: -, 4: i, 5: w, 6: f, 7: k, 8: h, 9: q)\n",
        "Vector(0: r, 1: d, 2: n, 3: h, 4: d, 5: q, 6: -, 7: a, 8: r, 9: m)\n",
        "--\n",
        "Vector(0: g, 1: k, 2: p, 3: -, 4: i, 5: q, 6: f, 7: k, 8: m, 9: q)\n"
       ]
      },
      {
       "output_type": "stream",
       "stream": "stdout",
       "text": [
        "Vector(0: r, 1: a, 2: d, 3: g, 4: n, 5: -, 6: y, 7: a, 8: r, 9: s)\n",
        "--\n",
        "Vector(0: y, 1: k, 2: c, 3: -, 4: q, 5: q, 6: t, 7: k, 8: s, 9: q)\n",
        "Vector(0: p, 1: d, 2: w, 3: e, 4: w, 5: f, 6: q, 7: i, 8: -, 9: n)\n",
        "--\n",
        "Vector(0: y, 1: k, 2: r, 3: -, 4: q, 5: r, 6: f, 7: k, 8: s, 9: q)\n",
        "Vector(0: l, 1: g, 2: t, 3: i, 4: -, 5: y, 6: h, 7: m, 8: r, 9: -)\n",
        "--\n",
        "Vector(0: y, 1: k, 2: p, 3: -, 4: q, 5: w, 6: f, 7: k, 8: r, 9: q)\n"
       ]
      },
      {
       "output_type": "stream",
       "stream": "stdout",
       "text": [
        "Vector(0: q, 1: f, 2: v, 3: g, 4: n, 5: -, 6: y, 7: p, 8: r, 9: s)\n",
        "--\n",
        "Vector(0: y, 1: k, 2: a, 3: -, 4: q, 5: l, 6: y, 7: k, 8: r, 9: q)\n",
        "Vector(0: q, 1: i, 2: i, 3: d, 4: t, 5: d, 6: y, 7: l, 8: d, 9: c)\n",
        "--\n",
        "Vector(0: y, 1: k, 2: s, 3: -, 4: i, 5: y, 6: y, 7: k, 8: k, 9: q)\n",
        "Vector(0: r, 1: f, 2: c, 3: g, 4: n, 5: r, 6: y, 7: a, 8: r, 9: s)\n",
        "--\n",
        "Vector(0: y, 1: k, 2: w, 3: -, 4: i, 5: e, 6: y, 7: k, 8: g, 9: q)\n",
        "Vector(0: q, 1: -, 2: g, 3: w, 4: n, 5: y, 6: y, 7: h, 8: y, 9: a)\n",
        "--\n",
        "Vector(0: g, 1: k, 2: w, 3: -, 4: i, 5: e, 6: y, 7: k, 8: w, 9: q)\n"
       ]
      },
      {
       "output_type": "stream",
       "stream": "stdout",
       "text": [
        "Vector(0: e, 1: w, 2: p, 3: g, 4: y, 5: f, 6: e, 7: k, 8: q, 9: s)\n",
        "--\n",
        "Vector(0: y, 1: k, 2: w, 3: -, 4: q, 5: r, 6: y, 7: k, 8: q, 9: q)\n",
        "Vector(0: r, 1: q, 2: -, 3: g, 4: n, 5: s, 6: y, 7: a, 8: a, 9: s)\n",
        "--\n",
        "Vector(0: y, 1: k, 2: w, 3: -, 4: i, 5: e, 6: y, 7: k, 8: l, 9: q)\n",
        "Vector(0: r, 1: f, 2: w, 3: g, 4: n, 5: v, 6: y, 7: a, 8: r, 9: s)\n",
        "--\n",
        "Vector(0: v, 1: k, 2: w, 3: -, 4: i, 5: e, 6: y, 7: k, 8: d, 9: q)\n"
       ]
      },
      {
       "output_type": "stream",
       "stream": "stdout",
       "text": [
        "Vector(0: r, 1: f, 2: g, 3: f, 4: p, 5: r, 6: d, 7: a, 8: p, 9: s)\n",
        "--\n",
        "Vector(0: y, 1: k, 2: i, 3: -, 4: q, 5: l, 6: y, 7: k, 8: d, 9: q)\n",
        "Vector(0: r, 1: f, 2: i, 3: g, 4: n, 5: y, 6: y, 7: a, 8: p, 9: s)\n",
        "--\n",
        "Vector(0: y, 1: k, 2: i, 3: -, 4: p, 5: w, 6: y, 7: k, 8: y, 9: q)\n",
        "Vector(0: r, 1: f, 2: w, 3: g, 4: n, 5: y, 6: y, 7: a, 8: r, 9: s)\n",
        "--\n",
        "Vector(0: y, 1: k, 2: i, 3: -, 4: i, 5: -, 6: y, 7: k, 8: w, 9: n)\n"
       ]
      },
      {
       "output_type": "stream",
       "stream": "stdout",
       "text": [
        "Vector(0: r, 1: f, 2: g, 3: g, 4: n, 5: g, 6: h, 7: a, 8: m, 9: s)\n",
        "--\n",
        "Vector(0: m, 1: k, 2: i, 3: -, 4: i, 5: l, 6: y, 7: k, 8: w, 9: q)\n",
        "Vector(0: a, 1: v, 2: h, 3: g, 4: i, 5: f, 6: h, 7: a, 8: -, 9: p)\n",
        "--\n",
        "Vector(0: y, 1: k, 2: i, 3: -, 4: q, 5: n, 6: y, 7: k, 8: s, 9: q)\n",
        "Vector(0: p, 1: i, 2: w, 3: f, 4: a, 5: n, 6: s, 7: -, 8: c, 9: f)\n",
        "--\n",
        "Vector(0: y, 1: k, 2: w, 3: -, 4: i, 5: e, 6: y, 7: k, 8: t, 9: q)\n"
       ]
      },
      {
       "output_type": "stream",
       "stream": "stdout",
       "text": [
        "Vector(0: r, 1: f, 2: i, 3: g, 4: i, 5: i, 6: q, 7: a, 8: v, 9: s)\n",
        "--\n",
        "Vector(0: n, 1: k, 2: a, 3: -, 4: i, 5: d, 6: f, 7: k, 8: r, 9: q)\n",
        "Vector(0: r, 1: f, 2: w, 3: g, 4: n, 5: r, 6: y, 7: a, 8: f, 9: s)\n",
        "--\n",
        "Vector(0: y, 1: k, 2: y, 3: -, 4: i, 5: i, 6: f, 7: k, 8: r, 9: q)\n"
       ]
      },
      {
       "output_type": "stream",
       "stream": "stdout",
       "text": [
        "Vector(0: r, 1: h, 2: w, 3: g, 4: n, 5: d, 6: d, 7: a, 8: r, 9: s)\n",
        "--\n",
        "Vector(0: l, 1: k, 2: y, 3: -, 4: i, 5: i, 6: f, 7: k, 8: w, 9: q)\n",
        "Vector(0: h, 1: m, 2: w, 3: p, 4: h, 5: t, 6: p, 7: f, 8: r, 9: v)\n",
        "--\n",
        "Vector(0: m, 1: k, 2: y, 3: -, 4: i, 5: i, 6: f, 7: k, 8: h, 9: q)\n"
       ]
      },
      {
       "output_type": "stream",
       "stream": "stdout",
       "text": [
        "Vector(0: m, 1: w, 2: y, 3: r, 4: n, 5: n, 6: -, 7: y, 8: d, 9: m)\n",
        "--\n",
        "Vector(0: y, 1: k, 2: y, 3: -, 4: i, 5: h, 6: f, 7: k, 8: y, 9: q)\n",
        "Vector(0: r, 1: f, 2: v, 3: g, 4: c, 5: r, 6: y, 7: l, 8: l, 9: v)\n",
        "--\n",
        "Vector(0: y, 1: k, 2: y, 3: -, 4: q, 5: i, 6: f, 7: k, 8: i, 9: q)\n"
       ]
      },
      {
       "output_type": "stream",
       "stream": "stdout",
       "text": [
        "Vector(0: i, 1: y, 2: n, 3: q, 4: c, 5: l, 6: k, 7: a, 8: k, 9: s)\n",
        "--\n",
        "Vector(0: c, 1: k, 2: y, 3: -, 4: a, 5: i, 6: f, 7: k, 8: r, 9: q)\n",
        "Vector(0: f, 1: i, 2: h, 3: k, 4: w, 5: f, 6: d, 7: m, 8: v, 9: m)\n",
        "--\n",
        "Vector(0: y, 1: k, 2: y, 3: -, 4: i, 5: i, 6: f, 7: k, 8: y, 9: q)\n",
        "Vector(0: f, 1: y, 2: c, 3: c, 4: p, 5: r, 6: y, 7: r, 8: r, 9: s)\n",
        "--\n",
        "Vector(0: y, 1: k, 2: y, 3: -, 4: i, 5: y, 6: d, 7: k, 8: g, 9: q)\n"
       ]
      },
      {
       "output_type": "stream",
       "stream": "stdout",
       "text": [
        "Vector(0: t, 1: v, 2: w, 3: k, 4: i, 5: c, 6: f, 7: g, 8: y, 9: w)\n",
        "--\n",
        "Vector(0: y, 1: k, 2: n, 3: -, 4: i, 5: r, 6: t, 7: k, 8: p, 9: q)\n",
        "Vector(0: w, 1: f, 2: w, 3: g, 4: n, 5: k, 6: f, 7: r, 8: d, 9: q)\n",
        "--\n",
        "Vector(0: y, 1: k, 2: n, 3: -, 4: q, 5: r, 6: y, 7: k, 8: r, 9: q)\n",
        "Vector(0: r, 1: p, 2: y, 3: g, 4: a, 5: s, 6: a, 7: a, 8: v, 9: s)\n",
        "--\n",
        "Vector(0: y, 1: k, 2: w, 3: -, 4: i, 5: v, 6: y, 7: k, 8: q, 9: q)\n"
       ]
      },
      {
       "output_type": "stream",
       "stream": "stdout",
       "text": [
        "Vector(0: e, 1: t, 2: h, 3: a, 4: i, 5: m, 6: s, 7: w, 8: r, 9: c)\n",
        "--\n",
        "Vector(0: y, 1: k, 2: w, 3: -, 4: i, 5: f, 6: y, 7: k, 8: h, 9: q)\n",
        "Vector(0: e, 1: -, 2: q, 3: f, 4: v, 5: t, 6: a, 7: m, 8: l, 9: v)\n",
        "--\n",
        "Vector(0: y, 1: k, 2: w, 3: -, 4: i, 5: n, 6: y, 7: k, 8: l, 9: q)\n",
        "Vector(0: i, 1: t, 2: w, 3: g, 4: n, 5: t, 6: y, 7: a, 8: c, 9: s)\n",
        "--\n",
        "Vector(0: y, 1: k, 2: w, 3: -, 4: q, 5: e, 6: y, 7: k, 8: s, 9: q)\n"
       ]
      },
      {
       "output_type": "stream",
       "stream": "stdout",
       "text": [
        "Vector(0: r, 1: f, 2: n, 3: g, 4: l, 5: k, 6: y, 7: a, 8: w, 9: s)\n",
        "--\n",
        "Vector(0: y, 1: k, 2: a, 3: -, 4: i, 5: l, 6: y, 7: k, 8: q, 9: q)\n",
        "Vector(0: d, 1: v, 2: l, 3: v, 4: q, 5: v, 6: s, 7: m, 8: f, 9: k)\n",
        "--\n",
        "Vector(0: y, 1: k, 2: a, 3: -, 4: i, 5: r, 6: y, 7: k, 8: w, 9: q)\n",
        "Vector(0: r, 1: l, 2: w, 3: g, 4: n, 5: r, 6: y, 7: h, 8: q, 9: s)\n",
        "--\n",
        "Vector(0: y, 1: k, 2: w, 3: -, 4: q, 5: m, 6: y, 7: k, 8: s, 9: q)\n",
        "Vector(0: n, 1: -, 2: t, 3: m, 4: n, 5: i, 6: y, 7: h, 8: p, 9: s)\n",
        "--\n",
        "Vector(0: y, 1: k, 2: w, 3: -, 4: i, 5: m, 6: y, 7: k, 8: q, 9: q)\n"
       ]
      },
      {
       "output_type": "stream",
       "stream": "stdout",
       "text": [
        "Vector(0: m, 1: p, 2: -, 3: n, 4: q, 5: q, 6: y, 7: w, 8: l, 9: s)\n",
        "--\n",
        "Vector(0: y, 1: k, 2: w, 3: -, 4: q, 5: r, 6: y, 7: k, 8: r, 9: q)\n",
        "Vector(0: r, 1: f, 2: h, 3: g, 4: n, 5: r, 6: y, 7: a, 8: r, 9: s)\n",
        "--\n",
        "Vector(0: y, 1: k, 2: w, 3: -, 4: i, 5: e, 6: y, 7: k, 8: w, 9: q)\n",
        "Vector(0: r, 1: f, 2: l, 3: m, 4: n, 5: e, 6: y, 7: a, 8: r, 9: s)\n",
        "--\n",
        "Vector(0: y, 1: k, 2: w, 3: -, 4: i, 5: e, 6: y, 7: k, 8: s, 9: q)\n"
       ]
      },
      {
       "output_type": "stream",
       "stream": "stdout",
       "text": [
        "Vector(0: r, 1: f, 2: r, 3: v, 4: e, 5: f, 6: y, 7: a, 8: s, 9: s)\n",
        "--\n",
        "Vector(0: y, 1: k, 2: i, 3: -, 4: i, 5: w, 6: y, 7: k, 8: r, 9: q)\n",
        "Vector(0: y, 1: -, 2: w, 3: g, 4: v, 5: k, 6: y, 7: l, 8: -, 9: m)\n",
        "--\n",
        "Vector(0: y, 1: k, 2: i, 3: -, 4: i, 5: i, 6: p, 7: k, 8: r, 9: q)\n",
        "Vector(0: r, 1: f, 2: w, 3: g, 4: n, 5: r, 6: y, 7: a, 8: i, 9: s)\n",
        "--\n",
        "Vector(0: y, 1: k, 2: f, 3: -, 4: q, 5: i, 6: y, 7: k, 8: w, 9: q)\n"
       ]
      },
      {
       "output_type": "stream",
       "stream": "stdout",
       "text": [
        "Vector(0: r, 1: f, 2: g, 3: g, 4: n, 5: r, 6: y, 7: a, 8: r, 9: s)\n",
        "--\n",
        "Vector(0: y, 1: k, 2: w, 3: -, 4: i, 5: r, 6: y, 7: k, 8: l, 9: q)\n",
        "Vector(0: r, 1: f, 2: i, 3: g, 4: n, 5: r, 6: y, 7: a, 8: r, 9: s)\n",
        "--\n",
        "Vector(0: y, 1: k, 2: w, 3: -, 4: i, 5: r, 6: y, 7: k, 8: r, 9: q)\n",
        "Vector(0: r, 1: f, 2: w, 3: g, 4: n, 5: c, 6: y, 7: a, 8: r, 9: s)\n",
        "--\n",
        "Vector(0: y, 1: k, 2: w, 3: -, 4: q, 5: r, 6: y, 7: k, 8: r, 9: q)\n"
       ]
      },
      {
       "output_type": "stream",
       "stream": "stdout",
       "text": [
        "Vector(0: i, 1: a, 2: q, 3: i, 4: n, 5: v, 6: -, 7: t, 8: k, 9: a)\n",
        "--\n",
        "Vector(0: y, 1: k, 2: f, 3: -, 4: q, 5: i, 6: n, 7: k, 8: n, 9: q)\n",
        "Vector(0: k, 1: p, 2: c, 3: g, 4: k, 5: r, 6: p, 7: a, 8: k, 9: s)\n",
        "--\n",
        "Vector(0: y, 1: k, 2: s, 3: -, 4: i, 5: y, 6: y, 7: k, 8: n, 9: q)\n",
        "Vector(0: r, 1: f, 2: w, 3: g, 4: n, 5: k, 6: y, 7: a, 8: r, 9: s)\n",
        "--\n",
        "Vector(0: v, 1: k, 2: s, 3: -, 4: i, 5: l, 6: y, 7: k, 8: d, 9: q)\n",
        "Vector(0: r, 1: f, 2: r, 3: g, 4: f, 5: r, 6: y, 7: a, 8: n, 9: s)\n",
        "--\n",
        "Vector(0: y, 1: k, 2: a, 3: -, 4: i, 5: q, 6: y, 7: k, 8: s, 9: q)\n"
       ]
      },
      {
       "output_type": "stream",
       "stream": "stdout",
       "text": [
        "Vector(0: m, 1: g, 2: w, 3: h, 4: n, 5: -, 6: r, 7: y, 8: r, 9: t)\n",
        "--\n",
        "Vector(0: y, 1: k, 2: i, 3: -, 4: i, 5: l, 6: y, 7: k, 8: r, 9: q)\n",
        "Vector(0: n, 1: m, 2: i, 3: q, 4: f, 5: r, 6: m, 7: c, 8: r, 9: s)\n",
        "--\n",
        "Vector(0: y, 1: k, 2: i, 3: -, 4: i, 5: n, 6: y, 7: k, 8: w, 9: q)\n",
        "Vector(0: r, 1: c, 2: q, 3: g, 4: r, 5: r, 6: a, 7: a, 8: r, 9: s)\n",
        "--\n",
        "Vector(0: y, 1: k, 2: f, 3: -, 4: i, 5: i, 6: y, 7: k, 8: n, 9: q)\n"
       ]
      },
      {
       "output_type": "stream",
       "stream": "stdout",
       "text": [
        "Vector(0: r, 1: f, 2: w, 3: g, 4: n, 5: e, 6: y, 7: a, 8: e, 9: s)\n",
        "--\n",
        "Vector(0: m, 1: k, 2: w, 3: -, 4: i, 5: r, 6: y, 7: k, 8: r, 9: q)\n",
        "Vector(0: r, 1: w, 2: t, 3: g, 4: n, 5: -, 6: y, 7: a, 8: r, 9: s)\n",
        "--\n",
        "Vector(0: y, 1: k, 2: w, 3: -, 4: q, 5: r, 6: y, 7: k, 8: g, 9: q)\n",
        "Vector(0: r, 1: v, 2: t, 3: g, 4: i, 5: r, 6: n, 7: a, 8: d, 9: c)\n",
        "--\n",
        "Vector(0: y, 1: k, 2: w, 3: -, 4: q, 5: f, 6: y, 7: k, 8: k, 9: q)\n"
       ]
      },
      {
       "output_type": "stream",
       "stream": "stdout",
       "text": [
        "Vector(0: r, 1: f, 2: w, 3: g, 4: n, 5: r, 6: y, 7: a, 8: r, 9: s)\n",
        "--\n",
        "Vector(0: y, 1: k, 2: w, 3: -, 4: q, 5: r, 6: y, 7: k, 8: s, 9: q)\n",
        "Vector(0: r, 1: m, 2: k, 3: g, 4: s, 5: i, 6: y, 7: a, 8: t, 9: s)\n",
        "--\n",
        "Vector(0: y, 1: k, 2: w, 3: -, 4: i, 5: e, 6: y, 7: k, 8: w, 9: q)\n",
        "Vector(0: e, 1: d, 2: w, 3: g, 4: f, 5: r, 6: y, 7: a, 8: s, 9: s)\n",
        "--\n",
        "Vector(0: y, 1: k, 2: w, 3: -, 4: i, 5: h, 6: y, 7: k, 8: m, 9: q)\n"
       ]
      },
      {
       "output_type": "stream",
       "stream": "stdout",
       "text": [
        "Vector(0: r, 1: f, 2: w, 3: a, 4: n, 5: v, 6: m, 7: a, 8: a, 9: s)\n",
        "--\n",
        "Vector(0: y, 1: k, 2: w, 3: -, 4: q, 5: m, 6: y, 7: k, 8: y, 9: q)\n",
        "Vector(0: t, 1: v, 2: w, 3: g, 4: n, 5: s, 6: h, 7: a, 8: a, 9: s)\n",
        "--\n",
        "Vector(0: y, 1: k, 2: w, 3: -, 4: q, 5: e, 6: d, 7: k, 8: q, 9: q)\n",
        "Vector(0: s, 1: s, 2: w, 3: g, 4: c, 5: r, 6: -, 7: w, 8: h, 9: a)\n",
        "--\n",
        "Vector(0: y, 1: k, 2: e, 3: -, 4: i, 5: e, 6: d, 7: g, 8: l, 9: q)\n",
        "Vector(0: r, 1: f, 2: -, 3: y, 4: n, 5: r, 6: y, 7: a, 8: r, 9: s)\n",
        "--\n",
        "Vector(0: m, 1: t, 2: e, 3: -, 4: i, 5: r, 6: d, 7: g, 8: r, 9: w)\n"
       ]
      },
      {
       "output_type": "stream",
       "stream": "stdout",
       "text": [
        "Vector(0: i, 1: f, 2: f, 3: g, 4: g, 5: r, 6: v, 7: t, 8: r, 9: f)\n",
        "--\n",
        "Vector(0: h, 1: t, 2: -, 3: f, 4: i, 5: r, 6: c, 7: g, 8: l, 9: w)\n",
        "Vector(0: r, 1: f, 2: w, 3: g, 4: n, 5: i, 6: y, 7: m, 8: k, 9: s)\n",
        "--\n",
        "Vector(0: h, 1: -, 2: f, 3: f, 4: i, 5: n, 6: c, 7: g, 8: l, 9: w)\n",
        "Vector(0: c, 1: e, 2: t, 3: r, 4: n, 5: k, 6: y, 7: d, 8: t, 9: s)\n",
        "--\n",
        "Vector(0: h, 1: t, 2: d, 3: f, 4: i, 5: n, 6: w, 7: g, 8: p, 9: w)\n"
       ]
      },
      {
       "output_type": "stream",
       "stream": "stdout",
       "text": [
        "Vector(0: c, 1: q, 2: h, 3: g, 4: c, 5: v, 6: q, 7: m, 8: -, 9: c)\n",
        "--\n",
        "Vector(0: h, 1: v, 2: v, 3: f, 4: i, 5: r, 6: w, 7: g, 8: r, 9: w)\n",
        "Vector(0: r, 1: v, 2: w, 3: g, 4: t, 5: s, 6: v, 7: m, 8: c, 9: s)\n",
        "--\n",
        "Vector(0: h, 1: -, 2: h, 3: f, 4: i, 5: k, 6: w, 7: g, 8: k, 9: w)\n",
        "Vector(0: r, 1: f, 2: w, 3: g, 4: k, 5: n, 6: y, 7: a, 8: -, 9: s)\n",
        "--\n",
        "Vector(0: h, 1: t, 2: v, 3: g, 4: i, 5: t, 6: w, 7: g, 8: r, 9: w)\n"
       ]
      },
      {
       "output_type": "stream",
       "stream": "stdout",
       "text": [
        "Vector(0: r, 1: f, 2: w, 3: g, 4: n, 5: r, 6: y, 7: a, 8: r, 9: s)\n",
        "--\n",
        "Vector(0: h, 1: v, 2: v, 3: v, 4: i, 5: w, 6: w, 7: g, 8: c, 9: w)\n",
        "Vector(0: r, 1: f, 2: r, 3: g, 4: n, 5: m, 6: y, 7: a, 8: r, 9: s)\n",
        "--\n",
        "Vector(0: h, 1: v, 2: l, 3: v, 4: i, 5: e, 6: c, 7: g, 8: q, 9: w)\n",
        "Vector(0: r, 1: f, 2: w, 3: g, 4: n, 5: r, 6: -, 7: a, 8: t, 9: s)\n",
        "--\n",
        "Vector(0: h, 1: v, 2: v, 3: a, 4: k, 5: -, 6: w, 7: g, 8: l, 9: w)\n"
       ]
      },
      {
       "output_type": "stream",
       "stream": "stdout",
       "text": [
        "Vector(0: w, 1: m, 2: i, 3: k, 4: n, 5: q, 6: s, 7: a, 8: q, 9: c)\n",
        "--\n",
        "Vector(0: h, 1: i, 2: v, 3: r, 4: i, 5: -, 6: w, 7: g, 8: r, 9: w)\n",
        "Vector(0: p, 1: i, 2: y, 3: m, 4: n, 5: e, 6: a, 7: -, 8: r, 9: f)\n",
        "--\n",
        "Vector(0: h, 1: i, 2: v, 3: g, 4: i, 5: e, 6: w, 7: g, 8: w, 9: w)\n",
        "Vector(0: r, 1: f, 2: c, 3: g, 4: n, 5: c, 6: y, 7: a, 8: r, 9: s)\n",
        "--\n",
        "Vector(0: h, 1: i, 2: v, 3: p, 4: i, 5: -, 6: w, 7: f, 8: g, 9: c)\n"
       ]
      },
      {
       "output_type": "stream",
       "stream": "stdout",
       "text": [
        "Vector(0: r, 1: d, 2: w, 3: g, 4: n, 5: g, 6: y, 7: a, 8: e, 9: y)\n",
        "--\n",
        "Vector(0: s, 1: i, 2: v, 3: i, 4: i, 5: r, 6: w, 7: f, 8: a, 9: c)\n",
        "Vector(0: r, 1: f, 2: w, 3: a, 4: n, 5: y, 6: y, 7: a, 8: r, 9: s)\n",
        "--\n",
        "Vector(0: s, 1: i, 2: v, 3: i, 4: i, 5: -, 6: w, 7: f, 8: n, 9: c)\n",
        "Vector(0: m, 1: f, 2: w, 3: m, 4: n, 5: i, 6: y, 7: a, 8: m, 9: s)\n",
        "--\n",
        "Vector(0: s, 1: i, 2: v, 3: i, 4: i, 5: t, 6: w, 7: w, 8: -, 9: c)\n",
        "Vector(0: r, 1: f, 2: w, 3: g, 4: n, 5: r, 6: y, 7: a, 8: r, 9: s)\n",
        "--\n",
        "Vector(0: s, 1: i, 2: v, 3: i, 4: s, 5: w, 6: w, 7: w, 8: d, 9: c)\n"
       ]
      },
      {
       "output_type": "stream",
       "stream": "stdout",
       "text": [
        "Vector(0: k, 1: h, 2: v, 3: a, 4: a, 5: a, 6: -, 7: a, 8: s, 9: e)\n",
        "--\n",
        "Vector(0: s, 1: i, 2: p, 3: i, 4: s, 5: e, 6: r, 7: w, 8: r, 9: c)\n",
        "Vector(0: r, 1: f, 2: m, 3: g, 4: -, 5: h, 6: y, 7: a, 8: r, 9: s)\n",
        "--\n",
        "Vector(0: s, 1: i, 2: w, 3: i, 4: s, 5: r, 6: r, 7: w, 8: n, 9: c)\n",
        "Vector(0: e, 1: a, 2: c, 3: w, 4: r, 5: l, 6: w, 7: g, 8: y, 9: l)\n",
        "--\n",
        "Vector(0: s, 1: i, 2: w, 3: i, 4: i, 5: r, 6: r, 7: f, 8: y, 9: c)\n"
       ]
      },
      {
       "output_type": "stream",
       "stream": "stdout",
       "text": [
        "Vector(0: r, 1: w, 2: w, 3: g, 4: n, 5: g, 6: y, 7: a, 8: r, 9: s)\n",
        "--\n",
        "Vector(0: s, 1: y, 2: w, 3: i, 4: i, 5: r, 6: r, 7: f, 8: -, 9: c)\n",
        "Vector(0: n, 1: r, 2: w, 3: t, 4: n, 5: t, 6: w, 7: a, 8: r, 9: s)\n",
        "--\n",
        "Vector(0: s, 1: i, 2: w, 3: i, 4: i, 5: r, 6: y, 7: f, 8: w, 9: c)\n",
        "Vector(0: k, 1: k, 2: w, 3: f, 4: n, 5: n, 6: y, 7: a, 8: r, 9: c)\n",
        "--\n",
        "Vector(0: s, 1: i, 2: w, 3: i, 4: s, 5: a, 6: r, 7: w, 8: r, 9: c)\n"
       ]
      },
      {
       "output_type": "stream",
       "stream": "stdout",
       "text": [
        "Vector(0: r, 1: f, 2: w, 3: g, 4: n, 5: r, 6: y, 7: a, 8: r, 9: s)\n",
        "--\n",
        "Vector(0: s, 1: i, 2: d, 3: i, 4: s, 5: w, 6: r, 7: w, 8: n, 9: c)\n",
        "Vector(0: r, 1: f, 2: v, 3: s, 4: n, 5: -, 6: y, 7: p, 8: f, 9: s)\n",
        "--\n",
        "Vector(0: s, 1: i, 2: i, 3: i, 4: s, 5: -, 6: r, 7: w, 8: w, 9: c)\n",
        "Vector(0: r, 1: f, 2: q, 3: q, 4: c, 5: a, 6: v, 7: e, 8: r, 9: s)\n",
        "--\n",
        "Vector(0: s, 1: i, 2: i, 3: g, 4: s, 5: l, 6: r, 7: w, 8: i, 9: c)\n"
       ]
      },
      {
       "output_type": "stream",
       "stream": "stdout",
       "text": [
        "Vector(0: r, 1: f, 2: r, 3: g, 4: n, 5: e, 6: y, 7: a, 8: r, 9: s)\n",
        "--\n",
        "Vector(0: s, 1: i, 2: a, 3: i, 4: s, 5: f, 6: r, 7: w, 8: -, 9: c)\n",
        "Vector(0: m, 1: f, 2: l, 3: y, 4: n, 5: k, 6: y, 7: a, 8: r, 9: s)\n",
        "--\n",
        "Vector(0: s, 1: i, 2: w, 3: i, 4: s, 5: w, 6: r, 7: w, 8: l, 9: c)\n",
        "Vector(0: f, 1: p, 2: m, 3: g, 4: n, 5: r, 6: y, 7: g, 8: s, 9: w)\n",
        "--\n",
        "Vector(0: s, 1: i, 2: i, 3: i, 4: s, 5: -, 6: r, 7: w, 8: r, 9: c)\n"
       ]
      },
      {
       "output_type": "stream",
       "stream": "stdout",
       "text": [
        "Vector(0: h, 1: d, 2: h, 3: g, 4: y, 5: w, 6: w, 7: -, 8: r, 9: k)\n",
        "--\n",
        "Vector(0: s, 1: i, 2: s, 3: g, 4: s, 5: l, 6: r, 7: w, 8: w, 9: c)\n",
        "Vector(0: a, 1: y, 2: c, 3: -, 4: l, 5: v, 6: t, 7: f, 8: v, 9: n)\n",
        "--\n",
        "Vector(0: s, 1: i, 2: i, 3: i, 4: s, 5: -, 6: r, 7: w, 8: n, 9: c)\n",
        "Vector(0: r, 1: f, 2: w, 3: g, 4: n, 5: f, 6: y, 7: a, 8: r, 9: s)\n",
        "--\n",
        "Vector(0: s, 1: i, 2: i, 3: i, 4: s, 5: w, 6: r, 7: w, 8: q, 9: c)\n"
       ]
      },
      {
       "output_type": "stream",
       "stream": "stdout",
       "text": [
        "Vector(0: r, 1: f, 2: w, 3: k, 4: a, 5: l, 6: y, 7: a, 8: r, 9: s)\n",
        "--\n",
        "Vector(0: s, 1: i, 2: i, 3: i, 4: s, 5: -, 6: r, 7: w, 8: g, 9: c)\n",
        "Vector(0: v, 1: h, 2: m, 3: i, 4: w, 5: r, 6: r, 7: a, 8: t, 9: l)\n",
        "--\n",
        "Vector(0: s, 1: i, 2: r, 3: g, 4: s, 5: w, 6: r, 7: w, 8: w, 9: c)\n",
        "Vector(0: n, 1: t, 2: d, 3: l, 4: e, 5: r, 6: y, 7: c, 8: w, 9: y)\n",
        "--\n",
        "Vector(0: s, 1: i, 2: i, 3: i, 4: q, 5: w, 6: r, 7: w, 8: g, 9: c)\n",
        "Vector(0: r, 1: a, 2: d, 3: g, 4: n, 5: p, 6: y, 7: a, 8: r, 9: s)\n",
        "--\n",
        "Vector(0: s, 1: i, 2: i, 3: e, 4: l, 5: l, 6: r, 7: w, 8: n, 9: c)\n"
       ]
      },
      {
       "output_type": "stream",
       "stream": "stdout",
       "text": [
        "Vector(0: r, 1: f, 2: w, 3: i, 4: n, 5: -, 6: y, 7: i, 8: r, 9: s)\n",
        "--\n",
        "Vector(0: s, 1: i, 2: i, 3: e, 4: l, 5: l, 6: r, 7: w, 8: d, 9: c)\n",
        "Vector(0: r, 1: f, 2: v, 3: e, 4: n, 5: a, 6: y, 7: a, 8: r, 9: s)\n",
        "--\n",
        "Vector(0: s, 1: i, 2: i, 3: e, 4: i, 5: -, 6: r, 7: f, 8: r, 9: c)\n",
        "Vector(0: c, 1: e, 2: k, 3: d, 4: t, 5: p, 6: y, 7: w, 8: k, 9: e)\n",
        "--\n",
        "Vector(0: s, 1: i, 2: r, 3: i, 4: l, 5: r, 6: r, 7: w, 8: c, 9: c)\n"
       ]
      },
      {
       "output_type": "stream",
       "stream": "stdout",
       "text": [
        "Vector(0: r, 1: f, 2: w, 3: g, 4: n, 5: v, 6: p, 7: a, 8: q, 9: s)\n",
        "--\n",
        "Vector(0: s, 1: i, 2: i, 3: i, 4: s, 5: -, 6: r, 7: w, 8: h, 9: c)\n",
        "Vector(0: r, 1: g, 2: q, 3: g, 4: a, 5: s, 6: y, 7: -, 8: r, 9: s)\n",
        "--\n",
        "Vector(0: s, 1: i, 2: r, 3: e, 4: m, 5: r, 6: v, 7: w, 8: y, 9: n)\n",
        "Vector(0: r, 1: f, 2: k, 3: g, 4: g, 5: r, 6: c, 7: n, 8: g, 9: s)\n",
        "--\n",
        "Vector(0: s, 1: i, 2: e, 3: e, 4: l, 5: e, 6: v, 7: w, 8: l, 9: d)\n"
       ]
      },
      {
       "output_type": "stream",
       "stream": "stdout",
       "text": [
        "Vector(0: r, 1: f, 2: w, 3: g, 4: n, 5: e, 6: y, 7: a, 8: r, 9: s)\n",
        "--\n",
        "Vector(0: v, 1: i, 2: e, 3: h, 4: l, 5: e, 6: v, 7: w, 8: s, 9: d)\n",
        "Vector(0: i, 1: c, 2: w, 3: g, 4: n, 5: r, 6: y, 7: a, 8: r, 9: s)\n",
        "--\n",
        "Vector(0: v, 1: i, 2: e, 3: a, 4: l, 5: e, 6: v, 7: w, 8: n, 9: d)\n",
        "Vector(0: s, 1: g, 2: v, 3: n, 4: s, 5: a, 6: a, 7: s, 8: r, 9: s)\n",
        "--\n",
        "Vector(0: v, 1: i, 2: e, 3: h, 4: l, 5: e, 6: v, 7: w, 8: a, 9: d)\n"
       ]
      },
      {
       "output_type": "stream",
       "stream": "stdout",
       "text": [
        "Vector(0: r, 1: f, 2: i, 3: g, 4: n, 5: r, 6: y, 7: a, 8: r, 9: s)\n",
        "--\n",
        "Vector(0: v, 1: i, 2: w, 3: e, 4: l, 5: e, 6: v, 7: w, 8: y, 9: d)\n",
        "Vector(0: r, 1: f, 2: w, 3: g, 4: n, 5: r, 6: y, 7: a, 8: i, 9: s)\n",
        "--\n",
        "Vector(0: s, 1: i, 2: n, 3: a, 4: l, 5: w, 6: v, 7: w, 8: w, 9: d)\n",
        "Vector(0: r, 1: f, 2: w, 3: g, 4: n, 5: r, 6: y, 7: a, 8: g, 9: s)\n",
        "--\n",
        "Vector(0: v, 1: i, 2: r, 3: a, 4: l, 5: r, 6: v, 7: w, 8: q, 9: d)\n"
       ]
      },
      {
       "output_type": "stream",
       "stream": "stdout",
       "text": [
        "Vector(0: r, 1: f, 2: w, 3: g, 4: n, 5: l, 6: y, 7: -, 8: p, 9: s)\n",
        "--\n",
        "Vector(0: v, 1: i, 2: n, 3: q, 4: l, 5: e, 6: v, 7: w, 8: s, 9: d)\n",
        "Vector(0: s, 1: f, 2: w, 3: g, 4: m, 5: e, 6: y, 7: a, 8: q, 9: s)\n",
        "--\n",
        "Vector(0: v, 1: i, 2: e, 3: h, 4: l, 5: r, 6: v, 7: w, 8: s, 9: v)\n",
        "Vector(0: r, 1: f, 2: w, 3: g, 4: n, 5: r, 6: y, 7: a, 8: r, 9: s)\n",
        "--\n",
        "Vector(0: f, 1: i, 2: e, 3: h, 4: l, 5: f, 6: v, 7: w, 8: q, 9: d)\n",
        "Vector(0: y, 1: m, 2: g, 3: -, 4: v, 5: r, 6: f, 7: w, 8: e, 9: h)\n",
        "--\n",
        "Vector(0: v, 1: i, 2: e, 3: h, 4: l, 5: r, 6: v, 7: w, 8: g, 9: d)\n"
       ]
      },
      {
       "output_type": "stream",
       "stream": "stdout",
       "text": [
        "Vector(0: r, 1: f, 2: p, 3: g, 4: n, 5: r, 6: y, 7: a, 8: q, 9: s)\n",
        "--\n",
        "Vector(0: v, 1: i, 2: w, 3: g, 4: l, 5: e, 6: p, 7: w, 8: l, 9: d)\n",
        "Vector(0: r, 1: f, 2: q, 3: g, 4: n, 5: k, 6: y, 7: a, 8: i, 9: s)\n",
        "--\n",
        "Vector(0: v, 1: i, 2: w, 3: h, 4: l, 5: e, 6: y, 7: w, 8: v, 9: d)\n",
        "Vector(0: r, 1: f, 2: i, 3: g, 4: n, 5: l, 6: y, 7: a, 8: s, 9: s)\n",
        "--\n",
        "Vector(0: v, 1: i, 2: w, 3: h, 4: l, 5: r, 6: v, 7: w, 8: r, 9: d)\n"
       ]
      },
      {
       "output_type": "stream",
       "stream": "stdout",
       "text": [
        "Vector(0: r, 1: f, 2: w, 3: f, 4: d, 5: r, 6: n, 7: i, 8: r, 9: s)\n",
        "--\n",
        "Vector(0: v, 1: i, 2: n, 3: i, 4: l, 5: r, 6: v, 7: w, 8: l, 9: d)\n",
        "Vector(0: a, 1: d, 2: n, 3: -, 4: n, 5: a, 6: e, 7: a, 8: d, 9: p)\n",
        "--\n",
        "Vector(0: d, 1: i, 2: n, 3: h, 4: l, 5: r, 6: v, 7: w, 8: -, 9: d)\n",
        "Vector(0: r, 1: d, 2: v, 3: k, 4: n, 5: l, 6: y, 7: a, 8: r, 9: s)\n",
        "--\n",
        "Vector(0: v, 1: i, 2: e, 3: h, 4: l, 5: e, 6: v, 7: w, 8: r, 9: d)\n"
       ]
      },
      {
       "output_type": "stream",
       "stream": "stdout",
       "text": [
        "Vector(0: r, 1: w, 2: k, 3: g, 4: l, 5: e, 6: y, 7: a, 8: l, 9: s)\n",
        "--\n",
        "Vector(0: v, 1: i, 2: e, 3: h, 4: l, 5: y, 6: v, 7: w, 8: l, 9: d)\n",
        "Vector(0: r, 1: f, 2: w, 3: g, 4: n, 5: e, 6: y, 7: y, 8: r, 9: s)\n",
        "--\n",
        "Vector(0: v, 1: i, 2: s, 3: a, 4: l, 5: l, 6: v, 7: w, 8: n, 9: d)\n",
        "Vector(0: v, 1: l, 2: g, 3: r, 4: e, 5: k, 6: v, 7: r, 8: r, 9: p)\n",
        "--\n",
        "Vector(0: v, 1: i, 2: s, 3: h, 4: l, 5: l, 6: v, 7: w, 8: l, 9: d)\n"
       ]
      },
      {
       "output_type": "stream",
       "stream": "stdout",
       "text": [
        "Vector(0: r, 1: f, 2: w, 3: t, 4: e, 5: i, 6: -, 7: v, 8: r, 9: s)\n",
        "--\n",
        "Vector(0: v, 1: i, 2: g, 3: h, 4: l, 5: n, 6: i, 7: w, 8: w, 9: d)\n",
        "Vector(0: r, 1: f, 2: w, 3: g, 4: n, 5: r, 6: y, 7: -, 8: r, 9: f)\n",
        "--\n",
        "Vector(0: v, 1: i, 2: d, 3: h, 4: l, 5: n, 6: v, 7: w, 8: h, 9: v)\n",
        "Vector(0: q, 1: w, 2: d, 3: g, 4: n, 5: w, 6: d, 7: i, 8: r, 9: y)\n",
        "--\n",
        "Vector(0: g, 1: i, 2: n, 3: h, 4: l, 5: w, 6: v, 7: w, 8: y, 9: v)\n"
       ]
      },
      {
       "output_type": "stream",
       "stream": "stdout",
       "text": [
        "Vector(0: r, 1: f, 2: w, 3: g, 4: n, 5: l, 6: y, 7: a, 8: r, 9: s)\n",
        "--\n",
        "Vector(0: n, 1: i, 2: d, 3: h, 4: l, 5: n, 6: i, 7: w, 8: w, 9: n)\n",
        "Vector(0: r, 1: f, 2: m, 3: e, 4: n, 5: f, 6: y, 7: a, 8: r, 9: s)\n",
        "--\n",
        "Vector(0: d, 1: i, 2: w, 3: h, 4: l, 5: e, 6: r, 7: w, 8: p, 9: p)\n",
        "Vector(0: r, 1: m, 2: e, 3: k, 4: g, 5: l, 6: y, 7: a, 8: n, 9: p)\n",
        "--\n",
        "Vector(0: n, 1: i, 2: w, 3: h, 4: l, 5: f, 6: i, 7: w, 8: t, 9: y)\n",
        "Vector(0: r, 1: f, 2: q, 3: g, 4: n, 5: w, 6: g, 7: f, 8: k, 9: s)\n",
        "--\n",
        "Vector(0: n, 1: i, 2: a, 3: h, 4: l, 5: r, 6: p, 7: w, 8: w, 9: w)\n"
       ]
      },
      {
       "output_type": "stream",
       "stream": "stdout",
       "text": [
        "Vector(0: m, 1: i, 2: w, 3: i, 4: n, 5: r, 6: y, 7: f, 8: r, 9: s)\n",
        "--\n",
        "Vector(0: d, 1: i, 2: w, 3: h, 4: l, 5: e, 6: p, 7: w, 8: m, 9: m)\n",
        "Vector(0: r, 1: d, 2: p, 3: f, 4: n, 5: e, 6: y, 7: a, 8: -, 9: f)\n",
        "--\n",
        "Vector(0: d, 1: i, 2: w, 3: r, 4: v, 5: e, 6: p, 7: w, 8: g, 9: k)\n",
        "Vector(0: r, 1: k, 2: m, 3: s, 4: h, 5: d, 6: w, 7: -, 8: e, 9: q)\n",
        "--\n",
        "Vector(0: d, 1: i, 2: w, 3: r, 4: v, 5: e, 6: y, 7: w, 8: i, 9: l)\n"
       ]
      },
      {
       "output_type": "stream",
       "stream": "stdout",
       "text": [
        "Vector(0: s, 1: v, 2: e, 3: t, 4: l, 5: v, 6: e, 7: a, 8: p, 9: e)\n",
        "--\n",
        "Vector(0: d, 1: i, 2: w, 3: r, 4: v, 5: e, 6: s, 7: w, 8: w, 9: l)\n",
        "Vector(0: r, 1: f, 2: d, 3: g, 4: n, 5: c, 6: y, 7: a, 8: r, 9: s)\n",
        "--\n",
        "Vector(0: d, 1: i, 2: a, 3: r, 4: v, 5: r, 6: i, 7: w, 8: r, 9: l)\n",
        "Vector(0: r, 1: f, 2: w, 3: g, 4: n, 5: r, 6: y, 7: a, 8: r, 9: s)\n",
        "--\n",
        "Vector(0: d, 1: i, 2: w, 3: r, 4: v, 5: r, 6: c, 7: g, 8: w, 9: w)\n"
       ]
      },
      {
       "output_type": "stream",
       "stream": "stdout",
       "text": [
        "Vector(0: r, 1: f, 2: w, 3: t, 4: n, 5: r, 6: y, 7: s, 8: s, 9: s)\n",
        "--\n",
        "Vector(0: d, 1: i, 2: w, 3: r, 4: v, 5: r, 6: c, 7: g, 8: v, 9: -)\n",
        "Vector(0: r, 1: f, 2: r, 3: g, 4: t, 5: v, 6: w, 7: -, 8: w, 9: s)\n",
        "--\n",
        "Vector(0: d, 1: i, 2: w, 3: r, 4: v, 5: r, 6: r, 7: k, 8: i, 9: q)\n",
        "Vector(0: f, 1: h, 2: l, 3: y, 4: p, 5: a, 6: g, 7: v, 8: -, 9: t)\n",
        "--\n",
        "Vector(0: d, 1: i, 2: w, 3: r, 4: v, 5: e, 6: y, 7: k, 8: c, 9: -)\n"
       ]
      },
      {
       "output_type": "stream",
       "stream": "stdout",
       "text": [
        "Vector(0: r, 1: f, 2: v, 3: g, 4: n, 5: r, 6: y, 7: a, 8: r, 9: s)\n",
        "--\n",
        "Vector(0: d, 1: i, 2: w, 3: r, 4: v, 5: r, 6: r, 7: k, 8: w, 9: -)\n",
        "Vector(0: f, 1: a, 2: r, 3: g, 4: f, 5: r, 6: y, 7: n, 8: v, 9: s)\n",
        "--\n",
        "Vector(0: d, 1: i, 2: w, 3: r, 4: v, 5: r, 6: t, 7: k, 8: r, 9: k)\n",
        "Vector(0: r, 1: f, 2: w, 3: g, 4: m, 5: r, 6: y, 7: a, 8: r, 9: s)\n",
        "--\n",
        "Vector(0: d, 1: i, 2: w, 3: r, 4: v, 5: r, 6: r, 7: w, 8: q, 9: l)\n"
       ]
      },
      {
       "output_type": "stream",
       "stream": "stdout",
       "text": [
        "Vector(0: r, 1: -, 2: y, 3: l, 4: e, 5: r, 6: a, 7: s, 8: v, 9: -)\n",
        "--\n",
        "Vector(0: l, 1: i, 2: w, 3: r, 4: v, 5: v, 6: n, 7: w, 8: g, 9: l)\n",
        "Vector(0: n, 1: v, 2: p, 3: g, 4: c, 5: r, 6: l, 7: g, 8: l, 9: w)\n",
        "--\n",
        "Vector(0: d, 1: i, 2: c, 3: r, 4: v, 5: l, 6: n, 7: w, 8: -, 9: l)\n",
        "Vector(0: l, 1: t, 2: s, 3: w, 4: v, 5: i, 6: c, 7: p, 8: r, 9: e)\n",
        "--\n",
        "Vector(0: d, 1: i, 2: s, 3: r, 4: v, 5: e, 6: n, 7: w, 8: r, 9: l)\n",
        "Vector(0: r, 1: f, 2: n, 3: g, 4: e, 5: l, 6: y, 7: a, 8: r, 9: s)\n",
        "--\n",
        "Vector(0: d, 1: i, 2: v, 3: r, 4: v, 5: r, 6: w, 7: w, 8: q, 9: l)\n"
       ]
      },
      {
       "output_type": "stream",
       "stream": "stdout",
       "text": [
        "Vector(0: r, 1: f, 2: w, 3: g, 4: n, 5: e, 6: y, 7: a, 8: f, 9: s)\n",
        "--\n",
        "Vector(0: d, 1: i, 2: h, 3: r, 4: v, 5: r, 6: v, 7: w, 8: i, 9: t)\n",
        "Vector(0: d, 1: y, 2: w, 3: i, 4: n, 5: g, 6: y, 7: d, 8: r, 9: t)\n",
        "--\n",
        "Vector(0: d, 1: i, 2: e, 3: r, 4: v, 5: e, 6: v, 7: w, 8: r, 9: m)\n"
       ]
      },
      {
       "output_type": "stream",
       "stream": "stdout",
       "text": [
        "Vector(0: m, 1: -, 2: i, 3: k, 4: l, 5: h, 6: w, 7: y, 8: n, 9: c)\n",
        "--\n",
        "Vector(0: d, 1: i, 2: e, 3: r, 4: v, 5: e, 6: v, 7: w, 8: r, 9: l)\n",
        "Vector(0: f, 1: y, 2: p, 3: v, 4: w, 5: f, 6: y, 7: q, 8: r, 9: c)\n",
        "--\n",
        "Vector(0: d, 1: i, 2: e, 3: r, 4: v, 5: e, 6: w, 7: g, 8: -, 9: w)\n"
       ]
      },
      {
       "output_type": "stream",
       "stream": "stdout",
       "text": [
        "Vector(0: r, 1: q, 2: t, 3: g, 4: f, 5: w, 6: y, 7: s, 8: r, 9: s)\n",
        "--\n",
        "Vector(0: d, 1: i, 2: e, 3: r, 4: v, 5: e, 6: w, 7: g, 8: w, 9: -)\n",
        "Vector(0: f, 1: t, 2: -, 3: y, 4: n, 5: y, 6: v, 7: a, 8: p, 9: s)\n",
        "--\n",
        "Vector(0: d, 1: i, 2: v, 3: r, 4: v, 5: -, 6: w, 7: g, 8: r, 9: -)\n"
       ]
      },
      {
       "output_type": "stream",
       "stream": "stdout",
       "text": [
        "Vector(0: r, 1: f, 2: k, 3: g, 4: w, 5: t, 6: k, 7: a, 8: s, 9: s)\n",
        "--\n",
        "Vector(0: d, 1: i, 2: v, 3: r, 4: v, 5: -, 6: w, 7: k, 8: t, 9: -)\n",
        "Vector(0: a, 1: a, 2: c, 3: p, 4: n, 5: g, 6: y, 7: a, 8: h, 9: g)\n",
        "--\n",
        "Vector(0: d, 1: i, 2: v, 3: r, 4: v, 5: t, 6: w, 7: g, 8: g, 9: w)\n"
       ]
      },
      {
       "output_type": "stream",
       "stream": "stdout",
       "text": [
        "Vector(0: r, 1: f, 2: h, 3: g, 4: k, 5: d, 6: y, 7: a, 8: q, 9: s)\n",
        "--\n",
        "Vector(0: d, 1: i, 2: v, 3: r, 4: v, 5: m, 6: w, 7: g, 8: r, 9: w)\n",
        "Vector(0: d, 1: i, 2: e, 3: -, 4: v, 5: c, 6: n, 7: w, 8: n, 9: t)\n",
        "--\n",
        "Vector(0: d, 1: i, 2: l, 3: r, 4: v, 5: e, 6: w, 7: g, 8: q, 9: -)\n",
        "Vector(0: a, 1: v, 2: w, 3: g, 4: n, 5: q, 6: y, 7: a, 8: r, 9: s)\n",
        "--\n",
        "Vector(0: d, 1: i, 2: v, 3: r, 4: v, 5: r, 6: w, 7: g, 8: q, 9: w)\n"
       ]
      },
      {
       "output_type": "stream",
       "stream": "stdout",
       "text": [
        "Vector(0: s, 1: p, 2: m, 3: r, 4: g, 5: y, 6: t, 7: a, 8: r, 9: d)\n",
        "--\n",
        "Vector(0: d, 1: i, 2: r, 3: r, 4: v, 5: w, 6: w, 7: g, 8: g, 9: -)\n",
        "Vector(0: r, 1: f, 2: w, 3: g, 4: m, 5: y, 6: y, 7: a, 8: p, 9: s)\n",
        "--\n",
        "Vector(0: d, 1: i, 2: p, 3: r, 4: v, 5: w, 6: w, 7: g, 8: q, 9: -)\n",
        "Vector(0: n, 1: d, 2: n, 3: g, 4: v, 5: y, 6: y, 7: l, 8: y, 9: k)\n",
        "--\n",
        "Vector(0: d, 1: i, 2: v, 3: r, 4: v, 5: t, 6: w, 7: g, 8: k, 9: -)\n"
       ]
      },
      {
       "output_type": "stream",
       "stream": "stdout",
       "text": [
        "Vector(0: v, 1: g, 2: v, 3: m, 4: e, 5: r, 6: v, 7: l, 8: k, 9: s)\n",
        "--\n",
        "Vector(0: d, 1: i, 2: v, 3: r, 4: v, 5: -, 6: w, 7: g, 8: g, 9: w)\n",
        "Vector(0: r, 1: y, 2: e, 3: g, 4: l, 5: r, 6: -, 7: m, 8: i, 9: s)\n",
        "--\n",
        "Vector(0: d, 1: i, 2: h, 3: r, 4: v, 5: -, 6: w, 7: g, 8: l, 9: w)\n",
        "Vector(0: r, 1: f, 2: w, 3: g, 4: n, 5: r, 6: y, 7: a, 8: c, 9: s)\n",
        "--\n",
        "Vector(0: d, 1: i, 2: t, 3: r, 4: v, 5: l, 6: c, 7: g, 8: -, 9: w)\n"
       ]
      },
      {
       "output_type": "stream",
       "stream": "stdout",
       "text": [
        "Vector(0: r, 1: f, 2: c, 3: g, 4: -, 5: -, 6: s, 7: a, 8: r, 9: s)\n",
        "--\n",
        "Vector(0: d, 1: i, 2: s, 3: r, 4: v, 5: l, 6: c, 7: g, 8: g, 9: w)\n",
        "Vector(0: r, 1: f, 2: w, 3: g, 4: n, 5: r, 6: y, 7: a, 8: v, 9: s)\n",
        "--\n",
        "Vector(0: d, 1: i, 2: s, 3: r, 4: v, 5: l, 6: c, 7: g, 8: q, 9: w)\n",
        "Vector(0: r, 1: -, 2: k, 3: y, 4: s, 5: n, 6: m, 7: f, 8: n, 9: s)\n",
        "--\n",
        "Vector(0: d, 1: i, 2: s, 3: r, 4: v, 5: e, 6: c, 7: g, 8: r, 9: w)\n"
       ]
      },
      {
       "output_type": "stream",
       "stream": "stdout",
       "text": [
        "Vector(0: r, 1: f, 2: w, 3: g, 4: n, 5: r, 6: y, 7: a, 8: r, 9: s)\n",
        "--\n",
        "Vector(0: d, 1: i, 2: w, 3: r, 4: v, 5: n, 6: c, 7: g, 8: f, 9: w)\n",
        "Vector(0: r, 1: f, 2: w, 3: g, 4: n, 5: r, 6: -, 7: q, 8: w, 9: s)\n",
        "--\n",
        "Vector(0: d, 1: i, 2: d, 3: r, 4: v, 5: w, 6: e, 7: w, 8: h, 9: l)\n",
        "Vector(0: l, 1: f, 2: d, 3: m, 4: n, 5: k, 6: g, 7: q, 8: d, 9: s)\n",
        "--\n",
        "Vector(0: l, 1: i, 2: p, 3: r, 4: h, 5: v, 6: n, 7: w, 8: g, 9: l)\n",
        "Vector(0: m, 1: v, 2: g, 3: g, 4: n, 5: v, 6: y, 7: a, 8: h, 9: m)\n",
        "--\n",
        "Vector(0: v, 1: i, 2: w, 3: r, 4: v, 5: r, 6: y, 7: w, 8: w, 9: l)\n"
       ]
      },
      {
       "output_type": "stream",
       "stream": "stdout",
       "text": [
        "Vector(0: r, 1: f, 2: w, 3: g, 4: n, 5: r, 6: y, 7: a, 8: e, 9: s)\n",
        "--\n",
        "Vector(0: d, 1: i, 2: w, 3: r, 4: v, 5: -, 6: r, 7: w, 8: q, 9: l)\n",
        "Vector(0: q, 1: r, 2: w, 3: g, 4: n, 5: e, 6: y, 7: a, 8: g, 9: s)\n",
        "--\n",
        "Vector(0: d, 1: i, 2: i, 3: r, 4: v, 5: w, 6: r, 7: w, 8: w, 9: l)\n",
        "Vector(0: r, 1: f, 2: w, 3: g, 4: n, 5: r, 6: -, 7: k, 8: a, 9: s)\n",
        "--\n",
        "Vector(0: d, 1: i, 2: i, 3: r, 4: v, 5: w, 6: d, 7: w, 8: r, 9: l)\n"
       ]
      },
      {
       "output_type": "stream",
       "stream": "stdout",
       "text": [
        "Vector(0: r, 1: r, 2: w, 3: y, 4: -, 5: i, 6: s, 7: e, 8: v, 9: q)\n",
        "--\n",
        "Vector(0: d, 1: i, 2: i, 3: r, 4: v, 5: l, 6: n, 7: g, 8: r, 9: l)\n",
        "Vector(0: r, 1: -, 2: w, 3: a, 4: n, 5: k, 6: k, 7: g, 8: r, 9: s)\n",
        "--\n",
        "Vector(0: l, 1: i, 2: s, 3: r, 4: v, 5: y, 6: c, 7: g, 8: h, 9: l)\n",
        "Vector(0: r, 1: v, 2: s, 3: t, 4: f, 5: r, 6: a, 7: a, 8: t, 9: s)\n",
        "--\n",
        "Vector(0: d, 1: i, 2: s, 3: g, 4: v, 5: c, 6: n, 7: w, 8: -, 9: l)\n"
       ]
      },
      {
       "output_type": "stream",
       "stream": "stdout",
       "text": [
        "Vector(0: r, 1: f, 2: r, 3: g, 4: t, 5: r, 6: y, 7: t, 8: v, 9: f)\n",
        "--\n",
        "Vector(0: d, 1: i, 2: -, 3: r, 4: v, 5: -, 6: d, 7: w, 8: r, 9: l)\n",
        "Vector(0: d, 1: i, 2: y, 3: r, 4: g, 5: s, 6: p, 7: p, 8: d, 9: y)\n",
        "--\n",
        "Vector(0: d, 1: i, 2: -, 3: r, 4: v, 5: g, 6: n, 7: w, 8: -, 9: l)\n",
        "Vector(0: r, 1: f, 2: a, 3: g, 4: e, 5: t, 6: y, 7: y, 8: r, 9: s)\n",
        "--\n",
        "Vector(0: d, 1: i, 2: s, 3: r, 4: v, 5: y, 6: n, 7: w, 8: r, 9: l)\n"
       ]
      },
      {
       "output_type": "stream",
       "stream": "stdout",
       "text": [
        "Vector(0: r, 1: i, 2: e, 3: r, 4: n, 5: r, 6: y, 7: w, 8: -, 9: s)\n",
        "--\n",
        "Vector(0: d, 1: i, 2: s, 3: r, 4: h, 5: y, 6: s, 7: w, 8: r, 9: l)\n",
        "Vector(0: q, 1: s, 2: w, 3: g, 4: f, 5: r, 6: y, 7: a, 8: h, 9: s)\n",
        "--\n",
        "Vector(0: g, 1: i, 2: s, 3: r, 4: h, 5: w, 6: n, 7: w, 8: c, 9: l)\n",
        "Vector(0: r, 1: f, 2: v, 3: g, 4: n, 5: r, 6: y, 7: a, 8: g, 9: s)\n",
        "--\n",
        "Vector(0: g, 1: i, 2: y, 3: r, 4: h, 5: i, 6: p, 7: w, 8: r, 9: k)\n"
       ]
      },
      {
       "output_type": "stream",
       "stream": "stdout",
       "text": [
        "Vector(0: q, 1: n, 2: w, 3: h, 4: s, 5: v, 6: l, 7: a, 8: r, 9: y)\n",
        "--\n",
        "Vector(0: s, 1: i, 2: f, 3: r, 4: h, 5: m, 6: p, 7: n, 8: k, 9: k)\n",
        "Vector(0: w, 1: c, 2: y, 3: p, 4: a, 5: g, 6: c, 7: a, 8: r, 9: s)\n",
        "--\n",
        "Vector(0: s, 1: i, 2: f, 3: r, 4: h, 5: n, 6: p, 7: w, 8: p, 9: k)\n",
        "Vector(0: t, 1: n, 2: c, 3: s, 4: c, 5: a, 6: d, 7: h, 8: e, 9: m)\n",
        "--\n",
        "Vector(0: d, 1: i, 2: w, 3: r, 4: v, 5: r, 6: p, 7: w, 8: t, 9: k)\n"
       ]
      },
      {
       "output_type": "stream",
       "stream": "stdout",
       "text": [
        "Vector(0: r, 1: f, 2: r, 3: g, 4: n, 5: d, 6: y, 7: m, 8: v, 9: s)\n",
        "--\n",
        "Vector(0: d, 1: i, 2: w, 3: r, 4: v, 5: e, 6: p, 7: w, 8: k, 9: k)\n",
        "Vector(0: y, 1: -, 2: l, 3: s, 4: g, 5: l, 6: i, 7: r, 8: g, 9: v)\n",
        "--\n",
        "Vector(0: d, 1: i, 2: p, 3: r, 4: v, 5: r, 6: p, 7: w, 8: k, 9: k)\n",
        "Vector(0: m, 1: n, 2: h, 3: y, 4: a, 5: s, 6: y, 7: s, 8: k, 9: i)\n",
        "--\n",
        "Vector(0: d, 1: i, 2: h, 3: r, 4: v, 5: r, 6: p, 7: w, 8: l, 9: k)\n"
       ]
      },
      {
       "output_type": "stream",
       "stream": "stdout",
       "text": [
        "Vector(0: r, 1: f, 2: s, 3: l, 4: d, 5: v, 6: y, 7: a, 8: r, 9: s)\n",
        "--\n",
        "Vector(0: d, 1: i, 2: n, 3: r, 4: d, 5: e, 6: p, 7: w, 8: w, 9: k)\n",
        "Vector(0: r, 1: a, 2: w, 3: g, 4: l, 5: v, 6: k, 7: r, 8: g, 9: y)\n",
        "--\n",
        "Vector(0: d, 1: i, 2: w, 3: r, 4: v, 5: e, 6: p, 7: w, 8: r, 9: k)\n",
        "Vector(0: r, 1: f, 2: w, 3: g, 4: n, 5: r, 6: y, 7: a, 8: r, 9: s)\n",
        "--\n",
        "Vector(0: d, 1: i, 2: w, 3: r, 4: v, 5: i, 6: p, 7: w, 8: q, 9: m)\n"
       ]
      },
      {
       "output_type": "stream",
       "stream": "stdout",
       "text": [
        "Vector(0: r, 1: f, 2: w, 3: g, 4: n, 5: r, 6: t, 7: a, 8: i, 9: s)\n",
        "--\n",
        "Vector(0: d, 1: i, 2: y, 3: r, 4: v, 5: p, 6: p, 7: w, 8: q, 9: m)\n",
        "Vector(0: g, 1: m, 2: i, 3: a, 4: w, 5: t, 6: d, 7: r, 8: e, 9: s)\n",
        "--\n",
        "Vector(0: d, 1: i, 2: f, 3: r, 4: v, 5: m, 6: p, 7: k, 8: r, 9: m)\n",
        "Vector(0: v, 1: w, 2: w, 3: v, 4: v, 5: r, 6: c, 7: t, 8: n, 9: m)\n",
        "--\n",
        "Vector(0: d, 1: i, 2: w, 3: r, 4: v, 5: r, 6: y, 7: k, 8: l, 9: p)\n",
        "Vector(0: r, 1: i, 2: f, 3: d, 4: l, 5: c, 6: y, 7: h, 8: r, 9: r)\n",
        "--\n",
        "Vector(0: d, 1: i, 2: w, 3: r, 4: v, 5: e, 6: y, 7: k, 8: w, 9: l)\n"
       ]
      },
      {
       "output_type": "stream",
       "stream": "stdout",
       "text": [
        "Vector(0: r, 1: f, 2: p, 3: g, 4: n, 5: r, 6: y, 7: a, 8: r, 9: s)\n",
        "--\n",
        "Vector(0: d, 1: i, 2: w, 3: r, 4: h, 5: e, 6: y, 7: k, 8: n, 9: q)\n",
        "Vector(0: r, 1: f, 2: t, 3: h, 4: n, 5: f, 6: i, 7: l, 8: i, 9: s)\n",
        "--\n",
        "Vector(0: d, 1: i, 2: w, 3: r, 4: v, 5: m, 6: y, 7: k, 8: p, 9: l)\n",
        "Vector(0: s, 1: q, 2: g, 3: g, 4: p, 5: n, 6: v, 7: a, 8: a, 9: -)\n",
        "--\n",
        "Vector(0: d, 1: i, 2: w, 3: r, 4: v, 5: r, 6: y, 7: k, 8: t, 9: q)\n"
       ]
      },
      {
       "output_type": "stream",
       "stream": "stdout",
       "text": [
        "Vector(0: h, 1: p, 2: g, 3: h, 4: s, 5: f, 6: y, 7: a, 8: e, 9: s)\n",
        "--\n",
        "Vector(0: d, 1: i, 2: w, 3: r, 4: v, 5: e, 6: y, 7: k, 8: r, 9: q)\n",
        "Vector(0: -, 1: l, 2: h, 3: r, 4: c, 5: c, 6: s, 7: k, 8: m, 9: g)\n",
        "--\n",
        "Vector(0: d, 1: i, 2: w, 3: r, 4: v, 5: r, 6: y, 7: k, 8: i, 9: q)\n",
        "Vector(0: n, 1: c, 2: d, 3: -, 4: v, 5: a, 6: y, 7: k, 8: r, 9: k)\n",
        "--\n",
        "Vector(0: d, 1: i, 2: w, 3: r, 4: v, 5: r, 6: y, 7: k, 8: g, 9: q)\n"
       ]
      },
      {
       "output_type": "stream",
       "stream": "stdout",
       "text": [
        "Vector(0: e, 1: i, 2: h, 3: f, 4: s, 5: s, 6: a, 7: l, 8: c, 9: s)\n",
        "--\n",
        "Vector(0: d, 1: i, 2: w, 3: r, 4: v, 5: r, 6: y, 7: k, 8: p, 9: s)\n",
        "Vector(0: r, 1: y, 2: w, 3: g, 4: n, 5: k, 6: y, 7: a, 8: n, 9: s)\n",
        "--\n",
        "Vector(0: d, 1: i, 2: w, 3: r, 4: v, 5: r, 6: y, 7: c, 8: a, 9: s)\n",
        "Vector(0: r, 1: f, 2: w, 3: g, 4: n, 5: r, 6: y, 7: a, 8: n, 9: s)\n",
        "--\n",
        "Vector(0: d, 1: i, 2: w, 3: r, 4: v, 5: e, 6: y, 7: k, 8: s, 9: q)\n"
       ]
      },
      {
       "output_type": "stream",
       "stream": "stdout",
       "text": [
        "Vector(0: r, 1: f, 2: w, 3: g, 4: n, 5: r, 6: y, 7: a, 8: y, 9: s)\n",
        "--\n",
        "Vector(0: d, 1: i, 2: w, 3: r, 4: v, 5: r, 6: y, 7: k, 8: h, 9: q)\n",
        "Vector(0: r, 1: h, 2: y, 3: q, 4: c, 5: r, 6: y, 7: s, 8: k, 9: l)\n",
        "--\n",
        "Vector(0: d, 1: i, 2: w, 3: r, 4: v, 5: r, 6: y, 7: k, 8: r, 9: l)\n",
        "Vector(0: i, 1: f, 2: s, 3: g, 4: n, 5: v, 6: y, 7: a, 8: a, 9: s)\n",
        "--\n",
        "Vector(0: d, 1: i, 2: w, 3: r, 4: v, 5: r, 6: y, 7: c, 8: l, 9: s)\n"
       ]
      },
      {
       "output_type": "stream",
       "stream": "stdout",
       "text": [
        "Vector(0: r, 1: m, 2: w, 3: g, 4: n, 5: f, 6: y, 7: n, 8: r, 9: s)\n",
        "--\n",
        "Vector(0: d, 1: i, 2: w, 3: r, 4: v, 5: r, 6: y, 7: k, 8: -, 9: l)\n",
        "Vector(0: r, 1: f, 2: w, 3: w, 4: n, 5: d, 6: q, 7: a, 8: i, 9: s)\n",
        "--\n",
        "Vector(0: d, 1: i, 2: w, 3: r, 4: v, 5: n, 6: y, 7: f, 8: l, 9: l)\n",
        "Vector(0: r, 1: f, 2: w, 3: g, 4: n, 5: r, 6: y, 7: a, 8: v, 9: s)\n",
        "--\n",
        "Vector(0: d, 1: i, 2: w, 3: r, 4: v, 5: e, 6: y, 7: k, 8: w, 9: q)\n",
        "Vector(0: r, 1: f, 2: a, 3: g, 4: n, 5: r, 6: a, 7: a, 8: l, 9: s)\n",
        "--\n",
        "Vector(0: d, 1: i, 2: w, 3: r, 4: v, 5: h, 6: y, 7: k, 8: w, 9: q)\n"
       ]
      },
      {
       "output_type": "stream",
       "stream": "stdout",
       "text": [
        "Vector(0: r, 1: f, 2: w, 3: g, 4: n, 5: c, 6: y, 7: a, 8: v, 9: s)\n",
        "--\n",
        "Vector(0: d, 1: i, 2: w, 3: r, 4: v, 5: i, 6: y, 7: k, 8: r, 9: q)\n",
        "Vector(0: r, 1: q, 2: r, 3: k, 4: -, 5: r, 6: y, 7: f, 8: r, 9: h)\n",
        "--\n",
        "Vector(0: d, 1: i, 2: w, 3: r, 4: v, 5: r, 6: y, 7: k, 8: s, 9: q)\n",
        "Vector(0: r, 1: f, 2: q, 3: g, 4: n, 5: r, 6: y, 7: a, 8: p, 9: s)\n",
        "--\n",
        "Vector(0: d, 1: i, 2: w, 3: r, 4: v, 5: v, 6: y, 7: k, 8: w, 9: q)\n"
       ]
      },
      {
       "output_type": "stream",
       "stream": "stdout",
       "text": [
        "Vector(0: k, 1: d, 2: -, 3: g, 4: i, 5: t, 6: t, 7: w, 8: s, 9: h)\n",
        "--\n",
        "Vector(0: d, 1: i, 2: w, 3: r, 4: v, 5: m, 6: y, 7: k, 8: p, 9: q)\n",
        "Vector(0: r, 1: f, 2: w, 3: g, 4: n, 5: e, 6: y, 7: a, 8: a, 9: s)\n",
        "--\n",
        "Vector(0: d, 1: i, 2: w, 3: r, 4: v, 5: r, 6: y, 7: k, 8: l, 9: k)\n",
        "Vector(0: q, 1: l, 2: w, 3: q, 4: y, 5: m, 6: s, 7: y, 8: t, 9: t)\n",
        "--\n",
        "Vector(0: d, 1: i, 2: e, 3: r, 4: v, 5: e, 6: t, 7: k, 8: q, 9: s)\n"
       ]
      },
      {
       "output_type": "stream",
       "stream": "stdout",
       "text": [
        "Vector(0: r, 1: y, 2: f, 3: m, 4: m, 5: t, 6: q, 7: y, 8: r, 9: f)\n",
        "--\n",
        "Vector(0: d, 1: i, 2: n, 3: r, 4: v, 5: r, 6: t, 7: k, 8: q, 9: -)\n",
        "Vector(0: s, 1: r, 2: s, 3: g, 4: n, 5: r, 6: y, 7: a, 8: r, 9: s)\n",
        "--\n",
        "Vector(0: d, 1: i, 2: n, 3: r, 4: v, 5: r, 6: l, 7: w, 8: k, 9: k)\n",
        "Vector(0: t, 1: g, 2: t, 3: r, 4: i, 5: e, 6: p, 7: f, 8: -, 9: h)\n",
        "--\n",
        "Vector(0: d, 1: i, 2: n, 3: r, 4: v, 5: w, 6: p, 7: w, 8: r, 9: k)\n"
       ]
      },
      {
       "output_type": "stream",
       "stream": "stdout",
       "text": [
        "Vector(0: r, 1: i, 2: w, 3: l, 4: k, 5: d, 6: y, 7: w, 8: r, 9: n)\n",
        "--\n",
        "Vector(0: d, 1: i, 2: f, 3: r, 4: v, 5: r, 6: p, 7: w, 8: r, 9: m)\n",
        "Vector(0: r, 1: f, 2: w, 3: g, 4: n, 5: w, 6: y, 7: a, 8: r, 9: s)\n",
        "--\n",
        "Vector(0: d, 1: i, 2: f, 3: r, 4: v, 5: m, 6: p, 7: k, 8: f, 9: k)\n",
        "Vector(0: e, 1: h, 2: y, 3: l, 4: t, 5: g, 6: y, 7: q, 8: f, 9: w)\n",
        "--\n",
        "Vector(0: d, 1: i, 2: f, 3: r, 4: v, 5: m, 6: t, 7: m, 8: r, 9: k)\n",
        "Vector(0: r, 1: f, 2: w, 3: g, 4: n, 5: y, 6: y, 7: a, 8: c, 9: s)\n",
        "--\n",
        "Vector(0: d, 1: i, 2: n, 3: r, 4: v, 5: w, 6: l, 7: w, 8: r, 9: l)\n"
       ]
      },
      {
       "output_type": "stream",
       "stream": "stdout",
       "text": [
        "Vector(0: r, 1: f, 2: n, 3: g, 4: f, 5: r, 6: y, 7: a, 8: p, 9: s)\n",
        "--\n",
        "Vector(0: d, 1: i, 2: i, 3: r, 4: v, 5: l, 6: c, 7: w, 8: y, 9: l)\n",
        "Vector(0: r, 1: f, 2: w, 3: g, 4: n, 5: r, 6: y, 7: a, 8: h, 9: s)\n",
        "--\n",
        "Vector(0: d, 1: i, 2: s, 3: r, 4: v, 5: l, 6: y, 7: k, 8: w, 9: l)\n",
        "Vector(0: r, 1: f, 2: p, 3: g, 4: n, 5: m, 6: y, 7: a, 8: m, 9: s)\n",
        "--\n",
        "Vector(0: d, 1: i, 2: s, 3: r, 4: v, 5: e, 6: c, 7: w, 8: s, 9: l)\n"
       ]
      },
      {
       "output_type": "stream",
       "stream": "stdout",
       "text": [
        "Vector(0: n, 1: r, 2: c, 3: g, 4: h, 5: r, 6: y, 7: d, 8: k, 9: s)\n",
        "--\n",
        "Vector(0: d, 1: i, 2: h, 3: r, 4: v, 5: -, 6: w, 7: g, 8: p, 9: w)\n",
        "Vector(0: r, 1: p, 2: i, 3: g, 4: c, 5: l, 6: y, 7: a, 8: -, 9: g)\n",
        "--\n",
        "Vector(0: d, 1: i, 2: e, 3: r, 4: v, 5: f, 6: w, 7: g, 8: k, 9: w)\n",
        "Vector(0: r, 1: f, 2: k, 3: g, 4: n, 5: l, 6: y, 7: t, 8: r, 9: s)\n",
        "--\n",
        "Vector(0: d, 1: i, 2: h, 3: r, 4: v, 5: d, 6: w, 7: g, 8: r, 9: w)\n"
       ]
      },
      {
       "output_type": "stream",
       "stream": "stdout",
       "text": [
        "Vector(0: t, 1: f, 2: n, 3: k, 4: k, 5: w, 6: y, 7: q, 8: v, 9: s)\n",
        "--\n",
        "Vector(0: d, 1: i, 2: a, 3: r, 4: v, 5: w, 6: i, 7: g, 8: -, 9: w)\n",
        "Vector(0: f, 1: f, 2: s, 3: c, 4: p, 5: g, 6: p, 7: a, 8: d, 9: i)\n",
        "--\n",
        "Vector(0: d, 1: i, 2: v, 3: r, 4: v, 5: -, 6: w, 7: g, 8: s, 9: w)\n",
        "Vector(0: r, 1: f, 2: w, 3: g, 4: m, 5: r, 6: y, 7: a, 8: n, 9: s)\n",
        "--\n",
        "Vector(0: d, 1: i, 2: v, 3: r, 4: v, 5: w, 6: w, 7: g, 8: g, 9: -)\n"
       ]
      },
      {
       "output_type": "stream",
       "stream": "stdout",
       "text": [
        "Vector(0: t, 1: v, 2: a, 3: g, 4: n, 5: m, 6: q, 7: d, 8: e, 9: a)\n",
        "--\n",
        "Vector(0: d, 1: i, 2: v, 3: r, 4: v, 5: e, 6: w, 7: g, 8: r, 9: w)\n",
        "Vector(0: c, 1: f, 2: w, 3: k, 4: a, 5: d, 6: v, 7: v, 8: r, 9: v)\n",
        "--\n",
        "Vector(0: d, 1: i, 2: e, 3: r, 4: v, 5: e, 6: w, 7: g, 8: i, 9: i)\n",
        "Vector(0: k, 1: f, 2: c, 3: g, 4: n, 5: r, 6: y, 7: a, 8: p, 9: s)\n",
        "--\n",
        "Vector(0: d, 1: i, 2: e, 3: r, 4: v, 5: r, 6: w, 7: g, 8: y, 9: w)\n"
       ]
      },
      {
       "output_type": "stream",
       "stream": "stdout",
       "text": [
        "Vector(0: k, 1: w, 2: w, 3: f, 4: q, 5: f, 6: h, 7: a, 8: d, 9: s)\n",
        "--\n",
        "Vector(0: d, 1: i, 2: e, 3: r, 4: v, 5: r, 6: w, 7: g, 8: -, 9: w)\n",
        "Vector(0: r, 1: c, 2: q, 3: g, 4: m, 5: c, 6: y, 7: r, 8: k, 9: s)\n",
        "--\n",
        "Vector(0: d, 1: i, 2: h, 3: r, 4: v, 5: l, 6: c, 7: g, 8: w, 9: w)\n",
        "Vector(0: n, 1: i, 2: v, 3: s, 4: q, 5: r, 6: i, 7: y, 8: r, 9: c)\n",
        "--\n",
        "Vector(0: d, 1: i, 2: k, 3: r, 4: v, 5: q, 6: c, 7: g, 8: t, 9: w)\n",
        "Vector(0: n, 1: f, 2: -, 3: g, 4: n, 5: r, 6: y, 7: a, 8: r, 9: s)\n",
        "--\n",
        "Vector(0: d, 1: r, 2: v, 3: r, 4: p, 5: -, 6: w, 7: g, 8: g, 9: -)\n"
       ]
      },
      {
       "output_type": "stream",
       "stream": "stdout",
       "text": [
        "Vector(0: r, 1: f, 2: i, 3: p, 4: e, 5: y, 6: y, 7: w, 8: r, 9: g)\n",
        "--\n",
        "Vector(0: d, 1: t, 2: v, 3: -, 4: p, 5: -, 6: w, 7: g, 8: l, 9: q)\n",
        "Vector(0: r, 1: f, 2: t, 3: g, 4: n, 5: r, 6: y, 7: a, 8: v, 9: s)\n",
        "--\n",
        "Vector(0: v, 1: k, 2: v, 3: -, 4: i, 5: q, 6: w, 7: k, 8: r, 9: q)\n",
        "Vector(0: a, 1: m, 2: l, 3: y, 4: k, 5: p, 6: k, 7: w, 8: w, 9: s)\n",
        "--\n",
        "Vector(0: y, 1: k, 2: p, 3: -, 4: q, 5: g, 6: f, 7: k, 8: r, 9: q)\n"
       ]
      },
      {
       "output_type": "stream",
       "stream": "stdout",
       "text": [
        "Vector(0: n, 1: d, 2: w, 3: g, 4: n, 5: c, 6: y, 7: a, 8: g, 9: s)\n",
        "--\n",
        "Vector(0: y, 1: k, 2: y, 3: -, 4: i, 5: e, 6: f, 7: k, 8: i, 9: q)\n",
        "Vector(0: r, 1: y, 2: f, 3: e, 4: d, 5: r, 6: y, 7: y, 8: m, 9: v)\n",
        "--\n",
        "Vector(0: y, 1: k, 2: e, 3: -, 4: i, 5: r, 6: y, 7: k, 8: s, 9: q)\n",
        "Vector(0: r, 1: f, 2: v, 3: g, 4: n, 5: v, 6: y, 7: m, 8: r, 9: s)\n",
        "--\n",
        "Vector(0: y, 1: k, 2: w, 3: -, 4: q, 5: h, 6: y, 7: k, 8: g, 9: q)\n"
       ]
      },
      {
       "output_type": "stream",
       "stream": "stdout",
       "text": [
        "Vector(0: r, 1: f, 2: w, 3: g, 4: n, 5: r, 6: y, 7: a, 8: a, 9: s)\n",
        "--\n",
        "Vector(0: y, 1: k, 2: w, 3: -, 4: i, 5: r, 6: y, 7: k, 8: n, 9: q)\n",
        "Vector(0: k, 1: f, 2: i, 3: g, 4: n, 5: e, 6: n, 7: a, 8: h, 9: s)\n",
        "--\n",
        "Vector(0: y, 1: k, 2: e, 3: -, 4: i, 5: f, 6: d, 7: g, 8: h, 9: q)\n",
        "Vector(0: r, 1: g, 2: v, 3: g, 4: n, 5: h, 6: y, 7: i, 8: q, 9: -)\n",
        "--\n",
        "Vector(0: y, 1: k, 2: a, 3: -, 4: p, 5: -, 6: d, 7: g, 8: w, 9: q)\n"
       ]
      },
      {
       "output_type": "stream",
       "stream": "stdout",
       "text": [
        "Vector(0: m, 1: f, 2: w, 3: g, 4: n, 5: k, 6: k, 7: a, 8: y, 9: s)\n",
        "--\n",
        "Vector(0: y, 1: k, 2: a, 3: -, 4: p, 5: r, 6: d, 7: g, 8: r, 9: q)\n",
        "Vector(0: k, 1: f, 2: w, 3: g, 4: l, 5: r, 6: y, 7: d, 8: n, 9: s)\n",
        "--\n",
        "Vector(0: y, 1: k, 2: e, 3: -, 4: p, 5: e, 6: d, 7: g, 8: c, 9: q)\n",
        "Vector(0: y, 1: w, 2: w, 3: g, 4: n, 5: g, 6: y, 7: l, 8: w, 9: h)\n",
        "--\n",
        "Vector(0: y, 1: k, 2: e, 3: -, 4: p, 5: e, 6: d, 7: k, 8: p, 9: q)\n"
       ]
      },
      {
       "output_type": "stream",
       "stream": "stdout",
       "text": [
        "Vector(0: w, 1: h, 2: w, 3: g, 4: n, 5: r, 6: y, 7: a, 8: i, 9: p)\n",
        "--\n",
        "Vector(0: y, 1: k, 2: e, 3: -, 4: i, 5: e, 6: y, 7: k, 8: w, 9: q)\n",
        "Vector(0: r, 1: f, 2: t, 3: y, 4: n, 5: l, 6: -, 7: a, 8: d, 9: s)\n",
        "--\n",
        "Vector(0: y, 1: k, 2: w, 3: -, 4: q, 5: r, 6: y, 7: k, 8: r, 9: q)\n",
        "Vector(0: r, 1: f, 2: w, 3: g, 4: g, 5: r, 6: t, 7: a, 8: n, 9: s)\n",
        "--\n",
        "Vector(0: y, 1: k, 2: w, 3: -, 4: q, 5: r, 6: p, 7: k, 8: q, 9: q)\n"
       ]
      },
      {
       "output_type": "stream",
       "stream": "stdout",
       "text": [
        "Vector(0: r, 1: f, 2: w, 3: g, 4: n, 5: r, 6: y, 7: a, 8: r, 9: s)\n",
        "--\n",
        "Vector(0: y, 1: k, 2: f, 3: -, 4: q, 5: y, 6: y, 7: k, 8: m, 9: q)\n",
        "Vector(0: c, 1: f, 2: w, 3: m, 4: s, 5: a, 6: -, 7: q, 8: r, 9: d)\n",
        "--\n",
        "Vector(0: y, 1: k, 2: s, 3: -, 4: q, 5: c, 6: y, 7: k, 8: g, 9: q)\n",
        "Vector(0: r, 1: h, 2: w, 3: p, 4: n, 5: r, 6: s, 7: a, 8: k, 9: n)\n",
        "--\n",
        "Vector(0: y, 1: k, 2: e, 3: -, 4: q, 5: y, 6: m, 7: n, 8: g, 9: q)\n",
        "Vector(0: t, 1: i, 2: q, 3: g, 4: t, 5: q, 6: y, 7: a, 8: r, 9: s)\n",
        "--\n",
        "Vector(0: y, 1: k, 2: n, 3: -, 4: p, 5: r, 6: m, 7: g, 8: w, 9: q)\n"
       ]
      },
      {
       "output_type": "stream",
       "stream": "stdout",
       "text": [
        "Vector(0: r, 1: f, 2: d, 3: g, 4: n, 5: q, 6: y, 7: a, 8: t, 9: s)\n",
        "--\n",
        "Vector(0: y, 1: k, 2: n, 3: -, 4: p, 5: r, 6: l, 7: g, 8: l, 9: q)\n",
        "Vector(0: l, 1: m, 2: m, 3: n, 4: n, 5: r, 6: l, 7: a, 8: w, 9: -)\n",
        "--\n",
        "Vector(0: y, 1: k, 2: n, 3: -, 4: p, 5: r, 6: d, 7: g, 8: h, 9: q)\n",
        "Vector(0: d, 1: g, 2: g, 3: v, 4: y, 5: h, 6: q, 7: e, 8: w, 9: s)\n",
        "--\n",
        "Vector(0: y, 1: k, 2: e, 3: -, 4: p, 5: c, 6: m, 7: g, 8: d, 9: n)\n"
       ]
      },
      {
       "output_type": "stream",
       "stream": "stdout",
       "text": [
        "Vector(0: r, 1: f, 2: w, 3: g, 4: n, 5: r, 6: y, 7: a, 8: r, 9: s)\n",
        "--\n",
        "Vector(0: y, 1: k, 2: p, 3: -, 4: p, 5: p, 6: w, 7: g, 8: r, 9: q)\n",
        "Vector(0: r, 1: f, 2: y, 3: g, 4: n, 5: q, 6: c, 7: a, 8: -, 9: s)\n",
        "--\n",
        "Vector(0: y, 1: k, 2: n, 3: -, 4: p, 5: r, 6: q, 7: g, 8: r, 9: q)\n",
        "Vector(0: e, 1: v, 2: n, 3: m, 4: m, 5: y, 6: l, 7: v, 8: r, 9: c)\n",
        "--\n",
        "Vector(0: y, 1: t, 2: n, 3: -, 4: p, 5: r, 6: w, 7: g, 8: r, 9: q)\n"
       ]
      },
      {
       "output_type": "stream",
       "stream": "stdout",
       "text": [
        "Vector(0: r, 1: f, 2: f, 3: g, 4: n, 5: r, 6: y, 7: a, 8: l, 9: s)\n",
        "--\n",
        "Vector(0: y, 1: t, 2: v, 3: -, 4: p, 5: w, 6: w, 7: g, 8: l, 9: l)\n",
        "Vector(0: y, 1: -, 2: w, 3: g, 4: n, 5: p, 6: c, 7: a, 8: g, 9: s)\n",
        "--\n",
        "Vector(0: v, 1: k, 2: v, 3: -, 4: p, 5: e, 6: w, 7: g, 8: i, 9: q)\n",
        "Vector(0: r, 1: w, 2: p, 3: a, 4: n, 5: q, 6: f, 7: a, 8: g, 9: s)\n",
        "--\n",
        "Vector(0: y, 1: k, 2: v, 3: -, 4: p, 5: w, 6: w, 7: g, 8: p, 9: q)\n"
       ]
      },
      {
       "output_type": "stream",
       "stream": "stdout",
       "text": [
        "Vector(0: h, 1: f, 2: f, 3: v, 4: n, 5: l, 6: y, 7: a, 8: y, 9: s)\n",
        "--\n",
        "Vector(0: y, 1: k, 2: v, 3: -, 4: i, 5: r, 6: w, 7: g, 8: g, 9: q)\n",
        "Vector(0: r, 1: f, 2: w, 3: g, 4: n, 5: r, 6: s, 7: e, 8: g, 9: s)\n",
        "--\n",
        "Vector(0: y, 1: k, 2: h, 3: -, 4: i, 5: r, 6: w, 7: k, 8: r, 9: q)\n",
        "Vector(0: r, 1: f, 2: w, 3: g, 4: n, 5: r, 6: y, 7: a, 8: t, 9: s)\n",
        "--\n",
        "Vector(0: g, 1: k, 2: h, 3: -, 4: i, 5: r, 6: d, 7: k, 8: l, 9: q)\n",
        "Vector(0: r, 1: f, 2: w, 3: g, 4: n, 5: e, 6: y, 7: a, 8: y, 9: s)\n",
        "--\n",
        "Vector(0: y, 1: k, 2: a, 3: -, 4: i, 5: d, 6: y, 7: k, 8: m, 9: q)\n"
       ]
      },
      {
       "output_type": "stream",
       "stream": "stdout",
       "text": [
        "Vector(0: r, 1: f, 2: w, 3: g, 4: n, 5: p, 6: y, 7: a, 8: r, 9: s)\n",
        "--\n",
        "Vector(0: y, 1: k, 2: a, 3: -, 4: i, 5: r, 6: f, 7: k, 8: k, 9: q)\n",
        "Vector(0: d, 1: l, 2: e, 3: l, 4: q, 5: k, 6: d, 7: s, 8: i, 9: m)\n",
        "--\n",
        "Vector(0: v, 1: k, 2: y, 3: -, 4: l, 5: m, 6: f, 7: d, 8: r, 9: v)\n",
        "Vector(0: q, 1: n, 2: r, 3: g, 4: d, 5: y, 6: t, 7: v, 8: e, 9: k)\n",
        "--\n",
        "Vector(0: v, 1: k, 2: l, 3: -, 4: l, 5: r, 6: k, 7: d, 8: r, 9: l)\n"
       ]
      },
      {
       "output_type": "stream",
       "stream": "stdout",
       "text": [
        "Vector(0: r, 1: f, 2: w, 3: g, 4: n, 5: r, 6: y, 7: a, 8: q, 9: s)\n",
        "--\n",
        "Vector(0: v, 1: k, 2: e, 3: -, 4: w, 5: e, 6: d, 7: d, 8: w, 9: l)\n",
        "Vector(0: g, 1: f, 2: w, 3: g, 4: n, 5: n, 6: y, 7: a, 8: m, 9: s)\n",
        "--\n",
        "Vector(0: v, 1: k, 2: e, 3: -, 4: l, 5: y, 6: y, 7: d, 8: c, 9: d)\n",
        "Vector(0: r, 1: c, 2: w, 3: g, 4: n, 5: k, 6: y, 7: a, 8: r, 9: s)\n",
        "--\n",
        "Vector(0: v, 1: k, 2: e, 3: -, 4: l, 5: r, 6: w, 7: d, 8: q, 9: d)\n"
       ]
      },
      {
       "output_type": "stream",
       "stream": "stdout",
       "text": [
        "Vector(0: r, 1: f, 2: w, 3: g, 4: n, 5: f, 6: e, 7: p, 8: r, 9: s)\n",
        "--\n",
        "Vector(0: v, 1: k, 2: v, 3: -, 4: l, 5: -, 6: w, 7: d, 8: k, 9: d)\n",
        "Vector(0: r, 1: f, 2: -, 3: g, 4: n, 5: d, 6: y, 7: a, 8: r, 9: s)\n",
        "--\n",
        "Vector(0: v, 1: k, 2: v, 3: -, 4: l, 5: m, 6: w, 7: d, 8: w, 9: v)\n",
        "Vector(0: r, 1: l, 2: n, 3: g, 4: n, 5: m, 6: y, 7: a, 8: r, 9: s)\n",
        "--\n",
        "Vector(0: v, 1: k, 2: v, 3: -, 4: l, 5: -, 6: w, 7: d, 8: w, 9: l)\n"
       ]
      },
      {
       "output_type": "stream",
       "stream": "stdout",
       "text": [
        "Vector(0: q, 1: k, 2: k, 3: l, 4: -, 5: s, 6: d, 7: w, 8: f, 9: a)\n",
        "--\n",
        "Vector(0: v, 1: k, 2: v, 3: -, 4: l, 5: e, 6: w, 7: d, 8: q, 9: w)\n",
        "Vector(0: r, 1: f, 2: w, 3: n, 4: n, 5: r, 6: y, 7: a, 8: r, 9: s)\n",
        "--\n",
        "Vector(0: v, 1: k, 2: e, 3: -, 4: l, 5: y, 6: d, 7: d, 8: k, 9: q)\n",
        "Vector(0: r, 1: f, 2: i, 3: g, 4: n, 5: h, 6: y, 7: a, 8: i, 9: s)\n",
        "--\n",
        "Vector(0: v, 1: k, 2: e, 3: -, 4: l, 5: e, 6: d, 7: k, 8: w, 9: q)\n"
       ]
      },
      {
       "output_type": "stream",
       "stream": "stdout",
       "text": [
        "Vector(0: r, 1: s, 2: s, 3: g, 4: n, 5: r, 6: y, 7: a, 8: f, 9: s)\n",
        "--\n",
        "Vector(0: y, 1: k, 2: e, 3: -, 4: q, 5: y, 6: y, 7: k, 8: r, 9: q)\n",
        "Vector(0: r, 1: f, 2: w, 3: g, 4: y, 5: m, 6: y, 7: n, 8: w, 9: s)\n",
        "--\n",
        "Vector(0: y, 1: k, 2: e, 3: -, 4: i, 5: e, 6: a, 7: k, 8: r, 9: n)\n",
        "Vector(0: r, 1: f, 2: w, 3: g, 4: n, 5: r, 6: y, 7: a, 8: f, 9: s)\n",
        "--\n",
        "Vector(0: m, 1: k, 2: h, 3: -, 4: i, 5: r, 6: y, 7: k, 8: i, 9: q)\n"
       ]
      },
      {
       "output_type": "stream",
       "stream": "stdout",
       "text": [
        "Vector(0: r, 1: f, 2: w, 3: g, 4: n, 5: s, 6: y, 7: a, 8: r, 9: s)\n",
        "--\n",
        "Vector(0: y, 1: k, 2: w, 3: -, 4: i, 5: m, 6: y, 7: k, 8: d, 9: q)\n",
        "Vector(0: r, 1: f, 2: q, 3: g, 4: n, 5: r, 6: y, 7: a, 8: w, 9: s)\n",
        "--\n",
        "Vector(0: y, 1: k, 2: w, 3: -, 4: q, 5: a, 6: y, 7: k, 8: d, 9: q)\n",
        "Vector(0: n, 1: m, 2: k, 3: h, 4: p, 5: h, 6: t, 7: s, 8: p, 9: q)\n",
        "--\n",
        "Vector(0: y, 1: k, 2: w, 3: -, 4: i, 5: r, 6: y, 7: k, 8: r, 9: q)\n"
       ]
      },
      {
       "output_type": "stream",
       "stream": "stdout",
       "text": [
        "Vector(0: k, 1: t, 2: -, 3: t, 4: a, 5: -, 6: y, 7: e, 8: h, 9: w)\n",
        "--\n",
        "Vector(0: y, 1: k, 2: w, 3: -, 4: i, 5: r, 6: y, 7: k, 8: r, 9: q)\n",
        "Vector(0: r, 1: f, 2: w, 3: g, 4: n, 5: r, 6: y, 7: a, 8: f, 9: s)\n",
        "--\n",
        "Vector(0: y, 1: k, 2: w, 3: -, 4: i, 5: r, 6: y, 7: k, 8: q, 9: q)\n",
        "Vector(0: r, 1: p, 2: w, 3: g, 4: n, 5: r, 6: y, 7: a, 8: h, 9: s)\n",
        "--\n",
        "Vector(0: l, 1: i, 2: w, 3: -, 4: i, 5: r, 6: y, 7: k, 8: w, 9: q)\n"
       ]
      },
      {
       "output_type": "stream",
       "stream": "stdout",
       "text": [
        "Vector(0: r, 1: c, 2: e, 3: v, 4: p, 5: n, 6: a, 7: t, 8: i, 9: i)\n",
        "--\n",
        "Vector(0: l, 1: k, 2: w, 3: -, 4: i, 5: -, 6: y, 7: k, 8: r, 9: q)\n",
        "Vector(0: e, 1: f, 2: g, 3: g, 4: s, 5: t, 6: t, 7: a, 8: e, 9: k)\n",
        "--\n",
        "Vector(0: m, 1: k, 2: i, 3: -, 4: t, 5: n, 6: y, 7: k, 8: p, 9: q)\n",
        "Vector(0: r, 1: f, 2: w, 3: g, 4: n, 5: r, 6: y, 7: a, 8: p, 9: s)\n",
        "--\n",
        "Vector(0: m, 1: k, 2: d, 3: -, 4: i, 5: a, 6: r, 7: k, 8: l, 9: n)\n",
        "Vector(0: r, 1: f, 2: m, 3: g, 4: n, 5: w, 6: y, 7: a, 8: a, 9: s)\n",
        "--\n",
        "Vector(0: m, 1: k, 2: r, 3: -, 4: i, 5: f, 6: v, 7: v, 8: i, 9: n)\n"
       ]
      },
      {
       "output_type": "stream",
       "stream": "stdout",
       "text": [
        "Vector(0: r, 1: f, 2: t, 3: g, 4: n, 5: r, 6: q, 7: a, 8: s, 9: s)\n",
        "--\n",
        "Vector(0: y, 1: k, 2: r, 3: -, 4: q, 5: f, 6: v, 7: w, 8: m, 9: n)\n",
        "Vector(0: f, 1: k, 2: q, 3: l, 4: g, 5: s, 6: g, 7: a, 8: l, 9: d)\n",
        "--\n",
        "Vector(0: y, 1: k, 2: e, 3: -, 4: q, 5: e, 6: w, 7: g, 8: w, 9: q)\n",
        "Vector(0: r, 1: q, 2: w, 3: g, 4: n, 5: r, 6: y, 7: a, 8: k, 9: s)\n",
        "--\n",
        "Vector(0: y, 1: k, 2: e, 3: -, 4: p, 5: e, 6: w, 7: g, 8: r, 9: q)\n"
       ]
      },
      {
       "output_type": "stream",
       "stream": "stdout",
       "text": [
        "Vector(0: r, 1: f, 2: w, 3: g, 4: n, 5: y, 6: y, 7: a, 8: k, 9: s)\n",
        "--\n",
        "Vector(0: y, 1: k, 2: e, 3: -, 4: p, 5: e, 6: d, 7: g, 8: q, 9: q)\n",
        "Vector(0: r, 1: f, 2: m, 3: g, 4: h, 5: d, 6: y, 7: a, 8: r, 9: s)\n",
        "--\n",
        "Vector(0: y, 1: k, 2: e, 3: -, 4: p, 5: e, 6: d, 7: g, 8: d, 9: q)\n",
        "Vector(0: r, 1: f, 2: p, 3: g, 4: n, 5: r, 6: a, 7: a, 8: r, 9: s)\n",
        "--\n",
        "Vector(0: y, 1: k, 2: y, 3: -, 4: p, 5: i, 6: p, 7: g, 8: q, 9: q)\n"
       ]
      },
      {
       "output_type": "stream",
       "stream": "stdout",
       "text": [
        "Vector(0: r, 1: f, 2: q, 3: g, 4: n, 5: r, 6: y, 7: a, 8: t, 9: s)\n",
        "--\n",
        "Vector(0: y, 1: k, 2: f, 3: -, 4: p, 5: m, 6: c, 7: g, 8: r, 9: s)\n",
        "Vector(0: r, 1: f, 2: -, 3: g, 4: n, 5: f, 6: y, 7: a, 8: f, 9: s)\n",
        "--\n",
        "Vector(0: v, 1: v, 2: w, 3: -, 4: p, 5: i, 6: -, 7: g, 8: -, 9: s)\n",
        "Vector(0: r, 1: f, 2: w, 3: g, 4: n, 5: r, 6: y, 7: a, 8: g, 9: s)\n",
        "--\n",
        "Vector(0: v, 1: t, 2: k, 3: -, 4: i, 5: n, 6: c, 7: g, 8: k, 9: w)\n"
       ]
      },
      {
       "output_type": "stream",
       "stream": "stdout",
       "text": [
        "Vector(0: w, 1: f, 2: t, 3: w, 4: m, 5: r, 6: r, 7: a, 8: f, 9: s)\n",
        "--\n",
        "Vector(0: n, 1: v, 2: q, 3: -, 4: p, 5: i, 6: c, 7: g, 8: h, 9: w)\n",
        "Vector(0: r, 1: f, 2: w, 3: g, 4: n, 5: r, 6: y, 7: a, 8: n, 9: s)\n",
        "--\n",
        "Vector(0: d, 1: t, 2: w, 3: -, 4: p, 5: e, 6: c, 7: g, 8: g, 9: w)\n",
        "Vector(0: r, 1: f, 2: r, 3: g, 4: w, 5: c, 6: y, 7: v, 8: q, 9: e)\n",
        "--\n",
        "Vector(0: d, 1: t, 2: w, 3: f, 4: p, 5: r, 6: c, 7: g, 8: i, 9: w)\n"
       ]
      },
      {
       "output_type": "stream",
       "stream": "stdout",
       "text": [
        "Vector(0: r, 1: f, 2: w, 3: g, 4: n, 5: s, 6: y, 7: a, 8: v, 9: s)\n",
        "--\n",
        "Vector(0: d, 1: t, 2: n, 3: f, 4: p, 5: r, 6: c, 7: g, 8: r, 9: w)\n",
        "Vector(0: r, 1: f, 2: w, 3: g, 4: n, 5: r, 6: y, 7: a, 8: r, 9: s)\n",
        "--\n",
        "Vector(0: d, 1: t, 2: n, 3: -, 4: p, 5: w, 6: c, 7: g, 8: t, 9: w)\n",
        "Vector(0: r, 1: t, 2: w, 3: g, 4: n, 5: r, 6: y, 7: a, 8: r, 9: s)\n",
        "--\n",
        "Vector(0: y, 1: t, 2: v, 3: -, 4: p, 5: w, 6: w, 7: g, 8: w, 9: q)\n",
        "Vector(0: r, 1: f, 2: w, 3: g, 4: n, 5: l, 6: y, 7: a, 8: r, 9: s)\n",
        "--\n",
        "Vector(0: y, 1: k, 2: v, 3: -, 4: p, 5: e, 6: w, 7: g, 8: -, 9: q)\n"
       ]
      },
      {
       "output_type": "stream",
       "stream": "stdout",
       "text": [
        "Vector(0: r, 1: v, 2: w, 3: y, 4: n, 5: s, 6: y, 7: a, 8: t, 9: s)\n",
        "--\n",
        "Vector(0: y, 1: k, 2: v, 3: -, 4: p, 5: -, 6: w, 7: g, 8: w, 9: q)\n",
        "Vector(0: a, 1: w, 2: l, 3: d, 4: c, 5: l, 6: y, 7: a, 8: d, 9: t)\n",
        "--\n",
        "Vector(0: y, 1: k, 2: v, 3: -, 4: p, 5: -, 6: w, 7: g, 8: w, 9: q)\n",
        "Vector(0: r, 1: f, 2: w, 3: g, 4: n, 5: -, 6: y, 7: a, 8: r, 9: s)\n",
        "--\n",
        "Vector(0: y, 1: k, 2: h, 3: -, 4: p, 5: m, 6: w, 7: g, 8: y, 9: q)\n"
       ]
      },
      {
       "output_type": "stream",
       "stream": "stdout",
       "text": [
        "Vector(0: r, 1: f, 2: w, 3: g, 4: h, 5: a, 6: m, 7: a, 8: y, 9: s)\n",
        "--\n",
        "Vector(0: y, 1: k, 2: l, 3: -, 4: p, 5: h, 6: k, 7: g, 8: r, 9: q)\n",
        "Vector(0: r, 1: f, 2: g, 3: g, 4: n, 5: r, 6: y, 7: a, 8: k, 9: c)\n",
        "--\n",
        "Vector(0: y, 1: k, 2: w, 3: -, 4: p, 5: r, 6: -, 7: n, 8: g, 9: q)\n",
        "Vector(0: r, 1: f, 2: w, 3: g, 4: n, 5: r, 6: y, 7: a, 8: w, 9: s)\n",
        "--\n",
        "Vector(0: y, 1: k, 2: s, 3: -, 4: q, 5: y, 6: m, 7: k, 8: r, 9: q)\n"
       ]
      },
      {
       "output_type": "stream",
       "stream": "stdout",
       "text": [
        "Vector(0: r, 1: l, 2: p, 3: g, 4: n, 5: r, 6: y, 7: a, 8: v, 9: s)\n",
        "--\n",
        "Vector(0: y, 1: k, 2: d, 3: -, 4: i, 5: w, 6: y, 7: k, 8: l, 9: n)\n",
        "Vector(0: r, 1: t, 2: g, 3: v, 4: n, 5: r, 6: y, 7: a, 8: s, 9: s)\n",
        "--\n",
        "Vector(0: m, 1: k, 2: i, 3: -, 4: i, 5: e, 6: y, 7: k, 8: m, 9: q)\n",
        "Vector(0: r, 1: f, 2: q, 3: v, 4: n, 5: i, 6: y, 7: a, 8: w, 9: s)\n",
        "--\n",
        "Vector(0: m, 1: k, 2: w, 3: -, 4: i, 5: e, 6: y, 7: k, 8: l, 9: n)\n"
       ]
      },
      {
       "output_type": "stream",
       "stream": "stdout",
       "text": [
        "Vector(0: r, 1: f, 2: w, 3: g, 4: n, 5: r, 6: y, 7: a, 8: e, 9: s)\n",
        "--\n",
        "Vector(0: m, 1: k, 2: w, 3: -, 4: i, 5: k, 6: y, 7: k, 8: r, 9: q)\n",
        "Vector(0: r, 1: f, 2: w, 3: g, 4: n, 5: r, 6: g, 7: v, 8: w, 9: p)\n",
        "--\n",
        "Vector(0: v, 1: k, 2: s, 3: -, 4: t, 5: y, 6: y, 7: k, 8: w, 9: q)\n",
        "Vector(0: r, 1: f, 2: w, 3: g, 4: n, 5: r, 6: y, 7: a, 8: h, 9: s)\n",
        "--\n",
        "Vector(0: y, 1: k, 2: s, 3: -, 4: q, 5: h, 6: y, 7: k, 8: r, 9: q)\n",
        "Vector(0: r, 1: f, 2: w, 3: e, 4: n, 5: r, 6: y, 7: a, 8: r, 9: s)\n",
        "--\n",
        "Vector(0: y, 1: k, 2: s, 3: -, 4: i, 5: e, 6: f, 7: k, 8: s, 9: q)\n"
       ]
      },
      {
       "output_type": "stream",
       "stream": "stdout",
       "text": [
        "Vector(0: k, 1: f, 2: m, 3: v, 4: i, 5: r, 6: h, 7: a, 8: k, 9: n)\n",
        "--\n",
        "Vector(0: y, 1: k, 2: y, 3: -, 4: i, 5: r, 6: f, 7: k, 8: q, 9: q)\n",
        "Vector(0: r, 1: w, 2: w, 3: g, 4: c, 5: r, 6: n, 7: a, 8: s, 9: s)\n",
        "--\n",
        "Vector(0: y, 1: k, 2: y, 3: -, 4: q, 5: w, 6: f, 7: k, 8: k, 9: q)\n",
        "Vector(0: r, 1: f, 2: w, 3: g, 4: n, 5: r, 6: y, 7: i, 8: g, 9: s)\n",
        "--\n",
        "Vector(0: y, 1: k, 2: y, 3: -, 4: i, 5: r, 6: f, 7: k, 8: p, 9: q)\n"
       ]
      },
      {
       "output_type": "stream",
       "stream": "stdout",
       "text": [
        "Vector(0: r, 1: f, 2: n, 3: g, 4: n, 5: r, 6: y, 7: a, 8: r, 9: s)\n",
        "--\n",
        "Vector(0: y, 1: k, 2: f, 3: -, 4: i, 5: m, 6: y, 7: k, 8: r, 9: q)\n",
        "Vector(0: d, 1: f, 2: c, 3: g, 4: i, 5: g, 6: f, 7: r, 8: k, 9: s)\n",
        "--\n",
        "Vector(0: y, 1: k, 2: f, 3: -, 4: i, 5: i, 6: y, 7: k, 8: w, 9: q)\n",
        "Vector(0: r, 1: f, 2: t, 3: g, 4: n, 5: r, 6: y, 7: a, 8: r, 9: s)\n",
        "--\n",
        "Vector(0: y, 1: k, 2: w, 3: -, 4: q, 5: r, 6: y, 7: k, 8: c, 9: q)\n"
       ]
      },
      {
       "output_type": "stream",
       "stream": "stdout",
       "text": [
        "Vector(0: r, 1: f, 2: w, 3: g, 4: n, 5: q, 6: h, 7: a, 8: r, 9: s)\n",
        "--\n",
        "Vector(0: y, 1: k, 2: e, 3: -, 4: q, 5: f, 6: d, 7: k, 8: l, 9: q)\n",
        "Vector(0: r, 1: f, 2: s, 3: t, 4: n, 5: a, 6: l, 7: -, 8: d, 9: s)\n",
        "--\n",
        "Vector(0: y, 1: k, 2: a, 3: -, 4: i, 5: w, 6: y, 7: k, 8: r, 9: q)\n",
        "Vector(0: r, 1: f, 2: w, 3: w, 4: n, 5: v, 6: y, 7: c, 8: r, 9: s)\n",
        "--\n",
        "Vector(0: y, 1: k, 2: i, 3: -, 4: i, 5: n, 6: y, 7: k, 8: r, 9: q)\n"
       ]
      },
      {
       "output_type": "stream",
       "stream": "stdout",
       "text": [
        "Vector(0: v, 1: c, 2: v, 3: l, 4: y, 5: d, 6: g, 7: m, 8: l, 9: y)\n",
        "--\n",
        "Vector(0: y, 1: k, 2: i, 3: -, 4: i, 5: -, 6: y, 7: k, 8: t, 9: q)\n",
        "Vector(0: n, 1: s, 2: c, 3: g, 4: n, 5: i, 6: l, 7: w, 8: k, 9: p)\n",
        "--\n",
        "Vector(0: y, 1: k, 2: i, 3: -, 4: q, 5: w, 6: y, 7: k, 8: r, 9: q)\n",
        "Vector(0: r, 1: m, 2: e, 3: l, 4: h, 5: r, 6: i, 7: g, 8: d, 9: s)\n",
        "--\n",
        "Vector(0: y, 1: k, 2: i, 3: -, 4: i, 5: w, 6: y, 7: k, 8: c, 9: q)\n"
       ]
      },
      {
       "output_type": "stream",
       "stream": "stdout",
       "text": [
        "Vector(0: h, 1: f, 2: w, 3: h, 4: w, 5: y, 6: y, 7: c, 8: t, 9: s)\n",
        "--\n",
        "Vector(0: y, 1: k, 2: i, 3: -, 4: q, 5: w, 6: y, 7: k, 8: v, 9: q)\n",
        "Vector(0: f, 1: d, 2: n, 3: w, 4: n, 5: p, 6: d, 7: t, 8: w, 9: p)\n",
        "--\n",
        "Vector(0: y, 1: k, 2: w, 3: -, 4: i, 5: r, 6: y, 7: k, 8: p, 9: q)\n",
        "Vector(0: r, 1: f, 2: w, 3: g, 4: n, 5: a, 6: y, 7: a, 8: r, 9: s)\n",
        "--\n",
        "Vector(0: y, 1: k, 2: w, 3: -, 4: q, 5: r, 6: y, 7: k, 8: w, 9: q)\n"
       ]
      },
      {
       "output_type": "stream",
       "stream": "stdout",
       "text": [
        "Vector(0: r, 1: f, 2: l, 3: w, 4: n, 5: h, 6: y, 7: a, 8: w, 9: s)\n",
        "--\n",
        "Vector(0: y, 1: k, 2: w, 3: -, 4: s, 5: r, 6: y, 7: k, 8: h, 9: q)\n",
        "Vector(0: r, 1: f, 2: e, 3: g, 4: n, 5: f, 6: y, 7: a, 8: a, 9: s)\n",
        "--\n",
        "Vector(0: y, 1: k, 2: w, 3: -, 4: i, 5: r, 6: y, 7: k, 8: i, 9: q)\n",
        "Vector(0: r, 1: y, 2: d, 3: n, 4: n, 5: r, 6: i, 7: a, 8: c, 9: s)\n",
        "--\n",
        "Vector(0: y, 1: k, 2: w, 3: -, 4: q, 5: f, 6: y, 7: k, 8: w, 9: q)\n",
        "Vector(0: r, 1: f, 2: w, 3: g, 4: n, 5: r, 6: y, 7: a, 8: r, 9: s)\n",
        "--\n",
        "Vector(0: y, 1: k, 2: w, 3: -, 4: i, 5: i, 6: y, 7: k, 8: q, 9: q)\n"
       ]
      },
      {
       "output_type": "stream",
       "stream": "stdout",
       "text": [
        "Vector(0: p, 1: l, 2: t, 3: h, 4: s, 5: y, 6: q, 7: q, 8: k, 9: m)\n",
        "--\n",
        "Vector(0: y, 1: k, 2: w, 3: -, 4: i, 5: e, 6: y, 7: k, 8: g, 9: q)\n",
        "Vector(0: r, 1: f, 2: q, 3: g, 4: n, 5: -, 6: y, 7: a, 8: i, 9: s)\n",
        "--\n",
        "Vector(0: y, 1: k, 2: w, 3: -, 4: q, 5: r, 6: y, 7: k, 8: s, 9: q)\n",
        "Vector(0: m, 1: f, 2: v, 3: g, 4: v, 5: r, 6: y, 7: a, 8: v, 9: s)\n",
        "--\n",
        "Vector(0: y, 1: k, 2: w, 3: -, 4: q, 5: e, 6: y, 7: k, 8: l, 9: q)\n"
       ]
      },
      {
       "output_type": "stream",
       "stream": "stdout",
       "text": [
        "Vector(0: r, 1: f, 2: r, 3: g, 4: n, 5: r, 6: y, 7: a, 8: r, 9: s)\n",
        "--\n",
        "Vector(0: y, 1: k, 2: a, 3: -, 4: i, 5: d, 6: y, 7: k, 8: s, 9: q)\n",
        "Vector(0: r, 1: f, 2: w, 3: g, 4: n, 5: k, 6: y, 7: a, 8: r, 9: s)\n",
        "--\n",
        "Vector(0: m, 1: k, 2: a, 3: -, 4: i, 5: r, 6: y, 7: k, 8: w, 9: l)\n",
        "Vector(0: r, 1: v, 2: y, 3: d, 4: n, 5: r, 6: y, 7: c, 8: v, 9: s)\n",
        "--\n",
        "Vector(0: m, 1: k, 2: w, 3: -, 4: i, 5: e, 6: y, 7: k, 8: k, 9: q)\n"
       ]
      },
      {
       "output_type": "stream",
       "stream": "stdout",
       "text": [
        "Vector(0: r, 1: f, 2: r, 3: g, 4: n, 5: r, 6: y, 7: a, 8: r, 9: s)\n",
        "--\n",
        "Vector(0: m, 1: k, 2: w, 3: -, 4: i, 5: e, 6: y, 7: k, 8: l, 9: q)\n",
        "Vector(0: r, 1: f, 2: t, 3: e, 4: n, 5: r, 6: y, 7: a, 8: r, 9: s)\n",
        "--\n",
        "Vector(0: y, 1: k, 2: w, 3: -, 4: q, 5: r, 6: y, 7: k, 8: k, 9: q)\n",
        "Vector(0: r, 1: f, 2: w, 3: g, 4: n, 5: r, 6: y, 7: a, 8: e, 9: s)\n",
        "--\n",
        "Vector(0: y, 1: k, 2: w, 3: -, 4: p, 5: r, 6: y, 7: k, 8: w, 9: n)\n"
       ]
      },
      {
       "output_type": "stream",
       "stream": "stdout",
       "text": [
        "Vector(0: r, 1: f, 2: w, 3: g, 4: n, 5: s, 6: y, 7: a, 8: r, 9: s)\n",
        "--\n",
        "Vector(0: y, 1: k, 2: w, 3: -, 4: q, 5: a, 6: y, 7: k, 8: w, 9: q)\n",
        "Vector(0: r, 1: f, 2: w, 3: g, 4: n, 5: r, 6: y, 7: a, 8: r, 9: s)\n",
        "--\n",
        "Vector(0: y, 1: k, 2: p, 3: -, 4: i, 5: g, 6: f, 7: k, 8: -, 9: q)\n",
        "Vector(0: r, 1: f, 2: w, 3: g, 4: n, 5: r, 6: y, 7: a, 8: m, 9: s)\n",
        "--\n",
        "Vector(0: l, 1: k, 2: y, 3: -, 4: i, 5: i, 6: f, 7: k, 8: w, 9: q)\n"
       ]
      },
      {
       "output_type": "stream",
       "stream": "stdout",
       "text": [
        "Vector(0: s, 1: f, 2: w, 3: g, 4: n, 5: w, 6: g, 7: a, 8: r, 9: s)\n",
        "--\n",
        "Vector(0: y, 1: k, 2: y, 3: -, 4: i, 5: i, 6: f, 7: k, 8: d, 9: q)\n",
        "Vector(0: r, 1: f, 2: m, 3: g, 4: a, 5: r, 6: y, 7: a, 8: r, 9: y)\n",
        "--\n",
        "Vector(0: y, 1: k, 2: y, 3: -, 4: q, 5: i, 6: f, 7: k, 8: r, 9: q)\n",
        "Vector(0: p, 1: f, 2: d, 3: w, 4: v, 5: w, 6: y, 7: v, 8: a, 9: s)\n",
        "--\n",
        "Vector(0: y, 1: k, 2: y, 3: -, 4: i, 5: t, 6: f, 7: k, 8: q, 9: q)\n",
        "Vector(0: r, 1: f, 2: w, 3: g, 4: n, 5: e, 6: y, 7: a, 8: r, 9: s)\n",
        "--\n",
        "Vector(0: v, 1: k, 2: y, 3: -, 4: i, 5: i, 6: f, 7: k, 8: g, 9: q)\n"
       ]
      },
      {
       "output_type": "stream",
       "stream": "stdout",
       "text": [
        "Vector(0: r, 1: f, 2: q, 3: y, 4: n, 5: g, 6: y, 7: a, 8: s, 9: s)\n",
        "--\n",
        "Vector(0: v, 1: k, 2: y, 3: -, 4: i, 5: m, 6: f, 7: k, 8: q, 9: q)\n",
        "Vector(0: r, 1: f, 2: f, 3: w, 4: n, 5: y, 6: n, 7: a, 8: e, 9: s)\n",
        "--\n",
        "Vector(0: g, 1: k, 2: y, 3: -, 4: i, 5: i, 6: f, 7: k, 8: q, 9: q)\n",
        "Vector(0: r, 1: f, 2: w, 3: g, 4: n, 5: r, 6: y, 7: a, 8: r, 9: s)\n",
        "--\n",
        "Vector(0: y, 1: k, 2: y, 3: -, 4: i, 5: i, 6: f, 7: k, 8: y, 9: q)\n"
       ]
      },
      {
       "output_type": "stream",
       "stream": "stdout",
       "text": [
        "Vector(0: r, 1: f, 2: w, 3: g, 4: d, 5: y, 6: y, 7: a, 8: r, 9: s)\n",
        "--\n",
        "Vector(0: y, 1: k, 2: y, 3: -, 4: q, 5: i, 6: f, 7: k, 8: d, 9: q)\n",
        "Vector(0: r, 1: f, 2: -, 3: g, 4: h, 5: h, 6: y, 7: -, 8: r, 9: s)\n",
        "--\n",
        "Vector(0: y, 1: k, 2: y, 3: -, 4: i, 5: w, 6: f, 7: k, 8: r, 9: q)\n",
        "Vector(0: i, 1: i, 2: q, 3: y, 4: e, 5: y, 6: d, 7: f, 8: n, 9: v)\n",
        "--\n",
        "Vector(0: y, 1: k, 2: y, 3: -, 4: i, 5: y, 6: f, 7: k, 8: q, 9: q)\n"
       ]
      },
      {
       "output_type": "stream",
       "stream": "stdout",
       "text": [
        "Vector(0: r, 1: f, 2: w, 3: g, 4: n, 5: r, 6: y, 7: a, 8: f, 9: s)\n",
        "--\n",
        "Vector(0: y, 1: k, 2: c, 3: -, 4: i, 5: -, 6: l, 7: k, 8: s, 9: q)\n",
        "Vector(0: r, 1: f, 2: w, 3: g, 4: n, 5: r, 6: l, 7: m, 8: a, 9: s)\n",
        "--\n",
        "Vector(0: y, 1: k, 2: i, 3: -, 4: q, 5: n, 6: n, 7: k, 8: r, 9: q)\n",
        "Vector(0: r, 1: f, 2: w, 3: g, 4: n, 5: r, 6: y, 7: a, 8: r, 9: s)\n",
        "--\n",
        "Vector(0: y, 1: k, 2: q, 3: -, 4: s, 5: y, 6: f, 7: k, 8: q, 9: q)\n"
       ]
      },
      {
       "output_type": "stream",
       "stream": "stdout",
       "text": [
        "Vector(0: r, 1: f, 2: t, 3: v, 4: n, 5: -, 6: r, 7: a, 8: a, 9: l)\n",
        "--\n",
        "Vector(0: y, 1: k, 2: y, 3: -, 4: q, 5: w, 6: f, 7: k, 8: k, 9: q)\n",
        "Vector(0: a, 1: c, 2: k, 3: g, 4: g, 5: f, 6: s, 7: d, 8: h, 9: v)\n",
        "--\n",
        "Vector(0: y, 1: k, 2: y, 3: -, 4: q, 5: i, 6: f, 7: k, 8: -, 9: q)\n",
        "Vector(0: r, 1: q, 2: e, 3: -, 4: n, 5: n, 6: y, 7: f, 8: s, 9: p)\n",
        "--\n",
        "Vector(0: y, 1: k, 2: y, 3: -, 4: q, 5: w, 6: f, 7: k, 8: y, 9: q)\n"
       ]
      },
      {
       "output_type": "stream",
       "stream": "stdout",
       "text": [
        "Vector(0: l, 1: n, 2: r, 3: w, 4: e, 5: m, 6: y, 7: k, 8: t, 9: h)\n",
        "--\n",
        "Vector(0: y, 1: k, 2: y, 3: -, 4: i, 5: y, 6: f, 7: k, 8: w, 9: q)\n",
        "Vector(0: r, 1: f, 2: w, 3: g, 4: n, 5: r, 6: y, 7: a, 8: -, 9: s)\n",
        "--\n",
        "Vector(0: m, 1: k, 2: y, 3: -, 4: i, 5: i, 6: f, 7: k, 8: r, 9: q)\n",
        "Vector(0: r, 1: f, 2: w, 3: g, 4: n, 5: g, 6: d, 7: -, 8: f, 9: p)\n",
        "--\n",
        "Vector(0: y, 1: k, 2: y, 3: -, 4: q, 5: i, 6: f, 7: k, 8: q, 9: q)\n",
        "Vector(0: r, 1: f, 2: r, 3: g, 4: n, 5: f, 6: y, 7: a, 8: r, 9: s)\n",
        "--\n",
        "Vector(0: y, 1: k, 2: y, 3: -, 4: q, 5: r, 6: f, 7: k, 8: p, 9: q)\n"
       ]
      },
      {
       "output_type": "stream",
       "stream": "stdout",
       "text": [
        "Vector(0: f, 1: f, 2: w, 3: a, 4: n, 5: r, 6: p, 7: a, 8: q, 9: s)\n",
        "--\n",
        "Vector(0: y, 1: k, 2: p, 3: -, 4: p, 5: w, 6: f, 7: g, 8: q, 9: q)\n",
        "Vector(0: r, 1: f, 2: w, 3: g, 4: n, 5: r, 6: y, 7: a, 8: w, 9: s)\n",
        "--\n",
        "Vector(0: y, 1: k, 2: y, 3: -, 4: p, 5: w, 6: f, 7: n, 8: d, 9: q)\n",
        "Vector(0: r, 1: n, 2: w, 3: w, 4: n, 5: y, 6: y, 7: a, 8: e, 9: s)\n",
        "--\n",
        "Vector(0: y, 1: k, 2: y, 3: -, 4: p, 5: i, 6: f, 7: g, 8: q, 9: q)\n"
       ]
      },
      {
       "output_type": "stream",
       "stream": "stdout",
       "text": [
        "Vector(0: r, 1: f, 2: w, 3: g, 4: n, 5: f, 6: y, 7: a, 8: r, 9: s)\n",
        "--\n",
        "Vector(0: y, 1: t, 2: y, 3: -, 4: p, 5: i, 6: p, 7: g, 8: g, 9: q)\n",
        "Vector(0: r, 1: f, 2: h, 3: g, 4: n, 5: y, 6: y, 7: a, 8: r, 9: s)\n",
        "--\n",
        "Vector(0: v, 1: k, 2: f, 3: -, 4: p, 5: i, 6: p, 7: g, 8: g, 9: q)\n",
        "Vector(0: d, 1: i, 2: w, 3: r, 4: v, 5: d, 6: p, 7: w, 8: g, 9: d)\n",
        "--\n",
        "Vector(0: y, 1: k, 2: w, 3: -, 4: p, 5: r, 6: w, 7: g, 8: w, 9: q)\n"
       ]
      },
      {
       "output_type": "stream",
       "stream": "stdout",
       "text": [
        "Vector(0: r, 1: f, 2: w, 3: g, 4: n, 5: l, 6: y, 7: a, 8: y, 9: s)\n",
        "--\n",
        "Vector(0: y, 1: k, 2: h, 3: -, 4: p, 5: r, 6: w, 7: g, 8: r, 9: q)\n",
        "Vector(0: r, 1: f, 2: w, 3: g, 4: n, 5: k, 6: y, 7: a, 8: c, 9: s)\n",
        "--\n",
        "Vector(0: y, 1: t, 2: h, 3: -, 4: p, 5: -, 6: w, 7: g, 8: l, 9: q)\n",
        "Vector(0: r, 1: f, 2: w, 3: g, 4: n, 5: r, 6: y, 7: a, 8: l, 9: s)\n",
        "--\n",
        "Vector(0: d, 1: t, 2: v, 3: -, 4: p, 5: -, 6: w, 7: g, 8: h, 9: -)\n"
       ]
      },
      {
       "output_type": "stream",
       "stream": "stdout",
       "text": [
        "Vector(0: d, 1: d, 2: r, 3: e, 4: r, 5: k, 6: f, 7: t, 8: r, 9: i)\n",
        "--\n",
        "Vector(0: d, 1: t, 2: h, 3: -, 4: p, 5: -, 6: w, 7: g, 8: m, 9: -)\n",
        "Vector(0: r, 1: f, 2: w, 3: g, 4: n, 5: f, 6: y, 7: a, 8: t, 9: s)\n",
        "--\n",
        "Vector(0: d, 1: t, 2: v, 3: -, 4: y, 5: w, 6: w, 7: -, 8: h, 9: q)\n",
        "Vector(0: r, 1: n, 2: w, 3: g, 4: n, 5: d, 6: y, 7: a, 8: r, 9: s)\n",
        "--\n",
        "Vector(0: d, 1: t, 2: p, 3: -, 4: y, 5: w, 6: f, 7: -, 8: r, 9: q)\n"
       ]
      },
      {
       "output_type": "stream",
       "stream": "stdout",
       "text": [
        "Vector(0: s, 1: w, 2: w, 3: w, 4: p, 5: m, 6: v, 7: v, 8: p, 9: c)\n",
        "--\n",
        "Vector(0: d, 1: d, 2: y, 3: -, 4: y, 5: t, 6: f, 7: -, 8: p, 9: q)\n",
        "Vector(0: a, 1: f, 2: n, 3: e, 4: w, 5: l, 6: h, 7: a, 8: g, 9: s)\n",
        "--\n",
        "Vector(0: d, 1: t, 2: y, 3: -, 4: y, 5: i, 6: m, 7: r, 8: w, 9: q)\n",
        "Vector(0: k, 1: k, 2: w, 3: t, 4: y, 5: -, 6: v, 7: s, 8: c, 9: a)\n",
        "--\n",
        "Vector(0: d, 1: t, 2: w, 3: -, 4: y, 5: e, 6: m, 7: -, 8: r, 9: q)\n",
        "Vector(0: r, 1: f, 2: w, 3: g, 4: n, 5: r, 6: y, 7: a, 8: a, 9: s)\n",
        "--\n",
        "Vector(0: d, 1: t, 2: w, 3: -, 4: y, 5: m, 6: y, 7: -, 8: w, 9: q)\n"
       ]
      },
      {
       "output_type": "stream",
       "stream": "stdout",
       "text": [
        "Vector(0: r, 1: f, 2: w, 3: g, 4: n, 5: r, 6: y, 7: a, 8: l, 9: s)\n",
        "--\n",
        "Vector(0: d, 1: t, 2: w, 3: -, 4: y, 5: r, 6: y, 7: -, 8: w, 9: q)\n",
        "Vector(0: r, 1: f, 2: r, 3: g, 4: n, 5: -, 6: y, 7: a, 8: w, 9: s)\n",
        "--\n",
        "Vector(0: d, 1: t, 2: a, 3: -, 4: y, 5: l, 6: d, 7: -, 8: w, 9: q)\n",
        "Vector(0: r, 1: f, 2: t, 3: l, 4: n, 5: h, 6: y, 7: a, 8: k, 9: s)\n",
        "--\n",
        "Vector(0: d, 1: t, 2: a, 3: -, 4: y, 5: d, 6: f, 7: g, 8: l, 9: q)\n"
       ]
      },
      {
       "output_type": "stream",
       "stream": "stdout",
       "text": [
        "Vector(0: r, 1: e, 2: g, 3: g, 4: l, 5: w, 6: e, 7: a, 8: r, 9: s)\n",
        "--\n",
        "Vector(0: l, 1: w, 2: y, 3: -, 4: v, 5: w, 6: q, 7: g, 8: m, 9: q)\n",
        "Vector(0: e, 1: v, 2: d, 3: g, 4: k, 5: f, 6: y, 7: y, 8: r, 9: c)\n",
        "--\n",
        "Vector(0: l, 1: i, 2: n, 3: -, 4: v, 5: w, 6: m, 7: g, 8: m, 9: q)\n",
        "Vector(0: g, 1: i, 2: m, 3: c, 4: v, 5: m, 6: s, 7: i, 8: r, 9: m)\n",
        "--\n",
        "Vector(0: d, 1: i, 2: y, 3: r, 4: v, 5: w, 6: f, 7: k, 8: y, 9: q)\n"
       ]
      },
      {
       "output_type": "stream",
       "stream": "stdout",
       "text": [
        "Vector(0: s, 1: e, 2: v, 3: v, 4: d, 5: r, 6: l, 7: w, 8: q, 9: k)\n",
        "--\n",
        "Vector(0: d, 1: i, 2: p, 3: r, 4: v, 5: q, 6: f, 7: k, 8: q, 9: -)\n",
        "Vector(0: r, 1: f, 2: w, 3: t, 4: g, 5: y, 6: y, 7: a, 8: p, 9: s)\n",
        "--\n",
        "Vector(0: d, 1: i, 2: p, 3: r, 4: v, 5: g, 6: a, 7: k, 8: p, 9: p)\n",
        "Vector(0: y, 1: h, 2: t, 3: a, 4: r, 5: r, 6: -, 7: s, 8: r, 9: y)\n",
        "--\n",
        "Vector(0: d, 1: i, 2: k, 3: r, 4: v, 5: n, 6: a, 7: w, 8: d, 9: l)\n"
       ]
      },
      {
       "output_type": "stream",
       "stream": "stdout",
       "text": [
        "Vector(0: r, 1: f, 2: r, 3: g, 4: n, 5: r, 6: y, 7: a, 8: a, 9: s)\n",
        "--\n",
        "Vector(0: l, 1: i, 2: c, 3: r, 4: m, 5: w, 6: n, 7: w, 8: k, 9: l)\n",
        "Vector(0: r, 1: f, 2: s, 3: g, 4: d, 5: r, 6: n, 7: q, 8: f, 9: s)\n",
        "--\n",
        "Vector(0: d, 1: i, 2: s, 3: r, 4: v, 5: w, 6: n, 7: w, 8: p, 9: l)\n",
        "Vector(0: n, 1: f, 2: t, 3: g, 4: n, 5: y, 6: e, 7: a, 8: s, 9: s)\n",
        "--\n",
        "Vector(0: d, 1: i, 2: d, 3: r, 4: v, 5: w, 6: q, 7: w, 8: c, 9: k)\n"
       ]
      },
      {
       "output_type": "stream",
       "stream": "stdout",
       "text": [
        "Vector(0: r, 1: f, 2: w, 3: g, 4: n, 5: r, 6: y, 7: a, 8: r, 9: s)\n",
        "--\n",
        "Vector(0: d, 1: i, 2: y, 3: r, 4: v, 5: w, 6: p, 7: w, 8: l, 9: k)\n",
        "Vector(0: i, 1: i, 2: d, 3: q, 4: v, 5: a, 6: y, 7: e, 8: p, 9: p)\n",
        "--\n",
        "Vector(0: d, 1: i, 2: n, 3: r, 4: v, 5: w, 6: p, 7: w, 8: p, 9: k)\n",
        "Vector(0: r, 1: f, 2: w, 3: g, 4: n, 5: r, 6: y, 7: a, 8: k, 9: s)\n",
        "--\n",
        "Vector(0: d, 1: i, 2: q, 3: r, 4: v, 5: r, 6: p, 7: w, 8: g, 9: k)\n"
       ]
      },
      {
       "output_type": "stream",
       "stream": "stdout",
       "text": [
        "Vector(0: s, 1: i, 2: f, 3: r, 4: h, 5: l, 6: y, 7: w, 8: r, 9: k)\n",
        "--\n",
        "Vector(0: d, 1: i, 2: n, 3: r, 4: v, 5: r, 6: p, 7: w, 8: k, 9: m)\n",
        "Vector(0: n, 1: k, 2: h, 3: g, 4: n, 5: r, 6: k, 7: l, 8: a, 9: s)\n",
        "--\n",
        "Vector(0: d, 1: i, 2: h, 3: r, 4: v, 5: -, 6: w, 7: w, 8: n, 9: l)\n",
        "Vector(0: r, 1: f, 2: w, 3: g, 4: n, 5: r, 6: y, 7: a, 8: y, 9: s)\n",
        "--\n",
        "Vector(0: d, 1: i, 2: v, 3: r, 4: v, 5: k, 6: w, 7: w, 8: t, 9: s)\n"
       ]
      },
      {
       "output_type": "stream",
       "stream": "stdout",
       "text": [
        "Vector(0: r, 1: f, 2: v, 3: g, 4: n, 5: a, 6: y, 7: e, 8: r, 9: s)\n",
        "--\n",
        "Vector(0: d, 1: i, 2: v, 3: r, 4: v, 5: i, 6: w, 7: g, 8: r, 9: w)\n",
        "Vector(0: r, 1: i, 2: w, 3: t, 4: n, 5: d, 6: d, 7: a, 8: i, 9: s)\n",
        "--\n",
        "Vector(0: d, 1: i, 2: h, 3: r, 4: v, 5: r, 6: w, 7: w, 8: r, 9: l)\n",
        "Vector(0: i, 1: q, 2: c, 3: g, 4: n, 5: c, 6: a, 7: e, 8: e, 9: f)\n",
        "--\n",
        "Vector(0: d, 1: i, 2: e, 3: r, 4: m, 5: e, 6: d, 7: w, 8: q, 9: l)\n",
        "Vector(0: r, 1: f, 2: i, 3: g, 4: n, 5: r, 6: y, 7: a, 8: e, 9: s)\n",
        "--\n",
        "Vector(0: l, 1: i, 2: e, 3: w, 4: v, 5: e, 6: v, 7: w, 8: k, 9: d)\n"
       ]
      },
      {
       "output_type": "stream",
       "stream": "stdout",
       "text": [
        "Vector(0: r, 1: f, 2: w, 3: g, 4: n, 5: q, 6: y, 7: a, 8: q, 9: m)\n",
        "--\n",
        "Vector(0: s, 1: i, 2: e, 3: e, 4: s, 5: e, 6: v, 7: w, 8: t, 9: n)\n",
        "Vector(0: r, 1: f, 2: k, 3: g, 4: n, 5: r, 6: y, 7: a, 8: r, 9: s)\n",
        "--\n",
        "Vector(0: s, 1: i, 2: e, 3: e, 4: i, 5: e, 6: v, 7: w, 8: g, 9: n)\n",
        "Vector(0: r, 1: f, 2: w, 3: r, 4: n, 5: r, 6: y, 7: a, 8: s, 9: s)\n",
        "--\n",
        "Vector(0: s, 1: i, 2: e, 3: i, 4: s, 5: e, 6: v, 7: w, 8: s, 9: d)\n"
       ]
      },
      {
       "output_type": "stream",
       "stream": "stdout",
       "text": [
        "Vector(0: r, 1: f, 2: w, 3: g, 4: n, 5: r, 6: y, 7: r, 8: v, 9: s)\n",
        "--\n",
        "Vector(0: v, 1: i, 2: e, 3: g, 4: l, 5: r, 6: v, 7: w, 8: q, 9: d)\n",
        "Vector(0: r, 1: l, 2: s, 3: g, 4: d, 5: r, 6: y, 7: a, 8: d, 9: s)\n",
        "--\n",
        "Vector(0: v, 1: i, 2: r, 3: a, 4: l, 5: a, 6: v, 7: w, 8: p, 9: d)\n",
        "Vector(0: q, 1: e, 2: m, 3: i, 4: n, 5: -, 6: y, 7: d, 8: -, 9: f)\n",
        "--\n",
        "Vector(0: v, 1: i, 2: r, 3: h, 4: l, 5: a, 6: v, 7: w, 8: r, 9: d)\n"
       ]
      },
      {
       "output_type": "stream",
       "stream": "stdout",
       "text": [
        "Vector(0: r, 1: f, 2: v, 3: g, 4: n, 5: r, 6: i, 7: a, 8: r, 9: s)\n",
        "--\n",
        "Vector(0: v, 1: i, 2: q, 3: h, 4: l, 5: i, 6: v, 7: w, 8: s, 9: d)\n",
        "Vector(0: s, 1: f, 2: w, 3: g, 4: n, 5: y, 6: y, 7: a, 8: s, 9: s)\n",
        "--\n",
        "Vector(0: v, 1: i, 2: f, 3: s, 4: l, 5: i, 6: p, 7: w, 8: s, 9: q)\n",
        "Vector(0: r, 1: l, 2: a, 3: g, 4: n, 5: r, 6: y, 7: a, 8: w, 9: s)\n",
        "--\n",
        "Vector(0: v, 1: i, 2: f, 3: e, 4: l, 5: i, 6: g, 7: w, 8: k, 9: v)\n"
       ]
      },
      {
       "output_type": "stream",
       "stream": "stdout",
       "text": [
        "Vector(0: v, 1: q, 2: q, 3: g, 4: n, 5: r, 6: y, 7: m, 8: k, 9: s)\n",
        "--\n",
        "Vector(0: v, 1: i, 2: -, 3: h, 4: l, 5: -, 6: n, 7: w, 8: q, 9: l)\n",
        "Vector(0: d, 1: q, 2: w, 3: c, 4: r, 5: g, 6: f, 7: k, 8: a, 9: t)\n",
        "--\n",
        "Vector(0: d, 1: i, 2: s, 3: a, 4: l, 5: l, 6: n, 7: w, 8: s, 9: l)\n",
        "Vector(0: r, 1: -, 2: w, 3: g, 4: n, 5: r, 6: y, 7: a, 8: d, 9: s)\n",
        "--\n",
        "Vector(0: d, 1: i, 2: s, 3: i, 4: v, 5: y, 6: n, 7: w, 8: c, 9: l)\n",
        "Vector(0: r, 1: f, 2: p, 3: g, 4: -, 5: r, 6: y, 7: a, 8: a, 9: s)\n",
        "--\n",
        "Vector(0: d, 1: i, 2: s, 3: r, 4: v, 5: y, 6: r, 7: y, 8: a, 9: -)\n"
       ]
      },
      {
       "output_type": "stream",
       "stream": "stdout",
       "text": [
        "Vector(0: i, 1: i, 2: r, 3: q, 4: i, 5: d, 6: y, 7: l, 8: r, 9: s)\n",
        "--\n",
        "Vector(0: d, 1: i, 2: s, 3: r, 4: v, 5: l, 6: c, 7: g, 8: d, 9: -)\n",
        "Vector(0: r, 1: f, 2: w, 3: g, 4: n, 5: r, 6: y, 7: a, 8: r, 9: s)\n",
        "--\n",
        "Vector(0: d, 1: i, 2: m, 3: r, 4: v, 5: l, 6: q, 7: k, 8: w, 9: -)\n",
        "Vector(0: r, 1: f, 2: w, 3: g, 4: n, 5: r, 6: y, 7: a, 8: g, 9: s)\n",
        "--\n",
        "Vector(0: d, 1: i, 2: m, 3: r, 4: v, 5: i, 6: l, 7: k, 8: n, 9: l)\n"
       ]
      },
      {
       "output_type": "stream",
       "stream": "stdout",
       "text": [
        "Vector(0: f, 1: f, 2: f, 3: g, 4: n, 5: i, 6: y, 7: a, 8: r, 9: s)\n",
        "--\n",
        "Vector(0: d, 1: i, 2: c, 3: r, 4: v, 5: q, 6: a, 7: f, 8: w, 9: l)\n",
        "Vector(0: r, 1: f, 2: w, 3: g, 4: n, 5: w, 6: y, 7: a, 8: r, 9: s)\n",
        "--\n",
        "Vector(0: d, 1: i, 2: p, 3: r, 4: v, 5: w, 6: d, 7: w, 8: i, 9: l)\n",
        "Vector(0: s, 1: f, 2: g, 3: q, 4: n, 5: a, 6: y, 7: a, 8: c, 9: s)\n",
        "--\n",
        "Vector(0: d, 1: i, 2: a, 3: r, 4: v, 5: r, 6: r, 7: w, 8: r, 9: l)\n"
       ]
      },
      {
       "output_type": "stream",
       "stream": "stdout",
       "text": [
        "Vector(0: r, 1: f, 2: g, 3: g, 4: n, 5: w, 6: y, 7: a, 8: -, 9: l)\n",
        "--\n",
        "Vector(0: d, 1: i, 2: r, 3: r, 4: v, 5: p, 6: v, 7: w, 8: r, 9: t)\n",
        "Vector(0: v, 1: f, 2: s, 3: i, 4: n, 5: k, 6: d, 7: a, 8: m, 9: s)\n",
        "--\n",
        "Vector(0: d, 1: i, 2: r, 3: r, 4: v, 5: a, 6: v, 7: w, 8: w, 9: -)\n",
        "Vector(0: r, 1: f, 2: w, 3: v, 4: n, 5: k, 6: y, 7: a, 8: s, 9: s)\n",
        "--\n",
        "Vector(0: d, 1: i, 2: r, 3: r, 4: v, 5: w, 6: v, 7: k, 8: q, 9: -)\n"
       ]
      },
      {
       "output_type": "stream",
       "stream": "stdout",
       "text": [
        "Vector(0: r, 1: r, 2: w, 3: g, 4: n, 5: d, 6: y, 7: a, 8: a, 9: s)\n",
        "--\n",
        "Vector(0: d, 1: i, 2: n, 3: r, 4: v, 5: r, 6: c, 7: l, 8: w, 9: w)\n",
        "Vector(0: a, 1: f, 2: c, 3: g, 4: n, 5: q, 6: p, 7: p, 8: y, 9: s)\n",
        "--\n",
        "Vector(0: d, 1: i, 2: w, 3: r, 4: r, 5: e, 6: c, 7: l, 8: q, 9: w)\n",
        "Vector(0: -, 1: f, 2: w, 3: g, 4: n, 5: r, 6: y, 7: a, 8: r, 9: s)\n",
        "--\n",
        "Vector(0: d, 1: i, 2: w, 3: i, 4: r, 5: r, 6: r, 7: f, 8: -, 9: c)\n",
        "Vector(0: r, 1: f, 2: w, 3: g, 4: n, 5: r, 6: y, 7: k, 8: r, 9: s)\n",
        "--\n",
        "Vector(0: d, 1: i, 2: w, 3: i, 4: v, 5: r, 6: r, 7: w, 8: a, 9: l)\n"
       ]
      },
      {
       "output_type": "stream",
       "stream": "stdout",
       "text": [
        "Vector(0: g, 1: w, 2: h, 3: g, 4: d, 5: r, 6: l, 7: q, 8: r, 9: t)\n",
        "--\n",
        "Vector(0: d, 1: i, 2: w, 3: r, 4: v, 5: e, 6: c, 7: w, 8: r, 9: l)\n",
        "Vector(0: r, 1: d, 2: w, 3: g, 4: n, 5: r, 6: r, 7: a, 8: h, 9: s)\n",
        "--\n",
        "Vector(0: d, 1: i, 2: v, 3: r, 4: v, 5: g, 6: w, 7: w, 8: h, 9: l)\n",
        "Vector(0: p, 1: w, 2: f, 3: g, 4: w, 5: -, 6: t, 7: a, 8: t, 9: -)\n",
        "--\n",
        "Vector(0: d, 1: i, 2: p, 3: r, 4: v, 5: w, 6: n, 7: w, 8: s, 9: l)\n"
       ]
      },
      {
       "output_type": "stream",
       "stream": "stdout",
       "text": [
        "Vector(0: i, 1: r, 2: l, 3: f, 4: f, 5: q, 6: g, 7: -, 8: c, 9: l)\n",
        "--\n",
        "Vector(0: d, 1: i, 2: y, 3: r, 4: v, 5: i, 6: n, 7: w, 8: k, 9: l)\n",
        "Vector(0: n, 1: m, 2: f, 3: g, 4: n, 5: l, 6: y, 7: t, 8: m, 9: i)\n",
        "--\n",
        "Vector(0: d, 1: i, 2: f, 3: r, 4: v, 5: p, 6: n, 7: w, 8: r, 9: l)\n",
        "Vector(0: r, 1: p, 2: w, 3: h, 4: f, 5: v, 6: w, 7: s, 8: r, 9: s)\n",
        "--\n",
        "Vector(0: d, 1: i, 2: p, 3: r, 4: d, 5: p, 6: w, 7: w, 8: r, 9: l)\n"
       ]
      },
      {
       "output_type": "stream",
       "stream": "stdout",
       "text": [
        "Vector(0: -, 1: f, 2: p, 3: m, 4: n, 5: g, 6: -, 7: a, 8: d, 9: s)\n",
        "--\n",
        "Vector(0: d, 1: i, 2: p, 3: r, 4: v, 5: l, 6: n, 7: w, 8: g, 9: l)\n",
        "Vector(0: r, 1: f, 2: y, 3: g, 4: p, 5: i, 6: y, 7: y, 8: r, 9: s)\n",
        "--\n",
        "Vector(0: d, 1: i, 2: s, 3: r, 4: v, 5: l, 6: n, 7: w, 8: q, 9: l)\n",
        "Vector(0: r, 1: f, 2: w, 3: g, 4: n, 5: v, 6: y, 7: a, 8: l, 9: s)\n",
        "--\n",
        "Vector(0: d, 1: i, 2: s, 3: r, 4: v, 5: l, 6: n, 7: w, 8: w, 9: -)\n"
       ]
      },
      {
       "output_type": "stream",
       "stream": "stdout",
       "text": [
        "Vector(0: r, 1: f, 2: w, 3: g, 4: n, 5: r, 6: q, 7: a, 8: -, 9: s)\n",
        "--\n",
        "Vector(0: d, 1: i, 2: l, 3: r, 4: v, 5: e, 6: r, 7: w, 8: t, 9: l)\n",
        "Vector(0: r, 1: c, 2: r, 3: r, 4: n, 5: q, 6: y, 7: a, 8: q, 9: s)\n",
        "--\n",
        "Vector(0: d, 1: i, 2: l, 3: r, 4: v, 5: -, 6: i, 7: w, 8: r, 9: l)\n",
        "Vector(0: r, 1: f, 2: w, 3: n, 4: p, 5: y, 6: y, 7: y, 8: i, 9: t)\n",
        "--\n",
        "Vector(0: d, 1: i, 2: q, 3: r, 4: l, 5: y, 6: d, 7: k, 8: h, 9: q)\n"
       ]
      },
      {
       "output_type": "stream",
       "stream": "stdout",
       "text": [
        "Vector(0: d, 1: s, 2: d, 3: r, 4: h, 5: l, 6: t, 7: y, 8: r, 9: s)\n",
        "--\n",
        "Vector(0: d, 1: i, 2: e, 3: g, 4: v, 5: l, 6: y, 7: k, 8: w, 9: q)\n",
        "Vector(0: r, 1: d, 2: r, 3: g, 4: n, 5: r, 6: y, 7: a, 8: w, 9: s)\n",
        "--\n",
        "Vector(0: d, 1: i, 2: i, 3: r, 4: v, 5: w, 6: y, 7: k, 8: -, 9: l)\n",
        "Vector(0: q, 1: p, 2: f, 3: g, 4: n, 5: r, 6: e, 7: c, 8: h, 9: s)\n",
        "--\n",
        "Vector(0: d, 1: i, 2: i, 3: r, 4: v, 5: -, 6: y, 7: w, 8: s, 9: l)\n"
       ]
      },
      {
       "output_type": "stream",
       "stream": "stdout",
       "text": [
        "Vector(0: r, 1: f, 2: k, 3: g, 4: n, 5: t, 6: y, 7: a, 8: -, 9: e)\n",
        "--\n",
        "Vector(0: d, 1: i, 2: w, 3: r, 4: v, 5: r, 6: r, 7: w, 8: h, 9: l)\n",
        "Vector(0: r, 1: f, 2: n, 3: g, 4: n, 5: r, 6: y, 7: a, 8: r, 9: s)\n",
        "--\n",
        "Vector(0: d, 1: i, 2: w, 3: r, 4: v, 5: e, 6: n, 7: w, 8: i, 9: l)\n",
        "Vector(0: r, 1: f, 2: -, 3: g, 4: l, 5: r, 6: y, 7: a, 8: l, 9: s)\n",
        "--\n",
        "Vector(0: l, 1: i, 2: l, 3: w, 4: v, 5: m, 6: n, 7: w, 8: t, 9: l)\n",
        "Vector(0: r, 1: f, 2: w, 3: g, 4: n, 5: r, 6: y, 7: a, 8: r, 9: s)\n",
        "--\n",
        "Vector(0: l, 1: i, 2: f, 3: v, 4: v, 5: i, 6: c, 7: w, 8: w, 9: l)\n"
       ]
      },
      {
       "output_type": "stream",
       "stream": "stdout",
       "text": [
        "Vector(0: h, 1: f, 2: w, 3: g, 4: n, 5: r, 6: n, 7: a, 8: r, 9: s)\n",
        "--\n",
        "Vector(0: v, 1: i, 2: w, 3: r, 4: v, 5: e, 6: c, 7: w, 8: g, 9: l)\n",
        "Vector(0: r, 1: f, 2: w, 3: g, 4: n, 5: -, 6: y, 7: a, 8: r, 9: s)\n",
        "--\n",
        "Vector(0: d, 1: i, 2: w, 3: r, 4: v, 5: r, 6: v, 7: w, 8: w, 9: l)\n",
        "Vector(0: r, 1: f, 2: w, 3: g, 4: n, 5: r, 6: y, 7: a, 8: r, 9: s)\n",
        "--\n",
        "Vector(0: l, 1: i, 2: e, 3: r, 4: m, 5: e, 6: d, 7: w, 8: l, 9: l)\n"
       ]
      },
      {
       "output_type": "stream",
       "stream": "stdout",
       "text": [
        "Vector(0: r, 1: f, 2: w, 3: g, 4: n, 5: c, 6: y, 7: a, 8: r, 9: s)\n",
        "--\n",
        "Vector(0: v, 1: i, 2: e, 3: s, 4: l, 5: c, 6: d, 7: w, 8: p, 9: l)\n",
        "Vector(0: r, 1: f, 2: w, 3: g, 4: n, 5: r, 6: t, 7: a, 8: r, 9: s)\n",
        "--\n",
        "Vector(0: v, 1: i, 2: -, 3: a, 4: l, 5: -, 6: n, 7: w, 8: p, 9: l)\n",
        "Vector(0: r, 1: f, 2: f, 3: l, 4: n, 5: q, 6: y, 7: a, 8: t, 9: s)\n",
        "--\n",
        "Vector(0: l, 1: i, 2: v, 3: a, 4: l, 5: f, 6: w, 7: w, 8: g, 9: l)\n"
       ]
      },
      {
       "output_type": "stream",
       "stream": "stdout",
       "text": [
        "Vector(0: r, 1: f, 2: y, 3: g, 4: n, 5: r, 6: y, 7: a, 8: l, 9: s)\n",
        "--\n",
        "Vector(0: d, 1: i, 2: h, 3: i, 4: s, 5: e, 6: w, 7: w, 8: r, 9: l)\n",
        "Vector(0: s, 1: d, 2: -, 3: g, 4: n, 5: a, 6: q, 7: e, 8: y, 9: r)\n",
        "--\n",
        "Vector(0: d, 1: i, 2: v, 3: i, 4: s, 5: e, 6: w, 7: w, 8: r, 9: l)\n",
        "Vector(0: r, 1: f, 2: w, 3: g, 4: n, 5: s, 6: y, 7: a, 8: r, 9: s)\n",
        "--\n",
        "Vector(0: d, 1: i, 2: v, 3: i, 4: v, 5: t, 6: n, 7: w, 8: l, 9: l)\n"
       ]
      },
      {
       "output_type": "stream",
       "stream": "stdout",
       "text": [
        "Vector(0: r, 1: i, 2: w, 3: l, 4: n, 5: r, 6: -, 7: w, 8: -, 9: s)\n",
        "--\n",
        "Vector(0: d, 1: i, 2: y, 3: r, 4: v, 5: w, 6: s, 7: w, 8: g, 9: l)\n",
        "Vector(0: r, 1: f, 2: w, 3: g, 4: n, 5: r, 6: y, 7: a, 8: r, 9: s)\n",
        "--\n",
        "Vector(0: d, 1: i, 2: d, 3: r, 4: v, 5: n, 6: s, 7: w, 8: w, 9: l)\n",
        "Vector(0: r, 1: h, 2: -, 3: g, 4: g, 5: y, 6: f, 7: f, 8: w, 9: s)\n",
        "--\n",
        "Vector(0: d, 1: i, 2: d, 3: r, 4: v, 5: a, 6: s, 7: w, 8: w, 9: l)\n"
       ]
      },
      {
       "output_type": "stream",
       "stream": "stdout",
       "text": [
        "Vector(0: q, 1: f, 2: v, 3: g, 4: n, 5: r, 6: g, 7: a, 8: t, 9: s)\n",
        "--\n",
        "Vector(0: d, 1: i, 2: d, 3: r, 4: v, 5: v, 6: y, 7: w, 8: q, 9: l)\n",
        "Vector(0: r, 1: w, 2: g, 3: g, 4: r, 5: q, 6: v, 7: a, 8: e, 9: s)\n",
        "--\n",
        "Vector(0: d, 1: i, 2: w, 3: r, 4: v, 5: h, 6: s, 7: w, 8: d, 9: l)\n",
        "Vector(0: r, 1: f, 2: f, 3: r, 4: n, 5: k, 6: y, 7: a, 8: r, 9: s)\n",
        "--\n",
        "Vector(0: d, 1: i, 2: s, 3: r, 4: v, 5: y, 6: s, 7: w, 8: w, 9: l)\n",
        "Vector(0: e, 1: i, 2: h, 3: a, 4: v, 5: k, 6: y, 7: r, 8: a, 9: s)\n",
        "--\n",
        "Vector(0: d, 1: i, 2: s, 3: r, 4: v, 5: l, 6: i, 7: w, 8: -, 9: l)\n"
       ]
      },
      {
       "output_type": "stream",
       "stream": "stdout",
       "text": [
        "Vector(0: r, 1: f, 2: w, 3: g, 4: c, 5: p, 6: y, 7: a, 8: v, 9: s)\n",
        "--\n",
        "Vector(0: d, 1: i, 2: s, 3: r, 4: v, 5: l, 6: i, 7: w, 8: l, 9: l)\n",
        "Vector(0: r, 1: a, 2: m, 3: c, 4: c, 5: a, 6: w, 7: y, 8: n, 9: s)\n",
        "--\n",
        "Vector(0: d, 1: i, 2: s, 3: r, 4: v, 5: g, 6: c, 7: w, 8: p, 9: l)\n",
        "Vector(0: m, 1: y, 2: n, 3: c, 4: f, 5: l, 6: r, 7: m, 8: -, 9: w)\n",
        "--\n",
        "Vector(0: d, 1: i, 2: q, 3: r, 4: v, 5: i, 6: d, 7: w, 8: w, 9: l)\n"
       ]
      },
      {
       "output_type": "stream",
       "stream": "stdout",
       "text": [
        "Vector(0: r, 1: f, 2: w, 3: e, 4: n, 5: h, 6: y, 7: a, 8: r, 9: s)\n",
        "--\n",
        "Vector(0: d, 1: i, 2: y, 3: r, 4: l, 5: y, 6: q, 7: w, 8: r, 9: l)\n",
        "Vector(0: r, 1: f, 2: w, 3: g, 4: n, 5: r, 6: y, 7: a, 8: a, 9: s)\n",
        "--\n",
        "Vector(0: d, 1: i, 2: s, 3: h, 4: l, 5: y, 6: n, 7: w, 8: y, 9: l)\n",
        "Vector(0: r, 1: i, 2: t, 3: t, 4: w, 5: d, 6: y, 7: c, 8: d, 9: s)\n",
        "--\n",
        "Vector(0: v, 1: i, 2: s, 3: s, 4: l, 5: l, 6: n, 7: w, 8: t, 9: l)\n"
       ]
      },
      {
       "output_type": "stream",
       "stream": "stdout",
       "text": [
        "Vector(0: e, 1: s, 2: k, 3: g, 4: a, 5: q, 6: y, 7: r, 8: r, 9: s)\n",
        "--\n",
        "Vector(0: v, 1: i, 2: s, 3: s, 4: l, 5: m, 6: n, 7: w, 8: r, 9: l)\n",
        "Vector(0: r, 1: q, 2: f, 3: l, 4: n, 5: g, 6: y, 7: p, 8: y, 9: s)\n",
        "--\n",
        "Vector(0: v, 1: i, 2: s, 3: s, 4: l, 5: l, 6: n, 7: w, 8: f, 9: l)\n",
        "Vector(0: r, 1: f, 2: w, 3: g, 4: n, 5: r, 6: y, 7: a, 8: r, 9: s)\n",
        "--\n",
        "Vector(0: v, 1: i, 2: s, 3: r, 4: h, 5: l, 6: n, 7: w, 8: q, 9: l)\n"
       ]
      },
      {
       "output_type": "stream",
       "stream": "stdout",
       "text": [
        "Vector(0: r, 1: f, 2: e, 3: g, 4: n, 5: r, 6: y, 7: a, 8: m, 9: s)\n",
        "--\n",
        "Vector(0: g, 1: i, 2: s, 3: g, 4: h, 5: y, 6: n, 7: w, 8: r, 9: l)\n",
        "Vector(0: r, 1: f, 2: w, 3: g, 4: n, 5: s, 6: y, 7: a, 8: y, 9: s)\n",
        "--\n",
        "Vector(0: g, 1: i, 2: s, 3: r, 4: h, 5: y, 6: n, 7: w, 8: c, 9: l)\n",
        "Vector(0: d, 1: i, 2: n, 3: f, 4: c, 5: w, 6: p, 7: -, 8: d, 9: p)\n",
        "--\n",
        "Vector(0: v, 1: i, 2: s, 3: r, 4: v, 5: h, 6: n, 7: w, 8: s, 9: l)\n"
       ]
      },
      {
       "output_type": "stream",
       "stream": "stdout",
       "text": [
        "Vector(0: r, 1: f, 2: w, 3: g, 4: n, 5: r, 6: y, 7: a, 8: r, 9: s)\n",
        "--\n",
        "Vector(0: d, 1: i, 2: s, 3: r, 4: v, 5: y, 6: n, 7: w, 8: r, 9: l)\n",
        "Vector(0: r, 1: f, 2: w, 3: g, 4: n, 5: e, 6: y, 7: a, 8: r, 9: s)\n",
        "--\n",
        "Vector(0: d, 1: i, 2: s, 3: r, 4: v, 5: y, 6: i, 7: w, 8: w, 9: l)\n",
        "Vector(0: d, 1: i, 2: e, 3: r, 4: v, 5: -, 6: l, 7: p, 8: a, 9: y)\n",
        "--\n",
        "Vector(0: d, 1: i, 2: s, 3: r, 4: v, 5: l, 6: r, 7: w, 8: w, 9: l)\n",
        "Vector(0: s, 1: i, 2: v, 3: -, 4: n, 5: h, 6: n, 7: -, 8: i, 9: s)\n",
        "--\n",
        "Vector(0: d, 1: i, 2: i, 3: r, 4: v, 5: -, 6: y, 7: k, 8: s, 9: l)\n"
       ]
      },
      {
       "output_type": "stream",
       "stream": "stdout",
       "text": [
        "Vector(0: v, 1: p, 2: q, 3: r, 4: v, 5: r, 6: d, 7: f, 8: p, 9: a)\n",
        "--\n",
        "Vector(0: d, 1: i, 2: i, 3: r, 4: v, 5: n, 6: y, 7: w, 8: h, 9: l)\n",
        "Vector(0: r, 1: a, 2: w, 3: g, 4: n, 5: i, 6: y, 7: a, 8: f, 9: s)\n",
        "--\n",
        "Vector(0: d, 1: i, 2: i, 3: r, 4: v, 5: l, 6: s, 7: w, 8: w, 9: l)\n",
        "Vector(0: r, 1: f, 2: a, 3: g, 4: n, 5: t, 6: y, 7: a, 8: t, 9: s)\n",
        "--\n",
        "Vector(0: d, 1: i, 2: t, 3: r, 4: v, 5: l, 6: s, 7: w, 8: w, 9: l)\n"
       ]
      },
      {
       "output_type": "stream",
       "stream": "stdout",
       "text": [
        "Vector(0: r, 1: f, 2: w, 3: g, 4: p, 5: r, 6: y, 7: a, 8: h, 9: s)\n",
        "--\n",
        "Vector(0: d, 1: i, 2: i, 3: r, 4: v, 5: n, 6: r, 7: w, 8: s, 9: d)\n",
        "Vector(0: r, 1: h, 2: k, 3: g, 4: n, 5: r, 6: y, 7: a, 8: r, 9: s)\n",
        "--\n",
        "Vector(0: v, 1: i, 2: p, 3: s, 4: l, 5: w, 6: w, 7: w, 8: l, 9: l)\n",
        "Vector(0: r, 1: f, 2: h, 3: g, 4: n, 5: s, 6: y, 7: a, 8: i, 9: s)\n",
        "--\n",
        "Vector(0: v, 1: i, 2: v, 3: i, 4: l, 5: r, 6: w, 7: w, 8: g, 9: d)\n"
       ]
      },
      {
       "output_type": "stream",
       "stream": "stdout",
       "text": [
        "Vector(0: r, 1: r, 2: w, 3: g, 4: n, 5: -, 6: y, 7: q, 8: d, 9: g)\n",
        "--\n",
        "Vector(0: v, 1: i, 2: h, 3: e, 4: l, 5: r, 6: w, 7: w, 8: l, 9: d)\n",
        "Vector(0: r, 1: f, 2: w, 3: g, 4: n, 5: r, 6: y, 7: a, 8: h, 9: s)\n",
        "--\n",
        "Vector(0: v, 1: i, 2: w, 3: s, 4: l, 5: r, 6: s, 7: w, 8: w, 9: l)\n",
        "Vector(0: g, 1: f, 2: w, 3: g, 4: n, 5: q, 6: y, 7: l, 8: h, 9: s)\n",
        "--\n",
        "Vector(0: v, 1: i, 2: n, 3: s, 4: l, 5: e, 6: s, 7: w, 8: r, 9: l)\n"
       ]
      },
      {
       "output_type": "stream",
       "stream": "stdout",
       "text": [
        "Vector(0: r, 1: f, 2: w, 3: g, 4: n, 5: r, 6: y, 7: a, 8: r, 9: s)\n",
        "--\n",
        "Vector(0: v, 1: i, 2: w, 3: a, 4: l, 5: h, 6: y, 7: w, 8: k, 9: d)\n",
        "Vector(0: m, 1: k, 2: r, 3: c, 4: k, 5: p, 6: g, 7: c, 8: -, 9: n)\n",
        "--\n",
        "Vector(0: v, 1: i, 2: w, 3: h, 4: l, 5: v, 6: v, 7: w, 8: n, 9: d)\n",
        "Vector(0: r, 1: f, 2: w, 3: g, 4: n, 5: r, 6: y, 7: a, 8: r, 9: s)\n",
        "--\n",
        "Vector(0: v, 1: i, 2: r, 3: a, 4: l, 5: r, 6: w, 7: n, 8: r, 9: d)\n"
       ]
      },
      {
       "output_type": "stream",
       "stream": "stdout",
       "text": [
        "Vector(0: r, 1: f, 2: h, 3: g, 4: n, 5: r, 6: y, 7: a, 8: m, 9: s)\n",
        "--\n",
        "Vector(0: v, 1: i, 2: v, 3: a, 4: l, 5: r, 6: w, 7: n, 8: r, 9: d)\n",
        "Vector(0: g, 1: y, 2: t, 3: h, 4: g, 5: y, 6: y, 7: r, 8: n, 9: f)\n",
        "--\n",
        "Vector(0: v, 1: i, 2: h, 3: a, 4: l, 5: r, 6: w, 7: n, 8: r, 9: d)\n",
        "Vector(0: r, 1: f, 2: w, 3: g, 4: n, 5: r, 6: y, 7: a, 8: s, 9: s)\n",
        "--\n",
        "Vector(0: v, 1: i, 2: h, 3: a, 4: l, 5: r, 6: w, 7: n, 8: r, 9: d)\n",
        "Vector(0: r, 1: f, 2: w, 3: g, 4: n, 5: c, 6: y, 7: a, 8: s, 9: s)\n",
        "--\n",
        "Vector(0: v, 1: i, 2: v, 3: a, 4: l, 5: t, 6: w, 7: w, 8: g, 9: d)\n"
       ]
      },
      {
       "output_type": "stream",
       "stream": "stdout",
       "text": [
        "Vector(0: r, 1: t, 2: k, 3: g, 4: n, 5: a, 6: y, 7: a, 8: q, 9: s)\n",
        "--\n",
        "Vector(0: v, 1: i, 2: v, 3: h, 4: l, 5: -, 6: i, 7: w, 8: r, 9: d)\n",
        "Vector(0: r, 1: f, 2: w, 3: g, 4: n, 5: w, 6: y, 7: a, 8: r, 9: s)\n",
        "--\n",
        "Vector(0: v, 1: i, 2: i, 3: h, 4: l, 5: w, 6: v, 7: w, 8: h, 9: d)\n",
        "Vector(0: r, 1: f, 2: g, 3: g, 4: n, 5: r, 6: l, 7: a, 8: h, 9: s)\n",
        "--\n",
        "Vector(0: d, 1: i, 2: i, 3: h, 4: l, 5: w, 6: y, 7: w, 8: w, 9: d)\n"
       ]
      },
      {
       "output_type": "stream",
       "stream": "stdout",
       "text": [
        "Vector(0: r, 1: f, 2: w, 3: g, 4: n, 5: i, 6: y, 7: a, 8: q, 9: s)\n",
        "--\n",
        "Vector(0: v, 1: i, 2: i, 3: h, 4: l, 5: w, 6: v, 7: w, 8: r, 9: d)\n",
        "Vector(0: r, 1: f, 2: w, 3: f, 4: n, 5: r, 6: y, 7: a, 8: m, 9: s)\n",
        "--\n",
        "Vector(0: v, 1: i, 2: p, 3: h, 4: l, 5: g, 6: q, 7: w, 8: s, 9: d)\n",
        "Vector(0: r, 1: f, 2: t, 3: a, 4: n, 5: w, 6: y, 7: k, 8: t, 9: s)\n",
        "--\n",
        "Vector(0: v, 1: i, 2: k, 3: h, 4: l, 5: g, 6: q, 7: w, 8: r, 9: d)\n"
       ]
      },
      {
       "output_type": "stream",
       "stream": "stdout",
       "text": [
        "Vector(0: r, 1: f, 2: w, 3: g, 4: n, 5: e, 6: y, 7: a, 8: s, 9: s)\n",
        "--\n",
        "Vector(0: d, 1: i, 2: m, 3: h, 4: l, 5: p, 6: v, 7: w, 8: q, 9: n)\n",
        "Vector(0: t, 1: f, 2: w, 3: r, 4: n, 5: h, 6: t, 7: k, 8: d, 9: s)\n",
        "--\n",
        "Vector(0: n, 1: i, 2: n, 3: h, 4: l, 5: w, 6: m, 7: y, 8: w, 9: n)\n",
        "Vector(0: d, 1: -, 2: w, 3: w, 4: f, 5: s, 6: k, 7: q, 8: t, 9: m)\n",
        "--\n",
        "Vector(0: n, 1: i, 2: n, 3: h, 4: l, 5: r, 6: m, 7: w, 8: r, 9: n)\n"
       ]
      },
      {
       "output_type": "stream",
       "stream": "stdout",
       "text": [
        "Vector(0: r, 1: f, 2: w, 3: g, 4: n, 5: r, 6: y, 7: a, 8: v, 9: s)\n",
        "--\n",
        "Vector(0: n, 1: i, 2: w, 3: h, 4: l, 5: m, 6: m, 7: y, 8: r, 9: n)\n",
        "Vector(0: r, 1: f, 2: w, 3: g, 4: n, 5: a, 6: y, 7: a, 8: r, 9: s)\n",
        "--\n",
        "Vector(0: n, 1: s, 2: f, 3: h, 4: l, 5: m, 6: n, 7: q, 8: k, 9: n)\n",
        "Vector(0: r, 1: f, 2: i, 3: g, 4: n, 5: r, 6: y, 7: a, 8: l, 9: s)\n",
        "--\n",
        "Vector(0: r, 1: s, 2: p, 3: h, 4: l, 5: g, 6: m, 7: d, 8: i, 9: n)\n"
       ]
      },
      {
       "output_type": "stream",
       "stream": "stdout",
       "text": [
        "Vector(0: r, 1: f, 2: w, 3: g, 4: n, 5: r, 6: y, 7: a, 8: r, 9: s)\n",
        "--\n",
        "Vector(0: n, 1: s, 2: c, 3: h, 4: l, 5: d, 6: a, 7: q, 8: w, 9: n)\n",
        "Vector(0: r, 1: f, 2: w, 3: g, 4: n, 5: v, 6: y, 7: a, 8: e, 9: s)\n",
        "--\n",
        "Vector(0: n, 1: s, 2: a, 3: h, 4: l, 5: l, 6: a, 7: q, 8: g, 9: n)\n",
        "Vector(0: r, 1: f, 2: r, 3: g, 4: n, 5: p, 6: l, 7: a, 8: m, 9: s)\n",
        "--\n",
        "Vector(0: m, 1: s, 2: m, 3: h, 4: l, 5: i, 6: a, 7: q, 8: t, 9: f)\n",
        "Vector(0: r, 1: f, 2: w, 3: g, 4: n, 5: l, 6: y, 7: a, 8: r, 9: s)\n",
        "--\n",
        "Vector(0: m, 1: s, 2: k, 3: h, 4: l, 5: a, 6: a, 7: q, 8: w, 9: n)\n"
       ]
      },
      {
       "output_type": "stream",
       "stream": "stdout",
       "text": [
        "Vector(0: p, 1: v, 2: i, 3: a, 4: s, 5: r, 6: s, 7: w, 8: w, 9: h)\n",
        "--\n",
        "Vector(0: n, 1: s, 2: k, 3: h, 4: l, 5: -, 6: a, 7: q, 8: h, 9: n)\n",
        "Vector(0: r, 1: f, 2: t, 3: g, 4: n, 5: r, 6: y, 7: a, 8: y, 9: s)\n",
        "--\n",
        "Vector(0: m, 1: s, 2: v, 3: h, 4: l, 5: a, 6: n, 7: q, 8: r, 9: n)\n",
        "Vector(0: r, 1: f, 2: p, 3: g, 4: n, 5: a, 6: p, 7: a, 8: d, 9: s)\n",
        "--\n",
        "Vector(0: n, 1: s, 2: r, 3: h, 4: l, 5: a, 6: a, 7: q, 8: g, 9: n)\n"
       ]
      },
      {
       "output_type": "stream",
       "stream": "stdout",
       "text": [
        "Vector(0: r, 1: f, 2: p, 3: g, 4: n, 5: y, 6: y, 7: a, 8: r, 9: s)\n",
        "--\n",
        "Vector(0: n, 1: s, 2: d, 3: h, 4: l, 5: n, 6: a, 7: q, 8: r, 9: h)\n",
        "Vector(0: r, 1: f, 2: w, 3: g, 4: n, 5: r, 6: y, 7: a, 8: g, 9: s)\n",
        "--\n",
        "Vector(0: n, 1: s, 2: h, 3: h, 4: l, 5: l, 6: d, 7: q, 8: n, 9: w)\n",
        "Vector(0: r, 1: f, 2: w, 3: g, 4: n, 5: r, 6: y, 7: a, 8: y, 9: s)\n",
        "--\n",
        "Vector(0: n, 1: s, 2: a, 3: h, 4: l, 5: l, 6: d, 7: q, 8: w, 9: w)\n"
       ]
      },
      {
       "output_type": "stream",
       "stream": "stdout",
       "text": [
        "Vector(0: q, 1: i, 2: y, 3: l, 4: p, 5: e, 6: a, 7: a, 8: y, 9: s)\n",
        "--\n",
        "Vector(0: n, 1: s, 2: i, 3: h, 4: l, 5: e, 6: c, 7: q, 8: r, 9: n)\n",
        "Vector(0: f, 1: n, 2: w, 3: v, 4: r, 5: w, 6: p, 7: s, 8: e, 9: q)\n",
        "--\n",
        "Vector(0: n, 1: s, 2: k, 3: h, 4: l, 5: -, 6: a, 7: q, 8: a, 9: n)\n",
        "Vector(0: r, 1: f, 2: w, 3: g, 4: n, 5: r, 6: y, 7: a, 8: y, 9: s)\n",
        "--\n",
        "Vector(0: n, 1: s, 2: e, 3: h, 4: l, 5: r, 6: a, 7: q, 8: f, 9: n)\n"
       ]
      },
      {
       "output_type": "stream",
       "stream": "stdout",
       "text": [
        "Vector(0: r, 1: f, 2: w, 3: g, 4: n, 5: r, 6: y, 7: a, 8: r, 9: s)\n",
        "--\n",
        "Vector(0: n, 1: s, 2: h, 3: h, 4: l, 5: -, 6: a, 7: q, 8: n, 9: n)\n",
        "Vector(0: r, 1: f, 2: w, 3: g, 4: n, 5: r, 6: y, 7: a, 8: v, 9: s)\n",
        "--\n",
        "Vector(0: n, 1: s, 2: a, 3: h, 4: l, 5: r, 6: a, 7: q, 8: i, 9: n)\n",
        "Vector(0: r, 1: f, 2: w, 3: g, 4: n, 5: r, 6: y, 7: a, 8: r, 9: s)\n",
        "--\n",
        "Vector(0: n, 1: s, 2: h, 3: h, 4: l, 5: -, 6: a, 7: q, 8: s, 9: n)\n",
        "Vector(0: r, 1: f, 2: w, 3: g, 4: n, 5: f, 6: y, 7: a, 8: v, 9: s)\n",
        "--\n",
        "Vector(0: n, 1: s, 2: s, 3: h, 4: l, 5: y, 6: r, 7: q, 8: g, 9: n)\n"
       ]
      },
      {
       "output_type": "stream",
       "stream": "stdout",
       "text": [
        "Vector(0: r, 1: f, 2: m, 3: g, 4: n, 5: h, 6: y, 7: v, 8: v, 9: s)\n",
        "--\n",
        "Vector(0: n, 1: s, 2: s, 3: h, 4: l, 5: y, 6: g, 7: q, 8: h, 9: v)\n",
        "Vector(0: r, 1: f, 2: w, 3: g, 4: n, 5: r, 6: y, 7: a, 8: r, 9: s)\n",
        "--\n",
        "Vector(0: n, 1: s, 2: s, 3: h, 4: l, 5: k, 6: n, 7: d, 8: i, 9: n)\n",
        "Vector(0: r, 1: f, 2: w, 3: g, 4: n, 5: -, 6: y, 7: a, 8: y, 9: s)\n",
        "--\n",
        "Vector(0: n, 1: s, 2: s, 3: h, 4: l, 5: l, 6: l, 7: w, 8: e, 9: n)\n"
       ]
      },
      {
       "output_type": "stream",
       "stream": "stdout",
       "text": [
        "Vector(0: r, 1: y, 2: w, 3: g, 4: y, 5: r, 6: -, 7: a, 8: -, 9: s)\n",
        "--\n",
        "Vector(0: n, 1: i, 2: s, 3: h, 4: l, 5: y, 6: r, 7: w, 8: y, 9: n)\n",
        "Vector(0: p, 1: i, 2: p, 3: y, 4: g, 5: r, 6: a, 7: v, 8: m, 9: k)\n",
        "--\n",
        "Vector(0: n, 1: i, 2: s, 3: h, 4: l, 5: l, 6: v, 7: w, 8: r, 9: n)\n",
        "Vector(0: t, 1: f, 2: w, 3: g, 4: n, 5: s, 6: y, 7: a, 8: r, 9: s)\n",
        "--\n",
        "Vector(0: d, 1: i, 2: s, 3: h, 4: l, 5: y, 6: v, 7: w, 8: l, 9: n)\n"
       ]
      },
      {
       "output_type": "stream",
       "stream": "stdout",
       "text": [
        "Vector(0: r, 1: v, 2: a, 3: g, 4: n, 5: n, 6: y, 7: a, 8: r, 9: s)\n",
        "--\n",
        "Vector(0: d, 1: i, 2: e, 3: h, 4: l, 5: e, 6: v, 7: w, 8: p, 9: n)\n",
        "Vector(0: t, 1: l, 2: w, 3: r, 4: c, 5: s, 6: y, 7: k, 8: -, 9: y)\n",
        "--\n",
        "Vector(0: n, 1: i, 2: e, 3: h, 4: l, 5: e, 6: v, 7: w, 8: k, 9: d)\n",
        "Vector(0: r, 1: f, 2: w, 3: g, 4: n, 5: r, 6: y, 7: a, 8: s, 9: s)\n",
        "--\n",
        "Vector(0: v, 1: i, 2: e, 3: s, 4: l, 5: e, 6: v, 7: w, 8: f, 9: d)\n"
       ]
      },
      {
       "output_type": "stream",
       "stream": "stdout",
       "text": [
        "Vector(0: r, 1: f, 2: n, 3: g, 4: n, 5: v, 6: y, 7: a, 8: r, 9: s)\n",
        "--\n",
        "Vector(0: v, 1: i, 2: e, 3: h, 4: l, 5: r, 6: v, 7: w, 8: l, 9: d)\n",
        "Vector(0: r, 1: f, 2: -, 3: g, 4: n, 5: r, 6: y, 7: e, 8: r, 9: s)\n",
        "--\n",
        "Vector(0: v, 1: i, 2: n, 3: h, 4: l, 5: m, 6: v, 7: w, 8: q, 9: d)\n",
        "Vector(0: r, 1: t, 2: p, 3: p, 4: m, 5: q, 6: y, 7: l, 8: y, 9: e)\n",
        "--\n",
        "Vector(0: v, 1: i, 2: q, 3: h, 4: l, 5: g, 6: v, 7: w, 8: e, 9: d)\n"
       ]
      },
      {
       "output_type": "stream",
       "stream": "stdout",
       "text": [
        "Vector(0: r, 1: f, 2: g, 3: g, 4: n, 5: c, 6: y, 7: a, 8: r, 9: s)\n",
        "--\n",
        "Vector(0: v, 1: i, 2: s, 3: h, 4: l, 5: l, 6: v, 7: w, 8: w, 9: d)\n",
        "Vector(0: r, 1: f, 2: w, 3: g, 4: k, 5: y, 6: y, 7: t, 8: r, 9: s)\n",
        "--\n",
        "Vector(0: v, 1: i, 2: s, 3: g, 4: l, 5: l, 6: v, 7: w, 8: l, 9: d)\n",
        "Vector(0: r, 1: f, 2: c, 3: g, 4: n, 5: p, 6: y, 7: a, 8: m, 9: s)\n",
        "--\n",
        "Vector(0: v, 1: i, 2: s, 3: a, 4: l, 5: g, 6: v, 7: w, 8: q, 9: d)\n",
        "Vector(0: r, 1: f, 2: a, 3: g, 4: n, 5: r, 6: y, 7: a, 8: l, 9: s)\n",
        "--\n",
        "Vector(0: v, 1: i, 2: s, 3: h, 4: l, 5: l, 6: y, 7: w, 8: g, 9: d)\n"
       ]
      },
      {
       "output_type": "stream",
       "stream": "stdout",
       "text": [
        "Vector(0: r, 1: f, 2: s, 3: g, 4: n, 5: r, 6: y, 7: a, 8: w, 9: s)\n",
        "--\n",
        "Vector(0: v, 1: i, 2: i, 3: h, 4: l, 5: w, 6: y, 7: w, 8: r, 9: d)\n",
        "Vector(0: r, 1: f, 2: g, 3: g, 4: n, 5: r, 6: y, 7: c, 8: q, 9: s)\n",
        "--\n",
        "Vector(0: v, 1: i, 2: i, 3: a, 4: l, 5: w, 6: y, 7: w, 8: q, 9: d)\n",
        "Vector(0: r, 1: f, 2: w, 3: g, 4: n, 5: r, 6: y, 7: a, 8: r, 9: s)\n",
        "--\n",
        "Vector(0: v, 1: i, 2: i, 3: h, 4: l, 5: l, 6: r, 7: w, 8: q, 9: d)\n"
       ]
      },
      {
       "output_type": "stream",
       "stream": "stdout",
       "text": [
        "Vector(0: r, 1: f, 2: w, 3: g, 4: n, 5: e, 6: y, 7: a, 8: r, 9: s)\n",
        "--\n",
        "Vector(0: v, 1: i, 2: s, 3: s, 4: l, 5: y, 6: v, 7: w, 8: e, 9: d)\n",
        "Vector(0: r, 1: f, 2: r, 3: g, 4: n, 5: r, 6: y, 7: a, 8: s, 9: s)\n",
        "--\n",
        "Vector(0: v, 1: i, 2: s, 3: h, 4: l, 5: y, 6: v, 7: w, 8: q, 9: d)\n"
       ]
      },
      {
       "output_type": "stream",
       "stream": "stdout",
       "text": [
        "Vector(0: r, 1: -, 2: -, 3: m, 4: k, 5: g, 6: y, 7: w, 8: p, 9: s)\n",
        "--\n",
        "Vector(0: v, 1: i, 2: s, 3: s, 4: l, 5: k, 6: v, 7: w, 8: q, 9: d)\n",
        "Vector(0: r, 1: f, 2: i, 3: g, 4: n, 5: k, 6: y, 7: a, 8: i, 9: s)\n",
        "--\n",
        "Vector(0: v, 1: i, 2: d, 3: s, 4: l, 5: w, 6: r, 7: w, 8: r, 9: d)\n",
        "Vector(0: r, 1: f, 2: w, 3: g, 4: n, 5: r, 6: y, 7: a, 8: r, 9: s)\n",
        "--\n",
        "Vector(0: v, 1: i, 2: i, 3: h, 4: l, 5: e, 6: y, 7: w, 8: p, 9: d)\n",
        "Vector(0: r, 1: f, 2: w, 3: g, 4: n, 5: k, 6: y, 7: a, 8: r, 9: s)\n",
        "--\n",
        "Vector(0: v, 1: i, 2: w, 3: h, 4: l, 5: e, 6: y, 7: w, 8: r, 9: d)\n"
       ]
      },
      {
       "output_type": "stream",
       "stream": "stdout",
       "text": [
        "Vector(0: r, 1: f, 2: w, 3: g, 4: n, 5: r, 6: y, 7: a, 8: r, 9: s)\n",
        "--\n",
        "Vector(0: v, 1: i, 2: w, 3: h, 4: l, 5: n, 6: y, 7: w, 8: r, 9: d)\n",
        "Vector(0: r, 1: f, 2: w, 3: g, 4: n, 5: r, 6: y, 7: a, 8: l, 9: s)\n",
        "--\n",
        "Vector(0: v, 1: i, 2: i, 3: s, 4: q, 5: e, 6: y, 7: w, 8: w, 9: l)\n",
        "Vector(0: r, 1: i, 2: g, 3: a, 4: t, 5: r, 6: v, 7: w, 8: r, 9: d)\n",
        "--\n",
        "Vector(0: v, 1: i, 2: e, 3: s, 4: l, 5: e, 6: d, 7: w, 8: k, 9: l)\n"
       ]
      },
      {
       "output_type": "stream",
       "stream": "stdout",
       "text": [
        "Vector(0: r, 1: f, 2: e, 3: g, 4: n, 5: r, 6: y, 7: a, 8: k, 9: s)\n",
        "--\n",
        "Vector(0: v, 1: i, 2: e, 3: a, 4: l, 5: a, 6: d, 7: w, 8: h, 9: l)\n",
        "Vector(0: r, 1: f, 2: w, 3: g, 4: n, 5: s, 6: y, 7: a, 8: f, 9: s)\n",
        "--\n",
        "Vector(0: d, 1: i, 2: q, 3: a, 4: l, 5: n, 6: s, 7: w, 8: w, 9: l)\n",
        "Vector(0: r, 1: f, 2: w, 3: g, 4: n, 5: e, 6: y, 7: g, 8: f, 9: s)\n",
        "--\n",
        "Vector(0: v, 1: i, 2: a, 3: a, 4: l, 5: w, 6: i, 7: w, 8: h, 9: l)\n"
       ]
      },
      {
       "output_type": "stream",
       "stream": "stdout",
       "text": [
        "Vector(0: r, 1: i, 2: v, 3: p, 4: n, 5: p, 6: y, 7: a, 8: i, 9: s)\n",
        "--\n",
        "Vector(0: d, 1: i, 2: v, 3: a, 4: l, 5: e, 6: w, 7: w, 8: r, 9: -)\n",
        "Vector(0: r, 1: f, 2: d, 3: g, 4: n, 5: e, 6: y, 7: a, 8: r, 9: q)\n",
        "--\n",
        "Vector(0: d, 1: i, 2: e, 3: h, 4: l, 5: y, 6: w, 7: w, 8: k, 9: l)\n",
        "Vector(0: r, 1: f, 2: d, 3: g, 4: n, 5: y, 6: y, 7: a, 8: r, 9: s)\n",
        "--\n",
        "Vector(0: d, 1: i, 2: s, 3: h, 4: l, 5: c, 6: i, 7: w, 8: s, 9: l)\n",
        "Vector(0: a, 1: y, 2: q, 3: g, 4: r, 5: r, 6: a, 7: l, 8: p, 9: c)\n",
        "--\n",
        "Vector(0: n, 1: i, 2: s, 3: h, 4: l, 5: y, 6: n, 7: w, 8: t, 9: n)\n"
       ]
      },
      {
       "output_type": "stream",
       "stream": "stdout",
       "text": [
        "Vector(0: -, 1: r, 2: w, 3: w, 4: y, 5: m, 6: r, 7: t, 8: r, 9: a)\n",
        "--\n",
        "Vector(0: n, 1: i, 2: s, 3: h, 4: l, 5: l, 6: y, 7: w, 8: r, 9: n)\n",
        "Vector(0: r, 1: f, 2: w, 3: g, 4: n, 5: r, 6: y, 7: a, 8: d, 9: s)\n",
        "--\n",
        "Vector(0: a, 1: i, 2: s, 3: h, 4: l, 5: y, 6: r, 7: w, 8: g, 9: n)\n",
        "Vector(0: r, 1: p, 2: w, 3: g, 4: n, 5: w, 6: y, 7: a, 8: a, 9: s)\n",
        "--\n",
        "Vector(0: d, 1: i, 2: s, 3: h, 4: l, 5: e, 6: v, 7: w, 8: n, 9: n)\n"
       ]
      },
      {
       "output_type": "stream",
       "stream": "stdout",
       "text": [
        "Vector(0: r, 1: f, 2: q, 3: g, 4: n, 5: l, 6: y, 7: a, 8: v, 9: s)\n",
        "--\n",
        "Vector(0: n, 1: i, 2: e, 3: h, 4: l, 5: e, 6: v, 7: w, 8: r, 9: n)\n",
        "Vector(0: r, 1: f, 2: w, 3: g, 4: n, 5: r, 6: y, 7: a, 8: s, 9: s)\n",
        "--\n",
        "Vector(0: n, 1: i, 2: e, 3: h, 4: l, 5: e, 6: v, 7: w, 8: r, 9: n)\n",
        "Vector(0: r, 1: f, 2: w, 3: g, 4: n, 5: r, 6: y, 7: a, 8: r, 9: s)\n",
        "--\n",
        "Vector(0: n, 1: i, 2: e, 3: h, 4: l, 5: r, 6: v, 7: w, 8: g, 9: n)\n"
       ]
      },
      {
       "output_type": "stream",
       "stream": "stdout",
       "text": [
        "Vector(0: r, 1: f, 2: t, 3: g, 4: n, 5: r, 6: p, 7: a, 8: v, 9: s)\n",
        "--\n",
        "Vector(0: n, 1: i, 2: n, 3: h, 4: l, 5: e, 6: v, 7: w, 8: k, 9: n)\n",
        "Vector(0: r, 1: f, 2: t, 3: s, 4: y, 5: s, 6: y, 7: a, 8: f, 9: w)\n",
        "--\n",
        "Vector(0: n, 1: i, 2: q, 3: h, 4: l, 5: i, 6: v, 7: w, 8: w, 9: n)\n",
        "Vector(0: k, 1: i, 2: f, 3: d, 4: a, 5: r, 6: i, 7: m, 8: n, 9: y)\n",
        "--\n",
        "Vector(0: d, 1: i, 2: q, 3: h, 4: l, 5: i, 6: n, 7: w, 8: -, 9: l)\n"
       ]
      },
      {
       "output_type": "stream",
       "stream": "stdout",
       "text": [
        "Vector(0: h, 1: f, 2: d, 3: g, 4: t, 5: r, 6: f, 7: a, 8: r, 9: s)\n",
        "--\n",
        "Vector(0: v, 1: i, 2: y, 3: a, 4: l, 5: t, 6: n, 7: w, 8: p, 9: l)\n",
        "Vector(0: r, 1: -, 2: w, 3: n, 4: d, 5: r, 6: k, 7: n, 8: a, 9: s)\n",
        "--\n",
        "Vector(0: v, 1: i, 2: v, 3: g, 4: l, 5: w, 6: w, 7: w, 8: p, 9: d)\n",
        "Vector(0: v, 1: f, 2: g, 3: r, 4: n, 5: r, 6: y, 7: a, 8: m, 9: s)\n",
        "--\n",
        "Vector(0: v, 1: i, 2: v, 3: h, 4: l, 5: -, 6: w, 7: w, 8: v, 9: d)\n",
        "Vector(0: r, 1: f, 2: d, 3: r, 4: n, 5: e, 6: y, 7: a, 8: h, 9: s)\n",
        "--\n",
        "Vector(0: v, 1: i, 2: h, 3: g, 4: l, 5: r, 6: v, 7: w, 8: r, 9: d)\n"
       ]
      },
      {
       "output_type": "stream",
       "stream": "stdout",
       "text": [
        "Vector(0: f, 1: f, 2: w, 3: g, 4: n, 5: -, 6: y, 7: a, 8: l, 9: s)\n",
        "--\n",
        "Vector(0: v, 1: i, 2: e, 3: s, 4: l, 5: e, 6: v, 7: w, 8: s, 9: d)\n",
        "Vector(0: r, 1: f, 2: w, 3: g, 4: n, 5: r, 6: y, 7: a, 8: t, 9: s)\n",
        "--\n",
        "Vector(0: v, 1: r, 2: e, 3: s, 4: l, 5: r, 6: v, 7: w, 8: r, 9: d)\n",
        "Vector(0: r, 1: f, 2: w, 3: g, 4: n, 5: r, 6: y, 7: a, 8: t, 9: s)\n",
        "--\n",
        "Vector(0: v, 1: i, 2: e, 3: g, 4: l, 5: r, 6: v, 7: w, 8: p, 9: d)\n"
       ]
      },
      {
       "output_type": "stream",
       "stream": "stdout",
       "text": [
        "Vector(0: r, 1: f, 2: w, 3: g, 4: n, 5: r, 6: y, 7: a, 8: r, 9: s)\n",
        "--\n",
        "Vector(0: v, 1: i, 2: n, 3: r, 4: m, 5: e, 6: v, 7: w, 8: l, 9: d)\n",
        "Vector(0: r, 1: f, 2: w, 3: g, 4: n, 5: n, 6: y, 7: a, 8: n, 9: s)\n",
        "--\n",
        "Vector(0: v, 1: i, 2: e, 3: s, 4: l, 5: e, 6: y, 7: f, 8: w, 9: d)\n",
        "Vector(0: r, 1: f, 2: h, 3: g, 4: n, 5: r, 6: y, 7: a, 8: s, 9: s)\n",
        "--\n",
        "Vector(0: v, 1: s, 2: w, 3: a, 4: l, 5: a, 6: y, 7: f, 8: w, 9: d)\n"
       ]
      },
      {
       "output_type": "stream",
       "stream": "stdout",
       "text": [
        "Vector(0: r, 1: f, 2: m, 3: g, 4: n, 5: r, 6: y, 7: n, 8: r, 9: s)\n",
        "--\n",
        "Vector(0: v, 1: i, 2: w, 3: i, 4: l, 5: -, 6: y, 7: f, 8: n, 9: d)\n",
        "Vector(0: r, 1: f, 2: w, 3: g, 4: n, 5: r, 6: y, 7: a, 8: r, 9: s)\n",
        "--\n",
        "Vector(0: v, 1: i, 2: q, 3: a, 4: l, 5: -, 6: y, 7: f, 8: q, 9: d)\n",
        "Vector(0: r, 1: f, 2: w, 3: g, 4: n, 5: r, 6: y, 7: a, 8: r, 9: s)\n",
        "--\n",
        "Vector(0: v, 1: i, 2: i, 3: a, 4: l, 5: w, 6: r, 7: w, 8: r, 9: l)\n",
        "Vector(0: r, 1: e, 2: y, 3: g, 4: d, 5: d, 6: d, 7: y, 8: r, 9: s)\n",
        "--\n",
        "Vector(0: v, 1: i, 2: i, 3: a, 4: l, 5: -, 6: n, 7: w, 8: n, 9: l)\n"
       ]
      },
      {
       "output_type": "stream",
       "stream": "stdout",
       "text": [
        "Vector(0: i, 1: i, 2: w, 3: r, 4: s, 5: v, 6: e, 7: v, 8: l, 9: n)\n",
        "--\n",
        "Vector(0: d, 1: i, 2: s, 3: a, 4: l, 5: l, 6: i, 7: w, 8: t, 9: y)\n",
        "Vector(0: r, 1: f, 2: w, 3: g, 4: n, 5: r, 6: y, 7: a, 8: r, 9: s)\n",
        "--\n",
        "Vector(0: d, 1: i, 2: i, 3: a, 4: l, 5: w, 6: i, 7: w, 8: y, 9: l)\n",
        "Vector(0: r, 1: f, 2: w, 3: g, 4: a, 5: l, 6: y, 7: a, 8: l, 9: s)\n",
        "--\n",
        "Vector(0: v, 1: i, 2: i, 3: s, 4: m, 5: w, 6: r, 7: w, 8: s, 9: l)\n"
       ]
      },
      {
       "output_type": "stream",
       "stream": "stdout",
       "text": [
        "Vector(0: r, 1: f, 2: w, 3: g, 4: n, 5: c, 6: y, 7: a, 8: a, 9: s)\n",
        "--\n",
        "Vector(0: l, 1: i, 2: i, 3: w, 4: v, 5: w, 6: y, 7: w, 8: q, 9: l)\n",
        "Vector(0: r, 1: e, 2: a, 3: g, 4: w, 5: r, 6: f, 7: a, 8: r, 9: s)\n",
        "--\n",
        "Vector(0: l, 1: i, 2: s, 3: w, 4: m, 5: y, 6: s, 7: w, 8: r, 9: l)\n",
        "Vector(0: c, 1: i, 2: w, 3: g, 4: d, 5: s, 6: f, 7: a, 8: w, 9: s)\n",
        "--\n",
        "Vector(0: l, 1: i, 2: s, 3: w, 4: v, 5: d, 6: n, 7: w, 8: r, 9: l)\n"
       ]
      },
      {
       "output_type": "stream",
       "stream": "stdout",
       "text": [
        "Vector(0: d, 1: i, 2: e, 3: p, 4: v, 5: r, 6: s, 7: s, 8: n, 9: s)\n",
        "--\n",
        "Vector(0: l, 1: i, 2: y, 3: r, 4: v, 5: w, 6: n, 7: w, 8: r, 9: l)\n",
        "Vector(0: r, 1: f, 2: d, 3: g, 4: n, 5: n, 6: y, 7: a, 8: q, 9: s)\n",
        "--\n",
        "Vector(0: d, 1: i, 2: i, 3: r, 4: v, 5: -, 6: n, 7: w, 8: h, 9: l)\n",
        "Vector(0: r, 1: a, 2: -, 3: g, 4: n, 5: -, 6: y, 7: p, 8: r, 9: s)\n",
        "--\n",
        "Vector(0: d, 1: i, 2: -, 3: r, 4: v, 5: n, 6: d, 7: f, 8: r, 9: c)\n"
       ]
      },
      {
       "output_type": "stream",
       "stream": "stdout",
       "text": [
        "Vector(0: m, 1: e, 2: i, 3: e, 4: m, 5: r, 6: f, 7: l, 8: g, 9: l)\n",
        "--\n",
        "Vector(0: d, 1: i, 2: q, 3: i, 4: v, 5: c, 6: d, 7: f, 8: r, 9: w)\n",
        "Vector(0: d, 1: a, 2: g, 3: n, 4: q, 5: p, 6: y, 7: f, 8: r, 9: s)\n",
        "--\n",
        "Vector(0: d, 1: i, 2: e, 3: i, 4: r, 5: e, 6: d, 7: -, 8: q, 9: t)\n",
        "Vector(0: e, 1: f, 2: t, 3: g, 4: n, 5: p, 6: y, 7: a, 8: k, 9: s)\n",
        "--\n",
        "Vector(0: d, 1: i, 2: q, 3: r, 4: v, 5: i, 6: d, 7: a, 8: g, 9: m)\n"
       ]
      },
      {
       "output_type": "stream",
       "stream": "stdout",
       "text": [
        "Vector(0: r, 1: f, 2: n, 3: g, 4: n, 5: r, 6: y, 7: a, 8: -, 9: s)\n",
        "--\n",
        "Vector(0: d, 1: i, 2: q, 3: r, 4: v, 5: y, 6: c, 7: k, 8: q, 9: -)\n",
        "Vector(0: h, 1: q, 2: p, 3: k, 4: m, 5: r, 6: a, 7: r, 8: w, 9: l)\n",
        "--\n",
        "Vector(0: d, 1: i, 2: s, 3: r, 4: v, 5: l, 6: r, 7: k, 8: w, 9: -)\n",
        "Vector(0: r, 1: l, 2: i, 3: g, 4: n, 5: v, 6: y, 7: a, 8: h, 9: s)\n",
        "--\n",
        "Vector(0: d, 1: i, 2: s, 3: r, 4: v, 5: y, 6: r, 7: k, 8: v, 9: -)\n"
       ]
      },
      {
       "output_type": "stream",
       "stream": "stdout",
       "text": [
        "Vector(0: r, 1: f, 2: w, 3: g, 4: n, 5: w, 6: y, 7: a, 8: r, 9: s)\n",
        "--\n",
        "Vector(0: d, 1: i, 2: s, 3: r, 4: v, 5: l, 6: t, 7: k, 8: r, 9: -)\n",
        "Vector(0: r, 1: f, 2: w, 3: g, 4: n, 5: t, 6: y, 7: a, 8: n, 9: s)\n",
        "--\n",
        "Vector(0: d, 1: i, 2: s, 3: r, 4: v, 5: l, 6: t, 7: k, 8: l, 9: s)\n",
        "Vector(0: r, 1: f, 2: w, 3: g, 4: n, 5: r, 6: y, 7: a, 8: r, 9: s)\n",
        "--\n",
        "Vector(0: d, 1: i, 2: t, 3: r, 4: v, 5: l, 6: t, 7: k, 8: k, 9: s)\n",
        "Vector(0: r, 1: f, 2: w, 3: g, 4: n, 5: a, 6: y, 7: a, 8: f, 9: s)\n",
        "--\n",
        "Vector(0: d, 1: i, 2: s, 3: r, 4: v, 5: l, 6: i, 7: g, 8: a, 9: p)\n"
       ]
      },
      {
       "output_type": "stream",
       "stream": "stdout",
       "text": [
        "Vector(0: t, 1: i, 2: a, 3: p, 4: f, 5: r, 6: n, 7: t, 8: r, 9: s)\n",
        "--\n",
        "Vector(0: d, 1: i, 2: a, 3: r, 4: v, 5: y, 6: i, 7: k, 8: a, 9: s)\n",
        "Vector(0: r, 1: f, 2: w, 3: g, 4: n, 5: r, 6: y, 7: a, 8: q, 9: s)\n",
        "--\n",
        "Vector(0: d, 1: i, 2: s, 3: r, 4: r, 5: y, 6: t, 7: l, 8: r, 9: t)\n",
        "Vector(0: r, 1: f, 2: r, 3: h, 4: n, 5: r, 6: y, 7: a, 8: r, 9: s)\n",
        "--\n",
        "Vector(0: d, 1: i, 2: s, 3: r, 4: v, 5: l, 6: t, 7: k, 8: g, 9: k)\n"
       ]
      },
      {
       "output_type": "stream",
       "stream": "stdout",
       "text": [
        "Vector(0: r, 1: s, 2: w, 3: g, 4: n, 5: r, 6: y, 7: a, 8: r, 9: s)\n",
        "--\n",
        "Vector(0: d, 1: i, 2: s, 3: r, 4: v, 5: l, 6: t, 7: k, 8: s, 9: q)\n",
        "Vector(0: r, 1: i, 2: m, 3: g, 4: n, 5: e, 6: y, 7: a, 8: r, 9: s)\n",
        "--\n",
        "Vector(0: d, 1: i, 2: p, 3: r, 4: v, 5: e, 6: f, 7: k, 8: r, 9: -)\n",
        "Vector(0: r, 1: v, 2: w, 3: f, 4: n, 5: l, 6: p, 7: a, 8: n, 9: s)\n",
        "--\n",
        "Vector(0: d, 1: i, 2: w, 3: r, 4: v, 5: e, 6: w, 7: g, 8: r, 9: w)\n"
       ]
      },
      {
       "output_type": "stream",
       "stream": "stdout",
       "text": [
        "Vector(0: r, 1: v, 2: s, 3: g, 4: n, 5: t, 6: y, 7: a, 8: m, 9: s)\n",
        "--\n",
        "Vector(0: d, 1: i, 2: h, 3: r, 4: v, 5: -, 6: w, 7: g, 8: r, 9: -)\n",
        "Vector(0: -, 1: w, 2: k, 3: g, 4: c, 5: e, 6: d, 7: a, 8: m, 9: s)\n",
        "--\n",
        "Vector(0: d, 1: i, 2: v, 3: r, 4: v, 5: w, 6: w, 7: k, 8: a, 9: -)\n",
        "Vector(0: k, 1: t, 2: l, 3: q, 4: m, 5: e, 6: g, 7: d, 8: r, 9: a)\n",
        "--\n",
        "Vector(0: d, 1: i, 2: p, 3: r, 4: v, 5: g, 6: f, 7: k, 8: g, 9: q)\n"
       ]
      },
      {
       "output_type": "stream",
       "stream": "stdout",
       "text": [
        "Vector(0: l, 1: y, 2: m, 3: w, 4: i, 5: d, 6: -, 7: a, 8: r, 9: e)\n",
        "--\n",
        "Vector(0: d, 1: i, 2: p, 3: r, 4: v, 5: l, 6: f, 7: k, 8: s, 9: -)\n",
        "Vector(0: r, 1: f, 2: l, 3: a, 4: n, 5: h, 6: y, 7: t, 8: e, 9: t)\n",
        "--\n",
        "Vector(0: d, 1: i, 2: s, 3: r, 4: v, 5: l, 6: r, 7: k, 8: l, 9: -)\n",
        "Vector(0: r, 1: f, 2: v, 3: g, 4: n, 5: k, 6: y, 7: y, 8: r, 9: s)\n",
        "--\n",
        "Vector(0: d, 1: i, 2: s, 3: r, 4: v, 5: l, 6: v, 7: k, 8: w, 9: -)\n"
       ]
      },
      {
       "output_type": "stream",
       "stream": "stdout",
       "text": [
        "Vector(0: r, 1: f, 2: c, 3: g, 4: n, 5: d, 6: y, 7: a, 8: r, 9: s)\n",
        "--\n",
        "Vector(0: d, 1: i, 2: s, 3: r, 4: v, 5: l, 6: r, 7: k, 8: s, 9: -)\n",
        "Vector(0: r, 1: f, 2: m, 3: g, 4: n, 5: n, 6: t, 7: f, 8: r, 9: s)\n",
        "--\n",
        "Vector(0: d, 1: i, 2: i, 3: r, 4: v, 5: n, 6: r, 7: k, 8: s, 9: -)\n",
        "Vector(0: r, 1: f, 2: w, 3: g, 4: n, 5: k, 6: y, 7: a, 8: r, 9: d)\n",
        "--\n",
        "Vector(0: d, 1: i, 2: i, 3: r, 4: v, 5: l, 6: y, 7: k, 8: p, 9: q)\n",
        "Vector(0: r, 1: f, 2: w, 3: g, 4: n, 5: w, 6: y, 7: a, 8: i, 9: s)\n",
        "--\n",
        "Vector(0: d, 1: i, 2: i, 3: r, 4: v, 5: -, 6: y, 7: k, 8: m, 9: m)\n"
       ]
      },
      {
       "output_type": "stream",
       "stream": "stdout",
       "text": [
        "Vector(0: r, 1: f, 2: w, 3: g, 4: n, 5: r, 6: y, 7: a, 8: y, 9: s)\n",
        "--\n",
        "Vector(0: d, 1: i, 2: i, 3: r, 4: v, 5: w, 6: y, 7: k, 8: y, 9: -)\n",
        "Vector(0: r, 1: f, 2: r, 3: g, 4: n, 5: r, 6: y, 7: a, 8: r, 9: s)\n",
        "--\n",
        "Vector(0: d, 1: i, 2: i, 3: r, 4: v, 5: l, 6: r, 7: k, 8: w, 9: -)\n",
        "Vector(0: r, 1: q, 2: q, 3: v, 4: d, 5: r, 6: y, 7: l, 8: r, 9: s)\n",
        "--\n",
        "Vector(0: d, 1: i, 2: s, 3: r, 4: v, 5: y, 6: t, 7: k, 8: k, 9: k)\n"
       ]
      },
      {
       "output_type": "stream",
       "stream": "stdout",
       "text": [
        "Vector(0: a, 1: i, 2: n, 3: m, 4: v, 5: -, 6: d, 7: h, 8: f, 9: m)\n",
        "--\n",
        "Vector(0: d, 1: i, 2: s, 3: r, 4: v, 5: y, 6: t, 7: k, 8: w, 9: s)\n",
        "Vector(0: r, 1: f, 2: m, 3: g, 4: n, 5: p, 6: y, 7: a, 8: r, 9: s)\n",
        "--\n",
        "Vector(0: d, 1: i, 2: s, 3: r, 4: v, 5: e, 6: t, 7: k, 8: k, 9: s)\n",
        "Vector(0: r, 1: f, 2: w, 3: g, 4: n, 5: y, 6: y, 7: a, 8: r, 9: s)\n",
        "--\n",
        "Vector(0: d, 1: i, 2: e, 3: r, 4: v, 5: e, 6: y, 7: k, 8: r, 9: s)\n"
       ]
      },
      {
       "output_type": "stream",
       "stream": "stdout",
       "text": [
        "Vector(0: r, 1: f, 2: w, 3: g, 4: n, 5: r, 6: y, 7: a, 8: y, 9: s)\n",
        "--\n",
        "Vector(0: d, 1: i, 2: w, 3: r, 4: v, 5: y, 6: y, 7: k, 8: k, 9: -)\n",
        "Vector(0: r, 1: f, 2: p, 3: g, 4: n, 5: r, 6: y, 7: y, 8: t, 9: s)\n",
        "--\n",
        "Vector(0: d, 1: i, 2: s, 3: r, 4: v, 5: e, 6: r, 7: k, 8: w, 9: -)\n",
        "Vector(0: r, 1: v, 2: w, 3: g, 4: n, 5: t, 6: y, 7: w, 8: v, 9: v)\n",
        "--\n",
        "Vector(0: d, 1: i, 2: i, 3: r, 4: v, 5: -, 6: r, 7: k, 8: l, 9: -)\n"
       ]
      },
      {
       "output_type": "stream",
       "stream": "stdout",
       "text": [
        "Vector(0: y, 1: f, 2: w, 3: g, 4: n, 5: a, 6: y, 7: a, 8: c, 9: s)\n",
        "--\n",
        "Vector(0: d, 1: i, 2: i, 3: r, 4: v, 5: w, 6: r, 7: k, 8: q, 9: -)\n",
        "Vector(0: r, 1: f, 2: f, 3: g, 4: n, 5: k, 6: y, 7: h, 8: r, 9: s)\n",
        "--\n",
        "Vector(0: d, 1: i, 2: y, 3: r, 4: v, 5: r, 6: f, 7: k, 8: r, 9: q)\n",
        "Vector(0: r, 1: f, 2: r, 3: g, 4: n, 5: t, 6: y, 7: a, 8: r, 9: s)\n",
        "--\n",
        "Vector(0: d, 1: i, 2: m, 3: r, 4: v, 5: p, 6: q, 7: w, 8: w, 9: l)\n"
       ]
      },
      {
       "output_type": "stream",
       "stream": "stdout",
       "text": [
        "Vector(0: r, 1: f, 2: i, 3: g, 4: n, 5: r, 6: y, 7: a, 8: s, 9: s)\n",
        "--\n",
        "Vector(0: d, 1: i, 2: m, 3: r, 4: v, 5: l, 6: q, 7: w, 8: d, 9: k)\n",
        "Vector(0: r, 1: f, 2: w, 3: g, 4: n, 5: f, 6: y, 7: a, 8: n, 9: s)\n",
        "--\n",
        "Vector(0: d, 1: i, 2: m, 3: r, 4: v, 5: l, 6: q, 7: w, 8: l, 9: w)\n",
        "Vector(0: r, 1: f, 2: f, 3: g, 4: n, 5: r, 6: y, 7: h, 8: r, 9: s)\n",
        "--\n",
        "Vector(0: d, 1: i, 2: m, 3: r, 4: v, 5: l, 6: q, 7: g, 8: p, 9: w)\n",
        "Vector(0: h, 1: d, 2: l, 3: a, 4: a, 5: r, 6: y, 7: n, 8: g, 9: f)\n",
        "--\n",
        "Vector(0: d, 1: i, 2: m, 3: r, 4: v, 5: l, 6: c, 7: g, 8: k, 9: w)\n"
       ]
      },
      {
       "output_type": "stream",
       "stream": "stdout",
       "text": [
        "Vector(0: r, 1: i, 2: w, 3: g, 4: n, 5: r, 6: y, 7: a, 8: w, 9: s)\n",
        "--\n",
        "Vector(0: d, 1: i, 2: s, 3: r, 4: v, 5: y, 6: c, 7: g, 8: q, 9: w)\n",
        "Vector(0: r, 1: f, 2: f, 3: g, 4: n, 5: r, 6: y, 7: a, 8: r, 9: s)\n",
        "--\n",
        "Vector(0: d, 1: i, 2: s, 3: r, 4: v, 5: y, 6: k, 7: g, 8: r, 9: w)\n",
        "Vector(0: r, 1: f, 2: m, 3: d, 4: n, 5: k, 6: y, 7: a, 8: r, 9: s)\n",
        "--\n",
        "Vector(0: d, 1: i, 2: s, 3: r, 4: v, 5: y, 6: c, 7: g, 8: w, 9: w)\n"
       ]
      },
      {
       "output_type": "stream",
       "stream": "stdout",
       "text": [
        "Vector(0: r, 1: f, 2: f, 3: g, 4: h, 5: r, 6: y, 7: q, 8: r, 9: s)\n",
        "--\n",
        "Vector(0: d, 1: i, 2: s, 3: r, 4: v, 5: l, 6: c, 7: g, 8: g, 9: w)\n",
        "Vector(0: r, 1: i, 2: w, 3: g, 4: n, 5: f, 6: y, 7: a, 8: g, 9: s)\n",
        "--\n",
        "Vector(0: d, 1: i, 2: s, 3: r, 4: v, 5: y, 6: c, 7: g, 8: w, 9: w)\n",
        "Vector(0: r, 1: f, 2: w, 3: g, 4: n, 5: r, 6: y, 7: a, 8: m, 9: s)\n",
        "--\n",
        "Vector(0: d, 1: i, 2: s, 3: r, 4: v, 5: y, 6: c, 7: g, 8: y, 9: w)\n"
       ]
      },
      {
       "output_type": "stream",
       "stream": "stdout",
       "text": [
        "Vector(0: a, 1: s, 2: t, 3: g, 4: c, 5: d, 6: c, 7: c, 8: -, 9: k)\n",
        "--\n",
        "Vector(0: d, 1: i, 2: s, 3: r, 4: v, 5: l, 6: c, 7: g, 8: r, 9: w)\n",
        "Vector(0: k, 1: i, 2: y, 3: k, 4: v, 5: a, 6: e, 7: w, 8: v, 9: s)\n",
        "--\n",
        "Vector(0: d, 1: i, 2: s, 3: r, 4: v, 5: y, 6: c, 7: g, 8: r, 9: w)\n",
        "Vector(0: q, 1: f, 2: l, 3: g, 4: n, 5: r, 6: y, 7: a, 8: r, 9: s)\n",
        "--\n",
        "Vector(0: d, 1: i, 2: s, 3: r, 4: v, 5: l, 6: c, 7: g, 8: w, 9: w)\n"
       ]
      },
      {
       "output_type": "stream",
       "stream": "stdout",
       "text": [
        "Vector(0: r, 1: f, 2: w, 3: g, 4: n, 5: r, 6: y, 7: a, 8: h, 9: s)\n",
        "--\n",
        "Vector(0: d, 1: i, 2: s, 3: r, 4: v, 5: l, 6: c, 7: g, 8: y, 9: w)\n",
        "Vector(0: r, 1: f, 2: w, 3: g, 4: n, 5: r, 6: y, 7: a, 8: r, 9: s)\n",
        "--\n",
        "Vector(0: d, 1: i, 2: i, 3: r, 4: v, 5: n, 6: c, 7: g, 8: s, 9: w)\n",
        "Vector(0: d, 1: i, 2: v, 3: f, 4: d, 5: r, 6: s, 7: i, 8: c, 9: n)\n",
        "--\n",
        "Vector(0: d, 1: i, 2: d, 3: r, 4: v, 5: v, 6: p, 7: w, 8: g, 9: m)\n"
       ]
      },
      {
       "output_type": "stream",
       "stream": "stdout",
       "text": [
        "Vector(0: i, 1: k, 2: w, 3: v, 4: w, 5: i, 6: s, 7: a, 8: l, 9: k)\n",
        "--\n",
        "Vector(0: d, 1: i, 2: d, 3: r, 4: v, 5: n, 6: p, 7: a, 8: q, 9: k)\n",
        "Vector(0: r, 1: f, 2: w, 3: g, 4: n, 5: r, 6: y, 7: a, 8: r, 9: s)\n",
        "--\n",
        "Vector(0: d, 1: i, 2: d, 3: r, 4: v, 5: n, 6: p, 7: w, 8: l, 9: l)\n",
        "Vector(0: r, 1: f, 2: w, 3: g, 4: n, 5: w, 6: y, 7: a, 8: r, 9: s)\n",
        "--\n",
        "Vector(0: d, 1: i, 2: w, 3: r, 4: v, 5: i, 6: w, 7: g, 8: g, 9: w)\n",
        "Vector(0: r, 1: f, 2: w, 3: g, 4: n, 5: r, 6: y, 7: a, 8: r, 9: s)\n",
        "--\n",
        "Vector(0: d, 1: i, 2: h, 3: r, 4: v, 5: a, 6: w, 7: g, 8: w, 9: -)\n"
       ]
      },
      {
       "output_type": "stream",
       "stream": "stdout",
       "text": [
        "Vector(0: r, 1: e, 2: t, 3: g, 4: -, 5: r, 6: r, 7: a, 8: w, 9: s)\n",
        "--\n",
        "Vector(0: d, 1: i, 2: h, 3: r, 4: v, 5: e, 6: w, 7: k, 8: m, 9: -)\n",
        "Vector(0: r, 1: c, 2: w, 3: g, 4: g, 5: r, 6: y, 7: a, 8: r, 9: s)\n",
        "--\n",
        "Vector(0: d, 1: i, 2: e, 3: r, 4: v, 5: e, 6: v, 7: w, 8: y, 9: d)\n",
        "Vector(0: r, 1: h, 2: w, 3: v, 4: n, 5: r, 6: y, 7: a, 8: f, 9: a)\n",
        "--\n",
        "Vector(0: d, 1: i, 2: e, 3: r, 4: v, 5: y, 6: v, 7: w, 8: q, 9: t)\n"
       ]
      },
      {
       "output_type": "stream",
       "stream": "stdout",
       "text": [
        "Vector(0: r, 1: f, 2: w, 3: g, 4: n, 5: r, 6: y, 7: a, 8: e, 9: s)\n",
        "--\n",
        "Vector(0: d, 1: i, 2: s, 3: r, 4: h, 5: g, 6: v, 7: w, 8: n, 9: t)\n",
        "Vector(0: r, 1: l, 2: w, 3: g, 4: n, 5: r, 6: y, 7: a, 8: v, 9: s)\n",
        "--\n",
        "Vector(0: d, 1: i, 2: t, 3: r, 4: v, 5: l, 6: v, 7: w, 8: w, 9: n)\n",
        "Vector(0: r, 1: f, 2: k, 3: g, 4: n, 5: h, 6: y, 7: a, 8: r, 9: s)\n",
        "--\n",
        "Vector(0: d, 1: i, 2: s, 3: r, 4: v, 5: h, 6: v, 7: w, 8: q, 9: a)\n"
       ]
      },
      {
       "output_type": "stream",
       "stream": "stdout",
       "text": [
        "Vector(0: r, 1: f, 2: w, 3: g, 4: n, 5: y, 6: y, 7: a, 8: r, 9: s)\n",
        "--\n",
        "Vector(0: d, 1: i, 2: s, 3: g, 4: s, 5: l, 6: i, 7: w, 8: c, 9: s)\n",
        "Vector(0: r, 1: f, 2: w, 3: g, 4: n, 5: h, 6: y, 7: a, 8: r, 9: s)\n",
        "--\n",
        "Vector(0: r, 1: i, 2: s, 3: g, 4: s, 5: k, 6: i, 7: w, 8: q, 9: s)\n",
        "Vector(0: r, 1: f, 2: w, 3: g, 4: n, 5: r, 6: y, 7: a, 8: r, 9: s)\n",
        "--\n",
        "Vector(0: c, 1: i, 2: s, 3: g, 4: s, 5: y, 6: i, 7: w, 8: r, 9: s)\n"
       ]
      },
      {
       "output_type": "stream",
       "stream": "stdout",
       "text": [
        "Vector(0: r, 1: f, 2: y, 3: g, 4: n, 5: r, 6: y, 7: a, 8: d, 9: s)\n",
        "--\n",
        "Vector(0: r, 1: i, 2: s, 3: g, 4: s, 5: y, 6: p, 7: w, 8: w, 9: s)\n",
        "Vector(0: r, 1: f, 2: w, 3: g, 4: n, 5: r, 6: y, 7: a, 8: r, 9: s)\n",
        "--\n",
        "Vector(0: r, 1: i, 2: d, 3: g, 4: l, 5: l, 6: p, 7: w, 8: r, 9: s)\n",
        "Vector(0: r, 1: f, 2: w, 3: g, 4: n, 5: c, 6: y, 7: a, 8: r, 9: s)\n",
        "--\n",
        "Vector(0: r, 1: i, 2: d, 3: g, 4: s, 5: n, 6: i, 7: w, 8: r, 9: s)\n",
        "Vector(0: r, 1: f, 2: w, 3: g, 4: n, 5: r, 6: y, 7: a, 8: r, 9: s)\n",
        "--\n",
        "Vector(0: r, 1: i, 2: d, 3: g, 4: s, 5: w, 6: v, 7: w, 8: a, 9: d)\n"
       ]
      },
      {
       "output_type": "stream",
       "stream": "stdout",
       "text": [
        "Vector(0: r, 1: f, 2: w, 3: g, 4: n, 5: r, 6: y, 7: a, 8: r, 9: s)\n",
        "--\n",
        "Vector(0: r, 1: i, 2: n, 3: g, 4: s, 5: w, 6: v, 7: w, 8: q, 9: d)\n",
        "Vector(0: r, 1: f, 2: w, 3: g, 4: n, 5: r, 6: y, 7: a, 8: r, 9: s)\n",
        "--\n",
        "Vector(0: r, 1: d, 2: s, 3: g, 4: s, 5: y, 6: y, 7: w, 8: w, 9: s)\n",
        "Vector(0: r, 1: f, 2: q, 3: g, 4: n, 5: -, 6: y, 7: a, 8: w, 9: s)\n",
        "--\n",
        "Vector(0: r, 1: i, 2: s, 3: g, 4: s, 5: l, 6: i, 7: w, 8: r, 9: s)\n"
       ]
      },
      {
       "output_type": "stream",
       "stream": "stdout",
       "text": [
        "Vector(0: r, 1: f, 2: w, 3: g, 4: n, 5: p, 6: y, 7: a, 8: r, 9: s)\n",
        "--\n",
        "Vector(0: s, 1: i, 2: s, 3: g, 4: s, 5: y, 6: i, 7: w, 8: w, 9: d)\n",
        "Vector(0: r, 1: f, 2: s, 3: g, 4: n, 5: l, 6: y, 7: a, 8: l, 9: s)\n",
        "--\n",
        "Vector(0: r, 1: i, 2: s, 3: g, 4: s, 5: y, 6: w, 7: w, 8: -, 9: d)\n",
        "Vector(0: r, 1: f, 2: w, 3: g, 4: n, 5: r, 6: y, 7: a, 8: r, 9: s)\n",
        "--\n",
        "Vector(0: r, 1: i, 2: s, 3: g, 4: s, 5: y, 6: v, 7: w, 8: a, 9: d)\n",
        "Vector(0: r, 1: f, 2: w, 3: g, 4: n, 5: r, 6: y, 7: a, 8: r, 9: s)\n",
        "--\n",
        "Vector(0: r, 1: d, 2: s, 3: g, 4: s, 5: l, 6: v, 7: w, 8: w, 9: d)\n"
       ]
      },
      {
       "output_type": "stream",
       "stream": "stdout",
       "text": [
        "Vector(0: r, 1: f, 2: w, 3: g, 4: n, 5: r, 6: y, 7: a, 8: r, 9: s)\n",
        "--\n",
        "Vector(0: r, 1: i, 2: s, 3: g, 4: s, 5: l, 6: c, 7: w, 8: y, 9: s)\n",
        "Vector(0: r, 1: f, 2: w, 3: g, 4: n, 5: r, 6: y, 7: a, 8: r, 9: s)\n",
        "--\n",
        "Vector(0: r, 1: i, 2: s, 3: g, 4: s, 5: l, 6: i, 7: w, 8: r, 9: s)\n",
        "Vector(0: r, 1: f, 2: w, 3: g, 4: n, 5: d, 6: y, 7: a, 8: r, 9: s)\n",
        "--\n",
        "Vector(0: r, 1: i, 2: s, 3: g, 4: s, 5: l, 6: i, 7: w, 8: w, 9: s)\n"
       ]
      },
      {
       "output_type": "stream",
       "stream": "stdout",
       "text": [
        "Vector(0: r, 1: f, 2: w, 3: g, 4: n, 5: r, 6: y, 7: a, 8: v, 9: s)\n",
        "--\n",
        "Vector(0: r, 1: i, 2: a, 3: g, 4: s, 5: r, 6: i, 7: w, 8: s, 9: s)\n",
        "Vector(0: r, 1: f, 2: i, 3: g, 4: n, 5: m, 6: y, 7: a, 8: r, 9: s)\n",
        "--\n",
        "Vector(0: r, 1: i, 2: l, 3: g, 4: s, 5: m, 6: p, 7: w, 8: r, 9: s)\n",
        "Vector(0: r, 1: f, 2: w, 3: g, 4: n, 5: r, 6: y, 7: a, 8: k, 9: s)\n",
        "--\n",
        "Vector(0: r, 1: i, 2: f, 3: g, 4: s, 5: i, 6: i, 7: w, 8: w, 9: s)\n"
       ]
      },
      {
       "output_type": "stream",
       "stream": "stdout",
       "text": [
        "Vector(0: r, 1: f, 2: w, 3: g, 4: n, 5: r, 6: y, 7: a, 8: a, 9: s)\n",
        "--\n",
        "Vector(0: r, 1: d, 2: v, 3: g, 4: s, 5: e, 6: w, 7: w, 8: r, 9: s)\n",
        "Vector(0: r, 1: f, 2: w, 3: g, 4: n, 5: r, 6: y, 7: a, 8: r, 9: s)\n",
        "--\n",
        "Vector(0: r, 1: i, 2: v, 3: g, 4: s, 5: w, 6: i, 7: w, 8: s, 9: s)\n",
        "Vector(0: r, 1: f, 2: w, 3: g, 4: n, 5: r, 6: y, 7: a, 8: r, 9: s)\n",
        "--\n",
        "Vector(0: r, 1: i, 2: a, 3: g, 4: s, 5: r, 6: i, 7: w, 8: w, 9: s)\n"
       ]
      },
      {
       "output_type": "stream",
       "stream": "stdout",
       "text": [
        "Vector(0: r, 1: f, 2: r, 3: g, 4: n, 5: y, 6: y, 7: a, 8: k, 9: s)\n",
        "--\n",
        "Vector(0: r, 1: i, 2: -, 3: g, 4: s, 5: w, 6: i, 7: w, 8: n, 9: s)\n",
        "Vector(0: r, 1: f, 2: w, 3: g, 4: n, 5: n, 6: y, 7: a, 8: r, 9: s)\n",
        "--\n",
        "Vector(0: r, 1: i, 2: l, 3: g, 4: s, 5: w, 6: i, 7: w, 8: w, 9: s)\n",
        "Vector(0: r, 1: f, 2: w, 3: g, 4: n, 5: r, 6: y, 7: a, 8: r, 9: s)\n",
        "--\n",
        "Vector(0: s, 1: i, 2: -, 3: g, 4: s, 5: r, 6: i, 7: w, 8: d, 9: s)\n",
        "Vector(0: r, 1: f, 2: r, 3: g, 4: n, 5: e, 6: y, 7: a, 8: r, 9: s)\n",
        "--\n",
        "Vector(0: r, 1: i, 2: w, 3: g, 4: s, 5: r, 6: p, 7: w, 8: p, 9: s)\n"
       ]
      },
      {
       "output_type": "stream",
       "stream": "stdout",
       "text": [
        "Vector(0: r, 1: f, 2: w, 3: g, 4: n, 5: r, 6: y, 7: a, 8: r, 9: s)\n",
        "--\n",
        "Vector(0: r, 1: i, 2: w, 3: g, 4: s, 5: e, 6: i, 7: w, 8: t, 9: s)\n",
        "Vector(0: r, 1: f, 2: w, 3: g, 4: n, 5: r, 6: y, 7: a, 8: s, 9: s)\n",
        "--\n",
        "Vector(0: r, 1: i, 2: a, 3: g, 4: s, 5: r, 6: i, 7: w, 8: s, 9: s)\n",
        "Vector(0: r, 1: f, 2: w, 3: g, 4: n, 5: h, 6: y, 7: a, 8: g, 9: s)\n",
        "--\n",
        "Vector(0: r, 1: i, 2: h, 3: g, 4: s, 5: n, 6: i, 7: w, 8: i, 9: s)\n"
       ]
      },
      {
       "output_type": "stream",
       "stream": "stdout",
       "text": [
        "Vector(0: r, 1: f, 2: w, 3: g, 4: n, 5: r, 6: y, 7: a, 8: -, 9: s)\n",
        "--\n",
        "Vector(0: r, 1: i, 2: i, 3: g, 4: s, 5: w, 6: y, 7: w, 8: w, 9: d)\n",
        "Vector(0: r, 1: f, 2: g, 3: g, 4: n, 5: i, 6: y, 7: a, 8: r, 9: s)\n",
        "--\n",
        "Vector(0: r, 1: i, 2: i, 3: g, 4: s, 5: l, 6: y, 7: w, 8: r, 9: s)\n",
        "Vector(0: r, 1: f, 2: w, 3: g, 4: n, 5: r, 6: y, 7: a, 8: r, 9: s)\n",
        "--\n",
        "Vector(0: r, 1: i, 2: i, 3: g, 4: s, 5: e, 6: i, 7: w, 8: r, 9: s)\n"
       ]
      },
      {
       "output_type": "stream",
       "stream": "stdout",
       "text": [
        "Vector(0: r, 1: f, 2: w, 3: g, 4: n, 5: f, 6: y, 7: a, 8: r, 9: s)\n",
        "--\n",
        "Vector(0: r, 1: s, 2: w, 3: g, 4: s, 5: m, 6: i, 7: -, 8: w, 9: s)\n",
        "Vector(0: r, 1: f, 2: i, 3: g, 4: n, 5: r, 6: y, 7: a, 8: r, 9: s)\n",
        "--\n",
        "Vector(0: r, 1: s, 2: w, 3: g, 4: n, 5: r, 6: y, 7: t, 8: r, 9: d)\n",
        "Vector(0: r, 1: f, 2: w, 3: g, 4: n, 5: r, 6: y, 7: a, 8: r, 9: s)\n",
        "--\n",
        "Vector(0: r, 1: i, 2: w, 3: g, 4: l, 5: v, 6: y, 7: f, 8: i, 9: s)\n"
       ]
      },
      {
       "output_type": "stream",
       "stream": "stdout",
       "text": [
        "Vector(0: r, 1: f, 2: w, 3: g, 4: n, 5: r, 6: y, 7: a, 8: v, 9: s)\n",
        "--\n",
        "Vector(0: r, 1: i, 2: w, 3: g, 4: n, 5: e, 6: y, 7: c, 8: q, 9: s)\n",
        "Vector(0: r, 1: f, 2: w, 3: g, 4: n, 5: r, 6: y, 7: a, 8: r, 9: s)\n",
        "--\n",
        "Vector(0: r, 1: f, 2: w, 3: g, 4: n, 5: r, 6: y, 7: a, 8: m, 9: s)\n",
        "Vector(0: r, 1: f, 2: w, 3: g, 4: n, 5: r, 6: y, 7: a, 8: r, 9: s)\n",
        "--\n",
        "Vector(0: r, 1: f, 2: w, 3: g, 4: n, 5: e, 6: y, 7: a, 8: h, 9: s)\n"
       ]
      },
      {
       "output_type": "stream",
       "stream": "stdout",
       "text": [
        "Vector(0: r, 1: f, 2: w, 3: g, 4: n, 5: r, 6: y, 7: a, 8: r, 9: s)\n",
        "--\n",
        "Vector(0: r, 1: f, 2: w, 3: g, 4: n, 5: e, 6: y, 7: c, 8: -, 9: s)\n",
        "Vector(0: r, 1: f, 2: s, 3: g, 4: n, 5: r, 6: y, 7: a, 8: p, 9: s)\n",
        "--\n",
        "Vector(0: r, 1: f, 2: i, 3: g, 4: n, 5: n, 6: y, 7: a, 8: l, 9: s)\n",
        "Vector(0: r, 1: f, 2: v, 3: g, 4: n, 5: k, 6: y, 7: a, 8: g, 9: s)\n",
        "--\n",
        "Vector(0: r, 1: f, 2: i, 3: g, 4: n, 5: l, 6: y, 7: a, 8: g, 9: s)\n",
        "Vector(0: r, 1: f, 2: w, 3: g, 4: n, 5: r, 6: y, 7: a, 8: r, 9: s)\n",
        "--\n",
        "Vector(0: r, 1: f, 2: a, 3: g, 4: n, 5: q, 6: a, 7: a, 8: r, 9: s)\n"
       ]
      },
      {
       "output_type": "stream",
       "stream": "stdout",
       "text": [
        "Vector(0: r, 1: f, 2: w, 3: g, 4: n, 5: r, 6: y, 7: a, 8: k, 9: s)\n",
        "--\n",
        "Vector(0: r, 1: f, 2: l, 3: g, 4: n, 5: m, 6: t, 7: a, 8: w, 9: s)\n",
        "Vector(0: r, 1: f, 2: w, 3: g, 4: n, 5: w, 6: y, 7: a, 8: c, 9: s)\n",
        "--\n",
        "Vector(0: r, 1: f, 2: -, 3: g, 4: n, 5: q, 6: t, 7: a, 8: i, 9: s)\n",
        "Vector(0: r, 1: f, 2: w, 3: g, 4: n, 5: r, 6: y, 7: a, 8: r, 9: s)\n",
        "--\n",
        "Vector(0: r, 1: f, 2: c, 3: g, 4: n, 5: f, 6: t, 7: a, 8: k, 9: s)\n"
       ]
      },
      {
       "output_type": "stream",
       "stream": "stdout",
       "text": [
        "Vector(0: r, 1: f, 2: w, 3: g, 4: n, 5: r, 6: y, 7: a, 8: r, 9: s)\n",
        "--\n",
        "Vector(0: r, 1: f, 2: a, 3: g, 4: n, 5: l, 6: y, 7: a, 8: p, 9: s)\n",
        "Vector(0: r, 1: f, 2: w, 3: g, 4: n, 5: r, 6: y, 7: a, 8: r, 9: s)\n",
        "--\n",
        "Vector(0: r, 1: f, 2: s, 3: g, 4: n, 5: l, 6: t, 7: a, 8: l, 9: s)\n",
        "Vector(0: r, 1: f, 2: w, 3: g, 4: n, 5: t, 6: y, 7: a, 8: r, 9: s)\n",
        "--\n",
        "Vector(0: r, 1: f, 2: s, 3: g, 4: n, 5: y, 6: t, 7: a, 8: -, 9: s)\n",
        "Vector(0: r, 1: f, 2: w, 3: g, 4: n, 5: e, 6: h, 7: a, 8: a, 9: s)\n",
        "--\n",
        "Vector(0: r, 1: f, 2: s, 3: g, 4: n, 5: l, 6: t, 7: a, 8: r, 9: s)\n"
       ]
      },
      {
       "output_type": "stream",
       "stream": "stdout",
       "text": [
        "Vector(0: r, 1: f, 2: w, 3: g, 4: n, 5: r, 6: y, 7: a, 8: r, 9: s)\n",
        "--\n",
        "Vector(0: r, 1: f, 2: s, 3: g, 4: n, 5: h, 6: t, 7: a, 8: p, 9: s)\n",
        "Vector(0: r, 1: f, 2: h, 3: g, 4: n, 5: r, 6: y, 7: a, 8: r, 9: s)\n",
        "--\n",
        "Vector(0: r, 1: f, 2: w, 3: g, 4: n, 5: r, 6: y, 7: a, 8: n, 9: s)\n",
        "Vector(0: r, 1: f, 2: w, 3: g, 4: n, 5: r, 6: y, 7: a, 8: r, 9: s)\n",
        "--\n",
        "Vector(0: r, 1: f, 2: w, 3: g, 4: n, 5: r, 6: y, 7: a, 8: w, 9: d)\n"
       ]
      },
      {
       "output_type": "stream",
       "stream": "stdout",
       "text": [
        "Vector(0: r, 1: f, 2: h, 3: g, 4: n, 5: t, 6: y, 7: a, 8: r, 9: s)\n",
        "--\n",
        "Vector(0: r, 1: q, 2: w, 3: g, 4: n, 5: a, 6: y, 7: a, 8: w, 9: s)\n",
        "Vector(0: r, 1: f, 2: w, 3: g, 4: n, 5: f, 6: y, 7: a, 8: e, 9: s)\n",
        "--\n",
        "Vector(0: r, 1: f, 2: d, 3: g, 4: n, 5: n, 6: a, 7: a, 8: q, 9: s)\n",
        "Vector(0: r, 1: f, 2: w, 3: g, 4: n, 5: r, 6: y, 7: a, 8: r, 9: s)\n",
        "--\n",
        "Vector(0: r, 1: f, 2: a, 3: g, 4: n, 5: r, 6: a, 7: a, 8: p, 9: s)\n"
       ]
      },
      {
       "output_type": "stream",
       "stream": "stdout",
       "text": [
        "Vector(0: r, 1: f, 2: w, 3: g, 4: n, 5: r, 6: y, 7: a, 8: r, 9: s)\n",
        "--\n",
        "Vector(0: r, 1: f, 2: e, 3: g, 4: n, 5: e, 6: s, 7: a, 8: w, 9: s)\n",
        "Vector(0: r, 1: f, 2: w, 3: g, 4: n, 5: r, 6: y, 7: a, 8: r, 9: s)\n",
        "--\n",
        "Vector(0: r, 1: f, 2: e, 3: g, 4: n, 5: e, 6: -, 7: a, 8: q, 9: s)\n",
        "Vector(0: r, 1: f, 2: w, 3: g, 4: n, 5: r, 6: y, 7: a, 8: r, 9: s)\n",
        "--\n",
        "Vector(0: r, 1: f, 2: k, 3: g, 4: n, 5: -, 6: a, 7: a, 8: c, 9: s)\n",
        "Vector(0: r, 1: f, 2: w, 3: g, 4: n, 5: r, 6: y, 7: a, 8: s, 9: s)\n",
        "--\n",
        "Vector(0: r, 1: f, 2: h, 3: g, 4: n, 5: r, 6: a, 7: a, 8: n, 9: s)\n"
       ]
      },
      {
       "output_type": "stream",
       "stream": "stdout",
       "text": [
        "Vector(0: r, 1: f, 2: t, 3: g, 4: n, 5: k, 6: y, 7: a, 8: r, 9: s)\n",
        "--\n",
        "Vector(0: r, 1: f, 2: e, 3: g, 4: n, 5: e, 6: t, 7: a, 8: r, 9: s)\n",
        "Vector(0: r, 1: f, 2: w, 3: g, 4: n, 5: r, 6: y, 7: a, 8: r, 9: s)\n",
        "--\n",
        "Vector(0: r, 1: v, 2: n, 3: g, 4: n, 5: r, 6: t, 7: a, 8: t, 9: s)\n",
        "Vector(0: r, 1: f, 2: w, 3: g, 4: n, 5: q, 6: y, 7: a, 8: r, 9: s)\n",
        "--\n",
        "Vector(0: r, 1: f, 2: n, 3: g, 4: n, 5: e, 6: t, 7: a, 8: -, 9: s)\n"
       ]
      },
      {
       "output_type": "stream",
       "stream": "stdout",
       "text": [
        "Vector(0: r, 1: f, 2: w, 3: g, 4: n, 5: r, 6: y, 7: a, 8: r, 9: s)\n",
        "--\n",
        "Vector(0: r, 1: f, 2: l, 3: g, 4: n, 5: l, 6: t, 7: a, 8: q, 9: s)\n",
        "Vector(0: r, 1: f, 2: w, 3: g, 4: n, 5: r, 6: y, 7: a, 8: -, 9: s)\n",
        "--\n",
        "Vector(0: r, 1: f, 2: s, 3: g, 4: n, 5: r, 6: t, 7: a, 8: s, 9: s)\n",
        "Vector(0: r, 1: f, 2: w, 3: g, 4: n, 5: y, 6: y, 7: a, 8: v, 9: s)\n",
        "--\n",
        "Vector(0: r, 1: f, 2: h, 3: g, 4: n, 5: r, 6: a, 7: a, 8: w, 9: s)\n"
       ]
      },
      {
       "output_type": "stream",
       "stream": "stdout",
       "text": [
        "Vector(0: r, 1: f, 2: w, 3: g, 4: n, 5: r, 6: y, 7: a, 8: t, 9: s)\n",
        "--\n",
        "Vector(0: r, 1: l, 2: n, 3: g, 4: n, 5: w, 6: t, 7: a, 8: c, 9: s)\n",
        "Vector(0: r, 1: f, 2: w, 3: g, 4: n, 5: d, 6: y, 7: a, 8: i, 9: s)\n",
        "--\n",
        "Vector(0: r, 1: f, 2: v, 3: g, 4: n, 5: e, 6: a, 7: a, 8: q, 9: r)\n",
        "Vector(0: r, 1: f, 2: -, 3: g, 4: n, 5: v, 6: y, 7: a, 8: r, 9: s)\n",
        "--\n",
        "Vector(0: r, 1: f, 2: e, 3: g, 4: n, 5: r, 6: a, 7: a, 8: a, 9: s)\n"
       ]
      },
      {
       "output_type": "stream",
       "stream": "stdout",
       "text": [
        "Vector(0: r, 1: f, 2: w, 3: g, 4: n, 5: r, 6: y, 7: a, 8: r, 9: s)\n",
        "--\n",
        "Vector(0: r, 1: f, 2: h, 3: g, 4: n, 5: r, 6: c, 7: a, 8: i, 9: s)\n",
        "Vector(0: r, 1: f, 2: f, 3: g, 4: n, 5: r, 6: y, 7: a, 8: s, 9: s)\n",
        "--\n",
        "Vector(0: r, 1: f, 2: s, 3: g, 4: n, 5: l, 6: -, 7: a, 8: h, 9: s)\n",
        "Vector(0: r, 1: f, 2: t, 3: g, 4: n, 5: w, 6: y, 7: a, 8: q, 9: s)\n",
        "--\n",
        "Vector(0: r, 1: f, 2: s, 3: g, 4: n, 5: g, 6: t, 7: a, 8: y, 9: s)\n",
        "Vector(0: r, 1: f, 2: w, 3: g, 4: n, 5: r, 6: y, 7: a, 8: r, 9: s)\n",
        "--\n",
        "Vector(0: r, 1: f, 2: c, 3: g, 4: n, 5: v, 6: t, 7: a, 8: r, 9: s)\n"
       ]
      },
      {
       "output_type": "stream",
       "stream": "stdout",
       "text": [
        "Vector(0: r, 1: f, 2: w, 3: g, 4: n, 5: r, 6: y, 7: a, 8: r, 9: s)\n",
        "--\n",
        "Vector(0: r, 1: f, 2: c, 3: g, 4: n, 5: -, 6: t, 7: a, 8: w, 9: s)\n",
        "Vector(0: r, 1: f, 2: w, 3: g, 4: n, 5: r, 6: y, 7: a, 8: v, 9: s)\n",
        "--\n",
        "Vector(0: r, 1: f, 2: c, 3: g, 4: n, 5: y, 6: t, 7: a, 8: r, 9: s)\n"
       ]
      },
      {
       "output_type": "stream",
       "stream": "stdout",
       "text": [
        "Vector(0: r, 1: f, 2: a, 3: g, 4: n, 5: r, 6: y, 7: a, 8: r, 9: s)\n",
        "--\n",
        "Vector(0: r, 1: f, 2: q, 3: g, 4: n, 5: f, 6: y, 7: a, 8: l, 9: s)\n",
        "Vector(0: r, 1: f, 2: m, 3: g, 4: n, 5: r, 6: y, 7: a, 8: r, 9: s)\n",
        "--\n",
        "Vector(0: r, 1: f, 2: w, 3: g, 4: n, 5: h, 6: y, 7: c, 8: p, 9: s)\n",
        "Vector(0: r, 1: f, 2: w, 3: g, 4: n, 5: r, 6: y, 7: a, 8: r, 9: s)\n",
        "--\n",
        "Vector(0: r, 1: f, 2: w, 3: g, 4: n, 5: r, 6: y, 7: a, 8: m, 9: s)\n",
        "Vector(0: r, 1: f, 2: w, 3: g, 4: n, 5: l, 6: y, 7: a, 8: p, 9: s)\n",
        "--\n",
        "Vector(0: r, 1: f, 2: w, 3: g, 4: n, 5: r, 6: y, 7: a, 8: y, 9: s)\n"
       ]
      },
      {
       "output_type": "stream",
       "stream": "stdout",
       "text": [
        "Vector(0: r, 1: f, 2: w, 3: g, 4: n, 5: k, 6: y, 7: a, 8: s, 9: s)\n",
        "--\n",
        "Vector(0: r, 1: f, 2: w, 3: g, 4: n, 5: r, 6: y, 7: a, 8: g, 9: s)\n",
        "Vector(0: r, 1: f, 2: w, 3: g, 4: n, 5: r, 6: y, 7: a, 8: s, 9: s)\n",
        "--\n",
        "Vector(0: r, 1: f, 2: w, 3: g, 4: n, 5: r, 6: c, 7: a, 8: w, 9: s)\n",
        "Vector(0: r, 1: f, 2: w, 3: g, 4: n, 5: r, 6: y, 7: a, 8: r, 9: s)\n",
        "--\n",
        "Vector(0: r, 1: f, 2: n, 3: g, 4: n, 5: e, 6: t, 7: a, 8: w, 9: s)\n"
       ]
      },
      {
       "output_type": "stream",
       "stream": "stdout",
       "text": [
        "Vector(0: r, 1: f, 2: w, 3: g, 4: n, 5: r, 6: y, 7: a, 8: r, 9: s)\n",
        "--\n",
        "Vector(0: r, 1: f, 2: s, 3: g, 4: n, 5: l, 6: t, 7: a, 8: i, 9: s)\n",
        "Vector(0: r, 1: f, 2: t, 3: g, 4: n, 5: r, 6: y, 7: a, 8: r, 9: s)\n",
        "--\n",
        "Vector(0: r, 1: f, 2: s, 3: g, 4: n, 5: l, 6: y, 7: a, 8: h, 9: s)\n",
        "Vector(0: r, 1: f, 2: w, 3: g, 4: n, 5: r, 6: y, 7: a, 8: k, 9: s)\n",
        "--\n",
        "Vector(0: r, 1: f, 2: i, 3: g, 4: n, 5: l, 6: y, 7: a, 8: s, 9: s)\n"
       ]
      },
      {
       "output_type": "stream",
       "stream": "stdout",
       "text": [
        "Vector(0: r, 1: f, 2: w, 3: g, 4: n, 5: r, 6: y, 7: a, 8: r, 9: s)\n",
        "--\n",
        "Vector(0: r, 1: f, 2: i, 3: g, 4: n, 5: w, 6: y, 7: a, 8: g, 9: s)\n",
        "Vector(0: r, 1: f, 2: w, 3: g, 4: n, 5: r, 6: y, 7: a, 8: g, 9: s)\n",
        "--\n",
        "Vector(0: r, 1: f, 2: i, 3: g, 4: n, 5: l, 6: y, 7: a, 8: w, 9: s)\n",
        "Vector(0: r, 1: f, 2: w, 3: g, 4: n, 5: -, 6: y, 7: a, 8: r, 9: s)\n",
        "--\n",
        "Vector(0: r, 1: f, 2: s, 3: g, 4: n, 5: n, 6: t, 7: a, 8: l, 9: s)\n",
        "Vector(0: r, 1: f, 2: w, 3: g, 4: n, 5: r, 6: y, 7: a, 8: r, 9: s)\n",
        "--\n",
        "Vector(0: r, 1: f, 2: g, 3: g, 4: n, 5: r, 6: t, 7: a, 8: -, 9: s)\n"
       ]
      },
      {
       "output_type": "stream",
       "stream": "stdout",
       "text": [
        "Vector(0: r, 1: f, 2: w, 3: g, 4: n, 5: q, 6: y, 7: a, 8: r, 9: s)\n",
        "--\n",
        "Vector(0: r, 1: f, 2: n, 3: g, 4: n, 5: n, 6: t, 7: a, 8: g, 9: s)\n",
        "Vector(0: r, 1: f, 2: w, 3: g, 4: n, 5: r, 6: y, 7: a, 8: r, 9: s)\n",
        "--\n",
        "Vector(0: r, 1: f, 2: f, 3: g, 4: n, 5: r, 6: t, 7: a, 8: w, 9: s)\n",
        "Vector(0: r, 1: f, 2: w, 3: g, 4: n, 5: r, 6: y, 7: a, 8: r, 9: s)\n",
        "--\n",
        "Vector(0: r, 1: f, 2: n, 3: g, 4: n, 5: r, 6: t, 7: a, 8: p, 9: s)\n"
       ]
      },
      {
       "output_type": "stream",
       "stream": "stdout",
       "text": [
        "Vector(0: r, 1: f, 2: w, 3: g, 4: n, 5: r, 6: y, 7: a, 8: m, 9: s)\n",
        "--\n",
        "Vector(0: r, 1: f, 2: n, 3: g, 4: n, 5: r, 6: t, 7: a, 8: r, 9: s)\n",
        "Vector(0: r, 1: f, 2: w, 3: g, 4: n, 5: v, 6: y, 7: a, 8: -, 9: s)\n",
        "--\n",
        "Vector(0: r, 1: f, 2: n, 3: g, 4: n, 5: w, 6: t, 7: a, 8: g, 9: s)\n",
        "Vector(0: r, 1: f, 2: w, 3: g, 4: n, 5: r, 6: y, 7: a, 8: w, 9: s)\n",
        "--\n",
        "Vector(0: r, 1: f, 2: i, 3: g, 4: n, 5: w, 6: y, 7: a, 8: g, 9: s)\n"
       ]
      },
      {
       "output_type": "stream",
       "stream": "stdout",
       "text": [
        "Vector(0: r, 1: f, 2: w, 3: g, 4: n, 5: r, 6: y, 7: a, 8: i, 9: s)\n",
        "--\n",
        "Vector(0: r, 1: f, 2: i, 3: g, 4: n, 5: t, 6: y, 7: a, 8: l, 9: s)\n",
        "Vector(0: r, 1: f, 2: w, 3: g, 4: n, 5: r, 6: y, 7: a, 8: f, 9: s)\n",
        "--\n",
        "Vector(0: r, 1: f, 2: w, 3: g, 4: n, 5: r, 6: y, 7: a, 8: y, 9: s)\n",
        "Vector(0: r, 1: f, 2: w, 3: g, 4: n, 5: r, 6: y, 7: a, 8: r, 9: s)\n",
        "--\n",
        "Vector(0: r, 1: f, 2: d, 3: g, 4: n, 5: w, 6: a, 7: a, 8: p, 9: s)\n"
       ]
      },
      {
       "output_type": "stream",
       "stream": "stdout",
       "text": [
        "Vector(0: r, 1: f, 2: q, 3: g, 4: n, 5: r, 6: y, 7: a, 8: h, 9: s)\n",
        "--\n",
        "Vector(0: r, 1: f, 2: c, 3: g, 4: n, 5: d, 6: t, 7: a, 8: q, 9: s)\n",
        "Vector(0: r, 1: f, 2: w, 3: g, 4: n, 5: s, 6: y, 7: a, 8: a, 9: s)\n",
        "--\n",
        "Vector(0: r, 1: f, 2: n, 3: g, 4: n, 5: n, 6: t, 7: a, 8: d, 9: s)\n",
        "Vector(0: r, 1: f, 2: w, 3: g, 4: n, 5: r, 6: y, 7: a, 8: r, 9: s)\n",
        "--\n",
        "Vector(0: r, 1: f, 2: i, 3: g, 4: n, 5: l, 6: c, 7: a, 8: i, 9: s)\n",
        "Vector(0: r, 1: f, 2: w, 3: g, 4: n, 5: y, 6: y, 7: a, 8: f, 9: s)\n",
        "--\n",
        "Vector(0: r, 1: f, 2: s, 3: g, 4: n, 5: n, 6: t, 7: a, 8: q, 9: s)\n"
       ]
      },
      {
       "output_type": "stream",
       "stream": "stdout",
       "text": [
        "Vector(0: r, 1: f, 2: w, 3: g, 4: n, 5: p, 6: y, 7: a, 8: r, 9: s)\n",
        "--\n",
        "Vector(0: r, 1: f, 2: c, 3: g, 4: n, 5: -, 6: t, 7: a, 8: w, 9: s)\n",
        "Vector(0: r, 1: f, 2: w, 3: g, 4: n, 5: k, 6: y, 7: a, 8: r, 9: s)\n",
        "--\n",
        "Vector(0: r, 1: f, 2: t, 3: g, 4: n, 5: -, 6: t, 7: a, 8: w, 9: s)\n",
        "Vector(0: r, 1: f, 2: w, 3: g, 4: n, 5: r, 6: y, 7: a, 8: r, 9: s)\n",
        "--\n",
        "Vector(0: r, 1: f, 2: c, 3: g, 4: n, 5: r, 6: t, 7: a, 8: r, 9: s)\n"
       ]
      },
      {
       "output_type": "stream",
       "stream": "stdout",
       "text": [
        "Vector(0: r, 1: f, 2: w, 3: g, 4: n, 5: r, 6: y, 7: a, 8: r, 9: s)\n",
        "--\n",
        "Vector(0: r, 1: f, 2: n, 3: g, 4: n, 5: y, 6: -, 7: a, 8: m, 9: s)\n",
        "Vector(0: r, 1: f, 2: f, 3: g, 4: n, 5: r, 6: y, 7: a, 8: r, 9: s)\n",
        "--\n",
        "Vector(0: r, 1: f, 2: s, 3: g, 4: n, 5: l, 6: -, 7: a, 8: w, 9: s)\n",
        "Vector(0: r, 1: f, 2: c, 3: g, 4: n, 5: r, 6: y, 7: a, 8: r, 9: s)\n",
        "--\n",
        "Vector(0: r, 1: f, 2: s, 3: g, 4: n, 5: l, 6: t, 7: a, 8: r, 9: s)\n"
       ]
      },
      {
       "output_type": "stream",
       "stream": "stdout",
       "text": [
        "Vector(0: r, 1: f, 2: w, 3: g, 4: n, 5: r, 6: y, 7: a, 8: r, 9: s)\n",
        "--\n",
        "Vector(0: r, 1: f, 2: s, 3: g, 4: n, 5: -, 6: -, 7: a, 8: w, 9: s)\n",
        "Vector(0: r, 1: f, 2: k, 3: g, 4: n, 5: r, 6: y, 7: a, 8: a, 9: s)\n",
        "--\n",
        "Vector(0: r, 1: f, 2: v, 3: g, 4: n, 5: a, 6: -, 7: a, 8: q, 9: s)\n",
        "Vector(0: r, 1: f, 2: w, 3: g, 4: n, 5: r, 6: y, 7: a, 8: r, 9: s)\n",
        "--\n",
        "Vector(0: r, 1: f, 2: k, 3: g, 4: n, 5: p, 6: a, 7: a, 8: w, 9: d)\n",
        "Vector(0: r, 1: f, 2: w, 3: g, 4: n, 5: r, 6: y, 7: a, 8: v, 9: s)\n",
        "--\n",
        "Vector(0: r, 1: f, 2: m, 3: g, 4: n, 5: l, 6: q, 7: a, 8: t, 9: d)\n"
       ]
      },
      {
       "output_type": "stream",
       "stream": "stdout",
       "text": [
        "Vector(0: r, 1: f, 2: w, 3: g, 4: n, 5: r, 6: y, 7: a, 8: v, 9: s)\n",
        "--\n",
        "Vector(0: r, 1: f, 2: s, 3: g, 4: n, 5: n, 6: y, 7: a, 8: i, 9: s)\n",
        "Vector(0: r, 1: f, 2: m, 3: g, 4: n, 5: r, 6: y, 7: a, 8: r, 9: s)\n",
        "--\n",
        "Vector(0: r, 1: f, 2: w, 3: g, 4: n, 5: r, 6: y, 7: a, 8: g, 9: s)\n",
        "Vector(0: r, 1: f, 2: w, 3: g, 4: n, 5: r, 6: y, 7: a, 8: w, 9: s)\n",
        "--\n",
        "Vector(0: r, 1: f, 2: w, 3: g, 4: n, 5: r, 6: y, 7: a, 8: r, 9: d)\n"
       ]
      },
      {
       "output_type": "stream",
       "stream": "stdout",
       "text": [
        "Vector(0: r, 1: f, 2: v, 3: g, 4: n, 5: c, 6: y, 7: a, 8: r, 9: s)\n",
        "--\n",
        "Vector(0: r, 1: f, 2: a, 3: g, 4: n, 5: l, 6: a, 7: a, 8: q, 9: s)\n",
        "Vector(0: r, 1: f, 2: w, 3: g, 4: n, 5: r, 6: y, 7: a, 8: k, 9: s)\n",
        "--\n",
        "Vector(0: r, 1: f, 2: m, 3: g, 4: n, 5: l, 6: t, 7: a, 8: r, 9: s)\n",
        "Vector(0: r, 1: f, 2: w, 3: g, 4: n, 5: a, 6: y, 7: a, 8: r, 9: s)\n",
        "--\n",
        "Vector(0: r, 1: f, 2: s, 3: g, 4: n, 5: l, 6: y, 7: a, 8: k, 9: s)\n"
       ]
      },
      {
       "output_type": "stream",
       "stream": "stdout",
       "text": [
        "Vector(0: r, 1: f, 2: y, 3: g, 4: n, 5: r, 6: y, 7: a, 8: r, 9: s)\n",
        "--\n",
        "Vector(0: r, 1: f, 2: i, 3: g, 4: n, 5: -, 6: y, 7: a, 8: k, 9: s)\n",
        "Vector(0: r, 1: f, 2: w, 3: g, 4: n, 5: r, 6: y, 7: a, 8: r, 9: s)\n",
        "--\n",
        "Vector(0: r, 1: f, 2: i, 3: g, 4: n, 5: l, 6: y, 7: a, 8: q, 9: s)\n",
        "Vector(0: r, 1: f, 2: w, 3: g, 4: n, 5: r, 6: y, 7: a, 8: r, 9: s)\n",
        "--\n",
        "Vector(0: r, 1: f, 2: i, 3: g, 4: n, 5: l, 6: y, 7: a, 8: n, 9: s)\n",
        "Vector(0: r, 1: f, 2: w, 3: g, 4: n, 5: r, 6: y, 7: a, 8: r, 9: s)\n",
        "--\n",
        "Vector(0: r, 1: f, 2: i, 3: g, 4: n, 5: e, 6: y, 7: a, 8: w, 9: s)\n"
       ]
      },
      {
       "output_type": "stream",
       "stream": "stdout",
       "text": [
        "Vector(0: r, 1: f, 2: w, 3: g, 4: n, 5: a, 6: y, 7: a, 8: r, 9: s)\n",
        "--\n",
        "Vector(0: r, 1: f, 2: w, 3: g, 4: n, 5: v, 6: y, 7: a, 8: l, 9: s)\n",
        "Vector(0: r, 1: f, 2: w, 3: g, 4: n, 5: r, 6: y, 7: a, 8: r, 9: s)\n",
        "--\n",
        "Vector(0: r, 1: f, 2: w, 3: g, 4: n, 5: r, 6: y, 7: a, 8: l, 9: s)\n",
        "Vector(0: r, 1: l, 2: w, 3: g, 4: n, 5: r, 6: n, 7: a, 8: r, 9: s)\n",
        "--\n",
        "Vector(0: r, 1: f, 2: w, 3: g, 4: n, 5: e, 6: y, 7: a, 8: y, 9: s)\n"
       ]
      },
      {
       "output_type": "stream",
       "stream": "stdout",
       "text": [
        "Vector(0: r, 1: f, 2: w, 3: g, 4: n, 5: r, 6: y, 7: a, 8: r, 9: s)\n",
        "--\n",
        "Vector(0: r, 1: f, 2: w, 3: g, 4: n, 5: e, 6: t, 7: a, 8: e, 9: s)\n",
        "Vector(0: r, 1: f, 2: w, 3: g, 4: n, 5: r, 6: y, 7: a, 8: r, 9: s)\n",
        "--\n",
        "Vector(0: r, 1: f, 2: s, 3: g, 4: n, 5: w, 6: y, 7: a, 8: p, 9: s)\n",
        "Vector(0: r, 1: f, 2: w, 3: g, 4: n, 5: e, 6: y, 7: a, 8: r, 9: s)\n",
        "--\n",
        "Vector(0: r, 1: f, 2: i, 3: g, 4: n, 5: l, 6: y, 7: c, 8: p, 9: s)\n"
       ]
      },
      {
       "output_type": "stream",
       "stream": "stdout",
       "text": [
        "Vector(0: r, 1: f, 2: w, 3: g, 4: n, 5: r, 6: y, 7: a, 8: r, 9: s)\n",
        "--\n",
        "Vector(0: r, 1: f, 2: i, 3: g, 4: n, 5: l, 6: y, 7: a, 8: r, 9: s)\n",
        "Vector(0: r, 1: f, 2: w, 3: g, 4: n, 5: r, 6: y, 7: a, 8: r, 9: s)\n",
        "--\n",
        "Vector(0: r, 1: f, 2: i, 3: g, 4: n, 5: -, 6: y, 7: a, 8: n, 9: s)\n",
        "Vector(0: r, 1: f, 2: w, 3: g, 4: n, 5: r, 6: y, 7: a, 8: r, 9: s)\n",
        "--\n",
        "Vector(0: r, 1: f, 2: i, 3: g, 4: n, 5: w, 6: t, 7: a, 8: a, 9: s)\n"
       ]
      },
      {
       "output_type": "stream",
       "stream": "stdout",
       "text": [
        "Vector(0: r, 1: f, 2: w, 3: g, 4: n, 5: w, 6: y, 7: a, 8: r, 9: s)\n",
        "--\n",
        "Vector(0: r, 1: f, 2: n, 3: g, 4: n, 5: w, 6: t, 7: a, 8: q, 9: s)\n",
        "Vector(0: r, 1: f, 2: t, 3: g, 4: n, 5: r, 6: i, 7: a, 8: r, 9: s)\n",
        "--\n",
        "Vector(0: r, 1: f, 2: d, 3: g, 4: n, 5: n, 6: a, 7: a, 8: w, 9: s)\n",
        "Vector(0: r, 1: f, 2: w, 3: g, 4: n, 5: r, 6: y, 7: a, 8: t, 9: s)\n",
        "--\n",
        "Vector(0: r, 1: f, 2: d, 3: g, 4: n, 5: n, 6: t, 7: a, 8: r, 9: s)\n",
        "Vector(0: r, 1: f, 2: f, 3: g, 4: n, 5: r, 6: y, 7: a, 8: r, 9: s)\n",
        "--\n",
        "Vector(0: r, 1: f, 2: d, 3: g, 4: n, 5: v, 6: a, 7: a, 8: p, 9: s)\n"
       ]
      },
      {
       "output_type": "stream",
       "stream": "stdout",
       "text": [
        "Vector(0: r, 1: f, 2: w, 3: g, 4: n, 5: c, 6: y, 7: a, 8: r, 9: s)\n",
        "--\n",
        "Vector(0: r, 1: f, 2: w, 3: g, 4: n, 5: r, 6: y, 7: a, 8: w, 9: s)\n",
        "Vector(0: r, 1: f, 2: w, 3: g, 4: n, 5: r, 6: y, 7: a, 8: r, 9: s)\n",
        "--\n",
        "Vector(0: r, 1: f, 2: w, 3: g, 4: n, 5: m, 6: c, 7: a, 8: p, 9: s)\n",
        "Vector(0: r, 1: f, 2: w, 3: g, 4: n, 5: d, 6: y, 7: a, 8: s, 9: s)\n",
        "--\n",
        "Vector(0: r, 1: f, 2: n, 3: g, 4: n, 5: w, 6: t, 7: a, 8: w, 9: s)\n"
       ]
      },
      {
       "output_type": "stream",
       "stream": "stdout",
       "text": [
        "Vector(0: r, 1: f, 2: i, 3: g, 4: n, 5: r, 6: y, 7: a, 8: r, 9: s)\n",
        "--\n",
        "Vector(0: r, 1: f, 2: c, 3: g, 4: n, 5: f, 6: t, 7: a, 8: g, 9: s)\n",
        "Vector(0: r, 1: f, 2: w, 3: g, 4: n, 5: r, 6: y, 7: a, 8: r, 9: s)\n",
        "--\n",
        "Vector(0: r, 1: f, 2: n, 3: g, 4: n, 5: r, 6: t, 7: a, 8: w, 9: s)\n",
        "Vector(0: r, 1: f, 2: w, 3: g, 4: n, 5: r, 6: y, 7: a, 8: r, 9: s)\n",
        "--\n",
        "Vector(0: r, 1: f, 2: n, 3: g, 4: p, 5: r, 6: c, 7: a, 8: f, 9: s)\n"
       ]
      },
      {
       "output_type": "stream",
       "stream": "stdout",
       "text": [
        "Vector(0: r, 1: f, 2: w, 3: g, 4: n, 5: r, 6: y, 7: a, 8: c, 9: s)\n",
        "--\n",
        "Vector(0: r, 1: f, 2: h, 3: g, 4: n, 5: r, 6: a, 7: a, 8: g, 9: s)\n",
        "Vector(0: r, 1: f, 2: w, 3: g, 4: n, 5: w, 6: y, 7: a, 8: l, 9: s)\n",
        "--\n",
        "Vector(0: r, 1: f, 2: e, 3: g, 4: n, 5: r, 6: a, 7: a, 8: w, 9: s)\n",
        "Vector(0: r, 1: f, 2: w, 3: g, 4: n, 5: n, 6: y, 7: a, 8: r, 9: s)\n",
        "--\n",
        "Vector(0: r, 1: i, 2: e, 3: g, 4: n, 5: e, 6: a, 7: c, 8: w, 9: s)\n",
        "Vector(0: r, 1: f, 2: w, 3: g, 4: n, 5: r, 6: y, 7: a, 8: r, 9: s)\n",
        "--\n",
        "Vector(0: r, 1: f, 2: w, 3: g, 4: n, 5: r, 6: y, 7: c, 8: q, 9: s)\n"
       ]
      },
      {
       "output_type": "stream",
       "stream": "stdout",
       "text": [
        "Vector(0: r, 1: f, 2: r, 3: g, 4: n, 5: r, 6: y, 7: a, 8: r, 9: s)\n",
        "--\n",
        "Vector(0: r, 1: f, 2: e, 3: g, 4: n, 5: y, 6: y, 7: a, 8: w, 9: s)\n",
        "Vector(0: r, 1: f, 2: m, 3: g, 4: n, 5: r, 6: y, 7: a, 8: r, 9: s)\n",
        "--\n",
        "Vector(0: r, 1: f, 2: w, 3: g, 4: n, 5: e, 6: y, 7: a, 8: k, 9: s)\n",
        "Vector(0: r, 1: v, 2: w, 3: g, 4: n, 5: r, 6: y, 7: a, 8: r, 9: s)\n",
        "--\n",
        "Vector(0: r, 1: f, 2: w, 3: g, 4: n, 5: v, 6: y, 7: a, 8: c, 9: s)\n"
       ]
      },
      {
       "output_type": "stream",
       "stream": "stdout",
       "text": [
        "Vector(0: r, 1: f, 2: w, 3: g, 4: n, 5: r, 6: y, 7: a, 8: r, 9: s)\n",
        "--\n",
        "Vector(0: r, 1: f, 2: w, 3: g, 4: n, 5: r, 6: y, 7: a, 8: w, 9: s)\n",
        "Vector(0: r, 1: f, 2: w, 3: g, 4: n, 5: r, 6: y, 7: a, 8: r, 9: s)\n",
        "--\n",
        "Vector(0: r, 1: f, 2: w, 3: g, 4: n, 5: r, 6: y, 7: a, 8: f, 9: s)\n",
        "Vector(0: r, 1: f, 2: w, 3: g, 4: n, 5: q, 6: t, 7: a, 8: l, 9: s)\n",
        "--\n",
        "Vector(0: r, 1: f, 2: w, 3: g, 4: n, 5: e, 6: y, 7: a, 8: h, 9: s)\n"
       ]
      },
      {
       "output_type": "stream",
       "stream": "stdout",
       "text": [
        "Vector(0: r, 1: f, 2: w, 3: g, 4: n, 5: r, 6: y, 7: a, 8: q, 9: s)\n",
        "--\n",
        "Vector(0: r, 1: f, 2: w, 3: g, 4: n, 5: f, 6: y, 7: a, 8: r, 9: s)\n",
        "Vector(0: r, 1: f, 2: w, 3: g, 4: n, 5: h, 6: y, 7: a, 8: i, 9: s)\n",
        "--\n",
        "Vector(0: r, 1: f, 2: e, 3: g, 4: n, 5: e, 6: -, 7: a, 8: y, 9: s)\n",
        "Vector(0: r, 1: f, 2: w, 3: g, 4: n, 5: l, 6: y, 7: a, 8: r, 9: s)\n",
        "--\n",
        "Vector(0: r, 1: f, 2: e, 3: g, 4: n, 5: r, 6: a, 7: a, 8: r, 9: s)\n"
       ]
      },
      {
       "output_type": "stream",
       "stream": "stdout",
       "text": [
        "Vector(0: r, 1: f, 2: w, 3: g, 4: n, 5: r, 6: y, 7: a, 8: r, 9: s)\n",
        "--\n",
        "Vector(0: r, 1: f, 2: h, 3: g, 4: n, 5: r, 6: t, 7: a, 8: i, 9: s)\n",
        "Vector(0: r, 1: f, 2: w, 3: g, 4: n, 5: r, 6: y, 7: a, 8: h, 9: s)\n",
        "--\n",
        "Vector(0: r, 1: f, 2: n, 3: g, 4: n, 5: p, 6: t, 7: a, 8: l, 9: s)\n",
        "Vector(0: r, 1: f, 2: r, 3: g, 4: n, 5: h, 6: y, 7: a, 8: r, 9: s)\n",
        "--\n",
        "Vector(0: r, 1: f, 2: f, 3: g, 4: n, 5: r, 6: t, 7: a, 8: n, 9: s)\n",
        "Vector(0: r, 1: f, 2: w, 3: g, 4: n, 5: r, 6: y, 7: a, 8: r, 9: s)\n",
        "--\n",
        "Vector(0: r, 1: f, 2: n, 3: g, 4: n, 5: r, 6: y, 7: a, 8: k, 9: s)\n"
       ]
      },
      {
       "output_type": "stream",
       "stream": "stdout",
       "text": [
        "Vector(0: r, 1: f, 2: w, 3: g, 4: n, 5: r, 6: y, 7: a, 8: r, 9: s)\n",
        "--\n",
        "Vector(0: r, 1: f, 2: w, 3: g, 4: n, 5: e, 6: t, 7: a, 8: r, 9: s)\n",
        "Vector(0: r, 1: f, 2: w, 3: g, 4: n, 5: r, 6: y, 7: a, 8: r, 9: s)\n",
        "--\n",
        "Vector(0: r, 1: f, 2: n, 3: g, 4: n, 5: r, 6: t, 7: a, 8: d, 9: s)\n",
        "Vector(0: r, 1: f, 2: w, 3: g, 4: n, 5: r, 6: y, 7: a, 8: r, 9: s)\n",
        "--\n",
        "Vector(0: r, 1: f, 2: s, 3: g, 4: n, 5: y, 6: t, 7: a, 8: d, 9: s)\n"
       ]
      },
      {
       "output_type": "stream",
       "stream": "stdout",
       "text": [
        "Vector(0: r, 1: f, 2: w, 3: g, 4: n, 5: r, 6: y, 7: a, 8: r, 9: s)\n",
        "--\n",
        "Vector(0: r, 1: f, 2: s, 3: g, 4: n, 5: e, 6: y, 7: a, 8: g, 9: s)\n",
        "Vector(0: r, 1: f, 2: p, 3: g, 4: n, 5: e, 6: y, 7: a, 8: r, 9: s)\n",
        "--\n",
        "Vector(0: r, 1: f, 2: i, 3: g, 4: n, 5: w, 6: y, 7: a, 8: w, 9: s)\n",
        "Vector(0: r, 1: f, 2: t, 3: g, 4: n, 5: n, 6: y, 7: a, 8: i, 9: s)\n",
        "--\n",
        "Vector(0: r, 1: f, 2: i, 3: g, 4: n, 5: -, 6: y, 7: a, 8: q, 9: s)\n"
       ]
      },
      {
       "output_type": "stream",
       "stream": "stdout",
       "text": [
        "Vector(0: r, 1: f, 2: w, 3: g, 4: n, 5: -, 6: y, 7: a, 8: r, 9: s)\n",
        "--\n",
        "Vector(0: r, 1: f, 2: w, 3: g, 4: n, 5: r, 6: y, 7: a, 8: r, 9: s)\n",
        "Vector(0: r, 1: f, 2: w, 3: g, 4: n, 5: r, 6: y, 7: a, 8: r, 9: s)\n",
        "--\n",
        "Vector(0: r, 1: f, 2: w, 3: g, 4: n, 5: r, 6: y, 7: a, 8: a, 9: s)\n",
        "Vector(0: r, 1: f, 2: d, 3: g, 4: n, 5: r, 6: y, 7: a, 8: m, 9: s)\n",
        "--\n",
        "Vector(0: r, 1: f, 2: w, 3: g, 4: n, 5: r, 6: t, 7: a, 8: n, 9: s)\n",
        "Vector(0: r, 1: f, 2: s, 3: g, 4: n, 5: r, 6: y, 7: a, 8: r, 9: s)\n",
        "--\n",
        "Vector(0: r, 1: f, 2: c, 3: g, 4: n, 5: w, 6: t, 7: a, 8: w, 9: s)\n"
       ]
      },
      {
       "output_type": "stream",
       "stream": "stdout",
       "text": [
        "Vector(0: r, 1: f, 2: w, 3: g, 4: n, 5: r, 6: y, 7: a, 8: r, 9: s)\n",
        "--\n",
        "Vector(0: r, 1: f, 2: d, 3: g, 4: n, 5: v, 6: t, 7: a, 8: l, 9: s)\n",
        "Vector(0: r, 1: f, 2: t, 3: g, 4: n, 5: r, 6: y, 7: a, 8: r, 9: s)\n",
        "--\n",
        "Vector(0: r, 1: f, 2: d, 3: g, 4: n, 5: n, 6: a, 7: a, 8: r, 9: s)\n",
        "Vector(0: r, 1: f, 2: w, 3: g, 4: n, 5: r, 6: y, 7: a, 8: r, 9: s)\n",
        "--\n",
        "Vector(0: r, 1: f, 2: d, 3: g, 4: n, 5: n, 6: y, 7: a, 8: q, 9: s)\n"
       ]
      },
      {
       "output_type": "stream",
       "stream": "stdout",
       "text": [
        "Vector(0: r, 1: f, 2: q, 3: g, 4: n, 5: r, 6: y, 7: a, 8: r, 9: s)\n",
        "--\n",
        "Vector(0: r, 1: f, 2: p, 3: g, 4: n, 5: p, 6: p, 7: a, 8: w, 9: s)\n",
        "Vector(0: r, 1: f, 2: w, 3: g, 4: n, 5: r, 6: y, 7: a, 8: r, 9: s)\n",
        "--\n",
        "Vector(0: r, 1: f, 2: f, 3: g, 4: n, 5: i, 6: y, 7: a, 8: s, 9: s)\n",
        "Vector(0: r, 1: f, 2: n, 3: g, 4: n, 5: r, 6: y, 7: a, 8: r, 9: s)\n",
        "--\n",
        "Vector(0: r, 1: f, 2: w, 3: g, 4: n, 5: h, 6: y, 7: a, 8: s, 9: s)\n"
       ]
      },
      {
       "output_type": "stream",
       "stream": "stdout",
       "text": [
        "Vector(0: r, 1: f, 2: w, 3: g, 4: n, 5: k, 6: y, 7: a, 8: r, 9: s)\n",
        "--\n",
        "Vector(0: r, 1: f, 2: w, 3: g, 4: n, 5: r, 6: y, 7: a, 8: w, 9: s)\n",
        "Vector(0: r, 1: f, 2: w, 3: g, 4: n, 5: w, 6: y, 7: a, 8: r, 9: s)\n",
        "--\n",
        "Vector(0: r, 1: f, 2: w, 3: g, 4: n, 5: i, 6: c, 7: a, 8: q, 9: s)\n",
        "Vector(0: r, 1: f, 2: a, 3: g, 4: n, 5: n, 6: y, 7: a, 8: r, 9: s)\n",
        "--\n",
        "Vector(0: r, 1: f, 2: q, 3: g, 4: n, 5: r, 6: y, 7: a, 8: c, 9: s)\n",
        "Vector(0: r, 1: f, 2: r, 3: g, 4: n, 5: r, 6: y, 7: a, 8: r, 9: s)\n",
        "--\n",
        "Vector(0: r, 1: f, 2: w, 3: g, 4: n, 5: n, 6: y, 7: a, 8: w, 9: s)\n"
       ]
      },
      {
       "output_type": "stream",
       "stream": "stdout",
       "text": [
        "Vector(0: r, 1: f, 2: w, 3: g, 4: n, 5: r, 6: y, 7: a, 8: r, 9: s)\n",
        "--\n",
        "Vector(0: r, 1: f, 2: s, 3: g, 4: n, 5: y, 6: -, 7: a, 8: y, 9: s)\n",
        "Vector(0: r, 1: f, 2: w, 3: g, 4: n, 5: r, 6: y, 7: a, 8: r, 9: s)\n",
        "--\n",
        "Vector(0: r, 1: f, 2: s, 3: g, 4: n, 5: y, 6: t, 7: a, 8: w, 9: s)\n",
        "Vector(0: r, 1: f, 2: w, 3: g, 4: n, 5: e, 6: y, 7: a, 8: r, 9: s)\n",
        "--\n",
        "Vector(0: r, 1: f, 2: s, 3: g, 4: n, 5: h, 6: t, 7: a, 8: l, 9: s)\n"
       ]
      },
      {
       "output_type": "stream",
       "stream": "stdout",
       "text": [
        "Vector(0: r, 1: f, 2: w, 3: g, 4: n, 5: r, 6: y, 7: a, 8: r, 9: s)\n",
        "--\n",
        "Vector(0: r, 1: f, 2: c, 3: g, 4: n, 5: d, 6: t, 7: a, 8: -, 9: s)\n",
        "Vector(0: r, 1: f, 2: w, 3: g, 4: n, 5: r, 6: y, 7: a, 8: r, 9: s)\n",
        "--\n",
        "Vector(0: r, 1: f, 2: c, 3: g, 4: n, 5: r, 6: t, 7: a, 8: q, 9: s)\n",
        "Vector(0: r, 1: f, 2: w, 3: g, 4: n, 5: r, 6: y, 7: a, 8: r, 9: s)\n",
        "--\n",
        "Vector(0: r, 1: f, 2: n, 3: g, 4: n, 5: r, 6: t, 7: a, 8: w, 9: s)\n"
       ]
      },
      {
       "output_type": "stream",
       "stream": "stdout",
       "text": [
        "Vector(0: r, 1: f, 2: w, 3: g, 4: n, 5: r, 6: y, 7: a, 8: r, 9: s)\n",
        "--\n",
        "Vector(0: r, 1: f, 2: a, 3: g, 4: n, 5: l, 6: -, 7: a, 8: l, 9: s)\n",
        "Vector(0: r, 1: f, 2: w, 3: g, 4: n, 5: -, 6: y, 7: a, 8: r, 9: s)\n",
        "--\n",
        "Vector(0: r, 1: f, 2: k, 3: g, 4: n, 5: a, 6: -, 7: a, 8: s, 9: s)\n",
        "Vector(0: r, 1: f, 2: w, 3: g, 4: n, 5: r, 6: y, 7: a, 8: r, 9: s)\n",
        "--\n",
        "Vector(0: r, 1: f, 2: e, 3: g, 4: n, 5: e, 6: a, 7: a, 8: q, 9: s)\n"
       ]
      },
      {
       "output_type": "stream",
       "stream": "stdout",
       "text": [
        "Vector(0: r, 1: f, 2: w, 3: g, 4: n, 5: d, 6: y, 7: a, 8: r, 9: s)\n",
        "--\n",
        "Vector(0: r, 1: f, 2: e, 3: g, 4: n, 5: e, 6: -, 7: a, 8: g, 9: s)\n",
        "Vector(0: r, 1: f, 2: w, 3: g, 4: n, 5: r, 6: y, 7: a, 8: l, 9: s)\n",
        "--\n",
        "Vector(0: r, 1: f, 2: e, 3: g, 4: n, 5: e, 6: a, 7: a, 8: w, 9: s)\n",
        "Vector(0: r, 1: f, 2: w, 3: g, 4: n, 5: r, 6: y, 7: a, 8: r, 9: s)\n",
        "--\n",
        "Vector(0: r, 1: f, 2: e, 3: g, 4: n, 5: r, 6: y, 7: a, 8: n, 9: s)\n",
        "Vector(0: r, 1: f, 2: w, 3: g, 4: n, 5: r, 6: y, 7: a, 8: r, 9: s)\n",
        "--\n",
        "Vector(0: r, 1: f, 2: w, 3: g, 4: n, 5: r, 6: y, 7: c, 8: w, 9: s)\n"
       ]
      },
      {
       "output_type": "stream",
       "stream": "stdout",
       "text": [
        "Vector(0: r, 1: f, 2: w, 3: g, 4: n, 5: r, 6: y, 7: a, 8: v, 9: s)\n",
        "--\n",
        "Vector(0: r, 1: f, 2: w, 3: g, 4: n, 5: r, 6: y, 7: a, 8: s, 9: s)\n",
        "Vector(0: r, 1: f, 2: w, 3: g, 4: n, 5: r, 6: y, 7: a, 8: r, 9: s)\n",
        "--\n",
        "Vector(0: r, 1: f, 2: r, 3: g, 4: n, 5: f, 6: t, 7: a, 8: r, 9: s)\n",
        "Vector(0: r, 1: f, 2: w, 3: g, 4: n, 5: r, 6: y, 7: a, 8: r, 9: s)\n",
        "--\n",
        "Vector(0: r, 1: f, 2: c, 3: g, 4: n, 5: n, 6: t, 7: a, 8: r, 9: s)\n"
       ]
      },
      {
       "output_type": "stream",
       "stream": "stdout",
       "text": [
        "Vector(0: r, 1: f, 2: w, 3: g, 4: n, 5: y, 6: y, 7: a, 8: r, 9: s)\n",
        "--\n",
        "Vector(0: r, 1: f, 2: c, 3: g, 4: n, 5: f, 6: t, 7: a, 8: c, 9: s)\n",
        "Vector(0: r, 1: f, 2: w, 3: g, 4: n, 5: l, 6: y, 7: a, 8: k, 9: s)\n",
        "--\n",
        "Vector(0: r, 1: f, 2: -, 3: g, 4: n, 5: r, 6: t, 7: a, 8: w, 9: s)\n",
        "Vector(0: r, 1: f, 2: w, 3: g, 4: n, 5: r, 6: y, 7: a, 8: r, 9: s)\n",
        "--\n",
        "Vector(0: r, 1: f, 2: a, 3: g, 4: n, 5: q, 6: a, 7: a, 8: q, 9: s)\n"
       ]
      },
      {
       "output_type": "stream",
       "stream": "stdout",
       "text": [
        "Vector(0: r, 1: f, 2: w, 3: g, 4: n, 5: r, 6: y, 7: a, 8: r, 9: s)\n",
        "--\n",
        "Vector(0: r, 1: f, 2: c, 3: g, 4: n, 5: v, 6: t, 7: a, 8: r, 9: s)\n",
        "Vector(0: r, 1: f, 2: w, 3: g, 4: n, 5: e, 6: y, 7: a, 8: r, 9: s)\n",
        "--\n",
        "Vector(0: r, 1: f, 2: d, 3: g, 4: n, 5: w, 6: p, 7: a, 8: s, 9: s)\n",
        "Vector(0: r, 1: f, 2: w, 3: g, 4: n, 5: r, 6: y, 7: a, 8: l, 9: s)\n",
        "--\n",
        "Vector(0: r, 1: f, 2: f, 3: g, 4: n, 5: i, 6: t, 7: a, 8: r, 9: s)\n"
       ]
      },
      {
       "output_type": "stream",
       "stream": "stdout",
       "text": [
        "Vector(0: r, 1: f, 2: w, 3: g, 4: n, 5: d, 6: y, 7: a, 8: r, 9: s)\n",
        "--\n",
        "Vector(0: r, 1: f, 2: -, 3: g, 4: n, 5: n, 6: t, 7: a, 8: q, 9: s)\n",
        "Vector(0: r, 1: f, 2: w, 3: g, 4: n, 5: r, 6: y, 7: a, 8: r, 9: s)\n",
        "--\n",
        "Vector(0: r, 1: f, 2: i, 3: g, 4: n, 5: e, 6: y, 7: a, 8: r, 9: s)\n",
        "Vector(0: r, 1: f, 2: w, 3: g, 4: n, 5: r, 6: y, 7: a, 8: m, 9: s)\n",
        "--\n",
        "Vector(0: r, 1: f, 2: w, 3: g, 4: p, 5: r, 6: y, 7: c, 8: q, 9: s)\n",
        "Vector(0: r, 1: f, 2: w, 3: g, 4: n, 5: e, 6: y, 7: a, 8: r, 9: s)\n",
        "--\n",
        "Vector(0: r, 1: f, 2: w, 3: g, 4: n, 5: r, 6: y, 7: a, 8: t, 9: s)\n"
       ]
      },
      {
       "output_type": "stream",
       "stream": "stdout",
       "text": [
        "Vector(0: r, 1: f, 2: w, 3: g, 4: n, 5: t, 6: y, 7: a, 8: m, 9: s)\n",
        "--\n",
        "Vector(0: r, 1: f, 2: s, 3: g, 4: n, 5: l, 6: t, 7: a, 8: t, 9: s)\n",
        "Vector(0: r, 1: f, 2: w, 3: g, 4: n, 5: y, 6: y, 7: a, 8: s, 9: s)\n",
        "--\n",
        "Vector(0: r, 1: f, 2: s, 3: g, 4: n, 5: y, 6: -, 7: a, 8: r, 9: s)\n",
        "Vector(0: r, 1: f, 2: w, 3: g, 4: n, 5: r, 6: y, 7: a, 8: r, 9: s)\n",
        "--\n",
        "Vector(0: r, 1: f, 2: s, 3: g, 4: n, 5: l, 6: -, 7: a, 8: q, 9: s)\n"
       ]
      },
      {
       "output_type": "stream",
       "stream": "stdout",
       "text": [
        "Vector(0: r, 1: f, 2: w, 3: g, 4: n, 5: r, 6: y, 7: a, 8: r, 9: s)\n",
        "--\n",
        "Vector(0: r, 1: f, 2: s, 3: g, 4: n, 5: l, 6: -, 7: a, 8: r, 9: s)\n",
        "Vector(0: r, 1: f, 2: s, 3: g, 4: n, 5: r, 6: y, 7: a, 8: r, 9: s)\n",
        "--\n",
        "Vector(0: r, 1: f, 2: k, 3: g, 4: n, 5: q, 6: -, 7: a, 8: q, 9: s)\n",
        "Vector(0: r, 1: f, 2: w, 3: g, 4: n, 5: r, 6: y, 7: a, 8: r, 9: s)\n",
        "--\n",
        "Vector(0: r, 1: f, 2: a, 3: g, 4: n, 5: l, 6: y, 7: c, 8: l, 9: s)\n"
       ]
      },
      {
       "output_type": "stream",
       "stream": "stdout",
       "text": [
        "Vector(0: r, 1: f, 2: w, 3: g, 4: n, 5: r, 6: y, 7: a, 8: g, 9: s)\n",
        "--\n",
        "Vector(0: r, 1: f, 2: i, 3: g, 4: n, 5: l, 6: y, 7: a, 8: g, 9: s)\n",
        "Vector(0: r, 1: f, 2: w, 3: g, 4: n, 5: r, 6: y, 7: a, 8: r, 9: s)\n",
        "--\n",
        "Vector(0: r, 1: f, 2: i, 3: g, 4: n, 5: l, 6: y, 7: a, 8: s, 9: s)\n",
        "Vector(0: r, 1: f, 2: v, 3: g, 4: n, 5: r, 6: y, 7: a, 8: r, 9: s)\n",
        "--\n",
        "Vector(0: r, 1: f, 2: i, 3: g, 4: n, 5: w, 6: y, 7: a, 8: l, 9: s)\n",
        "Vector(0: r, 1: f, 2: e, 3: g, 4: n, 5: r, 6: y, 7: a, 8: r, 9: s)\n",
        "--\n",
        "Vector(0: r, 1: f, 2: i, 3: g, 4: n, 5: w, 6: y, 7: a, 8: r, 9: s)\n"
       ]
      },
      {
       "output_type": "stream",
       "stream": "stdout",
       "text": [
        "Vector(0: r, 1: f, 2: m, 3: g, 4: n, 5: r, 6: y, 7: a, 8: r, 9: s)\n",
        "--\n",
        "Vector(0: r, 1: f, 2: i, 3: g, 4: n, 5: w, 6: y, 7: a, 8: k, 9: s)\n",
        "Vector(0: r, 1: f, 2: w, 3: g, 4: n, 5: r, 6: y, 7: a, 8: r, 9: s)\n",
        "--\n",
        "Vector(0: r, 1: f, 2: i, 3: g, 4: n, 5: l, 6: y, 7: a, 8: g, 9: s)\n",
        "Vector(0: r, 1: f, 2: w, 3: g, 4: n, 5: f, 6: y, 7: a, 8: r, 9: s)\n",
        "--\n",
        "Vector(0: r, 1: f, 2: i, 3: g, 4: n, 5: -, 6: y, 7: a, 8: s, 9: s)\n"
       ]
      },
      {
       "output_type": "stream",
       "stream": "stdout",
       "text": [
        "Vector(0: r, 1: f, 2: w, 3: g, 4: n, 5: c, 6: y, 7: a, 8: r, 9: s)\n",
        "--\n",
        "Vector(0: r, 1: f, 2: c, 3: g, 4: n, 5: r, 6: t, 7: a, 8: c, 9: s)\n",
        "Vector(0: r, 1: f, 2: p, 3: g, 4: n, 5: r, 6: y, 7: a, 8: m, 9: s)\n",
        "--\n",
        "Vector(0: r, 1: f, 2: s, 3: g, 4: n, 5: y, 6: y, 7: a, 8: h, 9: s)\n",
        "Vector(0: r, 1: f, 2: w, 3: g, 4: n, 5: r, 6: y, 7: a, 8: r, 9: s)\n",
        "--\n",
        "Vector(0: r, 1: f, 2: i, 3: g, 4: n, 5: -, 6: y, 7: a, 8: w, 9: s)\n"
       ]
      },
      {
       "output_type": "stream",
       "stream": "stdout",
       "text": [
        "Vector(0: r, 1: f, 2: w, 3: g, 4: n, 5: r, 6: y, 7: a, 8: r, 9: s)\n",
        "--\n",
        "Vector(0: r, 1: f, 2: i, 3: g, 4: n, 5: l, 6: y, 7: a, 8: w, 9: s)\n",
        "Vector(0: r, 1: f, 2: w, 3: g, 4: n, 5: r, 6: y, 7: a, 8: r, 9: s)\n",
        "--\n",
        "Vector(0: r, 1: f, 2: s, 3: g, 4: n, 5: l, 6: t, 7: a, 8: i, 9: s)\n",
        "Vector(0: r, 1: f, 2: w, 3: g, 4: n, 5: r, 6: y, 7: a, 8: v, 9: s)\n",
        "--\n",
        "Vector(0: r, 1: f, 2: s, 3: g, 4: n, 5: h, 6: t, 7: a, 8: d, 9: s)\n"
       ]
      },
      {
       "output_type": "stream",
       "stream": "stdout",
       "text": [
        "Vector(0: r, 1: f, 2: p, 3: g, 4: n, 5: i, 6: y, 7: a, 8: a, 9: s)\n",
        "--\n",
        "Vector(0: r, 1: f, 2: s, 3: g, 4: n, 5: h, 6: t, 7: a, 8: d, 9: s)\n",
        "Vector(0: r, 1: f, 2: w, 3: g, 4: n, 5: r, 6: y, 7: a, 8: v, 9: s)\n",
        "--\n",
        "Vector(0: r, 1: f, 2: r, 3: g, 4: n, 5: a, 6: t, 7: a, 8: t, 9: s)\n",
        "Vector(0: r, 1: f, 2: w, 3: g, 4: n, 5: r, 6: y, 7: a, 8: r, 9: s)\n",
        "--\n",
        "Vector(0: r, 1: f, 2: d, 3: g, 4: n, 5: n, 6: a, 7: a, 8: r, 9: s)\n",
        "Vector(0: r, 1: f, 2: w, 3: g, 4: n, 5: r, 6: y, 7: a, 8: g, 9: s)\n",
        "--\n",
        "Vector(0: r, 1: f, 2: k, 3: g, 4: n, 5: n, 6: -, 7: a, 8: g, 9: s)\n"
       ]
      },
      {
       "output_type": "stream",
       "stream": "stdout",
       "text": [
        "Vector(0: r, 1: f, 2: w, 3: g, 4: n, 5: r, 6: y, 7: a, 8: y, 9: s)\n",
        "--\n",
        "Vector(0: r, 1: f, 2: k, 3: g, 4: n, 5: -, 6: -, 7: a, 8: q, 9: s)\n",
        "Vector(0: r, 1: f, 2: w, 3: g, 4: n, 5: g, 6: y, 7: a, 8: q, 9: s)\n",
        "--\n",
        "Vector(0: r, 1: f, 2: v, 3: g, 4: n, 5: e, 6: -, 7: a, 8: w, 9: s)\n",
        "Vector(0: r, 1: f, 2: w, 3: g, 4: n, 5: n, 6: y, 7: a, 8: -, 9: s)\n",
        "--\n",
        "Vector(0: r, 1: f, 2: e, 3: g, 4: n, 5: e, 6: a, 7: a, 8: w, 9: d)\n"
       ]
      },
      {
       "output_type": "stream",
       "stream": "stdout",
       "text": [
        "Vector(0: r, 1: f, 2: p, 3: g, 4: n, 5: r, 6: y, 7: a, 8: r, 9: s)\n",
        "--\n",
        "Vector(0: r, 1: f, 2: e, 3: g, 4: n, 5: f, 6: y, 7: a, 8: n, 9: s)\n",
        "Vector(0: r, 1: f, 2: w, 3: g, 4: n, 5: r, 6: y, 7: a, 8: r, 9: s)\n",
        "--\n",
        "Vector(0: r, 1: f, 2: w, 3: g, 4: n, 5: e, 6: a, 7: a, 8: q, 9: s)\n",
        "Vector(0: r, 1: f, 2: v, 3: g, 4: n, 5: i, 6: y, 7: a, 8: r, 9: s)\n",
        "--\n",
        "Vector(0: r, 1: f, 2: e, 3: g, 4: n, 5: y, 6: a, 7: a, 8: w, 9: s)\n"
       ]
      },
      {
       "output_type": "stream",
       "stream": "stdout",
       "text": [
        "Vector(0: r, 1: f, 2: w, 3: g, 4: n, 5: r, 6: y, 7: a, 8: r, 9: s)\n",
        "--\n",
        "Vector(0: r, 1: f, 2: s, 3: g, 4: n, 5: l, 6: y, 7: a, 8: m, 9: s)\n",
        "Vector(0: r, 1: f, 2: w, 3: g, 4: n, 5: r, 6: y, 7: a, 8: r, 9: s)\n",
        "--\n",
        "Vector(0: r, 1: f, 2: s, 3: g, 4: n, 5: l, 6: t, 7: a, 8: w, 9: s)\n",
        "Vector(0: r, 1: f, 2: w, 3: g, 4: n, 5: y, 6: y, 7: a, 8: r, 9: s)\n",
        "--\n",
        "Vector(0: r, 1: f, 2: k, 3: g, 4: s, 5: -, 6: -, 7: a, 8: l, 9: s)\n"
       ]
      },
      {
       "output_type": "stream",
       "stream": "stdout",
       "text": [
        "Vector(0: r, 1: f, 2: w, 3: g, 4: n, 5: r, 6: y, 7: a, 8: r, 9: s)\n",
        "--\n",
        "Vector(0: r, 1: f, 2: v, 3: g, 4: n, 5: -, 6: c, 7: a, 8: r, 9: s)\n",
        "Vector(0: r, 1: f, 2: w, 3: g, 4: n, 5: r, 6: y, 7: a, 8: i, 9: s)\n",
        "--\n",
        "Vector(0: r, 1: f, 2: k, 3: g, 4: n, 5: -, 6: -, 7: a, 8: s, 9: s)\n",
        "Vector(0: r, 1: f, 2: w, 3: g, 4: n, 5: r, 6: y, 7: a, 8: r, 9: s)\n",
        "--\n",
        "Vector(0: r, 1: f, 2: k, 3: g, 4: n, 5: -, 6: -, 7: a, 8: r, 9: s)\n"
       ]
      },
      {
       "output_type": "stream",
       "stream": "stdout",
       "text": [
        "Vector(0: r, 1: f, 2: w, 3: g, 4: n, 5: r, 6: y, 7: a, 8: r, 9: s)\n",
        "--\n",
        "Vector(0: r, 1: f, 2: v, 3: g, 4: n, 5: w, 6: t, 7: a, 8: q, 9: s)\n",
        "Vector(0: r, 1: f, 2: w, 3: g, 4: n, 5: r, 6: y, 7: a, 8: r, 9: s)\n",
        "--\n",
        "Vector(0: r, 1: f, 2: n, 3: g, 4: n, 5: e, 6: t, 7: a, 8: w, 9: s)\n",
        "Vector(0: r, 1: f, 2: w, 3: g, 4: n, 5: r, 6: y, 7: a, 8: r, 9: s)\n",
        "--\n",
        "Vector(0: r, 1: f, 2: a, 3: g, 4: n, 5: w, 6: y, 7: a, 8: i, 9: s)\n",
        "Vector(0: r, 1: f, 2: w, 3: g, 4: n, 5: r, 6: y, 7: a, 8: e, 9: s)\n",
        "--\n",
        "Vector(0: r, 1: f, 2: i, 3: g, 4: n, 5: l, 6: y, 7: a, 8: w, 9: s)\n"
       ]
      },
      {
       "output_type": "stream",
       "stream": "stdout",
       "text": [
        "Vector(0: r, 1: f, 2: w, 3: g, 4: n, 5: y, 6: y, 7: a, 8: r, 9: s)\n",
        "--\n",
        "Vector(0: r, 1: f, 2: a, 3: g, 4: n, 5: l, 6: y, 7: a, 8: r, 9: s)\n",
        "Vector(0: r, 1: f, 2: w, 3: g, 4: n, 5: q, 6: y, 7: a, 8: y, 9: s)\n",
        "--\n",
        "Vector(0: r, 1: f, 2: i, 3: g, 4: n, 5: n, 6: y, 7: a, 8: y, 9: s)\n",
        "Vector(0: r, 1: f, 2: w, 3: g, 4: n, 5: w, 6: y, 7: a, 8: w, 9: s)\n",
        "--\n",
        "Vector(0: r, 1: f, 2: i, 3: g, 4: n, 5: -, 6: y, 7: a, 8: l, 9: d)\n"
       ]
      },
      {
       "output_type": "stream",
       "stream": "stdout",
       "text": [
        "Vector(0: r, 1: f, 2: i, 3: g, 4: n, 5: r, 6: y, 7: a, 8: e, 9: s)\n",
        "--\n",
        "Vector(0: r, 1: f, 2: i, 3: g, 4: n, 5: w, 6: y, 7: a, 8: g, 9: d)\n",
        "Vector(0: r, 1: f, 2: w, 3: g, 4: n, 5: r, 6: y, 7: a, 8: r, 9: s)\n",
        "--\n",
        "Vector(0: r, 1: f, 2: i, 3: g, 4: n, 5: w, 6: y, 7: a, 8: l, 9: s)\n",
        "Vector(0: r, 1: f, 2: w, 3: g, 4: n, 5: r, 6: y, 7: a, 8: y, 9: s)\n",
        "--\n",
        "Vector(0: r, 1: f, 2: i, 3: g, 4: n, 5: l, 6: y, 7: a, 8: r, 9: s)\n",
        "Vector(0: r, 1: f, 2: w, 3: g, 4: n, 5: w, 6: y, 7: a, 8: r, 9: s)\n",
        "--\n",
        "Vector(0: r, 1: f, 2: a, 3: g, 4: n, 5: l, 6: p, 7: a, 8: w, 9: s)\n"
       ]
      },
      {
       "output_type": "stream",
       "stream": "stdout",
       "text": [
        "Vector(0: r, 1: f, 2: h, 3: g, 4: n, 5: r, 6: y, 7: a, 8: k, 9: s)\n",
        "--\n",
        "Vector(0: r, 1: f, 2: s, 3: g, 4: n, 5: h, 6: t, 7: a, 8: w, 9: s)\n",
        "Vector(0: r, 1: f, 2: w, 3: g, 4: n, 5: r, 6: y, 7: a, 8: g, 9: s)\n",
        "--\n",
        "Vector(0: r, 1: f, 2: s, 3: g, 4: n, 5: d, 6: -, 7: a, 8: n, 9: s)\n",
        "Vector(0: r, 1: f, 2: w, 3: g, 4: n, 5: r, 6: y, 7: a, 8: r, 9: s)\n",
        "--\n",
        "Vector(0: r, 1: f, 2: s, 3: g, 4: n, 5: h, 6: t, 7: a, 8: q, 9: s)\n"
       ]
      },
      {
       "output_type": "stream",
       "stream": "stdout",
       "text": [
        "Vector(0: r, 1: f, 2: w, 3: g, 4: n, 5: r, 6: y, 7: a, 8: r, 9: s)\n",
        "--\n",
        "Vector(0: r, 1: f, 2: s, 3: g, 4: n, 5: l, 6: y, 7: a, 8: l, 9: s)\n",
        "Vector(0: r, 1: f, 2: w, 3: g, 4: n, 5: r, 6: y, 7: a, 8: n, 9: s)\n",
        "--\n",
        "Vector(0: r, 1: f, 2: i, 3: g, 4: n, 5: -, 6: y, 7: a, 8: r, 9: s)\n",
        "Vector(0: r, 1: f, 2: i, 3: g, 4: n, 5: r, 6: y, 7: a, 8: r, 9: s)\n",
        "--\n",
        "Vector(0: r, 1: h, 2: i, 3: g, 4: n, 5: l, 6: a, 7: h, 8: l, 9: s)\n"
       ]
      },
      {
       "output_type": "stream",
       "stream": "stdout",
       "text": [
        "Vector(0: r, 1: f, 2: w, 3: g, 4: n, 5: r, 6: y, 7: a, 8: r, 9: s)\n",
        "--\n",
        "Vector(0: r, 1: f, 2: a, 3: g, 4: n, 5: r, 6: i, 7: a, 8: t, 9: s)\n",
        "Vector(0: r, 1: f, 2: r, 3: g, 4: n, 5: l, 6: y, 7: a, 8: -, 9: s)\n",
        "--\n",
        "Vector(0: r, 1: f, 2: w, 3: g, 4: n, 5: r, 6: c, 7: a, 8: r, 9: s)\n",
        "Vector(0: r, 1: f, 2: w, 3: g, 4: n, 5: r, 6: y, 7: a, 8: w, 9: s)\n",
        "--\n",
        "Vector(0: r, 1: f, 2: n, 3: g, 4: n, 5: l, 6: t, 7: a, 8: d, 9: s)\n"
       ]
      },
      {
       "output_type": "stream",
       "stream": "stdout",
       "text": [
        "Vector(0: r, 1: f, 2: w, 3: g, 4: n, 5: m, 6: y, 7: a, 8: r, 9: s)\n",
        "--\n",
        "Vector(0: r, 1: f, 2: s, 3: g, 4: n, 5: f, 6: a, 7: a, 8: i, 9: s)\n",
        "Vector(0: r, 1: f, 2: a, 3: g, 4: n, 5: h, 6: y, 7: a, 8: r, 9: s)\n",
        "--\n",
        "Vector(0: r, 1: f, 2: e, 3: g, 4: n, 5: e, 6: a, 7: a, 8: r, 9: s)\n",
        "Vector(0: r, 1: f, 2: w, 3: g, 4: n, 5: r, 6: y, 7: a, 8: r, 9: s)\n",
        "--\n",
        "Vector(0: r, 1: f, 2: e, 3: g, 4: n, 5: e, 6: t, 7: a, 8: q, 9: s)\n"
       ]
      },
      {
       "output_type": "stream",
       "stream": "stdout",
       "text": [
        "Vector(0: r, 1: f, 2: w, 3: g, 4: n, 5: r, 6: y, 7: a, 8: w, 9: s)\n",
        "--\n",
        "Vector(0: r, 1: f, 2: n, 3: g, 4: n, 5: m, 6: t, 7: a, 8: s, 9: s)\n",
        "Vector(0: r, 1: f, 2: w, 3: g, 4: n, 5: r, 6: y, 7: a, 8: r, 9: s)\n",
        "--\n",
        "Vector(0: r, 1: f, 2: n, 3: g, 4: n, 5: e, 6: t, 7: a, 8: l, 9: s)\n",
        "Vector(0: r, 1: f, 2: w, 3: g, 4: n, 5: g, 6: y, 7: a, 8: r, 9: s)\n",
        "--\n",
        "Vector(0: r, 1: f, 2: p, 3: g, 4: n, 5: p, 6: t, 7: a, 8: q, 9: s)\n",
        "Vector(0: r, 1: f, 2: w, 3: g, 4: n, 5: r, 6: y, 7: a, 8: l, 9: s)\n",
        "--\n",
        "Vector(0: r, 1: f, 2: n, 3: g, 4: n, 5: r, 6: t, 7: a, 8: r, 9: s)\n"
       ]
      },
      {
       "output_type": "stream",
       "stream": "stdout",
       "text": [
        "Vector(0: r, 1: f, 2: w, 3: g, 4: n, 5: r, 6: y, 7: a, 8: r, 9: s)\n",
        "--\n",
        "Vector(0: r, 1: f, 2: w, 3: g, 4: n, 5: r, 6: y, 7: a, 8: r, 9: d)\n",
        "Vector(0: r, 1: f, 2: w, 3: g, 4: n, 5: r, 6: y, 7: a, 8: s, 9: s)\n",
        "--\n",
        "Vector(0: r, 1: f, 2: w, 3: g, 4: n, 5: r, 6: y, 7: a, 8: h, 9: s)\n",
        "Vector(0: r, 1: f, 2: w, 3: g, 4: n, 5: r, 6: y, 7: a, 8: k, 9: s)\n",
        "--\n",
        "Vector(0: r, 1: f, 2: w, 3: g, 4: n, 5: h, 6: c, 7: a, 8: i, 9: s)\n"
       ]
      },
      {
       "output_type": "stream",
       "stream": "stdout",
       "text": [
        "Vector(0: r, 1: f, 2: c, 3: g, 4: n, 5: r, 6: t, 7: a, 8: r, 9: s)\n",
        "--\n",
        "Vector(0: r, 1: f, 2: w, 3: g, 4: n, 5: i, 6: y, 7: a, 8: n, 9: s)\n",
        "Vector(0: r, 1: f, 2: n, 3: g, 4: n, 5: r, 6: y, 7: a, 8: r, 9: s)\n",
        "--\n",
        "Vector(0: r, 1: f, 2: a, 3: g, 4: n, 5: -, 6: t, 7: a, 8: r, 9: s)\n",
        "Vector(0: r, 1: f, 2: w, 3: g, 4: n, 5: y, 6: f, 7: a, 8: r, 9: s)\n",
        "--\n",
        "Vector(0: r, 1: f, 2: g, 3: g, 4: n, 5: a, 6: p, 7: a, 8: y, 9: s)\n"
       ]
      },
      {
       "output_type": "stream",
       "stream": "stdout",
       "text": [
        "Vector(0: r, 1: f, 2: w, 3: g, 4: n, 5: r, 6: y, 7: a, 8: r, 9: s)\n",
        "--\n",
        "Vector(0: r, 1: f, 2: p, 3: g, 4: n, 5: r, 6: t, 7: a, 8: r, 9: s)\n",
        "Vector(0: r, 1: f, 2: w, 3: g, 4: n, 5: r, 6: y, 7: a, 8: r, 9: s)\n",
        "--\n",
        "Vector(0: r, 1: f, 2: c, 3: g, 4: n, 5: q, 6: t, 7: a, 8: r, 9: d)\n",
        "Vector(0: r, 1: f, 2: w, 3: g, 4: n, 5: r, 6: y, 7: a, 8: r, 9: s)\n",
        "--\n",
        "Vector(0: r, 1: f, 2: c, 3: g, 4: n, 5: n, 6: q, 7: a, 8: g, 9: d)\n",
        "Vector(0: r, 1: f, 2: w, 3: g, 4: n, 5: r, 6: y, 7: a, 8: r, 9: s)\n",
        "--\n",
        "Vector(0: r, 1: f, 2: p, 3: g, 4: s, 5: w, 6: a, 7: a, 8: w, 9: s)\n"
       ]
      },
      {
       "output_type": "stream",
       "stream": "stdout",
       "text": [
        "Vector(0: r, 1: f, 2: g, 3: g, 4: n, 5: r, 6: y, 7: a, 8: r, 9: s)\n",
        "--\n",
        "Vector(0: r, 1: f, 2: i, 3: g, 4: n, 5: n, 6: y, 7: a, 8: s, 9: s)\n",
        "Vector(0: r, 1: f, 2: w, 3: g, 4: n, 5: r, 6: y, 7: a, 8: r, 9: s)\n",
        "--\n",
        "Vector(0: r, 1: f, 2: w, 3: g, 4: n, 5: e, 6: c, 7: a, 8: s, 9: s)\n",
        "Vector(0: r, 1: f, 2: r, 3: g, 4: n, 5: r, 6: y, 7: a, 8: r, 9: s)\n",
        "--\n",
        "Vector(0: r, 1: f, 2: n, 3: g, 4: n, 5: r, 6: t, 7: a, 8: q, 9: s)\n"
       ]
      },
      {
       "output_type": "stream",
       "stream": "stdout",
       "text": [
        "Vector(0: r, 1: f, 2: w, 3: g, 4: n, 5: r, 6: y, 7: a, 8: r, 9: s)\n",
        "--\n",
        "Vector(0: r, 1: f, 2: n, 3: g, 4: n, 5: r, 6: l, 7: a, 8: y, 9: s)\n",
        "Vector(0: r, 1: f, 2: d, 3: g, 4: n, 5: w, 6: y, 7: a, 8: w, 9: s)\n",
        "--\n",
        "Vector(0: r, 1: f, 2: n, 3: g, 4: n, 5: r, 6: t, 7: a, 8: q, 9: s)\n",
        "Vector(0: r, 1: f, 2: w, 3: g, 4: n, 5: r, 6: y, 7: a, 8: s, 9: s)\n",
        "--\n",
        "Vector(0: r, 1: f, 2: h, 3: g, 4: n, 5: i, 6: a, 7: a, 8: s, 9: s)\n"
       ]
      },
      {
       "output_type": "stream",
       "stream": "stdout",
       "text": [
        "Vector(0: r, 1: f, 2: w, 3: g, 4: n, 5: r, 6: y, 7: a, 8: r, 9: s)\n",
        "--\n",
        "Vector(0: r, 1: f, 2: w, 3: g, 4: n, 5: v, 6: y, 7: a, 8: w, 9: d)\n",
        "Vector(0: r, 1: f, 2: w, 3: g, 4: n, 5: k, 6: y, 7: a, 8: r, 9: s)\n",
        "--\n",
        "Vector(0: r, 1: f, 2: w, 3: g, 4: n, 5: r, 6: y, 7: a, 8: -, 9: s)\n",
        "Vector(0: r, 1: f, 2: w, 3: g, 4: n, 5: r, 6: y, 7: a, 8: r, 9: s)\n",
        "--\n",
        "Vector(0: r, 1: f, 2: a, 3: g, 4: n, 5: e, 6: t, 7: a, 8: q, 9: s)\n",
        "Vector(0: r, 1: f, 2: w, 3: g, 4: n, 5: r, 6: y, 7: a, 8: r, 9: s)\n",
        "--\n",
        "Vector(0: r, 1: f, 2: a, 3: g, 4: n, 5: h, 6: a, 7: a, 8: h, 9: d)\n"
       ]
      },
      {
       "output_type": "stream",
       "stream": "stdout",
       "text": [
        "Vector(0: r, 1: f, 2: w, 3: g, 4: n, 5: y, 6: y, 7: a, 8: r, 9: s)\n",
        "--\n",
        "Vector(0: r, 1: f, 2: s, 3: g, 4: n, 5: d, 6: y, 7: a, 8: i, 9: s)\n",
        "Vector(0: r, 1: f, 2: r, 3: g, 4: n, 5: r, 6: y, 7: a, 8: r, 9: s)\n",
        "--\n",
        "Vector(0: r, 1: f, 2: f, 3: g, 4: n, 5: i, 6: p, 7: a, 8: t, 9: s)\n",
        "Vector(0: r, 1: f, 2: w, 3: g, 4: n, 5: r, 6: y, 7: a, 8: h, 9: s)\n",
        "--\n",
        "Vector(0: r, 1: f, 2: f, 3: g, 4: n, 5: i, 6: y, 7: a, 8: -, 9: s)\n"
       ]
      },
      {
       "output_type": "stream",
       "stream": "stdout",
       "text": [
        "Vector(0: r, 1: f, 2: w, 3: g, 4: n, 5: r, 6: y, 7: a, 8: r, 9: s)\n",
        "--\n",
        "Vector(0: r, 1: f, 2: w, 3: g, 4: n, 5: r, 6: y, 7: a, 8: q, 9: s)\n",
        "Vector(0: r, 1: f, 2: w, 3: g, 4: n, 5: r, 6: y, 7: a, 8: r, 9: s)\n",
        "--\n",
        "Vector(0: r, 1: f, 2: w, 3: g, 4: n, 5: e, 6: y, 7: a, 8: w, 9: s)\n",
        "Vector(0: r, 1: f, 2: w, 3: g, 4: n, 5: r, 6: y, 7: a, 8: -, 9: s)\n",
        "--\n",
        "Vector(0: r, 1: f, 2: w, 3: g, 4: n, 5: a, 6: y, 7: a, 8: w, 9: s)\n"
       ]
      },
      {
       "output_type": "stream",
       "stream": "stdout",
       "text": [
        "Vector(0: r, 1: f, 2: w, 3: g, 4: n, 5: e, 6: y, 7: a, 8: r, 9: s)\n",
        "--\n",
        "Vector(0: r, 1: f, 2: w, 3: g, 4: n, 5: -, 6: y, 7: a, 8: l, 9: s)\n",
        "Vector(0: r, 1: f, 2: w, 3: g, 4: n, 5: r, 6: y, 7: a, 8: h, 9: s)\n",
        "--\n",
        "Vector(0: r, 1: f, 2: i, 3: g, 4: n, 5: w, 6: y, 7: a, 8: p, 9: s)\n",
        "Vector(0: r, 1: f, 2: w, 3: g, 4: n, 5: r, 6: y, 7: a, 8: r, 9: s)\n",
        "--\n",
        "Vector(0: r, 1: f, 2: i, 3: g, 4: n, 5: p, 6: y, 7: a, 8: s, 9: s)\n"
       ]
      },
      {
       "output_type": "stream",
       "stream": "stdout",
       "text": [
        "Vector(0: r, 1: f, 2: w, 3: g, 4: n, 5: r, 6: y, 7: a, 8: r, 9: s)\n",
        "--\n",
        "Vector(0: r, 1: f, 2: i, 3: g, 4: n, 5: w, 6: y, 7: a, 8: d, 9: s)\n",
        "Vector(0: r, 1: f, 2: w, 3: g, 4: n, 5: r, 6: y, 7: a, 8: r, 9: s)\n",
        "--\n",
        "Vector(0: r, 1: f, 2: i, 3: g, 4: n, 5: w, 6: y, 7: a, 8: w, 9: s)\n",
        "Vector(0: r, 1: f, 2: i, 3: g, 4: n, 5: r, 6: y, 7: a, 8: y, 9: s)\n",
        "--\n",
        "Vector(0: r, 1: f, 2: i, 3: g, 4: n, 5: w, 6: y, 7: a, 8: g, 9: s)\n"
       ]
      },
      {
       "output_type": "stream",
       "stream": "stdout",
       "text": [
        "Vector(0: r, 1: f, 2: w, 3: g, 4: n, 5: e, 6: y, 7: a, 8: n, 9: s)\n",
        "--\n",
        "Vector(0: r, 1: f, 2: i, 3: g, 4: n, 5: l, 6: y, 7: a, 8: w, 9: s)\n",
        "Vector(0: r, 1: f, 2: w, 3: g, 4: n, 5: r, 6: y, 7: a, 8: r, 9: s)\n",
        "--\n",
        "Vector(0: r, 1: f, 2: i, 3: g, 4: n, 5: e, 6: y, 7: a, 8: r, 9: s)\n",
        "Vector(0: r, 1: f, 2: w, 3: g, 4: n, 5: l, 6: y, 7: a, 8: r, 9: s)\n",
        "--\n",
        "Vector(0: r, 1: f, 2: i, 3: g, 4: n, 5: w, 6: y, 7: a, 8: l, 9: r)\n",
        "Vector(0: r, 1: f, 2: p, 3: g, 4: n, 5: e, 6: y, 7: a, 8: -, 9: s)\n",
        "--\n",
        "Vector(0: r, 1: p, 2: i, 3: g, 4: n, 5: w, 6: c, 7: a, 8: e, 9: s)\n"
       ]
      },
      {
       "output_type": "stream",
       "stream": "stdout",
       "text": [
        "Vector(0: r, 1: f, 2: i, 3: g, 4: n, 5: r, 6: y, 7: a, 8: l, 9: s)\n",
        "--\n",
        "Vector(0: r, 1: f, 2: f, 3: g, 4: n, 5: s, 6: y, 7: a, 8: h, 9: s)\n",
        "Vector(0: r, 1: f, 2: w, 3: g, 4: n, 5: r, 6: y, 7: a, 8: r, 9: s)\n",
        "--\n",
        "Vector(0: r, 1: f, 2: f, 3: g, 4: n, 5: i, 6: y, 7: a, 8: r, 9: s)\n",
        "Vector(0: r, 1: f, 2: w, 3: g, 4: n, 5: r, 6: y, 7: a, 8: w, 9: s)\n",
        "--\n",
        "Vector(0: r, 1: f, 2: w, 3: g, 4: s, 5: n, 6: y, 7: a, 8: i, 9: s)\n"
       ]
      },
      {
       "output_type": "stream",
       "stream": "stdout",
       "text": [
        "Vector(0: r, 1: f, 2: v, 3: g, 4: n, 5: r, 6: d, 7: a, 8: r, 9: s)\n",
        "--\n",
        "Vector(0: r, 1: f, 2: i, 3: g, 4: n, 5: y, 6: t, 7: a, 8: w, 9: s)\n",
        "Vector(0: r, 1: f, 2: w, 3: g, 4: n, 5: r, 6: y, 7: a, 8: s, 9: s)\n",
        "--\n",
        "Vector(0: r, 1: f, 2: s, 3: g, 4: n, 5: y, 6: i, 7: a, 8: i, 9: s)\n",
        "Vector(0: r, 1: f, 2: w, 3: g, 4: n, 5: t, 6: y, 7: a, 8: d, 9: s)\n",
        "--\n",
        "Vector(0: r, 1: f, 2: s, 3: g, 4: n, 5: y, 6: -, 7: a, 8: r, 9: s)\n"
       ]
      },
      {
       "output_type": "stream",
       "stream": "stdout",
       "text": [
        "Vector(0: r, 1: f, 2: w, 3: g, 4: n, 5: r, 6: y, 7: a, 8: l, 9: s)\n",
        "--\n",
        "Vector(0: r, 1: f, 2: s, 3: g, 4: n, 5: y, 6: t, 7: a, 8: r, 9: s)\n",
        "Vector(0: r, 1: f, 2: w, 3: g, 4: n, 5: c, 6: y, 7: a, 8: r, 9: s)\n",
        "--\n",
        "Vector(0: r, 1: f, 2: w, 3: g, 4: n, 5: e, 6: y, 7: c, 8: s, 9: s)\n",
        "Vector(0: r, 1: f, 2: n, 3: g, 4: n, 5: r, 6: y, 7: a, 8: r, 9: s)\n",
        "--\n",
        "Vector(0: r, 1: f, 2: w, 3: g, 4: n, 5: e, 6: y, 7: a, 8: q, 9: s)\n"
       ]
      },
      {
       "output_type": "stream",
       "stream": "stdout",
       "text": [
        "Vector(0: r, 1: f, 2: w, 3: g, 4: n, 5: r, 6: y, 7: a, 8: r, 9: s)\n",
        "--\n",
        "Vector(0: r, 1: f, 2: w, 3: g, 4: n, 5: r, 6: y, 7: a, 8: s, 9: s)\n",
        "Vector(0: r, 1: f, 2: t, 3: g, 4: n, 5: r, 6: y, 7: a, 8: r, 9: s)\n",
        "--\n",
        "Vector(0: r, 1: f, 2: w, 3: g, 4: n, 5: n, 6: y, 7: a, 8: w, 9: s)\n",
        "Vector(0: r, 1: f, 2: w, 3: g, 4: n, 5: r, 6: y, 7: a, 8: t, 9: s)\n",
        "--\n",
        "Vector(0: r, 1: f, 2: w, 3: g, 4: n, 5: r, 6: y, 7: a, 8: e, 9: s)\n",
        "Vector(0: r, 1: f, 2: w, 3: g, 4: n, 5: w, 6: y, 7: a, 8: r, 9: s)\n",
        "--\n",
        "Vector(0: r, 1: f, 2: w, 3: g, 4: n, 5: h, 6: y, 7: a, 8: y, 9: s)\n"
       ]
      },
      {
       "output_type": "stream",
       "stream": "stdout",
       "text": [
        "Vector(0: r, 1: f, 2: w, 3: g, 4: n, 5: q, 6: y, 7: a, 8: r, 9: s)\n",
        "--\n",
        "Vector(0: r, 1: f, 2: s, 3: g, 4: n, 5: l, 6: -, 7: a, 8: r, 9: s)\n",
        "Vector(0: r, 1: f, 2: w, 3: g, 4: n, 5: p, 6: y, 7: a, 8: c, 9: s)\n",
        "--\n",
        "Vector(0: r, 1: f, 2: k, 3: g, 4: n, 5: n, 6: t, 7: a, 8: -, 9: s)\n",
        "Vector(0: r, 1: f, 2: w, 3: g, 4: n, 5: r, 6: y, 7: a, 8: r, 9: s)\n",
        "--\n",
        "Vector(0: r, 1: f, 2: c, 3: g, 4: n, 5: v, 6: a, 7: a, 8: a, 9: s)\n"
       ]
      },
      {
       "output_type": "stream",
       "stream": "stdout",
       "text": [
        "Vector(0: r, 1: f, 2: w, 3: g, 4: n, 5: f, 6: y, 7: a, 8: r, 9: s)\n",
        "--\n",
        "Vector(0: r, 1: f, 2: c, 3: g, 4: n, 5: d, 6: t, 7: a, 8: s, 9: s)\n",
        "Vector(0: r, 1: f, 2: w, 3: g, 4: n, 5: r, 6: y, 7: a, 8: r, 9: s)\n",
        "--\n",
        "Vector(0: r, 1: f, 2: c, 3: g, 4: n, 5: f, 6: t, 7: a, 8: k, 9: s)\n",
        "Vector(0: r, 1: f, 2: w, 3: g, 4: n, 5: r, 6: y, 7: a, 8: r, 9: s)\n",
        "--\n",
        "Vector(0: r, 1: f, 2: c, 3: g, 4: n, 5: y, 6: t, 7: a, 8: q, 9: s)\n"
       ]
      },
      {
       "output_type": "stream",
       "stream": "stdout",
       "text": [
        "Vector(0: r, 1: f, 2: -, 3: g, 4: n, 5: r, 6: y, 7: a, 8: r, 9: s)\n",
        "--\n",
        "Vector(0: r, 1: f, 2: s, 3: g, 4: n, 5: l, 6: t, 7: a, 8: w, 9: s)\n",
        "Vector(0: r, 1: f, 2: w, 3: g, 4: n, 5: v, 6: y, 7: a, 8: v, 9: s)\n",
        "--\n",
        "Vector(0: r, 1: f, 2: s, 3: g, 4: n, 5: l, 6: -, 7: a, 8: n, 9: s)\n",
        "Vector(0: r, 1: f, 2: w, 3: g, 4: n, 5: r, 6: y, 7: a, 8: r, 9: s)\n",
        "--\n",
        "Vector(0: r, 1: f, 2: s, 3: g, 4: n, 5: l, 6: -, 7: a, 8: r, 9: s)\n"
       ]
      },
      {
       "output_type": "stream",
       "stream": "stdout",
       "text": [
        "Vector(0: r, 1: f, 2: l, 3: g, 4: n, 5: r, 6: y, 7: a, 8: y, 9: s)\n",
        "--\n",
        "Vector(0: r, 1: f, 2: s, 3: g, 4: n, 5: l, 6: y, 7: a, 8: h, 9: s)\n",
        "Vector(0: r, 1: f, 2: w, 3: g, 4: n, 5: f, 6: y, 7: a, 8: r, 9: s)\n",
        "--\n",
        "Vector(0: r, 1: f, 2: i, 3: g, 4: n, 5: l, 6: y, 7: a, 8: l, 9: s)\n",
        "Vector(0: r, 1: f, 2: s, 3: g, 4: n, 5: r, 6: t, 7: a, 8: s, 9: s)\n",
        "--\n",
        "Vector(0: r, 1: f, 2: i, 3: g, 4: n, 5: -, 6: y, 7: a, 8: l, 9: s)\n",
        "Vector(0: r, 1: f, 2: w, 3: g, 4: n, 5: r, 6: y, 7: a, 8: r, 9: s)\n",
        "--\n",
        "Vector(0: r, 1: f, 2: i, 3: g, 4: s, 5: l, 6: y, 7: a, 8: p, 9: s)\n"
       ]
      },
      {
       "output_type": "stream",
       "stream": "stdout",
       "text": [
        "Vector(0: r, 1: f, 2: w, 3: g, 4: n, 5: r, 6: y, 7: a, 8: g, 9: s)\n",
        "--\n",
        "Vector(0: r, 1: f, 2: i, 3: g, 4: n, 5: e, 6: y, 7: a, 8: w, 9: s)\n",
        "Vector(0: r, 1: f, 2: w, 3: g, 4: n, 5: r, 6: y, 7: a, 8: c, 9: s)\n",
        "--\n",
        "Vector(0: r, 1: f, 2: i, 3: g, 4: n, 5: n, 6: y, 7: a, 8: s, 9: s)\n",
        "Vector(0: r, 1: f, 2: w, 3: g, 4: n, 5: c, 6: y, 7: a, 8: r, 9: s)\n",
        "--\n",
        "Vector(0: r, 1: f, 2: w, 3: g, 4: n, 5: m, 6: y, 7: a, 8: l, 9: s)\n"
       ]
      },
      {
       "output_type": "stream",
       "stream": "stdout",
       "text": [
        "Vector(0: r, 1: f, 2: m, 3: g, 4: n, 5: k, 6: y, 7: a, 8: -, 9: s)\n",
        "--\n",
        "Vector(0: r, 1: f, 2: w, 3: g, 4: n, 5: v, 6: y, 7: a, 8: r, 9: s)\n",
        "Vector(0: r, 1: f, 2: s, 3: g, 4: n, 5: r, 6: y, 7: a, 8: r, 9: s)\n",
        "--\n",
        "Vector(0: r, 1: f, 2: w, 3: g, 4: n, 5: m, 6: y, 7: a, 8: r, 9: s)\n",
        "Vector(0: r, 1: f, 2: w, 3: g, 4: n, 5: r, 6: y, 7: a, 8: a, 9: s)\n",
        "--\n",
        "Vector(0: r, 1: f, 2: w, 3: g, 4: n, 5: e, 6: y, 7: a, 8: l, 9: s)\n"
       ]
      },
      {
       "output_type": "stream",
       "stream": "stdout",
       "text": [
        "Vector(0: r, 1: d, 2: w, 3: g, 4: n, 5: r, 6: y, 7: a, 8: a, 9: s)\n",
        "--\n",
        "Vector(0: r, 1: f, 2: e, 3: g, 4: n, 5: r, 6: y, 7: c, 8: p, 9: s)\n",
        "Vector(0: r, 1: f, 2: w, 3: g, 4: n, 5: y, 6: y, 7: a, 8: r, 9: s)\n",
        "--\n",
        "Vector(0: r, 1: f, 2: a, 3: g, 4: n, 5: l, 6: y, 7: a, 8: w, 9: s)\n",
        "Vector(0: r, 1: f, 2: w, 3: g, 4: n, 5: r, 6: y, 7: a, 8: r, 9: s)\n",
        "--\n",
        "Vector(0: r, 1: f, 2: i, 3: g, 4: n, 5: -, 6: y, 7: a, 8: q, 9: s)\n"
       ]
      },
      {
       "output_type": "stream",
       "stream": "stdout",
       "text": [
        "Vector(0: r, 1: f, 2: w, 3: g, 4: n, 5: r, 6: y, 7: a, 8: n, 9: s)\n",
        "--\n",
        "Vector(0: r, 1: f, 2: w, 3: g, 4: n, 5: i, 6: y, 7: a, 8: r, 9: s)\n",
        "Vector(0: r, 1: f, 2: w, 3: g, 4: n, 5: r, 6: y, 7: a, 8: r, 9: s)\n",
        "--\n",
        "Vector(0: r, 1: f, 2: f, 3: g, 4: n, 5: s, 6: y, 7: a, 8: i, 9: s)\n",
        "Vector(0: r, 1: f, 2: w, 3: g, 4: n, 5: r, 6: y, 7: a, 8: r, 9: s)\n",
        "--\n",
        "Vector(0: r, 1: f, 2: a, 3: g, 4: n, 5: d, 6: y, 7: a, 8: p, 9: s)\n",
        "Vector(0: r, 1: f, 2: w, 3: g, 4: n, 5: n, 6: y, 7: a, 8: r, 9: s)\n",
        "--\n",
        "Vector(0: r, 1: f, 2: a, 3: g, 4: n, 5: r, 6: a, 7: a, 8: w, 9: s)\n"
       ]
      },
      {
       "output_type": "stream",
       "stream": "stdout",
       "text": [
        "Vector(0: r, 1: f, 2: w, 3: g, 4: n, 5: r, 6: y, 7: a, 8: r, 9: s)\n",
        "--\n",
        "Vector(0: r, 1: f, 2: d, 3: g, 4: n, 5: l, 6: y, 7: a, 8: g, 9: s)\n",
        "Vector(0: r, 1: f, 2: w, 3: g, 4: n, 5: e, 6: y, 7: a, 8: l, 9: s)\n",
        "--\n",
        "Vector(0: r, 1: f, 2: i, 3: g, 4: n, 5: e, 6: y, 7: a, 8: w, 9: s)\n",
        "Vector(0: r, 1: f, 2: w, 3: g, 4: n, 5: e, 6: y, 7: a, 8: r, 9: s)\n",
        "--\n",
        "Vector(0: r, 1: f, 2: w, 3: g, 4: n, 5: e, 6: y, 7: a, 8: y, 9: s)\n"
       ]
      },
      {
       "output_type": "stream",
       "stream": "stdout",
       "text": [
        "Vector(0: r, 1: f, 2: e, 3: g, 4: n, 5: r, 6: y, 7: a, 8: r, 9: s)\n",
        "--\n",
        "Vector(0: r, 1: f, 2: w, 3: g, 4: n, 5: r, 6: y, 7: a, 8: r, 9: d)\n",
        "Vector(0: r, 1: f, 2: w, 3: g, 4: n, 5: y, 6: y, 7: a, 8: g, 9: s)\n",
        "--\n",
        "Vector(0: r, 1: f, 2: w, 3: g, 4: n, 5: r, 6: y, 7: a, 8: c, 9: s)\n",
        "Vector(0: r, 1: f, 2: w, 3: g, 4: n, 5: r, 6: y, 7: a, 8: r, 9: s)\n",
        "--\n",
        "Vector(0: r, 1: f, 2: w, 3: g, 4: n, 5: r, 6: y, 7: a, 8: q, 9: s)\n"
       ]
      },
      {
       "output_type": "stream",
       "stream": "stdout",
       "text": [
        "Vector(0: r, 1: f, 2: w, 3: g, 4: n, 5: r, 6: y, 7: a, 8: r, 9: s)\n",
        "--\n",
        "Vector(0: r, 1: f, 2: w, 3: g, 4: n, 5: r, 6: y, 7: a, 8: r, 9: s)\n",
        "Vector(0: r, 1: f, 2: w, 3: g, 4: n, 5: h, 6: y, 7: a, 8: e, 9: s)\n",
        "--\n",
        "Vector(0: r, 1: f, 2: w, 3: g, 4: n, 5: r, 6: p, 7: h, 8: r, 9: s)\n",
        "Vector(0: r, 1: f, 2: m, 3: g, 4: n, 5: r, 6: y, 7: a, 8: r, 9: s)\n",
        "--\n",
        "Vector(0: r, 1: f, 2: w, 3: g, 4: n, 5: r, 6: y, 7: a, 8: l, 9: s)\n"
       ]
      },
      {
       "output_type": "stream",
       "stream": "stdout",
       "text": [
        "Vector(0: r, 1: f, 2: w, 3: g, 4: n, 5: s, 6: y, 7: a, 8: r, 9: s)\n",
        "--\n",
        "Vector(0: r, 1: f, 2: w, 3: g, 4: n, 5: r, 6: y, 7: a, 8: w, 9: s)\n",
        "Vector(0: r, 1: f, 2: c, 3: g, 4: n, 5: -, 6: y, 7: a, 8: w, 9: s)\n",
        "--\n",
        "Vector(0: r, 1: f, 2: w, 3: g, 4: p, 5: n, 6: y, 7: a, 8: r, 9: d)\n",
        "Vector(0: r, 1: f, 2: w, 3: g, 4: n, 5: p, 6: y, 7: a, 8: a, 9: s)\n",
        "--\n",
        "Vector(0: w, 1: f, 2: i, 3: g, 4: n, 5: l, 6: a, 7: a, 8: r, 9: d)\n",
        "Vector(0: r, 1: f, 2: w, 3: g, 4: n, 5: c, 6: y, 7: a, 8: f, 9: s)\n",
        "--\n",
        "Vector(0: r, 1: f, 2: i, 3: g, 4: n, 5: -, 6: y, 7: a, 8: r, 9: s)\n"
       ]
      },
      {
       "output_type": "stream",
       "stream": "stdout",
       "text": [
        "Vector(0: r, 1: f, 2: w, 3: g, 4: n, 5: r, 6: y, 7: a, 8: r, 9: s)\n",
        "--\n",
        "Vector(0: r, 1: f, 2: i, 3: g, 4: n, 5: l, 6: t, 7: a, 8: q, 9: s)\n",
        "Vector(0: r, 1: f, 2: v, 3: g, 4: n, 5: r, 6: y, 7: a, 8: r, 9: s)\n",
        "--\n",
        "Vector(0: r, 1: f, 2: s, 3: g, 4: n, 5: l, 6: p, 7: a, 8: q, 9: s)\n",
        "Vector(0: r, 1: f, 2: w, 3: g, 4: n, 5: r, 6: y, 7: a, 8: r, 9: s)\n",
        "--\n",
        "Vector(0: r, 1: f, 2: s, 3: g, 4: n, 5: h, 6: -, 7: a, 8: r, 9: s)\n"
       ]
      },
      {
       "output_type": "stream",
       "stream": "stdout",
       "text": [
        "Vector(0: r, 1: f, 2: i, 3: g, 4: n, 5: y, 6: y, 7: a, 8: g, 9: s)\n",
        "--\n",
        "Vector(0: r, 1: f, 2: s, 3: g, 4: n, 5: y, 6: y, 7: a, 8: g, 9: s)\n",
        "Vector(0: r, 1: f, 2: w, 3: g, 4: n, 5: l, 6: y, 7: a, 8: l, 9: s)\n",
        "--\n",
        "Vector(0: r, 1: f, 2: s, 3: g, 4: n, 5: l, 6: t, 7: a, 8: y, 9: s)\n",
        "Vector(0: r, 1: f, 2: w, 3: g, 4: n, 5: l, 6: y, 7: a, 8: r, 9: s)\n",
        "--\n",
        "Vector(0: r, 1: f, 2: s, 3: g, 4: n, 5: l, 6: t, 7: a, 8: l, 9: s)\n"
       ]
      },
      {
       "output_type": "stream",
       "stream": "stdout",
       "text": [
        "Vector(0: r, 1: f, 2: w, 3: g, 4: n, 5: r, 6: y, 7: a, 8: r, 9: s)\n",
        "--\n",
        "Vector(0: r, 1: f, 2: s, 3: g, 4: n, 5: y, 6: i, 7: h, 8: g, 9: s)\n",
        "Vector(0: r, 1: f, 2: k, 3: g, 4: n, 5: r, 6: y, 7: a, 8: r, 9: s)\n",
        "--\n",
        "Vector(0: r, 1: f, 2: s, 3: g, 4: n, 5: l, 6: i, 7: h, 8: w, 9: s)\n",
        "Vector(0: r, 1: f, 2: i, 3: g, 4: n, 5: s, 6: y, 7: a, 8: r, 9: s)\n",
        "--\n",
        "Vector(0: r, 1: f, 2: s, 3: g, 4: n, 5: l, 6: i, 7: a, 8: -, 9: s)\n"
       ]
      },
      {
       "output_type": "stream",
       "stream": "stdout",
       "text": [
        "Vector(0: r, 1: f, 2: w, 3: g, 4: n, 5: r, 6: y, 7: a, 8: r, 9: s)\n",
        "--\n",
        "Vector(0: r, 1: f, 2: s, 3: g, 4: n, 5: y, 6: -, 7: a, 8: r, 9: s)\n",
        "Vector(0: r, 1: f, 2: w, 3: g, 4: n, 5: r, 6: y, 7: a, 8: k, 9: s)\n",
        "--\n",
        "Vector(0: r, 1: f, 2: s, 3: g, 4: n, 5: w, 6: t, 7: a, 8: r, 9: s)\n",
        "Vector(0: r, 1: f, 2: w, 3: g, 4: n, 5: i, 6: y, 7: a, 8: a, 9: s)\n",
        "--\n",
        "Vector(0: r, 1: f, 2: p, 3: g, 4: n, 5: p, 6: t, 7: h, 8: s, 9: s)\n",
        "Vector(0: r, 1: f, 2: w, 3: g, 4: n, 5: r, 6: y, 7: a, 8: r, 9: s)\n",
        "--\n",
        "Vector(0: r, 1: f, 2: n, 3: g, 4: n, 5: r, 6: t, 7: a, 8: h, 9: s)\n"
       ]
      },
      {
       "output_type": "stream",
       "stream": "stdout",
       "text": [
        "Vector(0: r, 1: f, 2: w, 3: g, 4: n, 5: e, 6: y, 7: a, 8: r, 9: s)\n",
        "--\n",
        "Vector(0: r, 1: f, 2: n, 3: g, 4: n, 5: e, 6: t, 7: a, 8: w, 9: s)\n",
        "Vector(0: r, 1: f, 2: w, 3: g, 4: n, 5: r, 6: y, 7: a, 8: v, 9: s)\n",
        "--\n",
        "Vector(0: r, 1: f, 2: e, 3: g, 4: n, 5: e, 6: a, 7: a, 8: w, 9: s)\n",
        "Vector(0: r, 1: f, 2: w, 3: g, 4: n, 5: r, 6: y, 7: a, 8: r, 9: s)\n",
        "--\n",
        "Vector(0: r, 1: f, 2: e, 3: g, 4: n, 5: r, 6: a, 7: a, 8: g, 9: s)\n"
       ]
      },
      {
       "output_type": "stream",
       "stream": "stdout",
       "text": [
        "Vector(0: r, 1: f, 2: m, 3: g, 4: n, 5: r, 6: y, 7: a, 8: r, 9: s)\n",
        "--\n",
        "Vector(0: r, 1: f, 2: e, 3: g, 4: n, 5: e, 6: a, 7: a, 8: r, 9: s)\n",
        "Vector(0: r, 1: f, 2: w, 3: g, 4: n, 5: r, 6: y, 7: a, 8: r, 9: s)\n",
        "--\n",
        "Vector(0: r, 1: f, 2: s, 3: g, 4: n, 5: l, 6: t, 7: a, 8: r, 9: s)\n",
        "Vector(0: r, 1: f, 2: w, 3: g, 4: n, 5: r, 6: y, 7: a, 8: t, 9: s)\n",
        "--\n",
        "Vector(0: r, 1: f, 2: s, 3: g, 4: n, 5: h, 6: c, 7: a, 8: r, 9: s)\n"
       ]
      },
      {
       "output_type": "stream",
       "stream": "stdout",
       "text": [
        "Vector(0: r, 1: f, 2: k, 3: g, 4: n, 5: r, 6: y, 7: a, 8: s, 9: s)\n",
        "--\n",
        "Vector(0: r, 1: f, 2: w, 3: g, 4: n, 5: h, 6: a, 7: a, 8: q, 9: s)\n",
        "Vector(0: r, 1: f, 2: w, 3: g, 4: n, 5: e, 6: y, 7: a, 8: r, 9: s)\n",
        "--\n",
        "Vector(0: r, 1: f, 2: s, 3: g, 4: n, 5: y, 6: t, 7: a, 8: q, 9: s)\n",
        "Vector(0: r, 1: f, 2: w, 3: g, 4: n, 5: r, 6: y, 7: a, 8: r, 9: s)\n",
        "--\n",
        "Vector(0: r, 1: f, 2: t, 3: g, 4: n, 5: n, 6: t, 7: a, 8: s, 9: s)\n"
       ]
      },
      {
       "output_type": "stream",
       "stream": "stdout",
       "text": [
        "Vector(0: r, 1: f, 2: w, 3: g, 4: n, 5: f, 6: y, 7: a, 8: d, 9: s)\n",
        "--\n",
        "Vector(0: r, 1: f, 2: f, 3: g, 4: p, 5: r, 6: t, 7: a, 8: k, 9: s)\n",
        "Vector(0: r, 1: f, 2: w, 3: g, 4: n, 5: r, 6: y, 7: a, 8: r, 9: s)\n",
        "--\n",
        "Vector(0: r, 1: f, 2: n, 3: g, 4: n, 5: r, 6: a, 7: a, 8: w, 9: s)\n",
        "Vector(0: r, 1: f, 2: g, 3: g, 4: n, 5: r, 6: y, 7: a, 8: r, 9: s)\n",
        "--\n",
        "Vector(0: r, 1: f, 2: h, 3: g, 4: n, 5: r, 6: t, 7: a, 8: y, 9: s)\n"
       ]
      },
      {
       "output_type": "stream",
       "stream": "stdout",
       "text": [
        "Vector(0: r, 1: f, 2: w, 3: g, 4: n, 5: r, 6: y, 7: a, 8: d, 9: s)\n",
        "--\n",
        "Vector(0: r, 1: f, 2: n, 3: g, 4: n, 5: r, 6: t, 7: a, 8: -, 9: s)\n",
        "Vector(0: r, 1: f, 2: w, 3: g, 4: n, 5: r, 6: y, 7: a, 8: q, 9: s)\n",
        "--\n",
        "Vector(0: r, 1: f, 2: a, 3: g, 4: n, 5: r, 6: a, 7: a, 8: r, 9: s)\n",
        "Vector(0: r, 1: f, 2: w, 3: g, 4: n, 5: r, 6: y, 7: a, 8: r, 9: s)\n",
        "--\n",
        "Vector(0: r, 1: f, 2: h, 3: g, 4: n, 5: r, 6: a, 7: a, 8: d, 9: s)\n",
        "Vector(0: r, 1: f, 2: w, 3: g, 4: n, 5: f, 6: y, 7: a, 8: r, 9: s)\n",
        "--\n",
        "Vector(0: r, 1: f, 2: a, 3: g, 4: n, 5: r, 6: y, 7: a, 8: w, 9: s)\n"
       ]
      },
      {
       "output_type": "stream",
       "stream": "stdout",
       "text": [
        "Vector(0: r, 1: f, 2: w, 3: g, 4: n, 5: r, 6: y, 7: a, 8: r, 9: s)\n",
        "--\n",
        "Vector(0: r, 1: f, 2: w, 3: g, 4: n, 5: r, 6: y, 7: a, 8: d, 9: s)\n",
        "Vector(0: r, 1: f, 2: w, 3: g, 4: n, 5: r, 6: y, 7: a, 8: r, 9: s)\n",
        "--\n",
        "Vector(0: r, 1: f, 2: w, 3: g, 4: n, 5: h, 6: y, 7: a, 8: q, 9: s)\n",
        "Vector(0: r, 1: f, 2: w, 3: g, 4: n, 5: r, 6: y, 7: a, 8: v, 9: s)\n",
        "--\n",
        "Vector(0: r, 1: f, 2: w, 3: g, 4: n, 5: r, 6: y, 7: a, 8: -, 9: s)\n"
       ]
      },
      {
       "output_type": "stream",
       "stream": "stdout",
       "text": [
        "Vector(0: r, 1: f, 2: t, 3: g, 4: n, 5: l, 6: y, 7: a, 8: g, 9: s)\n",
        "--\n",
        "Vector(0: r, 1: f, 2: e, 3: g, 4: n, 5: e, 6: a, 7: a, 8: m, 9: r)\n",
        "Vector(0: r, 1: f, 2: k, 3: g, 4: n, 5: r, 6: y, 7: a, 8: m, 9: s)\n",
        "--\n",
        "Vector(0: r, 1: f, 2: w, 3: g, 4: p, 5: h, 6: a, 7: a, 8: -, 9: s)\n",
        "Vector(0: r, 1: f, 2: w, 3: g, 4: n, 5: f, 6: y, 7: a, 8: r, 9: s)\n",
        "--\n",
        "Vector(0: r, 1: f, 2: k, 3: g, 4: n, 5: -, 6: -, 7: a, 8: g, 9: s)\n"
       ]
      },
      {
       "output_type": "stream",
       "stream": "stdout",
       "text": [
        "Vector(0: r, 1: f, 2: w, 3: g, 4: n, 5: h, 6: y, 7: a, 8: w, 9: s)\n",
        "--\n",
        "Vector(0: r, 1: f, 2: v, 3: g, 4: n, 5: -, 6: t, 7: a, 8: d, 9: s)\n",
        "Vector(0: r, 1: f, 2: w, 3: g, 4: n, 5: r, 6: y, 7: a, 8: r, 9: s)\n",
        "--\n",
        "Vector(0: r, 1: f, 2: c, 3: g, 4: n, 5: q, 6: t, 7: a, 8: n, 9: s)\n",
        "Vector(0: r, 1: f, 2: w, 3: g, 4: n, 5: e, 6: y, 7: a, 8: r, 9: s)\n",
        "--\n",
        "Vector(0: r, 1: f, 2: g, 3: g, 4: n, 5: g, 6: t, 7: a, 8: r, 9: s)\n"
       ]
      },
      {
       "output_type": "stream",
       "stream": "stdout",
       "text": [
        "Vector(0: r, 1: f, 2: w, 3: g, 4: n, 5: r, 6: y, 7: a, 8: f, 9: s)\n",
        "--\n",
        "Vector(0: r, 1: f, 2: s, 3: g, 4: n, 5: l, 6: t, 7: a, 8: w, 9: s)\n",
        "Vector(0: r, 1: f, 2: w, 3: g, 4: n, 5: r, 6: y, 7: a, 8: r, 9: s)\n",
        "--\n",
        "Vector(0: r, 1: f, 2: s, 3: g, 4: n, 5: y, 6: y, 7: a, 8: s, 9: s)\n",
        "Vector(0: r, 1: f, 2: w, 3: g, 4: n, 5: r, 6: y, 7: a, 8: r, 9: s)\n",
        "--\n",
        "Vector(0: r, 1: f, 2: w, 3: g, 4: n, 5: f, 6: y, 7: a, 8: l, 9: s)\n",
        "Vector(0: r, 1: f, 2: f, 3: g, 4: n, 5: r, 6: y, 7: a, 8: m, 9: s)\n",
        "--\n",
        "Vector(0: r, 1: f, 2: w, 3: g, 4: n, 5: r, 6: y, 7: a, 8: w, 9: d)\n"
       ]
      },
      {
       "output_type": "stream",
       "stream": "stdout",
       "text": [
        "Vector(0: r, 1: f, 2: c, 3: g, 4: n, 5: r, 6: y, 7: a, 8: q, 9: s)\n",
        "--\n",
        "Vector(0: r, 1: f, 2: w, 3: g, 4: n, 5: m, 6: y, 7: a, 8: n, 9: s)\n",
        "Vector(0: r, 1: f, 2: w, 3: g, 4: n, 5: r, 6: y, 7: a, 8: i, 9: s)\n",
        "--\n",
        "Vector(0: r, 1: f, 2: w, 3: g, 4: n, 5: r, 6: y, 7: a, 8: g, 9: s)\n",
        "Vector(0: r, 1: f, 2: w, 3: g, 4: n, 5: w, 6: y, 7: a, 8: r, 9: s)\n",
        "--\n",
        "Vector(0: r, 1: f, 2: w, 3: g, 4: n, 5: e, 6: y, 7: a, 8: c, 9: s)\n"
       ]
      },
      {
       "output_type": "stream",
       "stream": "stdout",
       "text": [
        "Vector(0: r, 1: f, 2: w, 3: g, 4: n, 5: r, 6: y, 7: a, 8: r, 9: s)\n",
        "--\n",
        "Vector(0: r, 1: f, 2: w, 3: g, 4: n, 5: f, 6: y, 7: a, 8: g, 9: d)\n",
        "Vector(0: r, 1: f, 2: w, 3: g, 4: n, 5: r, 6: y, 7: a, 8: r, 9: s)\n",
        "--\n",
        "Vector(0: r, 1: f, 2: w, 3: g, 4: n, 5: m, 6: y, 7: a, 8: k, 9: s)\n",
        "Vector(0: r, 1: f, 2: w, 3: g, 4: n, 5: r, 6: y, 7: a, 8: r, 9: s)\n",
        "--\n",
        "Vector(0: r, 1: f, 2: w, 3: g, 4: l, 5: r, 6: y, 7: a, 8: r, 9: s)\n"
       ]
      },
      {
       "output_type": "stream",
       "stream": "stdout",
       "text": [
        "Vector(0: r, 1: f, 2: w, 3: g, 4: n, 5: d, 6: y, 7: a, 8: a, 9: s)\n",
        "--\n",
        "Vector(0: r, 1: f, 2: w, 3: g, 4: n, 5: e, 6: y, 7: a, 8: w, 9: s)\n",
        "Vector(0: r, 1: -, 2: w, 3: g, 4: n, 5: r, 6: y, 7: a, 8: r, 9: s)\n",
        "--\n",
        "Vector(0: r, 1: f, 2: w, 3: g, 4: n, 5: a, 6: y, 7: c, 8: l, 9: s)\n",
        "Vector(0: r, 1: f, 2: w, 3: g, 4: n, 5: r, 6: y, 7: a, 8: r, 9: s)\n",
        "--\n",
        "Vector(0: r, 1: f, 2: w, 3: g, 4: n, 5: r, 6: y, 7: a, 8: l, 9: s)\n"
       ]
      },
      {
       "output_type": "stream",
       "stream": "stdout",
       "text": [
        "Vector(0: r, 1: f, 2: w, 3: g, 4: n, 5: e, 6: y, 7: a, 8: g, 9: s)\n",
        "--\n",
        "Vector(0: r, 1: f, 2: w, 3: g, 4: n, 5: v, 6: y, 7: a, 8: q, 9: d)\n",
        "Vector(0: r, 1: f, 2: w, 3: g, 4: n, 5: r, 6: y, 7: a, 8: r, 9: s)\n",
        "--\n",
        "Vector(0: r, 1: f, 2: i, 3: g, 4: n, 5: w, 6: y, 7: a, 8: i, 9: r)\n",
        "Vector(0: r, 1: f, 2: n, 3: g, 4: n, 5: r, 6: y, 7: a, 8: r, 9: s)\n",
        "--\n",
        "Vector(0: r, 1: f, 2: i, 3: g, 4: n, 5: l, 6: a, 7: a, 8: r, 9: s)\n"
       ]
      },
      {
       "output_type": "stream",
       "stream": "stdout",
       "text": [
        "Vector(0: r, 1: f, 2: k, 3: g, 4: n, 5: e, 6: y, 7: a, 8: r, 9: s)\n",
        "--\n",
        "Vector(0: r, 1: f, 2: d, 3: g, 4: n, 5: v, 6: a, 7: a, 8: r, 9: s)\n",
        "Vector(0: r, 1: f, 2: w, 3: g, 4: n, 5: f, 6: y, 7: a, 8: r, 9: s)\n",
        "--\n",
        "Vector(0: r, 1: f, 2: w, 3: g, 4: n, 5: f, 6: y, 7: a, 8: l, 9: d)\n",
        "Vector(0: r, 1: f, 2: w, 3: g, 4: n, 5: r, 6: y, 7: a, 8: r, 9: s)\n",
        "--\n",
        "Vector(0: r, 1: f, 2: w, 3: g, 4: n, 5: e, 6: y, 7: a, 8: r, 9: d)\n",
        "Vector(0: r, 1: f, 2: w, 3: g, 4: n, 5: -, 6: y, 7: a, 8: r, 9: s)\n",
        "--\n",
        "Vector(0: r, 1: f, 2: w, 3: g, 4: n, 5: e, 6: y, 7: a, 8: c, 9: s)\n"
       ]
      },
      {
       "output_type": "stream",
       "stream": "stdout",
       "text": [
        "Vector(0: r, 1: f, 2: e, 3: g, 4: n, 5: q, 6: y, 7: a, 8: r, 9: s)\n",
        "--\n",
        "Vector(0: r, 1: f, 2: w, 3: g, 4: n, 5: m, 6: y, 7: a, 8: n, 9: s)\n",
        "Vector(0: r, 1: f, 2: w, 3: g, 4: n, 5: v, 6: y, 7: a, 8: r, 9: s)\n",
        "--\n",
        "Vector(0: r, 1: f, 2: f, 3: g, 4: n, 5: r, 6: y, 7: a, 8: l, 9: s)\n",
        "Vector(0: r, 1: f, 2: w, 3: g, 4: n, 5: p, 6: y, 7: a, 8: r, 9: s)\n",
        "--\n",
        "Vector(0: r, 1: f, 2: w, 3: g, 4: n, 5: m, 6: y, 7: a, 8: i, 9: s)\n"
       ]
      },
      {
       "output_type": "stream",
       "stream": "stdout",
       "text": [
        "Vector(0: r, 1: f, 2: s, 3: g, 4: n, 5: r, 6: y, 7: a, 8: r, 9: s)\n",
        "--\n",
        "Vector(0: r, 1: f, 2: w, 3: g, 4: n, 5: v, 6: y, 7: a, 8: l, 9: s)\n",
        "Vector(0: r, 1: f, 2: w, 3: g, 4: n, 5: r, 6: y, 7: a, 8: m, 9: s)\n",
        "--\n",
        "Vector(0: r, 1: f, 2: w, 3: g, 4: n, 5: n, 6: y, 7: a, 8: r, 9: s)\n",
        "Vector(0: r, 1: f, 2: w, 3: g, 4: n, 5: r, 6: y, 7: a, 8: r, 9: s)\n",
        "--\n",
        "Vector(0: r, 1: f, 2: i, 3: g, 4: n, 5: -, 6: y, 7: a, 8: w, 9: s)\n"
       ]
      },
      {
       "output_type": "stream",
       "stream": "stdout",
       "text": [
        "Vector(0: r, 1: f, 2: w, 3: g, 4: n, 5: r, 6: y, 7: a, 8: r, 9: s)\n",
        "--\n",
        "Vector(0: r, 1: f, 2: i, 3: g, 4: n, 5: w, 6: c, 7: a, 8: k, 9: s)\n",
        "Vector(0: r, 1: f, 2: w, 3: g, 4: n, 5: e, 6: y, 7: a, 8: r, 9: s)\n",
        "--\n",
        "Vector(0: r, 1: f, 2: v, 3: g, 4: n, 5: w, 6: t, 7: a, 8: g, 9: s)\n",
        "Vector(0: r, 1: f, 2: w, 3: g, 4: n, 5: r, 6: y, 7: a, 8: l, 9: s)\n",
        "--\n",
        "Vector(0: r, 1: f, 2: i, 3: g, 4: n, 5: g, 6: y, 7: a, 8: w, 9: s)\n"
       ]
      },
      {
       "output_type": "stream",
       "stream": "stdout",
       "text": [
        "Vector(0: r, 1: f, 2: -, 3: g, 4: n, 5: r, 6: y, 7: a, 8: s, 9: s)\n",
        "--\n",
        "Vector(0: r, 1: f, 2: f, 3: g, 4: n, 5: p, 6: y, 7: a, 8: l, 9: s)\n",
        "Vector(0: r, 1: f, 2: -, 3: g, 4: n, 5: t, 6: y, 7: a, 8: s, 9: s)\n",
        "--\n",
        "Vector(0: r, 1: f, 2: w, 3: g, 4: n, 5: e, 6: y, 7: c, 8: w, 9: s)\n",
        "Vector(0: r, 1: f, 2: w, 3: g, 4: n, 5: r, 6: y, 7: a, 8: q, 9: s)\n",
        "--\n",
        "Vector(0: r, 1: f, 2: w, 3: g, 4: n, 5: e, 6: c, 7: a, 8: w, 9: s)\n",
        "Vector(0: r, 1: f, 2: w, 3: g, 4: n, 5: r, 6: y, 7: a, 8: r, 9: s)\n",
        "--\n",
        "Vector(0: r, 1: f, 2: v, 3: g, 4: n, 5: a, 6: -, 7: a, 8: y, 9: s)\n"
       ]
      },
      {
       "output_type": "stream",
       "stream": "stdout",
       "text": [
        "Vector(0: r, 1: f, 2: s, 3: g, 4: n, 5: r, 6: y, 7: a, 8: v, 9: s)\n",
        "--\n",
        "Vector(0: r, 1: f, 2: k, 3: g, 4: n, 5: f, 6: a, 7: a, 8: r, 9: s)\n",
        "Vector(0: r, 1: f, 2: w, 3: g, 4: n, 5: r, 6: y, 7: a, 8: r, 9: s)\n",
        "--\n",
        "Vector(0: r, 1: f, 2: k, 3: g, 4: n, 5: n, 6: a, 7: a, 8: g, 9: s)\n",
        "Vector(0: r, 1: f, 2: w, 3: g, 4: n, 5: r, 6: y, 7: a, 8: r, 9: s)\n",
        "--\n",
        "Vector(0: r, 1: f, 2: d, 3: g, 4: n, 5: d, 6: a, 7: a, 8: s, 9: s)\n"
       ]
      },
      {
       "output_type": "stream",
       "stream": "stdout",
       "text": [
        "Vector(0: r, 1: f, 2: w, 3: g, 4: n, 5: r, 6: y, 7: a, 8: r, 9: s)\n",
        "--\n",
        "Vector(0: r, 1: f, 2: a, 3: g, 4: n, 5: r, 6: -, 7: a, 8: q, 9: s)\n",
        "Vector(0: r, 1: f, 2: w, 3: g, 4: n, 5: r, 6: y, 7: a, 8: r, 9: s)\n",
        "--\n",
        "Vector(0: r, 1: f, 2: w, 3: g, 4: n, 5: h, 6: y, 7: a, 8: p, 9: s)\n",
        "Vector(0: r, 1: f, 2: w, 3: g, 4: n, 5: n, 6: y, 7: a, 8: r, 9: s)\n",
        "--\n",
        "Vector(0: r, 1: f, 2: a, 3: g, 4: n, 5: q, 6: t, 7: a, 8: w, 9: s)\n"
       ]
      },
      {
       "output_type": "stream",
       "stream": "stdout",
       "text": [
        "Vector(0: r, 1: f, 2: w, 3: g, 4: n, 5: r, 6: y, 7: a, 8: r, 9: s)\n",
        "--\n",
        "Vector(0: r, 1: f, 2: a, 3: g, 4: n, 5: r, 6: y, 7: a, 8: k, 9: s)\n",
        "Vector(0: r, 1: f, 2: k, 3: g, 4: n, 5: r, 6: y, 7: a, 8: r, 9: s)\n",
        "--\n",
        "Vector(0: r, 1: f, 2: w, 3: g, 4: n, 5: i, 6: y, 7: a, 8: r, 9: s)\n",
        "Vector(0: r, 1: f, 2: w, 3: g, 4: n, 5: r, 6: y, 7: a, 8: r, 9: s)\n",
        "--\n",
        "Vector(0: r, 1: f, 2: w, 3: g, 4: n, 5: e, 6: y, 7: a, 8: g, 9: d)\n"
       ]
      },
      {
       "output_type": "stream",
       "stream": "stdout",
       "text": [
        "Vector(0: r, 1: f, 2: w, 3: g, 4: n, 5: r, 6: y, 7: a, 8: l, 9: s)\n",
        "--\n",
        "Vector(0: r, 1: f, 2: e, 3: g, 4: n, 5: y, 6: a, 7: a, 8: r, 9: s)\n",
        "Vector(0: r, 1: f, 2: w, 3: g, 4: n, 5: r, 6: y, 7: a, 8: r, 9: s)\n",
        "--\n",
        "Vector(0: r, 1: f, 2: s, 3: g, 4: n, 5: l, 6: y, 7: a, 8: a, 9: s)\n",
        "Vector(0: r, 1: f, 2: w, 3: g, 4: n, 5: r, 6: y, 7: a, 8: r, 9: s)\n",
        "--\n",
        "Vector(0: r, 1: f, 2: i, 3: g, 4: n, 5: l, 6: y, 7: a, 8: l, 9: d)\n",
        "Vector(0: r, 1: f, 2: w, 3: g, 4: n, 5: r, 6: y, 7: a, 8: r, 9: s)\n",
        "--\n",
        "Vector(0: r, 1: f, 2: i, 3: g, 4: n, 5: w, 6: y, 7: a, 8: w, 9: s)\n"
       ]
      },
      {
       "output_type": "stream",
       "stream": "stdout",
       "text": [
        "Vector(0: r, 1: f, 2: w, 3: g, 4: n, 5: r, 6: y, 7: a, 8: r, 9: s)\n",
        "--\n",
        "Vector(0: r, 1: f, 2: i, 3: g, 4: n, 5: n, 6: y, 7: a, 8: d, 9: s)\n",
        "Vector(0: r, 1: f, 2: k, 3: g, 4: n, 5: n, 6: y, 7: a, 8: r, 9: s)\n",
        "--\n",
        "Vector(0: r, 1: f, 2: i, 3: g, 4: n, 5: w, 6: y, 7: a, 8: y, 9: s)\n",
        "Vector(0: r, 1: f, 2: w, 3: g, 4: n, 5: w, 6: y, 7: a, 8: r, 9: s)\n",
        "--\n",
        "Vector(0: r, 1: f, 2: i, 3: g, 4: n, 5: l, 6: y, 7: a, 8: q, 9: s)\n"
       ]
      },
      {
       "output_type": "stream",
       "stream": "stdout",
       "text": [
        "Vector(0: r, 1: f, 2: w, 3: g, 4: n, 5: r, 6: y, 7: a, 8: r, 9: s)\n",
        "--\n",
        "Vector(0: r, 1: f, 2: s, 3: g, 4: n, 5: s, 6: y, 7: c, 8: g, 9: s)\n",
        "Vector(0: r, 1: f, 2: q, 3: g, 4: n, 5: r, 6: y, 7: a, 8: g, 9: s)\n",
        "--\n",
        "Vector(0: r, 1: f, 2: a, 3: g, 4: n, 5: e, 6: y, 7: c, 8: s, 9: s)\n",
        "Vector(0: r, 1: f, 2: w, 3: g, 4: n, 5: r, 6: y, 7: a, 8: r, 9: s)\n",
        "--\n",
        "Vector(0: r, 1: f, 2: i, 3: g, 4: n, 5: l, 6: y, 7: a, 8: s, 9: s)\n"
       ]
      },
      {
       "output_type": "stream",
       "stream": "stdout",
       "text": [
        "Vector(0: r, 1: f, 2: w, 3: g, 4: n, 5: -, 6: y, 7: a, 8: r, 9: s)\n",
        "--\n",
        "Vector(0: r, 1: f, 2: i, 3: g, 4: n, 5: w, 6: y, 7: a, 8: n, 9: d)\n",
        "Vector(0: r, 1: f, 2: w, 3: g, 4: n, 5: r, 6: y, 7: a, 8: m, 9: s)\n",
        "--\n",
        "Vector(0: r, 1: f, 2: i, 3: g, 4: n, 5: e, 6: y, 7: a, 8: q, 9: s)\n",
        "Vector(0: r, 1: f, 2: w, 3: g, 4: n, 5: r, 6: y, 7: a, 8: m, 9: s)\n",
        "--\n",
        "Vector(0: r, 1: f, 2: g, 3: g, 4: n, 5: r, 6: y, 7: a, 8: w, 9: d)\n"
       ]
      },
      {
       "output_type": "stream",
       "stream": "stdout",
       "text": [
        "Vector(0: r, 1: f, 2: w, 3: g, 4: n, 5: r, 6: y, 7: a, 8: r, 9: s)\n",
        "--\n",
        "Vector(0: r, 1: f, 2: w, 3: g, 4: n, 5: w, 6: y, 7: a, 8: q, 9: s)\n",
        "Vector(0: r, 1: f, 2: w, 3: g, 4: n, 5: d, 6: y, 7: a, 8: r, 9: s)\n",
        "--\n",
        "Vector(0: r, 1: f, 2: p, 3: g, 4: n, 5: w, 6: p, 7: a, 8: g, 9: s)\n",
        "Vector(0: r, 1: f, 2: v, 3: g, 4: n, 5: r, 6: y, 7: a, 8: r, 9: s)\n",
        "--\n",
        "Vector(0: r, 1: f, 2: d, 3: g, 4: n, 5: w, 6: a, 7: a, 8: q, 9: s)\n"
       ]
      },
      {
       "output_type": "stream",
       "stream": "stdout",
       "text": [
        "Vector(0: r, 1: f, 2: w, 3: g, 4: n, 5: r, 6: y, 7: a, 8: r, 9: s)\n",
        "--\n",
        "Vector(0: r, 1: f, 2: d, 3: g, 4: n, 5: n, 6: a, 7: a, 8: a, 9: s)\n",
        "Vector(0: r, 1: f, 2: w, 3: g, 4: n, 5: c, 6: y, 7: a, 8: r, 9: s)\n",
        "--\n",
        "Vector(0: r, 1: f, 2: d, 3: g, 4: n, 5: v, 6: a, 7: a, 8: r, 9: d)\n",
        "Vector(0: r, 1: f, 2: l, 3: g, 4: n, 5: r, 6: y, 7: a, 8: r, 9: s)\n",
        "--\n",
        "Vector(0: r, 1: f, 2: w, 3: g, 4: n, 5: i, 6: a, 7: a, 8: g, 9: s)\n",
        "Vector(0: r, 1: f, 2: w, 3: g, 4: n, 5: r, 6: y, 7: a, 8: r, 9: s)\n",
        "--\n",
        "Vector(0: r, 1: f, 2: h, 3: g, 4: n, 5: r, 6: a, 7: a, 8: r, 9: s)\n"
       ]
      },
      {
       "output_type": "stream",
       "stream": "stdout",
       "text": [
        "Vector(0: r, 1: f, 2: w, 3: g, 4: n, 5: r, 6: y, 7: a, 8: n, 9: s)\n",
        "--\n",
        "Vector(0: r, 1: f, 2: k, 3: g, 4: n, 5: s, 6: -, 7: a, 8: l, 9: s)\n",
        "Vector(0: r, 1: f, 2: w, 3: g, 4: n, 5: r, 6: y, 7: a, 8: r, 9: s)\n",
        "--\n",
        "Vector(0: r, 1: f, 2: s, 3: g, 4: n, 5: l, 6: t, 7: a, 8: s, 9: s)\n",
        "Vector(0: r, 1: f, 2: d, 3: g, 4: n, 5: r, 6: y, 7: a, 8: r, 9: s)\n",
        "--\n",
        "Vector(0: r, 1: f, 2: s, 3: g, 4: n, 5: y, 6: t, 7: a, 8: q, 9: s)\n"
       ]
      },
      {
       "output_type": "stream",
       "stream": "stdout",
       "text": [
        "Vector(0: r, 1: f, 2: w, 3: g, 4: n, 5: r, 6: y, 7: a, 8: m, 9: s)\n",
        "--\n",
        "Vector(0: r, 1: f, 2: s, 3: g, 4: n, 5: l, 6: a, 7: a, 8: l, 9: s)\n",
        "Vector(0: r, 1: f, 2: w, 3: g, 4: n, 5: r, 6: y, 7: a, 8: m, 9: s)\n",
        "--\n",
        "Vector(0: r, 1: f, 2: a, 3: g, 4: n, 5: -, 6: c, 7: a, 8: l, 9: s)\n",
        "Vector(0: r, 1: f, 2: w, 3: g, 4: n, 5: r, 6: y, 7: a, 8: g, 9: s)\n",
        "--\n",
        "Vector(0: r, 1: f, 2: k, 3: g, 4: n, 5: n, 6: a, 7: a, 8: r, 9: d)\n",
        "Vector(0: r, 1: f, 2: q, 3: g, 4: n, 5: e, 6: y, 7: a, 8: r, 9: s)\n",
        "--\n",
        "Vector(0: r, 1: f, 2: d, 3: g, 4: n, 5: a, 6: a, 7: a, 8: i, 9: d)\n"
       ]
      },
      {
       "output_type": "stream",
       "stream": "stdout",
       "text": [
        "Vector(0: r, 1: f, 2: w, 3: g, 4: n, 5: r, 6: y, 7: a, 8: m, 9: s)\n",
        "--\n",
        "Vector(0: r, 1: f, 2: i, 3: g, 4: n, 5: w, 6: y, 7: a, 8: w, 9: s)\n",
        "Vector(0: r, 1: f, 2: w, 3: g, 4: n, 5: r, 6: y, 7: a, 8: r, 9: s)\n",
        "--\n",
        "Vector(0: r, 1: f, 2: i, 3: g, 4: n, 5: l, 6: y, 7: a, 8: h, 9: s)\n",
        "Vector(0: r, 1: f, 2: w, 3: g, 4: n, 5: w, 6: y, 7: a, 8: f, 9: s)\n",
        "--\n",
        "Vector(0: r, 1: f, 2: i, 3: g, 4: s, 5: w, 6: y, 7: a, 8: w, 9: s)\n"
       ]
      },
      {
       "output_type": "stream",
       "stream": "stdout",
       "text": [
        "Vector(0: r, 1: f, 2: w, 3: g, 4: n, 5: r, 6: y, 7: a, 8: r, 9: s)\n",
        "--\n",
        "Vector(0: r, 1: f, 2: i, 3: g, 4: n, 5: -, 6: y, 7: a, 8: h, 9: s)\n",
        "Vector(0: r, 1: f, 2: f, 3: g, 4: n, 5: y, 6: y, 7: a, 8: -, 9: s)\n",
        "--\n",
        "Vector(0: r, 1: f, 2: w, 3: g, 4: n, 5: m, 6: y, 7: a, 8: q, 9: s)\n",
        "Vector(0: r, 1: f, 2: t, 3: g, 4: n, 5: r, 6: y, 7: a, 8: k, 9: s)\n",
        "--\n",
        "Vector(0: r, 1: f, 2: w, 3: g, 4: n, 5: r, 6: i, 7: a, 8: r, 9: s)\n"
       ]
      },
      {
       "output_type": "stream",
       "stream": "stdout",
       "text": [
        "Vector(0: r, 1: f, 2: w, 3: g, 4: n, 5: r, 6: y, 7: a, 8: -, 9: s)\n",
        "--\n",
        "Vector(0: r, 1: f, 2: n, 3: g, 4: n, 5: r, 6: t, 7: a, 8: s, 9: s)\n",
        "Vector(0: r, 1: f, 2: w, 3: g, 4: n, 5: r, 6: y, 7: a, 8: r, 9: s)\n",
        "--\n",
        "Vector(0: r, 1: f, 2: h, 3: g, 4: n, 5: y, 6: a, 7: a, 8: -, 9: s)\n",
        "Vector(0: r, 1: f, 2: w, 3: g, 4: n, 5: r, 6: y, 7: a, 8: r, 9: s)\n",
        "--\n",
        "Vector(0: r, 1: f, 2: e, 3: g, 4: n, 5: e, 6: a, 7: a, 8: m, 9: s)\n"
       ]
      },
      {
       "output_type": "stream",
       "stream": "stdout",
       "text": [
        "Vector(0: r, 1: f, 2: h, 3: g, 4: n, 5: w, 6: y, 7: a, 8: r, 9: s)\n",
        "--\n",
        "Vector(0: r, 1: f, 2: e, 3: g, 4: n, 5: e, 6: a, 7: a, 8: r, 9: s)\n",
        "Vector(0: r, 1: f, 2: w, 3: g, 4: n, 5: r, 6: y, 7: a, 8: r, 9: s)\n",
        "--\n",
        "Vector(0: r, 1: f, 2: e, 3: g, 4: n, 5: r, 6: y, 7: c, 8: t, 9: s)\n",
        "Vector(0: r, 1: f, 2: w, 3: g, 4: n, 5: r, 6: y, 7: a, 8: s, 9: s)\n",
        "--\n",
        "Vector(0: r, 1: f, 2: w, 3: g, 4: n, 5: r, 6: y, 7: a, 8: w, 9: s)\n",
        "Vector(0: r, 1: f, 2: i, 3: g, 4: n, 5: n, 6: y, 7: a, 8: r, 9: s)\n",
        "--\n",
        "Vector(0: r, 1: f, 2: w, 3: g, 4: n, 5: -, 6: y, 7: a, 8: n, 9: s)\n"
       ]
      },
      {
       "output_type": "stream",
       "stream": "stdout",
       "text": [
        "Vector(0: r, 1: f, 2: w, 3: g, 4: n, 5: e, 6: y, 7: a, 8: r, 9: s)\n",
        "--\n",
        "Vector(0: r, 1: f, 2: w, 3: g, 4: n, 5: -, 6: y, 7: a, 8: v, 9: s)\n",
        "Vector(0: r, 1: f, 2: m, 3: g, 4: n, 5: m, 6: y, 7: a, 8: i, 9: s)\n",
        "--\n",
        "Vector(0: r, 1: f, 2: i, 3: g, 4: n, 5: w, 6: y, 7: a, 8: q, 9: s)\n",
        "Vector(0: r, 1: f, 2: g, 3: g, 4: n, 5: r, 6: y, 7: a, 8: r, 9: s)\n",
        "--\n",
        "Vector(0: r, 1: f, 2: i, 3: g, 4: n, 5: l, 6: y, 7: a, 8: r, 9: s)\n"
       ]
      },
      {
       "output_type": "stream",
       "stream": "stdout",
       "text": [
        "Vector(0: r, 1: f, 2: q, 3: g, 4: n, 5: r, 6: y, 7: a, 8: r, 9: s)\n",
        "--\n",
        "Vector(0: r, 1: f, 2: s, 3: g, 4: n, 5: w, 6: i, 7: h, 8: w, 9: s)\n",
        "Vector(0: r, 1: f, 2: w, 3: g, 4: n, 5: r, 6: y, 7: a, 8: e, 9: s)\n",
        "--\n",
        "Vector(0: r, 1: h, 2: c, 3: g, 4: n, 5: w, 6: t, 7: h, 8: r, 9: s)\n",
        "Vector(0: r, 1: f, 2: w, 3: g, 4: n, 5: r, 6: y, 7: a, 8: a, 9: s)\n",
        "--\n",
        "Vector(0: r, 1: f, 2: n, 3: g, 4: n, 5: r, 6: t, 7: a, 8: y, 9: s)\n"
       ]
      },
      {
       "output_type": "stream",
       "stream": "stdout",
       "text": [
        "Vector(0: r, 1: f, 2: w, 3: g, 4: n, 5: r, 6: y, 7: a, 8: w, 9: s)\n",
        "--\n",
        "Vector(0: r, 1: f, 2: n, 3: g, 4: n, 5: n, 6: t, 7: a, 8: w, 9: s)\n",
        "Vector(0: r, 1: f, 2: w, 3: g, 4: n, 5: e, 6: y, 7: a, 8: r, 9: s)\n",
        "--\n",
        "Vector(0: r, 1: f, 2: n, 3: g, 4: n, 5: w, 6: t, 7: a, 8: y, 9: s)\n",
        "Vector(0: r, 1: f, 2: w, 3: g, 4: n, 5: r, 6: y, 7: a, 8: r, 9: s)\n",
        "--\n",
        "Vector(0: r, 1: f, 2: c, 3: g, 4: n, 5: n, 6: t, 7: a, 8: c, 9: s)\n",
        "Vector(0: r, 1: f, 2: w, 3: g, 4: n, 5: r, 6: y, 7: a, 8: r, 9: s)\n",
        "--\n",
        "Vector(0: r, 1: f, 2: c, 3: g, 4: n, 5: q, 6: t, 7: a, 8: g, 9: s)\n"
       ]
      },
      {
       "output_type": "stream",
       "stream": "stdout",
       "text": [
        "Vector(0: r, 1: f, 2: i, 3: g, 4: n, 5: r, 6: y, 7: a, 8: y, 9: s)\n",
        "--\n",
        "Vector(0: r, 1: f, 2: s, 3: g, 4: n, 5: l, 6: -, 7: a, 8: r, 9: s)\n",
        "Vector(0: r, 1: f, 2: k, 3: g, 4: n, 5: r, 6: y, 7: a, 8: v, 9: s)\n",
        "--\n",
        "Vector(0: r, 1: f, 2: s, 3: g, 4: n, 5: l, 6: c, 7: a, 8: w, 9: s)\n",
        "Vector(0: r, 1: f, 2: -, 3: g, 4: n, 5: r, 6: y, 7: a, 8: r, 9: s)\n",
        "--\n",
        "Vector(0: r, 1: f, 2: i, 3: g, 4: n, 5: e, 6: y, 7: a, 8: e, 9: s)\n"
       ]
      },
      {
       "output_type": "stream",
       "stream": "stdout",
       "text": [
        "Vector(0: r, 1: f, 2: w, 3: g, 4: n, 5: f, 6: y, 7: a, 8: a, 9: s)\n",
        "--\n",
        "Vector(0: r, 1: f, 2: w, 3: g, 4: n, 5: v, 6: y, 7: a, 8: k, 9: s)\n",
        "Vector(0: r, 1: f, 2: w, 3: g, 4: n, 5: r, 6: y, 7: a, 8: l, 9: s)\n",
        "--\n",
        "Vector(0: r, 1: f, 2: w, 3: g, 4: n, 5: e, 6: y, 7: a, 8: a, 9: r)\n",
        "Vector(0: r, 1: f, 2: w, 3: g, 4: n, 5: r, 6: y, 7: a, 8: r, 9: s)\n",
        "--\n",
        "Vector(0: r, 1: f, 2: w, 3: g, 4: n, 5: e, 6: y, 7: a, 8: r, 9: s)\n"
       ]
      },
      {
       "output_type": "stream",
       "stream": "stdout",
       "text": [
        "Vector(0: r, 1: f, 2: w, 3: g, 4: n, 5: r, 6: y, 7: a, 8: f, 9: s)\n",
        "--\n",
        "Vector(0: r, 1: f, 2: w, 3: g, 4: n, 5: -, 6: y, 7: a, 8: q, 9: s)\n",
        "Vector(0: r, 1: f, 2: w, 3: g, 4: n, 5: r, 6: y, 7: a, 8: r, 9: s)\n",
        "--\n",
        "Vector(0: r, 1: f, 2: w, 3: g, 4: n, 5: r, 6: y, 7: a, 8: m, 9: s)\n",
        "Vector(0: r, 1: f, 2: w, 3: g, 4: n, 5: g, 6: y, 7: a, 8: r, 9: s)\n",
        "--\n",
        "Vector(0: r, 1: f, 2: w, 3: g, 4: n, 5: a, 6: y, 7: a, 8: y, 9: s)\n",
        "Vector(0: r, 1: f, 2: w, 3: g, 4: n, 5: r, 6: y, 7: a, 8: q, 9: s)\n",
        "--\n",
        "Vector(0: r, 1: f, 2: w, 3: g, 4: n, 5: -, 6: y, 7: a, 8: c, 9: s)\n"
       ]
      },
      {
       "output_type": "stream",
       "stream": "stdout",
       "text": [
        "Vector(0: r, 1: f, 2: w, 3: g, 4: n, 5: r, 6: y, 7: a, 8: i, 9: s)\n",
        "--\n",
        "Vector(0: r, 1: f, 2: i, 3: g, 4: n, 5: w, 6: y, 7: a, 8: g, 9: s)\n",
        "Vector(0: r, 1: f, 2: n, 3: g, 4: n, 5: g, 6: y, 7: a, 8: r, 9: s)\n",
        "--\n",
        "Vector(0: r, 1: f, 2: i, 3: g, 4: n, 5: l, 6: y, 7: a, 8: r, 9: d)\n",
        "Vector(0: r, 1: f, 2: w, 3: g, 4: n, 5: r, 6: y, 7: a, 8: i, 9: s)\n",
        "--\n",
        "Vector(0: r, 1: f, 2: a, 3: g, 4: n, 5: q, 6: y, 7: a, 8: y, 9: s)\n"
       ]
      },
      {
       "output_type": "stream",
       "stream": "stdout",
       "text": [
        "Vector(0: r, 1: f, 2: w, 3: g, 4: n, 5: d, 6: y, 7: a, 8: w, 9: s)\n",
        "--\n",
        "Vector(0: r, 1: f, 2: i, 3: g, 4: n, 5: l, 6: y, 7: a, 8: r, 9: d)\n",
        "Vector(0: r, 1: f, 2: w, 3: g, 4: n, 5: r, 6: y, 7: a, 8: r, 9: s)\n",
        "--\n",
        "Vector(0: r, 1: f, 2: i, 3: g, 4: n, 5: n, 6: y, 7: a, 8: s, 9: s)\n",
        "Vector(0: r, 1: f, 2: w, 3: g, 4: n, 5: n, 6: y, 7: a, 8: r, 9: s)\n",
        "--\n",
        "Vector(0: r, 1: f, 2: i, 3: g, 4: n, 5: n, 6: y, 7: a, 8: h, 9: s)\n"
       ]
      },
      {
       "output_type": "stream",
       "stream": "stdout",
       "text": [
        "Vector(0: r, 1: f, 2: w, 3: g, 4: n, 5: r, 6: y, 7: a, 8: t, 9: s)\n",
        "--\n",
        "Vector(0: r, 1: f, 2: w, 3: g, 4: n, 5: f, 6: y, 7: a, 8: q, 9: s)\n",
        "Vector(0: r, 1: f, 2: w, 3: g, 4: n, 5: r, 6: y, 7: a, 8: a, 9: s)\n",
        "--\n",
        "Vector(0: r, 1: f, 2: w, 3: g, 4: n, 5: r, 6: y, 7: a, 8: l, 9: s)\n",
        "Vector(0: r, 1: f, 2: w, 3: g, 4: n, 5: r, 6: y, 7: a, 8: r, 9: s)\n",
        "--\n",
        "Vector(0: r, 1: f, 2: w, 3: g, 4: p, 5: r, 6: y, 7: c, 8: t, 9: d)\n"
       ]
      },
      {
       "output_type": "stream",
       "stream": "stdout",
       "text": [
        "Vector(0: r, 1: f, 2: w, 3: g, 4: n, 5: r, 6: y, 7: a, 8: m, 9: s)\n",
        "--\n",
        "Vector(0: r, 1: t, 2: w, 3: g, 4: p, 5: e, 6: y, 7: a, 8: s, 9: s)\n",
        "Vector(0: r, 1: f, 2: w, 3: g, 4: n, 5: r, 6: y, 7: a, 8: r, 9: s)\n",
        "--\n",
        "Vector(0: r, 1: f, 2: w, 3: g, 4: n, 5: r, 6: y, 7: a, 8: w, 9: s)\n",
        "Vector(0: r, 1: f, 2: w, 3: g, 4: n, 5: r, 6: y, 7: a, 8: r, 9: s)\n",
        "--\n",
        "Vector(0: r, 1: v, 2: w, 3: g, 4: n, 5: e, 6: y, 7: a, 8: g, 9: s)\n",
        "Vector(0: r, 1: f, 2: w, 3: g, 4: n, 5: e, 6: y, 7: a, 8: r, 9: s)\n",
        "--\n",
        "Vector(0: r, 1: f, 2: w, 3: g, 4: n, 5: e, 6: y, 7: a, 8: i, 9: s)\n"
       ]
      },
      {
       "output_type": "stream",
       "stream": "stdout",
       "text": [
        "Vector(0: r, 1: f, 2: a, 3: g, 4: n, 5: r, 6: y, 7: a, 8: s, 9: s)\n",
        "--\n",
        "Vector(0: r, 1: f, 2: w, 3: g, 4: n, 5: e, 6: c, 7: a, 8: r, 9: s)\n",
        "Vector(0: r, 1: f, 2: w, 3: g, 4: n, 5: r, 6: y, 7: a, 8: r, 9: s)\n",
        "--\n",
        "Vector(0: r, 1: f, 2: w, 3: g, 4: n, 5: r, 6: p, 7: a, 8: q, 9: s)\n",
        "Vector(0: r, 1: f, 2: w, 3: g, 4: n, 5: r, 6: y, 7: a, 8: r, 9: s)\n",
        "--\n",
        "Vector(0: r, 1: f, 2: w, 3: g, 4: n, 5: r, 6: y, 7: a, 8: k, 9: s)\n"
       ]
      },
      {
       "output_type": "stream",
       "stream": "stdout",
       "text": [
        "Vector(0: r, 1: f, 2: w, 3: g, 4: n, 5: r, 6: y, 7: a, 8: f, 9: s)\n",
        "--\n",
        "Vector(0: r, 1: f, 2: -, 3: g, 4: n, 5: k, 6: t, 7: a, 8: q, 9: s)\n",
        "Vector(0: r, 1: f, 2: w, 3: g, 4: n, 5: e, 6: y, 7: a, 8: g, 9: s)\n",
        "--\n",
        "Vector(0: r, 1: f, 2: s, 3: g, 4: n, 5: y, 6: -, 7: a, 8: g, 9: s)\n",
        "Vector(0: r, 1: f, 2: c, 3: g, 4: n, 5: r, 6: y, 7: a, 8: r, 9: s)\n",
        "--\n",
        "Vector(0: r, 1: f, 2: s, 3: g, 4: n, 5: l, 6: y, 7: a, 8: g, 9: s)\n"
       ]
      },
      {
       "output_type": "stream",
       "stream": "stdout",
       "text": [
        "Vector(0: r, 1: f, 2: w, 3: g, 4: n, 5: r, 6: y, 7: a, 8: s, 9: s)\n",
        "--\n",
        "Vector(0: r, 1: f, 2: i, 3: g, 4: n, 5: l, 6: y, 7: a, 8: l, 9: s)\n",
        "Vector(0: r, 1: f, 2: w, 3: g, 4: n, 5: -, 6: y, 7: a, 8: r, 9: s)\n",
        "--\n",
        "Vector(0: r, 1: f, 2: i, 3: g, 4: n, 5: -, 6: y, 7: a, 8: r, 9: s)\n",
        "Vector(0: r, 1: f, 2: w, 3: g, 4: n, 5: e, 6: y, 7: a, 8: r, 9: s)\n",
        "--\n",
        "Vector(0: r, 1: f, 2: i, 3: g, 4: n, 5: w, 6: y, 7: a, 8: p, 9: s)\n"
       ]
      },
      {
       "output_type": "stream",
       "stream": "stdout",
       "text": [
        "Vector(0: r, 1: f, 2: w, 3: g, 4: n, 5: r, 6: y, 7: a, 8: g, 9: s)\n",
        "--\n",
        "Vector(0: r, 1: f, 2: s, 3: g, 4: n, 5: y, 6: t, 7: a, 8: q, 9: s)\n",
        "Vector(0: r, 1: f, 2: d, 3: g, 4: n, 5: r, 6: y, 7: a, 8: r, 9: s)\n",
        "--\n",
        "Vector(0: r, 1: f, 2: s, 3: g, 4: n, 5: w, 6: -, 7: a, 8: r, 9: s)\n",
        "Vector(0: r, 1: f, 2: w, 3: g, 4: n, 5: r, 6: y, 7: a, 8: r, 9: s)\n",
        "--\n",
        "Vector(0: r, 1: f, 2: v, 3: g, 4: n, 5: a, 6: c, 7: l, 8: q, 9: s)\n",
        "Vector(0: r, 1: f, 2: w, 3: g, 4: n, 5: d, 6: y, 7: a, 8: r, 9: s)\n",
        "--\n",
        "Vector(0: r, 1: f, 2: w, 3: g, 4: n, 5: v, 6: c, 7: a, 8: f, 9: s)\n"
       ]
      },
      {
       "output_type": "stream",
       "stream": "stdout",
       "text": [
        "Vector(0: r, 1: f, 2: w, 3: g, 4: n, 5: r, 6: y, 7: a, 8: a, 9: s)\n",
        "--\n",
        "Vector(0: r, 1: f, 2: d, 3: g, 4: l, 5: n, 6: a, 7: a, 8: w, 9: s)\n",
        "Vector(0: r, 1: f, 2: e, 3: g, 4: n, 5: r, 6: y, 7: a, 8: r, 9: s)\n",
        "--\n",
        "Vector(0: i, 1: f, 2: d, 3: g, 4: n, 5: v, 6: p, 7: a, 8: q, 9: s)\n",
        "Vector(0: r, 1: f, 2: w, 3: g, 4: n, 5: r, 6: y, 7: a, 8: r, 9: s)\n",
        "--\n",
        "Vector(0: r, 1: f, 2: w, 3: g, 4: n, 5: f, 6: y, 7: a, 8: s, 9: s)\n"
       ]
      },
      {
       "output_type": "stream",
       "stream": "stdout",
       "text": [
        "Vector(0: r, 1: f, 2: w, 3: g, 4: n, 5: v, 6: y, 7: a, 8: r, 9: s)\n",
        "--\n",
        "Vector(0: r, 1: f, 2: w, 3: g, 4: n, 5: e, 6: y, 7: c, 8: r, 9: s)\n",
        "Vector(0: r, 1: f, 2: w, 3: g, 4: n, 5: r, 6: y, 7: a, 8: r, 9: s)\n",
        "--\n",
        "Vector(0: r, 1: f, 2: w, 3: g, 4: n, 5: e, 6: y, 7: a, 8: r, 9: d)\n",
        "Vector(0: r, 1: f, 2: w, 3: g, 4: n, 5: k, 6: y, 7: a, 8: r, 9: s)\n",
        "--\n",
        "Vector(0: r, 1: f, 2: w, 3: g, 4: n, 5: v, 6: y, 7: a, 8: w, 9: s)\n"
       ]
      },
      {
       "output_type": "stream",
       "stream": "stdout",
       "text": [
        "Vector(0: r, 1: f, 2: w, 3: g, 4: n, 5: l, 6: y, 7: a, 8: r, 9: s)\n",
        "--\n",
        "Vector(0: r, 1: f, 2: w, 3: g, 4: n, 5: e, 6: y, 7: c, 8: i, 9: s)\n",
        "Vector(0: r, 1: f, 2: w, 3: g, 4: n, 5: r, 6: y, 7: a, 8: r, 9: s)\n",
        "--\n",
        "Vector(0: r, 1: f, 2: i, 3: g, 4: n, 5: n, 6: y, 7: c, 8: g, 9: s)\n",
        "Vector(0: r, 1: f, 2: w, 3: g, 4: n, 5: r, 6: y, 7: a, 8: p, 9: s)\n",
        "--\n",
        "Vector(0: r, 1: f, 2: i, 3: g, 4: n, 5: w, 6: y, 7: a, 8: d, 9: s)\n"
       ]
      },
      {
       "output_type": "stream",
       "stream": "stdout",
       "text": [
        "Vector(0: r, 1: f, 2: w, 3: g, 4: n, 5: r, 6: y, 7: a, 8: -, 9: s)\n",
        "--\n",
        "Vector(0: r, 1: f, 2: f, 3: g, 4: n, 5: i, 6: y, 7: a, 8: w, 9: s)\n",
        "Vector(0: r, 1: f, 2: w, 3: g, 4: n, 5: r, 6: y, 7: a, 8: r, 9: s)\n",
        "--\n",
        "Vector(0: r, 1: f, 2: w, 3: g, 4: n, 5: y, 6: y, 7: a, 8: q, 9: s)\n",
        "Vector(0: r, 1: f, 2: w, 3: g, 4: n, 5: a, 6: y, 7: a, 8: p, 9: s)\n",
        "--\n",
        "Vector(0: r, 1: f, 2: s, 3: g, 4: n, 5: y, 6: t, 7: a, 8: r, 9: s)\n",
        "Vector(0: r, 1: f, 2: w, 3: g, 4: n, 5: r, 6: y, 7: a, 8: r, 9: s)\n",
        "--\n",
        "Vector(0: r, 1: f, 2: s, 3: g, 4: n, 5: l, 6: t, 7: a, 8: n, 9: s)\n"
       ]
      },
      {
       "output_type": "stream",
       "stream": "stdout",
       "text": [
        "Vector(0: r, 1: f, 2: w, 3: g, 4: n, 5: d, 6: y, 7: a, 8: r, 9: s)\n",
        "--\n",
        "Vector(0: r, 1: w, 2: s, 3: g, 4: n, 5: y, 6: t, 7: a, 8: s, 9: s)\n",
        "Vector(0: r, 1: f, 2: w, 3: g, 4: n, 5: r, 6: y, 7: a, 8: r, 9: s)\n",
        "--\n",
        "Vector(0: r, 1: f, 2: n, 3: g, 4: n, 5: d, 6: t, 7: a, 8: e, 9: s)\n",
        "Vector(0: r, 1: f, 2: w, 3: g, 4: n, 5: r, 6: y, 7: a, 8: s, 9: s)\n",
        "--\n",
        "Vector(0: r, 1: f, 2: c, 3: g, 4: n, 5: q, 6: t, 7: a, 8: l, 9: s)\n"
       ]
      },
      {
       "output_type": "stream",
       "stream": "stdout",
       "text": [
        "Vector(0: r, 1: f, 2: w, 3: g, 4: n, 5: r, 6: y, 7: a, 8: w, 9: s)\n",
        "--\n",
        "Vector(0: r, 1: f, 2: p, 3: g, 4: n, 5: p, 6: t, 7: a, 8: k, 9: s)\n",
        "Vector(0: r, 1: f, 2: w, 3: g, 4: n, 5: e, 6: y, 7: a, 8: r, 9: s)\n",
        "--\n",
        "Vector(0: r, 1: f, 2: p, 3: g, 4: n, 5: v, 6: t, 7: a, 8: w, 9: s)\n",
        "Vector(0: r, 1: f, 2: w, 3: g, 4: n, 5: r, 6: y, 7: a, 8: r, 9: s)\n",
        "--\n",
        "Vector(0: r, 1: f, 2: c, 3: g, 4: n, 5: f, 6: t, 7: a, 8: y, 9: s)\n"
       ]
      },
      {
       "output_type": "stream",
       "stream": "stdout",
       "text": [
        "Vector(0: r, 1: f, 2: w, 3: g, 4: n, 5: r, 6: y, 7: a, 8: f, 9: s)\n",
        "--\n",
        "Vector(0: r, 1: f, 2: -, 3: g, 4: n, 5: -, 6: t, 7: a, 8: r, 9: s)\n",
        "Vector(0: r, 1: f, 2: w, 3: g, 4: n, 5: c, 6: y, 7: a, 8: r, 9: s)\n",
        "--\n",
        "Vector(0: r, 1: f, 2: k, 3: g, 4: n, 5: n, 6: -, 7: a, 8: f, 9: s)\n",
        "Vector(0: r, 1: f, 2: w, 3: g, 4: n, 5: r, 6: y, 7: a, 8: r, 9: s)\n",
        "--\n",
        "Vector(0: r, 1: f, 2: k, 3: g, 4: n, 5: n, 6: t, 7: a, 8: w, 9: s)\n",
        "Vector(0: r, 1: f, 2: w, 3: g, 4: n, 5: r, 6: y, 7: a, 8: r, 9: s)\n",
        "--\n",
        "Vector(0: r, 1: f, 2: c, 3: g, 4: n, 5: n, 6: t, 7: a, 8: q, 9: s)\n"
       ]
      },
      {
       "output_type": "stream",
       "stream": "stdout",
       "text": [
        "Vector(0: r, 1: f, 2: w, 3: g, 4: n, 5: r, 6: y, 7: a, 8: r, 9: s)\n",
        "--\n",
        "Vector(0: r, 1: f, 2: i, 3: g, 4: n, 5: n, 6: y, 7: a, 8: w, 9: s)\n",
        "Vector(0: r, 1: f, 2: w, 3: g, 4: n, 5: f, 6: y, 7: a, 8: s, 9: s)\n",
        "--\n",
        "Vector(0: r, 1: f, 2: i, 3: g, 4: n, 5: n, 6: c, 7: a, 8: c, 9: s)\n",
        "Vector(0: r, 1: f, 2: w, 3: g, 4: n, 5: r, 6: y, 7: a, 8: a, 9: s)\n",
        "--\n",
        "Vector(0: r, 1: f, 2: f, 3: g, 4: n, 5: w, 6: y, 7: a, 8: y, 9: s)\n"
       ]
      },
      {
       "output_type": "stream",
       "stream": "stdout",
       "text": [
        "Vector(0: r, 1: f, 2: w, 3: g, 4: n, 5: r, 6: y, 7: a, 8: r, 9: s)\n",
        "--\n",
        "Vector(0: r, 1: f, 2: i, 3: g, 4: n, 5: -, 6: y, 7: a, 8: g, 9: s)\n",
        "Vector(0: r, 1: f, 2: w, 3: g, 4: n, 5: v, 6: y, 7: a, 8: r, 9: s)\n",
        "--\n",
        "Vector(0: r, 1: f, 2: i, 3: g, 4: n, 5: w, 6: y, 7: a, 8: w, 9: s)\n",
        "Vector(0: r, 1: f, 2: w, 3: g, 4: n, 5: r, 6: y, 7: a, 8: r, 9: s)\n",
        "--\n",
        "Vector(0: r, 1: f, 2: i, 3: g, 4: n, 5: n, 6: y, 7: a, 8: g, 9: s)\n"
       ]
      },
      {
       "output_type": "stream",
       "stream": "stdout",
       "text": [
        "Vector(0: r, 1: f, 2: w, 3: g, 4: n, 5: h, 6: y, 7: a, 8: r, 9: s)\n",
        "--\n",
        "Vector(0: r, 1: f, 2: w, 3: g, 4: n, 5: r, 6: y, 7: a, 8: c, 9: s)\n",
        "Vector(0: r, 1: f, 2: w, 3: g, 4: n, 5: r, 6: y, 7: a, 8: r, 9: s)\n",
        "--\n",
        "Vector(0: r, 1: f, 2: e, 3: g, 4: n, 5: y, 6: y, 7: a, 8: g, 9: s)\n",
        "Vector(0: r, 1: f, 2: w, 3: g, 4: n, 5: q, 6: y, 7: a, 8: r, 9: s)\n",
        "--\n",
        "Vector(0: r, 1: f, 2: w, 3: g, 4: n, 5: r, 6: y, 7: a, 8: w, 9: s)\n",
        "Vector(0: r, 1: f, 2: w, 3: g, 4: n, 5: r, 6: y, 7: a, 8: r, 9: s)\n",
        "--\n",
        "Vector(0: r, 1: f, 2: w, 3: g, 4: n, 5: e, 6: y, 7: a, 8: p, 9: d)\n"
       ]
      },
      {
       "output_type": "stream",
       "stream": "stdout",
       "text": [
        "Vector(0: r, 1: f, 2: a, 3: g, 4: n, 5: -, 6: y, 7: a, 8: t, 9: s)\n",
        "--\n",
        "Vector(0: r, 1: f, 2: e, 3: g, 4: n, 5: e, 6: y, 7: a, 8: q, 9: s)\n",
        "Vector(0: r, 1: f, 2: w, 3: g, 4: n, 5: r, 6: y, 7: a, 8: y, 9: s)\n",
        "--\n",
        "Vector(0: r, 1: f, 2: w, 3: g, 4: n, 5: n, 6: y, 7: a, 8: r, 9: s)\n",
        "Vector(0: r, 1: f, 2: w, 3: g, 4: n, 5: r, 6: y, 7: a, 8: r, 9: s)\n",
        "--\n",
        "Vector(0: r, 1: f, 2: i, 3: g, 4: n, 5: e, 6: y, 7: a, 8: r, 9: d)\n"
       ]
      },
      {
       "output_type": "stream",
       "stream": "stdout",
       "text": [
        "Vector(0: r, 1: f, 2: w, 3: g, 4: n, 5: r, 6: y, 7: a, 8: r, 9: s)\n",
        "--\n",
        "Vector(0: r, 1: f, 2: w, 3: g, 4: n, 5: e, 6: y, 7: a, 8: w, 9: s)\n",
        "Vector(0: r, 1: f, 2: w, 3: g, 4: n, 5: g, 6: y, 7: a, 8: m, 9: s)\n",
        "--\n",
        "Vector(0: r, 1: f, 2: w, 3: g, 4: n, 5: e, 6: y, 7: a, 8: h, 9: s)\n",
        "Vector(0: r, 1: f, 2: w, 3: g, 4: n, 5: i, 6: y, 7: a, 8: r, 9: s)\n",
        "--\n",
        "Vector(0: r, 1: f, 2: w, 3: g, 4: n, 5: r, 6: y, 7: a, 8: r, 9: s)\n"
       ]
      },
      {
       "output_type": "stream",
       "stream": "stdout",
       "text": [
        "Vector(0: r, 1: f, 2: w, 3: g, 4: n, 5: r, 6: y, 7: a, 8: r, 9: s)\n",
        "--\n",
        "Vector(0: r, 1: f, 2: w, 3: g, 4: n, 5: r, 6: t, 7: a, 8: c, 9: s)\n",
        "Vector(0: r, 1: f, 2: w, 3: g, 4: n, 5: r, 6: y, 7: a, 8: r, 9: s)\n",
        "--\n",
        "Vector(0: r, 1: f, 2: n, 3: g, 4: n, 5: e, 6: t, 7: a, 8: h, 9: s)\n",
        "Vector(0: r, 1: f, 2: c, 3: g, 4: n, 5: -, 6: y, 7: a, 8: r, 9: s)\n",
        "--\n",
        "Vector(0: r, 1: f, 2: s, 3: g, 4: n, 5: m, 6: y, 7: a, 8: r, 9: d)\n"
       ]
      },
      {
       "output_type": "stream",
       "stream": "stdout",
       "text": [
        "Vector(0: r, 1: f, 2: w, 3: g, 4: n, 5: -, 6: y, 7: a, 8: r, 9: s)\n",
        "--\n",
        "Vector(0: r, 1: f, 2: w, 3: g, 4: n, 5: e, 6: y, 7: a, 8: w, 9: s)\n",
        "Vector(0: r, 1: f, 2: w, 3: g, 4: n, 5: r, 6: y, 7: a, 8: i, 9: s)\n",
        "--\n",
        "Vector(0: r, 1: f, 2: i, 3: g, 4: n, 5: n, 6: y, 7: a, 8: r, 9: s)\n",
        "Vector(0: r, 1: f, 2: w, 3: g, 4: n, 5: q, 6: y, 7: a, 8: r, 9: s)\n",
        "--\n",
        "Vector(0: r, 1: f, 2: w, 3: g, 4: n, 5: v, 6: y, 7: a, 8: r, 9: s)\n",
        "Vector(0: r, 1: f, 2: w, 3: g, 4: n, 5: r, 6: y, 7: a, 8: r, 9: s)\n",
        "--\n",
        "Vector(0: r, 1: f, 2: w, 3: g, 4: n, 5: r, 6: y, 7: a, 8: r, 9: d)\n"
       ]
      },
      {
       "output_type": "stream",
       "stream": "stdout",
       "text": [
        "Vector(0: r, 1: f, 2: w, 3: g, 4: n, 5: -, 6: y, 7: a, 8: r, 9: s)\n",
        "--\n",
        "Vector(0: r, 1: f, 2: w, 3: g, 4: n, 5: n, 6: y, 7: a, 8: r, 9: s)\n",
        "Vector(0: r, 1: f, 2: w, 3: g, 4: n, 5: r, 6: y, 7: a, 8: r, 9: s)\n",
        "--\n",
        "Vector(0: r, 1: f, 2: i, 3: g, 4: n, 5: w, 6: y, 7: a, 8: g, 9: s)\n",
        "Vector(0: r, 1: f, 2: w, 3: g, 4: n, 5: r, 6: y, 7: a, 8: r, 9: s)\n",
        "--\n",
        "Vector(0: r, 1: f, 2: i, 3: g, 4: n, 5: l, 6: y, 7: a, 8: p, 9: s)\n"
       ]
      },
      {
       "output_type": "stream",
       "stream": "stdout",
       "text": [
        "Vector(0: r, 1: f, 2: w, 3: g, 4: n, 5: r, 6: y, 7: a, 8: i, 9: s)\n",
        "--\n",
        "Vector(0: r, 1: f, 2: a, 3: g, 4: n, 5: i, 6: y, 7: a, 8: t, 9: s)\n",
        "Vector(0: r, 1: f, 2: d, 3: g, 4: n, 5: v, 6: y, 7: a, 8: r, 9: s)\n",
        "--\n",
        "Vector(0: r, 1: f, 2: f, 3: g, 4: n, 5: i, 6: y, 7: a, 8: r, 9: s)\n",
        "Vector(0: r, 1: f, 2: w, 3: g, 4: n, 5: r, 6: y, 7: a, 8: q, 9: s)\n",
        "--\n",
        "Vector(0: r, 1: f, 2: f, 3: g, 4: n, 5: i, 6: c, 7: a, 8: q, 9: s)\n"
       ]
      },
      {
       "output_type": "stream",
       "stream": "stdout",
       "text": [
        "Vector(0: r, 1: f, 2: y, 3: g, 4: n, 5: r, 6: y, 7: a, 8: r, 9: s)\n",
        "--\n",
        "Vector(0: r, 1: f, 2: s, 3: g, 4: n, 5: l, 6: y, 7: c, 8: w, 9: s)\n",
        "Vector(0: r, 1: f, 2: w, 3: g, 4: n, 5: r, 6: y, 7: a, 8: s, 9: s)\n",
        "--\n",
        "Vector(0: r, 1: f, 2: i, 3: g, 4: n, 5: g, 6: y, 7: a, 8: g, 9: s)\n",
        "Vector(0: r, 1: f, 2: w, 3: g, 4: n, 5: r, 6: y, 7: a, 8: l, 9: s)\n",
        "--\n",
        "Vector(0: r, 1: f, 2: i, 3: g, 4: n, 5: l, 6: t, 7: a, 8: r, 9: s)\n"
       ]
      },
      {
       "output_type": "stream",
       "stream": "stdout",
       "text": [
        "Vector(0: r, 1: f, 2: w, 3: g, 4: n, 5: r, 6: y, 7: a, 8: r, 9: s)\n",
        "--\n",
        "Vector(0: r, 1: f, 2: t, 3: g, 4: n, 5: e, 6: t, 7: a, 8: s, 9: s)\n",
        "Vector(0: r, 1: f, 2: w, 3: g, 4: n, 5: r, 6: y, 7: a, 8: t, 9: s)\n",
        "--\n",
        "Vector(0: r, 1: f, 2: t, 3: g, 4: n, 5: -, 6: t, 7: a, 8: i, 9: s)\n",
        "Vector(0: r, 1: f, 2: w, 3: g, 4: n, 5: r, 6: y, 7: a, 8: r, 9: s)\n",
        "--\n",
        "Vector(0: r, 1: f, 2: c, 3: g, 4: n, 5: w, 6: t, 7: a, 8: p, 9: s)\n"
       ]
      },
      {
       "output_type": "stream",
       "stream": "stdout",
       "text": [
        "Vector(0: r, 1: f, 2: w, 3: g, 4: n, 5: r, 6: y, 7: a, 8: r, 9: s)\n",
        "--\n",
        "Vector(0: r, 1: f, 2: n, 3: g, 4: n, 5: r, 6: t, 7: a, 8: i, 9: s)\n",
        "Vector(0: r, 1: f, 2: w, 3: g, 4: n, 5: r, 6: y, 7: a, 8: v, 9: s)\n",
        "--\n",
        "Vector(0: r, 1: f, 2: n, 3: g, 4: n, 5: r, 6: t, 7: a, 8: h, 9: s)\n",
        "Vector(0: r, 1: f, 2: w, 3: g, 4: n, 5: r, 6: y, 7: a, 8: r, 9: s)\n",
        "--\n",
        "Vector(0: r, 1: f, 2: v, 3: g, 4: n, 5: e, 6: t, 7: a, 8: w, 9: s)\n"
       ]
      },
      {
       "output_type": "stream",
       "stream": "stdout",
       "text": [
        "Vector(0: r, 1: f, 2: w, 3: g, 4: n, 5: r, 6: y, 7: a, 8: r, 9: s)\n",
        "--\n",
        "Vector(0: r, 1: f, 2: l, 3: g, 4: n, 5: c, 6: a, 7: a, 8: s, 9: s)\n",
        "Vector(0: r, 1: f, 2: -, 3: g, 4: n, 5: r, 6: y, 7: a, 8: r, 9: s)\n",
        "--\n",
        "Vector(0: r, 1: f, 2: e, 3: g, 4: n, 5: r, 6: t, 7: a, 8: g, 9: s)\n",
        "Vector(0: r, 1: f, 2: w, 3: g, 4: n, 5: r, 6: y, 7: a, 8: s, 9: s)\n",
        "--\n",
        "Vector(0: r, 1: f, 2: n, 3: g, 4: n, 5: r, 6: t, 7: h, 8: q, 9: s)\n",
        "Vector(0: r, 1: f, 2: -, 3: g, 4: n, 5: r, 6: y, 7: a, 8: r, 9: s)\n",
        "--\n",
        "Vector(0: r, 1: f, 2: n, 3: g, 4: n, 5: r, 6: t, 7: a, 8: r, 9: s)\n"
       ]
      },
      {
       "output_type": "stream",
       "stream": "stdout",
       "text": [
        "Vector(0: r, 1: f, 2: w, 3: g, 4: n, 5: r, 6: y, 7: a, 8: p, 9: s)\n",
        "--\n",
        "Vector(0: r, 1: f, 2: n, 3: g, 4: n, 5: r, 6: -, 7: a, 8: s, 9: s)\n",
        "Vector(0: r, 1: f, 2: w, 3: g, 4: n, 5: r, 6: y, 7: a, 8: r, 9: s)\n",
        "--\n",
        "Vector(0: r, 1: f, 2: n, 3: g, 4: n, 5: f, 6: t, 7: a, 8: r, 9: s)\n",
        "Vector(0: r, 1: f, 2: w, 3: g, 4: n, 5: i, 6: y, 7: a, 8: r, 9: s)\n",
        "--\n",
        "Vector(0: r, 1: f, 2: c, 3: g, 4: n, 5: f, 6: t, 7: a, 8: q, 9: s)\n"
       ]
      },
      {
       "output_type": "stream",
       "stream": "stdout",
       "text": [
        "Vector(0: r, 1: f, 2: w, 3: g, 4: n, 5: r, 6: y, 7: a, 8: r, 9: s)\n",
        "--\n",
        "Vector(0: r, 1: f, 2: c, 3: g, 4: p, 5: s, 6: a, 7: a, 8: l, 9: s)\n",
        "Vector(0: r, 1: f, 2: w, 3: g, 4: n, 5: r, 6: y, 7: a, 8: r, 9: s)\n",
        "--\n",
        "Vector(0: r, 1: f, 2: k, 3: g, 4: n, 5: -, 6: a, 7: a, 8: p, 9: s)\n",
        "Vector(0: r, 1: f, 2: w, 3: g, 4: n, 5: e, 6: y, 7: a, 8: r, 9: s)\n",
        "--\n",
        "Vector(0: r, 1: f, 2: k, 3: g, 4: n, 5: w, 6: -, 7: a, 8: r, 9: s)\n"
       ]
      },
      {
       "output_type": "stream",
       "stream": "stdout",
       "text": [
        "Vector(0: r, 1: f, 2: w, 3: g, 4: n, 5: r, 6: y, 7: a, 8: r, 9: s)\n",
        "--\n",
        "Vector(0: r, 1: f, 2: s, 3: g, 4: n, 5: y, 6: -, 7: a, 8: r, 9: s)\n",
        "Vector(0: r, 1: f, 2: w, 3: g, 4: n, 5: r, 6: y, 7: a, 8: r, 9: s)\n",
        "--\n",
        "Vector(0: r, 1: f, 2: s, 3: g, 4: n, 5: h, 6: -, 7: a, 8: k, 9: s)\n",
        "Vector(0: r, 1: f, 2: w, 3: g, 4: n, 5: t, 6: y, 7: a, 8: i, 9: s)\n",
        "--\n",
        "Vector(0: r, 1: f, 2: s, 3: g, 4: n, 5: w, 6: t, 7: a, 8: l, 9: s)\n"
       ]
      },
      {
       "output_type": "stream",
       "stream": "stdout",
       "text": [
        "Vector(0: r, 1: -, 2: k, 3: g, 4: n, 5: r, 6: y, 7: a, 8: s, 9: s)\n",
        "--\n",
        "Vector(0: r, 1: f, 2: n, 3: g, 4: n, 5: e, 6: t, 7: a, 8: s, 9: s)\n",
        "Vector(0: r, 1: f, 2: w, 3: g, 4: n, 5: r, 6: y, 7: a, 8: r, 9: s)\n",
        "--\n",
        "Vector(0: r, 1: f, 2: a, 3: g, 4: n, 5: l, 6: y, 7: a, 8: k, 9: s)\n",
        "Vector(0: r, 1: f, 2: w, 3: g, 4: n, 5: r, 6: y, 7: a, 8: r, 9: s)\n",
        "--\n",
        "Vector(0: r, 1: f, 2: i, 3: g, 4: n, 5: -, 6: y, 7: a, 8: w, 9: s)\n",
        "Vector(0: r, 1: f, 2: w, 3: g, 4: n, 5: q, 6: y, 7: a, 8: r, 9: s)\n",
        "--\n",
        "Vector(0: r, 1: f, 2: i, 3: g, 4: n, 5: l, 6: y, 7: a, 8: w, 9: s)\n"
       ]
      },
      {
       "output_type": "stream",
       "stream": "stdout",
       "text": [
        "Vector(0: r, 1: f, 2: w, 3: g, 4: n, 5: r, 6: y, 7: a, 8: t, 9: s)\n",
        "--\n",
        "Vector(0: r, 1: f, 2: s, 3: g, 4: n, 5: l, 6: y, 7: a, 8: q, 9: s)\n",
        "Vector(0: r, 1: f, 2: w, 3: g, 4: n, 5: p, 6: y, 7: a, 8: r, 9: s)\n",
        "--\n",
        "Vector(0: r, 1: f, 2: s, 3: g, 4: n, 5: l, 6: -, 7: a, 8: w, 9: s)\n",
        "Vector(0: r, 1: f, 2: w, 3: g, 4: n, 5: r, 6: y, 7: a, 8: r, 9: s)\n",
        "--\n",
        "Vector(0: r, 1: f, 2: s, 3: g, 4: n, 5: m, 6: t, 7: a, 8: r, 9: s)\n"
       ]
      },
      {
       "output_type": "stream",
       "stream": "stdout",
       "text": [
        "Vector(0: r, 1: f, 2: w, 3: g, 4: n, 5: r, 6: y, 7: a, 8: r, 9: s)\n",
        "--\n",
        "Vector(0: r, 1: f, 2: f, 3: g, 4: n, 5: i, 6: y, 7: a, 8: w, 9: s)\n",
        "Vector(0: r, 1: f, 2: w, 3: g, 4: n, 5: r, 6: y, 7: a, 8: r, 9: s)\n",
        "--\n",
        "Vector(0: r, 1: f, 2: w, 3: g, 4: n, 5: l, 6: y, 7: a, 8: -, 9: s)\n",
        "Vector(0: r, 1: f, 2: w, 3: g, 4: n, 5: r, 6: y, 7: a, 8: i, 9: s)\n",
        "--\n",
        "Vector(0: r, 1: f, 2: a, 3: g, 4: n, 5: r, 6: y, 7: a, 8: s, 9: s)\n"
       ]
      },
      {
       "output_type": "stream",
       "stream": "stdout",
       "text": [
        "Vector(0: r, 1: f, 2: w, 3: g, 4: n, 5: r, 6: y, 7: a, 8: r, 9: s)\n",
        "--\n",
        "Vector(0: r, 1: f, 2: i, 3: g, 4: n, 5: w, 6: y, 7: a, 8: y, 9: s)\n",
        "Vector(0: r, 1: f, 2: w, 3: g, 4: n, 5: r, 6: y, 7: a, 8: r, 9: s)\n",
        "--\n",
        "Vector(0: r, 1: f, 2: i, 3: g, 4: n, 5: l, 6: y, 7: a, 8: l, 9: s)\n",
        "Vector(0: r, 1: f, 2: n, 3: g, 4: n, 5: r, 6: y, 7: a, 8: r, 9: s)\n",
        "--\n",
        "Vector(0: r, 1: f, 2: i, 3: g, 4: n, 5: l, 6: y, 7: a, 8: m, 9: s)\n"
       ]
      },
      {
       "output_type": "stream",
       "stream": "stdout",
       "text": [
        "Vector(0: r, 1: f, 2: w, 3: g, 4: n, 5: r, 6: y, 7: a, 8: h, 9: s)\n",
        "--\n",
        "Vector(0: r, 1: f, 2: s, 3: g, 4: n, 5: l, 6: y, 7: a, 8: n, 9: s)\n",
        "Vector(0: r, 1: f, 2: w, 3: g, 4: n, 5: r, 6: y, 7: a, 8: r, 9: s)\n",
        "--\n",
        "Vector(0: r, 1: f, 2: i, 3: g, 4: n, 5: e, 6: y, 7: a, 8: w, 9: s)\n",
        "Vector(0: r, 1: f, 2: s, 3: g, 4: n, 5: k, 6: y, 7: a, 8: f, 9: s)\n",
        "--\n",
        "Vector(0: r, 1: f, 2: w, 3: g, 4: n, 5: i, 6: y, 7: a, 8: r, 9: d)\n",
        "Vector(0: r, 1: f, 2: w, 3: g, 4: n, 5: r, 6: y, 7: a, 8: -, 9: s)\n",
        "--\n",
        "Vector(0: r, 1: f, 2: w, 3: g, 4: n, 5: i, 6: y, 7: a, 8: s, 9: s)\n"
       ]
      },
      {
       "output_type": "stream",
       "stream": "stdout",
       "text": [
        "Vector(0: r, 1: f, 2: w, 3: g, 4: n, 5: k, 6: y, 7: a, 8: l, 9: s)\n",
        "--\n",
        "Vector(0: r, 1: g, 2: f, 3: g, 4: n, 5: i, 6: y, 7: a, 8: w, 9: s)\n",
        "Vector(0: r, 1: f, 2: c, 3: g, 4: n, 5: r, 6: y, 7: a, 8: r, 9: s)\n",
        "--\n",
        "Vector(0: r, 1: f, 2: w, 3: g, 4: n, 5: y, 6: y, 7: a, 8: w, 9: s)\n"
       ]
      },
      {
       "output_type": "stream",
       "stream": "stdout",
       "text": [
        "Vector(0: r, 1: f, 2: w, 3: g, 4: n, 5: r, 6: y, 7: a, 8: r, 9: s)\n",
        "--\n",
        "Vector(0: r, 1: f, 2: w, 3: g, 4: n, 5: e, 6: y, 7: a, 8: l, 9: s)\n",
        "Vector(0: r, 1: f, 2: w, 3: g, 4: n, 5: r, 6: y, 7: a, 8: r, 9: s)\n",
        "--\n",
        "Vector(0: r, 1: f, 2: w, 3: g, 4: n, 5: r, 6: y, 7: a, 8: w, 9: d)\n",
        "Vector(0: r, 1: f, 2: w, 3: g, 4: n, 5: r, 6: y, 7: a, 8: n, 9: s)\n",
        "--\n",
        "Vector(0: r, 1: f, 2: w, 3: g, 4: n, 5: f, 6: y, 7: a, 8: s, 9: s)\n",
        "Vector(0: r, 1: f, 2: w, 3: g, 4: n, 5: r, 6: y, 7: a, 8: r, 9: s)\n",
        "--\n",
        "Vector(0: r, 1: f, 2: w, 3: g, 4: n, 5: r, 6: y, 7: a, 8: q, 9: s)\n"
       ]
      },
      {
       "output_type": "stream",
       "stream": "stdout",
       "text": [
        "Vector(0: r, 1: f, 2: w, 3: g, 4: n, 5: k, 6: y, 7: a, 8: e, 9: s)\n",
        "--\n",
        "Vector(0: r, 1: f, 2: w, 3: g, 4: n, 5: r, 6: y, 7: a, 8: r, 9: s)\n",
        "Vector(0: r, 1: f, 2: w, 3: g, 4: n, 5: r, 6: y, 7: a, 8: r, 9: s)\n",
        "--\n",
        "Vector(0: r, 1: f, 2: w, 3: g, 4: n, 5: e, 6: y, 7: a, 8: i, 9: d)\n",
        "Vector(0: r, 1: f, 2: g, 3: g, 4: n, 5: r, 6: y, 7: a, 8: r, 9: s)\n",
        "--\n",
        "Vector(0: r, 1: f, 2: w, 3: g, 4: n, 5: l, 6: y, 7: a, 8: n, 9: s)\n"
       ]
      },
      {
       "output_type": "stream",
       "stream": "stdout",
       "text": [
        "Vector(0: r, 1: f, 2: w, 3: g, 4: n, 5: r, 6: y, 7: a, 8: r, 9: s)\n",
        "--\n",
        "Vector(0: r, 1: f, 2: a, 3: g, 4: n, 5: l, 6: t, 7: a, 8: w, 9: s)\n",
        "Vector(0: r, 1: f, 2: -, 3: g, 4: n, 5: r, 6: y, 7: a, 8: l, 9: s)\n",
        "--\n",
        "Vector(0: r, 1: f, 2: i, 3: g, 4: n, 5: l, 6: y, 7: a, 8: r, 9: r)\n",
        "Vector(0: r, 1: f, 2: w, 3: g, 4: n, 5: r, 6: y, 7: a, 8: r, 9: s)\n",
        "--\n",
        "Vector(0: r, 1: f, 2: s, 3: g, 4: n, 5: y, 6: a, 7: a, 8: t, 9: s)\n"
       ]
      },
      {
       "output_type": "stream",
       "stream": "stdout",
       "text": [
        "Vector(0: r, 1: f, 2: w, 3: g, 4: n, 5: r, 6: y, 7: a, 8: r, 9: s)\n",
        "--\n",
        "Vector(0: r, 1: f, 2: d, 3: g, 4: n, 5: w, 6: y, 7: a, 8: s, 9: s)\n",
        "Vector(0: r, 1: f, 2: w, 3: g, 4: n, 5: r, 6: y, 7: a, 8: r, 9: s)\n",
        "--\n",
        "Vector(0: r, 1: f, 2: i, 3: g, 4: n, 5: w, 6: t, 7: a, 8: r, 9: s)\n",
        "Vector(0: r, 1: f, 2: w, 3: g, 4: n, 5: e, 6: y, 7: a, 8: r, 9: s)\n",
        "--\n",
        "Vector(0: i, 1: f, 2: c, 3: g, 4: f, 5: n, 6: t, 7: a, 8: r, 9: s)\n",
        "Vector(0: r, 1: f, 2: w, 3: g, 4: n, 5: c, 6: y, 7: a, 8: r, 9: s)\n",
        "--\n",
        "Vector(0: r, 1: f, 2: f, 3: g, 4: n, 5: p, 6: y, 7: a, 8: l, 9: s)\n"
       ]
      },
      {
       "output_type": "stream",
       "stream": "stdout",
       "text": [
        "Vector(0: r, 1: f, 2: w, 3: g, 4: n, 5: r, 6: y, 7: a, 8: c, 9: s)\n",
        "--\n",
        "Vector(0: r, 1: f, 2: w, 3: g, 4: n, 5: e, 6: y, 7: c, 8: w, 9: s)\n",
        "Vector(0: r, 1: f, 2: w, 3: g, 4: n, 5: r, 6: y, 7: a, 8: r, 9: s)\n",
        "--\n",
        "Vector(0: r, 1: f, 2: w, 3: g, 4: n, 5: r, 6: y, 7: a, 8: q, 9: s)\n",
        "Vector(0: r, 1: f, 2: w, 3: g, 4: n, 5: r, 6: y, 7: a, 8: r, 9: s)\n",
        "--\n",
        "Vector(0: r, 1: f, 2: w, 3: g, 4: n, 5: r, 6: y, 7: a, 8: w, 9: s)\n"
       ]
      },
      {
       "output_type": "stream",
       "stream": "stdout",
       "text": [
        "Vector(0: r, 1: f, 2: w, 3: g, 4: n, 5: r, 6: y, 7: a, 8: r, 9: s)\n",
        "--\n",
        "Vector(0: r, 1: f, 2: w, 3: g, 4: n, 5: f, 6: y, 7: a, 8: q, 9: s)\n",
        "Vector(0: r, 1: f, 2: w, 3: g, 4: n, 5: r, 6: y, 7: a, 8: r, 9: s)\n",
        "--\n",
        "Vector(0: r, 1: f, 2: w, 3: g, 4: n, 5: n, 6: y, 7: c, 8: i, 9: s)\n",
        "Vector(0: r, 1: f, 2: p, 3: g, 4: n, 5: r, 6: y, 7: a, 8: r, 9: s)\n",
        "--\n",
        "Vector(0: r, 1: f, 2: i, 3: g, 4: n, 5: e, 6: y, 7: a, 8: k, 9: d)\n"
       ]
      },
      {
       "output_type": "stream",
       "stream": "stdout",
       "text": [
        "Vector(0: r, 1: f, 2: w, 3: g, 4: n, 5: m, 6: y, 7: a, 8: r, 9: s)\n",
        "--\n",
        "Vector(0: r, 1: f, 2: w, 3: g, 4: n, 5: e, 6: y, 7: a, 8: s, 9: s)\n",
        "Vector(0: r, 1: f, 2: w, 3: g, 4: n, 5: r, 6: y, 7: a, 8: r, 9: s)\n",
        "--\n",
        "Vector(0: r, 1: f, 2: w, 3: g, 4: n, 5: n, 6: y, 7: a, 8: r, 9: d)\n",
        "Vector(0: r, 1: f, 2: w, 3: g, 4: n, 5: r, 6: y, 7: a, 8: r, 9: s)\n",
        "--\n",
        "Vector(0: r, 1: f, 2: i, 3: g, 4: n, 5: n, 6: y, 7: c, 8: w, 9: s)\n"
       ]
      },
      {
       "output_type": "stream",
       "stream": "stdout",
       "text": [
        "Vector(0: r, 1: f, 2: w, 3: g, 4: n, 5: r, 6: y, 7: a, 8: r, 9: s)\n",
        "--\n",
        "Vector(0: r, 1: f, 2: w, 3: g, 4: n, 5: r, 6: y, 7: a, 8: s, 9: d)\n",
        "Vector(0: r, 1: f, 2: h, 3: g, 4: n, 5: a, 6: y, 7: a, 8: r, 9: s)\n",
        "--\n",
        "Vector(0: r, 1: f, 2: w, 3: g, 4: n, 5: v, 6: y, 7: a, 8: l, 9: s)\n",
        "Vector(0: r, 1: f, 2: w, 3: g, 4: n, 5: -, 6: y, 7: a, 8: r, 9: s)\n",
        "--\n",
        "Vector(0: r, 1: f, 2: w, 3: g, 4: n, 5: e, 6: y, 7: a, 8: d, 9: s)\n"
       ]
      },
      {
       "output_type": "stream",
       "stream": "stdout",
       "text": [
        "Vector(0: r, 1: f, 2: p, 3: g, 4: n, 5: y, 6: y, 7: a, 8: r, 9: s)\n",
        "--\n",
        "Vector(0: r, 1: f, 2: w, 3: g, 4: n, 5: k, 6: y, 7: c, 8: a, 9: s)\n",
        "Vector(0: r, 1: f, 2: k, 3: g, 4: n, 5: r, 6: y, 7: a, 8: r, 9: s)\n",
        "--\n",
        "Vector(0: r, 1: f, 2: w, 3: g, 4: n, 5: y, 6: y, 7: a, 8: y, 9: s)\n",
        "Vector(0: r, 1: f, 2: w, 3: g, 4: n, 5: r, 6: y, 7: a, 8: r, 9: s)\n",
        "--\n",
        "Vector(0: r, 1: f, 2: s, 3: g, 4: n, 5: y, 6: t, 7: a, 8: g, 9: s)\n",
        "Vector(0: r, 1: f, 2: w, 3: g, 4: n, 5: r, 6: y, 7: a, 8: n, 9: s)\n",
        "--\n",
        "Vector(0: r, 1: f, 2: d, 3: g, 4: n, 5: n, 6: p, 7: a, 8: q, 9: s)\n"
       ]
      },
      {
       "output_type": "stream",
       "stream": "stdout",
       "text": [
        "Vector(0: r, 1: f, 2: w, 3: g, 4: n, 5: r, 6: y, 7: a, 8: r, 9: s)\n",
        "--\n",
        "Vector(0: r, 1: f, 2: q, 3: g, 4: n, 5: n, 6: y, 7: a, 8: s, 9: s)\n",
        "Vector(0: r, 1: f, 2: w, 3: g, 4: n, 5: r, 6: y, 7: a, 8: r, 9: s)\n",
        "--\n",
        "Vector(0: r, 1: f, 2: i, 3: g, 4: n, 5: l, 6: y, 7: a, 8: t, 9: s)\n",
        "Vector(0: r, 1: f, 2: w, 3: g, 4: n, 5: q, 6: -, 7: a, 8: l, 9: s)\n",
        "--\n",
        "Vector(0: r, 1: f, 2: i, 3: g, 4: n, 5: n, 6: y, 7: a, 8: w, 9: s)\n"
       ]
      },
      {
       "output_type": "stream",
       "stream": "stdout",
       "text": [
        "Vector(0: r, 1: f, 2: w, 3: g, 4: n, 5: r, 6: y, 7: a, 8: h, 9: s)\n",
        "--\n",
        "Vector(0: i, 1: f, 2: f, 3: g, 4: n, 5: e, 6: t, 7: a, 8: q, 9: s)\n",
        "Vector(0: r, 1: f, 2: w, 3: g, 4: n, 5: r, 6: y, 7: a, 8: r, 9: s)\n",
        "--\n",
        "Vector(0: r, 1: f, 2: n, 3: g, 4: n, 5: p, 6: t, 7: a, 8: i, 9: s)\n",
        "Vector(0: r, 1: f, 2: w, 3: g, 4: n, 5: f, 6: y, 7: a, 8: l, 9: s)\n",
        "--\n",
        "Vector(0: r, 1: f, 2: n, 3: g, 4: n, 5: r, 6: t, 7: a, 8: c, 9: s)\n"
       ]
      },
      {
       "output_type": "stream",
       "stream": "stdout",
       "text": [
        "Vector(0: r, 1: f, 2: w, 3: g, 4: n, 5: r, 6: y, 7: a, 8: k, 9: s)\n",
        "--\n",
        "Vector(0: r, 1: f, 2: n, 3: g, 4: n, 5: e, 6: t, 7: a, 8: c, 9: s)\n",
        "Vector(0: r, 1: f, 2: y, 3: g, 4: n, 5: d, 6: y, 7: a, 8: r, 9: s)\n",
        "--\n",
        "Vector(0: r, 1: f, 2: n, 3: g, 4: n, 5: r, 6: t, 7: a, 8: e, 9: s)\n",
        "Vector(0: r, 1: f, 2: w, 3: g, 4: n, 5: r, 6: y, 7: a, 8: r, 9: s)\n",
        "--\n",
        "Vector(0: r, 1: f, 2: h, 3: g, 4: n, 5: d, 6: a, 7: a, 8: l, 9: s)\n"
       ]
      },
      {
       "output_type": "stream",
       "stream": "stdout",
       "text": [
        "Vector(0: r, 1: f, 2: w, 3: g, 4: n, 5: a, 6: y, 7: a, 8: r, 9: s)\n",
        "--\n",
        "Vector(0: r, 1: f, 2: s, 3: g, 4: n, 5: l, 6: t, 7: h, 8: l, 9: s)\n",
        "Vector(0: r, 1: f, 2: s, 3: g, 4: n, 5: r, 6: y, 7: a, 8: e, 9: s)\n",
        "--\n",
        "Vector(0: r, 1: f, 2: s, 3: g, 4: n, 5: l, 6: i, 7: h, 8: e, 9: s)\n",
        "Vector(0: r, 1: f, 2: w, 3: g, 4: n, 5: r, 6: y, 7: a, 8: s, 9: s)\n",
        "--\n",
        "Vector(0: r, 1: h, 2: s, 3: g, 4: n, 5: y, 6: i, 7: h, 8: l, 9: s)\n"
       ]
      },
      {
       "output_type": "stream",
       "stream": "stdout",
       "text": [
        "Vector(0: r, 1: f, 2: w, 3: g, 4: n, 5: k, 6: y, 7: a, 8: r, 9: s)\n",
        "--\n",
        "Vector(0: r, 1: h, 2: s, 3: g, 4: n, 5: y, 6: i, 7: h, 8: c, 9: s)\n",
        "Vector(0: r, 1: f, 2: w, 3: g, 4: n, 5: w, 6: y, 7: a, 8: r, 9: s)\n",
        "--\n",
        "Vector(0: r, 1: f, 2: s, 3: g, 4: n, 5: c, 6: y, 7: a, 8: s, 9: s)\n",
        "Vector(0: r, 1: f, 2: w, 3: g, 4: n, 5: y, 6: y, 7: a, 8: r, 9: s)\n",
        "--\n"
       ]
      },
      {
       "output_type": "stream",
       "stream": "stderr",
       "text": []
      },
      {
       "metadata": {},
       "output_type": "pyout",
       "prompt_number": 95,
       "text": [
        "(PottsModel@2fdd1294,PottsModel@5aeecb18,PottsModel@7357c34b,32977,0.3,ArrayBuffer(Vector(0: d, 1: a, 2: w, 3: v, 4: g, 5: w, 6: q, 7: -, 8: s, 9: q), Vector(0: w, 1: p, 2: r, 3: p, 4: f, 5: h, 6: e, 7: t, 8: g, 9: s), Vector(0: y, 1: k, 2: q, 3: p, 4: r, 5: y, 6: -, 7: g, 8: a, 9: n), Vector(0: m, 1: i, 2: w, 3: i, 4: l, 5: y, 6: i, 7: v, 8: p, 9: i), Vector(0: w, 1: -, 2: n, 3: g, 4: w, 5: p, 6: s, 7: r, 8: r, 9: s), Vector(0: p, 1: c, 2: w, 3: a, 4: h, 5: r, 6: g, 7: q, 8: k, 9: q), Vector(0: -, 1: e, 2: e, 3: s, 4: a, 5: v, 6: k, 7: f, 8: c, 9: t), Vector(0: a, 1: n, 2: h, 3: d, 4: r, 5: k, 6: s, 7: -, 8: v, 9: i), Vector(0: t, 1: y, 2: e, 3: c, 4: l, 5: i, 6: k, 7: n, 8: l, 9: i), Vector(0: r, 1: w, 2: i, 3: v, 4: n, 5: w, 6: c, 7: y, 8: r, 9: c), Vector(0: n, 1: s, 2: t, 3: k, 4: m, 5: -, 6: g, 7: f, 8: l, 9: t), Vector(0: v, 1: a, 2: i, 3: p, 4: r, 5: q, 6: d, 7: t, 8: t, 9: m), Vector(0: a, 1: f, 2: g, 3: f, 4: s, 5: h, 6: -, 7: s, 8: h, 9: t), Vector(0: k, 1: p, 2: e, 3: y, 4: -, 5: l, 6: y, 7: a, 8: r, 9: s), Vector(0: f, 1: q, 2: w, 3: p, 4: y, 5: v, 6: y, 7: k, 8: p, 9: s), Vector(0: -, 1: n, 2: s, 3: f, 4: n, 5: c, 6: y, 7: v, 8: n, 9: f), Vector(0: i, 1: f, 2: e, 3: n, 4: s, 5: l, 6: v, 7: w, 8: l, 9: f), Vector(0: q, 1: t, 2: q, 3: g, 4: l, 5: e, 6: d, 7: r, 8: l, 9: p), Vector(0: g, 1: q, 2: s, 3: p, 4: q, 5: f, 6: l, 7: l, 8: l, 9: m), Vector(0: t, 1: g, 2: r, 3: -, 4: n, 5: c, 6: l, 7: s, 8: m, 9: p), Vector(0: h, 1: w, 2: f, 3: g, 4: y, 5: r, 6: y, 7: m, 8: v, 9: n), Vector(0: c, 1: f, 2: d, 3: a, 4: r, 5: r, 6: i, 7: g, 8: q, 9: s), Vector(0: e, 1: l, 2: y, 3: g, 4: n, 5: c, 6: t, 7: k, 8: h, 9: f), Vector(0: r, 1: c, 2: v, 3: g, 4: n, 5: w, 6: -, 7: y, 8: r, 9: s), Vector(0: l, 1: s, 2: w, 3: s, 4: -, 5: k, 6: -, 7: e, 8: v, 9: m), Vector(0: c, 1: y, 2: p, 3: k, 4: y, 5: d, 6: p, 7: t, 8: v, 9: s), Vector(0: -, 1: d, 2: v, 3: p, 4: y, 5: k, 6: f, 7: n, 8: k, 9: -), Vector(0: v, 1: i, 2: y, 3: p, 4: h, 5: r, 6: y, 7: n, 8: i, 9: i), Vector(0: e, 1: e, 2: v, 3: q, 4: y, 5: c, 6: l, 7: y, 8: r, 9: g), Vector(0: r, 1: g, 2: q, 3: q, 4: n, 5: m, 6: d, 7: y, 8: r, 9: s), Vector(0: h, 1: w, 2: e, 3: i, 4: n, 5: h, 6: p, 7: l, 8: i, 9: i), Vector(0: n, 1: g, 2: v, 3: s, 4: i, 5: p, 6: w, 7: r, 8: m, 9: v), Vector(0: r, 1: s, 2: c, 3: n, 4: t, 5: m, 6: f, 7: q, 8: l, 9: e), Vector(0: m, 1: f, 2: l, 3: -, 4: s, 5: -, 6: e, 7: e, 8: y, 9: f), Vector(0: l, 1: g, 2: a, 3: p, 4: y, 5: y, 6: n, 7: r, 8: h, 9: c), Vector(0: t, 1: -, 2: l, 3: i, 4: t, 5: r, 6: y, 7: -, 8: m, 9: h), Vector(0: r, 1: w, 2: a, 3: g, 4: s, 5: s, 6: v, 7: a, 8: r, 9: s), Vector(0: i, 1: t, 2: a, 3: i, 4: r, 5: a, 6: k, 7: a, 8: a, 9: i), Vector(0: l, 1: s, 2: m, 3: m, 4: -, 5: a, 6: e, 7: q, 8: s, 9: -), Vector(0: k, 1: m, 2: w, 3: k, 4: k, 5: k, 6: v, 7: m, 8: c, 9: f), Vector(0: f, 1: e, 2: v, 3: k, 4: c, 5: s, 6: e, 7: a, 8: f, 9: d), Vector(0: p, 1: f, 2: w, 3: a, 4: a, 5: r, 6: n, 7: y, 8: f, 9: -), Vector(0: r, 1: f, 2: s, 3: g, 4: m, 5: w, 6: a, 7: -, 8: a, 9: s), Vector(0: i, 1: s, 2: -, 3: i, 4: i, 5: m, 6: e, 7: w, 8: -, 9: m), Vector(0: w, 1: m, 2: e, 3: t, 4: i, 5: f, 6: i, 7: t, 8: k, 9: q), Vector(0: k, 1: i, 2: t, 3: n, 4: -, 5: q, 6: d, 7: f, 8: d, 9: l), Vector(0: e, 1: n, 2: q, 3: i, 4: v, 5: m, 6: t, 7: r, 8: h, 9: s), Vector(0: r, 1: t, 2: p, 3: s, 4: -, 5: v, 6: d, 7: a, 8: c, 9: p), Vector(0: w, 1: d, 2: y, 3: p, 4: v, 5: s, 6: t, 7: w, 8: v, 9: s), Vector(0: c, 1: m, 2: i, 3: h, 4: k, 5: n, 6: t, 7: y, 8: r, 9: l), Vector(0: n, 1: p, 2: h, 3: v, 4: m, 5: h, 6: g, 7: n, 8: r, 9: m), Vector(0: q, 1: t, 2: m, 3: w, 4: p, 5: a, 6: y, 7: i, 8: v, 9: k), Vector(0: s, 1: t, 2: s, 3: p, 4: y, 5: -, 6: g, 7: v, 8: w, 9: v), Vector(0: r, 1: w, 2: w, 3: h, 4: n, 5: r, 6: w, 7: -, 8: t, 9: s), Vector(0: p, 1: s, 2: p, 3: g, 4: f, 5: d, 6: a, 7: -, 8: n, 9: g), Vector(0: q, 1: i, 2: g, 3: i, 4: d, 5: l, 6: c, 7: w, 8: c, 9: e), Vector(0: n, 1: d, 2: m, 3: v, 4: n, 5: p, 6: y, 7: r, 8: m, 9: s), Vector(0: -, 1: r, 2: v, 3: w, 4: n, 5: w, 6: d, 7: a, 8: v, 9: s), Vector(0: i, 1: w, 2: w, 3: g, 4: m, 5: r, 6: d, 7: g, 8: t, 9: q), Vector(0: r, 1: f, 2: a, 3: g, 4: w, 5: q, 6: l, 7: e, 8: s, 9: s), Vector(0: e, 1: c, 2: p, 3: g, 4: n, 5: v, 6: n, 7: r, 8: g, 9: n), Vector(0: n, 1: v, 2: d, 3: d, 4: n, 5: r, 6: y, 7: -, 8: s, 9: s), Vector(0: r, 1: -, 2: w, 3: y, 4: n, 5: -, 6: q, 7: h, 8: r, 9: i), Vector(0: g, 1: l, 2: v, 3: l, 4: h, 5: t, 6: y, 7: t, 8: h, 9: y), Vector(0: r, 1: k, 2: q, 3: w, 4: d, 5: w, 6: g, 7: h, 8: r, 9: f), Vector(0: r, 1: f, 2: -, 3: g, 4: n, 5: r, 6: y, 7: v, 8: p, 9: s), Vector(0: r, 1: f, 2: w, 3: g, 4: d, 5: r, 6: g, 7: a, 8: r, 9: s), Vector(0: r, 1: g, 2: w, 3: g, 4: s, 5: r, 6: a, 7: a, 8: i, 9: m), Vector(0: r, 1: c, 2: g, 3: h, 4: n, 5: -, 6: y, 7: a, 8: f, 9: e), Vector(0: f, 1: g, 2: r, 3: f, 4: c, 5: g, 6: t, 7: y, 8: e, 9: c), Vector(0: y, 1: n, 2: w, 3: y, 4: e, 5: q, 6: q, 7: v, 8: p, 9: m), Vector(0: r, 1: n, 2: r, 3: g, 4: n, 5: n, 6: y, 7: a, 8: k, 9: s), Vector(0: v, 1: t, 2: f, 3: w, 4: f, 5: i, 6: g, 7: p, 8: q, 9: n), Vector(0: v, 1: n, 2: e, 3: a, 4: n, 5: y, 6: y, 7: n, 8: h, 9: k), Vector(0: r, 1: m, 2: s, 3: q, 4: y, 5: m, 6: v, 7: a, 8: r, 9: s), Vector(0: k, 1: r, 2: v, 3: w, 4: n, 5: g, 6: t, 7: a, 8: t, 9: f), Vector(0: r, 1: s, 2: c, 3: g, 4: n, 5: a, 6: y, 7: e, 8: r, 9: r), Vector(0: r, 1: d, 2: e, 3: r, 4: d, 5: g, 6: y, 7: v, 8: y, 9: s), Vector(0: h, 1: f, 2: g, 3: m, 4: a, 5: l, 6: h, 7: a, 8: d, 9: w), Vector(0: r, 1: f, 2: w, 3: g, 4: n, 5: c, 6: y, 7: t, 8: g, 9: s), Vector(0: r, 1: f, 2: w, 3: t, 4: n, 5: t, 6: f, 7: c, 8: f, 9: s), Vector(0: i, 1: m, 2: l, 3: d, 4: r, 5: r, 6: y, 7: v, 8: w, 9: v), Vector(0: l, 1: v, 2: a, 3: g, 4: q, 5: r, 6: t, 7: f, 8: r, 9: a), Vector(0: k, 1: s, 2: w, 3: c, 4: n, 5: s, 6: y, 7: a, 8: a, 9: -), Vector(0: e, 1: r, 2: d, 3: g, 4: e, 5: r, 6: y, 7: q, 8: v, 9: s), Vector(0: k, 1: q, 2: w, 3: y, 4: m, 5: w, 6: y, 7: a, 8: q, 9: a), Vector(0: k, 1: p, 2: w, 3: g, 4: q, 5: p, 6: c, 7: a, 8: v, 9: c), Vector(0: r, 1: p, 2: i, 3: q, 4: n, 5: c, 6: -, 7: v, 8: r, 9: e), Vector(0: s, 1: l, 2: n, 3: i, 4: w, 5: w, 6: k, 7: r, 8: r, 9: d), Vector(0: r, 1: f, 2: w, 3: g, 4: n, 5: r, 6: s, 7: a, 8: r, 9: s), Vector(0: r, 1: e, 2: w, 3: g, 4: n, 5: w, 6: y, 7: a, 8: r, 9: s), Vector(0: r, 1: f, 2: w, 3: g, 4: n, 5: e, 6: y, 7: a, 8: r, 9: s), Vector(0: r, 1: f, 2: c, 3: g, 4: q, 5: r, 6: y, 7: a, 8: a, 9: s), Vector(0: e, 1: w, 2: g, 3: v, 4: d, 5: f, 6: y, 7: v, 8: d, 9: s), Vector(0: r, 1: t, 2: e, 3: g, 4: -, 5: l, 6: y, 7: q, 8: r, 9: s), Vector(0: r, 1: f, 2: w, 3: g, 4: n, 5: r, 6: y, 7: a, 8: r, 9: s), Vector(0: r, 1: f, 2: w, 3: g, 4: n, 5: w, 6: -, 7: a, 8: e, 9: s), Vector(0: r, 1: f, 2: w, 3: g, 4: n, 5: r, 6: y, 7: a, 8: p, 9: s), Vector(0: r, 1: f, 2: w, 3: g, 4: n, 5: a, 6: y, 7: a, 8: i, 9: s), Vector(0: r, 1: f, 2: w, 3: g, 4: n, 5: -, 6: y, 7: a, 8: h, 9: s), Vector(0: r, 1: f, 2: i, 3: g, 4: n, 5: r, 6: y, 7: e, 8: r, 9: s), Vector(0: r, 1: f, 2: w, 3: g, 4: n, 5: r, 6: y, 7: a, 8: r, 9: s), Vector(0: r, 1: f, 2: l, 3: g, 4: n, 5: c, 6: y, 7: a, 8: -, 9: s), Vector(0: r, 1: f, 2: t, 3: g, 4: n, 5: p, 6: y, 7: v, 8: t, 9: s), Vector(0: r, 1: f, 2: w, 3: h, 4: n, 5: r, 6: y, 7: a, 8: i, 9: s), Vector(0: r, 1: f, 2: i, 3: g, 4: m, 5: s, 6: y, 7: a, 8: f, 9: s), Vector(0: r, 1: f, 2: w, 3: g, 4: n, 5: r, 6: y, 7: a, 8: k, 9: s), Vector(0: r, 1: f, 2: w, 3: g, 4: n, 5: h, 6: i, 7: a, 8: r, 9: s), Vector(0: q, 1: f, 2: y, 3: g, 4: n, 5: r, 6: y, 7: a, 8: w, 9: s), Vector(0: r, 1: f, 2: w, 3: g, 4: n, 5: -, 6: y, 7: a, 8: r, 9: s), Vector(0: r, 1: f, 2: w, 3: g, 4: n, 5: y, 6: y, 7: a, 8: w, 9: s), Vector(0: r, 1: f, 2: v, 3: g, 4: n, 5: r, 6: y, 7: t, 8: c, 9: s), Vector(0: r, 1: f, 2: w, 3: a, 4: n, 5: r, 6: y, 7: a, 8: f, 9: s), Vector(0: r, 1: f, 2: -, 3: g, 4: n, 5: n, 6: y, 7: a, 8: g, 9: s), Vector(0: r, 1: f, 2: r, 3: g, 4: p, 5: -, 6: y, 7: a, 8: g, 9: s), Vector(0: m, 1: f, 2: t, 3: g, 4: n, 5: r, 6: y, 7: a, 8: e, 9: s), Vector(0: r, 1: f, 2: s, 3: g, 4: n, 5: s, 6: y, 7: a, 8: r, 9: s), Vector(0: r, 1: f, 2: w, 3: g, 4: n, 5: r, 6: y, 7: a, 8: f, 9: s), Vector(0: g, 1: p, 2: l, 3: e, 4: a, 5: t, 6: f, 7: n, 8: a, 9: m), Vector(0: i, 1: f, 2: d, 3: g, 4: n, 5: h, 6: y, 7: a, 8: r, 9: s), Vector(0: r, 1: i, 2: e, 3: g, 4: v, 5: s, 6: c, 7: i, 8: r, 9: d), Vector(0: w, 1: a, 2: s, 3: g, 4: k, 5: h, 6: y, 7: d, 8: f, 9: r), Vector(0: w, 1: e, 2: m, 3: n, 4: n, 5: q, 6: y, 7: a, 8: r, 9: q), Vector(0: n, 1: p, 2: k, 3: g, 4: d, 5: r, 6: s, 7: p, 8: c, 9: r), Vector(0: r, 1: m, 2: w, 3: h, 4: y, 5: s, 6: d, 7: a, 8: e, 9: s), Vector(0: r, 1: i, 2: v, 3: h, 4: p, 5: -, 6: l, 7: w, 8: v, 9: s), Vector(0: r, 1: f, 2: w, 3: g, 4: n, 5: f, 6: y, 7: a, 8: r, 9: y), Vector(0: r, 1: f, 2: m, 3: g, 4: n, 5: k, 6: y, 7: y, 8: r, 9: s), Vector(0: r, 1: f, 2: w, 3: g, 4: n, 5: r, 6: g, 7: a, 8: v, 9: s), Vector(0: s, 1: m, 2: -, 3: g, 4: r, 5: -, 6: h, 7: g, 8: -, 9: s), Vector(0: r, 1: f, 2: v, 3: c, 4: n, 5: v, 6: y, 7: a, 8: w, 9: s), Vector(0: r, 1: f, 2: i, 3: g, 4: n, 5: r, 6: y, 7: a, 8: i, 9: s), Vector(0: t, 1: y, 2: t, 3: s, 4: n, 5: k, 6: n, 7: s, 8: t, 9: q), Vector(0: r, 1: f, 2: w, 3: e, 4: q, 5: n, 6: f, 7: a, 8: r, 9: s), Vector(0: v, 1: h, 2: s, 3: g, 4: f, 5: a, 6: -, 7: g, 8: f, 9: s), Vector(0: r, 1: a, 2: d, 3: g, 4: n, 5: -, 6: y, 7: a, 8: r, 9: s), Vector(0: r, 1: f, 2: c, 3: g, 4: n, 5: r, 6: y, 7: a, 8: r, 9: s), Vector(0: r, 1: f, 2: g, 3: f, 4: p, 5: r, 6: d, 7: a, 8: p, 9: s), Vector(0: p, 1: i, 2: w, 3: f, 4: a, 5: n, 6: s, 7: -, 8: c, 9: f), Vector(0: m, 1: w, 2: y, 3: r, 4: n, 5: n, 6: -, 7: y, 8: d, 9: m), Vector(0: t, 1: v, 2: w, 3: k, 4: i, 5: c, 6: f, 7: g, 8: y, 9: w), Vector(0: i, 1: t, 2: w, 3: g, 4: n, 5: t, 6: y, 7: a, 8: c, 9: s), Vector(0: m, 1: p, 2: -, 3: n, 4: q, 5: q, 6: y, 7: w, 8: l, 9: s), Vector(0: r, 1: f, 2: w, 3: g, 4: n, 5: r, 6: y, 7: a, 8: i, 9: s), Vector(0: k, 1: p, 2: c, 3: g, 4: k, 5: r, 6: p, 7: a, 8: k, 9: s), Vector(0: r, 1: c, 2: q, 3: g, 4: r, 5: r, 6: a, 7: a, 8: r, 9: s), Vector(0: r, 1: m, 2: k, 3: g, 4: s, 5: i, 6: y, 7: a, 8: t, 9: s), Vector(0: r, 1: f, 2: -, 3: y, 4: n, 5: r, 6: y, 7: a, 8: r, 9: s), Vector(0: r, 1: v, 2: w, 3: g, 4: t, 5: s, 6: v, 7: m, 8: c, 9: s), Vector(0: w, 1: m, 2: i, 3: k, 4: n, 5: q, 6: s, 7: a, 8: q, 9: c), Vector(0: m, 1: f, 2: w, 3: m, 4: n, 5: i, 6: y, 7: a, 8: m, 9: s), Vector(0: r, 1: w, 2: w, 3: g, 4: n, 5: g, 6: y, 7: a, 8: r, 9: s), Vector(0: r, 1: f, 2: q, 3: q, 4: c, 5: a, 6: v, 7: e, 8: r, 9: s), Vector(0: a, 1: y, 2: c, 3: -, 4: l, 5: v, 6: t, 7: f, 8: v, 9: n), Vector(0: r, 1: a, 2: d, 3: g, 4: n, 5: p, 6: y, 7: a, 8: r, 9: s), Vector(0: r, 1: g, 2: q, 3: g, 4: a, 5: s, 6: y, 7: -, 8: r, 9: s), Vector(0: r, 1: f, 2: i, 3: g, 4: n, 5: r, 6: y, 7: a, 8: r, 9: s), Vector(0: r, 1: f, 2: w, 3: g, 4: n, 5: r, 6: y, 7: a, 8: r, 9: s), Vector(0: r, 1: f, 2: w, 3: f, 4: d, 5: r, 6: n, 7: i, 8: r, 9: s), Vector(0: v, 1: l, 2: g, 3: r, 4: e, 5: k, 6: v, 7: r, 8: r, 9: p), Vector(0: r, 1: f, 2: m, 3: e, 4: n, 5: f, 6: y, 7: a, 8: r, 9: s), Vector(0: r, 1: k, 2: m, 3: s, 4: h, 5: d, 6: w, 7: -, 8: e, 9: q), Vector(0: r, 1: f, 2: r, 3: g, 4: t, 5: v, 6: w, 7: -, 8: w, 9: s), Vector(0: r, 1: -, 2: y, 3: l, 4: e, 5: r, 6: a, 7: s, 8: v, 9: -), Vector(0: d, 1: y, 2: w, 3: i, 4: n, 5: g, 6: y, 7: d, 8: r, 9: t), Vector(0: r, 1: f, 2: k, 3: g, 4: w, 5: t, 6: k, 7: a, 8: s, 9: s), Vector(0: s, 1: p, 2: m, 3: r, 4: g, 5: y, 6: t, 7: a, 8: r, 9: d), Vector(0: r, 1: f, 2: w, 3: g, 4: n, 5: r, 6: y, 7: a, 8: c, 9: s), Vector(0: r, 1: f, 2: w, 3: g, 4: n, 5: r, 6: -, 7: q, 8: w, 9: s), Vector(0: r, 1: f, 2: w, 3: g, 4: n, 5: r, 6: -, 7: k, 8: a, 9: s), Vector(0: d, 1: i, 2: y, 3: r, 4: g, 5: s, 6: p, 7: p, 8: d, 9: y), Vector(0: q, 1: n, 2: w, 3: h, 4: s, 5: v, 6: l, 7: a, 8: r, 9: y), Vector(0: m, 1: n, 2: h, 3: y, 4: a, 5: s, 6: y, 7: s, 8: k, 9: i), Vector(0: g, 1: m, 2: i, 3: a, 4: w, 5: t, 6: d, 7: r, 8: e, 9: s), Vector(0: s, 1: q, 2: g, 3: g, 4: p, 5: n, 6: v, 7: a, 8: a, 9: -), Vector(0: r, 1: y, 2: w, 3: g, 4: n, 5: k, 6: y, 7: a, 8: n, 9: s), Vector(0: r, 1: m, 2: w, 3: g, 4: n, 5: f, 6: y, 7: n, 8: r, 9: s), Vector(0: r, 1: q, 2: r, 3: k, 4: -, 5: r, 6: y, 7: f, 8: r, 9: h), Vector(0: r, 1: y, 2: f, 3: m, 4: m, 5: t, 6: q, 7: y, 8: r, 9: f), Vector(0: e, 1: h, 2: y, 3: l, 4: t, 5: g, 6: y, 7: q, 8: f, 9: w), Vector(0: n, 1: r, 2: c, 3: g, 4: h, 5: r, 6: y, 7: d, 8: k, 9: s), Vector(0: r, 1: f, 2: w, 3: g, 4: m, 5: r, 6: y, 7: a, 8: n, 9: s), Vector(0: r, 1: c, 2: q, 3: g, 4: m, 5: c, 6: y, 7: r, 8: k, 9: s), Vector(0: a, 1: m, 2: l, 3: y, 4: k, 5: p, 6: k, 7: w, 8: w, 9: s), Vector(0: k, 1: f, 2: i, 3: g, 4: n, 5: e, 6: n, 7: a, 8: h, 9: s), Vector(0: w, 1: h, 2: w, 3: g, 4: n, 5: r, 6: y, 7: a, 8: i, 9: p), Vector(0: r, 1: h, 2: w, 3: p, 4: n, 5: r, 6: s, 7: a, 8: k, 9: n), Vector(0: r, 1: f, 2: w, 3: g, 4: n, 5: r, 6: y, 7: a, 8: r, 9: s), Vector(0: r, 1: w, 2: p, 3: a, 4: n, 5: q, 6: f, 7: a, 8: g, 9: s), Vector(0: r, 1: f, 2: w, 3: g, 4: n, 5: p, 6: y, 7: a, 8: r, 9: s), Vector(0: r, 1: c, 2: w, 3: g, 4: n, 5: k, 6: y, 7: a, 8: r, 9: s), Vector(0: r, 1: f, 2: w, 3: n, 4: n, 5: r, 6: y, 7: a, 8: r, 9: s), Vector(0: r, 1: f, 2: w, 3: g, 4: n, 5: s, 6: y, 7: a, 8: r, 9: s), Vector(0: r, 1: p, 2: w, 3: g, 4: n, 5: r, 6: y, 7: a, 8: h, 9: s), Vector(0: r, 1: f, 2: t, 3: g, 4: n, 5: r, 6: q, 7: a, 8: s, 9: s), Vector(0: r, 1: f, 2: p, 3: g, 4: n, 5: r, 6: a, 7: a, 8: r, 9: s), Vector(0: r, 1: f, 2: w, 3: g, 4: n, 5: r, 6: y, 7: a, 8: n, 9: s), Vector(0: r, 1: f, 2: w, 3: g, 4: n, 5: l, 6: y, 7: a, 8: r, 9: s), Vector(0: r, 1: f, 2: g, 3: g, 4: n, 5: r, 6: y, 7: a, 8: k, 9: c), Vector(0: r, 1: f, 2: w, 3: g, 4: n, 5: r, 6: y, 7: a, 8: e, 9: s), Vector(0: r, 1: w, 2: w, 3: g, 4: c, 5: r, 6: n, 7: a, 8: s, 9: s), Vector(0: r, 1: f, 2: w, 3: g, 4: n, 5: q, 6: h, 7: a, 8: r, 9: s), Vector(0: r, 1: m, 2: e, 3: l, 4: h, 5: r, 6: i, 7: g, 8: d, 9: s), Vector(0: r, 1: f, 2: e, 3: g, 4: n, 5: f, 6: y, 7: a, 8: a, 9: s), Vector(0: m, 1: f, 2: v, 3: g, 4: v, 5: r, 6: y, 7: a, 8: v, 9: s), Vector(0: r, 1: f, 2: t, 3: e, 4: n, 5: r, 6: y, 7: a, 8: r, 9: s), Vector(0: s, 1: f, 2: w, 3: g, 4: n, 5: w, 6: g, 7: a, 8: r, 9: s), Vector(0: r, 1: f, 2: f, 3: w, 4: n, 5: y, 6: n, 7: a, 8: e, 9: s), Vector(0: r, 1: f, 2: w, 3: g, 4: n, 5: r, 6: y, 7: a, 8: f, 9: s), Vector(0: r, 1: q, 2: e, 3: -, 4: n, 5: n, 6: y, 7: f, 8: s, 9: p), Vector(0: f, 1: f, 2: w, 3: a, 4: n, 5: r, 6: p, 7: a, 8: q, 9: s), Vector(0: d, 1: i, 2: w, 3: r, 4: v, 5: d, 6: p, 7: w, 8: g, 9: d), Vector(0: r, 1: f, 2: w, 3: g, 4: n, 5: f, 6: y, 7: a, 8: t, 9: s), Vector(0: r, 1: f, 2: w, 3: g, 4: n, 5: r, 6: y, 7: a, 8: a, 9: s), Vector(0: e, 1: v, 2: d, 3: g, 4: k, 5: f, 6: y, 7: y, 8: r, 9: c), Vector(0: r, 1: f, 2: r, 3: g, 4: n, 5: r, 6: y, 7: a, 8: a, 9: s), Vector(0: r, 1: f, 2: w, 3: g, 4: n, 5: r, 6: y, 7: a, 8: k, 9: s), Vector(0: r, 1: i, 2: w, 3: t, 4: n, 5: d, 6: d, 7: a, 8: i, 9: s), Vector(0: r, 1: f, 2: w, 3: r, 4: n, 5: r, 6: y, 7: a, 8: s, 9: s), Vector(0: s, 1: f, 2: w, 3: g, 4: n, 5: y, 6: y, 7: a, 8: s, 9: s), Vector(0: r, 1: f, 2: p, 3: g, 4: -, 5: r, 6: y, 7: a, 8: a, 9: s), Vector(0: r, 1: f, 2: w, 3: g, 4: n, 5: w, 6: y, 7: a, 8: r, 9: s), Vector(0: r, 1: r, 2: w, 3: g, 4: n, 5: d, 6: y, 7: a, 8: a, 9: s), Vector(0: r, 1: d, 2: w, 3: g, 4: n, 5: r, 6: r, 7: a, 8: h, 9: s), Vector(0: -, 1: f, 2: p, 3: m, 4: n, 5: g, 6: -, 7: a, 8: d, 9: s), Vector(0: r, 1: f, 2: w, 3: n, 4: p, 5: y, 6: y, 7: y, 8: i, 9: t), Vector(0: r, 1: f, 2: n, 3: g, 4: n, 5: r, 6: y, 7: a, 8: r, 9: s), Vector(0: r, 1: f, 2: w, 3: g, 4: n, 5: r, 6: y, 7: a, 8: r, 9: s), Vector(0: s, 1: d, 2: -, 3: g, 4: n, 5: a, 6: q, 7: e, 8: y, 9: r), Vector(0: q, 1: f, 2: v, 3: g, 4: n, 5: r, 6: g, 7: a, 8: t, 9: s), Vector(0: r, 1: a, 2: m, 3: c, 4: c, 5: a, 6: w, 7: y, 8: n, 9: s), Vector(0: e, 1: s, 2: k, 3: g, 4: a, 5: q, 6: y, 7: r, 8: r, 9: s), Vector(0: d, 1: i, 2: n, 3: f, 4: c, 5: w, 6: p, 7: -, 8: d, 9: p), Vector(0: v, 1: p, 2: q, 3: r, 4: v, 5: r, 6: d, 7: f, 8: p, 9: a), Vector(0: r, 1: f, 2: h, 3: g, 4: n, 5: s, 6: y, 7: a, 8: i, 9: s), Vector(0: m, 1: k, 2: r, 3: c, 4: k, 5: p, 6: g, 7: c, 8: -, 9: n), Vector(0: r, 1: f, 2: w, 3: g, 4: n, 5: c, 6: y, 7: a, 8: s, 9: s), Vector(0: r, 1: f, 2: w, 3: f, 4: n, 5: r, 6: y, 7: a, 8: m, 9: s), Vector(0: r, 1: f, 2: w, 3: g, 4: n, 5: r, 6: y, 7: a, 8: v, 9: s), Vector(0: r, 1: f, 2: r, 3: g, 4: n, 5: p, 6: l, 7: a, 8: m, 9: s), Vector(0: r, 1: f, 2: p, 3: g, 4: n, 5: y, 6: y, 7: a, 8: r, 9: s), Vector(0: r, 1: f, 2: w, 3: g, 4: n, 5: r, 6: y, 7: a, 8: y, 9: s), Vector(0: r, 1: f, 2: m, 3: g, 4: n, 5: h, 6: y, 7: v, 8: v, 9: s), Vector(0: t, 1: f, 2: w, 3: g, 4: n, 5: s, 6: y, 7: a, 8: r, 9: s), Vector(0: r, 1: f, 2: -, 3: g, 4: n, 5: r, 6: y, 7: e, 8: r, 9: s), Vector(0: r, 1: f, 2: a, 3: g, 4: n, 5: r, 6: y, 7: a, 8: l, 9: s), Vector(0: r, 1: f, 2: r, 3: g, 4: n, 5: r, 6: y, 7: a, 8: s, 9: s), Vector(0: r, 1: f, 2: w, 3: g, 4: n, 5: r, 6: y, 7: a, 8: r, 9: s), Vector(0: r, 1: f, 2: w, 3: g, 4: n, 5: e, 6: y, 7: g, 8: f, 9: s), Vector(0: -, 1: r, 2: w, 3: w, 4: y, 5: m, 6: r, 7: t, 8: r, 9: a), Vector(0: r, 1: f, 2: w, 3: g, 4: n, 5: r, 6: y, 7: a, 8: r, 9: s), Vector(0: r, 1: -, 2: w, 3: n, 4: d, 5: r, 6: k, 7: n, 8: a, 9: s), Vector(0: r, 1: f, 2: w, 3: g, 4: n, 5: r, 6: y, 7: a, 8: t, 9: s), Vector(0: r, 1: f, 2: w, 3: g, 4: n, 5: r, 6: y, 7: a, 8: r, 9: s), Vector(0: r, 1: f, 2: w, 3: g, 4: a, 5: l, 6: y, 7: a, 8: l, 9: s), Vector(0: r, 1: f, 2: d, 3: g, 4: n, 5: n, 6: y, 7: a, 8: q, 9: s), Vector(0: r, 1: f, 2: n, 3: g, 4: n, 5: r, 6: y, 7: a, 8: -, 9: s), Vector(0: r, 1: f, 2: w, 3: g, 4: n, 5: r, 6: y, 7: a, 8: r, 9: s), Vector(0: r, 1: s, 2: w, 3: g, 4: n, 5: r, 6: y, 7: a, 8: r, 9: s), Vector(0: k, 1: t, 2: l, 3: q, 4: m, 5: e, 6: g, 7: d, 8: r, 9: a), Vector(0: r, 1: f, 2: m, 3: g, 4: n, 5: n, 6: t, 7: f, 8: r, 9: s), Vector(0: r, 1: q, 2: q, 3: v, 4: d, 5: r, 6: y, 7: l, 8: r, 9: s), Vector(0: r, 1: f, 2: p, 3: g, 4: n, 5: r, 6: y, 7: y, 8: t, 9: s), Vector(0: r, 1: f, 2: i, 3: g, 4: n, 5: r, 6: y, 7: a, 8: s, 9: s), Vector(0: r, 1: f, 2: f, 3: g, 4: n, 5: r, 6: y, 7: a, 8: r, 9: s), Vector(0: a, 1: s, 2: t, 3: g, 4: c, 5: d, 6: c, 7: c, 8: -, 9: k), Vector(0: d, 1: i, 2: v, 3: f, 4: d, 5: r, 6: s, 7: i, 8: c, 9: n), Vector(0: r, 1: e, 2: t, 3: g, 4: -, 5: r, 6: r, 7: a, 8: w, 9: s), Vector(0: r, 1: f, 2: k, 3: g, 4: n, 5: h, 6: y, 7: a, 8: r, 9: s), Vector(0: r, 1: f, 2: w, 3: g, 4: n, 5: r, 6: y, 7: a, 8: r, 9: s), Vector(0: r, 1: f, 2: q, 3: g, 4: n, 5: -, 6: y, 7: a, 8: w, 9: s), Vector(0: r, 1: f, 2: w, 3: g, 4: n, 5: r, 6: y, 7: a, 8: r, 9: s), Vector(0: r, 1: f, 2: w, 3: g, 4: n, 5: r, 6: y, 7: a, 8: k, 9: s), Vector(0: r, 1: f, 2: w, 3: g, 4: n, 5: n, 6: y, 7: a, 8: r, 9: s), Vector(0: r, 1: f, 2: w, 3: g, 4: n, 5: h, 6: y, 7: a, 8: g, 9: s), Vector(0: r, 1: f, 2: i, 3: g, 4: n, 5: r, 6: y, 7: a, 8: r, 9: s), Vector(0: r, 1: f, 2: w, 3: g, 4: n, 5: r, 6: y, 7: a, 8: r, 9: s), Vector(0: r, 1: f, 2: w, 3: g, 4: n, 5: w, 6: y, 7: a, 8: c, 9: s), Vector(0: r, 1: f, 2: w, 3: g, 4: n, 5: e, 6: h, 7: a, 8: a, 9: s), Vector(0: r, 1: f, 2: w, 3: g, 4: n, 5: f, 6: y, 7: a, 8: e, 9: s), Vector(0: r, 1: f, 2: w, 3: g, 4: n, 5: r, 6: y, 7: a, 8: s, 9: s), Vector(0: r, 1: f, 2: w, 3: g, 4: n, 5: r, 6: y, 7: a, 8: -, 9: s), Vector(0: r, 1: f, 2: w, 3: g, 4: n, 5: r, 6: y, 7: a, 8: r, 9: s), Vector(0: r, 1: f, 2: w, 3: g, 4: n, 5: r, 6: y, 7: a, 8: v, 9: s), Vector(0: r, 1: f, 2: w, 3: g, 4: n, 5: k, 6: y, 7: a, 8: s, 9: s), Vector(0: r, 1: f, 2: w, 3: g, 4: n, 5: r, 6: y, 7: a, 8: k, 9: s), Vector(0: r, 1: f, 2: w, 3: g, 4: n, 5: q, 6: y, 7: a, 8: r, 9: s), Vector(0: r, 1: f, 2: w, 3: g, 4: n, 5: r, 6: y, 7: a, 8: w, 9: s), Vector(0: r, 1: f, 2: w, 3: g, 4: n, 5: s, 6: y, 7: a, 8: a, 9: s), Vector(0: r, 1: f, 2: w, 3: g, 4: n, 5: r, 6: y, 7: a, 8: r, 9: s), Vector(0: r, 1: f, 2: k, 3: g, 4: n, 5: r, 6: y, 7: a, 8: a, 9: s), Vector(0: r, 1: f, 2: w, 3: g, 4: n, 5: r, 6: y, 7: a, 8: w, 9: s), Vector(0: r, 1: f, 2: w, 3: g, 4: n, 5: r, 6: y, 7: a, 8: r, 9: s), Vector(0: r, 1: l, 2: w, 3: g, 4: n, 5: r, 6: n, 7: a, 8: r, 9: s), Vector(0: r, 1: f, 2: w, 3: g, 4: n, 5: r, 6: y, 7: a, 8: r, 9: s), Vector(0: r, 1: f, 2: f, 3: g, 4: n, 5: r, 6: y, 7: a, 8: r, 9: s), Vector(0: r, 1: f, 2: w, 3: g, 4: n, 5: r, 6: y, 7: a, 8: r, 9: s), Vector(0: r, 1: f, 2: w, 3: g, 4: n, 5: r, 6: y, 7: a, 8: r, 9: s), Vector(0: r, 1: f, 2: w, 3: g, 4: n, 5: r, 6: y, 7: a, 8: r, 9: s), Vector(0: r, 1: f, 2: w, 3: g, 4: n, 5: r, 6: y, 7: a, 8: r, 9: s), Vector(0: r, 1: f, 2: w, 3: g, 4: n, 5: r, 6: y, 7: a, 8: r, 9: s), Vector(0: r, 1: f, 2: w, 3: g, 4: n, 5: -, 6: y, 7: a, 8: r, 9: s), Vector(0: r, 1: f, 2: t, 3: g, 4: n, 5: r, 6: y, 7: a, 8: r, 9: s), Vector(0: r, 1: f, 2: w, 3: g, 4: n, 5: k, 6: y, 7: a, 8: r, 9: s), Vector(0: r, 1: f, 2: w, 3: g, 4: n, 5: r, 6: y, 7: a, 8: r, 9: s), Vector(0: r, 1: f, 2: w, 3: g, 4: n, 5: r, 6: y, 7: a, 8: r, 9: s), Vector(0: r, 1: f, 2: w, 3: g, 4: n, 5: r, 6: y, 7: a, 8: r, 9: s), Vector(0: r, 1: f, 2: w, 3: g, 4: n, 5: y, 6: y, 7: a, 8: r, 9: s), Vector(0: r, 1: f, 2: w, 3: g, 4: n, 5: r, 6: y, 7: a, 8: l, 9: s), Vector(0: r, 1: f, 2: w, 3: g, 4: n, 5: t, 6: y, 7: a, 8: m, 9: s), Vector(0: r, 1: f, 2: w, 3: g, 4: n, 5: r, 6: y, 7: a, 8: r, 9: s), Vector(0: r, 1: f, 2: m, 3: g, 4: n, 5: r, 6: y, 7: a, 8: r, 9: s), Vector(0: r, 1: f, 2: w, 3: g, 4: n, 5: r, 6: y, 7: a, 8: r, 9: s), Vector(0: r, 1: f, 2: w, 3: g, 4: n, 5: r, 6: y, 7: a, 8: v, 9: s), Vector(0: r, 1: f, 2: w, 3: g, 4: n, 5: n, 6: y, 7: a, 8: -, 9: s), Vector(0: r, 1: f, 2: w, 3: g, 4: n, 5: r, 6: y, 7: a, 8: r, 9: s), Vector(0: r, 1: f, 2: w, 3: g, 4: n, 5: r, 6: y, 7: a, 8: r, 9: s), Vector(0: r, 1: f, 2: w, 3: g, 4: n, 5: q, 6: y, 7: a, 8: y, 9: s), Vector(0: r, 1: f, 2: w, 3: g, 4: n, 5: w, 6: y, 7: a, 8: r, 9: s), Vector(0: r, 1: f, 2: w, 3: g, 4: n, 5: r, 6: y, 7: a, 8: n, 9: s), Vector(0: r, 1: f, 2: w, 3: g, 4: n, 5: m, 6: y, 7: a, 8: r, 9: s), Vector(0: r, 1: f, 2: w, 3: g, 4: n, 5: g, 6: y, 7: a, 8: r, 9: s), Vector(0: r, 1: f, 2: c, 3: g, 4: n, 5: r, 6: t, 7: a, 8: r, 9: s), Vector(0: r, 1: f, 2: w, 3: g, 4: n, 5: r, 6: y, 7: a, 8: r, 9: s), Vector(0: r, 1: f, 2: w, 3: g, 4: n, 5: r, 6: y, 7: a, 8: r, 9: s), Vector(0: r, 1: f, 2: w, 3: g, 4: n, 5: r, 6: y, 7: a, 8: r, 9: s), Vector(0: r, 1: f, 2: w, 3: g, 4: n, 5: r, 6: y, 7: a, 8: r, 9: s), Vector(0: r, 1: f, 2: w, 3: g, 4: n, 5: r, 6: y, 7: a, 8: r, 9: s), Vector(0: r, 1: f, 2: w, 3: g, 4: n, 5: r, 6: y, 7: a, 8: r, 9: s), Vector(0: r, 1: f, 2: w, 3: g, 4: n, 5: r, 6: y, 7: a, 8: w, 9: s), Vector(0: r, 1: f, 2: w, 3: g, 4: n, 5: c, 6: y, 7: a, 8: r, 9: s), Vector(0: r, 1: f, 2: w, 3: g, 4: n, 5: w, 6: y, 7: a, 8: r, 9: s), Vector(0: r, 1: f, 2: w, 3: g, 4: n, 5: r, 6: y, 7: a, 8: r, 9: s), Vector(0: r, 1: f, 2: l, 3: g, 4: n, 5: r, 6: y, 7: a, 8: y, 9: s), Vector(0: r, 1: f, 2: w, 3: g, 4: n, 5: r, 6: y, 7: a, 8: c, 9: s), Vector(0: r, 1: d, 2: w, 3: g, 4: n, 5: r, 6: y, 7: a, 8: a, 9: s), Vector(0: r, 1: f, 2: w, 3: g, 4: n, 5: r, 6: y, 7: a, 8: r, 9: s), Vector(0: r, 1: f, 2: e, 3: g, 4: n, 5: r, 6: y, 7: a, 8: r, 9: s), Vector(0: r, 1: f, 2: m, 3: g, 4: n, 5: r, 6: y, 7: a, 8: r, 9: s), Vector(0: r, 1: f, 2: w, 3: g, 4: n, 5: r, 6: y, 7: a, 8: r, 9: s), Vector(0: r, 1: f, 2: w, 3: g, 4: n, 5: l, 6: y, 7: a, 8: r, 9: s), Vector(0: r, 1: f, 2: w, 3: g, 4: n, 5: r, 6: y, 7: a, 8: k, 9: s), Vector(0: r, 1: f, 2: w, 3: g, 4: n, 5: r, 6: y, 7: a, 8: r, 9: s), Vector(0: r, 1: f, 2: w, 3: g, 4: n, 5: e, 6: y, 7: a, 8: r, 9: s), Vector(0: r, 1: f, 2: w, 3: g, 4: n, 5: r, 6: y, 7: a, 8: d, 9: s), Vector(0: r, 1: f, 2: w, 3: g, 4: n, 5: r, 6: y, 7: a, 8: r, 9: s), Vector(0: r, 1: f, 2: w, 3: g, 4: n, 5: h, 6: y, 7: a, 8: w, 9: s), Vector(0: r, 1: f, 2: w, 3: g, 4: n, 5: r, 6: y, 7: a, 8: r, 9: s), Vector(0: r, 1: f, 2: w, 3: g, 4: n, 5: r, 6: y, 7: a, 8: r, 9: s), Vector(0: r, 1: f, 2: w, 3: g, 4: n, 5: r, 6: y, 7: a, 8: r, 9: s), Vector(0: r, 1: f, 2: w, 3: g, 4: n, 5: f, 6: y, 7: a, 8: r, 9: s), Vector(0: r, 1: f, 2: w, 3: g, 4: n, 5: p, 6: y, 7: a, 8: r, 9: s), Vector(0: r, 1: f, 2: w, 3: g, 4: n, 5: e, 6: y, 7: a, 8: r, 9: s), Vector(0: r, 1: f, 2: w, 3: g, 4: n, 5: r, 6: y, 7: a, 8: r, 9: s), Vector(0: r, 1: f, 2: w, 3: g, 4: n, 5: r, 6: y, 7: a, 8: r, 9: s), Vector(0: r, 1: f, 2: w, 3: g, 4: n, 5: r, 6: y, 7: a, 8: l, 9: s), Vector(0: r, 1: f, 2: k, 3: g, 4: n, 5: n, 6: y, 7: a, 8: r, 9: s), Vector(0: r, 1: f, 2: w, 3: g, 4: n, 5: -, 6: y, 7: a, 8: r, 9: s), Vector(0: r, 1: f, 2: v, 3: g, 4: n, 5: r, 6: y, 7: a, 8: r, 9: s), Vector(0: r, 1: f, 2: w, 3: g, 4: n, 5: r, 6: y, 7: a, 8: n, 9: s), Vector(0: r, 1: f, 2: w, 3: g, 4: n, 5: r, 6: y, 7: a, 8: g, 9: s), Vector(0: r, 1: f, 2: w, 3: g, 4: n, 5: r, 6: y, 7: a, 8: r, 9: s), Vector(0: r, 1: f, 2: w, 3: g, 4: n, 5: r, 6: y, 7: a, 8: r, 9: s), Vector(0: r, 1: f, 2: w, 3: g, 4: n, 5: e, 6: y, 7: a, 8: r, 9: s), Vector(0: r, 1: f, 2: w, 3: g, 4: n, 5: r, 6: y, 7: a, 8: a, 9: s), Vector(0: r, 1: f, 2: i, 3: g, 4: n, 5: r, 6: y, 7: a, 8: y, 9: s), Vector(0: r, 1: f, 2: w, 3: g, 4: n, 5: r, 6: y, 7: a, 8: r, 9: s), Vector(0: r, 1: f, 2: w, 3: g, 4: n, 5: r, 6: y, 7: a, 8: i, 9: s), Vector(0: r, 1: f, 2: w, 3: g, 4: n, 5: n, 6: y, 7: a, 8: r, 9: s), Vector(0: r, 1: f, 2: w, 3: g, 4: n, 5: r, 6: y, 7: a, 8: r, 9: s), Vector(0: r, 1: f, 2: w, 3: g, 4: n, 5: r, 6: y, 7: a, 8: r, 9: s), Vector(0: r, 1: f, 2: w, 3: g, 4: n, 5: -, 6: y, 7: a, 8: r, 9: s), Vector(0: r, 1: f, 2: w, 3: g, 4: n, 5: d, 6: y, 7: a, 8: r, 9: s), Vector(0: r, 1: f, 2: w, 3: g, 4: n, 5: r, 6: y, 7: a, 8: r, 9: s), Vector(0: r, 1: f, 2: w, 3: g, 4: n, 5: r, 6: y, 7: a, 8: -, 9: s), Vector(0: r, 1: f, 2: w, 3: g, 4: n, 5: r, 6: y, 7: a, 8: r, 9: s), Vector(0: r, 1: f, 2: w, 3: g, 4: n, 5: r, 6: y, 7: a, 8: f, 9: s), Vector(0: r, 1: f, 2: w, 3: g, 4: n, 5: f, 6: y, 7: a, 8: s, 9: s), Vector(0: r, 1: f, 2: w, 3: g, 4: n, 5: h, 6: y, 7: a, 8: r, 9: s), Vector(0: r, 1: f, 2: w, 3: g, 4: n, 5: r, 6: y, 7: a, 8: y, 9: s), Vector(0: r, 1: f, 2: w, 3: g, 4: n, 5: r, 6: y, 7: a, 8: r, 9: s), Vector(0: r, 1: f, 2: w, 3: g, 4: n, 5: q, 6: y, 7: a, 8: r, 9: s), Vector(0: r, 1: f, 2: w, 3: g, 4: n, 5: r, 6: y, 7: a, 8: i, 9: s), Vector(0: r, 1: f, 2: w, 3: g, 4: n, 5: r, 6: y, 7: a, 8: l, 9: s), Vector(0: r, 1: f, 2: w, 3: g, 4: n, 5: r, 6: y, 7: a, 8: v, 9: s), Vector(0: r, 1: f, 2: -, 3: g, 4: n, 5: r, 6: y, 7: a, 8: r, 9: s), Vector(0: r, 1: f, 2: w, 3: g, 4: n, 5: r, 6: y, 7: a, 8: r, 9: s), Vector(0: r, 1: -, 2: k, 3: g, 4: n, 5: r, 6: y, 7: a, 8: s, 9: s), Vector(0: r, 1: f, 2: w, 3: g, 4: n, 5: p, 6: y, 7: a, 8: r, 9: s), Vector(0: r, 1: f, 2: w, 3: g, 4: n, 5: r, 6: y, 7: a, 8: r, 9: s), Vector(0: r, 1: f, 2: s, 3: g, 4: n, 5: k, 6: y, 7: a, 8: f, 9: s), Vector(0: r, 1: f, 2: w, 3: g, 4: n, 5: r, 6: y, 7: a, 8: r, 9: s), Vector(0: r, 1: f, 2: g, 3: g, 4: n, 5: r, 6: y, 7: a, 8: r, 9: s), Vector(0: r, 1: f, 2: w, 3: g, 4: n, 5: r, 6: y, 7: a, 8: r, 9: s), Vector(0: r, 1: f, 2: w, 3: g, 4: n, 5: r, 6: y, 7: a, 8: r, 9: s), Vector(0: r, 1: f, 2: w, 3: g, 4: n, 5: r, 6: y, 7: a, 8: r, 9: s), Vector(0: r, 1: f, 2: p, 3: g, 4: n, 5: y, 6: y, 7: a, 8: r, 9: s), Vector(0: r, 1: f, 2: w, 3: g, 4: n, 5: r, 6: y, 7: a, 8: r, 9: s), Vector(0: r, 1: f, 2: w, 3: g, 4: n, 5: r, 6: y, 7: a, 8: k, 9: s), Vector(0: r, 1: f, 2: w, 3: g, 4: n, 5: r, 6: y, 7: a, 8: s, 9: s)))"
       ]
      }
     ],
     "prompt_number": 95
    },
    {
     "cell_type": "code",
     "collapsed": false,
     "input": [
      "ModelValidator(e._1, e._2).printStats"
     ],
     "language": "python",
     "metadata": {},
     "outputs": [
      {
       "output_type": "stream",
       "stream": "stdout",
       "text": []
      },
      {
       "output_type": "stream",
       "stream": "stderr",
       "text": []
      },
      {
       "ename": "",
       "evalue": "",
       "output_type": "pyerr",
       "traceback": [
        "<console>:62: error: type mismatch;",
        " found   : PottsModel(in object $iw)(in object $iw)(in object $iw)(in object $iw)",
        " required: PottsModel(in object $iw)(in object $iw)(in object $iw)(in object $iw)",
        "              ModelValidator(e._1, e._2).printStats",
        "                               ^"
       ]
      }
     ],
     "prompt_number": 97
    },
    {
     "cell_type": "code",
     "collapsed": false,
     "input": [
      "val m = experiment(4, smallDomain, 0.3)"
     ],
     "language": "python",
     "metadata": {},
     "outputs": [
      {
       "output_type": "stream",
       "stream": "stderr",
       "text": []
      },
      {
       "output_type": "stream",
       "stream": "stdout",
       "text": []
      },
      {
       "metadata": {},
       "output_type": "pyout",
       "prompt_number": 157,
       "text": [
        "(PottsModel@717b06b,PottsModel@243f4470)"
       ]
      }
     ],
     "prompt_number": 157
    },
    {
     "cell_type": "code",
     "collapsed": false,
     "input": [
      "ModelValidator(m._1, m._2).printStats"
     ],
     "language": "python",
     "metadata": {},
     "outputs": [
      {
       "output_type": "stream",
       "stream": "stderr",
       "text": []
      },
      {
       "output_type": "stream",
       "stream": "stdout",
       "text": [
        "(0,3)    0.0                   1.0994929724284745    \n",
        "(0,2)    0.0                   1.0994929724284745    \n",
        "(1,2)    2.0072804744539967    1.0963169537277997    \n",
        "(1,3)    1.5228819527810913    1.0963169537277997    \n",
        "(0,1)    0.0                   1.0447111096831654    \n",
        "(2,3)    0.0                   1.018855173515917     \n"
       ]
      }
     ],
     "prompt_number": 161
    },
    {
     "cell_type": "code",
     "collapsed": false,
     "input": [
      "val objectiveModel = PottsModel.frequenciesAsWeights(vectors, smallDomain)"
     ],
     "language": "python",
     "metadata": {},
     "outputs": [
      {
       "output_type": "stream",
       "stream": "stdout",
       "text": []
      },
      {
       "output_type": "stream",
       "stream": "stderr",
       "text": []
      },
      {
       "ename": "java.lang.ArrayIndexOutOfBoundsException",
       "evalue": "9",
       "output_type": "pyerr",
       "traceback": [
        "java.lang.ArrayIndexOutOfBoundsException: 9",
        "    cc.factorie.la.DenseTensor$class.$plus$eq(DenseTensor.scala:105)",
        "    cc.factorie.la.DenseTensor2.$plus$eq(Tensor2.scala:182)",
        "    cc.factorie.util.IncrementableDoubleSeq$class.$plus$eq(DoubleSeq.scala:286)",
        "    cc.factorie.la.DenseTensor2.$plus$eq(Tensor2.scala:182)"
       ]
      }
     ],
     "prompt_number": 160
    },
    {
     "cell_type": "code",
     "collapsed": false,
     "input": [
      "val m6 = PottsModel(numSites, smallDomain)\n",
      "val ex6 = for(v <- vectors) yield new LikelihoodExample(v, m6, InferByBPLoopy)\n",
      "Timer.start\n",
      "Trainer.batchTrain(m6.parameters, ex6)\n",
      "println(Timer.stop)"
     ],
     "language": "python",
     "metadata": {},
     "outputs": [
      {
       "output_type": "stream",
       "stream": "stderr",
       "text": []
      },
      {
       "output_type": "stream",
       "stream": "stdout",
       "text": [
        "67621\n"
       ]
      }
     ],
     "prompt_number": 68
    },
    {
     "cell_type": "markdown",
     "metadata": {},
     "source": [
      "The model works best around 0.3 connectivity!\n",
      "I've also removed the symmetry in the weights creation, does this change anything??"
     ]
    },
    {
     "cell_type": "code",
     "collapsed": false,
     "input": [
      "val mis = MutualInformation(strings, smallDomain).allMIs\n",
      "ModelValidator(trueM, m6, mis).printStats"
     ],
     "language": "python",
     "metadata": {},
     "outputs": [
      {
       "output_type": "stream",
       "stream": "stdout",
       "text": [
        "(8,12)     6.035652953628893     0.05660821382267789     1.3995249247114856\n",
        "(12,19)    5.833934290484705     0.0541172994275859      1.233832658599348\n",
        "(8,19)     0.0                   0.053794737429507786    1.241067924675696\n",
        "(3,12)     5.873961488706495     0.05155486459145353     1.197159176973859\n",
        "(3,8)      5.7343755212989524    0.051499061345393275    1.2387547962218046\n",
        "(0,12)     0.0                   0.05095088623235426     1.1047147334470546\n",
        "(0,8)      5.797726267640735     0.050615862562929534    1.1305817116639076\n",
        "(0,19)     5.967272825478887     0.050212574606426544    1.1486170619334042\n",
        "(10,12)    0.0                   0.04963427374130625     1.134019561849168\n",
        "(10,19)    5.866280111340726     0.04942913872597671     1.2355957451877377\n",
        "(8,10)     0.0                   0.049299562567519176    1.1555886476624582\n",
        "(3,19)     0.0                   0.04877700380028558     1.0547309714916826\n",
        "(2,12)     0.0                   0.048189106784352946    1.1187906948059378\n",
        "(2,8)      0.0                   0.04791300439897075     1.149571094795931\n",
        "(2,19)     5.904866913468896     0.04769950729937499     1.2402228674369065\n",
        "(0,10)     5.851889316292562     0.046875555340767074    1.1534587598597337\n",
        "(2,10)     5.881449167480797     0.046802690309924254    1.3853835094757232\n",
        "(12,14)    5.913233207051431     0.04653880989561525     1.0750090854779526\n",
        "(8,14)     6.010928537389292     0.04645676918665567     1.1152557035750168\n",
        "(12,16)    5.954105158662454     0.04642508082075585     1.0498921544823474\n",
        "(8,16)     0.0                   0.04602812673131539     1.0754368845108269\n",
        "(0,3)      0.0                   0.04574075091730612     0.9452772970277473\n",
        "(16,19)    0.0                   0.04560685944839906     1.0355043560506363\n",
        "(2,16)     5.8444191781964525    0.04556937396458301     1.3327013758114872\n",
        "(0,2)      0.0                   0.04539420058980669     1.1078163128641945\n",
        "(11,12)    0.0                   0.04509262224688716     1.0407295621139996\n",
        "(8,11)     0.0                   0.0449807199251135      1.0722623894922292\n",
        "(2,9)      5.694571961586019     0.04483384673681166     1.3044891235401985\n",
        "(9,12)     0.0                   0.044749545439444434    0.9755772197417493\n",
        "(8,9)      0.0                   0.04449836814638095     1.0091875311291494\n",
        "(10,16)    0.0                   0.04445297355871761     1.1067272603202607\n",
        "(9,19)     0.0                   0.044359576580220536    0.984656408287851\n",
        "(3,10)     0.0                   0.044316796366977385    0.9765575815774818\n",
        "(14,19)    0.0                   0.04409049205695905     0.9567512058402039\n",
        "(7,12)     0.0                   0.04383682491340852     1.013562822491869\n",
        "(7,11)     5.884116402348472     0.04380358485994325     1.5273994496000602\n",
        "(7,8)      0.0                   0.04378851594891914     1.0529170621214408\n",
        "(5,12)     0.0                   0.04374640352480236     0.9143306073187883\n",
        "(5,8)      0.0                   0.043514220195851626    0.9442194522498709\n",
        "(11,19)    0.0                   0.04346577487922015     0.979386851209039\n",
        "(0,16)     0.0                   0.043429322154666467    0.9499662972114394\n",
        "(9,10)     0.0                   0.043398915186034434    1.0548986725417258\n",
        "(5,11)     5.71061884674182      0.04283297862710988     1.3204140102258812\n",
        "(2,5)      0.0                   0.04272602208158215     1.110015513500069\n",
        "(5,19)     0.0                   0.042711581921566176    0.8688102649538026\n",
        "(2,11)     5.885612494516145     0.04263770648014279     1.2212403898254587\n",
        "(2,3)      0.0                   0.04263291060914732     0.9810113467335027\n",
        "(7,19)     0.0                   0.042304566690703094    0.9477265902618948\n",
        "(10,11)    0.0                   0.042268136867092104    1.0727216977383747\n",
        "(0,9)      0.0                   0.04220437263544281     0.8847350419445155\n",
        "(3,11)     5.665997698543776     0.042138138371941046    1.0695637047453874\n",
        "(3,14)     0.0                   0.04205654741793732     0.9392518717237391\n",
        "(9,16)     0.0                   0.04193994153603723     1.0262888520744293\n",
        "(0,14)     0.0                   0.04178881872154765     0.8592070083521578\n",
        "(5,10)     0.0                   0.041574652870798       0.9389011596535348\n",
        "(0,11)     0.0                   0.041394955293496925    0.9195973355469347\n",
        "(2,7)      0.0                   0.04122975376542307     1.15414141381159\n",
        "(5,7)      0.0                   0.041178488292189626    1.1209316356038086\n",
        "(3,16)     0.0                   0.04094928852624425     0.9119527973496927\n",
        "(7,10)     0.0                   0.040902074654304885    1.0211755929745288\n",
        "(0,5)      0.0                   0.04081593140886934     0.809207497137193\n",
        "(3,7)      0.0                   0.04074641147115285     0.9646998667279524\n",
        "(5,9)      5.94245816264258      0.04074012368084944     1.1725168245618574\n",
        "(10,14)    0.0                   0.04069915555104333     0.8900843242314677\n",
        "(0,7)      0.0                   0.040323046601074955    0.8892428131187274\n",
        "(3,5)      0.0                   0.040285447773046       0.8614246017302281\n",
        "(11,16)    0.0                   0.04019750893716083     1.0759407995728694\n",
        "(2,14)     0.0                   0.04001696514723228     0.9003306958614185\n",
        "(9,11)     0.0                   0.040005488449706784    1.0372684889869335\n",
        "(5,16)     0.0                   0.04000387000009668     0.9259550442666217\n",
        "(3,9)      0.0                   0.0392488253567339      0.8530934879465472\n",
        "(7,16)     5.903103359036987     0.038840716434604655    1.1227658751476863\n",
        "(14,16)    0.0                   0.038670300433180385    0.8407360158002727\n",
        "(7,9)      0.0                   0.038627609098519575    0.9853784384089127\n",
        "(13,19)    6.0412766903363435    0.038519538305189206    1.0479922024546477\n",
        "(12,13)    5.723978677471616     0.03844976259474509     0.9628977224810615\n",
        "(8,13)     0.0                   0.03819543083866955     0.9800595443776274\n",
        "(9,14)     0.0                   0.03722985434653524     0.7752319224308712\n",
        "(11,14)    0.0                   0.03702181940351034     0.8277754228497783\n",
        "(10,13)    0.0                   0.03603769649533534     0.9309911385468544\n",
        "(7,14)     0.0                   0.035908233725741756    0.8130951607091605\n",
        "(0,13)     0.0                   0.03588768163693        0.8596268547598105\n",
        "(2,13)     0.0                   0.03588066975328842     0.9993878207812011\n",
        "(5,14)     0.0                   0.03584148354745392     0.7158198327202906\n",
        "(1,12)     0.0                   0.03580060262744804     0.8293916547055543\n",
        "(1,8)      0.0                   0.03567073007501424     0.861005257746066\n",
        "(9,13)     5.7120633882734495    0.03553284948214809     1.1277355469195447\n",
        "(1,19)     0.0                   0.03516312317971905     0.8179311097487177\n",
        "(1,2)      5.9271187411936435    0.035141177743268075    1.1387072711103274\n",
        "(12,18)    0.0                   0.03508733872548604     0.8514768000635483\n",
        "(8,18)     0.0                   0.0348626814748457      0.8874248779144606\n",
        "(12,17)    5.916335808952111     0.03477538660742694     0.9267114868966417\n",
        "(8,17)     0.0                   0.034623886123672266    0.9490981323200417\n",
        "(3,13)     0.0                   0.0343976077363287      0.8316919824384754\n",
        "(13,16)    0.0                   0.0341862623373816      0.8483445211695654\n",
        "(18,19)    0.0                   0.033940562979759045    0.807617646221794\n",
        "(1,10)     0.0                   0.03385267006782908     0.8633474840717523\n",
        "(1,7)      6.034709467092794     0.03374299157183336     1.1385395401901313\n",
        "(1,11)     0.0                   0.033543335591252506    0.9942214931122746\n",
        "(0,1)      0.0                   0.03323166036160471     0.7404018563024417\n",
        "(16,18)    5.814663361539481     0.032973996181404876    0.9984379989608182\n",
        "(17,19)    0.0                   0.03290908017732823     0.8777306589797933\n",
        "(1,16)     0.0                   0.03285116706661056     0.8980194554108698\n",
        "(2,18)     0.0                   0.03261642325479785     0.9011862125685226\n",
        "(1,5)      0.0                   0.03251833538226874     0.8188886775073829\n",
        "(10,18)    0.0                   0.03249032774914202     0.8221126752749323\n",
        "(1,9)      0.0                   0.03246542143225645     0.8486944026490099\n",
        "(0,18)     0.0                   0.032379576495217326    0.7258145439928848\n",
        "(1,3)      0.0                   0.0322309923806101      0.735397014545401\n",
        "(11,13)    0.0                   0.03216252683757824     0.8136280522853107\n",
        "(10,17)    5.843814292010293     0.03211890425315466     1.0077267958389076\n",
        "(5,13)     0.0                   0.032075654515267914    0.7843618769864789\n",
        "(3,17)     0.0                   0.032046568395906104    0.8544149261128914\n",
        "(11,17)    5.875613795932169     0.031805798881057605    1.1127569181675117\n",
        "(6,8)      5.945012638255296     0.03178251472972473     0.905337041474153\n",
        "(6,12)     0.0                   0.031759678449635516    0.8573112388532875\n",
        "(13,14)    0.0                   0.03170243256136134     0.745505045147097\n",
        "(14,18)    5.71728097717465      0.03140859440322119     0.8614105233023707\n",
        "(3,18)     0.0                   0.03131898609196527     0.7700868057759376\n",
        "(0,17)     0.0                   0.03119401506176245     0.8072041107953017\n",
        "(2,17)     0.0                   0.03104130882275317     0.9427514453755904\n",
        "(7,13)     0.0                   0.03103582108860529     0.7736540181627761\n",
        "(7,17)     0.0                   0.030488848525555407    0.949383157995956\n",
        "(9,18)     0.0                   0.030351280915573244    0.7688191894058658\n",
        "(6,19)     0.0                   0.030098778083342034    0.7864019251225525\n",
        "(12,15)    0.0                   0.02988738887900881     0.7865528183282297\n",
        "(8,15)     0.0                   0.02983181897152017     0.8222714819023493\n",
        "(5,17)     0.0                   0.02968625709254956     0.841284578169351\n",
        "(3,15)     5.8818036591588605    0.029648913764205573    0.9246221223257776\n",
        "(16,17)    0.0                   0.029645507448027783    0.8222956997769283\n",
        "(1,14)     0.0                   0.0293783758028181      0.6476496852797533\n",
        "(3,6)      0.0                   0.02934448190165716     0.8090437010729113\n",
        "(9,17)     0.0                   0.029075030380135678    0.7911507126893323\n",
        "(4,12)     0.0                   0.02902127426767375     0.73734104532921\n",
        "(11,18)    0.0                   0.02895598075845278     0.7719119010251478\n",
        "("
       ]
      },
      {
       "output_type": "stream",
       "stream": "stdout",
       "text": [
        "4,8)      0.0                   0.02887173356674309     0.7738017665796645\n",
        "(5,18)     0.0                   0.0287232369001774      0.6768018448757884\n",
        "(14,17)    0.0                   0.028666622895313913    0.7247206087896989\n",
        "(15,19)    0.0                   0.02864604134741539     0.7421232846732632\n",
        "(0,6)      0.0                   0.02829549976754122     0.6932802946116633\n",
        "(7,18)     0.0                   0.028075255180032874    0.7516088657212237\n",
        "(4,18)     5.956095563507961     0.02788277109547106     1.2179311312395007\n",
        "(4,19)     0.0                   0.027847401692752675    0.6732575961942902\n",
        "(6,18)     5.937917798215357     0.02771959960087186     1.2034502167474892\n",
        "(6,10)     0.0                   0.027575950985925267    0.7440582180174147\n",
        "(9,15)     6.014805987639745     0.027546129528931006    1.0154790317290565\n",
        "(2,6)      0.0                   0.027277909837440398    0.7983159597290812\n",
        "(3,4)      0.0                   0.02722385595025025     0.7260638173885381\n",
        "(2,15)     0.0                   0.026998282958011596    0.834092221955408\n",
        "(10,15)    0.0                   0.026930631093577857    0.7307066159370157\n",
        "(6,14)     0.0                   0.02691891078786476     0.7207143749310598\n",
        "(0,15)     0.0                   0.026793019583771855    0.6472965381813911\n",
        "(6,16)     0.0                   0.026502944480691935    0.7636331966034364\n",
        "(0,4)      0.0                   0.02618536376997314     0.5988731400121007\n",
        "(4,10)     0.0                   0.026149647131266024    0.6487052313324057\n",
        "(1,13)     0.0                   0.026116855945442254    0.6613615587579638\n",
        "(6,9)      0.0                   0.026101455078746654    0.7768925927515334\n",
        "(15,16)    0.0                   0.025813773602459004    0.7268735710564798\n",
        "(11,15)    0.0                   0.025492672423841144    0.7777522092297797\n",
        "(2,4)      0.0                   0.025462569727246996    0.692992359176125\n",
        "(6,11)     0.0                   0.02545537311810487     0.729969371855682\n",
        "(13,18)    0.0                   0.025338479627983763    0.6606072098851934\n",
        "(4,16)     0.0                   0.025311995602056252    0.6889841362036112\n",
        "(5,15)     0.0                   0.025160889657407388    0.7435183086362634\n",
        "(6,15)     5.812337100753007     0.025118225994723773    1.164055153868444\n",
        "(15,18)    0.0                   0.02491795463109024     0.8902625428887743\n",
        "(6,7)      0.0                   0.024834913870832826    0.7062380953737563\n",
        "(5,6)      0.0                   0.024822623573175318    0.6572631628506921\n",
        "(14,15)    0.0                   0.024743529065080226    0.639410899536485\n",
        "(4,15)     5.825186765158791     0.02464770856550048     1.1567490939938962\n",
        "(7,15)     0.0                   0.024549739091803174    0.714648171534512\n",
        "(4,9)      0.0                   0.02416685164341196     0.6699254658369589\n",
        "(13,17)    0.0                   0.02412339690379937     0.6882395014433006\n",
        "(4,11)     0.0                   0.0237409051378564      0.6440993646834651\n",
        "(1,18)     0.0                   0.023736198128080914    0.6063782578186141\n",
        "(1,17)     0.0                   0.023730121627210766    0.6952586079881584\n",
        "(4,14)     0.0                   0.023588811874068045    0.6260988900453932\n",
        "(4,5)      0.0                   0.023174710869074727    0.56699054694383\n",
        "(4,7)      0.0                   0.023052404244735133    0.623690377279721\n",
        "(17,18)    0.0                   0.022022540748255652    0.6180586545251112\n",
        "(6,13)     0.0                   0.021986167393103277    0.6589321290170393\n",
        "(13,15)    0.0                   0.021949867980983123    0.6988702527602362\n",
        "(4,6)      0.0                   0.02193191663857738     0.879659272369622\n",
        "(4,13)     0.0                   0.020498118106199528    0.5629666225218524\n",
        "(1,6)      0.0                   0.020426675439832783    0.5636351655214263\n",
        "(1,15)     0.0                   0.020319393981408494    0.5869075105117653\n",
        "(6,17)     0.0                   0.019808703596555007    0.6047155080193799\n",
        "(15,17)    0.0                   0.019470282588034047    0.5994059953988181\n",
        "(1,4)      0.0                   0.0192228429050007      0.49412527688000013\n",
        "(4,17)     0.0                   0.01802342671588413     0.5250061637097349\n"
       ]
      },
      {
       "output_type": "stream",
       "stream": "stderr",
       "text": []
      }
     ],
     "prompt_number": 58
    },
    {
     "cell_type": "code",
     "collapsed": false,
     "input": [
      "val modelSR = PottsModel(numSites, smallDomain)\n",
      "val sampler = new GibbsSampler(modelSR, objectiveModel)"
     ],
     "language": "python",
     "metadata": {},
     "outputs": [
      {
       "output_type": "stream",
       "stream": "stderr",
       "text": []
      },
      {
       "output_type": "stream",
       "stream": "stdout",
       "text": []
      },
      {
       "metadata": {},
       "output_type": "pyout",
       "prompt_number": 101,
       "text": [
        "cc.factorie.infer.GibbsSampler@26517158"
       ]
      }
     ],
     "prompt_number": 101
    },
    {
     "cell_type": "code",
     "collapsed": false,
     "input": [
      "import cc.factorie.optimize.SampleRankTrainer"
     ],
     "language": "python",
     "metadata": {},
     "outputs": [
      {
       "output_type": "stream",
       "stream": "stdout",
       "text": []
      },
      {
       "output_type": "stream",
       "stream": "stderr",
       "text": []
      }
     ],
     "prompt_number": 102
    },
    {
     "cell_type": "code",
     "collapsed": false,
     "input": [
      "val SRTrainer = new SampleRankTrainer(modelSR.parameters, sampler)"
     ],
     "language": "python",
     "metadata": {},
     "outputs": [
      {
       "output_type": "stream",
       "stream": "stdout",
       "text": []
      },
      {
       "output_type": "stream",
       "stream": "stderr",
       "text": []
      },
      {
       "metadata": {},
       "output_type": "pyout",
       "prompt_number": 103,
       "text": [
        "cc.factorie.optimize.SampleRankTrainer@3aec9f5e"
       ]
      }
     ],
     "prompt_number": 103
    },
    {
     "cell_type": "code",
     "collapsed": false,
     "input": [
      "vectors(0)"
     ],
     "language": "python",
     "metadata": {},
     "outputs": [
      {
       "output_type": "stream",
       "stream": "stderr",
       "text": []
      },
      {
       "output_type": "stream",
       "stream": "stdout",
       "text": []
      },
      {
       "metadata": {},
       "output_type": "pyout",
       "prompt_number": 133,
       "text": [
        "Vector(0: n, 1: t, 2: i, 3: w, 4: a, 5: i, 6: y, 7: c, 8: k, 9: f)"
       ]
      }
     ],
     "prompt_number": 133
    },
    {
     "cell_type": "code",
     "collapsed": false,
     "input": [
      "Timer.start\n",
      "for(v <- vectors) SRTrainer.processContexts(v, iterations=10)\n",
      "ModelValidator(trueM, modelSR, mis).printStats\n",
      "print(\"--\")\n",
      "Timer.stop"
     ],
     "language": "python",
     "metadata": {},
     "outputs": [
      {
       "output_type": "stream",
       "stream": "stdout",
       "text": []
      },
      {
       "output_type": "stream",
       "stream": "stderr",
       "text": []
      }
     ],
     "prompt_number": 99
    },
    {
     "cell_type": "code",
     "collapsed": false,
     "input": [
      "import cc.factorie.infer.{SamplingMaximizer, VariableSettingsSampler}"
     ],
     "language": "python",
     "metadata": {},
     "outputs": [
      {
       "output_type": "stream",
       "stream": "stdout",
       "text": []
      },
      {
       "output_type": "stream",
       "stream": "stderr",
       "text": []
      }
     ],
     "prompt_number": 118
    },
    {
     "cell_type": "code",
     "collapsed": false,
     "input": [
      "val maximizer = new SamplingMaximizer[Spin](new VariableSettingsSampler(objectiveModel))"
     ],
     "language": "python",
     "metadata": {},
     "outputs": [
      {
       "output_type": "stream",
       "stream": "stdout",
       "text": []
      },
      {
       "output_type": "stream",
       "stream": "stderr",
       "text": []
      },
      {
       "metadata": {},
       "output_type": "pyout",
       "prompt_number": 119,
       "text": [
        "cc.factorie.infer.SamplingMaximizer@41905f0e"
       ]
      }
     ],
     "prompt_number": 119
    },
    {
     "cell_type": "code",
     "collapsed": false,
     "input": [
      "vectors(0)"
     ],
     "language": "python",
     "metadata": {},
     "outputs": [
      {
       "output_type": "stream",
       "stream": "stdout",
       "text": []
      },
      {
       "output_type": "stream",
       "stream": "stderr",
       "text": []
      },
      {
       "metadata": {},
       "output_type": "pyout",
       "prompt_number": 134,
       "text": [
        "Vector(0: n, 1: t, 2: i, 3: w, 4: a, 5: i, 6: y, 7: c, 8: k, 9: f)"
       ]
      }
     ],
     "prompt_number": 134
    },
    {
     "cell_type": "code",
     "collapsed": false,
     "input": [
      "maximizer.maximize(vectors(0), iterations=100, rounds=10)"
     ],
     "language": "python",
     "metadata": {},
     "outputs": [
      {
       "output_type": "stream",
       "stream": "stdout",
       "text": []
      },
      {
       "output_type": "stream",
       "stream": "stderr",
       "text": []
      },
      {
       "metadata": {},
       "output_type": "pyout",
       "prompt_number": 139,
       "text": [
        "Set()"
       ]
      }
     ],
     "prompt_number": 139
    },
    {
     "cell_type": "code",
     "collapsed": false,
     "input": [
      "vectors(0)"
     ],
     "language": "python",
     "metadata": {},
     "outputs": [
      {
       "output_type": "stream",
       "stream": "stdout",
       "text": []
      },
      {
       "output_type": "stream",
       "stream": "stderr",
       "text": []
      },
      {
       "metadata": {},
       "output_type": "pyout",
       "prompt_number": 138,
       "text": [
        "Vector(0: h, 1: a, 2: e, 3: w, 4: v, 5: r, 6: v, 7: s, 8: i, 9: a)"
       ]
      }
     ],
     "prompt_number": 138
    },
    {
     "cell_type": "code",
     "collapsed": false,
     "input": [],
     "language": "python",
     "metadata": {},
     "outputs": []
    }
   ],
   "metadata": {}
  }
 ]
}