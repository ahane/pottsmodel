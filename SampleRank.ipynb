{
 "metadata": {
  "name": ""
 },
 "nbformat": 3,
 "nbformat_minor": 0,
 "worksheets": [
  {
   "cells": [
    {
     "cell_type": "code",
     "collapsed": false,
     "input": [
      "import cc.factorie._\n",
      "import cc.factorie.directed._\n",
      "import la.{DenseTensor2, Tensor2, DenseTensor1, Tensor1, Tensor}\n",
      "import cc.factorie.directed.{MaximizeMultivariateGaussianCovariance, MaximizeMultivariateGaussianMean, MultivariateGaussian, Gaussian}\n",
      "//import collection.mutable.{Map}\n",
      "import collection.mutable.{ArrayBuffer}\n",
      "import cc.factorie.variable.{CategoricalDomain, CategoricalVariable, DoubleVariable, MutableDiscreteVar}\n",
      "import cc.factorie.model.{Parameters, Model, Factor, DotFamilyWithStatistics1, DotFamilyWithStatistics2, Weights2, WeightsMap,WeightsSet}\n",
      "import cc.factorie.la.{DenseTensor1, DenseTensor2}"
     ],
     "language": "python",
     "metadata": {},
     "outputs": [
      {
       "output_type": "stream",
       "stream": "stdout",
       "text": []
      },
      {
       "output_type": "stream",
       "stream": "stderr",
       "text": []
      }
     ],
     "prompt_number": 1
    },
    {
     "cell_type": "code",
     "collapsed": false,
     "input": [
      "implicit val random = scala.util.Random"
     ],
     "language": "python",
     "metadata": {},
     "outputs": [
      {
       "output_type": "stream",
       "stream": "stderr",
       "text": []
      },
      {
       "output_type": "stream",
       "stream": "stdout",
       "text": []
      },
      {
       "metadata": {},
       "output_type": "pyout",
       "prompt_number": 2,
       "text": [
        "scala.util.Random$@29a773bd"
       ]
      }
     ],
     "prompt_number": 2
    },
    {
     "cell_type": "code",
     "collapsed": false,
     "input": [
      "object spinDomain extends CategoricalDomain[Char](List('a', 'r', 'n', 'd', 'c', 'q', 'e', 'g', 'h', 'i', 'l', 'k', 'm', 'f', 'p', 's', 't', 'w', 'y', 'v', '-'))  "
     ],
     "language": "python",
     "metadata": {},
     "outputs": [
      {
       "output_type": "stream",
       "stream": "stderr",
       "text": []
      },
      {
       "output_type": "stream",
       "stream": "stdout",
       "text": []
      },
      {
       "metadata": {},
       "output_type": "pyout",
       "prompt_number": 3,
       "text": [
        "CategoricalDomain[](21)"
       ]
      }
     ],
     "prompt_number": 3
    },
    {
     "cell_type": "code",
     "collapsed": false,
     "input": [
      "class GREMLINWeightGenerator(\n",
      "    val domain: CategoricalDomain[Char], \n",
      "    val numSites: Int, \n",
      "    val edgeProbability: Double,\n",
      "    val loopFree: Boolean,\n",
      "    val gamma_shape: Double = 1,\n",
      "    val gamma_scale: Double = 2,\n",
      "    val localMean: Double = 0,\n",
      "    val localVariance: Double = 1.0,\n",
      "    val pairwiseMean: Double = 0,\n",
      "    val pairwiseVariance: Double = 3.0)(implicit val random: scala.util.Random)  {\n",
      "    \n",
      "    \n",
      "    //allEdges contains all permutations of our\n",
      "    val allEdges = (for(i <- 0 until numSites; j <- 0 until numSites if i < j) yield (i, j)).toSet\n",
      "    val activeEdges = if(loopFree) {\n",
      "                                    drawFromSetLoopFree(edgeProbability, allEdges)\n",
      "                      } else {\n",
      "                              drawFromSet(edgeProbability, allEdges)\n",
      "                      }\n",
      "                              \n",
      "    \n",
      "    def drawFromSet[A](p: Double, s: Set[A]): Set[A] = {\n",
      "        val drawn = for(i <- s if random.nextDouble < p) yield i\n",
      "        drawn\n",
      "    }\n",
      "    \n",
      "    def drawFromSetLoopFree(p: Double, s: Set[(Int, Int)]): Set[(Int, Int)] = {\n",
      "        val drawn: ArrayBuffer[(Int, Int)] = new ArrayBuffer\n",
      "        var already_connected: Set[Int] = Set()\n",
      "        for(e <- s) {\n",
      "            if(random.nextDouble < 0.3) {\n",
      "                if(!((already_connected contains e._1) && (already_connected contains e._2))) {\n",
      "                    drawn += e\n",
      "                    already_connected += e._1\n",
      "                    already_connected += e._2\n",
      "                }\n",
      "            }\n",
      "        }\n",
      "        drawn.toSet\n",
      "    } \n",
      "    \n",
      "    def generateLocalMassesGamma: IndexedSeq[DenseTensor1] = {\n",
      "        implicit val model = DirectedModel()\n",
      "        \n",
      "        val shape = new DoubleVariable(gamma_shape)\n",
      "        val scale = new DoubleVariable(gamma_scale)\n",
      "        \n",
      "        val localMasses = for(i <- 0 until numSites) yield new DenseTensor1(domain.size)\n",
      "        for(massTensor <- localMasses){\n",
      "            for(i <- 0 until massTensor.dim1){\n",
      "                val mass = new DoubleVariable :~ Gamma(shape, scale)\n",
      "                massTensor(i) = mass.value\n",
      "            }\n",
      "        }\n",
      "        localMasses\n",
      "    }\n",
      "    \n",
      "    def generateLocalMassesNormal: IndexedSeq[DenseTensor1] = {\n",
      "        implicit val model = DirectedModel()\n",
      "        \n",
      "        val mean = new DoubleVariable(localMean)\n",
      "        val variance = new DoubleVariable(localVariance)\n",
      "        \n",
      "        val localMasses = for(i <- 0 until numSites) yield new DenseTensor1(domain.size)\n",
      "        for(massTensor <- localMasses){\n",
      "            for(i <- 0 until massTensor.dim1){\n",
      "                val mass = new DoubleVariable :~ Gaussian(mean, variance)\n",
      "                massTensor(i) = mass.value\n",
      "            }\n",
      "        }\n",
      "        localMasses\n",
      "    }\n",
      "    \n",
      "    def generatePairwiseMassesNormal: Map[(Int, Int), DenseTensor2] = {\n",
      "        val pairMasses: Map[(Int, Int), DenseTensor2] =(for(e <- activeEdges) yield (e -> generatePairwiseTensorNormal)).toMap\n",
      "        pairMasses\n",
      "    }\n",
      "    \n",
      "    def generatePairwiseTensorNormal: DenseTensor2 = {\n",
      "        implicit val model = DirectedModel()\n",
      "        \n",
      "        val mean = new DoubleVariable(pairwiseMean)\n",
      "        val variance = new DoubleVariable(pairwiseVariance)\n",
      "        \n",
      "        val tensor = new DenseTensor2(domain.size, domain.size)\n",
      "        for(a1 <- 0 until domain.size; a2 <- 0 until domain.size if a1 <= a2) {\n",
      "        //for(a1 <- 0 until domain.size; a2 <- 0 until domain.size) {\n",
      "            val mass = new DoubleVariable :~ Gaussian(mean, variance)\n",
      "            //our masses are symmetric, as we only have one factor for (i, j) and (j, i)\n",
      "            tensor(a1, a2) = mass.value\n",
      "            tensor(a2, a1) = mass.value\n",
      "        }\n",
      "        tensor\n",
      "    }\n",
      "        \n",
      "    def generatePairwiseMassesGamma: Map[(Int, Int), DenseTensor2] = {\n",
      "        val pairMasses: Map[(Int, Int), DenseTensor2] =(for(e <- activeEdges) yield (e -> generatePairwiseTensorGamma)).toMap\n",
      "        pairMasses\n",
      "    }\n",
      "    \n",
      "    def generatePairwiseTensorGamma: DenseTensor2 = {\n",
      "        implicit val model = DirectedModel()\n",
      "        \n",
      "        val shape = new DoubleVariable(gamma_shape)\n",
      "        val scale = new DoubleVariable(gamma_scale)\n",
      "        \n",
      "        val tensor = new DenseTensor2(domain.size, domain.size)\n",
      "        for(a1 <- 0 until domain.size; a2 <- 0 until domain.size if a1 <= a2) {\n",
      "            val mass = new DoubleVariable :~ Gamma(shape, scale)\n",
      "            //our weights are \n",
      "            tensor(a1, a2) = mass.value\n",
      "            tensor(a2, a1) = mass.value\n",
      "        }\n",
      "        tensor\n",
      "    }\n",
      "}\n",
      "\n",
      "object GREMLINWeightGenerator {\n",
      "    def apply(domain: CategoricalDomain[Char], n: Int, p: Double, lf: Boolean) = new GREMLINWeightGenerator(domain, n, p, lf)\n",
      "    def apply(domain: CategoricalDomain[Char], p: Double, lf: Boolean) = new GREMLINWeightGenerator(domain, 10, p, lf)\n",
      "}"
     ],
     "language": "python",
     "metadata": {},
     "outputs": [
      {
       "output_type": "stream",
       "stream": "stdout",
       "text": []
      },
      {
       "output_type": "stream",
       "stream": "stderr",
       "text": []
      },
      {
       "metadata": {},
       "output_type": "pyout",
       "prompt_number": 4,
       "text": [
        "GREMLINWeightGenerator$@8c286cd"
       ]
      }
     ],
     "prompt_number": 4
    },
    {
     "cell_type": "code",
     "collapsed": false,
     "input": [
      "class Spin(c: Char, val i: Int, d: CategoricalDomain[Char]) extends CategoricalVariable[Char](c){\n",
      "    \n",
      "    //This is how FACTORIE assigns domains to variables.\n",
      "    def domain = d\n",
      "    \n",
      "    //This is our own construct, to enable a spin to know what sample it is part of\n",
      "    var cont: IndexedSeq[Spin] = null\n",
      "    def setContainer(container: IndexedSeq[Spin]): Unit = {this.cont = container}\n",
      "    \n",
      "    override def toString = this.i.toString + \": \" + this.value.toString  \n",
      "}\n",
      "\n",
      "//Scalas companion objects allow for convenient Factory methods\n",
      "object Spin {\n",
      "    \n",
      "    //The standard factory method, removes the need to use 'new' when creating instances.\n",
      "    def apply(c: Char, i: Int, d: CategoricalDomain[Char]): Spin = new Spin(c, i, d)\n",
      "    \n",
      "    \n",
      "    //Some factory methods vor creating spin vectors ie. protein samples.\n",
      "    \n",
      "    //This factory is used for to read in a single sample from the dataset.\n",
      "    def vector(s: String, d: CategoricalDomain[Char]): IndexedSeq[Spin] = {\n",
      "        val vector = for((c, i) <- s.zipWithIndex) yield Spin(c, i, d)\n",
      "        vector.foreach(_.setContainer(vector))\n",
      "        vector\n",
      "    }\n",
      "    \n",
      "    //Initialized a vector with all spins having the same value. Used for creating fake data.\n",
      "    def vector(c: Char, numSites: Int, d: CategoricalDomain[Char]): IndexedSeq[Spin] = {\n",
      "        val vector = for(i <- 0 until numSites) yield Spin(c, i, d)\n",
      "        vector.foreach(_.setContainer(vector))\n",
      "        vector\n",
      "    }\n",
      "}"
     ],
     "language": "python",
     "metadata": {},
     "outputs": [
      {
       "output_type": "stream",
       "stream": "stdout",
       "text": []
      },
      {
       "output_type": "stream",
       "stream": "stderr",
       "text": []
      },
      {
       "metadata": {},
       "output_type": "pyout",
       "prompt_number": 5,
       "text": [
        "Spin$@77c4e870"
       ]
      }
     ],
     "prompt_number": 5
    },
    {
     "cell_type": "code",
     "collapsed": false,
     "input": [
      "class PottsModel(\n",
      "    val domain: CategoricalDomain[Char], \n",
      "    val localMasses: IndexedSeq[DenseTensor1],\n",
      "    val pairwiseMasses: Map[(Int, Int), DenseTensor2])\n",
      "    extends Model with Parameters {\n",
      "    \n",
      "    /* We initialize our 'families' which contain an inner class to create factors on the fly.\n",
      "     * There is a 1:1 relationship between the factors in our model and the families.\n",
      "     * Wether or not two spins are connected is not defined in this class, it simply creates Families\n",
      "     * for all the tensors it has received in its constructor argumetn pairwiseMasses. Those are created in a \n",
      "     * factory method in the companion object below.\n",
      "     */\n",
      "    val localFamilies: IndexedSeq[DotFamilyWithStatistics1[Spin]] = \n",
      "        for(m <- localMasses) yield new DotFamilyWithStatistics1[Spin] { val weights = Weights(m) }\n",
      "                                       \n",
      "    val pairwiseFamilies: Map[(Int, Int), DotFamilyWithStatistics2[Spin, Spin]] =\n",
      "        for((k, m) <- pairwiseMasses) yield (k -> new DotFamilyWithStatistics2[Spin, Spin] { val weights = Weights(m) })\n",
      "    \n",
      "    \n",
      "    /* The essantial method that has to be implemented by a any model. Here is where the 'imperative freedom' of IDF happens.\n",
      "     * We chose to include a reference of all possible neighbours in the Spin.cont member. We then iterate over them \n",
      "     * and see if our model contains a family for that neighbour, create a factor if it does and add it to the results.\n",
      "     */\n",
      "    def factors(variables: Iterable[Var]): Iterable[Factor] = {\n",
      "        val factors = new ArrayBuffer[Factor]\n",
      "        \n",
      "        //a simple cast of varriables from Var to Spin\n",
      "        val possibleNeighbours = variables collect {case s: Spin => s}\n",
      "        \n",
      "        for(s <- possibleNeighbours){\n",
      "                val localFamily = localFamilies(s.i)\n",
      "                factors += localFamily.Factor(s)\n",
      "            \n",
      "                val existingConnections = pairwiseFamilies.keys.filter((k: (Int, Int)) => k._1 == s.i || k._2 == s.i)\n",
      "                for(k <- existingConnections) {\n",
      "                    val pairwiseFamily = pairwiseFamilies(k)\n",
      "                    factors += pairwiseFamily.Factor(s.cont(k._1), s.cont(k._2))\n",
      "                }\n",
      "        }\n",
      "        factors\n",
      "    }\n",
      "}\n",
      "    \n",
      "object PottsModel {\n",
      "    \n",
      "    /* If we receive pairwises and local masses we create initialize the model. They might come from a synthetic model generator \n",
      "     * or from the other factory methods below.\n",
      "     */\n",
      "    def apply(localMasses: IndexedSeq[DenseTensor1], pairwiseMasses: Map[(Int, Int), DenseTensor2], domain: CategoricalDomain[Char]): PottsModel = {\n",
      "        new PottsModel(domain, localMasses, pairwiseMasses)\n",
      "    }\n",
      "    /* If just the number of variables and the domain is supplied, we create a completely connected model with weights initialized to zero.\n",
      "     */\n",
      "    def apply(numSites: Int, domain: CategoricalDomain[Char]): PottsModel = {\n",
      "        val localMasses = for(i <- 0 until numSites) yield new DenseTensor1(domain.size)\n",
      "        val pairwiseMasses = (for(i <- 0 until numSites; j <- 0 until numSites if i < j) yield ((i, j), new DenseTensor2(domain.size, domain.size))).toMap\n",
      "        \n",
      "        new PottsModel(domain, localMasses, pairwiseMasses)\n",
      "    }\n",
      "    \n",
      "    /* This factory initializes a completely connected model, but initializes the local masses to be the the logarithms of  \n",
      "     * the local freuencies counted in a dataset. We add a pseudocount to deter limited sampling size effects.\n",
      "     */\n",
      "    def logFreqsAsLocalWeights(samples: Seq[IndexedSeq[Spin]], domain: CategoricalDomain[Char]): PottsModel = {\n",
      "        val PSEUDOCOUNT = 2.\n",
      "        assert(samples.forall(_.length == samples(0).length), \"Samples must all be of same length.\")\n",
      "        val numSites = samples(0).length\n",
      "        val numSamples = samples.toList.length\n",
      "        val model = PottsModel(numSites, domain)\n",
      "        \n",
      "        //\n",
      "        for ((family, i) <- model.localFamilies.zipWithIndex) {\n",
      "            val weightTensor = model.parameters(family.weights)\n",
      "            \n",
      "            val pseudoCountTensor = weightTensor.copy\n",
      "            for(i <- 0 until pseudoCountTensor.asArray.length) pseudoCountTensor.update(i, PSEUDOCOUNT)\n",
      "            weightTensor += pseudoCountTensor\n",
      "            \n",
      "            for(s <- samples) {\n",
      "                val factor = family.Factor(s(i))\n",
      "                weightTensor += factor.currentStatistics\n",
      "            }\n",
      "            weightTensor *= 1./(numSamples + (domain.size * PSEUDOCOUNT))\n",
      "            \n",
      "            for(i <- 0 until weightTensor.length) weightTensor.update(i, math.log(weightTensor(i)))\n",
      "        }\n",
      "        model\n",
      "    }      \n",
      "    \n",
      "    \n",
      "    /* This was an attemt to use the frequencies as an objective model. We do not use this. Consider removal */\n",
      "    def frequenciesAsWeights(samples: Seq[IndexedSeq[Spin]], domain: CategoricalDomain[Char]): PottsModel = {\n",
      "        val PSEUDOCOUNT = 2.\n",
      "        assert(samples.forall(_.length == samples(0).length), \"Samples must all be of same length.\")\n",
      "        val numSites = samples(0).length\n",
      "        val numSamples = samples.toList.length\n",
      "        val model = PottsModel(numSites, domain)\n",
      "        \n",
      "        for ((key, family) <- model.pairwiseFamilies) {\n",
      "            val weightTensor = model.parameters(family.weights)\n",
      "            \n",
      "            //we add a pseudocount as in [Weight08]\n",
      "            val pseudoCountTensor = weightTensor.copy\n",
      "            for(i <- 0 until pseudoCountTensor.asArray.length) pseudoCountTensor.update(i, (PSEUDOCOUNT/domain.size))\n",
      "            weightTensor += pseudoCountTensor\n",
      "            \n",
      "            for(s <- samples) {\n",
      "                val factor = family.Factor(s(key._1), s(key._2))    \n",
      "                weightTensor += factor.currentStatistics\n",
      "            }\n",
      "            //we correct our denominator by domain.size to account for the pseudocount\n",
      "            weightTensor *= 1./(numSamples + (domain.size * PSEUDOCOUNT))\n",
      "            for(i <- 0 until weightTensor.length) weightTensor.update(i, math.log(weightTensor(i)))\n",
      "        }\n",
      "        for ((family, i) <- model.localFamilies.zipWithIndex) {\n",
      "            val weightTensor = model.parameters(family.weights)\n",
      "            \n",
      "            val pseudoCountTensor = weightTensor.copy\n",
      "            for(i <- 0 until pseudoCountTensor.asArray.length) pseudoCountTensor.update(i, PSEUDOCOUNT)\n",
      "            weightTensor += pseudoCountTensor\n",
      "            \n",
      "            for(s <- samples) {\n",
      "                val factor = family.Factor(s(i))\n",
      "                weightTensor += factor.currentStatistics\n",
      "            }\n",
      "            weightTensor *= 1./(numSamples + (domain.size * PSEUDOCOUNT))\n",
      "            for(i <- 0 until weightTensor.length) weightTensor.update(i, math.log(weightTensor(i)))\n",
      "        }\n",
      "        model\n",
      "    }      \n",
      "\n",
      "}"
     ],
     "language": "python",
     "metadata": {},
     "outputs": [
      {
       "output_type": "stream",
       "stream": "stderr",
       "text": []
      },
      {
       "output_type": "stream",
       "stream": "stdout",
       "text": []
      },
      {
       "metadata": {},
       "output_type": "pyout",
       "prompt_number": 6,
       "text": [
        "PottsModel$@67be1b9f"
       ]
      }
     ],
     "prompt_number": 6
    },
    {
     "cell_type": "markdown",
     "metadata": {},
     "source": []
    },
    {
     "cell_type": "code",
     "collapsed": false,
     "input": [
      "import cc.factorie.infer.{VariableSettingsSampler, InferByGibbsSampling, GibbsSampler}"
     ],
     "language": "python",
     "metadata": {},
     "outputs": [
      {
       "output_type": "stream",
       "stream": "stderr",
       "text": []
      },
      {
       "output_type": "stream",
       "stream": "stdout",
       "text": []
      }
     ],
     "prompt_number": 7
    },
    {
     "cell_type": "code",
     "collapsed": false,
     "input": [
      "def generateSampleStrings(N:Int, model: PottsModel, variables: IndexedSeq[Spin], burnin: Int = 1000, thinning: Int = 10): Seq[String] = {\n",
      "    implicit val random = new scala.util.Random(0)                                                                                                   \n",
      "    val sampler = new GibbsSampler(model)\n",
      "    val strings = new ArrayBuffer[String]\n",
      "    for(i <- 0 until (N+burnin)*thinning) {\n",
      "        sampler.processAll(variables)\n",
      "        if(i > burnin || i % 5 == 0) strings += variables.map(_.value).mkString\n",
      "    }\n",
      "    strings\n",
      "}"
     ],
     "language": "python",
     "metadata": {},
     "outputs": [
      {
       "output_type": "stream",
       "stream": "stderr",
       "text": []
      },
      {
       "output_type": "stream",
       "stream": "stdout",
       "text": []
      }
     ],
     "prompt_number": 8
    },
    {
     "cell_type": "code",
     "collapsed": false,
     "input": [
      "object Timer {\n",
      "    var t: Long = 0\n",
      "    def start: Unit = { t = System.currentTimeMillis }\n",
      "    def stop: Long = { System.currentTimeMillis - t}\n",
      "}"
     ],
     "language": "python",
     "metadata": {},
     "outputs": [
      {
       "output_type": "stream",
       "stream": "stderr",
       "text": []
      },
      {
       "output_type": "stream",
       "stream": "stdout",
       "text": []
      },
      {
       "metadata": {},
       "output_type": "pyout",
       "prompt_number": 9,
       "text": [
        "Timer$@4289a2cd"
       ]
      }
     ],
     "prompt_number": 9
    },
    {
     "cell_type": "code",
     "collapsed": false,
     "input": [
      "class ModelValidator(val trueModel: PottsModel, val proposedModel: PottsModel, val stats: Map[(Int, Int), Double]) {\n",
      "    val allNorms =\n",
      "        (for {(key, family) <- proposedModel.pairwiseFamilies //the proposedModel is completely connected\n",
      "                \n",
      "                val trueNorm = if(trueModel.pairwiseFamilies.keys.toSet.contains(key)) \n",
      "                               fNorm(trueModel.parameters(trueModel.pairwiseFamilies(key).weights)) \n",
      "                           else\n",
      "                               0.0\n",
      "                //propNorm = fNorm(proposedModel.parameters(family.weights))\n",
      "                val propNorm = fNorm(proposedModel.parameters(proposedModel.pairwiseFamilies(key).weights))\n",
      "            }\n",
      "            yield (key, (trueNorm, propNorm))).toMap\n",
      "    \n",
      "    \n",
      "    val allSquaredErrors = (for((trueValue, proposedValue) <- allNorms.values) yield squaredError(trueValue, proposedValue))\n",
      "    \n",
      "    val meanSquaredError = allSquaredErrors.sum / allSquaredErrors.toList.length\n",
      "    \n",
      "    def squaredError(values: Tuple2[Double, Double]): Double = math.pow((values._1 - values._2), 2)                                                                                       \n",
      "    \n",
      "    def printStats(): Unit = {\n",
      "            val sorted = allNorms.toList.sortBy(_._2._2).reverse //sort by trueNorm\n",
      "            val maxKeyLength = allNorms.toList.map(_._1).map(k => k._1.toString.length + k._1.toString.length).max\n",
      "            val maxTrueNormLength = allNorms.toList.map(_._2._1).map(_.toString.length).max\n",
      "            val maxPropNormLength = allNorms.toList.map(_._2._2).map(_.toString.length).max\n",
      "            for ((k, v) <- sorted) {\n",
      "                val keyLength: Int = k._1.toString.length + k._2.toString.length\n",
      "                print(k)\n",
      "                for(i <- 0 until maxKeyLength - keyLength) print(\" \")\n",
      "                print(\"    \")\n",
      "                print(v._1)\n",
      "                for(i <- 0 until maxTrueNormLength - v._1.toString.length) print(\" \")\n",
      "                print(\"    \")\n",
      "                print(v._2)\n",
      "                for(i <- 0 until maxPropNormLength - v._2.toString.length) print(\" \")\n",
      "                print(\"    \")\n",
      "                if(stats != null) print(stats(k))\n",
      "                println()\n",
      "            }\n",
      "        }\n",
      "        \n",
      "        \n",
      "    \n",
      "    //The frobenius norm\n",
      "    def fNorm(w: Tensor): Double = {\n",
      "        val t = w.asInstanceOf[DenseTensor2]\n",
      "        def averageOverRow(t: DenseTensor2, k: Int): Double = {\n",
      "            // J_ij(k, .) k being a row\n",
      "            val row = for(l <- 0 until t.dim2) yield t(k, l)\n",
      "            row.sum/row.length\n",
      "        }    \n",
      "        def averageOverCol(t: DenseTensor2, l: Int): Double = {\n",
      "            // J_ij(., l) l being a column\n",
      "            val col = for(k <- 0 until t.dim1) yield t(k, l)\n",
      "            col.sum/col.length\n",
      "        }\n",
      "        val totalAverage: Double = t.sum/t.length\n",
      "        val transformed: DenseTensor2 = t.copy\n",
      "        for(k <- 0 until t.dim1; l <- 0 until t.dim2) {\n",
      "            transformed(k, l) = t(k, l) - averageOverRow(t, k) - averageOverCol(t, l) + totalAverage\n",
      "        }\n",
      "        math.sqrt(transformed.twoNorm)\n",
      "    }\n",
      "}\n",
      "object ModelValidator {\n",
      "    def apply(proposedModel: PottsModel, trueModel: PottsModel) = new ModelValidator(proposedModel, trueModel, null)\n",
      "    def apply(proposedModel: PottsModel, trueModel: PottsModel, stats: Map[(Int, Int), Double]) = new ModelValidator(proposedModel, trueModel, stats)\n",
      "}"
     ],
     "language": "python",
     "metadata": {},
     "outputs": [
      {
       "output_type": "stream",
       "stream": "stdout",
       "text": []
      },
      {
       "output_type": "stream",
       "stream": "stderr",
       "text": []
      },
      {
       "metadata": {},
       "output_type": "pyout",
       "prompt_number": 10,
       "text": [
        "ModelValidator$@1d8967b8"
       ]
      }
     ],
     "prompt_number": 10
    },
    {
     "cell_type": "code",
     "collapsed": false,
     "input": [
      "import cc.factorie.optimize._\n",
      "import cc.factorie.infer.{InferByBPLoopy, InferByGibbsSampling}"
     ],
     "language": "python",
     "metadata": {},
     "outputs": [
      {
       "output_type": "stream",
       "stream": "stdout",
       "text": []
      },
      {
       "output_type": "stream",
       "stream": "stderr",
       "text": []
      }
     ],
     "prompt_number": 11
    },
    {
     "cell_type": "code",
     "collapsed": false,
     "input": [
      "implicit val random = scala.util.Random"
     ],
     "language": "python",
     "metadata": {},
     "outputs": [
      {
       "output_type": "stream",
       "stream": "stdout",
       "text": []
      },
      {
       "output_type": "stream",
       "stream": "stderr",
       "text": []
      },
      {
       "metadata": {},
       "output_type": "pyout",
       "prompt_number": 12,
       "text": [
        "scala.util.Random$@29a773bd"
       ]
      }
     ],
     "prompt_number": 12
    },
    {
     "cell_type": "code",
     "collapsed": false,
     "input": [],
     "language": "python",
     "metadata": {},
     "outputs": [],
     "prompt_number": 12
    },
    {
     "cell_type": "code",
     "collapsed": false,
     "input": [
      "//we add a pseudocount of 1\n",
      "class Counter(var value: Double=1) {\n",
      "    def add(t: Double): Unit = {value += t}\n",
      "    def divide(t: Double): Unit = {value *= 1/t}\n",
      "    override def toString: String = {value.toString}\n",
      "}"
     ],
     "language": "python",
     "metadata": {},
     "outputs": [
      {
       "output_type": "stream",
       "stream": "stdout",
       "text": []
      },
      {
       "output_type": "stream",
       "stream": "stderr",
       "text": []
      }
     ],
     "prompt_number": 13
    },
    {
     "cell_type": "code",
     "collapsed": false,
     "input": [
      "//merge this mith PottsModel.frequenciesAsWeights\n",
      "class MutualInformation(val samples: Seq[String], domain: CategoricalDomain[Char]) {\n",
      "    val total = samples.length\n",
      "    val numSites = samples(0).length\n",
      "    val categories = domain.categories\n",
      "    \n",
      "    val localFreqs = countLocalFrequencies\n",
      "    val pairwiseFreqs = countPairwiseFrequencies\n",
      "    \n",
      "    \n",
      "    def makeLocalCountsMap: Map[Char, Counter] = (for(c <- categories) yield (c, new Counter)).toMap\n",
      "    def countLocalFrequencies: IndexedSeq[Map[Char, Counter]] = {\n",
      "        val sitewiseCountMaps: IndexedSeq[Map[Char, Counter]] = for(i <- 0 until numSites) yield makeLocalCountsMap\n",
      "        \n",
      "        for(sample <- samples; (category, i) <- sample.zipWithIndex) sitewiseCountMaps(i)(category).add(1)\n",
      "        \n",
      "        for(countMap <- sitewiseCountMaps; c <- categories) countMap(c).divide(total)\n",
      "        sitewiseCountMaps\n",
      "    }\n",
      "    \n",
      "    def makePairwiseCountsMap: Map[(Char, Char), Counter] = (for(c1 <- categories; c2 <- categories) yield ((c1, c2), new Counter)).toMap\n",
      "    def countPairwiseFrequencies: Map[(Int, Int), Map[(Char, Char), Counter]] = {\n",
      "   \n",
      "        val pairwiseCountMaps: Map[(Int, Int), Map[(Char, Char), Counter]] = (for(i <- 0 until numSites; j <- 0 until numSites) yield ((i, j), makePairwiseCountsMap)).toMap\n",
      "    \n",
      "        for(sample <- samples; (c_i, i) <- sample.zipWithIndex; (c_j, j) <- sample.zipWithIndex) pairwiseCountMaps(i, j)(c_i, c_j).add(1)\n",
      "        for(countMap <- pairwiseCountMaps.values; c_i <- categories; c_j <- categories) countMap(c_i, c_j).divide(total)\n",
      "        pairwiseCountMaps\n",
      "    }\n",
      "    \n",
      "    def MI(i: Int, j: Int): Double = { \n",
      "        val f_i = localFreqs(i)\n",
      "        val f_j = localFreqs(j)\n",
      "        val f_ij = pairwiseFreqs(i, j)\n",
      "        \n",
      "        (for(k <- categories; l <- categories) yield (f_ij(k, l).value*math.log(f_ij(k,l).value/(f_i(k).value*f_j(l).value)))).sum\n",
      "        \n",
      "    }\n",
      "    val allMIs: Map[(Int, Int), Double] = (for(i <- 0 until numSites; j <- 0 until numSites if i < j) yield ((i, j), MI(i, j))).toMap\n",
      "}\n",
      "object MutualInformation {\n",
      "        def apply(samples: Seq[String], domain: CategoricalDomain[Char]) = new MutualInformation(samples, domain)\n",
      "}"
     ],
     "language": "python",
     "metadata": {},
     "outputs": [
      {
       "output_type": "stream",
       "stream": "stderr",
       "text": []
      },
      {
       "output_type": "stream",
       "stream": "stdout",
       "text": []
      },
      {
       "metadata": {},
       "output_type": "pyout",
       "prompt_number": 14,
       "text": [
        "MutualInformation$@51211779"
       ]
      }
     ],
     "prompt_number": 14
    },
    {
     "cell_type": "code",
     "collapsed": false,
     "input": [
      "import cc.factorie.infer.Sampler"
     ],
     "language": "python",
     "metadata": {},
     "outputs": [
      {
       "output_type": "stream",
       "stream": "stdout",
       "text": []
      },
      {
       "output_type": "stream",
       "stream": "stderr",
       "text": []
      }
     ],
     "prompt_number": 21
    },
    {
     "cell_type": "code",
     "collapsed": false,
     "input": [
      "val a = Map('a' -> 3, 'b' -> 5, 'c' -> 1)"
     ],
     "language": "python",
     "metadata": {},
     "outputs": [
      {
       "output_type": "stream",
       "stream": "stderr",
       "text": []
      },
      {
       "output_type": "stream",
       "stream": "stdout",
       "text": []
      },
      {
       "metadata": {},
       "output_type": "pyout",
       "prompt_number": 50,
       "text": [
        "Map(a -> 3, b -> 5, c -> 1)"
       ]
      }
     ],
     "prompt_number": 50
    },
    {
     "cell_type": "code",
     "collapsed": false,
     "input": [
      "a."
     ],
     "language": "python",
     "metadata": {},
     "outputs": [
      {
       "output_type": "stream",
       "stream": "stderr",
       "text": []
      },
      {
       "output_type": "stream",
       "stream": "stdout",
       "text": []
      },
      {
       "metadata": {},
       "output_type": "pyout",
       "prompt_number": 67,
       "text": [
        "true"
       ]
      }
     ],
     "prompt_number": 67
    },
    {
     "cell_type": "code",
     "collapsed": false,
     "input": [
      "val b = List('a', 'b')"
     ],
     "language": "python",
     "metadata": {},
     "outputs": [
      {
       "output_type": "stream",
       "stream": "stderr",
       "text": []
      },
      {
       "output_type": "stream",
       "stream": "stdout",
       "text": []
      },
      {
       "metadata": {},
       "output_type": "pyout",
       "prompt_number": 72,
       "text": [
        "List(a, b)"
       ]
      }
     ],
     "prompt_number": 72
    },
    {
     "cell_type": "code",
     "collapsed": false,
     "input": [
      "assert(b.forall(a.keys.toSet contains _), \"Result doesn't fit dataset\")"
     ],
     "language": "python",
     "metadata": {},
     "outputs": [
      {
       "output_type": "stream",
       "stream": "stdout",
       "text": []
      },
      {
       "output_type": "stream",
       "stream": "stderr",
       "text": []
      }
     ],
     "prompt_number": 73
    },
    {
     "cell_type": "code",
     "collapsed": false,
     "input": [
      "class ConnectionStrengths(val strengths: Map[(Int, Int), Double], val sourceName: String, val source: Any = null){\n",
      "        val sortedByStrength = strengths.toList.sortBy(_._2).reverse\n",
      "}\n",
      "object ConnectionStrengths{\n",
      "               \n",
      "        def apply(model: PottsModel, name: String) = {\n",
      "            val numSites = model.localFamilies.length\n",
      "            val allEdges = (for(i <- 0 until numSites; j <- 0 until numSites if i < j) yield (i, j)).toSet\n",
      "            val families = model.pairwiseFamilies\n",
      "            var strengths: Map[(Int, Int), Double] = Map()\n",
      "            for(edge <- allEdges) {\n",
      "                if(families.keys.toSet contains edge) strengths += (edge -> fNorm(model.parameters(families(edge).weights)))\n",
      "                else strengths += (edge -> 0)\n",
      "            }\n",
      "            new ConnectionStrengths(strengths, name, model)\n",
      "        }\n",
      "        \n",
      "        \n",
      "\n",
      "        private def fNorm(w: Tensor): Double = {\n",
      "            val t = w.asInstanceOf[DenseTensor2]\n",
      "            def averageOverRow(t: DenseTensor2, k: Int): Double = {\n",
      "                // J_ij(k, .) k being a row\n",
      "                val row = for(l <- 0 until t.dim2) yield t(k, l)\n",
      "                row.sum/row.length\n",
      "            }    \n",
      "            def averageOverCol(t: DenseTensor2, l: Int): Double = {\n",
      "                // J_ij(., l) l being a column\n",
      "                val col = for(k <- 0 until t.dim1) yield t(k, l)\n",
      "                col.sum/col.length\n",
      "            }\n",
      "            val totalAverage: Double = t.sum/t.length\n",
      "            val transformed: DenseTensor2 = t.copy\n",
      "            for(k <- 0 until t.dim1; l <- 0 until t.dim2) {\n",
      "                transformed(k, l) = t(k, l) - averageOverRow(t, k) - averageOverCol(t, l) + totalAverage\n",
      "            }\n",
      "            math.sqrt(transformed.twoNorm)\n",
      "        }\n",
      "}\n",
      "    "
     ],
     "language": "python",
     "metadata": {},
     "outputs": [
      {
       "output_type": "stream",
       "stream": "stderr",
       "text": []
      },
      {
       "output_type": "stream",
       "stream": "stdout",
       "text": []
      },
      {
       "metadata": {},
       "output_type": "pyout",
       "prompt_number": 199,
       "text": [
        "ConnectionStrengths$@702e5d88"
       ]
      }
     ],
     "prompt_number": 199
    },
    {
     "cell_type": "code",
     "collapsed": false,
     "input": [
      "e.TPRates(7, \"learned\")"
     ],
     "language": "python",
     "metadata": {},
     "outputs": [
      {
       "output_type": "stream",
       "stream": "stdout",
       "text": []
      },
      {
       "output_type": "stream",
       "stream": "stderr",
       "text": []
      },
      {
       "metadata": {},
       "output_type": "pyout",
       "prompt_number": 214,
       "text": [
        "List(1.0, 1.0, 1.0, 0.75, 0.8, 0.8333333333333334, 0.8571428571428571)"
       ]
      }
     ],
     "prompt_number": 214
    },
    {
     "cell_type": "code",
     "collapsed": false,
     "input": [
      "val e = new Experiment(samples, null)\n",
      "e.addRanking(ConnectionStrengths(trueModel, \"true\"))\n",
      "e.addRanking(ConnectionStrengths(learnedModel, \"learned\"))\n",
      "e.addRanking(ConnectionStrengths(learnedModel, \"learned2\"))\n",
      "e.printOrderedBy(\"learned\")\n"
     ],
     "language": "python",
     "metadata": {},
     "outputs": [
      {
       "output_type": "stream",
       "stream": "stdout",
       "text": [
        "      true               learned             learned2            \n",
        "(0,9) 1.5814433308623703 18.34969673058672   18.34969673058672   \n",
        "(7,9) 1.293474894470445  16.566871684205545  16.566871684205545  \n",
        "(1,8) 1.9925661472767888 15.918849932117714  15.918849932117714  \n",
        "(0,7) 0.0                14.50372217896054   14.50372217896054   \n",
        "(4,6) 1.6475770164764765 14.194210867055428  14.194210867055428  \n",
        "(2,8) 0.6570938445709964 7.937174748608772   7.937174748608772   \n",
        "(1,5) 1.0273735946446727 7.934534261712646   7.934534261712646   \n",
        "(5,8) 0.0                7.326574262088499   7.326574262088499   \n",
        "(3,4) 1.1502163009235964 7.025589682488563   7.025589682488563   \n",
        "(1,2) 0.0                6.910311340155564   6.910311340155564   \n",
        "(3,6) 0.0                6.0837000748865355  6.0837000748865355  \n",
        "(2,5) 0.0                3.7303106069107623  3.7303106069107623  \n",
        "(3,7) 0.0                3.4139606301634955  3.4139606301634955  \n",
        "(4,8) 0.0                3.2739892502929986  3.2739892502929986  \n",
        "(5,9) 0.0                3.2083303536547243  3.2083303536547243  \n",
        "(3,9) 0.0                3.1592066385855797  3.1592066385855797  \n",
        "(5,7) 0.0                3.03810204355819    3.03810204355819    \n",
        "(1,9) 0.0                2.983746403249034   2.983746403249034   \n",
        "(6,9) 0.0                2.9685164411816025  2.9685164411816025  \n",
        "(2,9) 0.0                2.966639780260197   2.966639780260197   \n",
        "(6,8) 0.0                2.7228040585711755  2.7228040585711755  \n",
        "(4,5) 0.0                2.6509043214626837  2.6509043214626837  \n",
        "(7,8) 0.0                2.596622932628883   2.596622932628883   \n",
        "(1,7) 0.0                2.5251581887872536  2.5251581887872536  \n",
        "(2,7) 0.0                2.35011901493785    2.35011901493785    \n",
        "(5,6) 0.0                2.184467116994327   2.184467116994327   \n",
        "(4,9) 0.0                2.149032018416807   2.149032018416807   \n",
        "(0,1) 0.0                2.1479036614121836  2.1479036614121836  \n",
        "(8,9) 0.0                2.0677618459906704  2.0677618459906704  \n",
        "(3,8) 0.0                1.9794043082963408  1.9794043082963408  \n",
        "(1,6) 0.0                1.9047583349359656  1.9047583349359656  \n",
        "(0,4) 0.0                1.85797669710488    1.85797669710488    \n",
        "(0,5) 0.0                1.7613863299507468  1.7613863299507468  \n",
        "(4,7) 0.0                1.6596594276773782  1.6596594276773782  \n",
        "(1,3) 0.0                1.5857356368381184  1.5857356368381184  \n",
        "(1,4) 0.0                1.5560690427965314  1.5560690427965314  \n",
        "(3,5) 0.0                1.3821857568802236  1.3821857568802236  \n",
        "(2,6) 0.0                1.2579009478664132  1.2579009478664132  \n",
        "(0,3) 0.0                1.2261873422498892  1.2261873422498892  \n",
        "(0,8) 0.0                1.1347256624210498  1.1347256624210498  \n",
        "(6,7) 0.0                0.9430668974072414  0.9430668974072414  \n",
        "(0,2) 0.0                0.8604891486545554  0.8604891486545554  \n",
        "(2,3) 0.0                0.7229037785145294  0.7229037785145294  \n",
        "(2,4) 0.0                0.2884661487418563  0.2884661487418563  \n",
        "(0,6) 0.0                0.15243879241166491 0.15243879241166491 \n"
       ]
      },
      {
       "output_type": "stream",
       "stream": "stderr",
       "text": []
      }
     ],
     "prompt_number": 213
    },
    {
     "cell_type": "code",
     "collapsed": false,
     "input": [
      "class Experiment(val samples: Seq[Seq[Spin]], val details: Map[String, String]) {\n",
      "    \n",
      "    assert(samples.forall(_.length == samples(0).length), \"Samples must all be of same length.\")\n",
      "    val numSites = samples(0).length\n",
      "    val allEdges = (for(i <- 0 until numSites; j <- 0 until numSites if i < j) yield (i, j)).toSet\n",
      "    \n",
      "    var rankings: Map[String, ConnectionStrengths] = Map()\n",
      "    def addRanking(r: ConnectionStrengths): Unit = { \n",
      "        assert(r.strengths.keys.forall(allEdges contains _), \"Result doesn't fit dataset\")                                     \n",
      "        rankings += (r.sourceName -> r) \n",
      "    } \n",
      "    \n",
      "    def TPRate(p: Int, estimatedRankingName: String, trueRankingName: String = \"true\"): Double = {\n",
      "        val estimatedOrdering = rankings(estimatedRankingName).sortedByStrength.map(_._1)\n",
      "        val trueStrengths = rankings(trueRankingName).strengths\n",
      "        var tp = 0.0\n",
      "        for(i <- 0 until p) if(trueStrengths(estimatedOrdering(i)) > 0) tp += 1.0\n",
      "        tp/p\n",
      "    }\n",
      "    \n",
      "    def TPRates(maxP: Int, estimatedRankingName: String, trueRankingName: String = \"true\"): Seq[Double] = {\n",
      "        val tps = for(p <- 1 to maxP) yield TPRate(p, estimatedRankingName, trueRankingName)\n",
      "        tps.toList\n",
      "    }\n",
      "        \n",
      "    \n",
      "    \n",
      "    def printOrderedBy(name: String): Unit = {\n",
      "        assert(rankings.keys.toSet contains name, \"Ranking name not in experiment.\")\n",
      "        val order = rankings(name).sortedByStrength.map(_._1)\n",
      "        val maxStrengthStringLengths = (for(name <- rankings.keys) yield (name, rankings(name).strengths.toList.map(_._2).map(_.toString.length).max)).toMap\n",
      "        val maxEdgeStringLength = order.map(_.toString.length).max\n",
      "        \n",
      "        //print table header\n",
      "        for(i <- 0 to maxEdgeStringLength) print(\" \")\n",
      "        for(name <- rankings.keys) {\n",
      "            \n",
      "            print(name)\n",
      "            for(i <- 0 to (maxStrengthStringLengths(name) - name.length)) print(\" \")\n",
      "        }\n",
      "        println(\"\")\n",
      "        \n",
      "        //print rows\n",
      "        for(edge <- order) {\n",
      "            \n",
      "            print(edge)\n",
      "            for(i <- 0 to (maxEdgeStringLength - edge.toString.length)) print(\" \")\n",
      "            for(name <- rankings.keys) {\n",
      "                val strength = rankings(name).strengths(edge)\n",
      "                print(strength)\n",
      "                for(i <- 0 to (maxStrengthStringLengths(name) - strength.toString.length)) print(\" \")\n",
      "            }\n",
      "            println(\"\")\n",
      "        }\n",
      "    }\n",
      "        \n",
      "}\n",
      "        "
     ],
     "language": "python",
     "metadata": {},
     "outputs": [
      {
       "output_type": "stream",
       "stream": "stderr",
       "text": []
      },
      {
       "output_type": "stream",
       "stream": "stdout",
       "text": []
      }
     ],
     "prompt_number": 212
    },
    {
     "cell_type": "code",
     "collapsed": false,
     "input": [
      "def printStats(): Unit = {\n",
      "            val sorted = allNorms.toList.sortBy(_._2._2).reverse //sort by trueNorm\n",
      "            val maxKeyLength = allNorms.toList.map(_._1).map(k => k._1.toString.length + k._1.toString.length).max\n",
      "            val maxTrueNormLength = allNorms.toList.map(_._2._1).map(_.toString.length).max\n",
      "            val maxPropNormLength = allNorms.toList.map(_._2._2).map(_.toString.length).max\n",
      "            for ((k, v) <- sorted) {\n",
      "                val keyLength: Int = k._1.toString.length + k._2.toString.length\n",
      "                print(k)\n",
      "                for(i <- 0 until maxKeyLength - keyLength) print(\" \")\n",
      "                print(\"    \")\n",
      "                print(v._1)\n",
      "                for(i <- 0 until maxTrueNormLength - v._1.toString.length) print(\" \")\n",
      "                print(\"    \")\n",
      "                print(v._2)\n",
      "                for(i <- 0 until maxPropNormLength - v._2.toString.length) print(\" \")\n",
      "                print(\"    \")\n",
      "                if(stats != null) print(stats(k))\n",
      "                println()\n",
      "            }\n",
      "        }"
     ],
     "language": "python",
     "metadata": {},
     "outputs": []
    },
    {
     "cell_type": "code",
     "collapsed": false,
     "input": [
      "def experiment(numSites: Int, domain: CategoricalDomain[Char], connectedness: Double): (PottsModel, PottsModel, PottsModel, Long, Double, Seq[IndexedSeq[Spin]]) = {\n",
      "    val g = GREMLINWeightGenerator(domain, numSites, connectedness)\n",
      "    val localWeights = g.generateLocalMassesGamma\n",
      "    val pairwiseWeights = g.generatePairwiseMassesGamma\n",
      "    val trueModel = PottsModel(localWeights, pairwiseWeights, domain)\n",
      "    val spins = Spin.vector('a', numSites, domain)\n",
      "    val strings = generateSampleStrings(200, trueModel, spins)\n",
      "    val samples = strings.map(Spin.vector(_, domain))\n",
      "    \n",
      "    val objectiveModel = PottsModel.frequenciesAsWeights(samples, domain)\n",
      "    \n",
      "    val srsamples = for((v, i) <- samples.zipWithIndex if i % 1 == 0) yield v\n",
      "    \n",
      "    val learnedModel = PottsModel.logFreqsAsLocalWeights(samples, domain)\n",
      "    val sampler = new GibbsSampler(learnedModel, objectiveModel)\n",
      "    val SRTrainer = new SampleRankTrainer(sampler)\n",
      "    Timer.start\n",
      "    for(vec <- srsamples) {\n",
      "        println(vec)\n",
      "        SRTrainer.processContexts(vec.shuffle, iterations=2)\n",
      "        println(vec)\n",
      "        println(\"--\")\n",
      "    }\n",
      "    return (trueModel, learnedModel, objectiveModel, Timer.stop, connectedness, samples)\n",
      "    }\n",
      "    "
     ],
     "language": "python",
     "metadata": {},
     "outputs": [
      {
       "ename": "",
       "evalue": "",
       "output_type": "pyerr",
       "traceback": [
        "<console>:37: error: type mismatch;",
        " found   : Double",
        " required: Boolean",
        "           val g = GREMLINWeightGenerator(domain, numSites, connectedness)",
        "                                                            ^",
        "<console>:51: error: not found: value averager",
        "           val SRTrainer = new SampleRankTrainer(sampler, averager)",
        "                                                          ^"
       ]
      },
      {
       "output_type": "stream",
       "stream": "stderr",
       "text": []
      },
      {
       "output_type": "stream",
       "stream": "stdout",
       "text": []
      }
     ],
     "prompt_number": 20
    },
    {
     "cell_type": "code",
     "collapsed": false,
     "input": [
      "//def experiment(numSites: Int, domain: CategoricalDomain[Char], connectedness: Double): (PottsModel, PottsModel, PottsModel, Long, Double, Seq[IndexedSeq[Spin]]) = {\n",
      "    //val domain = spinDomain\n",
      "    val domain = new CategoricalDomain[Char](List('a', 'b'))\n",
      "    val numSites = 10\n",
      "    val connectedness = 0.2\n",
      "    val g = GREMLINWeightGenerator(domain, numSites, connectedness, true)\n",
      "    val localWeights = g.generateLocalMassesNormal\n",
      "    val pairwiseWeights = g.generatePairwiseMassesNormal\n",
      "    val trueModel = PottsModel(localWeights, pairwiseWeights, domain)\n",
      "    val spins = Spin.vector('a', numSites, domain)\n",
      "    val strings = generateSampleStrings(500, trueModel, spins)\n",
      "    val samples = strings.map(Spin.vector(_, domain))\n",
      "    val samples2 = strings.map(Spin.vector(_, domain))\n",
      "    val objectiveModel = PottsModel.frequenciesAsWeights(samples, domain)\n",
      "    val learnedModel = PottsModel.logFreqsAsLocalWeights(samples, domain)\n",
      "    val sampler = new GibbsSampler(learnedModel)\n",
      "    val samp2 = sampler.asInstanceOf[Sampler[Object]]\n",
      "                                \n",
      "   \n",
      "    "
     ],
     "language": "python",
     "metadata": {},
     "outputs": [
      {
       "output_type": "stream",
       "stream": "stderr",
       "text": []
      },
      {
       "output_type": "stream",
       "stream": "stdout",
       "text": []
      },
      {
       "metadata": {},
       "output_type": "pyout",
       "prompt_number": 43,
       "text": [
        "cc.factorie.infer.GibbsSampler@45fa6f8e"
       ]
      }
     ],
     "prompt_number": 43
    },
    {
     "cell_type": "code",
     "collapsed": false,
     "input": [
      "val opt = new AdaGrad()"
     ],
     "language": "python",
     "metadata": {},
     "outputs": [
      {
       "output_type": "stream",
       "stream": "stderr",
       "text": []
      },
      {
       "output_type": "stream",
       "stream": "stdout",
       "text": []
      },
      {
       "metadata": {},
       "output_type": "pyout",
       "prompt_number": 25,
       "text": [
        "cc.factorie.optimize.AdaGrad@26eccef"
       ]
      }
     ],
     "prompt_number": 25
    },
    {
     "cell_type": "code",
     "collapsed": false,
     "input": [
      "val learnedModel = PottsModel.logFreqsAsLocalWeights(samples, domain)\n",
      "Timer.start\n",
      "\n",
      "for(sample <- samples) {\n",
      "    val CDexamples = for(variable <- sample) yield new optimize.ContrastiveDivergenceExample(variable, learnedModel, samp2)\n",
      "    Trainer.onlineTrain(learnedModel.parameters, CDexamples, optimizer=opt)\n",
      "    //Trainer.onlineTrain(learnedModel.parameters, CDexamples)\n",
      "}\n",
      "Timer.stop\n",
      "\n",
      "  "
     ],
     "language": "python",
     "metadata": {},
     "outputs": [
      {
       "output_type": "stream",
       "stream": "stderr",
       "text": []
      },
      {
       "output_type": "stream",
       "stream": "stdout",
       "text": []
      },
      {
       "metadata": {},
       "output_type": "pyout",
       "prompt_number": 44,
       "text": [
        "19675"
       ]
      }
     ],
     "prompt_number": 44
    },
    {
     "cell_type": "code",
     "collapsed": false,
     "input": [
      "val learnedModel = PottsModel.logFreqsAsLocalWeights(samples, domain)\n",
      "Timer.start\n",
      "\n",
      "for(sample <- samples) {\n",
      "    val CDexamples = for(variable <- sample) yield new optimize.ContrastiveDivergenceExample(variable, learnedModel, samp2)\n",
      "    //Trainer.onlineTrain(learnedModel.parameters, CDexamples, optimizer=opt)\n",
      "    Trainer.onlineTrain(learnedModel.parameters, CDexamples)\n",
      "}\n",
      "Timer.stop\n",
      "\n",
      "  "
     ],
     "language": "python",
     "metadata": {},
     "outputs": [
      {
       "output_type": "stream",
       "stream": "stdout",
       "text": []
      },
      {
       "output_type": "stream",
       "stream": "stderr",
       "text": []
      },
      {
       "metadata": {},
       "output_type": "pyout",
       "prompt_number": 33,
       "text": [
        "7803269"
       ]
      }
     ],
     "prompt_number": 33
    },
    {
     "cell_type": "code",
     "collapsed": false,
     "input": [
      "val mis = MutualInformation(strings, domain).allMIs"
     ],
     "language": "python",
     "metadata": {},
     "outputs": [
      {
       "output_type": "stream",
       "stream": "stderr",
       "text": []
      },
      {
       "output_type": "stream",
       "stream": "stdout",
       "text": []
      },
      {
       "metadata": {},
       "output_type": "pyout",
       "prompt_number": 48,
       "text": [
        "Map((1,8) -> 0.18367342208945536, (2,5) -> 7.754261381942209E-4, (1,5) -> 0.0127135724522927, (7,9) -> 0.14820409627981046, (6,7) -> 1.4441544909826374E-6, (8,9) -> 1.4089176798265748E-4, (3,9) -> 9.699123099622025E-6, (0,2) -> 6.986192550679149E-5, (3,4) -> 0.008132835060525354, (4,7) -> 2.3378310862463814E-5, (0,9) -> 0.23845009720572827, (7,8) -> 1.4423867631865308E-4, (5,9) -> 6.0244313438449337E-5, (0,7) -> 0.08583862592279032, (0,3) -> 1.2185621709638692E-5, (6,9) -> 1.2157631924158074E-6, (1,6) -> 2.193179125471208E-6, (0,5) -> 2.27491210971878E-7, (3,6) -> 0.00466109281670077, (2,8) -> 0.008388831444458317, (6,8) -> 4.673099251657417E-6, (3,5) -> 1.139038234247824E-4, (4,6) -> 0.11448007349488354, (1,9) -> 2.0568437840978943E-4, (4,5) -> 1.7836134141206758E-6, (1,4) -> 1.6367488377334112E-5, (2,6) -> 1.8155831021698346E-5, (0,8) -> 1.343101138270859E-4, (4,9) -> 4.829252666052283E-6, (0,4) -> 3.176444544630841E-6, (2,9) -> 1.6892969781168144E-5, (5,7) -> 1.3269227226938955E-4, (1,3) -> 1.3183267426910802E-6, (4,8) -> 1.5399174111688262E-5, (2,7) -> 3.836639303491881E-6, (2,4) -> 3.285364031532345E-5, (3,7) -> 4.968654095833733E-5, (0,1) -> 1.4591252184406904E-4, (5,8) -> 0.010376275294056226, (1,7) -> 1.0675402447507011E-4, (2,3) -> 4.841113397070036E-5, (1,2) -> 0.005546888445328859, (3,8) -> 7.311743370492303E-6, (5,6) -> 2.758788541436618E-7, (0,6) -> 7.295645922136243E-8)"
       ]
      }
     ],
     "prompt_number": 48
    },
    {
     "cell_type": "code",
     "collapsed": false,
     "input": [
      "ModelValidator(trueModel, learnedModel, mis).printStats //last"
     ],
     "language": "python",
     "metadata": {},
     "outputs": [
      {
       "output_type": "stream",
       "stream": "stdout",
       "text": [
        "(0,9)    1.5814433308623703    18.34969673058672      0.23845009720572827\n",
        "(7,9)    1.293474894470445     16.566871684205545     0.14820409627981046\n",
        "(1,8)    1.9925661472767888    15.918849932117714     0.18367342208945536\n",
        "(0,7)    0.0                   14.50372217896054      0.08583862592279032\n",
        "(4,6)    1.6475770164764765    14.194210867055428     0.11448007349488354\n",
        "(2,8)    0.6570938445709964    7.937174748608772      0.008388831444458317\n",
        "(1,5)    1.0273735946446727    7.934534261712646      0.0127135724522927\n",
        "(5,8)    0.0                   7.326574262088499      0.010376275294056226\n",
        "(3,4)    1.1502163009235964    7.025589682488563      0.008132835060525354\n",
        "(1,2)    0.0                   6.910311340155564      0.005546888445328859\n",
        "(3,6)    0.0                   6.0837000748865355     0.00466109281670077\n",
        "(2,5)    0.0                   3.7303106069107623     7.754261381942209E-4\n",
        "(3,7)    0.0                   3.4139606301634955     4.968654095833733E-5\n",
        "(4,8)    0.0                   3.2739892502929986     1.5399174111688262E-5\n",
        "(5,9)    0.0                   3.2083303536547243     6.0244313438449337E-5\n",
        "(3,9)    0.0                   3.1592066385855797     9.699123099622025E-6\n",
        "(5,7)    0.0                   3.03810204355819       1.3269227226938955E-4\n",
        "(1,9)    0.0                   2.983746403249034      2.0568437840978943E-4\n",
        "(6,9)    0.0                   2.9685164411816025     1.2157631924158074E-6\n",
        "(2,9)    0.0                   2.966639780260197      1.6892969781168144E-5\n",
        "(6,8)    0.0                   2.7228040585711755     4.673099251657417E-6\n",
        "(4,5)    0.0                   2.6509043214626837     1.7836134141206758E-6\n",
        "(7,8)    0.0                   2.596622932628883      1.4423867631865308E-4\n",
        "(1,7)    0.0                   2.5251581887872536     1.0675402447507011E-4\n",
        "(2,7)    0.0                   2.35011901493785       3.836639303491881E-6\n",
        "(5,6)    0.0                   2.184467116994327      2.758788541436618E-7\n",
        "(4,9)    0.0                   2.149032018416807      4.829252666052283E-6\n",
        "(0,1)    0.0                   2.1479036614121836     1.4591252184406904E-4\n",
        "(8,9)    0.0                   2.0677618459906704     1.4089176798265748E-4\n",
        "(3,8)    0.0                   1.9794043082963408     7.311743370492303E-6\n",
        "(1,6)    0.0                   1.9047583349359656     2.193179125471208E-6\n",
        "(0,4)    0.0                   1.85797669710488       3.176444544630841E-6\n",
        "(0,5)    0.0                   1.7613863299507468     2.27491210971878E-7\n",
        "(4,7)    0.0                   1.6596594276773782     2.3378310862463814E-5\n",
        "(1,3)    0.0                   1.5857356368381184     1.3183267426910802E-6\n",
        "(1,4)    0.0                   1.5560690427965314     1.6367488377334112E-5\n",
        "(3,5)    0.0                   1.3821857568802236     1.139038234247824E-4\n",
        "(2,6)    0.0                   1.2579009478664132     1.8155831021698346E-5\n",
        "(0,3)    0.0                   1.2261873422498892     1.2185621709638692E-5\n",
        "(0,8)    0.0                   1.1347256624210498     1.343101138270859E-4\n",
        "(6,7)    0.0                   0.9430668974072414     1.4441544909826374E-6\n",
        "(0,2)    0.0                   0.8604891486545554     6.986192550679149E-5\n",
        "(2,3)    0.0                   0.7229037785145294     4.841113397070036E-5\n",
        "(2,4)    0.0                   0.2884661487418563     3.285364031532345E-5\n",
        "(0,6)    0.0                   0.15243879241166491    7.295645922136243E-8\n"
       ]
      },
      {
       "output_type": "stream",
       "stream": "stderr",
       "text": []
      }
     ],
     "prompt_number": 49
    },
    {
     "cell_type": "code",
     "collapsed": false,
     "input": [
      "ModelValidator(trueModel, learnedModel).printStats"
     ],
     "language": "python",
     "metadata": {},
     "outputs": [
      {
       "output_type": "stream",
       "stream": "stdout",
       "text": [
        "(14,16)    5.88962973838456      114.80785635866137    \n",
        "(8,11)     5.910066760517276     112.36403193031745    \n",
        "(0,9)      5.8630059967776935    111.02612994833409    \n",
        "(13,17)    5.862374953949933     107.3018049732724     \n",
        "(6,14)     5.965628729116694     104.00875723168902    \n",
        "(1,18)     6.002210913224212     101.956190135658      \n",
        "(0,10)     5.523321717895181     101.4760446706651     \n",
        "(4,7)      6.052734402620182     100.79362889613648    \n",
        "(5,13)     5.911141195420247     99.21681864578669     \n",
        "(3,13)     5.755229580828845     99.0433182689787      \n",
        "(12,18)    5.742747404291845     97.91409287589964     \n",
        "(13,15)    5.818729000231599     97.39432348171651     \n",
        "(2,8)      6.052638417466021     91.2115957480163      \n",
        "(9,10)     0.0                   87.52815186874346     \n",
        "(14,19)    6.096121414298526     84.36222872030697     \n",
        "(0,19)     5.994618569017595     80.3839641506379      \n",
        "(15,17)    0.0                   77.40345276071925     \n",
        "(6,16)     0.0                   76.47551418047996     \n",
        "(9,18)     5.789461511976424     75.37885941026661     \n",
        "(5,17)     0.0                   73.56137650368898     \n",
        "(3,5)      0.0                   73.37427570992662     \n",
        "(1,9)      0.0                   72.74787395415875     \n",
        "(11,19)    5.9848572855569       71.89037352348119     \n",
        "(2,11)     0.0                   70.7607566527191      \n",
        "(9,19)     0.0                   69.97446685811919     \n",
        "(3,17)     0.0                   68.55780337784913     \n",
        "(1,12)     0.0                   68.4827333643262      \n",
        "(3,15)     0.0                   67.48871988838341     \n",
        "(5,15)     0.0                   66.44573267972407     \n",
        "(16,19)    0.0                   65.72854178462019     \n",
        "(10,19)    0.0                   63.07614133111063     \n",
        "(6,19)     0.0                   61.260301358031874    \n",
        "(0,14)     0.0                   57.84653584364919     \n",
        "(0,1)      0.0                   57.232468035424795    \n",
        "(0,18)     0.0                   56.96296412251932     \n",
        "(9,12)     0.0                   54.106906940072946    \n",
        "(9,14)     0.0                   50.56823735354884     \n",
        "(0,11)     0.0                   49.1455956101118      \n",
        "(11,14)    0.0                   49.12794223943211     \n",
        "(1,10)     0.0                   48.30350429123879     \n",
        "(10,18)    0.0                   46.73072305703215     \n",
        "(8,19)     0.0                   45.707532412474684    \n",
        "(0,16)     0.0                   44.64524031126275     \n",
        "(10,14)    0.0                   44.52678848511746     \n",
        "(9,11)     0.0                   42.85471572725311     \n",
        "(0,6)      0.0                   42.28399900036866     \n",
        "(9,16)     0.0                   40.44249313881189     \n",
        "(1,19)     0.0                   40.27099463593366     \n",
        "(1,14)     0.0                   39.85634194223258     \n",
        "(11,16)    0.0                   39.173133737993524    \n",
        "(10,11)    0.0                   38.916332268184405    \n",
        "(1,11)     0.0                   38.47452971698259     \n",
        "(0,12)     0.0                   38.417142357549864    \n",
        "(18,19)    0.0                   38.1202522900431      \n",
        "(14,18)    0.0                   36.93312155469178     \n",
        "(10,16)    0.0                   36.924279096938726    \n",
        "(11,13)    0.0                   36.89912675747187     \n",
        "(10,13)    0.0                   36.86368805528647     \n",
        "(6,9)      0.0                   36.77822222977527     \n",
        "(0,8)      0.0                   36.736565684341066    \n",
        "(10,12)    0.0                   36.14329324565201     \n",
        "(1,16)     0.0                   35.91759391763835     \n",
        "(11,18)    0.0                   35.89811723489087     \n",
        "(8,13)     0.0                   35.82698572487463     \n",
        "(8,14)     0.0                   35.82541701745525     \n",
        "(1,6)      0.0                   35.68251771937266     \n",
        "(8,9)      0.0                   35.59858623866363     \n",
        "(13,14)    0.0                   35.593026961186794    \n",
        "(8,10)     0.0                   35.55827720786855     \n",
        "(1,13)     0.0                   35.1970636064056      \n",
        "(5,10)     0.0                   35.067687135324604    \n",
        "(1,8)      0.0                   34.888712981256056    \n",
        "(5,11)     0.0                   34.59242177170945     \n",
        "(11,12)    0.0                   34.59101244686214     \n",
        "(4,11)     0.0                   34.56295214387138     \n",
        "(4,10)     0.0                   34.56211334726216     \n",
        "(11,17)    0.0                   34.47498702028183     \n",
        "(10,17)    0.0                   34.43018508730468     \n",
        "(6,18)     0.0                   34.13447383397679     \n",
        "(1,17)     0.0                   34.00104176199891     \n",
        "(6,11)     0.0                   33.993580561638275    \n",
        "(9,13)     0.0                   33.959264093808684    \n",
        "(14,17)    0.0                   33.878860187373206    \n",
        "(8,18)     0.0                   33.83755094788773     \n",
        "(1,4)      0.0                   33.81022915180168     \n",
        "(13,18)    0.0                   33.79911104880028     \n",
        "(7,14)     0.0                   33.76039928064776     \n",
        "(7,11)     0.0                   33.67460194526981     \n",
        "(0,13)     0.0                   33.67031256216897     \n",
        "(7,10)     0.0                   33.66851695781453     \n",
        "(5,14)     0.0                   33.557771154598655    \n",
        "(8,17)     0.0                   33.431811207348886    \n",
        "(4,14)     0.0                   33.42542445902562     \n",
        "(12,14)    0.0                   33.3713656764796      \n",
        "(6,13)     0.0                   33.331116915624634    \n",
        "(16,18)    0.0                   33.254136853689445    \n",
        "(6,10)     0.0                   33.10664355433203     \n",
        "(4,18)     0.0                   33.1054215046284      \n",
        "(17,18)    0.0                   32.981283575896626    \n",
        "(4,6)      0.0                   32.86381953350714     \n",
        "(5,8)      0.0                   32.76970054320598     \n",
        "(5,9)      0.0                   32.755359571646565    \n",
        "(3,11)     0.0                   32.69165435302823     \n",
        "(4,8)      0.0                   32.680233877477384    \n",
        "(4,9)      0.0                   32.61896172030863     \n",
        "(4,13)     0.0                   32.55528452011724     \n",
        "(2,19)     0.0                   32.36561666460638     \n",
        "(3,10)     0.0                   32.3584364444978      \n",
        "(2,13)     0.0                   32.35365295139676     \n",
        "(1,5)      0.0                   32.271367547073396    \n",
        "(0,5)      0.0                   32.22713429815998     \n",
        "(1,7)      0.0                   32.19893049245887     \n",
        "(6,8)      0.0                   32.16966880433252     \n",
        "(6,7)      0.0                   32.05878857421494     \n",
        "(6,12)     0.0                   32.05632900265219     \n",
        "(7,18)     0.0                   31.925073291783853    \n",
        "(8,16)     0.0                   31.908823986436307    \n",
        "(7,9)      0.0                   31.894391326252173    \n",
        "(6,17)     0.0                   31.814725359232717    \n",
        "(3,14)     0.0                   31.686763496321852    \n",
        "(8,12)     0.0                   31.554446174495233    \n",
        "(1,3)      0.0                   31.53738392244356     \n",
        "(4,17)     0.0                   31.53612558722671     \n",
        "(4,12)     0.0                   31.469236479313274    \n",
        "(9,17)     0.0                   31.338037597069476    \n",
        "(13,16)    0.0                   31.326493321686375    \n",
        "(2,14)     0.0                   31.28752481615076     \n",
        "(5,6)      0.0                   31.28250353286424     \n",
        "(12,13)    0.0                   31.252855672972874    \n",
        "(16,17)    0.0                   31.25161852045528     \n",
        "(0,7)      0.0                   31.211967544119087    \n",
        "(7,16)     0.0                   31.099629693351147    \n",
        "(10,15)    0.0                   31.054214896740273    \n",
        "(12,19)    0.0                   31.032690500623552    \n",
        "(1,2)      0.0                   31.02433144760238     \n",
        "(7,8)      0.0                   31.009915661060504    \n",
        "(12,17)    0.0                   30.995294234563588    \n",
        "(2,17)     0.0                   30.955039857869565    \n",
        "(5,18)     0.0                   30.937029510309465    \n",
        "(4,16)     0.0                   30.912089003611083    \n",
        "(2,10)     0.0                   30.816013930302585    \n",
        "(0,4)      0.0                   30.800433244356736    \n",
        "(12,16)    0.0                   30.73676878939755     \n",
        "(7,13)     0.0                   30.523733046978094    \n",
        "(3,9)      0.0                   30.50891700640388     \n",
        "(5,16)     0.0                   30.304469612029315    \n",
        "(13,19)    0.0                   30.199688389872456    \n",
        "(3,8)      0.0                   30.07645099691051     \n",
        "(2,9)      0.0                   30.070657426284054    \n",
        "(3,6)      0.0                   29.98198828924482     \n",
        "(11,15)    0.0                   29.93561332087805     \n",
        "(0,17)     0.0                   29.89248723982062     \n",
        "(2,16)     0.0                   29.754697739075237    \n",
        "(2,5)      0.0                   29.710655899359686    \n",
        "(0,3)      0.0                   29.688393534733688    \n",
        "(5,7)      0.0                   29.669611047235723    \n",
        "(2,4)      0.0                   29.634774810193477    \n",
        "(4,5)      0.0                   29.59957099846189     \n",
        "(7,19)     0.0                   29.523059497108157    \n",
        "(3,18)     0.0                   29.520718875091557    \n",
        "(2,18)     0.0                   29.464705042078982    \n",
        "(0,15)     0.0                   29.367258665198662    \n",
        "(2,6)      0.0                   29.363834679356355    \n",
        "(7,17)     0.0                   29.224216980944174    \n",
        "(14,15)    0.0                   29.181991287232       \n",
        "(2,12)     0.0                   29.121332007905504    \n",
        "(5,12)     0.0                   29.067932817539596    \n",
        "(9,15)     0.0                   29.027419764776308    \n",
        "(5,19)     0.0                   28.97061753857001     \n",
        "(7,12)     0.0                   28.872316215642787    \n",
        "(1,15)     0.0                   28.855716558331455    \n",
        "(4,19)     0.0                   28.694982780321887    \n",
        "(0,2)      0.0                   28.67586383091546     \n",
        "(8,15)     0.0                   28.529135167664176    \n",
        "(3,4)      0.0                   28.346676726338284    \n",
        "(17,19)    0.0                   28.285300660801482    \n",
        "(3,16)     0.0                   28.258673962757285    \n",
        "(2,7)      0.0                   27.971083660923316    \n",
        "(3,12)     0.0                   27.943647864474368    \n",
        "(3,7)      0.0                   27.793050961461933    \n",
        "(15,18)    0.0                   27.75153403916719     \n",
        "(3,19)     0.0                   27.74936139453326     \n",
        "(2,3)      0.0                   27.362129899469"
       ]
      },
      {
       "output_type": "stream",
       "stream": "stdout",
       "text": [
        "92     \n",
        "(4,15)     0.0                   26.92281066388572     \n",
        "(6,15)     0.0                   26.854169497535196    \n",
        "(15,16)    0.0                   26.63986999063167     \n",
        "(2,15)     0.0                   26.317144114208983    \n",
        "(15,19)    0.0                   26.178218236529315    \n",
        "(12,15)    0.0                   26.121881331686645    \n",
        "(7,15)     0.0                   25.544040306874965    \n"
       ]
      },
      {
       "output_type": "stream",
       "stream": "stderr",
       "text": []
      }
     ],
     "prompt_number": 34
    },
    {
     "cell_type": "code",
     "collapsed": false,
     "input": [
      "val learnedModel2 = PottsModel.logFreqsAsLocalWeights(samples2, domain)\n",
      "Timer.start\n",
      "\n",
      "for(sample <- samples2) {\n",
      "    val CDexamples = for(variable <- sample) yield new optimize.ContrastiveDivergenceExample(variable, learnedModel, samp2)\n",
      "    Trainer.batchTrain(learnedModel.parameters, CDexamples)\n",
      "}\n",
      "Timer.stop\n",
      "\n",
      "  "
     ],
     "language": "python",
     "metadata": {},
     "outputs": [
      {
       "output_type": "stream",
       "stream": "stdout",
       "text": []
      },
      {
       "output_type": "stream",
       "stream": "stderr",
       "text": []
      },
      {
       "ename": "java.lang.Error",
       "evalue": "Slope=0.0 is negative or zero.",
       "output_type": "pyerr",
       "traceback": [
        "java.lang.Error: Slope=0.0 is negative or zero.",
        "    cc.factorie.optimize.BackTrackLineOptimizer.step(LineOptimizer.scala:77)",
        "    cc.factorie.optimize.LBFGS.step(LBFGS.scala:118)",
        "    cc.factorie.optimize.Trainer$$anon$2.cc$factorie$optimize$L2Regularization$$super$step(Trainer.scala:421)",
        "    cc.factorie.optimize.L2Regularization$class.step(GradientOptimizer.scala:43)",
        "    cc.factorie.optimize.Trainer$$anon$2.step(Trainer.scala:421)",
        "    cc.factorie.optimize.ParallelBatchTrainer.processExamples(Trainer.scala:124)",
        "    cc.factorie.optimize.Trainer$.train(Trainer.scala:387)",
        "    cc.factorie.optimize.Trainer$.batchTrain(Trainer.scala:422)"
       ]
      }
     ],
     "prompt_number": 23
    },
    {
     "cell_type": "code",
     "collapsed": false,
     "input": [
      "//val learnedModel2 = PottsModel.logFreqsAsLocalWeights(samples, domain)\n",
      "Timer.start\n",
      "\n",
      "for(sample <- samples) {\n",
      "    val CDexamples = for(variable <- sample) yield new optimize.ContrastiveDivergenceExample(variable, learnedModel2, samp2)\n",
      "    Trainer.batchTrain(learnedModel.parameters, CDexamples, useParallelTrainer=true)\n",
      "}\n",
      "Timer.stop\n",
      "\n",
      "  "
     ],
     "language": "python",
     "metadata": {},
     "outputs": [
      {
       "output_type": "stream",
       "stream": "stdout",
       "text": []
      },
      {
       "output_type": "stream",
       "stream": "stderr",
       "text": []
      }
     ],
     "prompt_number": "*"
    },
    {
     "cell_type": "code",
     "collapsed": false,
     "input": [
      "//val learnedModel2 = PottsModel.logFreqsAsLocalWeights(samples, domain)\n",
      "val ex6 = for(v <- samples) yield new LikelihoodExample(v, learnedModel, InferByBPLoopy)\n",
      "Timer.start\n",
      "Trainer.batchTrain(learnedModel.parameters, ex6)\n",
      "println(Timer.stop)"
     ],
     "language": "python",
     "metadata": {},
     "outputs": [
      {
       "output_type": "stream",
       "stream": "stderr",
       "text": []
      },
      {
       "output_type": "stream",
       "stream": "stdout",
       "text": []
      }
     ],
     "prompt_number": 40
    },
    {
     "cell_type": "markdown",
     "metadata": {},
     "source": [
      "Tried, but didn't work well:\n",
      "- onlineTrain with L2RegularizedConstantRate()\n"
     ]
    },
    {
     "cell_type": "code",
     "collapsed": false,
     "input": [
      "m"
     ],
     "language": "python",
     "metadata": {},
     "outputs": [
      {
       "output_type": "stream",
       "stream": "stdout",
       "text": []
      },
      {
       "ename": "",
       "evalue": "",
       "output_type": "pyerr",
       "traceback": [
        "<console>:31: error: not found: value m",
        "              m",
        "              ^"
       ]
      },
      {
       "output_type": "stream",
       "stream": "stderr",
       "text": []
      }
     ],
     "prompt_number": 38
    },
    {
     "cell_type": "code",
     "collapsed": false,
     "input": [],
     "language": "python",
     "metadata": {},
     "outputs": [],
     "prompt_number": "*"
    },
    {
     "cell_type": "code",
     "collapsed": false,
     "input": [
      "val m = experiment(4, smallDomain, 0.3)"
     ],
     "language": "python",
     "metadata": {},
     "outputs": [
      {
       "output_type": "stream",
       "stream": "stdout",
       "text": []
      },
      {
       "ename": "",
       "evalue": "",
       "output_type": "pyerr",
       "traceback": [
        "<console>:44: error: not found: value smallDomain",
        "       val m = experiment(4, smallDomain, 0.3)",
        "                             ^"
       ]
      },
      {
       "output_type": "stream",
       "stream": "stderr",
       "text": []
      }
     ],
     "prompt_number": 28
    },
    {
     "cell_type": "code",
     "collapsed": false,
     "input": [
      "ModelValidator(m._1, m._2).printStats"
     ],
     "language": "python",
     "metadata": {},
     "outputs": [
      {
       "output_type": "stream",
       "stream": "stdout",
       "text": []
      },
      {
       "output_type": "stream",
       "stream": "stderr",
       "text": []
      },
      {
       "ename": "",
       "evalue": "",
       "output_type": "pyerr",
       "traceback": [
        "<console>:52: error: not found: value m",
        "              ModelValidator(m._1, m._2).printStats",
        "                             ^"
       ]
      }
     ],
     "prompt_number": 38
    },
    {
     "cell_type": "code",
     "collapsed": false,
     "input": [
      "val objectiveModel = PottsModel.frequenciesAsWeights(vectors, smallDomain)"
     ],
     "language": "python",
     "metadata": {},
     "outputs": [
      {
       "output_type": "stream",
       "stream": "stdout",
       "text": []
      },
      {
       "output_type": "stream",
       "stream": "stderr",
       "text": []
      },
      {
       "ename": "",
       "evalue": "",
       "output_type": "pyerr",
       "traceback": [
        "<console>:50: error: not found: value vectors",
        "       val objectiveModel = PottsModel.frequenciesAsWeights(vectors, smallDomain)",
        "                                                            ^"
       ]
      }
     ],
     "prompt_number": 39
    },
    {
     "cell_type": "code",
     "collapsed": false,
     "input": [
      "val m6 = PottsModel(numSites, smallDomain)\n",
      "val ex6 = for(v <- vectors) yield new LikelihoodExample(v, m6, InferByBPLoopy)\n",
      "Timer.start\n",
      "Trainer.batchTrain(m6.parameters, ex6)\n",
      "println(Timer.stop)"
     ],
     "language": "python",
     "metadata": {},
     "outputs": [
      {
       "output_type": "stream",
       "stream": "stdout",
       "text": []
      },
      {
       "output_type": "stream",
       "stream": "stderr",
       "text": []
      },
      {
       "ename": "",
       "evalue": "",
       "output_type": "pyerr",
       "traceback": [
        "<console>:51: error: not found: value numSites",
        "              val m6 = PottsModel(numSites, smallDomain)",
        "                                  ^",
        "<console>:52: error: not found: value vectors",
        "              val ex6 = for(v <- vectors) yield new LikelihoodExample(v, m6, InferByBPLoopy)",
        "                                 ^"
       ]
      }
     ],
     "prompt_number": 40
    },
    {
     "cell_type": "markdown",
     "metadata": {},
     "source": [
      "The model works best around 0.3 connectivity!\n",
      "I've also removed the symmetry in the weights creation, does this change anything??"
     ]
    },
    {
     "cell_type": "code",
     "collapsed": false,
     "input": [
      "val mis = MutualInformation(strings, smallDomain).allMIs\n",
      "ModelValidator(trueM, m6, mis).printStats"
     ],
     "language": "python",
     "metadata": {},
     "outputs": [
      {
       "output_type": "stream",
       "stream": "stdout",
       "text": []
      },
      {
       "output_type": "stream",
       "stream": "stderr",
       "text": []
      },
      {
       "ename": "",
       "evalue": "",
       "output_type": "pyerr",
       "traceback": [
        "<console>:54: error: not found: value strings",
        "              val mis = MutualInformation(strings, smallDomain).allMIs",
        "                                          ^",
        "<console>:57: error: not found: value trueM",
        "              ModelValidator(trueM, m6, mis).printStats",
        "                             ^"
       ]
      }
     ],
     "prompt_number": 41
    },
    {
     "cell_type": "code",
     "collapsed": false,
     "input": [
      "val modelSR = PottsModel(numSites, smallDomain)\n",
      "val sampler = new GibbsSampler(modelSR, objectiveModel)"
     ],
     "language": "python",
     "metadata": {},
     "outputs": [
      {
       "output_type": "stream",
       "stream": "stdout",
       "text": []
      },
      {
       "output_type": "stream",
       "stream": "stderr",
       "text": []
      },
      {
       "ename": "",
       "evalue": "",
       "output_type": "pyerr",
       "traceback": [
        "<console>:50: error: not found: value numSites",
        "       val modelSR = PottsModel(numSites, smallDomain)",
        "                                ^",
        "<console>:51: error: not found: value objectiveModel",
        "       val sampler = new GibbsSampler(modelSR, objectiveModel)",
        "                                               ^"
       ]
      }
     ],
     "prompt_number": 42
    },
    {
     "cell_type": "code",
     "collapsed": false,
     "input": [
      "import cc.factorie.optimize.SampleRankTrainer"
     ],
     "language": "python",
     "metadata": {},
     "outputs": [
      {
       "output_type": "stream",
       "stream": "stderr",
       "text": []
      },
      {
       "output_type": "stream",
       "stream": "stdout",
       "text": []
      }
     ],
     "prompt_number": 43
    },
    {
     "cell_type": "code",
     "collapsed": false,
     "input": [
      "val SRTrainer = new SampleRankTrainer(modelSR.parameters, sampler)"
     ],
     "language": "python",
     "metadata": {},
     "outputs": [
      {
       "output_type": "stream",
       "stream": "stderr",
       "text": []
      },
      {
       "ename": "",
       "evalue": "",
       "output_type": "pyerr",
       "traceback": [
        "<console>:48: error: not found: value modelSR",
        "       val SRTrainer = new SampleRankTrainer(modelSR.parameters, sampler)",
        "                                             ^",
        "<console>:48: error: not found: value sampler",
        "       val SRTrainer = new SampleRankTrainer(modelSR.parameters, sampler)",
        "                                                                 ^"
       ]
      },
      {
       "output_type": "stream",
       "stream": "stdout",
       "text": []
      }
     ],
     "prompt_number": 44
    },
    {
     "cell_type": "code",
     "collapsed": false,
     "input": [
      "vectors(0)"
     ],
     "language": "python",
     "metadata": {},
     "outputs": [
      {
       "output_type": "stream",
       "stream": "stdout",
       "text": []
      },
      {
       "ename": "",
       "evalue": "",
       "output_type": "pyerr",
       "traceback": [
        "<console>:49: error: not found: value vectors",
        "              vectors(0)",
        "              ^"
       ]
      },
      {
       "output_type": "stream",
       "stream": "stderr",
       "text": []
      }
     ],
     "prompt_number": 45
    },
    {
     "cell_type": "code",
     "collapsed": false,
     "input": [
      "Timer.start\n",
      "for(v <- vectors) SRTrainer.processContexts(v, iterations=10)\n",
      "ModelValidator(trueM, modelSR, mis).printStats\n",
      "print(\"--\")\n",
      "Timer.stop"
     ],
     "language": "python",
     "metadata": {},
     "outputs": [
      {
       "output_type": "stream",
       "stream": "stdout",
       "text": []
      },
      {
       "output_type": "stream",
       "stream": "stderr",
       "text": []
      },
      {
       "ename": "",
       "evalue": "",
       "output_type": "pyerr",
       "traceback": [
        "<console>:54: error: not found: value vectors",
        "              for(v <- vectors) SRTrainer.processContexts(v, iterations=10)",
        "                       ^",
        "<console>:55: error: not found: value trueM",
        "              ModelValidator(trueM, modelSR, mis).printStats",
        "                             ^"
       ]
      }
     ],
     "prompt_number": 46
    },
    {
     "cell_type": "code",
     "collapsed": false,
     "input": [
      "import cc.factorie.infer.{SamplingMaximizer, VariableSettingsSampler}"
     ],
     "language": "python",
     "metadata": {},
     "outputs": [
      {
       "output_type": "stream",
       "stream": "stdout",
       "text": []
      },
      {
       "output_type": "stream",
       "stream": "stderr",
       "text": []
      }
     ],
     "prompt_number": 47
    },
    {
     "cell_type": "code",
     "collapsed": false,
     "input": [
      "val maximizer = new SamplingMaximizer[Spin](new VariableSettingsSampler(objectiveModel))"
     ],
     "language": "python",
     "metadata": {},
     "outputs": [
      {
       "ename": "",
       "evalue": "",
       "output_type": "pyerr",
       "traceback": [
        "<console>:50: error: not found: value objectiveModel",
        "Error occurred in an application involving default arguments.",
        "       val maximizer = new SamplingMaximizer[Spin](new VariableSettingsSampler(objectiveModel))",
        "                                                                               ^"
       ]
      },
      {
       "output_type": "stream",
       "stream": "stdout",
       "text": []
      },
      {
       "output_type": "stream",
       "stream": "stderr",
       "text": []
      }
     ],
     "prompt_number": 48
    },
    {
     "cell_type": "code",
     "collapsed": false,
     "input": [
      "vectors(0)"
     ],
     "language": "python",
     "metadata": {},
     "outputs": [
      {
       "output_type": "stream",
       "stream": "stdout",
       "text": []
      },
      {
       "output_type": "stream",
       "stream": "stderr",
       "text": []
      },
      {
       "ename": "",
       "evalue": "",
       "output_type": "pyerr",
       "traceback": [
        "<console>:50: error: not found: value vectors",
        "              vectors(0)",
        "              ^"
       ]
      }
     ],
     "prompt_number": 49
    },
    {
     "cell_type": "code",
     "collapsed": false,
     "input": [
      "maximizer.maximize(vectors(0), iterations=100, rounds=10)"
     ],
     "language": "python",
     "metadata": {},
     "outputs": [
      {
       "output_type": "stream",
       "stream": "stdout",
       "text": []
      },
      {
       "output_type": "stream",
       "stream": "stderr",
       "text": []
      },
      {
       "ename": "",
       "evalue": "",
       "output_type": "pyerr",
       "traceback": [
        "<console>:50: error: not found: value maximizer",
        "              maximizer.maximize(vectors(0), iterations=100, rounds=10)",
        "              ^"
       ]
      }
     ],
     "prompt_number": 50
    },
    {
     "cell_type": "code",
     "collapsed": false,
     "input": [
      "vectors(0)"
     ],
     "language": "python",
     "metadata": {},
     "outputs": [
      {
       "output_type": "stream",
       "stream": "stderr",
       "text": []
      },
      {
       "ename": "",
       "evalue": "",
       "output_type": "pyerr",
       "traceback": [
        "<console>:50: error: not found: value vectors",
        "              vectors(0)",
        "              ^"
       ]
      },
      {
       "output_type": "stream",
       "stream": "stdout",
       "text": []
      }
     ],
     "prompt_number": 51
    },
    {
     "cell_type": "code",
     "collapsed": false,
     "input": [],
     "language": "python",
     "metadata": {},
     "outputs": [],
     "prompt_number": 51
    }
   ],
   "metadata": {}
  }
 ]
}