{
 "metadata": {
  "name": ""
 },
 "nbformat": 3,
 "nbformat_minor": 0,
 "worksheets": [
  {
   "cells": [
    {
     "cell_type": "code",
     "collapsed": false,
     "input": [
      "import cc.factorie._\n",
      "import cc.factorie.directed._\n",
      "import la.{DenseTensor2, Tensor2, DenseTensor1, Tensor1, Tensor}\n",
      "import cc.factorie.directed.{MaximizeMultivariateGaussianCovariance, MaximizeMultivariateGaussianMean, MultivariateGaussian, Gaussian}\n",
      "//import collection.mutable.{Map}\n",
      "import collection.mutable.{ArrayBuffer}\n",
      "import cc.factorie.variable.{CategoricalDomain, CategoricalVariable, DoubleVariable, MutableDiscreteVar}\n",
      "import cc.factorie.model.{Parameters, Model, Factor, DotFamilyWithStatistics1, DotFamilyWithStatistics2, Weights2, WeightsMap,WeightsSet}\n",
      "import cc.factorie.la.{DenseTensor1, DenseTensor2}"
     ],
     "language": "python",
     "metadata": {},
     "outputs": [
      {
       "output_type": "stream",
       "stream": "stdout",
       "text": []
      },
      {
       "output_type": "stream",
       "stream": "stderr",
       "text": []
      }
     ],
     "prompt_number": 1
    },
    {
     "cell_type": "code",
     "collapsed": false,
     "input": [
      "implicit val random = scala.util.Random"
     ],
     "language": "python",
     "metadata": {},
     "outputs": [
      {
       "output_type": "stream",
       "stream": "stderr",
       "text": []
      },
      {
       "output_type": "stream",
       "stream": "stdout",
       "text": []
      },
      {
       "metadata": {},
       "output_type": "pyout",
       "prompt_number": 2,
       "text": [
        "scala.util.Random$@29a773bd"
       ]
      }
     ],
     "prompt_number": 2
    },
    {
     "cell_type": "code",
     "collapsed": false,
     "input": [
      "object spinDomain extends CategoricalDomain[Char](List('a', 'r', 'n', 'd', 'c', 'q', 'e', 'g', 'h', 'i', 'l', 'k', 'm', 'f', 'p', 's', 't', 'w', 'y', 'v', '-'))  "
     ],
     "language": "python",
     "metadata": {},
     "outputs": [
      {
       "output_type": "stream",
       "stream": "stderr",
       "text": []
      },
      {
       "output_type": "stream",
       "stream": "stdout",
       "text": []
      },
      {
       "metadata": {},
       "output_type": "pyout",
       "prompt_number": 3,
       "text": [
        "CategoricalDomain[](21)"
       ]
      }
     ],
     "prompt_number": 3
    },
    {
     "cell_type": "code",
     "collapsed": false,
     "input": [
      "class GREMLINWeightGenerator(\n",
      "    val domain: CategoricalDomain[Char], \n",
      "    val numSites: Int, \n",
      "    val edgeProbability: Double,\n",
      "    val loopFree: Boolean,\n",
      "    val gamma_shape: Double = 1,\n",
      "    val gamma_scale: Double = 2,\n",
      "    val localMean: Double = 0,\n",
      "    val localVariance: Double = 1.0,\n",
      "    val pairwiseMean: Double = 0,\n",
      "    val pairwiseVariance: Double = 3.0)(implicit val random: scala.util.Random)  {\n",
      "    \n",
      "    \n",
      "    //allEdges contains all permutations of our\n",
      "    val allEdges = (for(i <- 0 until numSites; j <- 0 until numSites if i < j) yield (i, j)).toSet\n",
      "    val activeEdges = if(loopFree) {\n",
      "                                    drawFromSetLoopFree(edgeProbability, allEdges)\n",
      "                      } else {\n",
      "                              drawFromSet(edgeProbability, allEdges)\n",
      "                      }\n",
      "                              \n",
      "    \n",
      "    def drawFromSet[A](p: Double, s: Set[A]): Set[A] = {\n",
      "        val drawn = for(i <- s if random.nextDouble < p) yield i\n",
      "        drawn\n",
      "    }\n",
      "    \n",
      "    def drawFromSetLoopFree(p: Double, s: Set[(Int, Int)]): Set[(Int, Int)] = {\n",
      "        val drawn: ArrayBuffer[(Int, Int)] = new ArrayBuffer\n",
      "        var already_connected: Set[Int] = Set()\n",
      "        for(e <- s) {\n",
      "            if(random.nextDouble < 0.3) {\n",
      "                if(!((already_connected contains e._1) && (already_connected contains e._2))) {\n",
      "                    drawn += e\n",
      "                    already_connected += e._1\n",
      "                    already_connected += e._2\n",
      "                }\n",
      "            }\n",
      "        }\n",
      "        drawn.toSet\n",
      "    } \n",
      "    \n",
      "    def generateLocalMassesGamma: IndexedSeq[DenseTensor1] = {\n",
      "        implicit val model = DirectedModel()\n",
      "        \n",
      "        val shape = new DoubleVariable(gamma_shape)\n",
      "        val scale = new DoubleVariable(gamma_scale)\n",
      "        \n",
      "        val localMasses = for(i <- 0 until numSites) yield new DenseTensor1(domain.size)\n",
      "        for(massTensor <- localMasses){\n",
      "            for(i <- 0 until massTensor.dim1){\n",
      "                val mass = new DoubleVariable :~ Gamma(shape, scale)\n",
      "                massTensor(i) = mass.value\n",
      "            }\n",
      "        }\n",
      "        localMasses\n",
      "    }\n",
      "    \n",
      "    def generateLocalMassesNormal: IndexedSeq[DenseTensor1] = {\n",
      "        implicit val model = DirectedModel()\n",
      "        \n",
      "        val mean = new DoubleVariable(localMean)\n",
      "        val variance = new DoubleVariable(localVariance)\n",
      "        \n",
      "        val localMasses = for(i <- 0 until numSites) yield new DenseTensor1(domain.size)\n",
      "        for(massTensor <- localMasses){\n",
      "            for(i <- 0 until massTensor.dim1){\n",
      "                val mass = new DoubleVariable :~ Gaussian(mean, variance)\n",
      "                massTensor(i) = mass.value\n",
      "            }\n",
      "        }\n",
      "        localMasses\n",
      "    }\n",
      "    \n",
      "    def generatePairwiseMassesNormal: Map[(Int, Int), DenseTensor2] = {\n",
      "        val pairMasses: Map[(Int, Int), DenseTensor2] =(for(e <- activeEdges) yield (e -> generatePairwiseTensorNormal)).toMap\n",
      "        pairMasses\n",
      "    }\n",
      "    \n",
      "    def generatePairwiseTensorNormal: DenseTensor2 = {\n",
      "        implicit val model = DirectedModel()\n",
      "        \n",
      "        val mean = new DoubleVariable(pairwiseMean)\n",
      "        val variance = new DoubleVariable(pairwiseVariance)\n",
      "        \n",
      "        val tensor = new DenseTensor2(domain.size, domain.size)\n",
      "        for(a1 <- 0 until domain.size; a2 <- 0 until domain.size if a1 <= a2) {\n",
      "        //for(a1 <- 0 until domain.size; a2 <- 0 until domain.size) {\n",
      "            val mass = new DoubleVariable :~ Gaussian(mean, variance)\n",
      "            //our masses are symmetric, as we only have one factor for (i, j) and (j, i)\n",
      "            tensor(a1, a2) = mass.value\n",
      "            tensor(a2, a1) = mass.value\n",
      "        }\n",
      "        tensor\n",
      "    }\n",
      "        \n",
      "    def generatePairwiseMassesGamma: Map[(Int, Int), DenseTensor2] = {\n",
      "        val pairMasses: Map[(Int, Int), DenseTensor2] =(for(e <- activeEdges) yield (e -> generatePairwiseTensorGamma)).toMap\n",
      "        pairMasses\n",
      "    }\n",
      "    \n",
      "    def generatePairwiseTensorGamma: DenseTensor2 = {\n",
      "        implicit val model = DirectedModel()\n",
      "        \n",
      "        val shape = new DoubleVariable(gamma_shape)\n",
      "        val scale = new DoubleVariable(gamma_scale)\n",
      "        \n",
      "        val tensor = new DenseTensor2(domain.size, domain.size)\n",
      "        for(a1 <- 0 until domain.size; a2 <- 0 until domain.size if a1 <= a2) {\n",
      "            val mass = new DoubleVariable :~ Gamma(shape, scale)\n",
      "            //our weights are \n",
      "            tensor(a1, a2) = mass.value\n",
      "            tensor(a2, a1) = mass.value\n",
      "        }\n",
      "        tensor\n",
      "    }\n",
      "}\n",
      "\n",
      "object GREMLINWeightGenerator {\n",
      "    def apply(domain: CategoricalDomain[Char], n: Int, p: Double, lf: Boolean) = new GREMLINWeightGenerator(domain, n, p, lf)\n",
      "    def apply(domain: CategoricalDomain[Char], p: Double, lf: Boolean) = new GREMLINWeightGenerator(domain, 10, p, lf)\n",
      "}"
     ],
     "language": "python",
     "metadata": {},
     "outputs": [
      {
       "output_type": "stream",
       "stream": "stdout",
       "text": []
      },
      {
       "output_type": "stream",
       "stream": "stderr",
       "text": []
      },
      {
       "metadata": {},
       "output_type": "pyout",
       "prompt_number": 4,
       "text": [
        "GREMLINWeightGenerator$@8c286cd"
       ]
      }
     ],
     "prompt_number": 4
    },
    {
     "cell_type": "code",
     "collapsed": false,
     "input": [
      "class Spin(c: Char, val i: Int, d: CategoricalDomain[Char]) extends CategoricalVariable[Char](c){\n",
      "    \n",
      "    //This is how FACTORIE assigns domains to variables.\n",
      "    def domain = d\n",
      "    \n",
      "    //This is our own construct, to enable a spin to know what sample it is part of\n",
      "    var cont: IndexedSeq[Spin] = null\n",
      "    def setContainer(container: IndexedSeq[Spin]): Unit = {this.cont = container}\n",
      "    \n",
      "    override def toString = this.i.toString + \": \" + this.value.toString  \n",
      "}\n",
      "\n",
      "//Scalas companion objects allow for convenient Factory methods\n",
      "object Spin {\n",
      "    \n",
      "    //The standard factory method, removes the need to use 'new' when creating instances.\n",
      "    def apply(c: Char, i: Int, d: CategoricalDomain[Char]): Spin = new Spin(c, i, d)\n",
      "    \n",
      "    \n",
      "    //Some factory methods vor creating spin vectors ie. protein samples.\n",
      "    \n",
      "    //This factory is used for to read in a single sample from the dataset.\n",
      "    def vector(s: String, d: CategoricalDomain[Char]): IndexedSeq[Spin] = {\n",
      "        val vector = for((c, i) <- s.zipWithIndex) yield Spin(c, i, d)\n",
      "        vector.foreach(_.setContainer(vector))\n",
      "        vector\n",
      "    }\n",
      "    \n",
      "    //Initialized a vector with all spins having the same value. Used for creating fake data.\n",
      "    def vector(c: Char, numSites: Int, d: CategoricalDomain[Char]): IndexedSeq[Spin] = {\n",
      "        val vector = for(i <- 0 until numSites) yield Spin(c, i, d)\n",
      "        vector.foreach(_.setContainer(vector))\n",
      "        vector\n",
      "    }\n",
      "}"
     ],
     "language": "python",
     "metadata": {},
     "outputs": [
      {
       "output_type": "stream",
       "stream": "stdout",
       "text": []
      },
      {
       "output_type": "stream",
       "stream": "stderr",
       "text": []
      },
      {
       "metadata": {},
       "output_type": "pyout",
       "prompt_number": 5,
       "text": [
        "Spin$@77c4e870"
       ]
      }
     ],
     "prompt_number": 5
    },
    {
     "cell_type": "code",
     "collapsed": false,
     "input": [
      "class PottsModel(\n",
      "    val domain: CategoricalDomain[Char], \n",
      "    val localMasses: IndexedSeq[DenseTensor1],\n",
      "    val pairwiseMasses: Map[(Int, Int), DenseTensor2])\n",
      "    extends Model with Parameters {\n",
      "    \n",
      "    /* We initialize our 'families' which contain an inner class to create factors on the fly.\n",
      "     * There is a 1:1 relationship between the factors in our model and the families.\n",
      "     * Wether or not two spins are connected is not defined in this class, it simply creates Families\n",
      "     * for all the tensors it has received in its constructor argumetn pairwiseMasses. Those are created in a \n",
      "     * factory method in the companion object below.\n",
      "     */\n",
      "    val localFamilies: IndexedSeq[DotFamilyWithStatistics1[Spin]] = \n",
      "        for(m <- localMasses) yield new DotFamilyWithStatistics1[Spin] { val weights = Weights(m) }\n",
      "                                       \n",
      "    val pairwiseFamilies: Map[(Int, Int), DotFamilyWithStatistics2[Spin, Spin]] =\n",
      "        for((k, m) <- pairwiseMasses) yield (k -> new DotFamilyWithStatistics2[Spin, Spin] { val weights = Weights(m) })\n",
      "    \n",
      "    \n",
      "    /* The essantial method that has to be implemented by a any model. Here is where the 'imperative freedom' of IDF happens.\n",
      "     * We chose to include a reference of all possible neighbours in the Spin.cont member. We then iterate over them \n",
      "     * and see if our model contains a family for that neighbour, create a factor if it does and add it to the results.\n",
      "     */\n",
      "    def factors(variables: Iterable[Var]): Iterable[Factor] = {\n",
      "        val factors = new ArrayBuffer[Factor]\n",
      "        \n",
      "        //a simple cast of varriables from Var to Spin\n",
      "        val possibleNeighbours = variables collect {case s: Spin => s}\n",
      "        \n",
      "        for(s <- possibleNeighbours){\n",
      "                val localFamily = localFamilies(s.i)\n",
      "                factors += localFamily.Factor(s)\n",
      "            \n",
      "                val existingConnections = pairwiseFamilies.keys.filter((k: (Int, Int)) => k._1 == s.i || k._2 == s.i)\n",
      "                for(k <- existingConnections) {\n",
      "                    val pairwiseFamily = pairwiseFamilies(k)\n",
      "                    factors += pairwiseFamily.Factor(s.cont(k._1), s.cont(k._2))\n",
      "                }\n",
      "        }\n",
      "        factors\n",
      "    }\n",
      "}\n",
      "    \n",
      "object PottsModel {\n",
      "    \n",
      "    /* If we receive pairwises and local masses we create initialize the model. They might come from a synthetic model generator \n",
      "     * or from the other factory methods below.\n",
      "     */\n",
      "    def apply(localMasses: IndexedSeq[DenseTensor1], pairwiseMasses: Map[(Int, Int), DenseTensor2], domain: CategoricalDomain[Char]): PottsModel = {\n",
      "        new PottsModel(domain, localMasses, pairwiseMasses)\n",
      "    }\n",
      "    /* If just the number of variables and the domain is supplied, we create a completely connected model with weights initialized to zero.\n",
      "     */\n",
      "    def apply(numSites: Int, domain: CategoricalDomain[Char]): PottsModel = {\n",
      "        val localMasses = for(i <- 0 until numSites) yield new DenseTensor1(domain.size)\n",
      "        val pairwiseMasses = (for(i <- 0 until numSites; j <- 0 until numSites if i < j) yield ((i, j), new DenseTensor2(domain.size, domain.size))).toMap\n",
      "        \n",
      "        new PottsModel(domain, localMasses, pairwiseMasses)\n",
      "    }\n",
      "    \n",
      "    /* This factory initializes a completely connected model, but initializes the local masses to be the the logarithms of  \n",
      "     * the local freuencies counted in a dataset. We add a pseudocount to deter limited sampling size effects.\n",
      "     */\n",
      "    def logFreqsAsLocalWeights(samples: Seq[IndexedSeq[Spin]], domain: CategoricalDomain[Char]): PottsModel = {\n",
      "        val PSEUDOCOUNT = 2.\n",
      "        assert(samples.forall(_.length == samples(0).length), \"Samples must all be of same length.\")\n",
      "        val numSites = samples(0).length\n",
      "        val numSamples = samples.toList.length\n",
      "        val model = PottsModel(numSites, domain)\n",
      "        \n",
      "        //\n",
      "        for ((family, i) <- model.localFamilies.zipWithIndex) {\n",
      "            val weightTensor = model.parameters(family.weights)\n",
      "            \n",
      "            val pseudoCountTensor = weightTensor.copy\n",
      "            for(i <- 0 until pseudoCountTensor.asArray.length) pseudoCountTensor.update(i, PSEUDOCOUNT)\n",
      "            weightTensor += pseudoCountTensor\n",
      "            \n",
      "            for(s <- samples) {\n",
      "                val factor = family.Factor(s(i))\n",
      "                weightTensor += factor.currentStatistics\n",
      "            }\n",
      "            weightTensor *= 1./(numSamples + (domain.size * PSEUDOCOUNT))\n",
      "            \n",
      "            for(i <- 0 until weightTensor.length) weightTensor.update(i, math.log(weightTensor(i)))\n",
      "        }\n",
      "        model\n",
      "    }      \n",
      "    \n",
      "    \n",
      "    /* We here abuse the tensor/factor infrastructure to collecte empirical frequencies from a dataset.\n",
      "     * The \"weights\" of the this model are then used to estimate mutual information in the Experiment class.\n",
      "     */\n",
      "    def frequenciesAsWeights(samples: Seq[IndexedSeq[Spin]], domain: CategoricalDomain[Char]): PottsModel = {\n",
      "        val PSEUDOCOUNT = 2.\n",
      "        assert(samples.forall(_.length == samples(0).length), \"Samples must all be of same length.\")\n",
      "        val numSites = samples(0).length\n",
      "        val numSamples = samples.toList.length\n",
      "        val model = PottsModel(numSites, domain)\n",
      "        \n",
      "        for ((key, family) <- model.pairwiseFamilies) {\n",
      "            val weightTensor = model.parameters(family.weights)\n",
      "            \n",
      "            //we add a pseudocount as in [Weight08]\n",
      "            val pseudoCountTensor = weightTensor.copy\n",
      "            for(i <- 0 until pseudoCountTensor.asArray.length) pseudoCountTensor.update(i, (PSEUDOCOUNT/domain.size))\n",
      "            weightTensor += pseudoCountTensor\n",
      "            \n",
      "            for(s <- samples) {\n",
      "                val factor = family.Factor(s(key._1), s(key._2))    \n",
      "                weightTensor += factor.currentStatistics\n",
      "            }\n",
      "            //we correct our denominator by domain.size to account for the pseudocount\n",
      "            weightTensor *= 1./(numSamples + (domain.size * PSEUDOCOUNT))\n",
      "            for(i <- 0 until weightTensor.length) weightTensor.update(i, math.log(weightTensor(i)))\n",
      "        }\n",
      "        for ((family, i) <- model.localFamilies.zipWithIndex) {\n",
      "            val weightTensor = model.parameters(family.weights)\n",
      "            \n",
      "            val pseudoCountTensor = weightTensor.copy\n",
      "            for(i <- 0 until pseudoCountTensor.asArray.length) pseudoCountTensor.update(i, PSEUDOCOUNT)\n",
      "            weightTensor += pseudoCountTensor\n",
      "            \n",
      "            for(s <- samples) {\n",
      "                val factor = family.Factor(s(i))\n",
      "                weightTensor += factor.currentStatistics\n",
      "            }\n",
      "            weightTensor *= 1./(numSamples + (domain.size * PSEUDOCOUNT))\n",
      "            for(i <- 0 until weightTensor.length) weightTensor.update(i, math.log(weightTensor(i)))\n",
      "        }\n",
      "        model\n",
      "    }      \n",
      "\n",
      "}"
     ],
     "language": "python",
     "metadata": {},
     "outputs": [
      {
       "output_type": "stream",
       "stream": "stderr",
       "text": []
      },
      {
       "output_type": "stream",
       "stream": "stdout",
       "text": []
      },
      {
       "metadata": {},
       "output_type": "pyout",
       "prompt_number": 6,
       "text": [
        "PottsModel$@67be1b9f"
       ]
      }
     ],
     "prompt_number": 6
    },
    {
     "cell_type": "markdown",
     "metadata": {},
     "source": []
    },
    {
     "cell_type": "code",
     "collapsed": false,
     "input": [
      "import cc.factorie.infer.{VariableSettingsSampler, InferByGibbsSampling, GibbsSampler}"
     ],
     "language": "python",
     "metadata": {},
     "outputs": [
      {
       "output_type": "stream",
       "stream": "stderr",
       "text": []
      },
      {
       "output_type": "stream",
       "stream": "stdout",
       "text": []
      }
     ],
     "prompt_number": 7
    },
    {
     "cell_type": "code",
     "collapsed": false,
     "input": [
      "def generateSampleStrings(N:Int, model: PottsModel, variables: IndexedSeq[Spin], burnin: Int = 1000, thinning: Int = 10): Seq[String] = {\n",
      "    implicit val random = new scala.util.Random(0)                                                                                                   \n",
      "    val sampler = new GibbsSampler(model)\n",
      "    val strings = new ArrayBuffer[String]\n",
      "    for(i <- 0 until (N+burnin)*thinning) {\n",
      "        sampler.processAll(variables)\n",
      "        if(i > burnin || i % 5 == 0) strings += variables.map(_.value).mkString\n",
      "    }\n",
      "    strings\n",
      "}"
     ],
     "language": "python",
     "metadata": {},
     "outputs": [
      {
       "output_type": "stream",
       "stream": "stderr",
       "text": []
      },
      {
       "output_type": "stream",
       "stream": "stdout",
       "text": []
      }
     ],
     "prompt_number": 8
    },
    {
     "cell_type": "code",
     "collapsed": false,
     "input": [
      "object Timer {\n",
      "    var t: Long = 0\n",
      "    def start: Unit = { t = System.currentTimeMillis }\n",
      "    def stop: Long = { System.currentTimeMillis - t}\n",
      "}"
     ],
     "language": "python",
     "metadata": {},
     "outputs": [
      {
       "output_type": "stream",
       "stream": "stderr",
       "text": []
      },
      {
       "output_type": "stream",
       "stream": "stdout",
       "text": []
      },
      {
       "metadata": {},
       "output_type": "pyout",
       "prompt_number": 9,
       "text": [
        "Timer$@4289a2cd"
       ]
      }
     ],
     "prompt_number": 9
    },
    {
     "cell_type": "code",
     "collapsed": false,
     "input": [
      "import cc.factorie.optimize._\n",
      "import cc.factorie.infer.{InferByBPLoopy, InferByGibbsSampling}"
     ],
     "language": "python",
     "metadata": {},
     "outputs": [
      {
       "output_type": "stream",
       "stream": "stdout",
       "text": []
      },
      {
       "output_type": "stream",
       "stream": "stderr",
       "text": []
      }
     ],
     "prompt_number": 11
    },
    {
     "cell_type": "code",
     "collapsed": false,
     "input": [
      "implicit val random = scala.util.Random"
     ],
     "language": "python",
     "metadata": {},
     "outputs": [
      {
       "output_type": "stream",
       "stream": "stdout",
       "text": []
      },
      {
       "output_type": "stream",
       "stream": "stderr",
       "text": []
      },
      {
       "metadata": {},
       "output_type": "pyout",
       "prompt_number": 12,
       "text": [
        "scala.util.Random$@29a773bd"
       ]
      }
     ],
     "prompt_number": 12
    },
    {
     "cell_type": "code",
     "collapsed": false,
     "input": [],
     "language": "python",
     "metadata": {},
     "outputs": [],
     "prompt_number": 12
    },
    {
     "cell_type": "code",
     "collapsed": false,
     "input": [
      "//we add a pseudocount of 1\n",
      "class Counter(var value: Double=1) {\n",
      "\n",
      "    def divide(t: Double): Unit = {value *= 1/t}\n",
      "    override def toString: String = {value.toString}\n",
      "}"
     ],
     "language": "python",
     "metadata": {},
     "outputs": [
      {
       "output_type": "stream",
       "stream": "stdout",
       "text": []
      },
      {
       "output_type": "stream",
       "stream": "stderr",
       "text": []
      }
     ],
     "prompt_number": 13
    },
    {
     "cell_type": "code",
     "collapsed": false,
     "input": [
      "//merge this mith PottsModel.frequenciesAsWeights\n",
      "class MutualInformation(val samples: Seq[String], domain: CategoricalDomain[Char]) {\n",
      "    val total = samples.length\n",
      "    val numSites = samples(0).length\n",
      "    val categories = domain.categories\n",
      "    \n",
      "    val localFreqs = countLocalFrequencies\n",
      "    val pairwiseFreqs = countPairwiseFrequencies\n",
      "    \n",
      "    \n",
      "    def makeLocalCountsMap: Map[Char, Counter] = (for(c <- categories) yield (c, new Counter)).toMap\n",
      "    def countLocalFrequencies: IndexedSeq[Map[Char, Counter]] = {\n",
      "        val sitewiseCountMaps: IndexedSeq[Map[Char, Counter]] = for(i <- 0 until numSites) yield makeLocalCountsMap\n",
      "        \n",
      "        for(sample <- samples; (category, i) <- sample.zipWithIndex) sitewiseCountMaps(i)(category).add(1)\n",
      "        \n",
      "        for(countMap <- sitewiseCountMaps; c <- categories) countMap(c).divide(total)\n",
      "        sitewiseCountMaps\n",
      "    }\n",
      "    \n",
      "    def makePairwiseCountsMap: Map[(Char, Char), Counter] = (for(c1 <- categories; c2 <- categories) yield ((c1, c2), new Counter)).toMap\n",
      "    def countPairwiseFrequencies: Map[(Int, Int), Map[(Char, Char), Counter]] = {\n",
      "   \n",
      "        val pairwiseCountMaps: Map[(Int, Int), Map[(Char, Char), Counter]] = (for(i <- 0 until numSites; j <- 0 until numSites) yield ((i, j), makePairwiseCountsMap)).toMap\n",
      "    \n",
      "        for(sample <- samples; (c_i, i) <- sample.zipWithIndex; (c_j, j) <- sample.zipWithIndex) pairwiseCountMaps(i, j)(c_i, c_j).add(1)\n",
      "        for(countMap <- pairwiseCountMaps.values; c_i <- categories; c_j <- categories) countMap(c_i, c_j).divide(total)\n",
      "        pairwiseCountMaps\n",
      "    }\n",
      "    \n",
      "    def MI(i: Int, j: Int): Double = { \n",
      "        val f_i = localFreqs(i)\n",
      "        val f_j = localFreqs(j)\n",
      "        val f_ij = pairwiseFreqs(i, j)\n",
      "        \n",
      "        (for(k <- categories; l <- categories) yield (f_ij(k, l).value*math.log(f_ij(k,l).value/(f_i(k).value*f_j(l).value)))).sum\n",
      "        \n",
      "    }\n",
      "    val allMIs: Map[(Int, Int), Double] = (for(i <- 0 until numSites; j <- 0 until numSites if i < j) yield ((i, j), MI(i, j))).toMap\n",
      "}\n",
      "object MutualInformation {\n",
      "        def apply(samples: Seq[String], domain: CategoricalDomain[Char]) = new MutualInformation(samples, domain)\n",
      "}"
     ],
     "language": "python",
     "metadata": {},
     "outputs": [
      {
       "output_type": "stream",
       "stream": "stderr",
       "text": []
      },
      {
       "output_type": "stream",
       "stream": "stdout",
       "text": []
      },
      {
       "metadata": {},
       "output_type": "pyout",
       "prompt_number": 14,
       "text": [
        "MutualInformation$@51211779"
       ]
      }
     ],
     "prompt_number": 14
    },
    {
     "cell_type": "code",
     "collapsed": false,
     "input": [
      "import cc.factorie.infer.Sampler"
     ],
     "language": "python",
     "metadata": {},
     "outputs": [
      {
       "output_type": "stream",
       "stream": "stdout",
       "text": []
      },
      {
       "output_type": "stream",
       "stream": "stderr",
       "text": []
      }
     ],
     "prompt_number": 21
    },
    {
     "cell_type": "code",
     "collapsed": false,
     "input": [
      "class ConnectionStrengths(val strengths: Map[(Int, Int), Double], val sourceName: String, val source: Any = null){\n",
      "        def apply(key: (Int, Int)): Double = strengths(key)\n",
      "        val sortedByStrength = strengths.toList.sortBy(_._2).reverse\n",
      "}\n",
      "object ConnectionStrengths{\n",
      "               \n",
      "        def apply(model: PottsModel, name: String) = {\n",
      "            val numSites = model.localFamilies.length\n",
      "            val allEdges = (for(i <- 0 until numSites; j <- 0 until numSites if i < j) yield (i, j)).toSet\n",
      "            val families = model.pairwiseFamilies\n",
      "            var strengths: Map[(Int, Int), Double] = Map()\n",
      "            for(edge <- allEdges) {\n",
      "                if(families.keys.toSet contains edge) strengths += (edge -> fNorm(families(edge).weights.value))\n",
      "                else strengths += (edge -> 0)\n",
      "            }\n",
      "            new ConnectionStrengths(strengths, name, model)\n",
      "        }\n",
      "        \n",
      "        def MI(samples: Seq[IndexedSeq[Spin]], d: CategoricalDomain[Char], name: String = \"MI\") = {\n",
      "            val freqModel = PottsModel.frequenciesAsWeights(samples, domain)\n",
      "            val numSites = freqModel.localFamilies.length\n",
      "            val allEdges = (for(i <- 0 until numSites; j <- 0 until numSites if i < j) yield (i, j)).toSet\n",
      "            \n",
      "            \n",
      "            \n",
      "            def localFreqs(i: Int) = freqModel.localFamilies(i).weights.value\n",
      "            def pairwiseFreqs(i: Int, j: Int) = freqModel.pairwiseFamilies(i, j).weights.value.asInstanceOf[DenseTensor2]\n",
      "            def singleMI(i: Int, j: Int): Double = { \n",
      "                val f_i = localFreqs(i)\n",
      "                val f_j = localFreqs(j)\n",
      "                val f_ij = pairwiseFreqs(i, j)\n",
      "            (for(k <- d.categories; l <- d.categories) yield (f_ij(d.index(k), d.index(l)) * math.log(f_ij(d.index(k), d.index(l)) / (f_i(d.index(k))*f_j(d.index(l)))))).sum\n",
      "            }\n",
      "            val allMIs: Map[(Int, Int), Double] = (for(edge <- allEdges) yield (edge, singleMI(edge._1, edge._2))).toMap\n",
      "            new ConnectionStrengths(allMIs, name, freqModel)\n",
      "        }\n",
      "            \n",
      "        private def fNorm(w: Tensor): Double = {\n",
      "            val t = w.asInstanceOf[DenseTensor2]\n",
      "            def averageOverRow(t: DenseTensor2, k: Int): Double = {\n",
      "                // J_ij(k, .) k being a row\n",
      "                val row = for(l <- 0 until t.dim2) yield t(k, l)\n",
      "                row.sum/row.length\n",
      "            }    \n",
      "            def averageOverCol(t: DenseTensor2, l: Int): Double = {\n",
      "                // J_ij(., l) l being a column\n",
      "                val col = for(k <- 0 until t.dim1) yield t(k, l)\n",
      "                col.sum/col.length\n",
      "            }\n",
      "            val totalAverage: Double = t.sum/t.length\n",
      "            val transformed: DenseTensor2 = t.copy\n",
      "            for(k <- 0 until t.dim1; l <- 0 until t.dim2) {\n",
      "                transformed(k, l) = t(k, l) - averageOverRow(t, k) - averageOverCol(t, l) + totalAverage\n",
      "            }\n",
      "            math.sqrt(transformed.twoNorm)\n",
      "        }\n",
      "}\n",
      "    "
     ],
     "language": "python",
     "metadata": {},
     "outputs": [
      {
       "output_type": "stream",
       "stream": "stderr",
       "text": []
      },
      {
       "output_type": "stream",
       "stream": "stdout",
       "text": []
      },
      {
       "metadata": {},
       "output_type": "pyout",
       "prompt_number": 287,
       "text": [
        "ConnectionStrengths$@7ff14c5e"
       ]
      }
     ],
     "prompt_number": 287
    },
    {
     "cell_type": "code",
     "collapsed": false,
     "input": [
      "val mimod = PottsModel.frequenciesAsWeights(samples, domain)"
     ],
     "language": "python",
     "metadata": {},
     "outputs": [
      {
       "output_type": "stream",
       "stream": "stderr",
       "text": []
      },
      {
       "output_type": "stream",
       "stream": "stdout",
       "text": []
      },
      {
       "metadata": {},
       "output_type": "pyout",
       "prompt_number": 252,
       "text": [
        "PottsModel@25565f43"
       ]
      }
     ],
     "prompt_number": 252
    },
    {
     "cell_type": "code",
     "collapsed": false,
     "input": [
      "localFreqs(0)(domain.index('a'))"
     ],
     "language": "python",
     "metadata": {},
     "outputs": [
      {
       "output_type": "stream",
       "stream": "stdout",
       "text": []
      },
      {
       "output_type": "stream",
       "stream": "stderr",
       "text": []
      },
      {
       "metadata": {},
       "output_type": "pyout",
       "prompt_number": 260,
       "text": [
        "-3.3228873647688797"
       ]
      }
     ],
     "prompt_number": 260
    },
    {
     "cell_type": "code",
     "collapsed": false,
     "input": [
      "domain.index('c')"
     ],
     "language": "python",
     "metadata": {},
     "outputs": [
      {
       "output_type": "stream",
       "stream": "stderr",
       "text": []
      },
      {
       "output_type": "stream",
       "stream": "stdout",
       "text": []
      },
      {
       "metadata": {},
       "output_type": "pyout",
       "prompt_number": 258,
       "text": [
        "4"
       ]
      }
     ],
     "prompt_number": 258
    },
    {
     "cell_type": "code",
     "collapsed": false,
     "input": [
      "domain.index"
     ],
     "language": "python",
     "metadata": {},
     "outputs": [
      {
       "output_type": "stream",
       "stream": "stdout",
       "text": []
      },
      {
       "output_type": "stream",
       "stream": "stderr",
       "text": []
      },
      {
       "ename": "",
       "evalue": "",
       "output_type": "pyerr",
       "traceback": [
        "<console>:33: error: missing arguments for method index in class CategoricalDomain;",
        "follow this method with `_' if you want to treat it as a partially applied function",
        "              domain.index",
        "                     ^"
       ]
      }
     ],
     "prompt_number": 261
    },
    {
     "cell_type": "code",
     "collapsed": false,
     "input": [
      "//def MI(samples: Seq[Seq[Spin]], d: CategoricalDomain[Char], name: String = \"MI\") = {\n",
      "            val freqModel = PottsModel.frequenciesAsWeights(samples, domain)\n",
      "            val domainValues = domain.categories\n",
      "            def localFreqs(i: Int) = freqModel.localFamilies(i).weights.value\n",
      "            def pairwiseFreqs(i: Int, j: Int) = freqModel.pairwiseFamilies(i, j).weights.value\n",
      "            def singleMI(i: Int, j: Int): Unit = { \n",
      "                val f_i = localFreqs(i)\n",
      "                val f_j = localFreqs(j)\n",
      "                val f_ij = pairwiseFreqs(i, j).asInstanceOf[DenseTensor2]\n",
      "                \n",
      "                for(k <- d.categories; l <- d.categories) yield (f_ij(d.index(k), d.index(l))*math.log(f_ij(d.index(k),d.index(l))/(f_i(d.index(k))*f_j(d.index(l))))).sum\n",
      "        \n",
      "            }\n",
      "        //val allMIs: Map[(Int, Int), Double] = (for(i <- 0 until numSites; j <- 0 until numSites if i < j) yield ((i, j), MI(i, j))).toMap"
     ],
     "language": "python",
     "metadata": {},
     "outputs": [
      {
       "output_type": "stream",
       "stream": "stdout",
       "text": []
      },
      {
       "output_type": "stream",
       "stream": "stderr",
       "text": []
      }
     ],
     "prompt_number": 256
    },
    {
     "cell_type": "code",
     "collapsed": false,
     "input": [
      "class Experiment(val samples: Seq[Seq[Spin]], val details: Map[String, Any]) {\n",
      "    \n",
      "    assert(samples.forall(_.length == samples(0).length), \"Samples must all be of same length.\")\n",
      "    val numSites = samples(0).length\n",
      "    val allEdges = (for(i <- 0 until numSites; j <- 0 until numSites if i < j) yield (i, j)).toSet\n",
      "    \n",
      "    var rankings: Map[String, ConnectionStrengths] = Map()\n",
      "    def addRanking(r: ConnectionStrengths): Unit = { \n",
      "        assert(r.strengths.keys.forall(allEdges contains _), \"Result doesn't fit dataset\")                                     \n",
      "        rankings += (r.sourceName -> r) \n",
      "    } \n",
      "    \n",
      "    def TPRate(p: Int, estimatedRankingName: String, trueRankingName: String = \"true\", threshold: Double = 0): Double = {\n",
      "        val estimatedOrdering = rankings(estimatedRankingName).sortedByStrength.map(_._1)\n",
      "        val trueStrengths = rankings(trueRankingName)\n",
      "        var tp = 0.0\n",
      "        for(i <- 0 until p) if(trueStrengths(estimatedOrdering(i)) > threshold) tp += 1.0\n",
      "        tp/p\n",
      "    }\n",
      "    \n",
      "    def TPRates(maxP: Int, estimatedRankingName: String, trueRankingName: String = \"true\"): Seq[Double] = {\n",
      "        val tps = for(p <- 1 to maxP) yield TPRate(p, estimatedRankingName, trueRankingName)\n",
      "        tps.toList\n",
      "    }\n",
      "        \n",
      "    \n",
      "    \n",
      "    def printOrderedBy(name: String): Unit = {\n",
      "        assert(rankings.keys.toSet contains name, \"Ranking name not in experiment.\")\n",
      "        val order = rankings(name).sortedByStrength.map(_._1)\n",
      "        val maxStrengthStringLengths = (for(name <- rankings.keys) yield (name, rankings(name).strengths.toList.map(_._2).map(_.toString.length).max)).toMap\n",
      "        val maxEdgeStringLength = order.map(_.toString.length).max\n",
      "        \n",
      "        //print table header\n",
      "        for(i <- 0 to maxEdgeStringLength) print(\" \")\n",
      "        for(name <- rankings.keys) {\n",
      "            \n",
      "            print(name)\n",
      "            for(i <- 0 to (maxStrengthStringLengths(name) - name.length)) print(\" \")\n",
      "        }\n",
      "        println(\"\")\n",
      "        \n",
      "        //print rows\n",
      "        for(edge <- order) {\n",
      "            \n",
      "            print(edge)\n",
      "            for(i <- 0 to (maxEdgeStringLength - edge.toString.length)) print(\" \")\n",
      "            for(name <- rankings.keys) {\n",
      "                val strength = rankings(name).strengths(edge)\n",
      "                print(strength)\n",
      "                for(i <- 0 to (maxStrengthStringLengths(name) - strength.toString.length)) print(\" \")\n",
      "            }\n",
      "            println(\"\")\n",
      "        }\n",
      "    }\n",
      "        \n",
      "}\n",
      "object Experiment{\n",
      "        def apply(samples: Seq[Seq[Spin]], domain: CategoricalDomain[Char], name: String) = {\n",
      "            new Experiment(samples, Map(\"name\" -> name, \"domain\" -> domain))\n",
      "        }\n",
      "}\n",
      "        "
     ],
     "language": "python",
     "metadata": {},
     "outputs": [
      {
       "output_type": "stream",
       "stream": "stdout",
       "text": []
      },
      {
       "output_type": "stream",
       "stream": "stderr",
       "text": []
      },
      {
       "metadata": {},
       "output_type": "pyout",
       "prompt_number": 288,
       "text": [
        "Experiment$@125a78f0"
       ]
      }
     ],
     "prompt_number": 288
    },
    {
     "cell_type": "code",
     "collapsed": false,
     "input": [
      "//def experiment(numSites: Int, domain: CategoricalDomain[Char], connectedness: Double): (PottsModel, PottsModel, PottsModel, Long, Double, Seq[IndexedSeq[Spin]]) = {\n",
      "    val domain = spinDomain\n",
      "    //val domain = new CategoricalDomain[Char](List('a', 'b'))\n",
      "    val numSites = 20\n",
      "    val connectedness = 0.2\n",
      "    val g = GREMLINWeightGenerator(domain, numSites, connectedness, true)\n",
      "    val localWeights = g.generateLocalMassesNormal\n",
      "    val pairwiseWeights = g.generatePairwiseMassesNormal\n",
      "    val trueModel = PottsModel(localWeights, pairwiseWeights, domain)\n",
      "    val spins = Spin.vector('a', numSites, domain)\n",
      "    val strings = generateSampleStrings(80, trueModel, spins)\n",
      "    val samples = strings.map(Spin.vector(_, domain))\n",
      "    val samples2 = strings.map(Spin.vector(_, domain))\n",
      "    val objectiveModel = PottsModel.frequenciesAsWeights(samples, domain)\n",
      "    val learnedModel = PottsModel.logFreqsAsLocalWeights(samples, domain)\n",
      "    val sampler = new GibbsSampler(learnedModel)\n",
      "    val samp2 = sampler.asInstanceOf[Sampler[Object]]\n",
      "                                \n",
      "   \n",
      "    "
     ],
     "language": "python",
     "metadata": {},
     "outputs": [
      {
       "output_type": "stream",
       "stream": "stdout",
       "text": []
      },
      {
       "output_type": "stream",
       "stream": "stderr",
       "text": []
      },
      {
       "metadata": {},
       "output_type": "pyout",
       "prompt_number": 231,
       "text": [
        "cc.factorie.infer.GibbsSampler@73cd63c9"
       ]
      }
     ],
     "prompt_number": 231
    },
    {
     "cell_type": "code",
     "collapsed": false,
     "input": [
      "val opt = new AdaGrad()"
     ],
     "language": "python",
     "metadata": {},
     "outputs": [
      {
       "output_type": "stream",
       "stream": "stderr",
       "text": []
      },
      {
       "output_type": "stream",
       "stream": "stdout",
       "text": []
      },
      {
       "metadata": {},
       "output_type": "pyout",
       "prompt_number": 25,
       "text": [
        "cc.factorie.optimize.AdaGrad@26eccef"
       ]
      }
     ],
     "prompt_number": 25
    },
    {
     "cell_type": "code",
     "collapsed": false,
     "input": [
      "val learnedModel = PottsModel.logFreqsAsLocalWeights(samples, domain)\n",
      "Timer.start\n",
      "\n",
      "for(sample <- samples) {\n",
      "    val CDexamples = for(variable <- sample) yield new optimize.ContrastiveDivergenceExample(variable, learnedModel, samp2)\n",
      "    Trainer.onlineTrain(learnedModel.parameters, CDexamples, optimizer=opt)\n",
      "    //Trainer.onlineTrain(learnedModel.parameters, CDexamples)\n",
      "}\n",
      "Timer.stop\n",
      "\n",
      "  "
     ],
     "language": "python",
     "metadata": {},
     "outputs": [
      {
       "output_type": "stream",
       "stream": "stderr",
       "text": []
      },
      {
       "output_type": "stream",
       "stream": "stdout",
       "text": []
      },
      {
       "metadata": {},
       "output_type": "pyout",
       "prompt_number": 232,
       "text": [
        "686388"
       ]
      }
     ],
     "prompt_number": 232
    },
    {
     "cell_type": "code",
     "collapsed": false,
     "input": [
      "val e = Experiment(samples,  domain, \"20, complete\")"
     ],
     "language": "python",
     "metadata": {},
     "outputs": [
      {
       "output_type": "stream",
       "stream": "stdout",
       "text": []
      },
      {
       "output_type": "stream",
       "stream": "stderr",
       "text": []
      },
      {
       "metadata": {},
       "output_type": "pyout",
       "prompt_number": 289,
       "text": [
        "Experiment@72b9d547"
       ]
      }
     ],
     "prompt_number": 289
    },
    {
     "cell_type": "code",
     "collapsed": false,
     "input": [
      "e.addRanking(ConnectionStrengths(learnedModel, \"learned\"))\n",
      "e.addRanking(ConnectionStrengths(trueModel, \"true\"))\n",
      "e.addRanking(ConnectionStrengths.MI(samples, domain))"
     ],
     "language": "python",
     "metadata": {},
     "outputs": [
      {
       "output_type": "stream",
       "stream": "stdout",
       "text": []
      },
      {
       "output_type": "stream",
       "stream": "stderr",
       "text": []
      }
     ],
     "prompt_number": 290
    },
    {
     "cell_type": "code",
     "collapsed": false,
     "input": [
      "val m  = PottsModel.frequenciesAsWeights(samples, domain)"
     ],
     "language": "python",
     "metadata": {},
     "outputs": [
      {
       "output_type": "stream",
       "stream": "stdout",
       "text": []
      },
      {
       "output_type": "stream",
       "stream": "stderr",
       "text": []
      },
      {
       "metadata": {},
       "output_type": "pyout",
       "prompt_number": 291,
       "text": [
        "PottsModel@61dc0f6f"
       ]
      }
     ],
     "prompt_number": 291
    },
    {
     "cell_type": "code",
     "collapsed": false,
     "input": [
      "m.pairwiseFamilies((0, 1)).weights.value"
     ],
     "language": "python",
     "metadata": {},
     "outputs": [
      {
       "output_type": "stream",
       "stream": "stdout",
       "text": []
      },
      {
       "output_type": "stream",
       "stream": "stderr",
       "text": []
      },
      {
       "metadata": {},
       "output_type": "pyout",
       "prompt_number": 250,
       "text": [
        "DenseTensor2(-5.810164620171216,-6.808015560752374,-11.56590683375813,-9.123559798388923,-9.123559798388923,-11.56590683375813,-5.118600971216916,-4.223451321399492,-8.084666744422437,-5.362359682695362,-8.084666744422437,-8.084666744422437,-7.804706718064566,-9.123559798388923,-6.721719747299537,-6.808015560752374,-9.123559798388923,-7.586225179856168,-6.318882761597642,-11.56590683375813,-8.474864380399813,-7.804706718064566,-9.123559798388923,-11.56590683375813,-11.56590683375813,-9.123559798388923,-11.56590683375813,-7.586225179856168,-6.436008118835055,-11.56590683375813,-7.804706718064566,-11.56590683375813,-9.123559798388923,-11.56590683375813,-11.56590683375813,-8.474864380399813,-8.474864380399813,-11.56590683375813,-11.56590683375813,-8.474864380399813,-11.56590683375813,-11.56590683375813,-6.07490512338059,-8.084666744422437,-11.56590683375813,-7.804706718064566,-7.804706718064566,-11.56590683375813,-5.280840271687375,-4.338607509175467...)"
       ]
      }
     ],
     "prompt_number": 250
    },
    {
     "cell_type": "code",
     "collapsed": false,
     "input": [
      "m.parameters(m.pairwiseFamilies((0, 1)).weights).asInstanceOf[DenseTensor2](0, 0)"
     ],
     "language": "python",
     "metadata": {},
     "outputs": [
      {
       "output_type": "stream",
       "stream": "stderr",
       "text": []
      },
      {
       "output_type": "stream",
       "stream": "stdout",
       "text": []
      },
      {
       "metadata": {},
       "output_type": "pyout",
       "prompt_number": 246,
       "text": [
        "-5.810164620171216"
       ]
      }
     ],
     "prompt_number": 246
    },
    {
     "cell_type": "code",
     "collapsed": false,
     "input": [
      "e.printOrderedBy(\"learned\")"
     ],
     "language": "python",
     "metadata": {},
     "outputs": [
      {
       "output_type": "stream",
       "stream": "stdout",
       "text": [
        "        learned            true               MI  \n",
        "(1,6)   20.570774936358852 5.9669930114453775 NaN \n",
        "(7,9)   20.54191269029008  5.926816489200179  NaN \n",
        "(18,19) 19.982001539489573 5.8791076863199505 NaN \n",
        "(11,14) 19.956006025345378 5.729342317245977  NaN \n",
        "(5,11)  19.24225058658362  5.980233965084991  NaN \n",
        "(9,10)  19.24140741940287  5.92849288721589   NaN \n",
        "(3,10)  19.06044522777291  5.880198330057664  NaN \n",
        "(1,5)   18.99642501921061  5.811790605667623  NaN \n",
        "(12,13) 18.851351512764086 5.915432439659882  NaN \n",
        "(0,17)  18.679004590364478 5.575596697923671  NaN \n",
        "(1,8)   18.44379400504907  5.600211969908815  NaN \n",
        "(10,15) 18.38634632267516  5.95790651479959   NaN \n",
        "(13,15) 18.353069604435284 5.753803088840733  NaN \n",
        "(4,17)  17.164012579381176 5.685897762602004  NaN \n",
        "(2,16)  17.03744474627032  6.013864181010726  NaN \n",
        "(10,16) 16.42477339742066  5.669817117260576  NaN \n",
        "(5,6)   16.208199349393233 0.0                NaN \n",
        "(6,8)   15.607363719552904 0.0                NaN \n",
        "(7,10)  15.388061688468827 0.0                NaN \n",
        "(1,11)  15.083193326322817 0.0                NaN \n",
        "(5,14)  14.852649536218587 0.0                NaN \n",
        "(3,9)   14.780017523258868 0.0                NaN \n",
        "(0,4)   14.643174735116538 0.0                NaN \n",
        "(9,15)  14.20740140988532  0.0                NaN \n",
        "(3,15)  14.032016997280902 0.0                NaN \n",
        "(5,8)   13.239115136420386 0.0                NaN \n",
        "(6,11)  13.007013842506758 0.0                NaN \n",
        "(2,10)  12.589396109675818 0.0                NaN \n",
        "(10,13) 12.501329268032462 0.0                NaN \n",
        "(12,15) 12.407137270208226 0.0                NaN \n",
        "(9,16)  12.372605986448916 0.0                NaN \n",
        "(15,16) 11.997835123632383 0.0                NaN \n",
        "(1,14)  11.9948568753025   0.0                NaN \n",
        "(3,16)  11.86238092075816  0.0                NaN \n",
        "(3,7)   11.706043979863091 0.0                NaN \n",
        "(6,14)  11.119857298462595 0.0                NaN \n",
        "(8,11)  11.059901497469538 0.0                NaN \n",
        "(7,15)  10.966193631835601 0.0                NaN \n",
        "(9,13)  10.338376467153509 0.0                NaN \n",
        "(3,13)  10.135917230805058 0.0                NaN \n",
        "(7,16)  9.996805424389311  0.0                NaN \n",
        "(2,15)  9.770282954695121  0.0                NaN \n",
        "(2,3)   9.715006814353115  0.0                NaN \n",
        "(8,14)  9.525046107728663  0.0                NaN \n",
        "(2,9)   9.501173488967211  0.0                NaN \n",
        "(7,13)  9.471716263895203  0.0                NaN \n",
        "(1,10)  9.46886042185476   0.0                NaN \n",
        "(10,12) 9.391487267080075  0.0                NaN \n",
        "(11,13) 9.354450458532778  0.0                NaN \n",
        "(13,14) 9.113073936520152  0.0                NaN \n",
        "(14,15) 9.11220407906381   0.0                NaN \n",
        "(10,11) 9.109898191239274  0.0                NaN \n",
        "(6,10)  9.089906856060121  0.0                NaN \n",
        "(5,10)  9.089821404456783  0.0                NaN \n",
        "(6,12)  9.06347742852158   0.0                NaN \n",
        "(12,14) 9.061904575634896  0.0                NaN \n",
        "(10,14) 9.037341764925333  0.0                NaN \n",
        "(1,9)   9.001494342645582  0.0                NaN \n",
        "(7,12)  8.971424838054828  0.0                NaN \n",
        "(9,11)  8.96344802359892   0.0                NaN \n",
        "(13,16) 8.958925696654207  0.0                NaN \n",
        "(7,14)  8.917008562301042  0.0                NaN \n",
        "(9,14)  8.9101831586363    0.0                NaN \n",
        "(11,15) 8.906459339365718  0.0                NaN \n",
        "(3,11)  8.893252681027363  0.0                NaN \n",
        "(3,14)  8.883739934359138  0.0                NaN \n",
        "(3,12)  8.87063656083782   0.0                NaN \n",
        "(11,12) 8.860207136941536  0.0                NaN \n",
        "(5,13)  8.849960611038355  0.0                NaN \n",
        "(3,6)   8.839373773804038  0.0                NaN \n",
        "(7,11)  8.82029041965897   0.0                NaN \n",
        "(8,13)  8.815842801172007  0.0                NaN \n",
        "(6,9)   8.80803751248349   0.0                NaN \n",
        "(8,10)  8.807471192774443  0.0                NaN \n",
        "(5,12)  8.779103964068163  0.0                NaN \n",
        "(1,13)  8.778040777682515  0.0                NaN \n",
        "(0,6)   8.763087011603185  0.0                NaN \n",
        "(0,12)  8.756481343556947  0.0                NaN \n",
        "(3,8)   8.754378237047256  0.0                NaN \n",
        "(8,12)  8.73410740830212   0.0                NaN \n",
        "(5,7)   8.709649991785119  0.0                NaN \n",
        "(8,9)   8.706539285033216  0.0                NaN \n",
        "(5,9)   8.678235259222665  0.0                NaN \n",
        "(6,13)  8.674069592672488  0.0                NaN \n",
        "(14,19) 8.658025359157707  0.0                NaN \n",
        "(12,16) 8.63630464410971   0.0                NaN \n",
        "(0,3)   8.631674871713642  0.0                NaN \n",
        "(0,8)   8.630912146551745  0.0                NaN \n",
        "(6,7)   8.626199988302584  0.0                NaN \n",
        "(3,5)   8.62408822571828   0.0                NaN \n",
        "(0,10)  8.611551194600823  0.0                NaN \n",
        "(14,18) 8.604649660012788  0.0                NaN \n",
        "(7,18)  8.594536455448113  0.0                NaN \n",
        "(2,8)   8.592845737875857  0.0                NaN \n",
        "(0,13)  8.567815297646668  0.0                NaN \n",
        "(10,18) 8.567283414393648  0.0                NaN \n",
        "(13,19) 8.544403779892992  0.0                NaN \n",
        "(1,17)  8.53671195303628   0.0                NaN \n",
        "(0,15)  8.536054608579548  0.0                NaN \n",
        "(0,1)   8.535278622077799  0.0                NaN \n",
        "(1,3)   8.520690073979079  0.0                NaN \n",
        "(7,8)   8.515971484213502  0.0                NaN \n",
        "(1,15)  8.50600684257252   0.0                NaN \n",
        "(2,13)  8.500952402610793  0.0                NaN \n",
        "(2,12)  8.499523358189926  0.0                NaN \n",
        "(2,7)   8.488449453026266  0.0                NaN \n",
        "(0,14)  8.488293468153671  0.0                NaN \n",
        "(6,17)  8.487194293633648  0.0                NaN \n",
        "(8,16)  8.481212395913444  0.0                NaN \n",
        "(10,17) 8.466907452151167  0.0                NaN \n",
        "(15,19) 8.461160726472762  0.0                NaN \n",
        "(2,6)   8.45869151557835   0.0                NaN \n",
        "(10,19) 8.437572024038728  0.0                NaN \n",
        "(0,7)   8.421186365579418  0.0                NaN \n",
        "(9,18)  8.420079035468381  0.0                NaN \n",
        "(6,18)  8.417247617522623  0.0                NaN \n",
        "(0,11)  8.414769144757704  0.0                NaN \n",
        "(5,15)  8.407977459777895  0.0                NaN \n",
        "(9,12)  8.390460108407547  0.0                NaN \n",
        "(11,18) 8.387560036853271  0.0                NaN \n",
        "(5,17)  8.381962209523698  0.0                NaN \n",
        "(6,16)  8.366497389296107  0.0                NaN \n",
        "(6,19)  8.361792505620857  0.0                NaN \n",
        "(12,19) 8.357249750068336  0.0                NaN \n",
        "(15,17) 8.352947229485816  0.0                NaN \n",
        "(2,14)  8.352753238359368  0.0                NaN \n",
        "(11,17) 8.345506052403913  0.0                NaN \n",
        "(14,17) 8.344195264317099  0.0                NaN \n",
        "(14,16) 8.34080131553329   0.0                NaN \n",
        "(1,7)   8.339529515718997  0.0                NaN \n",
        "(1,12)  8.331761162766792  0.0                NaN \n",
        "(4,14)  8.329093015340456  0.0                NaN \n",
        "(8,15)  8.327129883316648  0.0                NaN \n",
        "(12,18) 8.316033326834585  0.0                NaN \n",
        "(0,9)   8.315360484513349  0.0                NaN \n",
        "(4,6)   8.3002123224261    0.0                NaN \n",
        "(1,16)  8.296004181177695  0.0                NaN \n",
        "(15,18) 8.285640563323797  0.0                NaN \n",
        "(4,7)   8.284147534114904  0.0                NaN \n",
        "(13,18) 8.279135199072133  0.0                NaN \n",
        "(11,19) 8.274305707508603  0.0                NaN \n",
        "(13,17) 8.272763733735509  0.0                NaN \n",
        "(12,17) 8.269179134737355  0.0                NaN \n",
        "(8,18)  8.263523037777205  0.0                NaN \n",
        "(4,9)   8.263441406919531  0.0                NaN \n",
        "(0,5)   8.257898390197374  0.0                NaN \n",
        "(8,19)  8.256320697372809  0.0                NaN \n",
        "(7,19)  8.242984982700209  0.0                NaN \n",
        "(4,13)  8.239679645168962  0.0                NaN \n",
        "(5,16)  8.236186471253657  0.0                NaN \n",
        "(3,18)  8.229571106378316  0.0                NaN \n",
        "(3,4)   8.212946194677949  0.0                NaN \n",
        "(2,11)  8.205548719493114  0.0                NaN \n",
        "(1,2)   8.20000106787045   0.0                NaN \n",
        "(4,11)  8.199669996555098  0.0                NaN \n",
        "(4,10)  8.144214237160636  0.0                NaN \n",
        "(0,16)  8.129048383041932  0.0                NaN \n",
        "(0,2)   8.127579017207541  0.0                NaN \n",
        "(3,19)  8.123865820586069  0.0                NaN \n",
        "(3,17)  8.114913227028332  0.0                NaN \n",
        "(6,15)  8.105447914492082  0.0                NaN \n",
        "(11,16) 8.096149548667485  0.0                NaN \n",
        "(8,17)  8.09126442453729   0.0                NaN \n",
        "(9,17)  8.064255474263874  0.0                NaN \n",
        "(9,19)  8.059274348954066  0.0                NaN \n",
        "(1,4)   8.050690702006602  0.0                NaN \n",
        "(7,17)  8.049503693938908  0.0                NaN \n",
        "(1,18)  8.019018805615987  0.0                NaN \n",
        "(4,8)   8.0150782931196    0.0                NaN \n",
        "(1,19)  8.003302731282634  0.0                NaN \n",
        "(4,12)  7.995831172946938  0.0                NaN \n",
        "(2,5)   7.981673471950803  0.0                NaN \n",
        "(5,18)  7.980027633977781  0.0                NaN \n",
        "(2,19)  7.958434425486489  0.0                NaN \n",
        "(0,19)  7.934331841247348  0.0                NaN \n",
        "(2,18)  7.91975338526073   0.0                NaN \n",
        "(0,18)  7.894999151107108  0.0                NaN \n",
        "(4,15)  7.833640084097363  0.0                NaN \n",
        "(16,19) 7.829519880340189  0.0                NaN \n",
        "(5,19)  7.816288495070895  0.0                NaN \n",
        "(16,17) 7.796401834114518  0.0                NaN \n",
        "(2,17)  7.721424444197877  0.0                NaN \n",
        "(4,5)   7.705762060349358  0.0                NaN \n",
        "(16,18) 7.672691355518742  0.0                NaN \n",
        "(17,19) 7.667270111281319  0.0                NaN \n",
        "(4,19)  7.574687952389561  0.0                NaN \n",
        "(17,18) 7.526578992803978  0.0                NaN \n",
        "(4,18)  7.459203938132673  0.0                NaN \n",
        "(4,16)  7.440157717741816  0.0                NaN \n",
        "(2,4)   7.319527543309021  0.0                NaN \n"
       ]
      },
      {
       "output_type": "stream",
       "stream": "stderr",
       "text": []
      }
     ],
     "prompt_number": 292
    },
    {
     "cell_type": "code",
     "collapsed": false,
     "input": [
      "val learnedModel = PottsModel.logFreqsAsLocalWeights(samples, domain)\n",
      "Timer.start\n",
      "\n",
      "for(sample <- samples) {\n",
      "    val CDexamples = for(variable <- sample) yield new optimize.ContrastiveDivergenceExample(variable, learnedModel, samp2)\n",
      "    //Trainer.onlineTrain(learnedModel.parameters, CDexamples, optimizer=opt)\n",
      "    Trainer.onlineTrain(learnedModel.parameters, CDexamples)\n",
      "}\n",
      "Timer.stop\n",
      "\n",
      "  "
     ],
     "language": "python",
     "metadata": {},
     "outputs": [
      {
       "output_type": "stream",
       "stream": "stdout",
       "text": []
      },
      {
       "output_type": "stream",
       "stream": "stderr",
       "text": []
      },
      {
       "metadata": {},
       "output_type": "pyout",
       "prompt_number": 33,
       "text": [
        "7803269"
       ]
      }
     ],
     "prompt_number": 33
    },
    {
     "cell_type": "code",
     "collapsed": false,
     "input": [
      "val learnedModel2 = PottsModel.logFreqsAsLocalWeights(samples2, domain)\n",
      "Timer.start\n",
      "\n",
      "for(sample <- samples2) {\n",
      "    val CDexamples = for(variable <- sample) yield new optimize.ContrastiveDivergenceExample(variable, learnedModel, samp2)\n",
      "    Trainer.batchTrain(learnedModel.parameters, CDexamples)\n",
      "}\n",
      "Timer.stop\n",
      "\n",
      "  "
     ],
     "language": "python",
     "metadata": {},
     "outputs": [
      {
       "output_type": "stream",
       "stream": "stdout",
       "text": []
      },
      {
       "output_type": "stream",
       "stream": "stderr",
       "text": []
      },
      {
       "ename": "java.lang.Error",
       "evalue": "Slope=0.0 is negative or zero.",
       "output_type": "pyerr",
       "traceback": [
        "java.lang.Error: Slope=0.0 is negative or zero.",
        "    cc.factorie.optimize.BackTrackLineOptimizer.step(LineOptimizer.scala:77)",
        "    cc.factorie.optimize.LBFGS.step(LBFGS.scala:118)",
        "    cc.factorie.optimize.Trainer$$anon$2.cc$factorie$optimize$L2Regularization$$super$step(Trainer.scala:421)",
        "    cc.factorie.optimize.L2Regularization$class.step(GradientOptimizer.scala:43)",
        "    cc.factorie.optimize.Trainer$$anon$2.step(Trainer.scala:421)",
        "    cc.factorie.optimize.ParallelBatchTrainer.processExamples(Trainer.scala:124)",
        "    cc.factorie.optimize.Trainer$.train(Trainer.scala:387)",
        "    cc.factorie.optimize.Trainer$.batchTrain(Trainer.scala:422)"
       ]
      }
     ],
     "prompt_number": 23
    },
    {
     "cell_type": "code",
     "collapsed": false,
     "input": [
      "//val learnedModel2 = PottsModel.logFreqsAsLocalWeights(samples, domain)\n",
      "val ex6 = for(v <- samples) yield new LikelihoodExample(v, learnedModel, InferByBPLoopy)\n",
      "Timer.start\n",
      "Trainer.batchTrain(learnedModel.parameters, ex6)\n",
      "println(Timer.stop)"
     ],
     "language": "python",
     "metadata": {},
     "outputs": [
      {
       "output_type": "stream",
       "stream": "stderr",
       "text": []
      },
      {
       "output_type": "stream",
       "stream": "stdout",
       "text": []
      }
     ],
     "prompt_number": 40
    },
    {
     "cell_type": "markdown",
     "metadata": {},
     "source": [
      "Tried, but didn't work well:\n",
      "- onlineTrain with L2RegularizedConstantRate()\n"
     ]
    },
    {
     "cell_type": "code",
     "collapsed": false,
     "input": [
      "m"
     ],
     "language": "python",
     "metadata": {},
     "outputs": [
      {
       "output_type": "stream",
       "stream": "stdout",
       "text": []
      },
      {
       "ename": "",
       "evalue": "",
       "output_type": "pyerr",
       "traceback": [
        "<console>:31: error: not found: value m",
        "              m",
        "              ^"
       ]
      },
      {
       "output_type": "stream",
       "stream": "stderr",
       "text": []
      }
     ],
     "prompt_number": 38
    },
    {
     "cell_type": "code",
     "collapsed": false,
     "input": [],
     "language": "python",
     "metadata": {},
     "outputs": [],
     "prompt_number": "*"
    },
    {
     "cell_type": "code",
     "collapsed": false,
     "input": [
      "val m = experiment(4, smallDomain, 0.3)"
     ],
     "language": "python",
     "metadata": {},
     "outputs": [
      {
       "output_type": "stream",
       "stream": "stdout",
       "text": []
      },
      {
       "ename": "",
       "evalue": "",
       "output_type": "pyerr",
       "traceback": [
        "<console>:44: error: not found: value smallDomain",
        "       val m = experiment(4, smallDomain, 0.3)",
        "                             ^"
       ]
      },
      {
       "output_type": "stream",
       "stream": "stderr",
       "text": []
      }
     ],
     "prompt_number": 28
    },
    {
     "cell_type": "code",
     "collapsed": false,
     "input": [
      "ModelValidator(m._1, m._2).printStats"
     ],
     "language": "python",
     "metadata": {},
     "outputs": [
      {
       "output_type": "stream",
       "stream": "stdout",
       "text": []
      },
      {
       "output_type": "stream",
       "stream": "stderr",
       "text": []
      },
      {
       "ename": "",
       "evalue": "",
       "output_type": "pyerr",
       "traceback": [
        "<console>:52: error: not found: value m",
        "              ModelValidator(m._1, m._2).printStats",
        "                             ^"
       ]
      }
     ],
     "prompt_number": 38
    },
    {
     "cell_type": "code",
     "collapsed": false,
     "input": [
      "val objectiveModel = PottsModel.frequenciesAsWeights(vectors, smallDomain)"
     ],
     "language": "python",
     "metadata": {},
     "outputs": [
      {
       "output_type": "stream",
       "stream": "stdout",
       "text": []
      },
      {
       "output_type": "stream",
       "stream": "stderr",
       "text": []
      },
      {
       "ename": "",
       "evalue": "",
       "output_type": "pyerr",
       "traceback": [
        "<console>:50: error: not found: value vectors",
        "       val objectiveModel = PottsModel.frequenciesAsWeights(vectors, smallDomain)",
        "                                                            ^"
       ]
      }
     ],
     "prompt_number": 39
    },
    {
     "cell_type": "code",
     "collapsed": false,
     "input": [
      "val m6 = PottsModel(numSites, smallDomain)\n",
      "val ex6 = for(v <- vectors) yield new LikelihoodExample(v, m6, InferByBPLoopy)\n",
      "Timer.start\n",
      "Trainer.batchTrain(m6.parameters, ex6)\n",
      "println(Timer.stop)"
     ],
     "language": "python",
     "metadata": {},
     "outputs": [
      {
       "output_type": "stream",
       "stream": "stdout",
       "text": []
      },
      {
       "output_type": "stream",
       "stream": "stderr",
       "text": []
      },
      {
       "ename": "",
       "evalue": "",
       "output_type": "pyerr",
       "traceback": [
        "<console>:51: error: not found: value numSites",
        "              val m6 = PottsModel(numSites, smallDomain)",
        "                                  ^",
        "<console>:52: error: not found: value vectors",
        "              val ex6 = for(v <- vectors) yield new LikelihoodExample(v, m6, InferByBPLoopy)",
        "                                 ^"
       ]
      }
     ],
     "prompt_number": 40
    },
    {
     "cell_type": "markdown",
     "metadata": {},
     "source": [
      "The model works best around 0.3 connectivity!\n",
      "I've also removed the symmetry in the weights creation, does this change anything??"
     ]
    },
    {
     "cell_type": "code",
     "collapsed": false,
     "input": [
      "val mis = MutualInformation(strings, smallDomain).allMIs\n",
      "ModelValidator(trueM, m6, mis).printStats"
     ],
     "language": "python",
     "metadata": {},
     "outputs": [
      {
       "output_type": "stream",
       "stream": "stdout",
       "text": []
      },
      {
       "output_type": "stream",
       "stream": "stderr",
       "text": []
      },
      {
       "ename": "",
       "evalue": "",
       "output_type": "pyerr",
       "traceback": [
        "<console>:54: error: not found: value strings",
        "              val mis = MutualInformation(strings, smallDomain).allMIs",
        "                                          ^",
        "<console>:57: error: not found: value trueM",
        "              ModelValidator(trueM, m6, mis).printStats",
        "                             ^"
       ]
      }
     ],
     "prompt_number": 41
    },
    {
     "cell_type": "code",
     "collapsed": false,
     "input": [
      "val modelSR = PottsModel(numSites, smallDomain)\n",
      "val sampler = new GibbsSampler(modelSR, objectiveModel)"
     ],
     "language": "python",
     "metadata": {},
     "outputs": [
      {
       "output_type": "stream",
       "stream": "stdout",
       "text": []
      },
      {
       "output_type": "stream",
       "stream": "stderr",
       "text": []
      },
      {
       "ename": "",
       "evalue": "",
       "output_type": "pyerr",
       "traceback": [
        "<console>:50: error: not found: value numSites",
        "       val modelSR = PottsModel(numSites, smallDomain)",
        "                                ^",
        "<console>:51: error: not found: value objectiveModel",
        "       val sampler = new GibbsSampler(modelSR, objectiveModel)",
        "                                               ^"
       ]
      }
     ],
     "prompt_number": 42
    },
    {
     "cell_type": "code",
     "collapsed": false,
     "input": [
      "import cc.factorie.optimize.SampleRankTrainer"
     ],
     "language": "python",
     "metadata": {},
     "outputs": [
      {
       "output_type": "stream",
       "stream": "stderr",
       "text": []
      },
      {
       "output_type": "stream",
       "stream": "stdout",
       "text": []
      }
     ],
     "prompt_number": 43
    },
    {
     "cell_type": "code",
     "collapsed": false,
     "input": [
      "val SRTrainer = new SampleRankTrainer(modelSR.parameters, sampler)"
     ],
     "language": "python",
     "metadata": {},
     "outputs": [
      {
       "output_type": "stream",
       "stream": "stderr",
       "text": []
      },
      {
       "ename": "",
       "evalue": "",
       "output_type": "pyerr",
       "traceback": [
        "<console>:48: error: not found: value modelSR",
        "       val SRTrainer = new SampleRankTrainer(modelSR.parameters, sampler)",
        "                                             ^",
        "<console>:48: error: not found: value sampler",
        "       val SRTrainer = new SampleRankTrainer(modelSR.parameters, sampler)",
        "                                                                 ^"
       ]
      },
      {
       "output_type": "stream",
       "stream": "stdout",
       "text": []
      }
     ],
     "prompt_number": 44
    },
    {
     "cell_type": "code",
     "collapsed": false,
     "input": [
      "vectors(0)"
     ],
     "language": "python",
     "metadata": {},
     "outputs": [
      {
       "output_type": "stream",
       "stream": "stdout",
       "text": []
      },
      {
       "ename": "",
       "evalue": "",
       "output_type": "pyerr",
       "traceback": [
        "<console>:49: error: not found: value vectors",
        "              vectors(0)",
        "              ^"
       ]
      },
      {
       "output_type": "stream",
       "stream": "stderr",
       "text": []
      }
     ],
     "prompt_number": 45
    },
    {
     "cell_type": "code",
     "collapsed": false,
     "input": [
      "Timer.start\n",
      "for(v <- vectors) SRTrainer.processContexts(v, iterations=10)\n",
      "ModelValidator(trueM, modelSR, mis).printStats\n",
      "print(\"--\")\n",
      "Timer.stop"
     ],
     "language": "python",
     "metadata": {},
     "outputs": [
      {
       "output_type": "stream",
       "stream": "stdout",
       "text": []
      },
      {
       "output_type": "stream",
       "stream": "stderr",
       "text": []
      },
      {
       "ename": "",
       "evalue": "",
       "output_type": "pyerr",
       "traceback": [
        "<console>:54: error: not found: value vectors",
        "              for(v <- vectors) SRTrainer.processContexts(v, iterations=10)",
        "                       ^",
        "<console>:55: error: not found: value trueM",
        "              ModelValidator(trueM, modelSR, mis).printStats",
        "                             ^"
       ]
      }
     ],
     "prompt_number": 46
    },
    {
     "cell_type": "code",
     "collapsed": false,
     "input": [
      "import cc.factorie.infer.{SamplingMaximizer, VariableSettingsSampler}"
     ],
     "language": "python",
     "metadata": {},
     "outputs": [
      {
       "output_type": "stream",
       "stream": "stdout",
       "text": []
      },
      {
       "output_type": "stream",
       "stream": "stderr",
       "text": []
      }
     ],
     "prompt_number": 47
    },
    {
     "cell_type": "code",
     "collapsed": false,
     "input": [
      "val maximizer = new SamplingMaximizer[Spin](new VariableSettingsSampler(objectiveModel))"
     ],
     "language": "python",
     "metadata": {},
     "outputs": [
      {
       "ename": "",
       "evalue": "",
       "output_type": "pyerr",
       "traceback": [
        "<console>:50: error: not found: value objectiveModel",
        "Error occurred in an application involving default arguments.",
        "       val maximizer = new SamplingMaximizer[Spin](new VariableSettingsSampler(objectiveModel))",
        "                                                                               ^"
       ]
      },
      {
       "output_type": "stream",
       "stream": "stdout",
       "text": []
      },
      {
       "output_type": "stream",
       "stream": "stderr",
       "text": []
      }
     ],
     "prompt_number": 48
    },
    {
     "cell_type": "code",
     "collapsed": false,
     "input": [
      "vectors(0)"
     ],
     "language": "python",
     "metadata": {},
     "outputs": [
      {
       "output_type": "stream",
       "stream": "stdout",
       "text": []
      },
      {
       "output_type": "stream",
       "stream": "stderr",
       "text": []
      },
      {
       "ename": "",
       "evalue": "",
       "output_type": "pyerr",
       "traceback": [
        "<console>:50: error: not found: value vectors",
        "              vectors(0)",
        "              ^"
       ]
      }
     ],
     "prompt_number": 49
    },
    {
     "cell_type": "code",
     "collapsed": false,
     "input": [
      "maximizer.maximize(vectors(0), iterations=100, rounds=10)"
     ],
     "language": "python",
     "metadata": {},
     "outputs": [
      {
       "output_type": "stream",
       "stream": "stdout",
       "text": []
      },
      {
       "output_type": "stream",
       "stream": "stderr",
       "text": []
      },
      {
       "ename": "",
       "evalue": "",
       "output_type": "pyerr",
       "traceback": [
        "<console>:50: error: not found: value maximizer",
        "              maximizer.maximize(vectors(0), iterations=100, rounds=10)",
        "              ^"
       ]
      }
     ],
     "prompt_number": 50
    },
    {
     "cell_type": "code",
     "collapsed": false,
     "input": [
      "vectors(0)"
     ],
     "language": "python",
     "metadata": {},
     "outputs": [
      {
       "output_type": "stream",
       "stream": "stderr",
       "text": []
      },
      {
       "ename": "",
       "evalue": "",
       "output_type": "pyerr",
       "traceback": [
        "<console>:50: error: not found: value vectors",
        "              vectors(0)",
        "              ^"
       ]
      },
      {
       "output_type": "stream",
       "stream": "stdout",
       "text": []
      }
     ],
     "prompt_number": 51
    },
    {
     "cell_type": "code",
     "collapsed": false,
     "input": [],
     "language": "python",
     "metadata": {},
     "outputs": [],
     "prompt_number": 51
    }
   ],
   "metadata": {}
  }
 ]
}