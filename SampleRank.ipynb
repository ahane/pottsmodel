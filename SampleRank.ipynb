{
 "metadata": {
  "name": ""
 },
 "nbformat": 3,
 "nbformat_minor": 0,
 "worksheets": [
  {
   "cells": [
    {
     "cell_type": "code",
     "collapsed": false,
     "input": [
      "import cc.factorie._\n",
      "import cc.factorie.directed._\n",
      "import la.{DenseTensor2, Tensor2, DenseTensor1, Tensor1, Tensor}\n",
      "import cc.factorie.directed.{MaximizeMultivariateGaussianCovariance, MaximizeMultivariateGaussianMean, MultivariateGaussian, Gaussian}\n",
      "//import collection.mutable.{Map}\n",
      "import collection.mutable.{ArrayBuffer}\n",
      "import cc.factorie.variable.{CategoricalDomain, CategoricalVariable, DoubleVariable, MutableDiscreteVar}\n",
      "import cc.factorie.model.{Parameters, Model, Factor, DotFamilyWithStatistics1, DotFamilyWithStatistics2, Weights2, WeightsMap,WeightsSet}\n",
      "import cc.factorie.la.{DenseTensor1, DenseTensor2}"
     ],
     "language": "python",
     "metadata": {},
     "outputs": [
      {
       "output_type": "stream",
       "stream": "stderr",
       "text": []
      },
      {
       "output_type": "stream",
       "stream": "stdout",
       "text": []
      }
     ],
     "prompt_number": 1
    },
    {
     "cell_type": "code",
     "collapsed": false,
     "input": [
      "implicit val random = scala.util.Random"
     ],
     "language": "python",
     "metadata": {},
     "outputs": [
      {
       "output_type": "stream",
       "stream": "stdout",
       "text": []
      },
      {
       "output_type": "stream",
       "stream": "stderr",
       "text": []
      },
      {
       "metadata": {},
       "output_type": "pyout",
       "prompt_number": 2,
       "text": [
        "scala.util.Random$@1eb9a70d"
       ]
      }
     ],
     "prompt_number": 2
    },
    {
     "cell_type": "code",
     "collapsed": false,
     "input": [
      "object spinDomain extends CategoricalDomain[Char](List('a', 'r', 'n', 'd', 'c', 'q', 'e', 'g', 'h', 'i', 'l', 'k', 'm', 'f', 'p', 's', 't', 'w', 'y', 'v', '-'))  "
     ],
     "language": "python",
     "metadata": {},
     "outputs": [
      {
       "output_type": "stream",
       "stream": "stderr",
       "text": []
      },
      {
       "output_type": "stream",
       "stream": "stdout",
       "text": []
      },
      {
       "metadata": {},
       "output_type": "pyout",
       "prompt_number": 3,
       "text": [
        "CategoricalDomain[](21)"
       ]
      }
     ],
     "prompt_number": 3
    },
    {
     "cell_type": "code",
     "collapsed": false,
     "input": [
      "class GREMLINWeightGenerator(\n",
      "    val domain: CategoricalDomain[Char], \n",
      "    val numSites: Int, \n",
      "    val edgeProbability: Double,\n",
      "    val loopFree: Boolean,\n",
      "    val gamma_shape: Double = 1,\n",
      "    val gamma_scale: Double = 2,\n",
      "    val localMean: Double = 0,\n",
      "    val localVariance: Double = 1.0,\n",
      "    val pairwiseMean: Double = 0,\n",
      "    val pairwiseVariance: Double = 3.0)(implicit val random: scala.util.Random)  {\n",
      "    \n",
      "    \n",
      "    //allEdges contains all permutations of our\n",
      "    val allEdges = (for(i <- 0 until numSites; j <- 0 until numSites if i < j) yield (i, j)).toSet\n",
      "    val activeEdges = if(loopFree) {\n",
      "                                    drawFromSetLoopFree(edgeProbability, allEdges)\n",
      "                      } else {\n",
      "                              drawFromSet(edgeProbability, allEdges)\n",
      "                      }\n",
      "                              \n",
      "    \n",
      "    def drawFromSet[A](p: Double, s: Set[A]): Set[A] = {\n",
      "        val drawn = for(i <- s if random.nextDouble < p) yield i\n",
      "        drawn\n",
      "    }\n",
      "    \n",
      "    def drawFromSetLoopFree(p: Double, s: Set[(Int, Int)]): Set[(Int, Int)] = {\n",
      "        val drawn: ArrayBuffer[(Int, Int)] = new ArrayBuffer\n",
      "        var already_connected: Set[Int] = Set()\n",
      "        for(e <- s) {\n",
      "            if(random.nextDouble < 0.3) {\n",
      "                if(!((already_connected contains e._1) && (already_connected contains e._2))) {\n",
      "                    drawn += e\n",
      "                    already_connected += e._1\n",
      "                    already_connected += e._2\n",
      "                }\n",
      "            }\n",
      "        }\n",
      "        drawn.toSet\n",
      "    } \n",
      "    \n",
      "    def generateLocalMassesGamma: IndexedSeq[DenseTensor1] = {\n",
      "        implicit val model = DirectedModel()\n",
      "        \n",
      "        val shape = new DoubleVariable(gamma_shape)\n",
      "        val scale = new DoubleVariable(gamma_scale)\n",
      "        \n",
      "        val localMasses = for(i <- 0 until numSites) yield new DenseTensor1(domain.size)\n",
      "        for(massTensor <- localMasses){\n",
      "            for(i <- 0 until massTensor.dim1){\n",
      "                val mass = new DoubleVariable :~ Gamma(shape, scale)\n",
      "                massTensor(i) = mass.value\n",
      "            }\n",
      "        }\n",
      "        localMasses\n",
      "    }\n",
      "    \n",
      "    def generateLocalMassesNormal: IndexedSeq[DenseTensor1] = {\n",
      "        implicit val model = DirectedModel()\n",
      "        \n",
      "        val mean = new DoubleVariable(localMean)\n",
      "        val variance = new DoubleVariable(localVariance)\n",
      "        \n",
      "        val localMasses = for(i <- 0 until numSites) yield new DenseTensor1(domain.size)\n",
      "        for(massTensor <- localMasses){\n",
      "            for(i <- 0 until massTensor.dim1){\n",
      "                val mass = new DoubleVariable :~ Gaussian(mean, variance)\n",
      "                massTensor(i) = mass.value\n",
      "            }\n",
      "        }\n",
      "        localMasses\n",
      "    }\n",
      "    \n",
      "    def generatePairwiseMassesNormal: Map[(Int, Int), DenseTensor2] = {\n",
      "        val pairMasses: Map[(Int, Int), DenseTensor2] =(for(e <- activeEdges) yield (e -> generatePairwiseTensorNormal)).toMap\n",
      "        pairMasses\n",
      "    }\n",
      "    \n",
      "    def generatePairwiseTensorNormal: DenseTensor2 = {\n",
      "        implicit val model = DirectedModel()\n",
      "        \n",
      "        val mean = new DoubleVariable(pairwiseMean)\n",
      "        val variance = new DoubleVariable(pairwiseVariance)\n",
      "        \n",
      "        val tensor = new DenseTensor2(domain.size, domain.size)\n",
      "        for(a1 <- 0 until domain.size; a2 <- 0 until domain.size if a1 <= a2) {\n",
      "        //for(a1 <- 0 until domain.size; a2 <- 0 until domain.size) {\n",
      "            val mass = new DoubleVariable :~ Gaussian(mean, variance)\n",
      "            //our masses are symmetric, as we only have one factor for (i, j) and (j, i)\n",
      "            tensor(a1, a2) = mass.value\n",
      "            tensor(a2, a1) = mass.value\n",
      "        }\n",
      "        tensor\n",
      "    }\n",
      "        \n",
      "    def generatePairwiseMassesGamma: Map[(Int, Int), DenseTensor2] = {\n",
      "        val pairMasses: Map[(Int, Int), DenseTensor2] =(for(e <- activeEdges) yield (e -> generatePairwiseTensorGamma)).toMap\n",
      "        pairMasses\n",
      "    }\n",
      "    \n",
      "    def generatePairwiseTensorGamma: DenseTensor2 = {\n",
      "        implicit val model = DirectedModel()\n",
      "        \n",
      "        val shape = new DoubleVariable(gamma_shape)\n",
      "        val scale = new DoubleVariable(gamma_scale)\n",
      "        \n",
      "        val tensor = new DenseTensor2(domain.size, domain.size)\n",
      "        for(a1 <- 0 until domain.size; a2 <- 0 until domain.size if a1 <= a2) {\n",
      "            val mass = new DoubleVariable :~ Gamma(shape, scale)\n",
      "            //our weights are \n",
      "            tensor(a1, a2) = mass.value\n",
      "            tensor(a2, a1) = mass.value\n",
      "        }\n",
      "        tensor\n",
      "    }\n",
      "}\n",
      "\n",
      "object GREMLINWeightGenerator {\n",
      "    def apply(domain: CategoricalDomain[Char], n: Int, p: Double, lf: Boolean) = new GREMLINWeightGenerator(domain, n, p, lf)\n",
      "    def apply(domain: CategoricalDomain[Char], p: Double, lf: Boolean) = new GREMLINWeightGenerator(domain, 10, p, lf)\n",
      "}"
     ],
     "language": "python",
     "metadata": {},
     "outputs": [
      {
       "output_type": "stream",
       "stream": "stderr",
       "text": []
      },
      {
       "output_type": "stream",
       "stream": "stdout",
       "text": []
      },
      {
       "metadata": {},
       "output_type": "pyout",
       "prompt_number": 4,
       "text": [
        "GREMLINWeightGenerator$@73eec08e"
       ]
      }
     ],
     "prompt_number": 4
    },
    {
     "cell_type": "code",
     "collapsed": false,
     "input": [
      "class Spin(c: Char, val i: Int, d: CategoricalDomain[Char]) extends CategoricalVariable[Char](c){\n",
      "    \n",
      "    //This is how FACTORIE assigns domains to variables.\n",
      "    def domain = d\n",
      "    \n",
      "    //This is our own construct, to enable a spin to know what sample it is part of\n",
      "    var cont: IndexedSeq[Spin] = null\n",
      "    def setContainer(container: IndexedSeq[Spin]): Unit = {this.cont = container}\n",
      "    \n",
      "    override def toString = this.i.toString + \": \" + this.value.toString  \n",
      "}\n",
      "\n",
      "//Scalas companion objects allow for convenient Factory methods\n",
      "object Spin {\n",
      "    \n",
      "    //The standard factory method, removes the need to use 'new' when creating instances.\n",
      "    def apply(c: Char, i: Int, d: CategoricalDomain[Char]): Spin = new Spin(c, i, d)\n",
      "    \n",
      "    \n",
      "    //Some factory methods vor creating spin vectors ie. protein samples.\n",
      "    \n",
      "    //This factory is used for to read in a single sample from the dataset.\n",
      "    def vector(s: String, d: CategoricalDomain[Char]): IndexedSeq[Spin] = {\n",
      "        val vector = for((c, i) <- s.zipWithIndex) yield Spin(c, i, d)\n",
      "        vector.foreach(_.setContainer(vector))\n",
      "        vector\n",
      "    }\n",
      "    \n",
      "    //Initialized a vector with all spins having the same value. Used for creating fake data.\n",
      "    def vector(c: Char, numSites: Int, d: CategoricalDomain[Char]): IndexedSeq[Spin] = {\n",
      "        val vector = for(i <- 0 until numSites) yield Spin(c, i, d)\n",
      "        vector.foreach(_.setContainer(vector))\n",
      "        vector\n",
      "    }\n",
      "}"
     ],
     "language": "python",
     "metadata": {},
     "outputs": [
      {
       "output_type": "stream",
       "stream": "stdout",
       "text": []
      },
      {
       "output_type": "stream",
       "stream": "stderr",
       "text": []
      },
      {
       "metadata": {},
       "output_type": "pyout",
       "prompt_number": 5,
       "text": [
        "Spin$@2b744c4e"
       ]
      }
     ],
     "prompt_number": 5
    },
    {
     "cell_type": "code",
     "collapsed": false,
     "input": [
      "class PottsModel(\n",
      "    val domain: CategoricalDomain[Char], \n",
      "    val localMasses: IndexedSeq[DenseTensor1],\n",
      "    val pairwiseMasses: Map[(Int, Int), DenseTensor2])\n",
      "    extends Model with Parameters {\n",
      "    \n",
      "    /* We initialize our 'families' which contain an inner class to create factors on the fly.\n",
      "     * There is a 1:1 relationship between the factors in our model and the families.\n",
      "     * Wether or not two spins are connected is not defined in this class, it simply creates Families\n",
      "     * for all the tensors it has received in its constructor argumetn pairwiseMasses. Those are created in a \n",
      "     * factory method in the companion object below.\n",
      "     */\n",
      "    val localFamilies: IndexedSeq[DotFamilyWithStatistics1[Spin]] = \n",
      "        for(m <- localMasses) yield new DotFamilyWithStatistics1[Spin] { val weights = Weights(m) }\n",
      "                                       \n",
      "    val pairwiseFamilies: Map[(Int, Int), DotFamilyWithStatistics2[Spin, Spin]] =\n",
      "        for((k, m) <- pairwiseMasses) yield (k -> new DotFamilyWithStatistics2[Spin, Spin] { val weights = Weights(m) })\n",
      "    \n",
      "    \n",
      "    /* The essantial method that has to be implemented by a any model. Here is where the 'imperative freedom' of IDF happens.\n",
      "     * We chose to include a reference of all possible neighbours in the Spin.cont member. We then iterate over them \n",
      "     * and see if our model contains a family for that neighbour, create a factor if it does and add it to the results.\n",
      "     */\n",
      "    def factors(variables: Iterable[Var]): Iterable[Factor] = {\n",
      "        val factors = new ArrayBuffer[Factor]\n",
      "        \n",
      "        //a simple cast of varriables from Var to Spin\n",
      "        val possibleNeighbours = variables collect {case s: Spin => s}\n",
      "        \n",
      "        for(s <- possibleNeighbours){\n",
      "                val localFamily = localFamilies(s.i)\n",
      "                factors += localFamily.Factor(s)\n",
      "            \n",
      "                val existingConnections = pairwiseFamilies.keys.filter((k: (Int, Int)) => k._1 == s.i || k._2 == s.i)\n",
      "                for(k <- existingConnections) {\n",
      "                    val pairwiseFamily = pairwiseFamilies(k)\n",
      "                    factors += pairwiseFamily.Factor(s.cont(k._1), s.cont(k._2))\n",
      "                }\n",
      "        }\n",
      "        factors\n",
      "    }\n",
      "}\n",
      "    \n",
      "object PottsModel {\n",
      "    \n",
      "    /* If we receive pairwises and local masses we create initialize the model. They might come from a synthetic model generator \n",
      "     * or from the other factory methods below.\n",
      "     */\n",
      "    def apply(localMasses: IndexedSeq[DenseTensor1], pairwiseMasses: Map[(Int, Int), DenseTensor2], domain: CategoricalDomain[Char]): PottsModel = {\n",
      "        new PottsModel(domain, localMasses, pairwiseMasses)\n",
      "    }\n",
      "    /* If just the number of variables and the domain is supplied, we create a completely connected model with weights initialized to zero.\n",
      "     */\n",
      "    def apply(numSites: Int, domain: CategoricalDomain[Char]): PottsModel = {\n",
      "        val localMasses = for(i <- 0 until numSites) yield new DenseTensor1(domain.size)\n",
      "        val pairwiseMasses = (for(i <- 0 until numSites; j <- 0 until numSites if i < j) yield ((i, j), new DenseTensor2(domain.size, domain.size))).toMap\n",
      "        \n",
      "        new PottsModel(domain, localMasses, pairwiseMasses)\n",
      "    }\n",
      "    \n",
      "    /* This factory initializes a completely connected model, but initializes the local masses to be the the logarithms of  \n",
      "     * the local freuencies counted in a dataset. We add a pseudocount to deter limited sampling size effects.\n",
      "     */\n",
      "    def logFreqsAsLocalWeights(samples: Seq[IndexedSeq[Spin]], domain: CategoricalDomain[Char]): PottsModel = {\n",
      "        val PSEUDOCOUNT = 2.\n",
      "        assert(samples.forall(_.length == samples(0).length), \"Samples must all be of same length.\")\n",
      "        val numSites = samples(0).length\n",
      "        val numSamples = samples.toList.length\n",
      "        val model = PottsModel(numSites, domain)\n",
      "        \n",
      "        //\n",
      "        for ((family, i) <- model.localFamilies.zipWithIndex) {\n",
      "            val weightTensor = model.parameters(family.weights)\n",
      "            \n",
      "            val pseudoCountTensor = weightTensor.copy\n",
      "            for(i <- 0 until pseudoCountTensor.asArray.length) pseudoCountTensor.update(i, PSEUDOCOUNT)\n",
      "            weightTensor += pseudoCountTensor\n",
      "            \n",
      "            for(s <- samples) {\n",
      "                val factor = family.Factor(s(i))\n",
      "                weightTensor += factor.currentStatistics\n",
      "            }\n",
      "            weightTensor *= 1./(numSamples + (domain.size * PSEUDOCOUNT))\n",
      "            \n",
      "            for(i <- 0 until weightTensor.length) weightTensor.update(i, math.log(weightTensor(i)))\n",
      "        }\n",
      "        model\n",
      "    }      \n",
      "    \n",
      "    \n",
      "    /* We here abuse the tensor/factor infrastructure to collecte empirical frequencies from a dataset.\n",
      "     * The \"weights\" of the this model are then used to estimate mutual information in the Experiment class.\n",
      "     */\n",
      "    def frequenciesAsWeights(samples: Seq[IndexedSeq[Spin]], domain: CategoricalDomain[Char]): PottsModel = {\n",
      "        val PSEUDOCOUNT = 2.\n",
      "        assert(samples.forall(_.length == samples(0).length), \"Samples must all be of same length.\")\n",
      "        val numSites = samples(0).length\n",
      "        val numSamples = samples.toList.length\n",
      "        val model = PottsModel(numSites, domain)\n",
      "        \n",
      "        for ((key, family) <- model.pairwiseFamilies) {\n",
      "            val weightTensor = model.parameters(family.weights)\n",
      "            \n",
      "            //we add a pseudocount as in [Weight08]\n",
      "            val pseudoCountTensor = weightTensor.copy\n",
      "            for(i <- 0 until pseudoCountTensor.asArray.length) pseudoCountTensor.update(i, (PSEUDOCOUNT/domain.size))\n",
      "            weightTensor += pseudoCountTensor\n",
      "            \n",
      "            for(s <- samples) {\n",
      "                val factor = family.Factor(s(key._1), s(key._2))    \n",
      "                weightTensor += factor.currentStatistics\n",
      "            }\n",
      "            //we correct our denominator by domain.size to account for the pseudocount\n",
      "            weightTensor *= 1./(numSamples + (domain.size * PSEUDOCOUNT))\n",
      "            for(i <- 0 until weightTensor.length) weightTensor.update(i, math.log(weightTensor(i)))\n",
      "        }\n",
      "        for ((family, i) <- model.localFamilies.zipWithIndex) {\n",
      "            val weightTensor = model.parameters(family.weights)\n",
      "            \n",
      "            val pseudoCountTensor = weightTensor.copy\n",
      "            for(i <- 0 until pseudoCountTensor.asArray.length) pseudoCountTensor.update(i, PSEUDOCOUNT)\n",
      "            weightTensor += pseudoCountTensor\n",
      "            \n",
      "            for(s <- samples) {\n",
      "                val factor = family.Factor(s(i))\n",
      "                weightTensor += factor.currentStatistics\n",
      "            }\n",
      "            weightTensor *= 1./(numSamples + (domain.size * PSEUDOCOUNT))\n",
      "            for(i <- 0 until weightTensor.length) weightTensor.update(i, math.log(weightTensor(i)))\n",
      "        }\n",
      "        model\n",
      "    }      \n",
      "\n",
      "}"
     ],
     "language": "python",
     "metadata": {},
     "outputs": [
      {
       "output_type": "stream",
       "stream": "stdout",
       "text": []
      },
      {
       "output_type": "stream",
       "stream": "stderr",
       "text": []
      },
      {
       "metadata": {},
       "output_type": "pyout",
       "prompt_number": 6,
       "text": [
        "PottsModel$@35cccbd9"
       ]
      }
     ],
     "prompt_number": 6
    },
    {
     "cell_type": "markdown",
     "metadata": {},
     "source": []
    },
    {
     "cell_type": "code",
     "collapsed": false,
     "input": [
      "import cc.factorie.infer.{VariableSettingsSampler, InferByGibbsSampling, GibbsSampler}"
     ],
     "language": "python",
     "metadata": {},
     "outputs": [
      {
       "output_type": "stream",
       "stream": "stdout",
       "text": []
      },
      {
       "output_type": "stream",
       "stream": "stderr",
       "text": []
      }
     ],
     "prompt_number": 7
    },
    {
     "cell_type": "code",
     "collapsed": false,
     "input": [
      "def generateSampleStrings(N:Int, model: PottsModel, variables: IndexedSeq[Spin], burnin: Int = 1000, thinning: Int = 10): Seq[String] = {\n",
      "    implicit val random = new scala.util.Random(0)                                                                                                   \n",
      "    val sampler = new GibbsSampler(model)\n",
      "    val strings = new ArrayBuffer[String]\n",
      "    for(i <- 0 until (N+burnin)*thinning) {\n",
      "        sampler.processAll(variables)\n",
      "        if(i > burnin || i % 5 == 0) strings += variables.map(_.value).mkString\n",
      "    }\n",
      "    strings\n",
      "}"
     ],
     "language": "python",
     "metadata": {},
     "outputs": [
      {
       "output_type": "stream",
       "stream": "stdout",
       "text": []
      },
      {
       "output_type": "stream",
       "stream": "stderr",
       "text": []
      }
     ],
     "prompt_number": 8
    },
    {
     "cell_type": "code",
     "collapsed": false,
     "input": [
      "object Timer {\n",
      "    var t: Long = 0\n",
      "    def start: Unit = { t = System.currentTimeMillis }\n",
      "    def stop: Long = { System.currentTimeMillis - t}\n",
      "}"
     ],
     "language": "python",
     "metadata": {},
     "outputs": [
      {
       "output_type": "stream",
       "stream": "stdout",
       "text": []
      },
      {
       "output_type": "stream",
       "stream": "stderr",
       "text": []
      },
      {
       "metadata": {},
       "output_type": "pyout",
       "prompt_number": 9,
       "text": [
        "Timer$@52a7578"
       ]
      }
     ],
     "prompt_number": 9
    },
    {
     "cell_type": "code",
     "collapsed": false,
     "input": [
      "import cc.factorie.optimize._\n",
      "import cc.factorie.infer.{InferByBPLoopy, InferByGibbsSampling}"
     ],
     "language": "python",
     "metadata": {},
     "outputs": [
      {
       "output_type": "stream",
       "stream": "stdout",
       "text": []
      },
      {
       "output_type": "stream",
       "stream": "stderr",
       "text": []
      }
     ],
     "prompt_number": 10
    },
    {
     "cell_type": "code",
     "collapsed": false,
     "input": [
      "implicit val random = scala.util.Random"
     ],
     "language": "python",
     "metadata": {},
     "outputs": [
      {
       "output_type": "stream",
       "stream": "stdout",
       "text": []
      },
      {
       "output_type": "stream",
       "stream": "stderr",
       "text": []
      },
      {
       "metadata": {},
       "output_type": "pyout",
       "prompt_number": 11,
       "text": [
        "scala.util.Random$@1eb9a70d"
       ]
      }
     ],
     "prompt_number": 11
    },
    {
     "cell_type": "code",
     "collapsed": false,
     "input": [],
     "language": "python",
     "metadata": {},
     "outputs": [],
     "prompt_number": 11
    },
    {
     "cell_type": "code",
     "collapsed": false,
     "input": [
      "//we add a pseudocount of 1\n",
      "class Counter(var value: Double=1) {\n",
      "\n",
      "    def divide(t: Double): Unit = {value *= 1/t}\n",
      "    override def toString: String = {value.toString}\n",
      "}"
     ],
     "language": "python",
     "metadata": {},
     "outputs": [
      {
       "output_type": "stream",
       "stream": "stdout",
       "text": []
      },
      {
       "output_type": "stream",
       "stream": "stderr",
       "text": []
      }
     ],
     "prompt_number": 12
    },
    {
     "cell_type": "code",
     "collapsed": false,
     "input": [
      "//merge this mith PottsModel.frequenciesAsWeights\n",
      "/*class MutualInformation(val samples: Seq[String], domain: CategoricalDomain[Char]) {\n",
      "    val total = samples.length\n",
      "    val numSites = samples(0).length\n",
      "    val categories = domain.categories\n",
      "    \n",
      "    val localFreqs = countLocalFrequencies\n",
      "    val pairwiseFreqs = countPairwiseFrequencies\n",
      "    \n",
      "    \n",
      "    def makeLocalCountsMap: Map[Char, Counter] = (for(c <- categories) yield (c, new Counter)).toMap\n",
      "    def countLocalFrequencies: IndexedSeq[Map[Char, Counter]] = {\n",
      "        val sitewiseCountMaps: IndexedSeq[Map[Char, Counter]] = for(i <- 0 until numSites) yield makeLocalCountsMap\n",
      "        \n",
      "        for(sample <- samples; (category, i) <- sample.zipWithIndex) sitewiseCountMaps(i)(category).add(1)\n",
      "        \n",
      "        for(countMap <- sitewiseCountMaps; c <- categories) countMap(c).divide(total)\n",
      "        sitewiseCountMaps\n",
      "    }\n",
      "    \n",
      "    def makePairwiseCountsMap: Map[(Char, Char), Counter] = (for(c1 <- categories; c2 <- categories) yield ((c1, c2), new Counter)).toMap\n",
      "    def countPairwiseFrequencies: Map[(Int, Int), Map[(Char, Char), Counter]] = {\n",
      "   \n",
      "        val pairwiseCountMaps: Map[(Int, Int), Map[(Char, Char), Counter]] = (for(i <- 0 until numSites; j <- 0 until numSites) yield ((i, j), makePairwiseCountsMap)).toMap\n",
      "    \n",
      "        for(sample <- samples; (c_i, i) <- sample.zipWithIndex; (c_j, j) <- sample.zipWithIndex) pairwiseCountMaps(i, j)(c_i, c_j).add(1)\n",
      "        for(countMap <- pairwiseCountMaps.values; c_i <- categories; c_j <- categories) countMap(c_i, c_j).divide(total)\n",
      "        pairwiseCountMaps\n",
      "    }\n",
      "    \n",
      "    def MI(i: Int, j: Int): Double = { \n",
      "        val f_i = localFreqs(i)\n",
      "        val f_j = localFreqs(j)\n",
      "        val f_ij = pairwiseFreqs(i, j)\n",
      "        \n",
      "        (for(k <- categories; l <- categories) yield (f_ij(k, l).value*math.log(f_ij(k,l).value/(f_i(k).value*f_j(l).value)))).sum\n",
      "        \n",
      "    }\n",
      "    val allMIs: Map[(Int, Int), Double] = (for(i <- 0 until numSites; j <- 0 until numSites if i < j) yield ((i, j), MI(i, j))).toMap\n",
      "}\n",
      "object MutualInformation {\n",
      "        def apply(samples: Seq[String], domain: CategoricalDomain[Char]) = new MutualInformation(samples, domain)\n",
      "}\n",
      "*/"
     ],
     "language": "python",
     "metadata": {},
     "outputs": [
      {
       "output_type": "stream",
       "stream": "stdout",
       "text": []
      },
      {
       "ename": "",
       "evalue": "",
       "output_type": "pyerr",
       "traceback": [
        "incomplete"
       ]
      }
     ],
     "prompt_number": 23
    },
    {
     "cell_type": "code",
     "collapsed": false,
     "input": [
      "import cc.factorie.infer.Sampler"
     ],
     "language": "python",
     "metadata": {},
     "outputs": [
      {
       "output_type": "stream",
       "stream": "stderr",
       "text": []
      },
      {
       "output_type": "stream",
       "stream": "stdout",
       "text": []
      }
     ],
     "prompt_number": 24
    },
    {
     "cell_type": "code",
     "collapsed": false,
     "input": [
      "class ConnectionStrengths(val strengths: Map[(Int, Int), Double], val sourceName: String, val source: Any = null){\n",
      "        def apply(key: (Int, Int)): Double = strengths(key)\n",
      "        val sortedByStrength = strengths.toList.sortBy(_._2).reverse\n",
      "}\n",
      "object ConnectionStrengths{\n",
      "               \n",
      "        def apply(model: PottsModel, name: String) = {\n",
      "            val numSites = model.localFamilies.length\n",
      "            val allEdges = (for(i <- 0 until numSites; j <- 0 until numSites if i < j) yield (i, j)).toSet\n",
      "            val families = model.pairwiseFamilies\n",
      "            var strengths: Map[(Int, Int), Double] = Map()\n",
      "            for(edge <- allEdges) {\n",
      "                if(families.keys.toSet contains edge) strengths += (edge -> fNorm(families(edge).weights.value))\n",
      "                else strengths += (edge -> 0)\n",
      "            }\n",
      "            new ConnectionStrengths(strengths, name, model)\n",
      "        }\n",
      "        \n",
      "        def MI(samples: Seq[IndexedSeq[Spin]], d: CategoricalDomain[Char], name: String = \"MI\") = {\n",
      "            val freqModel = PottsModel.frequenciesAsWeights(samples, d)\n",
      "            val numSites = freqModel.localFamilies.length\n",
      "            val allEdges = (for(i <- 0 until numSites; j <- 0 until numSites if i < j) yield (i, j)).toSet\n",
      "            \n",
      "            \n",
      "            \n",
      "            def localFreqs(i: Int) = freqModel.localFamilies(i).weights.value\n",
      "            def pairwiseFreqs(i: Int, j: Int) = freqModel.pairwiseFamilies(i, j).weights.value.asInstanceOf[DenseTensor2]\n",
      "            def singleMI(i: Int, j: Int): Double = { \n",
      "                val f_i = localFreqs(i)\n",
      "                val f_j = localFreqs(j)\n",
      "                val f_ij = pairwiseFreqs(i, j)\n",
      "            (for(k <- d.categories; l <- d.categories) yield (f_ij(d.index(k), d.index(l)) * math.log(f_ij(d.index(k), d.index(l)) / (f_i(d.index(k))*f_j(d.index(l)))))).sum\n",
      "            }\n",
      "            val allMIs: Map[(Int, Int), Double] = (for(edge <- allEdges) yield (edge, singleMI(edge._1, edge._2))).toMap\n",
      "            new ConnectionStrengths(allMIs, name, freqModel)\n",
      "        }\n",
      "            \n",
      "        private def fNorm(w: Tensor): Double = {\n",
      "            val t = w.asInstanceOf[DenseTensor2]\n",
      "            def averageOverRow(t: DenseTensor2, k: Int): Double = {\n",
      "                // J_ij(k, .) k being a row\n",
      "                val row = for(l <- 0 until t.dim2) yield t(k, l)\n",
      "                row.sum/row.length\n",
      "            }    \n",
      "            def averageOverCol(t: DenseTensor2, l: Int): Double = {\n",
      "                // J_ij(., l) l being a column\n",
      "                val col = for(k <- 0 until t.dim1) yield t(k, l)\n",
      "                col.sum/col.length\n",
      "            }\n",
      "            val totalAverage: Double = t.sum/t.length\n",
      "            val transformed: DenseTensor2 = t.copy\n",
      "            for(k <- 0 until t.dim1; l <- 0 until t.dim2) {\n",
      "                transformed(k, l) = t(k, l) - averageOverRow(t, k) - averageOverCol(t, l) + totalAverage\n",
      "            }\n",
      "            math.sqrt(transformed.twoNorm)\n",
      "        }\n",
      "}\n",
      "    "
     ],
     "language": "python",
     "metadata": {},
     "outputs": [
      {
       "output_type": "stream",
       "stream": "stderr",
       "text": []
      },
      {
       "output_type": "stream",
       "stream": "stdout",
       "text": []
      },
      {
       "metadata": {},
       "output_type": "pyout",
       "prompt_number": 26,
       "text": [
        "ConnectionStrengths$@15c8520b"
       ]
      }
     ],
     "prompt_number": 26
    },
    {
     "cell_type": "code",
     "collapsed": false,
     "input": [
      "val mimod = PottsModel.frequenciesAsWeights(samples, domain)"
     ],
     "language": "python",
     "metadata": {},
     "outputs": [
      {
       "output_type": "stream",
       "stream": "stdout",
       "text": []
      },
      {
       "output_type": "stream",
       "stream": "stderr",
       "text": []
      },
      {
       "ename": "",
       "evalue": "",
       "output_type": "pyerr",
       "traceback": [
        "<console>:31: error: not found: value samples",
        "       val mimod = PottsModel.frequenciesAsWeights(samples, domain)",
        "                                                   ^"
       ]
      }
     ],
     "prompt_number": 16
    },
    {
     "cell_type": "code",
     "collapsed": false,
     "input": [
      "localFreqs(0)(domain.index('a'))"
     ],
     "language": "python",
     "metadata": {},
     "outputs": [
      {
       "output_type": "stream",
       "stream": "stdout",
       "text": []
      },
      {
       "ename": "",
       "evalue": "",
       "output_type": "pyerr",
       "traceback": [
        "<console>:29: error: not found: value localFreqs",
        "              localFreqs(0)(domain.index('a'))",
        "              ^"
       ]
      },
      {
       "output_type": "stream",
       "stream": "stderr",
       "text": []
      }
     ],
     "prompt_number": 17
    },
    {
     "cell_type": "code",
     "collapsed": false,
     "input": [
      "domain.index('c')"
     ],
     "language": "python",
     "metadata": {},
     "outputs": [
      {
       "output_type": "stream",
       "stream": "stderr",
       "text": []
      },
      {
       "output_type": "stream",
       "stream": "stdout",
       "text": []
      },
      {
       "ename": "",
       "evalue": "",
       "output_type": "pyerr",
       "traceback": [
        "<console>:29: error: not found: value domain",
        "              domain.index('c')",
        "              ^"
       ]
      }
     ],
     "prompt_number": 18
    },
    {
     "cell_type": "code",
     "collapsed": false,
     "input": [
      "domain.index"
     ],
     "language": "python",
     "metadata": {},
     "outputs": [
      {
       "ename": "",
       "evalue": "",
       "output_type": "pyerr",
       "traceback": [
        "<console>:29: error: not found: value domain",
        "              domain.index",
        "              ^"
       ]
      },
      {
       "output_type": "stream",
       "stream": "stderr",
       "text": []
      },
      {
       "output_type": "stream",
       "stream": "stdout",
       "text": []
      }
     ],
     "prompt_number": 19
    },
    {
     "cell_type": "code",
     "collapsed": false,
     "input": [
      "//def MI(samples: Seq[Seq[Spin]], d: CategoricalDomain[Char], name: String = \"MI\") = {\n",
      "            val freqModel = PottsModel.frequenciesAsWeights(samples, domain)\n",
      "            val domainValues = domain.categories\n",
      "            def localFreqs(i: Int) = freqModel.localFamilies(i).weights.value\n",
      "            def pairwiseFreqs(i: Int, j: Int) = freqModel.pairwiseFamilies(i, j).weights.value\n",
      "            def singleMI(i: Int, j: Int): Unit = { \n",
      "                val f_i = localFreqs(i)\n",
      "                val f_j = localFreqs(j)\n",
      "                val f_ij = pairwiseFreqs(i, j).asInstanceOf[DenseTensor2]\n",
      "                \n",
      "                for(k <- d.categories; l <- d.categories) yield (f_ij(d.index(k), d.index(l))*math.log(f_ij(d.index(k),d.index(l))/(f_i(d.index(k))*f_j(d.index(l))))).sum\n",
      "        \n",
      "            }\n",
      "        //val allMIs: Map[(Int, Int), Double] = (for(i <- 0 until numSites; j <- 0 until numSites if i < j) yield ((i, j), MI(i, j))).toMap"
     ],
     "language": "python",
     "metadata": {},
     "outputs": [
      {
       "output_type": "stream",
       "stream": "stdout",
       "text": []
      },
      {
       "ename": "",
       "evalue": "",
       "output_type": "pyerr",
       "traceback": [
        "<console>:32: error: not found: value samples",
        "                   val freqModel = PottsModel.frequenciesAsWeights(samples, domain)",
        "                                                                   ^",
        "<console>:33: error: not found: value domain",
        "                   val domainValues = domain.categories",
        "                                      ^",
        "<console>:41: error: not found: value d",
        "                       for(k <- d.categories; l <- d.categories) yield (f_ij(d.index(k), d.index(l))*math.log(f_ij(d.index(k),d.index(l))/(f_i(d.index(k))*f_j(d.index(l))))).sum",
        "                                ^"
       ]
      },
      {
       "output_type": "stream",
       "stream": "stderr",
       "text": []
      }
     ],
     "prompt_number": 20
    },
    {
     "cell_type": "code",
     "collapsed": false,
     "input": [
      "class Experiment(val samples: Seq[Seq[Spin]], val details: Map[String, Any]) {\n",
      "    \n",
      "    assert(samples.forall(_.length == samples(0).length), \"Samples must all be of same length.\")\n",
      "    val numSites = samples(0).length\n",
      "    val allEdges = (for(i <- 0 until numSites; j <- 0 until numSites if i < j) yield (i, j)).toSet\n",
      "    \n",
      "    var rankings: Map[String, ConnectionStrengths] = Map()\n",
      "    def addRanking(r: ConnectionStrengths): Unit = { \n",
      "        assert(r.strengths.keys.forall(allEdges contains _), \"Result doesn't fit dataset\")                                     \n",
      "        rankings += (r.sourceName -> r) \n",
      "    } \n",
      "    \n",
      "    def TPRate(p: Int, estimatedRankingName: String, trueRankingName: String = \"true\", threshold: Double = 0): Double = {\n",
      "        val estimatedOrdering = rankings(estimatedRankingName).sortedByStrength.map(_._1)\n",
      "        val trueStrengths = rankings(trueRankingName)\n",
      "        var tp = 0.0\n",
      "        for(i <- 0 until p) if(trueStrengths(estimatedOrdering(i)) > threshold) tp += 1.0\n",
      "        tp/p\n",
      "    }\n",
      "    \n",
      "    def TPRates(maxP: Int, estimatedRankingName: String, trueRankingName: String = \"true\"): Seq[Double] = {\n",
      "        val tps = for(p <- 1 to maxP) yield TPRate(p, estimatedRankingName, trueRankingName)\n",
      "        tps.toList\n",
      "    }\n",
      "        \n",
      "    \n",
      "    \n",
      "    def printOrderedBy(name: String): Unit = {\n",
      "        assert(rankings.keys.toSet contains name, \"Ranking name not in experiment.\")\n",
      "        val order = rankings(name).sortedByStrength.map(_._1)\n",
      "        val maxStrengthStringLengths = (for(name <- rankings.keys) yield (name, rankings(name).strengths.toList.map(_._2).map(_.toString.length).max)).toMap\n",
      "        val maxEdgeStringLength = order.map(_.toString.length).max\n",
      "        \n",
      "        //print table header\n",
      "        for(i <- 0 to maxEdgeStringLength) print(\" \")\n",
      "        for(name <- rankings.keys) {\n",
      "            \n",
      "            print(name)\n",
      "            for(i <- 0 to (maxStrengthStringLengths(name) - name.length)) print(\" \")\n",
      "        }\n",
      "        println(\"\")\n",
      "        \n",
      "        //print rows\n",
      "        for(edge <- order) {\n",
      "            \n",
      "            print(edge)\n",
      "            for(i <- 0 to (maxEdgeStringLength - edge.toString.length)) print(\" \")\n",
      "            for(name <- rankings.keys) {\n",
      "                val strength = rankings(name).strengths(edge)\n",
      "                print(strength)\n",
      "                for(i <- 0 to (maxStrengthStringLengths(name) - strength.toString.length)) print(\" \")\n",
      "            }\n",
      "            println(\"\")\n",
      "        }\n",
      "    }\n",
      "        \n",
      "}\n",
      "object Experiment{\n",
      "        def apply(samples: Seq[Seq[Spin]], domain: CategoricalDomain[Char], name: String) = {\n",
      "            new Experiment(samples, Map(\"name\" -> name, \"domain\" -> domain))\n",
      "        }\n",
      "}\n",
      "        "
     ],
     "language": "python",
     "metadata": {},
     "outputs": [
      {
       "output_type": "stream",
       "stream": "stdout",
       "text": []
      },
      {
       "output_type": "stream",
       "stream": "stderr",
       "text": []
      },
      {
       "metadata": {},
       "output_type": "pyout",
       "prompt_number": 27,
       "text": [
        "Experiment$@49735a8b"
       ]
      }
     ],
     "prompt_number": 27
    },
    {
     "cell_type": "code",
     "collapsed": false,
     "input": [
      "//def experiment(numSites: Int, domain: CategoricalDomain[Char], connectedness: Double): (PottsModel, PottsModel, PottsModel, Long, Double, Seq[IndexedSeq[Spin]]) = {\n",
      "    val domain = spinDomain\n",
      "    val domain = new CategoricalDomain[Char](List('a', 'b'))\n",
      "    val numSites = 10\n",
      "    val connectedness = 0.3\n",
      "    val g = GREMLINWeightGenerator(domain, numSites, connectedness, true)\n",
      "    val localWeights = g.generateLocalMassesNormal\n",
      "    val pairwiseWeights = g.generatePairwiseMassesNormal\n",
      "    val trueModel = PottsModel(localWeights, pairwiseWeights, domain)\n",
      "    val spins = Spin.vector('a', numSites, domain)\n",
      "    val strings = generateSampleStrings(200, trueModel, spins)\n",
      "    val samples = strings.map(Spin.vector(_, domain))\n",
      "    val samples2 = strings.map(Spin.vector(_, domain))\n",
      "    val objectiveModel = PottsModel.frequenciesAsWeights(samples, domain)\n",
      "    val learnedModel = PottsModel.logFreqsAsLocalWeights(samples, domain)\n",
      "    val sampler = new GibbsSampler(learnedModel)\n",
      "    val samp2 = sampler.asInstanceOf[Sampler[Object]]\n",
      "                                \n",
      "   \n",
      "    "
     ],
     "language": "python",
     "metadata": {},
     "outputs": [
      {
       "output_type": "stream",
       "stream": "stderr",
       "text": []
      },
      {
       "output_type": "stream",
       "stream": "stdout",
       "text": []
      },
      {
       "metadata": {},
       "output_type": "pyout",
       "prompt_number": 68,
       "text": [
        "cc.factorie.infer.GibbsSampler@341b4f80"
       ]
      }
     ],
     "prompt_number": 68
    },
    {
     "cell_type": "code",
     "collapsed": false,
     "input": [
      "val opt = new AdaGrad()"
     ],
     "language": "python",
     "metadata": {},
     "outputs": [
      {
       "output_type": "stream",
       "stream": "stderr",
       "text": []
      },
      {
       "output_type": "stream",
       "stream": "stdout",
       "text": []
      },
      {
       "metadata": {},
       "output_type": "pyout",
       "prompt_number": 61,
       "text": [
        "cc.factorie.optimize.AdaGrad@13e366cc"
       ]
      }
     ],
     "prompt_number": 61
    },
    {
     "cell_type": "code",
     "collapsed": false,
     "input": [
      "import cc.factorie.optimize.ContrastiveDivergenceExample"
     ],
     "language": "python",
     "metadata": {},
     "outputs": [
      {
       "output_type": "stream",
       "stream": "stdout",
       "text": []
      },
      {
       "output_type": "stream",
       "stream": "stderr",
       "text": []
      }
     ],
     "prompt_number": 77
    },
    {
     "cell_type": "code",
     "collapsed": false,
     "input": [
      "//val domain = spinDomain\n",
      "    val domain = spinDomain\n",
      "    //val domain = new CategoricalDomain[Char](List('a', 'b'))\n",
      "    val numSites = 30\n",
      "    val connectedness = 0.3\n",
      "    val g = GREMLINWeightGenerator(domain, numSites, connectedness, true)\n",
      "    val localWeights = g.generateLocalMassesNormal\n",
      "    val pairwiseWeights = g.generatePairwiseMassesNormal\n",
      "    val trueModel = PottsModel(localWeights, pairwiseWeights, domain)\n",
      "    val spins = Spin.vector('a', numSites, domain)\n",
      "    val strings = generateSampleStrings(200, trueModel, spins)\n",
      "    val samples = strings.map(Spin.vector(_, domain))\n",
      "    val samples2 = strings.map(Spin.vector(_, domain))\n",
      "    val objectiveModel = PottsModel.frequenciesAsWeights(samples, domain)\n",
      "    val learnedModel = PottsModel.logFreqsAsLocalWeights(samples, domain)\n",
      "    val sampler = new GibbsSampler(learnedModel)\n",
      "    val samp2 = sampler.asInstanceOf[Sampler[Spin]]\n",
      "\n",
      "//val learnedModel = PottsModel.logFreqsAsLocalWeights(samples, domain)\n",
      "Timer.start\n",
      "var CDexamples: ArrayBuffer[ContrastiveDivergenceExample[Spin]] = ArrayBuffer()\n",
      "for(sample <- samples) {\n",
      "     for(variable <- sample) CDexamples += new ContrastiveDivergenceExample(variable, learnedModel, samp2)\n",
      "    \n",
      "    //Trainer.onlineTrain(learnedModel.parameters, CDexamples)\n",
      "}\n",
      "Trainer.onlineTrain(learnedModel.parameters, CDexamples, useParallelTrainer=true, optimizer=opt, miniBatch=10)\n",
      "Timer.stop\n",
      "\n",
      "  "
     ],
     "language": "python",
     "metadata": {},
     "outputs": [
      {
       "output_type": "stream",
       "stream": "stderr",
       "text": []
      },
      {
       "output_type": "stream",
       "stream": "stdout",
       "text": []
      },
      {
       "metadata": {},
       "output_type": "pyout",
       "prompt_number": 83,
       "text": [
        "885299"
       ]
      }
     ],
     "prompt_number": 83
    },
    {
     "cell_type": "code",
     "collapsed": false,
     "input": [
      "//val domain = spinDomain\n",
      "    val domain = spinDomain\n",
      "    //val domain = new CategoricalDomain[Char](List('a', 'b'))\n",
      "    val numSites = 30\n",
      "    val connectedness = 0.3\n",
      "    val g = GREMLINWeightGenerator(domain, numSites, connectedness, true)\n",
      "    val localWeights = g.generateLocalMassesNormal\n",
      "    val pairwiseWeights = g.generatePairwiseMassesNormal\n",
      "    val trueModel = PottsModel(localWeights, pairwiseWeights, domain)\n",
      "    val spins = Spin.vector('a', numSites, domain)\n",
      "    val strings = generateSampleStrings(200, trueModel, spins)\n",
      "    val samples = strings.map(Spin.vector(_, domain))\n",
      "    val samples2 = strings.map(Spin.vector(_, domain))\n",
      "    val objectiveModel = PottsModel.frequenciesAsWeights(samples, domain)\n",
      "    val learnedModel = PottsModel.logFreqsAsLocalWeights(samples, domain)\n",
      "    val sampler = new GibbsSampler(learnedModel)\n",
      "    val samp2 = sampler.asInstanceOf[Sampler[Object]]\n",
      "\n",
      "//val learnedModel = PottsModel.logFreqsAsLocalWeights(samples, domain)\n",
      "Timer.start\n",
      "\n",
      "for(sample <- samples) {\n",
      "    val CDexamples = for(variable <- sample) yield new optimize.ContrastiveDivergenceExample(variable, learnedModel, samp2)\n",
      "    Trainer.onlineTrain(learnedModel.parameters, CDexamples, useParallelTrainer=true, optimizer=opt, miniBatch=10)\n",
      "    //Trainer.onlineTrain(learnedModel.parameters, CDexamples)\n",
      "}\n",
      "Timer.stop\n",
      "\n",
      "  "
     ],
     "language": "python",
     "metadata": {},
     "outputs": [
      {
       "output_type": "stream",
       "stream": "stderr",
       "text": []
      },
      {
       "output_type": "stream",
       "stream": "stdout",
       "text": []
      },
      {
       "metadata": {},
       "output_type": "pyout",
       "prompt_number": 74,
       "text": [
        "3506193"
       ]
      }
     ],
     "prompt_number": 74
    },
    {
     "cell_type": "code",
     "collapsed": false,
     "input": [
      "val learnedModel = PottsModel.logFreqsAsLocalWeights(samples, domain)\n",
      "Timer.start\n",
      "\n",
      "for(sample <- samples) {\n",
      "    val CDexamples = for(variable <- sample) yield new optimize.ContrastiveDivergenceExample(variable, learnedModel, samp2)\n",
      "    Trainer.onlineTrain(learnedModel.parameters, CDexamples, optimizer=opt, miniBatch=10)\n",
      "    //Trainer.onlineTrain(learnedModel.parameters, CDexamples)\n",
      "}\n",
      "Timer.stop\n",
      "\n",
      "  "
     ],
     "language": "python",
     "metadata": {},
     "outputs": [
      {
       "output_type": "stream",
       "stream": "stdout",
       "text": []
      },
      {
       "output_type": "stream",
       "stream": "stderr",
       "text": []
      },
      {
       "metadata": {},
       "output_type": "pyout",
       "prompt_number": 69,
       "text": [
        "17191"
       ]
      }
     ],
     "prompt_number": 69
    },
    {
     "cell_type": "code",
     "collapsed": false,
     "input": [
      "val learnedModel = PottsModel.logFreqsAsLocalWeights(samples, domain)\n",
      "Timer.start\n",
      "\n",
      "for(sample <- samples) {\n",
      "    val CDexamples = for(variable <- sample) yield new optimize.ContrastiveDivergenceExample(variable, learnedModel, samp2)\n",
      "    Trainer.onlineTrain(learnedModel.parameters, CDexamples, optimizer=opt)\n",
      "    //Trainer.onlineTrain(learnedModel.parameters, CDexamples)\n",
      "}\n",
      "Timer.stop\n",
      "\n",
      "  "
     ],
     "language": "python",
     "metadata": {},
     "outputs": [
      {
       "output_type": "stream",
       "stream": "stderr",
       "text": []
      },
      {
       "output_type": "stream",
       "stream": "stdout",
       "text": []
      },
      {
       "metadata": {},
       "output_type": "pyout",
       "prompt_number": 42,
       "text": [
        "149653"
       ]
      }
     ],
     "prompt_number": 42
    },
    {
     "cell_type": "code",
     "collapsed": false,
     "input": [
      "trueModel.pairwiseFamilies.keys"
     ],
     "language": "python",
     "metadata": {},
     "outputs": [
      {
       "output_type": "stream",
       "stream": "stderr",
       "text": []
      },
      {
       "output_type": "stream",
       "stream": "stdout",
       "text": []
      },
      {
       "metadata": {},
       "output_type": "pyout",
       "prompt_number": 40,
       "text": [
        "Set((3,9), (7,8), (5,9), (3,5), (4,6), (0,4), (5,7), (2,7), (0,6))"
       ]
      }
     ],
     "prompt_number": 40
    },
    {
     "cell_type": "code",
     "collapsed": false,
     "input": [],
     "language": "python",
     "metadata": {},
     "outputs": [
      {
       "output_type": "stream",
       "stream": "stdout",
       "text": []
      },
      {
       "output_type": "stream",
       "stream": "stderr",
       "text": []
      },
      {
       "metadata": {},
       "output_type": "pyout",
       "prompt_number": 43,
       "text": [
        "Experiment@19613dd0"
       ]
      }
     ],
     "prompt_number": 43
    },
    {
     "cell_type": "code",
     "collapsed": false,
     "input": [
      "val e = Experiment(samples,  domain, \"20, complete\")\n",
      "e.addRanking(ConnectionStrengths(learnedModel, \"learned\"))\n",
      "e.addRanking(ConnectionStrengths(trueModel, \"true\"))\n",
      "e.addRanking(ConnectionStrengths.MI(samples, domain))\n",
      "e.printOrderedBy(\"learned\")"
     ],
     "language": "python",
     "metadata": {},
     "outputs": [
      {
       "output_type": "stream",
       "stream": "stdout",
       "text": [
        "        learned            true              MI  \n",
        "(11,14) 6.926020928955948  5.947630983005112 NaN \n",
        "(2,27)  6.855221526348572  5.985088774015566 NaN \n",
        "(3,29)  6.806039056186174  5.964776177361536 NaN \n",
        "(6,15)  6.803919946383671  6.035689837952676 NaN \n",
        "(13,23) 6.747164188718167  5.852913964833685 NaN \n",
        "(7,24)  6.731216924083549  6.076612574955248 NaN \n",
        "(10,25) 6.715475579112659  5.80272759289255  NaN \n",
        "(6,22)  6.700241109244347  5.674974949406256 NaN \n",
        "(8,9)   6.683996167486576  6.104263211744896 NaN \n",
        "(19,21) 6.6398064132034635 6.222708515147842 NaN \n",
        "(4,17)  6.547107104919043  5.771512464208273 NaN \n",
        "(12,17) 6.542306123621166  5.865674088566409 NaN \n",
        "(18,23) 6.49356891970394   6.033071037807387 NaN \n",
        "(1,28)  6.493032609263856  5.974661548281734 NaN \n",
        "(7,20)  6.480075357648743  5.997035864517206 NaN \n",
        "(26,28) 6.40084336891984   5.856201062931773 NaN \n",
        "(0,28)  6.302182090636207  5.733943689100933 NaN \n",
        "(5,19)  6.242790145032227  5.941212222296333 NaN \n",
        "(16,18) 6.175467546085     5.920573455082833 NaN \n",
        "(6,7)   6.111254190198982  5.883135159327774 NaN \n",
        "(25,28) 5.945907709177477  5.756661573452033 NaN \n",
        "(18,19) 5.5803297196939345 5.789991917693659 NaN \n",
        "(16,23) 5.019318011349549  0.0               NaN \n",
        "(9,17)  4.891697529946707  0.0               NaN \n",
        "(10,23) 4.865867267005541  0.0               NaN \n",
        "(14,25) 4.865734497215951  0.0               NaN \n",
        "(3,23)  4.856141194848143  0.0               NaN \n",
        "(9,12)  4.833190613246236  0.0               NaN \n",
        "(9,15)  4.828600156491484  0.0               NaN \n",
        "(12,20) 4.815943369727912  0.0               NaN \n",
        "(3,27)  4.803097836240299  0.0               NaN \n",
        "(9,10)  4.79955338180507   0.0               NaN \n",
        "(12,23) 4.796216119459516  0.0               NaN \n",
        "(16,26) 4.795379110643773  0.0               NaN \n",
        "(9,24)  4.784969226853997  0.0               NaN \n",
        "(8,12)  4.784926046070224  0.0               NaN \n",
        "(3,10)  4.782221814939462  0.0               NaN \n",
        "(12,29) 4.77500101567937   0.0               NaN \n",
        "(9,16)  4.767906096850539  0.0               NaN \n",
        "(6,12)  4.76506435946673   0.0               NaN \n",
        "(9,14)  4.756706296421388  0.0               NaN \n",
        "(3,25)  4.755185266435424  0.0               NaN \n",
        "(12,26) 4.7516141448453055 0.0               NaN \n",
        "(13,17) 4.746271242998035  0.0               NaN \n",
        "(13,29) 4.743228983989255  0.0               NaN \n",
        "(13,25) 4.7386440732597945 0.0               NaN \n",
        "(9,13)  4.731535621217417  0.0               NaN \n",
        "(12,25) 4.730763418664545  0.0               NaN \n",
        "(16,27) 4.729234006499586  0.0               NaN \n",
        "(1,25)  4.727182322078839  0.0               NaN \n",
        "(17,23) 4.727090193813687  0.0               NaN \n",
        "(3,16)  4.720701918607734  0.0               NaN \n",
        "(16,25) 4.720221006317919  0.0               NaN \n",
        "(2,10)  4.714375794203537  0.0               NaN \n",
        "(1,23)  4.708262253856058  0.0               NaN \n",
        "(10,27) 4.70390649634867   0.0               NaN \n",
        "(7,22)  4.702914272153925  0.0               NaN \n",
        "(2,16)  4.702629210116682  0.0               NaN \n",
        "(6,25)  4.7023208397864815 0.0               NaN \n",
        "(10,14) 4.701905014989662  0.0               NaN \n",
        "(3,12)  4.69933618812778   0.0               NaN \n",
        "(17,26) 4.699161869933164  0.0               NaN \n",
        "(9,21)  4.694464476788711  0.0               NaN \n",
        "(1,10)  4.691736330596958  0.0               NaN \n",
        "(0,25)  4.690305510395028  0.0               NaN \n",
        "(3,24)  4.687868099608535  0.0               NaN \n",
        "(4,12)  4.687400214764242  0.0               NaN \n",
        "(16,24) 4.686298529691882  0.0               NaN \n",
        "(11,25) 4.6799326598021525 0.0               NaN \n",
        "(8,16)  4.675559249261597  0.0               NaN \n",
        "(6,16)  4.674669830710188  0.0               NaN \n",
        "(12,24) 4.674390301152999  0.0               NaN \n",
        "(6,10)  4.673968123590773  0.0               NaN \n",
        "(14,23) 4.668052592723603  0.0               NaN \n",
        "(15,29) 4.665429510119548  0.0               NaN \n",
        "(0,10)  4.663730540385388  0.0               NaN \n",
        "(12,21) 4.663281018301692  0.0               NaN \n",
        "(1,26)  4.66265694148307   0.0               NaN \n",
        "(15,16) 4.662563159570101  0.0               NaN \n",
        "(16,29) 4.659930554270798  0.0               NaN \n",
        "(1,17)  4.657648926023119  0.0               NaN \n",
        "(4,21)  4.65759007652726   0.0               NaN \n",
        "(9,29)  4.656669910237313  0.0               NaN \n",
        "(9,27)  4.6551933371483285 0.0               NaN \n",
        "(0,19)  4.654876369877169  0.0               NaN \n",
        "(5,16)  4.653971167599311  0.0               NaN \n",
        "(1,16)  4.653961670330602  0.0               NaN \n",
        "(7,15)  4.649768653799266  0.0               NaN \n",
        "(18,22) 4.649451793359308  0.0               NaN \n",
        "(3,14)  4.647736912775958  0.0               NaN \n",
        "(19,26) 4.643280009768472  0.0               NaN \n",
        "(0,16)  4.640384035616646  0.0               NaN \n",
        "(1,12)  4.6371796937070515 0.0               NaN \n",
        "(9,20)  4.634328818836316  0.0               NaN \n",
        "(12,27) 4.633544696524532  0.0               NaN \n",
        "(10,26) 4.6331434089248935 0.0               NaN \n",
        "(9,23)  4.628191961615768  0.0               NaN \n",
        "(7,11)  4.6281769557229895 0.0               NaN \n",
        "(16,22) 4.6224763601763    0.0               NaN \n",
        "(10,20) 4.621264330401816  0.0               NaN \n",
        "(9,25)  4.6186420217086805 0.0               NaN \n",
        "(11,17) 4.618009702315026  0.0               NaN \n",
        "(8,14)  4.613859174769159  0.0               NaN \n",
        "(4,10)  4.611188152844318  0.0               NaN \n",
        "(6,17)  4.608889936928563  0.0               NaN \n",
        "(3,28)  4.6081190645206025 0.0               NaN \n",
        "(6,29)  4.607709910919607  0.0               NaN \n",
        "(7,27)  4.607435043185156  0.0               NaN \n",
        "(1,29)  4.607161772004799  0.0               NaN \n",
        "(6,23)  4.604204547993464  0.0               NaN \n",
        "(3,17)  4.603630380547307  0.0               NaN \n",
        "(9,26)  4.602889963120046  0.0               NaN \n",
        "(18,26) 4.59850884518752   0.0               NaN \n",
        "(15,25) 4.59841521463399   0.0               NaN \n",
        "(18,21) 4.597328803501914  0.0               NaN \n",
        "(11,28) 4.595247497073806  0.0               NaN \n",
        "(2,12)  4.593764756649219  0.0               NaN \n",
        "(19,24) 4.593199286242522  0.0               NaN \n",
        "(17,29) 4.5927624666899165 0.0               NaN \n",
        "(3,13)  4.589752744568848  0.0               NaN \n",
        "(1,27)  4.5868852782285    0.0               NaN \n",
        "(8,11)  4.586777904364528  0.0               NaN \n",
        "(14,16) 4.5867763162663175 0.0               NaN \n",
        "(17,21) 4.586421530783413  0.0               NaN \n",
        "(9,11)  4.586048873015307  0.0               NaN \n",
        "(2,25)  4.585058158150535  0.0               NaN \n",
        "(5,23)  4.5836764210273655 0.0               NaN \n",
        "(6,20)  4.583411774048224  0.0               NaN \n",
        "(4,24)  4.580346334540897  0.0               NaN \n",
        "(8,24)  4.578974525790368  0.0               NaN \n",
        "(14,24) 4.578361495507836  0.0               NaN \n",
        "(8,21)  4.575213234904679  0.0               NaN \n",
        "(12,13) 4.574294573071741  0.0               NaN \n",
        "(19,23) 4.571939611643652  0.0               NaN \n",
        "(15,28) 4.571928055957442  0.0               NaN \n",
        "(2,19)  4.571801184518752  0.0               NaN \n",
        "(11,29) 4.571177297896152  0.0               NaN \n",
        "(7,25)  4.57101294118158   0.0               NaN \n",
        "(16,20) 4.570752075479289  0.0               NaN \n",
        "(0,18)  4.56874292141712   0.0               NaN \n",
        "(17,25) 4.567133744908435  0.0               NaN \n",
        "(2,18)  4.56632480917252   0.0               NaN \n",
        "(9,19)  4.564002012090653  0.0               NaN \n",
        "(19,25) 4.562507784868471  0.0               NaN \n",
        "(8,15)  4.561834849997875  0.0               NaN \n",
        "(10,24) 4.5610955165789155 0.0               NaN \n",
        "(5,17)  4.560003018064316  0.0               NaN \n",
        "(1,24)  4.559792014265937  0.0               NaN \n",
        "(14,29) 4.555860448402199  0.0               NaN \n",
        "(7,10)  4.553934761543974  0.0               NaN \n",
        "(7,12)  4.551327891857299  0.0               NaN \n",
        "(5,10)  4.549752166350159  0.0               NaN \n",
        "(5,21)  4.54972117362304   0.0               NaN \n",
        "(5,12)  4.547771664581925  0.0               NaN \n",
        "(17,20) 4.547017249994599  0.0               NaN \n",
        "(17,28) 4.5434638954282125 0.0               NaN \n",
        "(3,22)  4.54316748962428   0.0               NaN \n",
        "(10,28) 4.542204137279241  0.0               NaN \n",
        "(16,17) 4.541457658444031  0.0               NaN \n",
        "(7,23)  4.540659647595542  0.0               NaN \n",
        "(15,17) 4.539034130622654  0.0               NaN \n",
        "(10,29) 4.538645196405584  0.0               NaN \n",
        "(13,21) 4.5384759540909325 0.0               NaN \n",
        "(6,24)  4.538184679349502  0.0               NaN \n",
        "(0,12)  4.5359876074499885 0.0               NaN \n",
        "(8,10)  4.535008399297921  0.0               NaN \n",
        "(5,29)  4.5335019421719425 0.0               NaN \n",
        "(7,26)  4.533494083068794  0.0               NaN \n",
        "(13,26) 4.533341164474955  0.0               NaN \n",
        "(3,19)  4.531428248347144  0.0               NaN \n",
        "(11,23) 4.528298643574437  0.0               NaN \n",
        "(15,23) 4.527775585808382  0.0               NaN \n",
        "(1,14)  4.527521834117519  0.0               NaN \n",
        "(8,25)  4.526559437348608  0.0               NaN \n",
        "(10,22) 4.526146289691256  0.0               NaN \n",
        "(4,11)  4.523101638663034  0.0               NaN \n",
        "(23,29) 4.522884197392548  0.0               NaN \n",
        "(1,20)  4.522163439162661  0.0               NaN \n",
        "(16,21) 4.520524931769959  0.0               NaN \n",
        "(8,20)  4.519759451135702  0.0               NaN \n",
        "(6,27)  4.519351438521649  0.0               NaN \n",
        "(3,21)  4.5189964433698435 0.0               NaN \n",
        "(13,16) 4.517796732426853  0.0               NaN \n",
        "(5,25)  4.514336116528695  0.0               NaN \n",
        "(21,29) 4.513707941295435  0.0               NaN \n",
        "(18,29) 4.5133580940276    0.0               NaN \n",
        "(12,16) 4.511192040344152  0.0               NaN \n",
        "(12,28) 4.5088997192749956 0.0               NaN \n",
        "(19,27) 4.508693492596816  0.0               NaN \n",
        "(7,13)  4.508381669149083  0.0               NaN \n",
        "(4,23)  4.508252540911652  0.0               NaN \n",
        "(1,11)  4.505716072808894  0.0               NaN \n",
        "(3,18)  4.504400340021198  0.0               NaN \n",
        "(6,13)  4.5041094158900234 0.0               NaN \n",
        "(14,26) 4.499888183017011  0.0               NaN \n",
        "(4,25)  4.4988333597566115 0.0               NaN \n",
        "(7,29)  4.498083756319586  0.0               NaN \n",
        "(0,21)  4.494191245413077  0.0               NaN \n",
        "(9,28)  4.493203093877008  0.0               NaN \n",
        "(11,12) 4.492724077770641  0.0               NaN \n",
        "(4,16)  4.490914624430233  0.0               NaN \n",
        "(3,11)  4.490839983751311  0.0               NaN \n",
        "(15,21) 4.490519048508634  0.0               NaN \n",
        "(12,15) 4.489330416713594  0.0          "
       ]
      },
      {
       "output_type": "stream",
       "stream": "stdout",
       "text": [
        "     NaN \n",
        "(13,24) 4.48902401124697   0.0               NaN \n",
        "(8,26)  4.488069595182875  0.0               NaN \n",
        "(10,21) 4.486016757765781  0.0               NaN \n",
        "(11,16) 4.485576230128291  0.0               NaN \n",
        "(4,29)  4.483148760878866  0.0               NaN \n",
        "(14,17) 4.4817269268618665 0.0               NaN \n",
        "(6,14)  4.480948869914097  0.0               NaN \n",
        "(7,17)  4.480642009942202  0.0               NaN \n",
        "(8,13)  4.478807308756477  0.0               NaN \n",
        "(0,23)  4.478473568601836  0.0               NaN \n",
        "(2,9)   4.476368391603157  0.0               NaN \n",
        "(7,14)  4.476120429934691  0.0               NaN \n",
        "(8,17)  4.475560021844165  0.0               NaN \n",
        "(1,3)   4.4749839813316745 0.0               NaN \n",
        "(23,26) 4.473135590936061  0.0               NaN \n",
        "(0,1)   4.472462869652203  0.0               NaN \n",
        "(3,26)  4.472129585912011  0.0               NaN \n",
        "(10,15) 4.472074536870131  0.0               NaN \n",
        "(11,26) 4.471423482807122  0.0               NaN \n",
        "(2,28)  4.470132295848725  0.0               NaN \n",
        "(3,4)   4.469558163391386  0.0               NaN \n",
        "(4,20)  4.468152836112698  0.0               NaN \n",
        "(10,12) 4.468038025085261  0.0               NaN \n",
        "(3,15)  4.467781028345517  0.0               NaN \n",
        "(1,19)  4.464431026423078  0.0               NaN \n",
        "(1,9)   4.463340642410357  0.0               NaN \n",
        "(15,19) 4.46315274705043   0.0               NaN \n",
        "(5,9)   4.460777362663582  0.0               NaN \n",
        "(19,20) 4.458532893545554  0.0               NaN \n",
        "(8,29)  4.454839317970927  0.0               NaN \n",
        "(4,26)  4.453624272213638  0.0               NaN \n",
        "(10,13) 4.451331048570032  0.0               NaN \n",
        "(3,6)   4.450918805930472  0.0               NaN \n",
        "(7,28)  4.450870730288372  0.0               NaN \n",
        "(2,7)   4.450349079507807  0.0               NaN \n",
        "(7,21)  4.450073248871016  0.0               NaN \n",
        "(19,29) 4.449868361764532  0.0               NaN \n",
        "(3,9)   4.449228279333533  0.0               NaN \n",
        "(6,26)  4.448666941457029  0.0               NaN \n",
        "(11,21) 4.44766523399114   0.0               NaN \n",
        "(1,18)  4.445037487479781  0.0               NaN \n",
        "(6,28)  4.444615272938875  0.0               NaN \n",
        "(25,26) 4.443338875680017  0.0               NaN \n",
        "(4,15)  4.44235732599344   0.0               NaN \n",
        "(4,18)  4.440437222829644  0.0               NaN \n",
        "(13,28) 4.43792852220056   0.0               NaN \n",
        "(10,17) 4.437891893633703  0.0               NaN \n",
        "(1,13)  4.437601614847147  0.0               NaN \n",
        "(8,27)  4.437089840100755  0.0               NaN \n",
        "(0,29)  4.436855711832027  0.0               NaN \n",
        "(17,27) 4.434487126872243  0.0               NaN \n",
        "(14,21) 4.434466249055345  0.0               NaN \n",
        "(24,25) 4.434107093035636  0.0               NaN \n",
        "(4,13)  4.432933538307511  0.0               NaN \n",
        "(21,23) 4.430193556540385  0.0               NaN \n",
        "(2,17)  4.427456745914329  0.0               NaN \n",
        "(23,27) 4.426861570361788  0.0               NaN \n",
        "(15,22) 4.426357818317332  0.0               NaN \n",
        "(18,20) 4.425024833225652  0.0               NaN \n",
        "(4,28)  4.424064470090933  0.0               NaN \n",
        "(14,20) 4.423553010672265  0.0               NaN \n",
        "(8,23)  4.422436565920232  0.0               NaN \n",
        "(6,8)   4.4212437066066785 0.0               NaN \n",
        "(10,11) 4.420536312021947  0.0               NaN \n",
        "(17,22) 4.416248426964522  0.0               NaN \n",
        "(26,29) 4.415294315189262  0.0               NaN \n",
        "(14,28) 4.414737034063175  0.0               NaN \n",
        "(3,20)  4.414720432120255  0.0               NaN \n",
        "(9,22)  4.410853576923518  0.0               NaN \n",
        "(14,27) 4.410595399841365  0.0               NaN \n",
        "(12,22) 4.409858609493483  0.0               NaN \n",
        "(0,9)   4.409674197403951  0.0               NaN \n",
        "(6,11)  4.409271979660151  0.0               NaN \n",
        "(4,6)   4.409014193502276  0.0               NaN \n",
        "(1,15)  4.408307159226854  0.0               NaN \n",
        "(15,18) 4.407246082301425  0.0               NaN \n",
        "(18,27) 4.4071952158115915 0.0               NaN \n",
        "(22,25) 4.405206101652914  0.0               NaN \n",
        "(17,19) 4.402774245475424  0.0               NaN \n",
        "(13,27) 4.401000327762521  0.0               NaN \n",
        "(1,6)   4.398780603063536  0.0               NaN \n",
        "(2,23)  4.3987691981016965 0.0               NaN \n",
        "(1,21)  4.3950200572122275 0.0               NaN \n",
        "(15,24) 4.392368311664656  0.0               NaN \n",
        "(7,9)   4.392298306544714  0.0               NaN \n",
        "(8,22)  4.392147757798311  0.0               NaN \n",
        "(3,8)   4.390366341739403  0.0               NaN \n",
        "(5,11)  4.389560854563392  0.0               NaN \n",
        "(6,9)   4.388062263820593  0.0               NaN \n",
        "(6,19)  4.383185975511349  0.0               NaN \n",
        "(2,8)   4.381451639453183  0.0               NaN \n",
        "(23,25) 4.381245430132567  0.0               NaN \n",
        "(0,17)  4.380235399275791  0.0               NaN \n",
        "(13,20) 4.379008070538546  0.0               NaN \n",
        "(21,26) 4.37831555188477   0.0               NaN \n",
        "(24,29) 4.375482586700092  0.0               NaN \n",
        "(11,19) 4.372564326638176  0.0               NaN \n",
        "(2,13)  4.370697256114272  0.0               NaN \n",
        "(18,24) 4.369727573698861  0.0               NaN \n",
        "(19,22) 4.368434893356288  0.0               NaN \n",
        "(15,26) 4.36686492947962   0.0               NaN \n",
        "(21,25) 4.366341212418201  0.0               NaN \n",
        "(0,26)  4.366104275656746  0.0               NaN \n",
        "(23,24) 4.365473810928816  0.0               NaN \n",
        "(12,14) 4.364816752309861  0.0               NaN \n",
        "(1,4)   4.3626886238359415 0.0               NaN \n",
        "(0,7)   4.362440058017906  0.0               NaN \n",
        "(17,24) 4.361577303890883  0.0               NaN \n",
        "(4,19)  4.360602927926515  0.0               NaN \n",
        "(5,18)  4.356151140989456  0.0               NaN \n",
        "(0,8)   4.356148149366579  0.0               NaN \n",
        "(13,19) 4.354979870589     0.0               NaN \n",
        "(15,27) 4.352270357969091  0.0               NaN \n",
        "(5,14)  4.351965022486548  0.0               NaN \n",
        "(2,14)  4.3504102982129    0.0               NaN \n",
        "(4,27)  4.350223216264027  0.0               NaN \n",
        "(6,21)  4.348736759696923  0.0               NaN \n",
        "(7,19)  4.348198991814643  0.0               NaN \n",
        "(20,23) 4.347883879037454  0.0               NaN \n",
        "(13,14) 4.345753881602608  0.0               NaN \n",
        "(5,27)  4.344143258749685  0.0               NaN \n",
        "(5,13)  4.3413510689861825 0.0               NaN \n",
        "(16,28) 4.331880837131592  0.0               NaN \n",
        "(3,7)   4.331863477159663  0.0               NaN \n",
        "(5,28)  4.331835762549558  0.0               NaN \n",
        "(5,20)  4.33160909232911   0.0               NaN \n",
        "(5,24)  4.3271066895170875 0.0               NaN \n",
        "(20,24) 4.325809449533234  0.0               NaN \n",
        "(16,19) 4.322471084065753  0.0               NaN \n",
        "(13,22) 4.320891755718266  0.0               NaN \n",
        "(27,29) 4.3205726166677625 0.0               NaN \n",
        "(2,29)  4.319224879393556  0.0               NaN \n",
        "(1,8)   4.318534074473933  0.0               NaN \n",
        "(4,14)  4.3185231035150515 0.0               NaN \n",
        "(4,7)   4.317982509876432  0.0               NaN \n",
        "(24,26) 4.315708184642213  0.0               NaN \n",
        "(4,9)   4.314716707506345  0.0               NaN \n",
        "(8,18)  4.314190259963459  0.0               NaN \n",
        "(13,18) 4.312997205484781  0.0               NaN \n",
        "(19,28) 4.310349046741424  0.0               NaN \n",
        "(7,16)  4.309499701482671  0.0               NaN \n",
        "(20,25) 4.302836828830961  0.0               NaN \n",
        "(12,19) 4.300402859916081  0.0               NaN \n",
        "(20,29) 4.3002767577910035 0.0               NaN \n",
        "(0,14)  4.297564415655019  0.0               NaN \n",
        "(10,19) 4.297464803684751  0.0               NaN \n",
        "(3,5)   4.297280125706537  0.0               NaN \n",
        "(11,27) 4.296445088380665  0.0               NaN \n",
        "(8,19)  4.294990736816405  0.0               NaN \n",
        "(11,24) 4.294950117151794  0.0               NaN \n",
        "(11,13) 4.294389273970631  0.0               NaN \n",
        "(5,15)  4.293995907966962  0.0               NaN \n",
        "(14,22) 4.291060595531824  0.0               NaN \n",
        "(2,20)  4.287624795630776  0.0               NaN \n",
        "(5,26)  4.286903107197389  0.0               NaN \n",
        "(4,22)  4.285378337105922  0.0               NaN \n",
        "(1,5)   4.284637272799264  0.0               NaN \n",
        "(2,26)  4.284434468172534  0.0               NaN \n",
        "(1,22)  4.282505192482497  0.0               NaN \n",
        "(21,24) 4.276108025544743  0.0               NaN \n",
        "(17,18) 4.273562761378898  0.0               NaN \n",
        "(2,11)  4.272019324185203  0.0               NaN \n",
        "(2,24)  4.270190912040188  0.0               NaN \n",
        "(18,28) 4.269413511058333  0.0               NaN \n",
        "(10,16) 4.269279787394179  0.0               NaN \n",
        "(2,3)   4.268370368302916  0.0               NaN \n",
        "(22,28) 4.2671697982497045 0.0               NaN \n",
        "(4,8)   4.264360836228071  0.0               NaN \n",
        "(11,18) 4.262803711468999  0.0               NaN \n",
        "(24,28) 4.26188300548491   0.0               NaN \n",
        "(23,28) 4.26101994580129   0.0               NaN \n",
        "(21,22) 4.258475161505547  0.0               NaN \n",
        "(9,18)  4.257151020297917  0.0               NaN \n",
        "(5,7)   4.256064635471272  0.0               NaN \n",
        "(22,29) 4.255609359932702  0.0               NaN \n",
        "(20,21) 4.253161308859256  0.0               NaN \n",
        "(14,19) 4.252267442287398  0.0               NaN \n",
        "(14,15) 4.251346616555119  0.0               NaN \n",
        "(5,8)   4.239082688664089  0.0               NaN \n",
        "(20,26) 4.236168961649042  0.0               NaN \n",
        "(20,28) 4.235964501693615  0.0               NaN \n",
        "(24,27) 4.228765000161792  0.0               NaN \n",
        "(1,7)   4.228673956858221  0.0               NaN \n",
        "(4,5)   4.227878069920418  0.0               NaN \n",
        "(8,28)  4.225988998852983  0.0               NaN \n",
        "(11,22) 4.220537912863023  0.0               NaN \n",
        "(25,29) 4.220242364499724  0.0               NaN \n",
        "(5,22)  4.218248149298314  0.0               NaN \n",
        "(0,27)  4.2148101396293285 0.0               NaN \n",
        "(11,15) 4.210984837862318  0.0               NaN \n",
        "(28,29) 4.203632992450431  0.0               NaN \n",
        "(22,23) 4.20277566494845   0.0               NaN \n",
        "(6,18)  4.202578656176057  0.0               NaN \n",
        "(25,27) 4.201704652097983  0.0               NaN \n",
        "(2,21)  4.192283111173192  0.0               NaN \n",
        "(27,28) 4.190091379274285  0.0               NaN \n",
        "(26,27) 4.189578266222147  0.0               NaN \n",
        "(7,18)  4.1860609633625705 0.0               NaN \n",
        "(0,11)  4.182262812319355  0.0               NaN \n",
        "(21,27) 4.182012963460485  0.0               NaN \n",
        "(14,18) 4.181736258290829  0.0               NaN \n",
        "(0,24)  4.175766918451609  0.0               NaN \n",
        "(10,18) 4.174389884063352  0.0               NaN \n",
        "(18,25) 4.173517888546337  0.0               NaN \n",
        "(2,15)  4.1574149845991055 0.0"
       ]
      },
      {
       "output_type": "stream",
       "stream": "stdout",
       "text": [
        "               NaN \n",
        "(0,4)   4.152386796580427  0.0               NaN \n",
        "(20,22) 4.14806341854485   0.0               NaN \n",
        "(20,27) 4.139682286698247  0.0               NaN \n",
        "(0,3)   4.130165121939751  0.0               NaN \n",
        "(0,20)  4.119610655687453  0.0               NaN \n",
        "(1,2)   4.114092201543188  0.0               NaN \n",
        "(5,6)   4.1086303626920575 0.0               NaN \n",
        "(2,22)  4.1074612603119105 0.0               NaN \n",
        "(2,6)   4.104453553977062  0.0               NaN \n",
        "(15,20) 4.1018350241689845 0.0               NaN \n",
        "(2,5)   4.100742067708955  0.0               NaN \n",
        "(21,28) 4.096648625161954  0.0               NaN \n",
        "(11,20) 4.087614021641403  0.0               NaN \n",
        "(0,15)  4.086754650989165  0.0               NaN \n",
        "(0,13)  4.08117374437309   0.0               NaN \n",
        "(0,5)   4.075139921148404  0.0               NaN \n",
        "(0,6)   4.068743309360744  0.0               NaN \n",
        "(12,18) 4.068141426387959  0.0               NaN \n",
        "(7,8)   4.047201340047947  0.0               NaN \n",
        "(2,4)   4.0444705217751995 0.0               NaN \n",
        "(13,15) 4.0416568285363095 0.0               NaN \n",
        "(22,27) 4.031470622540708  0.0               NaN \n",
        "(22,24) 4.030591663378714  0.0               NaN \n",
        "(22,26) 4.001994689386899  0.0               NaN \n",
        "(0,22)  3.9063848341554297 0.0               NaN \n",
        "(0,2)   3.859830166795525  0.0               NaN \n"
       ]
      },
      {
       "output_type": "stream",
       "stream": "stderr",
       "text": []
      }
     ],
     "prompt_number": 84
    },
    {
     "cell_type": "code",
     "collapsed": false,
     "input": [],
     "language": "python",
     "metadata": {},
     "outputs": [
      {
       "output_type": "stream",
       "stream": "stderr",
       "text": []
      },
      {
       "output_type": "stream",
       "stream": "stdout",
       "text": [
        "      learned            true              MI  \n",
        "(0,3) 18.78932468612867  5.723653289900218 NaN \n",
        "(2,4) 18.722711676491905 5.807965501193578 NaN \n",
        "(1,4) 18.392909313335387 5.752137328506033 NaN \n",
        "(1,2) 14.360462239527756 0.0               NaN \n",
        "(3,4) 8.553124381445578  0.0               NaN \n",
        "(0,4) 8.517767526061252  0.0               NaN \n",
        "(0,2) 8.430514656393761  0.0               NaN \n",
        "(1,3) 8.421844961599433  0.0               NaN \n",
        "(2,3) 8.404337002456064  0.0               NaN \n",
        "(0,1) 8.315328870647397  0.0               NaN \n"
       ]
      }
     ],
     "prompt_number": 63
    },
    {
     "cell_type": "code",
     "collapsed": false,
     "input": [
      "val m  = PottsModel.frequenciesAsWeights(samples, domain)"
     ],
     "language": "python",
     "metadata": {},
     "outputs": [
      {
       "output_type": "stream",
       "stream": "stdout",
       "text": []
      },
      {
       "output_type": "stream",
       "stream": "stderr",
       "text": []
      },
      {
       "metadata": {},
       "output_type": "pyout",
       "prompt_number": 291,
       "text": [
        "PottsModel@61dc0f6f"
       ]
      }
     ],
     "prompt_number": 291
    },
    {
     "cell_type": "code",
     "collapsed": false,
     "input": [
      "m.pairwiseFamilies((0, 1)).weights.value"
     ],
     "language": "python",
     "metadata": {},
     "outputs": [
      {
       "output_type": "stream",
       "stream": "stdout",
       "text": []
      },
      {
       "output_type": "stream",
       "stream": "stderr",
       "text": []
      },
      {
       "metadata": {},
       "output_type": "pyout",
       "prompt_number": 250,
       "text": [
        "DenseTensor2(-5.810164620171216,-6.808015560752374,-11.56590683375813,-9.123559798388923,-9.123559798388923,-11.56590683375813,-5.118600971216916,-4.223451321399492,-8.084666744422437,-5.362359682695362,-8.084666744422437,-8.084666744422437,-7.804706718064566,-9.123559798388923,-6.721719747299537,-6.808015560752374,-9.123559798388923,-7.586225179856168,-6.318882761597642,-11.56590683375813,-8.474864380399813,-7.804706718064566,-9.123559798388923,-11.56590683375813,-11.56590683375813,-9.123559798388923,-11.56590683375813,-7.586225179856168,-6.436008118835055,-11.56590683375813,-7.804706718064566,-11.56590683375813,-9.123559798388923,-11.56590683375813,-11.56590683375813,-8.474864380399813,-8.474864380399813,-11.56590683375813,-11.56590683375813,-8.474864380399813,-11.56590683375813,-11.56590683375813,-6.07490512338059,-8.084666744422437,-11.56590683375813,-7.804706718064566,-7.804706718064566,-11.56590683375813,-5.280840271687375,-4.338607509175467...)"
       ]
      }
     ],
     "prompt_number": 250
    },
    {
     "cell_type": "code",
     "collapsed": false,
     "input": [
      "m.parameters(m.pairwiseFamilies((0, 1)).weights).asInstanceOf[DenseTensor2](0, 0)"
     ],
     "language": "python",
     "metadata": {},
     "outputs": [
      {
       "output_type": "stream",
       "stream": "stderr",
       "text": []
      },
      {
       "output_type": "stream",
       "stream": "stdout",
       "text": []
      },
      {
       "metadata": {},
       "output_type": "pyout",
       "prompt_number": 246,
       "text": [
        "-5.810164620171216"
       ]
      }
     ],
     "prompt_number": 246
    },
    {
     "cell_type": "code",
     "collapsed": false,
     "input": [
      "e.printOrderedBy(\"learned\")"
     ],
     "language": "python",
     "metadata": {},
     "outputs": [
      {
       "output_type": "stream",
       "stream": "stdout",
       "text": [
        "        learned            true               MI  \n",
        "(1,6)   20.570774936358852 5.9669930114453775 NaN \n",
        "(7,9)   20.54191269029008  5.926816489200179  NaN \n",
        "(18,19) 19.982001539489573 5.8791076863199505 NaN \n",
        "(11,14) 19.956006025345378 5.729342317245977  NaN \n",
        "(5,11)  19.24225058658362  5.980233965084991  NaN \n",
        "(9,10)  19.24140741940287  5.92849288721589   NaN \n",
        "(3,10)  19.06044522777291  5.880198330057664  NaN \n",
        "(1,5)   18.99642501921061  5.811790605667623  NaN \n",
        "(12,13) 18.851351512764086 5.915432439659882  NaN \n",
        "(0,17)  18.679004590364478 5.575596697923671  NaN \n",
        "(1,8)   18.44379400504907  5.600211969908815  NaN \n",
        "(10,15) 18.38634632267516  5.95790651479959   NaN \n",
        "(13,15) 18.353069604435284 5.753803088840733  NaN \n",
        "(4,17)  17.164012579381176 5.685897762602004  NaN \n",
        "(2,16)  17.03744474627032  6.013864181010726  NaN \n",
        "(10,16) 16.42477339742066  5.669817117260576  NaN \n",
        "(5,6)   16.208199349393233 0.0                NaN \n",
        "(6,8)   15.607363719552904 0.0                NaN \n",
        "(7,10)  15.388061688468827 0.0                NaN \n",
        "(1,11)  15.083193326322817 0.0                NaN \n",
        "(5,14)  14.852649536218587 0.0                NaN \n",
        "(3,9)   14.780017523258868 0.0                NaN \n",
        "(0,4)   14.643174735116538 0.0                NaN \n",
        "(9,15)  14.20740140988532  0.0                NaN \n",
        "(3,15)  14.032016997280902 0.0                NaN \n",
        "(5,8)   13.239115136420386 0.0                NaN \n",
        "(6,11)  13.007013842506758 0.0                NaN \n",
        "(2,10)  12.589396109675818 0.0                NaN \n",
        "(10,13) 12.501329268032462 0.0                NaN \n",
        "(12,15) 12.407137270208226 0.0                NaN \n",
        "(9,16)  12.372605986448916 0.0                NaN \n",
        "(15,16) 11.997835123632383 0.0                NaN \n",
        "(1,14)  11.9948568753025   0.0                NaN \n",
        "(3,16)  11.86238092075816  0.0                NaN \n",
        "(3,7)   11.706043979863091 0.0                NaN \n",
        "(6,14)  11.119857298462595 0.0                NaN \n",
        "(8,11)  11.059901497469538 0.0                NaN \n",
        "(7,15)  10.966193631835601 0.0                NaN \n",
        "(9,13)  10.338376467153509 0.0                NaN \n",
        "(3,13)  10.135917230805058 0.0                NaN \n",
        "(7,16)  9.996805424389311  0.0                NaN \n",
        "(2,15)  9.770282954695121  0.0                NaN \n",
        "(2,3)   9.715006814353115  0.0                NaN \n",
        "(8,14)  9.525046107728663  0.0                NaN \n",
        "(2,9)   9.501173488967211  0.0                NaN \n",
        "(7,13)  9.471716263895203  0.0                NaN \n",
        "(1,10)  9.46886042185476   0.0                NaN \n",
        "(10,12) 9.391487267080075  0.0                NaN \n",
        "(11,13) 9.354450458532778  0.0                NaN \n",
        "(13,14) 9.113073936520152  0.0                NaN \n",
        "(14,15) 9.11220407906381   0.0                NaN \n",
        "(10,11) 9.109898191239274  0.0                NaN \n",
        "(6,10)  9.089906856060121  0.0                NaN \n",
        "(5,10)  9.089821404456783  0.0                NaN \n",
        "(6,12)  9.06347742852158   0.0                NaN \n",
        "(12,14) 9.061904575634896  0.0                NaN \n",
        "(10,14) 9.037341764925333  0.0                NaN \n",
        "(1,9)   9.001494342645582  0.0                NaN \n",
        "(7,12)  8.971424838054828  0.0                NaN \n",
        "(9,11)  8.96344802359892   0.0                NaN \n",
        "(13,16) 8.958925696654207  0.0                NaN \n",
        "(7,14)  8.917008562301042  0.0                NaN \n",
        "(9,14)  8.9101831586363    0.0                NaN \n",
        "(11,15) 8.906459339365718  0.0                NaN \n",
        "(3,11)  8.893252681027363  0.0                NaN \n",
        "(3,14)  8.883739934359138  0.0                NaN \n",
        "(3,12)  8.87063656083782   0.0                NaN \n",
        "(11,12) 8.860207136941536  0.0                NaN \n",
        "(5,13)  8.849960611038355  0.0                NaN \n",
        "(3,6)   8.839373773804038  0.0                NaN \n",
        "(7,11)  8.82029041965897   0.0                NaN \n",
        "(8,13)  8.815842801172007  0.0                NaN \n",
        "(6,9)   8.80803751248349   0.0                NaN \n",
        "(8,10)  8.807471192774443  0.0                NaN \n",
        "(5,12)  8.779103964068163  0.0                NaN \n",
        "(1,13)  8.778040777682515  0.0                NaN \n",
        "(0,6)   8.763087011603185  0.0                NaN \n",
        "(0,12)  8.756481343556947  0.0                NaN \n",
        "(3,8)   8.754378237047256  0.0                NaN \n",
        "(8,12)  8.73410740830212   0.0                NaN \n",
        "(5,7)   8.709649991785119  0.0                NaN \n",
        "(8,9)   8.706539285033216  0.0                NaN \n",
        "(5,9)   8.678235259222665  0.0                NaN \n",
        "(6,13)  8.674069592672488  0.0                NaN \n",
        "(14,19) 8.658025359157707  0.0                NaN \n",
        "(12,16) 8.63630464410971   0.0                NaN \n",
        "(0,3)   8.631674871713642  0.0                NaN \n",
        "(0,8)   8.630912146551745  0.0                NaN \n",
        "(6,7)   8.626199988302584  0.0                NaN \n",
        "(3,5)   8.62408822571828   0.0                NaN \n",
        "(0,10)  8.611551194600823  0.0                NaN \n",
        "(14,18) 8.604649660012788  0.0                NaN \n",
        "(7,18)  8.594536455448113  0.0                NaN \n",
        "(2,8)   8.592845737875857  0.0                NaN \n",
        "(0,13)  8.567815297646668  0.0                NaN \n",
        "(10,18) 8.567283414393648  0.0                NaN \n",
        "(13,19) 8.544403779892992  0.0                NaN \n",
        "(1,17)  8.53671195303628   0.0                NaN \n",
        "(0,15)  8.536054608579548  0.0                NaN \n",
        "(0,1)   8.535278622077799  0.0                NaN \n",
        "(1,3)   8.520690073979079  0.0                NaN \n",
        "(7,8)   8.515971484213502  0.0                NaN \n",
        "(1,15)  8.50600684257252   0.0                NaN \n",
        "(2,13)  8.500952402610793  0.0                NaN \n",
        "(2,12)  8.499523358189926  0.0                NaN \n",
        "(2,7)   8.488449453026266  0.0                NaN \n",
        "(0,14)  8.488293468153671  0.0                NaN \n",
        "(6,17)  8.487194293633648  0.0                NaN \n",
        "(8,16)  8.481212395913444  0.0                NaN \n",
        "(10,17) 8.466907452151167  0.0                NaN \n",
        "(15,19) 8.461160726472762  0.0                NaN \n",
        "(2,6)   8.45869151557835   0.0                NaN \n",
        "(10,19) 8.437572024038728  0.0                NaN \n",
        "(0,7)   8.421186365579418  0.0                NaN \n",
        "(9,18)  8.420079035468381  0.0                NaN \n",
        "(6,18)  8.417247617522623  0.0                NaN \n",
        "(0,11)  8.414769144757704  0.0                NaN \n",
        "(5,15)  8.407977459777895  0.0                NaN \n",
        "(9,12)  8.390460108407547  0.0                NaN \n",
        "(11,18) 8.387560036853271  0.0                NaN \n",
        "(5,17)  8.381962209523698  0.0                NaN \n",
        "(6,16)  8.366497389296107  0.0                NaN \n",
        "(6,19)  8.361792505620857  0.0                NaN \n",
        "(12,19) 8.357249750068336  0.0                NaN \n",
        "(15,17) 8.352947229485816  0.0                NaN \n",
        "(2,14)  8.352753238359368  0.0                NaN \n",
        "(11,17) 8.345506052403913  0.0                NaN \n",
        "(14,17) 8.344195264317099  0.0                NaN \n",
        "(14,16) 8.34080131553329   0.0                NaN \n",
        "(1,7)   8.339529515718997  0.0                NaN \n",
        "(1,12)  8.331761162766792  0.0                NaN \n",
        "(4,14)  8.329093015340456  0.0                NaN \n",
        "(8,15)  8.327129883316648  0.0                NaN \n",
        "(12,18) 8.316033326834585  0.0                NaN \n",
        "(0,9)   8.315360484513349  0.0                NaN \n",
        "(4,6)   8.3002123224261    0.0                NaN \n",
        "(1,16)  8.296004181177695  0.0                NaN \n",
        "(15,18) 8.285640563323797  0.0                NaN \n",
        "(4,7)   8.284147534114904  0.0                NaN \n",
        "(13,18) 8.279135199072133  0.0                NaN \n",
        "(11,19) 8.274305707508603  0.0                NaN \n",
        "(13,17) 8.272763733735509  0.0                NaN \n",
        "(12,17) 8.269179134737355  0.0                NaN \n",
        "(8,18)  8.263523037777205  0.0                NaN \n",
        "(4,9)   8.263441406919531  0.0                NaN \n",
        "(0,5)   8.257898390197374  0.0                NaN \n",
        "(8,19)  8.256320697372809  0.0                NaN \n",
        "(7,19)  8.242984982700209  0.0                NaN \n",
        "(4,13)  8.239679645168962  0.0                NaN \n",
        "(5,16)  8.236186471253657  0.0                NaN \n",
        "(3,18)  8.229571106378316  0.0                NaN \n",
        "(3,4)   8.212946194677949  0.0                NaN \n",
        "(2,11)  8.205548719493114  0.0                NaN \n",
        "(1,2)   8.20000106787045   0.0                NaN \n",
        "(4,11)  8.199669996555098  0.0                NaN \n",
        "(4,10)  8.144214237160636  0.0                NaN \n",
        "(0,16)  8.129048383041932  0.0                NaN \n",
        "(0,2)   8.127579017207541  0.0                NaN \n",
        "(3,19)  8.123865820586069  0.0                NaN \n",
        "(3,17)  8.114913227028332  0.0                NaN \n",
        "(6,15)  8.105447914492082  0.0                NaN \n",
        "(11,16) 8.096149548667485  0.0                NaN \n",
        "(8,17)  8.09126442453729   0.0                NaN \n",
        "(9,17)  8.064255474263874  0.0                NaN \n",
        "(9,19)  8.059274348954066  0.0                NaN \n",
        "(1,4)   8.050690702006602  0.0                NaN \n",
        "(7,17)  8.049503693938908  0.0                NaN \n",
        "(1,18)  8.019018805615987  0.0                NaN \n",
        "(4,8)   8.0150782931196    0.0                NaN \n",
        "(1,19)  8.003302731282634  0.0                NaN \n",
        "(4,12)  7.995831172946938  0.0                NaN \n",
        "(2,5)   7.981673471950803  0.0                NaN \n",
        "(5,18)  7.980027633977781  0.0                NaN \n",
        "(2,19)  7.958434425486489  0.0                NaN \n",
        "(0,19)  7.934331841247348  0.0                NaN \n",
        "(2,18)  7.91975338526073   0.0                NaN \n",
        "(0,18)  7.894999151107108  0.0                NaN \n",
        "(4,15)  7.833640084097363  0.0                NaN \n",
        "(16,19) 7.829519880340189  0.0                NaN \n",
        "(5,19)  7.816288495070895  0.0                NaN \n",
        "(16,17) 7.796401834114518  0.0                NaN \n",
        "(2,17)  7.721424444197877  0.0                NaN \n",
        "(4,5)   7.705762060349358  0.0                NaN \n",
        "(16,18) 7.672691355518742  0.0                NaN \n",
        "(17,19) 7.667270111281319  0.0                NaN \n",
        "(4,19)  7.574687952389561  0.0                NaN \n",
        "(17,18) 7.526578992803978  0.0                NaN \n",
        "(4,18)  7.459203938132673  0.0                NaN \n",
        "(4,16)  7.440157717741816  0.0                NaN \n",
        "(2,4)   7.319527543309021  0.0                NaN \n"
       ]
      },
      {
       "output_type": "stream",
       "stream": "stderr",
       "text": []
      }
     ],
     "prompt_number": 292
    },
    {
     "cell_type": "code",
     "collapsed": false,
     "input": [
      "val learnedModel = PottsModel.logFreqsAsLocalWeights(samples, domain)\n",
      "Timer.start\n",
      "\n",
      "for(sample <- samples) {\n",
      "    val CDexamples = for(variable <- sample) yield new optimize.ContrastiveDivergenceExample(variable, learnedModel, samp2)\n",
      "    //Trainer.onlineTrain(learnedModel.parameters, CDexamples, optimizer=opt)\n",
      "    Trainer.onlineTrain(learnedModel.parameters, CDexamples)\n",
      "}\n",
      "Timer.stop\n",
      "\n",
      "  "
     ],
     "language": "python",
     "metadata": {},
     "outputs": [
      {
       "output_type": "stream",
       "stream": "stdout",
       "text": []
      },
      {
       "output_type": "stream",
       "stream": "stderr",
       "text": []
      },
      {
       "metadata": {},
       "output_type": "pyout",
       "prompt_number": 33,
       "text": [
        "7803269"
       ]
      }
     ],
     "prompt_number": 33
    },
    {
     "cell_type": "code",
     "collapsed": false,
     "input": [
      "val learnedModel2 = PottsModel.logFreqsAsLocalWeights(samples2, domain)\n",
      "Timer.start\n",
      "\n",
      "for(sample <- samples2) {\n",
      "    val CDexamples = for(variable <- sample) yield new optimize.ContrastiveDivergenceExample(variable, learnedModel, samp2)\n",
      "    Trainer.batchTrain(learnedModel.parameters, CDexamples)\n",
      "}\n",
      "Timer.stop\n",
      "\n",
      "  "
     ],
     "language": "python",
     "metadata": {},
     "outputs": [
      {
       "output_type": "stream",
       "stream": "stdout",
       "text": []
      },
      {
       "output_type": "stream",
       "stream": "stderr",
       "text": []
      },
      {
       "ename": "java.lang.Error",
       "evalue": "Slope=0.0 is negative or zero.",
       "output_type": "pyerr",
       "traceback": [
        "java.lang.Error: Slope=0.0 is negative or zero.",
        "    cc.factorie.optimize.BackTrackLineOptimizer.step(LineOptimizer.scala:77)",
        "    cc.factorie.optimize.LBFGS.step(LBFGS.scala:118)",
        "    cc.factorie.optimize.Trainer$$anon$2.cc$factorie$optimize$L2Regularization$$super$step(Trainer.scala:421)",
        "    cc.factorie.optimize.L2Regularization$class.step(GradientOptimizer.scala:43)",
        "    cc.factorie.optimize.Trainer$$anon$2.step(Trainer.scala:421)",
        "    cc.factorie.optimize.ParallelBatchTrainer.processExamples(Trainer.scala:124)",
        "    cc.factorie.optimize.Trainer$.train(Trainer.scala:387)",
        "    cc.factorie.optimize.Trainer$.batchTrain(Trainer.scala:422)"
       ]
      }
     ],
     "prompt_number": 23
    },
    {
     "cell_type": "code",
     "collapsed": false,
     "input": [
      "//val learnedModel2 = PottsModel.logFreqsAsLocalWeights(samples, domain)\n",
      "val ex6 = for(v <- samples) yield new LikelihoodExample(v, learnedModel, InferByBPLoopy)\n",
      "Timer.start\n",
      "Trainer.batchTrain(learnedModel.parameters, ex6)\n",
      "println(Timer.stop)"
     ],
     "language": "python",
     "metadata": {},
     "outputs": [
      {
       "output_type": "stream",
       "stream": "stderr",
       "text": []
      },
      {
       "output_type": "stream",
       "stream": "stdout",
       "text": []
      }
     ],
     "prompt_number": 40
    },
    {
     "cell_type": "markdown",
     "metadata": {},
     "source": [
      "Tried, but didn't work well:\n",
      "- onlineTrain with L2RegularizedConstantRate()\n"
     ]
    },
    {
     "cell_type": "code",
     "collapsed": false,
     "input": [
      "m"
     ],
     "language": "python",
     "metadata": {},
     "outputs": [
      {
       "output_type": "stream",
       "stream": "stdout",
       "text": []
      },
      {
       "ename": "",
       "evalue": "",
       "output_type": "pyerr",
       "traceback": [
        "<console>:31: error: not found: value m",
        "              m",
        "              ^"
       ]
      },
      {
       "output_type": "stream",
       "stream": "stderr",
       "text": []
      }
     ],
     "prompt_number": 38
    },
    {
     "cell_type": "code",
     "collapsed": false,
     "input": [],
     "language": "python",
     "metadata": {},
     "outputs": [],
     "prompt_number": "*"
    },
    {
     "cell_type": "code",
     "collapsed": false,
     "input": [
      "val m = experiment(4, smallDomain, 0.3)"
     ],
     "language": "python",
     "metadata": {},
     "outputs": [
      {
       "output_type": "stream",
       "stream": "stdout",
       "text": []
      },
      {
       "ename": "",
       "evalue": "",
       "output_type": "pyerr",
       "traceback": [
        "<console>:44: error: not found: value smallDomain",
        "       val m = experiment(4, smallDomain, 0.3)",
        "                             ^"
       ]
      },
      {
       "output_type": "stream",
       "stream": "stderr",
       "text": []
      }
     ],
     "prompt_number": 28
    },
    {
     "cell_type": "code",
     "collapsed": false,
     "input": [
      "ModelValidator(m._1, m._2).printStats"
     ],
     "language": "python",
     "metadata": {},
     "outputs": [
      {
       "output_type": "stream",
       "stream": "stdout",
       "text": []
      },
      {
       "output_type": "stream",
       "stream": "stderr",
       "text": []
      },
      {
       "ename": "",
       "evalue": "",
       "output_type": "pyerr",
       "traceback": [
        "<console>:52: error: not found: value m",
        "              ModelValidator(m._1, m._2).printStats",
        "                             ^"
       ]
      }
     ],
     "prompt_number": 38
    },
    {
     "cell_type": "code",
     "collapsed": false,
     "input": [
      "val objectiveModel = PottsModel.frequenciesAsWeights(vectors, smallDomain)"
     ],
     "language": "python",
     "metadata": {},
     "outputs": [
      {
       "output_type": "stream",
       "stream": "stdout",
       "text": []
      },
      {
       "output_type": "stream",
       "stream": "stderr",
       "text": []
      },
      {
       "ename": "",
       "evalue": "",
       "output_type": "pyerr",
       "traceback": [
        "<console>:50: error: not found: value vectors",
        "       val objectiveModel = PottsModel.frequenciesAsWeights(vectors, smallDomain)",
        "                                                            ^"
       ]
      }
     ],
     "prompt_number": 39
    },
    {
     "cell_type": "code",
     "collapsed": false,
     "input": [
      "val m6 = PottsModel(numSites, smallDomain)\n",
      "val ex6 = for(v <- vectors) yield new LikelihoodExample(v, m6, InferByBPLoopy)\n",
      "Timer.start\n",
      "Trainer.batchTrain(m6.parameters, ex6)\n",
      "println(Timer.stop)"
     ],
     "language": "python",
     "metadata": {},
     "outputs": [
      {
       "output_type": "stream",
       "stream": "stdout",
       "text": []
      },
      {
       "output_type": "stream",
       "stream": "stderr",
       "text": []
      },
      {
       "ename": "",
       "evalue": "",
       "output_type": "pyerr",
       "traceback": [
        "<console>:51: error: not found: value numSites",
        "              val m6 = PottsModel(numSites, smallDomain)",
        "                                  ^",
        "<console>:52: error: not found: value vectors",
        "              val ex6 = for(v <- vectors) yield new LikelihoodExample(v, m6, InferByBPLoopy)",
        "                                 ^"
       ]
      }
     ],
     "prompt_number": 40
    },
    {
     "cell_type": "markdown",
     "metadata": {},
     "source": [
      "The model works best around 0.3 connectivity!\n",
      "I've also removed the symmetry in the weights creation, does this change anything??"
     ]
    },
    {
     "cell_type": "code",
     "collapsed": false,
     "input": [
      "val mis = MutualInformation(strings, smallDomain).allMIs\n",
      "ModelValidator(trueM, m6, mis).printStats"
     ],
     "language": "python",
     "metadata": {},
     "outputs": [
      {
       "output_type": "stream",
       "stream": "stdout",
       "text": []
      },
      {
       "output_type": "stream",
       "stream": "stderr",
       "text": []
      },
      {
       "ename": "",
       "evalue": "",
       "output_type": "pyerr",
       "traceback": [
        "<console>:54: error: not found: value strings",
        "              val mis = MutualInformation(strings, smallDomain).allMIs",
        "                                          ^",
        "<console>:57: error: not found: value trueM",
        "              ModelValidator(trueM, m6, mis).printStats",
        "                             ^"
       ]
      }
     ],
     "prompt_number": 41
    },
    {
     "cell_type": "code",
     "collapsed": false,
     "input": [
      "val modelSR = PottsModel(numSites, smallDomain)\n",
      "val sampler = new GibbsSampler(modelSR, objectiveModel)"
     ],
     "language": "python",
     "metadata": {},
     "outputs": [
      {
       "output_type": "stream",
       "stream": "stdout",
       "text": []
      },
      {
       "output_type": "stream",
       "stream": "stderr",
       "text": []
      },
      {
       "ename": "",
       "evalue": "",
       "output_type": "pyerr",
       "traceback": [
        "<console>:50: error: not found: value numSites",
        "       val modelSR = PottsModel(numSites, smallDomain)",
        "                                ^",
        "<console>:51: error: not found: value objectiveModel",
        "       val sampler = new GibbsSampler(modelSR, objectiveModel)",
        "                                               ^"
       ]
      }
     ],
     "prompt_number": 42
    },
    {
     "cell_type": "code",
     "collapsed": false,
     "input": [
      "import cc.factorie.optimize.SampleRankTrainer"
     ],
     "language": "python",
     "metadata": {},
     "outputs": [
      {
       "output_type": "stream",
       "stream": "stderr",
       "text": []
      },
      {
       "output_type": "stream",
       "stream": "stdout",
       "text": []
      }
     ],
     "prompt_number": 43
    },
    {
     "cell_type": "code",
     "collapsed": false,
     "input": [
      "val SRTrainer = new SampleRankTrainer(modelSR.parameters, sampler)"
     ],
     "language": "python",
     "metadata": {},
     "outputs": [
      {
       "output_type": "stream",
       "stream": "stderr",
       "text": []
      },
      {
       "ename": "",
       "evalue": "",
       "output_type": "pyerr",
       "traceback": [
        "<console>:48: error: not found: value modelSR",
        "       val SRTrainer = new SampleRankTrainer(modelSR.parameters, sampler)",
        "                                             ^",
        "<console>:48: error: not found: value sampler",
        "       val SRTrainer = new SampleRankTrainer(modelSR.parameters, sampler)",
        "                                                                 ^"
       ]
      },
      {
       "output_type": "stream",
       "stream": "stdout",
       "text": []
      }
     ],
     "prompt_number": 44
    },
    {
     "cell_type": "code",
     "collapsed": false,
     "input": [
      "vectors(0)"
     ],
     "language": "python",
     "metadata": {},
     "outputs": [
      {
       "output_type": "stream",
       "stream": "stdout",
       "text": []
      },
      {
       "ename": "",
       "evalue": "",
       "output_type": "pyerr",
       "traceback": [
        "<console>:49: error: not found: value vectors",
        "              vectors(0)",
        "              ^"
       ]
      },
      {
       "output_type": "stream",
       "stream": "stderr",
       "text": []
      }
     ],
     "prompt_number": 45
    },
    {
     "cell_type": "code",
     "collapsed": false,
     "input": [
      "Timer.start\n",
      "for(v <- vectors) SRTrainer.processContexts(v, iterations=10)\n",
      "ModelValidator(trueM, modelSR, mis).printStats\n",
      "print(\"--\")\n",
      "Timer.stop"
     ],
     "language": "python",
     "metadata": {},
     "outputs": [
      {
       "output_type": "stream",
       "stream": "stdout",
       "text": []
      },
      {
       "output_type": "stream",
       "stream": "stderr",
       "text": []
      },
      {
       "ename": "",
       "evalue": "",
       "output_type": "pyerr",
       "traceback": [
        "<console>:54: error: not found: value vectors",
        "              for(v <- vectors) SRTrainer.processContexts(v, iterations=10)",
        "                       ^",
        "<console>:55: error: not found: value trueM",
        "              ModelValidator(trueM, modelSR, mis).printStats",
        "                             ^"
       ]
      }
     ],
     "prompt_number": 46
    },
    {
     "cell_type": "code",
     "collapsed": false,
     "input": [
      "import cc.factorie.infer.{SamplingMaximizer, VariableSettingsSampler}"
     ],
     "language": "python",
     "metadata": {},
     "outputs": [
      {
       "output_type": "stream",
       "stream": "stdout",
       "text": []
      },
      {
       "output_type": "stream",
       "stream": "stderr",
       "text": []
      }
     ],
     "prompt_number": 47
    },
    {
     "cell_type": "code",
     "collapsed": false,
     "input": [
      "val maximizer = new SamplingMaximizer[Spin](new VariableSettingsSampler(objectiveModel))"
     ],
     "language": "python",
     "metadata": {},
     "outputs": [
      {
       "ename": "",
       "evalue": "",
       "output_type": "pyerr",
       "traceback": [
        "<console>:50: error: not found: value objectiveModel",
        "Error occurred in an application involving default arguments.",
        "       val maximizer = new SamplingMaximizer[Spin](new VariableSettingsSampler(objectiveModel))",
        "                                                                               ^"
       ]
      },
      {
       "output_type": "stream",
       "stream": "stdout",
       "text": []
      },
      {
       "output_type": "stream",
       "stream": "stderr",
       "text": []
      }
     ],
     "prompt_number": 48
    },
    {
     "cell_type": "code",
     "collapsed": false,
     "input": [
      "vectors(0)"
     ],
     "language": "python",
     "metadata": {},
     "outputs": [
      {
       "output_type": "stream",
       "stream": "stdout",
       "text": []
      },
      {
       "output_type": "stream",
       "stream": "stderr",
       "text": []
      },
      {
       "ename": "",
       "evalue": "",
       "output_type": "pyerr",
       "traceback": [
        "<console>:50: error: not found: value vectors",
        "              vectors(0)",
        "              ^"
       ]
      }
     ],
     "prompt_number": 49
    },
    {
     "cell_type": "code",
     "collapsed": false,
     "input": [
      "maximizer.maximize(vectors(0), iterations=100, rounds=10)"
     ],
     "language": "python",
     "metadata": {},
     "outputs": [
      {
       "output_type": "stream",
       "stream": "stdout",
       "text": []
      },
      {
       "output_type": "stream",
       "stream": "stderr",
       "text": []
      },
      {
       "ename": "",
       "evalue": "",
       "output_type": "pyerr",
       "traceback": [
        "<console>:50: error: not found: value maximizer",
        "              maximizer.maximize(vectors(0), iterations=100, rounds=10)",
        "              ^"
       ]
      }
     ],
     "prompt_number": 50
    },
    {
     "cell_type": "code",
     "collapsed": false,
     "input": [
      "vectors(0)"
     ],
     "language": "python",
     "metadata": {},
     "outputs": [
      {
       "output_type": "stream",
       "stream": "stderr",
       "text": []
      },
      {
       "ename": "",
       "evalue": "",
       "output_type": "pyerr",
       "traceback": [
        "<console>:50: error: not found: value vectors",
        "              vectors(0)",
        "              ^"
       ]
      },
      {
       "output_type": "stream",
       "stream": "stdout",
       "text": []
      }
     ],
     "prompt_number": 51
    },
    {
     "cell_type": "code",
     "collapsed": false,
     "input": [],
     "language": "python",
     "metadata": {},
     "outputs": [],
     "prompt_number": 51
    }
   ],
   "metadata": {}
  }
 ]
}