{
 "metadata": {
  "name": ""
 },
 "nbformat": 3,
 "nbformat_minor": 0,
 "worksheets": [
  {
   "cells": [
    {
     "cell_type": "code",
     "collapsed": false,
     "input": [
      "import cc.factorie._\n",
      "import cc.factorie.directed._\n",
      "import la.{DenseTensor2, Tensor2, DenseTensor1, Tensor1, Tensor}\n",
      "import cc.factorie.directed.{MaximizeMultivariateGaussianCovariance, MaximizeMultivariateGaussianMean, MultivariateGaussian, Gaussian}\n",
      "//import collection.mutable.{Map}\n",
      "import collection.mutable.{ArrayBuffer}\n",
      "import cc.factorie.variable.{CategoricalDomain, CategoricalVariable, DoubleVariable, MutableDiscreteVar}\n",
      "import cc.factorie.model.{Parameters, Model, Factor, DotFamilyWithStatistics1, DotFamilyWithStatistics2, Weights2, WeightsMap,WeightsSet}\n",
      "import cc.factorie.la.{DenseTensor1, DenseTensor2}"
     ],
     "language": "python",
     "metadata": {},
     "outputs": [
      {
       "output_type": "stream",
       "stream": "stdout",
       "text": []
      },
      {
       "output_type": "stream",
       "stream": "stderr",
       "text": []
      }
     ],
     "prompt_number": 38
    },
    {
     "cell_type": "code",
     "collapsed": false,
     "input": [
      "object spinDomain extends CategoricalDomain[Char](List('a', 'r', 'n', 'd', 'c', 'q', 'e', 'g', 'h', 'i', 'l', 'k', 'm', 'f', 'p', 's', 't', 'w', 'y', 'v', '-'))  "
     ],
     "language": "python",
     "metadata": {},
     "outputs": [
      {
       "output_type": "stream",
       "stream": "stderr",
       "text": []
      },
      {
       "output_type": "stream",
       "stream": "stdout",
       "text": []
      },
      {
       "metadata": {},
       "output_type": "pyout",
       "prompt_number": 3,
       "text": [
        "CategoricalDomain[](21)"
       ]
      }
     ],
     "prompt_number": 3
    },
    {
     "cell_type": "code",
     "collapsed": false,
     "input": [
      "spinDomain.index('r')"
     ],
     "language": "python",
     "metadata": {},
     "outputs": [
      {
       "output_type": "stream",
       "stream": "stdout",
       "text": []
      },
      {
       "output_type": "stream",
       "stream": "stderr",
       "text": []
      },
      {
       "metadata": {},
       "output_type": "pyout",
       "prompt_number": 12,
       "text": [
        "1"
       ]
      }
     ],
     "prompt_number": 12
    },
    {
     "cell_type": "code",
     "collapsed": false,
     "input": [
      "class GREMLINWeightGenerator(\n",
      "    val domain: CategoricalDomain[Char], \n",
      "    val numSites: Int, \n",
      "    val edgeProbability: Double,\n",
      "    val localMean: Double = 0,\n",
      "    val localVariance: Double = 1.0,\n",
      "    val pairwiseMean: Double = 0,\n",
      "    val pairwiseVariance: Double = 3.0)(implicit val random: scala.util.Random)  {\n",
      "    \n",
      "    \n",
      "    //allEdges contains all permutations of our\n",
      "    val allEdges = (for(i <- 0 until numSites; j <- 0 until numSites if i < j) yield (i, j)).toSet\n",
      "    val activeEdges = drawFromSet(edgeProbability, allEdges)\n",
      "    \n",
      "    def drawFromSet[A](p: Double, s: Set[A]): Set[A] = {\n",
      "        val drawn = for(i <- s if random.nextDouble < p) yield i\n",
      "        drawn\n",
      "    }  \n",
      "    \n",
      "    def generateLocalMasses: IndexedSeq[DenseTensor1] = {\n",
      "        implicit val model = DirectedModel()\n",
      "        \n",
      "        val mean = new DoubleVariable(localMean)\n",
      "        val variance = new DoubleVariable(localVariance)\n",
      "        \n",
      "        val localMasses = for(i <- 0 until numSites) yield new DenseTensor1(domain.size)\n",
      "        for(massTensor <- localMasses){\n",
      "            for(i <- 0 until massTensor.dim1){\n",
      "                val mass = new DoubleVariable :~ Gaussian(mean, variance)\n",
      "                massTensor(i) = mass.value\n",
      "            }\n",
      "        }\n",
      "        localMasses\n",
      "    }\n",
      "    \n",
      "    def generatePairwiseMasses: Map[(Int, Int), DenseTensor2] = {\n",
      "        val pairMasses: Map[(Int, Int), DenseTensor2] =(for(e <- activeEdges) yield (e -> generatePairwiseTensor)).toMap\n",
      "        pairMasses\n",
      "    }\n",
      "    \n",
      "    def generatePairwiseTensor: DenseTensor2 = {\n",
      "        implicit val model = DirectedModel()\n",
      "        \n",
      "        val mean = new DoubleVariable(pairwiseMean)\n",
      "        val variance = new DoubleVariable(pairwiseVariance)\n",
      "        \n",
      "        val tensor = new DenseTensor2(domain.size, domain.size)\n",
      "        //for(a1 <- 0 until domain.size; a2 <- 0 until domain.size if a1 <= a2) {\n",
      "        for(a1 <- 0 until domain.size; a2 <- 0 until domain.size) {\n",
      "            val mass = new DoubleVariable :~ Gaussian(mean, variance)\n",
      "            tensor(a1, a2) = mass.value\n",
      "            //tensor(a2, a1) = mass.value\n",
      "        }\n",
      "        tensor\n",
      "    }\n",
      "}\n",
      "\n",
      "object GREMLINWeightGenerator {\n",
      "    def apply(domain: CategoricalDomain[Char], n: Int, p: Double) = new GREMLINWeightGenerator(domain, n, p)\n",
      "    def apply(domain: CategoricalDomain[Char], p: Double) = new GREMLINWeightGenerator(domain, 10, p)\n",
      "}"
     ],
     "language": "python",
     "metadata": {},
     "outputs": [
      {
       "output_type": "stream",
       "stream": "stdout",
       "text": []
      },
      {
       "ename": "",
       "evalue": "",
       "output_type": "pyerr",
       "traceback": [
        "<console>:78: error: could not find implicit value for parameter random: scala.util.Random",
        "Error occurred in an application involving default arguments.",
        "           def apply(domain: CategoricalDomain[Char], n: Int, p: Double) = new GREMLINWeightGenerator(domain, n, p)",
        "                                                                           ^",
        "<console>:79: error: could not find implicit value for parameter random: scala.util.Random",
        "Error occurred in an application involving default arguments.",
        "           def apply(domain: CategoricalDomain[Char], p: Double) = new GREMLINWeightGenerator(domain, 10, p)",
        "                                                                   ^"
       ]
      },
      {
       "output_type": "stream",
       "stream": "stderr",
       "text": []
      }
     ],
     "prompt_number": 4
    },
    {
     "cell_type": "code",
     "collapsed": false,
     "input": [
      "val t = g.generatePairwiseTensor"
     ],
     "language": "python",
     "metadata": {},
     "outputs": [
      {
       "output_type": "stream",
       "stream": "stderr",
       "text": []
      },
      {
       "ename": "",
       "evalue": "",
       "output_type": "pyerr",
       "traceback": [
        "<console>:20: error: not found: value g",
        "       val t = g.generatePairwiseTensor",
        "               ^"
       ]
      },
      {
       "output_type": "stream",
       "stream": "stdout",
       "text": []
      }
     ],
     "prompt_number": 5
    },
    {
     "cell_type": "code",
     "collapsed": false,
     "input": [
      "val i = 1\n",
      "val j = 2\n",
      "println(t(i, j))\n",
      "println(t(j, i))"
     ],
     "language": "python",
     "metadata": {},
     "outputs": [
      {
       "output_type": "stream",
       "stream": "stdout",
       "text": []
      },
      {
       "ename": "",
       "evalue": "",
       "output_type": "pyerr",
       "traceback": [
        "<console>:25: error: not found: value t",
        "              println(t(j, i))",
        "                      ^",
        "<console>:22: error: not found: value t",
        "              println(t(i, j))",
        "                      ^"
       ]
      },
      {
       "output_type": "stream",
       "stream": "stderr",
       "text": []
      }
     ],
     "prompt_number": 6
    },
    {
     "cell_type": "code",
     "collapsed": false,
     "input": [
      "class Spin(v: Char, val i: Int, d: CategoricalDomain[Char]) extends CategoricalVariable[Char](v){\n",
      "    def domain = d\n",
      "    var cont: IndexedSeq[Spin] = null\n",
      "    def setContainer(c: IndexedSeq[Spin]): Unit = {this.cont = c}\n",
      "    override def toString = this.i.toString + \": \" + this.value.toString  \n",
      "}\n",
      "object Spin {\n",
      "    def apply(c: Char, i: Int, d: CategoricalDomain[Char]): Spin = new Spin(c, i, d)\n",
      "    def vector(s: String, d: CategoricalDomain[Char]): IndexedSeq[Spin] = {\n",
      "        val vector = for((c, i) <- s.zipWithIndex) yield Spin(c, i, d)\n",
      "        vector.foreach(_.setContainer(vector))\n",
      "        vector\n",
      "    }\n",
      "    def vector(c: Char, numSites: Int, d: CategoricalDomain[Char]): IndexedSeq[Spin] = {\n",
      "        val vector = for(i <- 0 until numSites) yield Spin(c, i, d)\n",
      "        vector.foreach(_.setContainer(vector))\n",
      "        vector\n",
      "    }\n",
      "}"
     ],
     "language": "python",
     "metadata": {},
     "outputs": [
      {
       "output_type": "stream",
       "stream": "stderr",
       "text": []
      },
      {
       "output_type": "stream",
       "stream": "stdout",
       "text": []
      },
      {
       "metadata": {},
       "output_type": "pyout",
       "prompt_number": 7,
       "text": [
        "Spin$@6eecd6e6"
       ]
      }
     ],
     "prompt_number": 7
    },
    {
     "cell_type": "code",
     "collapsed": false,
     "input": [
      "class PottsModel(\n",
      "    val domain: CategoricalDomain[Char], \n",
      "    val localMasses: IndexedSeq[DenseTensor1],\n",
      "    val pairwiseMasses: Map[(Int, Int), DenseTensor2])\n",
      "    extends Model with Parameters {\n",
      "    \n",
      "    val localFamilies: IndexedSeq[DotFamilyWithStatistics1[Spin]] = \n",
      "        for(m <- localMasses) yield new DotFamilyWithStatistics1[Spin] { val weights = Weights(m) }\n",
      "                                       \n",
      "    val pairwiseFamilies: Map[(Int, Int), DotFamilyWithStatistics2[Spin, Spin]] =\n",
      "        for((k, m) <- pairwiseMasses) yield (k -> new DotFamilyWithStatistics2[Spin, Spin] { val weights = Weights(m) })\n",
      "    \n",
      "            \n",
      "    def factors(variables: Iterable[Var]): Iterable[Factor] = {\n",
      "        val results = new ArrayBuffer[Factor]\n",
      "        \n",
      "        val spins = variables collect {case s: Spin => s}\n",
      "        for(s <- spins){\n",
      "                val localFamily = localFamilies(s.i)\n",
      "                results += localFamily.Factor(s)\n",
      "            \n",
      "                val pKeys = pairwiseFamilies.keys.filter((k: (Int, Int)) => k._1 == s.i || k._2 == s.i)\n",
      "                for(k <- pKeys) {\n",
      "                    val pairwiseFamily = pairwiseFamilies(k)\n",
      "                    results += pairwiseFamily.Factor(s.cont(k._1), s.cont(k._2))\n",
      "                }\n",
      "        }\n",
      "        results\n",
      "    }\n",
      "}\n",
      "    \n",
      "object PottsModel {\n",
      "    def apply(numSites: Int, domain: CategoricalDomain[Char]): PottsModel = {\n",
      "        val localMasses = for(i <- 0 until numSites) yield new DenseTensor1(domain.size)\n",
      "        val pairwiseMasses = (for(i <- 0 until numSites; j <- 0 until numSites if i < j) yield ((i, j), new DenseTensor2(domain.size, domain.size))).toMap\n",
      "        \n",
      "        new PottsModel(domain, localMasses, pairwiseMasses)\n",
      "    }\n",
      "    def apply(localMasses: IndexedSeq[DenseTensor1], pairwiseMasses: Map[(Int, Int), DenseTensor2], domain: CategoricalDomain[Char]): PottsModel = {\n",
      "        new PottsModel(domain, localMasses, pairwiseMasses)\n",
      "    }\n",
      "    \n",
      "    def frequenciesAsWeights(samples: Seq[IndexedSeq[Spin]], domain: CategoricalDomain[Char]): PottsModel = {\n",
      "        assert(samples.forall(_.length == samples(0).length), \"Samples must all be of same length.\")\n",
      "        val numSites = samples(0).length\n",
      "        val model = PottsModel(numSites, domain)\n",
      "        for(s <- samples) {\n",
      "            for ((key, family) <- model.pairwiseFamilies) {\n",
      "                 val factor = family.Factor(s(key._1), s(key._2))\n",
      "                 val weightTensor = model.parameters(family.weights)\n",
      "                    weightTensor += factor.currentStatistics\n",
      "            }\n",
      "            \n",
      "            for ((family, i) <- model.localFamilies.zipWithIndex) {\n",
      "                val factor = family.Factor(s(i))\n",
      "                val weightTensor = model.parameters(family.weights)\n",
      "                weightTensor += factor.currentStatistics\n",
      "            }\n",
      "        }\n",
      "    model    \n",
      "    }\n",
      "        \n",
      "\n",
      "}"
     ],
     "language": "python",
     "metadata": {},
     "outputs": [
      {
       "output_type": "stream",
       "stream": "stderr",
       "text": []
      },
      {
       "output_type": "stream",
       "stream": "stdout",
       "text": []
      },
      {
       "metadata": {},
       "output_type": "pyout",
       "prompt_number": 146,
       "text": [
        "PottsModel$@15f64ee4"
       ]
      }
     ],
     "prompt_number": 146
    },
    {
     "cell_type": "markdown",
     "metadata": {},
     "source": []
    },
    {
     "cell_type": "code",
     "collapsed": false,
     "input": [],
     "language": "python",
     "metadata": {},
     "outputs": []
    },
    {
     "cell_type": "code",
     "collapsed": false,
     "input": [
      "import cc.factorie.infer.{VariableSettingsSampler, InferByGibbsSampling, GibbsSampler}"
     ],
     "language": "python",
     "metadata": {},
     "outputs": [
      {
       "output_type": "stream",
       "stream": "stdout",
       "text": []
      },
      {
       "output_type": "stream",
       "stream": "stderr",
       "text": []
      }
     ],
     "prompt_number": 7
    },
    {
     "cell_type": "code",
     "collapsed": false,
     "input": [
      "def generateSampleStrings(N:Int, model: PottsModel, variables: IndexedSeq[Spin], burnin: Int = 500): Seq[String] = {\n",
      "    implicit val random = new scala.util.Random(0)                                                                                                   \n",
      "    val sampler = new GibbsSampler(model)\n",
      "    val strings = new ArrayBuffer[String]\n",
      "    for(i <- 0 until N+burnin) {\n",
      "        sampler.processAll(variables)\n",
      "        if(i > burnin) strings += variables.map(_.value).mkString\n",
      "    }\n",
      "    strings\n",
      "}"
     ],
     "language": "python",
     "metadata": {},
     "outputs": [
      {
       "output_type": "stream",
       "stream": "stdout",
       "text": []
      },
      {
       "output_type": "stream",
       "stream": "stderr",
       "text": []
      }
     ],
     "prompt_number": 14
    },
    {
     "cell_type": "code",
     "collapsed": false,
     "input": [
      "object Timer {\n",
      "    var t: Long = 0\n",
      "    def start: Unit = { t = System.currentTimeMillis }\n",
      "    def stop: Long = { System.currentTimeMillis - t}\n",
      "}"
     ],
     "language": "python",
     "metadata": {},
     "outputs": [
      {
       "output_type": "stream",
       "stream": "stderr",
       "text": []
      },
      {
       "output_type": "stream",
       "stream": "stdout",
       "text": []
      },
      {
       "metadata": {},
       "output_type": "pyout",
       "prompt_number": 9,
       "text": [
        "Timer$@5fa7bb73"
       ]
      }
     ],
     "prompt_number": 9
    },
    {
     "cell_type": "code",
     "collapsed": false,
     "input": [
      "class ModelValidator(val trueModel: PottsModel, val proposedModel: PottsModel, val stats: Map[(Int, Int), Double]) {\n",
      "    val allNorms =\n",
      "        (for {(key, family) <- proposedModel.pairwiseFamilies //the proposedModel is completely connected\n",
      "                \n",
      "                val trueNorm = if(trueModel.pairwiseFamilies.keys.toSet.contains(key)) \n",
      "                               fNorm(trueModel.parameters(trueModel.pairwiseFamilies(key).weights)) \n",
      "                           else\n",
      "                               0.0\n",
      "                //propNorm = fNorm(proposedModel.parameters(family.weights))\n",
      "                val propNorm = fNorm(proposedModel.parameters(proposedModel.pairwiseFamilies(key).weights))\n",
      "            }\n",
      "            yield (key, (trueNorm, propNorm))).toMap\n",
      "    \n",
      "    \n",
      "    val allSquaredErrors = (for((trueValue, proposedValue) <- allNorms.values) yield squaredError(trueValue, proposedValue))\n",
      "    \n",
      "    val meanSquaredError = allSquaredErrors.sum / allSquaredErrors.toList.length\n",
      "    \n",
      "    def squaredError(values: Tuple2[Double, Double]): Double = math.pow((values._1 - values._2), 2)                                                                                       \n",
      "    \n",
      "    def printStats(): Unit = {\n",
      "            val sorted = allNorms.toList.sortBy(_._2._2).reverse //sort by trueNorm\n",
      "            val maxKeyLength = allNorms.toList.map(_._1).map(k => k._1.toString.length + k._1.toString.length).max\n",
      "            val maxTrueNormLength = allNorms.toList.map(_._2._1).map(_.toString.length).max\n",
      "            val maxPropNormLength = allNorms.toList.map(_._2._2).map(_.toString.length).max\n",
      "            for ((k, v) <- sorted) {\n",
      "                val keyLength: Int = k._1.toString.length + k._2.toString.length\n",
      "                print(k)\n",
      "                for(i <- 0 until maxKeyLength - keyLength) print(\" \")\n",
      "                print(\"    \")\n",
      "                print(v._1)\n",
      "                for(i <- 0 until maxTrueNormLength - v._1.toString.length) print(\" \")\n",
      "                print(\"    \")\n",
      "                print(v._2)\n",
      "                for(i <- 0 until maxPropNormLength - v._2.toString.length) print(\" \")\n",
      "                print(\"    \")\n",
      "                if(stats != null) print(stats(k))\n",
      "                println()\n",
      "            }\n",
      "        }\n",
      "        \n",
      "        \n",
      "    \n",
      "    //The frobenius norm\n",
      "    def fNorm(w: Tensor): Double = {\n",
      "        val t = w.asInstanceOf[DenseTensor2]\n",
      "        def averageOverRow(t: DenseTensor2, k: Int): Double = {\n",
      "            // J_ij(k, .) k being a row\n",
      "            val row = for(l <- 0 until t.dim2) yield t(k, l)\n",
      "            row.sum/row.length\n",
      "        }    \n",
      "        def averageOverCol(t: DenseTensor2, l: Int): Double = {\n",
      "            // J_ij(., l) l being a column\n",
      "            val col = for(k <- 0 until t.dim1) yield t(k, l)\n",
      "            col.sum/col.length\n",
      "        }\n",
      "        val totalAverage: Double = t.sum/t.length\n",
      "        val transformed: DenseTensor2 = t.copy\n",
      "        for(k <- 0 until t.dim1; l <- 0 until t.dim2) {\n",
      "            transformed(k, l) = t(k, l) - averageOverRow(t, k) - averageOverCol(t, l) + totalAverage\n",
      "        }\n",
      "        math.sqrt(transformed.twoNorm)\n",
      "    }\n",
      "}\n",
      "object ModelValidator {\n",
      "    def apply(proposedModel: PottsModel, trueModel: PottsModel) = new ModelValidator(proposedModel, trueModel, null)\n",
      "    def apply(proposedModel: PottsModel, trueModel: PottsModel, stats: Map[(Int, Int), Double]) = new ModelValidator(proposedModel, trueModel, stats)\n",
      "}"
     ],
     "language": "python",
     "metadata": {},
     "outputs": [
      {
       "output_type": "stream",
       "stream": "stdout",
       "text": []
      },
      {
       "output_type": "stream",
       "stream": "stderr",
       "text": []
      },
      {
       "metadata": {},
       "output_type": "pyout",
       "prompt_number": 10,
       "text": [
        "ModelValidator$@5adfd4cd"
       ]
      }
     ],
     "prompt_number": 10
    },
    {
     "cell_type": "code",
     "collapsed": false,
     "input": [
      "import cc.factorie.optimize._\n",
      "import cc.factorie.infer.{InferByBPLoopy, InferByGibbsSampling}"
     ],
     "language": "python",
     "metadata": {},
     "outputs": [
      {
       "output_type": "stream",
       "stream": "stdout",
       "text": []
      },
      {
       "output_type": "stream",
       "stream": "stderr",
       "text": []
      }
     ],
     "prompt_number": 11
    },
    {
     "cell_type": "code",
     "collapsed": false,
     "input": [
      "implicit val random = scala.util.Random"
     ],
     "language": "python",
     "metadata": {},
     "outputs": [
      {
       "output_type": "stream",
       "stream": "stdout",
       "text": []
      },
      {
       "output_type": "stream",
       "stream": "stderr",
       "text": []
      },
      {
       "metadata": {},
       "output_type": "pyout",
       "prompt_number": 12,
       "text": [
        "scala.util.Random$@15299647"
       ]
      }
     ],
     "prompt_number": 12
    },
    {
     "cell_type": "code",
     "collapsed": false,
     "input": [],
     "language": "python",
     "metadata": {},
     "outputs": [
      {
       "output_type": "stream",
       "stream": "stderr",
       "text": []
      },
      {
       "output_type": "stream",
       "stream": "stdout",
       "text": []
      }
     ],
     "prompt_number": 15
    },
    {
     "cell_type": "code",
     "collapsed": false,
     "input": [
      "//we add a pseudocount of 1\n",
      "class Counter(var value: Double=1) {\n",
      "    def add(t: Double): Unit = {value += t}\n",
      "    def divide(t: Double): Unit = {value *= 1/t}\n",
      "    override def toString: String = {value.toString}\n",
      "}"
     ],
     "language": "python",
     "metadata": {},
     "outputs": [
      {
       "output_type": "stream",
       "stream": "stdout",
       "text": []
      },
      {
       "output_type": "stream",
       "stream": "stderr",
       "text": []
      }
     ],
     "prompt_number": 48
    },
    {
     "cell_type": "code",
     "collapsed": false,
     "input": [
      "import cc.factorie.la."
     ],
     "language": "python",
     "metadata": {},
     "outputs": []
    },
    {
     "cell_type": "code",
     "collapsed": false,
     "input": [
      "class MutualInformation(val samples: Seq[String], domain: CategoricalDomain[Char]) {\n",
      "    val total = samples.length\n",
      "    val numSites = samples(0).length\n",
      "    val categories = domain.categories\n",
      "    \n",
      "    val localFreqs = countLocalFrequencies\n",
      "    val pairwiseFreqs = countPairwiseFrequencies\n",
      "    \n",
      "    val localFreqsTensor = new DenseTensor(domain.size)\n",
      "    \n",
      "    def makeLocalCountsMap: Map[Char, Counter] = (for(c <- categories) yield (c, new Counter)).toMap\n",
      "    def countLocalFrequencies: IndexedSeq[Map[Char, Counter]] = {\n",
      "        val sitewiseCountMaps: IndexedSeq[Map[Char, Counter]] = for(i <- 0 until numSites) yield makeLocalCountsMap\n",
      "        \n",
      "        for(sample <- samples; (category, i) <- sample.zipWithIndex) sitewiseCountMaps(i)(category).add(1)\n",
      "        \n",
      "        for(countMap <- sitewiseCountMaps; c <- categories) countMap(c).divide(total)\n",
      "        sitewiseCountMaps\n",
      "    }\n",
      "    \n",
      "    def makePairwiseCountsMap: Map[(Char, Char), Counter] = (for(c1 <- categories; c2 <- categories) yield ((c1, c2), new Counter)).toMap\n",
      "    def countPairwiseFrequencies: Map[(Int, Int), Map[(Char, Char), Counter]] = {\n",
      "   \n",
      "        val pairwiseCountMaps: Map[(Int, Int), Map[(Char, Char), Counter]] = (for(i <- 0 until numSites; j <- 0 until numSites) yield ((i, j), makePairwiseCountsMap)).toMap\n",
      "    \n",
      "        for(sample <- samples; (c_i, i) <- sample.zipWithIndex; (c_j, j) <- sample.zipWithIndex) pairwiseCountMaps(i, j)(c_i, c_j).add(1)\n",
      "        for(countMap <- pairwiseCountMaps.values; c_i <- categories; c_j <- categories) countMap(c_i, c_j).divide(total)\n",
      "        pairwiseCountMaps\n",
      "    }\n",
      "    \n",
      "    def MI(i: Int, j: Int): Double = { \n",
      "        val f_i = localFreqs(i)\n",
      "        val f_j = localFreqs(j)\n",
      "        val f_ij = pairwiseFreqs(i, j)\n",
      "        \n",
      "        (for(k <- categories; l <- categories) yield (f_ij(k, l).value*math.log(f_ij(k,l).value/(f_i(k).value*f_j(l).value)))).sum\n",
      "        \n",
      "    }\n",
      "    val allMIs: Map[(Int, Int), Double] = (for(i <- 0 until numSites; j <- 0 until numSites if i < j) yield ((i, j), MI(i, j))).toMap\n",
      "}\n",
      "object MutualInformation {\n",
      "        def apply(samples: Seq[String], domain: CategoricalDomain[Char]) = new MutualInformation(samples, domain)\n",
      "}"
     ],
     "language": "python",
     "metadata": {},
     "outputs": [
      {
       "output_type": "stream",
       "stream": "stdout",
       "text": []
      },
      {
       "output_type": "stream",
       "stream": "stderr",
       "text": []
      },
      {
       "ename": "",
       "evalue": "",
       "output_type": "pyerr",
       "traceback": [
        "<console>:7: error: not found: type CategoricalDomain",
        "       class MutualInformation(val samples: Seq[String], domain: CategoricalDomain[Char]) {",
        "                                                                 ^",
        "<console>:16: error: not found: type Counter",
        "           def countLocalFrequencies: IndexedSeq[Map[Char, Counter]] = {",
        "                                                           ^",
        "<console>:26: error: not found: type Counter",
        "           def countPairwiseFrequencies: Map[(Int, Int), Map[(Char, Char), Counter]] = {",
        "                                                                           ^",
        "<console>:15: error: not found: type Counter",
        "           def makeLocalCountsMap: Map[Char, Counter] = (for(c <- categories) yield (c, new Counter)).toMap",
        "                                             ^",
        "<console>:17: error: not found: type Counter",
        "               val sitewiseCountMaps: IndexedSeq[Map[Char, Counter]] = for(i <- 0 until numSites) yield makeLocalCountsMap",
        "                                                           ^",
        "<console>:25: error: not found: type Counter",
        "           def makePairwiseCountsMap: Map[(Char, Char), Counter] = (for(c1 <- categories; c2 <- categories) yield ((c1, c2), new Counter)).toMap",
        "                                                        ^",
        "<console>:28: error: not found: type Counter",
        "               val pairwiseCountMaps: Map[(Int, Int), Map[(Char, Char), Counter]] = (for(i <- 0 until numSites; j <- 0 until numSites) yield ((i, j), makePairwiseCountsMap)).toMap",
        "                                                                        ^",
        "<console>:46: error: not found: type CategoricalDomain",
        "               def apply(samples: Seq[String], domain: CategoricalDomain[Char]) = new MutualInformation(samples, domain)",
        "                                                       ^"
       ]
      }
     ],
     "prompt_number": 1
    },
    {
     "cell_type": "code",
     "collapsed": false,
     "input": [
      "val mis = MutualInformation(strings, smallDomain).allMIs"
     ],
     "language": "python",
     "metadata": {},
     "outputs": [
      {
       "output_type": "stream",
       "stream": "stdout",
       "text": []
      },
      {
       "output_type": "stream",
       "stream": "stderr",
       "text": []
      },
      {
       "metadata": {},
       "output_type": "pyout",
       "prompt_number": 134,
       "text": [
        "Map((1,8) -> 1.0979115166716908, (2,5) -> 1.2141034417697452, (7,12) -> 1.3515491774156434, (3,11) -> 1.4602569413952846, (1,5) -> 1.1562732315322897, (7,9) -> 1.289044614901045, (9,10) -> 1.2677871782902788, (10,15) -> 1.2344824623801698, (8,10) -> 1.1776104317177936, (2,17) -> 1.2459271014954107, (4,12) -> 1.2156771211673354, (14,19) -> 0.8892661743680688, (6,7) -> 1.325252116517933, (8,9) -> 1.21580292775519, (10,12) -> 1.2777772084643002, (0,17) -> 1.3307661744890038, (9,16) -> 1.313373330473448, (5,15) -> 1.1784386156445823, (18,19) -> 1.2850443316507365, (3,9) -> 1.321723868953281, (0,2) -> 1.173194399749482, (13,19) -> 1.024991758592486, (3,10) -> 1.2617702531942256, (6,10) -> 1.0623057637927593, (10,19) -> 1.0164747431441035, (2,19) -> 1.006778538626609, (0,19) -> 0.9430836188537517, (6,14) -> 0.9644302157747986, (5,13) -> 1.2092186591570624, (4,10) -> 1.7503893590091189, (4,17) -> 1.2304726061986468, (3,4) -> 1.2176755765219551, (14,16) -> 1.2456868617213304, (13,17) -> 1.290107826450419, (0,10) -> 1.205416439887236, (5,19) -> 1.0150183350829964, (11,19) -> 1.029162640549273, (8,19) -> 0.9965254136583277, (9,19) -> 1.1086027906349345, (4,7) -> 1.2330448965513485, (12,17) -> 1.4707180964499653, (2,10) -> 1.125177808642137, (0,18) -> 1.180451692250695, (7,19) -> 1.0601223754456646, (13,15) -> 1.3185557129068564, (0,9) -> 1.2335706203695112, (5,11) -> 1.3342300558696178, (8,18) -> 1.1672560591808545, (7,8) -> 1.2330528112306258, (9,18) -> 1.2762389013287392, (5,9) -> 1.2913877908804876, (7,16) -> 1.310006948492583, (1,18) -> 1.2617201514257503, (11,14) -> 1.1113610251967643, (3,13) -> 1.2774843252712358, (0,7) -> 1.4262071618218797, (2,13) -> 1.1256345479829653, (0,3) -> 1.2714167268826393, (6,9) -> 1.0970755655297573, (8,11) -> 1.2892802388214077, (12,18) -> 1.2954967786909672, (0,14) -> 1.0295842441723408, (16,18) -> 1.2690711949349058, (8,17) -> 1.329861314629513, (5,17) -> 1.4119683399566771, (5,10) -> 1.229129789374956, (14,18) -> 1.0782716815368456, (9,13) -> 1.2592697674451294, (1,6) -> 1.0723446177860618, (1,11) -> 1.1769152656199942, (0,5) -> 1.251498548361189, (3,6) -> 1.1984701943366833, (10,18) -> 1.301547517810901, (2,8) -> 1.1076931120638358, (1,19) -> 1.009453260326829, (8,13) -> 1.1869006333417251, (11,16) -> 1.402779207293432, (6,8) -> 1.0458528153823354, (1,12) -> 1.189261635705662, (6,15) -> 1.019752933711393, (6,11) -> 1.1795942558224222, (3,5) -> 1.3500740307897836, (0,15) -> 1.2503060991195867, (7,14) -> 1.2332659285341712, (1,10) -> 1.285335279264041, (3,18) -> 1.2731282174160148, (4,6) -> 1.042171074042969, (6,13) -> 1.064078750195793, (4,11) -> 1.2119280603608888, (1,9) -> 1.1499830976215883, (3,12) -> 1.4398945273977402, (7,13) -> 1.2261447129673704, (4,13) -> 1.7969484617841462, (2,15) -> 1.0697002523920476, (4,5) -> 1.1573660677381765, (6,16) -> 1.144830779707744, (1,4) -> 1.3215459118324042, (12,16) -> 1.4054095326328744, (2,6) -> 1.269128590362027, (10,13) -> 1.806874556404735, (0,8) -> 1.1671537121840772, (4,18) -> 1.2057200338083516, (9,15) -> 1.1630056843641217, (13,18) -> 1.3114092118620357, (8,15) -> 1.1314888846889697, (4,9) -> 1.2325518939319662, (0,4) -> 1.3260731947265854, (12,15) -> 1.2305328894025906, (2,9) -> 1.158752352157988, (10,16) -> 1.3367820587908636, (5,7) -> 1.3221415086041843, (12,13) -> 1.275723246254165, (5,12) -> 1.3741381807505066, (15,16) -> 1.2760870408807778, (11,17) -> 1.4303801909051725, (7,11) -> 1.3226301162909373, (8,16) -> 1.2999378721615105, (10,14) -> 1.0690150944599328, (5,16) -> 1.3261748057925677, (1,16) -> 1.3108160536271916, (7,10) -> 1.2479096280204451, (0,12) -> 1.3027504819124092, (0,16) -> 1.2677606608592584, (16,17) -> 1.4202685946993117, (6,19) -> 0.992979752049295, (7,17) -> 1.3811131230474192, (0,13) -> 1.1852987297183226, (1,3) -> 1.1835996138656275, (1,15) -> 1.1253158662663294, (4,8) -> 1.1263064087345076, (2,14) -> 1.029363502049391, (10,11) -> 1.2546567112778506, (2,7) -> 1.3729981838945322, (14,15) -> 1.0163768820465207, (9,14) -> 1.0432683839223416, (6,18) -> 1.1409726178269275, (2,4) -> 1.0960321978676184, (11,13) -> 1.2743675802079728, (3,7) -> 1.332490138175206, (1,14) -> 1.0801407827288205, (0,11) -> 1.2645999017955487, (3,15) -> 1.21861044284912, (15,17) -> 1.246206958772849, (11,18) -> 1.2611483160958872, (12,19) -> 1.0645053261276987, (6,17) -> 1.1860660771775482, (9,17) -> 1.3833601535444238, (15,19) -> 0.9150547681191653, (16,19) -> 1.0285679235595422, (0,1) -> 1.176294982418786, (7,15) -> 1.2241148196910576, (4,14) -> 1.107476408208918, (10,17) -> 1.3064201409330858, (1,17) -> 1.2100346340197075, (1,13) -> 1.4002532010025917, (4,15) -> 1.2844132613320542, (2,11) -> 1.2149920811492076, (5,8) -> 1.2345226987901798, (2,16) -> 1.19040020603342, (6,12) -> 1.179804691576299, (1,7) -> 1.4048087767816908, (3,19) -> 1.0399106382603556, (2,3) -> 1.2299792007929164, (5,18) -> 1.2906342582956525, (11,15) -> 1.211658673719017, (1,2) -> 1.3048621544872634, (15,18) -> 1.1193992762380653, (3,16) -> 1.4082495753599775, (3,14) -> 1.1193317416394812, (3,17) -> 1.4406376010778563, (8,12) -> 1.3322174300764453, (14,17) -> 1.132812684356892, (13,14) -> 1.1452581881778954, (17,18) -> 1.3294778304190842, (11,12) -> 1.4319461825369255, (5,14) -> 1.0801395707143084, (9,12) -> 1.349366629284729, (17,19) -> 1.0679882012171558, (3,8) -> 1.2957467917302585, (13,16) -> 1.5112639533777055, (4,19) -> 0.9673452143506093, (5,6) -> 1.1398676675649295, (4,16) -> 1.443707537435414, (12,14) -> 1.1248291086395215, (0,6) -> 1.0979086540394065, (7,18) -> 1.2795493069681425, (2,12) -> 1.23208415193921, (2,18) -> 1.212364259601073, (8,14) -> 1.0811302413143378, (9,11) -> 1.312034084545682)"
       ]
      }
     ],
     "prompt_number": 134
    },
    {
     "cell_type": "code",
     "collapsed": false,
     "input": [],
     "language": "python",
     "metadata": {},
     "outputs": [
      {
       "output_type": "stream",
       "stream": "stdout",
       "text": []
      },
      {
       "output_type": "stream",
       "stream": "stderr",
       "text": []
      },
      {
       "metadata": {},
       "output_type": "pyout",
       "prompt_number": 17,
       "text": [
        "PottsModel@49a4a57c"
       ]
      }
     ],
     "prompt_number": 17
    },
    {
     "cell_type": "code",
     "collapsed": false,
     "input": [
      "m3.factors(vectors(0)(1)).toList(9).currentScore"
     ],
     "language": "python",
     "metadata": {},
     "outputs": [
      {
       "output_type": "stream",
       "stream": "stdout",
       "text": []
      },
      {
       "output_type": "stream",
       "stream": "stderr",
       "text": []
      },
      {
       "metadata": {},
       "output_type": "pyout",
       "prompt_number": 43,
       "text": [
        "-0.1663119722756723"
       ]
      }
     ],
     "prompt_number": 43
    },
    {
     "cell_type": "code",
     "collapsed": false,
     "input": [
      "//val smallDomain = new CategoricalDomain[Char](List('a', 'b', 'c'))\n",
      "val smallDomain=spinDomain\n",
      "val numSites = 10\n",
      "val g = GREMLINWeightGenerator(smallDomain, numSites, 0.2)\n",
      "val localWeights = g.generateLocalMasses\n",
      "val pairwiseWeights = g.generatePairwiseMasses\n",
      "\n",
      "val trueM = PottsModel(localWeights, pairwiseWeights, smallDomain)\n",
      "\n",
      "val spins = Spin.vector('a', numSites, smallDomain)\n",
      "val strings = generateSampleStrings(2000, trueM, spins)\n",
      "val vectors = strings.map(Spin.vector(_, smallDomain))\n",
      "vectors(0)"
     ],
     "language": "python",
     "metadata": {},
     "outputs": [
      {
       "output_type": "stream",
       "stream": "stderr",
       "text": []
      },
      {
       "output_type": "stream",
       "stream": "stdout",
       "text": []
      },
      {
       "metadata": {},
       "output_type": "pyout",
       "prompt_number": 148,
       "text": [
        "Vector(0: a, 1: l, 2: g, 3: k, 4: c, 5: a, 6: l, 7: q, 8: r, 9: y)"
       ]
      }
     ],
     "prompt_number": 148
    },
    {
     "cell_type": "code",
     "collapsed": false,
     "input": [
      "val m6 = PottsModel(numSites, smallDomain)\n",
      "val ex6 = for(v <- vectors) yield new LikelihoodExample(v, m6, InferByBPLoopy)\n",
      "Timer.start\n",
      "Trainer.batchTrain(m6.parameters, ex6)\n",
      "println(Timer.stop)"
     ],
     "language": "python",
     "metadata": {},
     "outputs": [
      {
       "output_type": "stream",
       "stream": "stdout",
       "text": [
        "59969\n"
       ]
      },
      {
       "output_type": "stream",
       "stream": "stderr",
       "text": []
      }
     ],
     "prompt_number": 149
    },
    {
     "cell_type": "markdown",
     "metadata": {},
     "source": [
      "The model works best around 0.3 connectivity!\n",
      "I've also removed the symmetry in the weights creation, does this change anything??"
     ]
    },
    {
     "cell_type": "code",
     "collapsed": false,
     "input": [
      "val mis = MutualInformation(strings, smallDomain).allMIs\n",
      "ModelValidator(trueM, m6, mis).printStats"
     ],
     "language": "python",
     "metadata": {},
     "outputs": [
      {
       "output_type": "stream",
       "stream": "stdout",
       "text": [
        "(3,7)    5.984496143959553     0.05030594377298672     1.2368623679182176\n",
        "(2,3)    5.723842933007971     0.04681406298428377     1.0484175187874436\n",
        "(2,7)    0.0                   0.04353132759091399     0.7096162295784355\n",
        "(3,9)    5.805500434573056     0.04309583352866995     0.9921005831244109\n",
        "(1,6)    5.8908656658364755    0.041423479256637454    1.1174664429991739\n",
        "(7,9)    0.0                   0.040904692432339164    0.6227177678490592\n",
        "(1,8)    5.901489981330814     0.040467237871250304    1.0757463458852334\n",
        "(1,4)    5.85853373670385      0.038801198658330864    1.1216689178082913\n",
        "(3,4)    5.991951934901317     0.037766370852559523    1.048055648720357\n",
        "(2,9)    0.0                   0.037488018662877334    0.5541080645137757\n",
        "(1,7)    0.0                   0.035690615522131895    0.5251696033997804\n",
        "(1,9)    0.0                   0.03552860867434071     0.5006923494859709\n",
        "(2,6)    5.836681537895968     0.03530623462491808     0.9825985549670136\n",
        "(4,7)    0.0                   0.035069076532207144    0.682501097133156\n",
        "(1,3)    0.0                   0.034799121897495074    0.6071436208111626\n",
        "(1,2)    0.0                   0.03365214521019974     0.6053497755105264\n",
        "(2,4)    0.0                   0.032935215213064854    0.6432106000955726\n",
        "(5,9)    0.0                   0.03261440645341674     0.3872347151678689\n",
        "(4,9)    0.0                   0.03232366889892179     0.5830665162725484\n",
        "(6,8)    0.0                   0.03224924606736919     0.6406805295724873\n",
        "(8,9)    0.0                   0.03208490018263282     0.4382862266266215\n",
        "(5,7)    0.0                   0.03200414959877822     0.37985497182039357\n",
        "(7,8)    0.0                   0.031822926452082324    0.44989726818106496\n",
        "(3,8)    0.0                   0.03108812027734775     0.4864933527445243\n",
        "(3,5)    0.0                   0.031014604752793468    0.3994211302214878\n",
        "(6,9)    0.0                   0.030948989402320604    0.4689601137687348\n",
        "(1,5)    0.0                   0.030512208442101302    0.40329225390210777\n",
        "(6,7)    0.0                   0.02999006226328084     0.47416847866808937\n",
        "(4,6)    0.0                   0.029847565033115354    0.6869934615061446\n",
        "(3,6)    0.0                   0.02980236293292591     0.5791909835503458\n",
        "(2,8)    0.0                   0.029645214037372268    0.4448362450583266\n",
        "(4,8)    0.0                   0.029562404661432957    0.6459931566211137\n",
        "(2,5)    0.0                   0.02939532502101142     0.3570810861468119\n",
        "(5,8)    0.0                   0.02707091666776477     0.36126670423278284\n",
        "(5,6)    0.0                   0.026243879537364585    0.3729377291264158\n",
        "(4,5)    0.0                   0.0259605898069856      0.3838122060743716\n",
        "(0,9)    0.0                   0.02397042995120224     0.363319724232652\n",
        "(0,7)    0.0                   0.02360859378342214     0.3623178481265936\n",
        "(0,3)    0.0                   0.022753034616611906    0.3848831873963136\n",
        "(0,2)    0.0                   0.021569410387848865    0.3461400207929663\n",
        "(0,1)    0.0                   0.021542602184068903    0.3791999304279129\n",
        "(0,5)    0.0                   0.020555807266471597    0.3210010642966796\n",
        "(0,8)    0.0                   0.01967864106101452     0.3452974975863549\n",
        "(0,6)    0.0                   0.019308355791077803    0.3529562334134289\n",
        "(0,4)    0.0                   0.01864084749887002     0.3724753046185232\n"
       ]
      },
      {
       "output_type": "stream",
       "stream": "stderr",
       "text": []
      }
     ],
     "prompt_number": 150
    },
    {
     "cell_type": "code",
     "collapsed": false,
     "input": [],
     "language": "python",
     "metadata": {},
     "outputs": []
    }
   ],
   "metadata": {}
  }
 ]
}