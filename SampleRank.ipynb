{
 "metadata": {
  "name": ""
 },
 "nbformat": 3,
 "nbformat_minor": 0,
 "worksheets": [
  {
   "cells": [
    {
     "cell_type": "code",
     "collapsed": false,
     "input": [
      "import cc.factorie._\n",
      "import cc.factorie.directed._\n",
      "import la.{DenseTensor2, Tensor2, DenseTensor1, Tensor1, Tensor}\n",
      "import cc.factorie.directed.{MaximizeMultivariateGaussianCovariance, MaximizeMultivariateGaussianMean, MultivariateGaussian, Gaussian}\n",
      "//import collection.mutable.{Map}\n",
      "import collection.mutable.{ArrayBuffer}\n",
      "import cc.factorie.variable.{CategoricalDomain, CategoricalVariable, DoubleVariable, MutableDiscreteVar}\n",
      "import cc.factorie.model.{Parameters, Model, Factor, DotFamilyWithStatistics1, DotFamilyWithStatistics2, Weights2, WeightsMap,WeightsSet}\n",
      "import cc.factorie.la.{DenseTensor1, DenseTensor2}"
     ],
     "language": "python",
     "metadata": {},
     "outputs": [
      {
       "output_type": "stream",
       "stream": "stdout",
       "text": []
      },
      {
       "output_type": "stream",
       "stream": "stderr",
       "text": []
      }
     ],
     "prompt_number": 1
    },
    {
     "cell_type": "code",
     "collapsed": false,
     "input": [
      "implicit val random = scala.util.Random"
     ],
     "language": "python",
     "metadata": {},
     "outputs": [
      {
       "output_type": "stream",
       "stream": "stderr",
       "text": []
      },
      {
       "output_type": "stream",
       "stream": "stdout",
       "text": []
      },
      {
       "metadata": {},
       "output_type": "pyout",
       "prompt_number": 2,
       "text": [
        "scala.util.Random$@6875aca"
       ]
      }
     ],
     "prompt_number": 2
    },
    {
     "cell_type": "code",
     "collapsed": false,
     "input": [
      "object spinDomain extends CategoricalDomain[Char](List('a', 'r', 'n', 'd', 'c', 'q', 'e', 'g', 'h', 'i', 'l', 'k', 'm', 'f', 'p', 's', 't', 'w', 'y', 'v', '-'))  "
     ],
     "language": "python",
     "metadata": {},
     "outputs": [
      {
       "output_type": "stream",
       "stream": "stdout",
       "text": []
      },
      {
       "output_type": "stream",
       "stream": "stderr",
       "text": []
      },
      {
       "metadata": {},
       "output_type": "pyout",
       "prompt_number": 3,
       "text": [
        "CategoricalDomain[](21)"
       ]
      }
     ],
     "prompt_number": 3
    },
    {
     "cell_type": "code",
     "collapsed": false,
     "input": [
      "spinDomain.index('r')"
     ],
     "language": "python",
     "metadata": {},
     "outputs": [
      {
       "output_type": "stream",
       "stream": "stderr",
       "text": []
      },
      {
       "output_type": "stream",
       "stream": "stdout",
       "text": []
      },
      {
       "metadata": {},
       "output_type": "pyout",
       "prompt_number": 4,
       "text": [
        "1"
       ]
      }
     ],
     "prompt_number": 4
    },
    {
     "cell_type": "code",
     "collapsed": false,
     "input": [
      "class GREMLINWeightGenerator(\n",
      "    val domain: CategoricalDomain[Char], \n",
      "    val numSites: Int, \n",
      "    val edgeProbability: Double,\n",
      "    val localMean: Double = 0,\n",
      "    val localVariance: Double = 1.0,\n",
      "    val pairwiseMean: Double = 0,\n",
      "    val pairwiseVariance: Double = 3.0)(implicit val random: scala.util.Random)  {\n",
      "    \n",
      "    \n",
      "    //allEdges contains all permutations of our\n",
      "    val allEdges = (for(i <- 0 until numSites; j <- 0 until numSites if i < j) yield (i, j)).toSet\n",
      "    val activeEdges = drawFromSet(edgeProbability, allEdges)\n",
      "    \n",
      "    def drawFromSet[A](p: Double, s: Set[A]): Set[A] = {\n",
      "        val drawn = for(i <- s if random.nextDouble < p) yield i\n",
      "        drawn\n",
      "    }  \n",
      "    \n",
      "    def generateLocalMasses: IndexedSeq[DenseTensor1] = {\n",
      "        implicit val model = DirectedModel()\n",
      "        \n",
      "        val mean = new DoubleVariable(localMean)\n",
      "        val variance = new DoubleVariable(localVariance)\n",
      "        \n",
      "        val localMasses = for(i <- 0 until numSites) yield new DenseTensor1(domain.size)\n",
      "        for(massTensor <- localMasses){\n",
      "            for(i <- 0 until massTensor.dim1){\n",
      "                val mass = new DoubleVariable :~ Gaussian(mean, variance)\n",
      "                massTensor(i) = mass.value\n",
      "            }\n",
      "        }\n",
      "        localMasses\n",
      "    }\n",
      "    \n",
      "    def generatePairwiseMasses: Map[(Int, Int), DenseTensor2] = {\n",
      "        val pairMasses: Map[(Int, Int), DenseTensor2] =(for(e <- activeEdges) yield (e -> generatePairwiseTensor)).toMap\n",
      "        pairMasses\n",
      "    }\n",
      "    \n",
      "    def generatePairwiseTensor: DenseTensor2 = {\n",
      "        implicit val model = DirectedModel()\n",
      "        \n",
      "        val mean = new DoubleVariable(pairwiseMean)\n",
      "        val variance = new DoubleVariable(pairwiseVariance)\n",
      "        \n",
      "        val tensor = new DenseTensor2(domain.size, domain.size)\n",
      "        //for(a1 <- 0 until domain.size; a2 <- 0 until domain.size if a1 <= a2) {\n",
      "        for(a1 <- 0 until domain.size; a2 <- 0 until domain.size) {\n",
      "            val mass = new DoubleVariable :~ Gaussian(mean, variance)\n",
      "            tensor(a1, a2) = mass.value\n",
      "            //tensor(a2, a1) = mass.value\n",
      "        }\n",
      "        tensor\n",
      "    }\n",
      "}\n",
      "\n",
      "object GREMLINWeightGenerator {\n",
      "    def apply(domain: CategoricalDomain[Char], n: Int, p: Double) = new GREMLINWeightGenerator(domain, n, p)\n",
      "    def apply(domain: CategoricalDomain[Char], p: Double) = new GREMLINWeightGenerator(domain, 10, p)\n",
      "}"
     ],
     "language": "python",
     "metadata": {},
     "outputs": [
      {
       "output_type": "stream",
       "stream": "stdout",
       "text": []
      },
      {
       "output_type": "stream",
       "stream": "stderr",
       "text": []
      },
      {
       "metadata": {},
       "output_type": "pyout",
       "prompt_number": 5,
       "text": [
        "GREMLINWeightGenerator$@200611e6"
       ]
      }
     ],
     "prompt_number": 5
    },
    {
     "cell_type": "code",
     "collapsed": false,
     "input": [
      "class Spin(v: Char, val i: Int, d: CategoricalDomain[Char]) extends CategoricalVariable[Char](v){\n",
      "    def domain = d\n",
      "    var cont: IndexedSeq[Spin] = null\n",
      "    def setContainer(c: IndexedSeq[Spin]): Unit = {this.cont = c}\n",
      "    override def toString = this.i.toString + \": \" + this.value.toString  \n",
      "}\n",
      "object Spin {\n",
      "    def apply(c: Char, i: Int, d: CategoricalDomain[Char]): Spin = new Spin(c, i, d)\n",
      "    def vector(s: String, d: CategoricalDomain[Char]): IndexedSeq[Spin] = {\n",
      "        val vector = for((c, i) <- s.zipWithIndex) yield Spin(c, i, d)\n",
      "        vector.foreach(_.setContainer(vector))\n",
      "        vector\n",
      "    }\n",
      "    def vector(c: Char, numSites: Int, d: CategoricalDomain[Char]): IndexedSeq[Spin] = {\n",
      "        val vector = for(i <- 0 until numSites) yield Spin(c, i, d)\n",
      "        vector.foreach(_.setContainer(vector))\n",
      "        vector\n",
      "    }\n",
      "}"
     ],
     "language": "python",
     "metadata": {},
     "outputs": [
      {
       "output_type": "stream",
       "stream": "stdout",
       "text": []
      },
      {
       "output_type": "stream",
       "stream": "stderr",
       "text": []
      },
      {
       "metadata": {},
       "output_type": "pyout",
       "prompt_number": 6,
       "text": [
        "Spin$@e24bd8b"
       ]
      }
     ],
     "prompt_number": 6
    },
    {
     "cell_type": "code",
     "collapsed": false,
     "input": [
      "class PottsModel(\n",
      "    val domain: CategoricalDomain[Char], \n",
      "    val localMasses: IndexedSeq[DenseTensor1],\n",
      "    val pairwiseMasses: Map[(Int, Int), DenseTensor2])\n",
      "    extends Model with Parameters {\n",
      "    \n",
      "    val localFamilies: IndexedSeq[DotFamilyWithStatistics1[Spin]] = \n",
      "        for(m <- localMasses) yield new DotFamilyWithStatistics1[Spin] { val weights = Weights(m) }\n",
      "                                       \n",
      "    val pairwiseFamilies: Map[(Int, Int), DotFamilyWithStatistics2[Spin, Spin]] =\n",
      "        for((k, m) <- pairwiseMasses) yield (k -> new DotFamilyWithStatistics2[Spin, Spin] { val weights = Weights(m) })\n",
      "    \n",
      "            \n",
      "    def factors(variables: Iterable[Var]): Iterable[Factor] = {\n",
      "        val results = new ArrayBuffer[Factor]\n",
      "        \n",
      "        val spins = variables collect {case s: Spin => s}\n",
      "        for(s <- spins){\n",
      "                val localFamily = localFamilies(s.i)\n",
      "                results += localFamily.Factor(s)\n",
      "            \n",
      "                val pKeys = pairwiseFamilies.keys.filter((k: (Int, Int)) => k._1 == s.i || k._2 == s.i)\n",
      "                for(k <- pKeys) {\n",
      "                    val pairwiseFamily = pairwiseFamilies(k)\n",
      "                    results += pairwiseFamily.Factor(s.cont(k._1), s.cont(k._2))\n",
      "                }\n",
      "        }\n",
      "        results\n",
      "    }\n",
      "}\n",
      "    \n",
      "object PottsModel {\n",
      "    def apply(numSites: Int, domain: CategoricalDomain[Char]): PottsModel = {\n",
      "        val localMasses = for(i <- 0 until numSites) yield new DenseTensor1(domain.size)\n",
      "        val pairwiseMasses = (for(i <- 0 until numSites; j <- 0 until numSites if i < j) yield ((i, j), new DenseTensor2(domain.size, domain.size))).toMap\n",
      "        \n",
      "        new PottsModel(domain, localMasses, pairwiseMasses)\n",
      "    }\n",
      "    def apply(localMasses: IndexedSeq[DenseTensor1], pairwiseMasses: Map[(Int, Int), DenseTensor2], domain: CategoricalDomain[Char]): PottsModel = {\n",
      "        new PottsModel(domain, localMasses, pairwiseMasses)\n",
      "    }\n",
      "    \n",
      "    def frequenciesAsWeights(samples: Seq[IndexedSeq[Spin]], domain: CategoricalDomain[Char]): PottsModel = {\n",
      "        assert(samples.forall(_.length == samples(0).length), \"Samples must all be of same length.\")\n",
      "        val numSites = samples(0).length\n",
      "        val model = PottsModel(numSites, domain)\n",
      "        for(s <- samples) {\n",
      "            for ((key, family) <- model.pairwiseFamilies) {\n",
      "                 val factor = family.Factor(s(key._1), s(key._2))\n",
      "                 val weightTensor = model.parameters(family.weights)\n",
      "                    weightTensor += factor.currentStatistics\n",
      "            }\n",
      "            \n",
      "            for ((family, i) <- model.localFamilies.zipWithIndex) {\n",
      "                val factor = family.Factor(s(i))\n",
      "                val weightTensor = model.parameters(family.weights)\n",
      "                weightTensor += factor.currentStatistics\n",
      "            }\n",
      "        }\n",
      "    model    \n",
      "    }\n",
      "        \n",
      "\n",
      "}"
     ],
     "language": "python",
     "metadata": {},
     "outputs": [
      {
       "output_type": "stream",
       "stream": "stdout",
       "text": []
      },
      {
       "output_type": "stream",
       "stream": "stderr",
       "text": []
      },
      {
       "metadata": {},
       "output_type": "pyout",
       "prompt_number": 7,
       "text": [
        "PottsModel$@1b2eb620"
       ]
      }
     ],
     "prompt_number": 7
    },
    {
     "cell_type": "markdown",
     "metadata": {},
     "source": []
    },
    {
     "cell_type": "code",
     "collapsed": false,
     "input": [],
     "language": "python",
     "metadata": {},
     "outputs": [],
     "prompt_number": 7
    },
    {
     "cell_type": "code",
     "collapsed": false,
     "input": [
      "import cc.factorie.infer.{VariableSettingsSampler, InferByGibbsSampling, GibbsSampler}"
     ],
     "language": "python",
     "metadata": {},
     "outputs": [
      {
       "output_type": "stream",
       "stream": "stderr",
       "text": []
      },
      {
       "output_type": "stream",
       "stream": "stdout",
       "text": []
      }
     ],
     "prompt_number": 8
    },
    {
     "cell_type": "code",
     "collapsed": false,
     "input": [
      "def generateSampleStrings(N:Int, model: PottsModel, variables: IndexedSeq[Spin], burnin: Int = 500): Seq[String] = {\n",
      "    implicit val random = new scala.util.Random(0)                                                                                                   \n",
      "    val sampler = new GibbsSampler(model)\n",
      "    val strings = new ArrayBuffer[String]\n",
      "    for(i <- 0 until N+burnin) {\n",
      "        sampler.processAll(variables)\n",
      "        if(i > burnin) strings += variables.map(_.value).mkString\n",
      "    }\n",
      "    strings\n",
      "}"
     ],
     "language": "python",
     "metadata": {},
     "outputs": [
      {
       "output_type": "stream",
       "stream": "stdout",
       "text": []
      },
      {
       "output_type": "stream",
       "stream": "stderr",
       "text": []
      }
     ],
     "prompt_number": 9
    },
    {
     "cell_type": "code",
     "collapsed": false,
     "input": [
      "object Timer {\n",
      "    var t: Long = 0\n",
      "    def start: Unit = { t = System.currentTimeMillis }\n",
      "    def stop: Long = { System.currentTimeMillis - t}\n",
      "}"
     ],
     "language": "python",
     "metadata": {},
     "outputs": [
      {
       "output_type": "stream",
       "stream": "stderr",
       "text": []
      },
      {
       "output_type": "stream",
       "stream": "stdout",
       "text": []
      },
      {
       "metadata": {},
       "output_type": "pyout",
       "prompt_number": 10,
       "text": [
        "Timer$@a618fc0"
       ]
      }
     ],
     "prompt_number": 10
    },
    {
     "cell_type": "code",
     "collapsed": false,
     "input": [
      "class ModelValidator(val trueModel: PottsModel, val proposedModel: PottsModel, val stats: Map[(Int, Int), Double]) {\n",
      "    val allNorms =\n",
      "        (for {(key, family) <- proposedModel.pairwiseFamilies //the proposedModel is completely connected\n",
      "                \n",
      "                val trueNorm = if(trueModel.pairwiseFamilies.keys.toSet.contains(key)) \n",
      "                               fNorm(trueModel.parameters(trueModel.pairwiseFamilies(key).weights)) \n",
      "                           else\n",
      "                               0.0\n",
      "                //propNorm = fNorm(proposedModel.parameters(family.weights))\n",
      "                val propNorm = fNorm(proposedModel.parameters(proposedModel.pairwiseFamilies(key).weights))\n",
      "            }\n",
      "            yield (key, (trueNorm, propNorm))).toMap\n",
      "    \n",
      "    \n",
      "    val allSquaredErrors = (for((trueValue, proposedValue) <- allNorms.values) yield squaredError(trueValue, proposedValue))\n",
      "    \n",
      "    val meanSquaredError = allSquaredErrors.sum / allSquaredErrors.toList.length\n",
      "    \n",
      "    def squaredError(values: Tuple2[Double, Double]): Double = math.pow((values._1 - values._2), 2)                                                                                       \n",
      "    \n",
      "    def printStats(): Unit = {\n",
      "            val sorted = allNorms.toList.sortBy(_._2._2).reverse //sort by trueNorm\n",
      "            val maxKeyLength = allNorms.toList.map(_._1).map(k => k._1.toString.length + k._1.toString.length).max\n",
      "            val maxTrueNormLength = allNorms.toList.map(_._2._1).map(_.toString.length).max\n",
      "            val maxPropNormLength = allNorms.toList.map(_._2._2).map(_.toString.length).max\n",
      "            for ((k, v) <- sorted) {\n",
      "                val keyLength: Int = k._1.toString.length + k._2.toString.length\n",
      "                print(k)\n",
      "                for(i <- 0 until maxKeyLength - keyLength) print(\" \")\n",
      "                print(\"    \")\n",
      "                print(v._1)\n",
      "                for(i <- 0 until maxTrueNormLength - v._1.toString.length) print(\" \")\n",
      "                print(\"    \")\n",
      "                print(v._2)\n",
      "                for(i <- 0 until maxPropNormLength - v._2.toString.length) print(\" \")\n",
      "                print(\"    \")\n",
      "                if(stats != null) print(stats(k))\n",
      "                println()\n",
      "            }\n",
      "        }\n",
      "        \n",
      "        \n",
      "    \n",
      "    //The frobenius norm\n",
      "    def fNorm(w: Tensor): Double = {\n",
      "        val t = w.asInstanceOf[DenseTensor2]\n",
      "        def averageOverRow(t: DenseTensor2, k: Int): Double = {\n",
      "            // J_ij(k, .) k being a row\n",
      "            val row = for(l <- 0 until t.dim2) yield t(k, l)\n",
      "            row.sum/row.length\n",
      "        }    \n",
      "        def averageOverCol(t: DenseTensor2, l: Int): Double = {\n",
      "            // J_ij(., l) l being a column\n",
      "            val col = for(k <- 0 until t.dim1) yield t(k, l)\n",
      "            col.sum/col.length\n",
      "        }\n",
      "        val totalAverage: Double = t.sum/t.length\n",
      "        val transformed: DenseTensor2 = t.copy\n",
      "        for(k <- 0 until t.dim1; l <- 0 until t.dim2) {\n",
      "            transformed(k, l) = t(k, l) - averageOverRow(t, k) - averageOverCol(t, l) + totalAverage\n",
      "        }\n",
      "        math.sqrt(transformed.twoNorm)\n",
      "    }\n",
      "}\n",
      "object ModelValidator {\n",
      "    def apply(proposedModel: PottsModel, trueModel: PottsModel) = new ModelValidator(proposedModel, trueModel, null)\n",
      "    def apply(proposedModel: PottsModel, trueModel: PottsModel, stats: Map[(Int, Int), Double]) = new ModelValidator(proposedModel, trueModel, stats)\n",
      "}"
     ],
     "language": "python",
     "metadata": {},
     "outputs": [
      {
       "output_type": "stream",
       "stream": "stderr",
       "text": []
      },
      {
       "output_type": "stream",
       "stream": "stdout",
       "text": []
      },
      {
       "metadata": {},
       "output_type": "pyout",
       "prompt_number": 11,
       "text": [
        "ModelValidator$@17cfb961"
       ]
      }
     ],
     "prompt_number": 11
    },
    {
     "cell_type": "code",
     "collapsed": false,
     "input": [
      "import cc.factorie.optimize._\n",
      "import cc.factorie.infer.{InferByBPLoopy, InferByGibbsSampling}"
     ],
     "language": "python",
     "metadata": {},
     "outputs": [
      {
       "output_type": "stream",
       "stream": "stdout",
       "text": []
      },
      {
       "output_type": "stream",
       "stream": "stderr",
       "text": []
      }
     ],
     "prompt_number": 12
    },
    {
     "cell_type": "code",
     "collapsed": false,
     "input": [
      "implicit val random = scala.util.Random"
     ],
     "language": "python",
     "metadata": {},
     "outputs": [
      {
       "output_type": "stream",
       "stream": "stdout",
       "text": []
      },
      {
       "output_type": "stream",
       "stream": "stderr",
       "text": []
      },
      {
       "metadata": {},
       "output_type": "pyout",
       "prompt_number": 13,
       "text": [
        "scala.util.Random$@6875aca"
       ]
      }
     ],
     "prompt_number": 13
    },
    {
     "cell_type": "code",
     "collapsed": false,
     "input": [],
     "language": "python",
     "metadata": {},
     "outputs": [],
     "prompt_number": 13
    },
    {
     "cell_type": "code",
     "collapsed": false,
     "input": [
      "//we add a pseudocount of 1\n",
      "class Counter(var value: Double=1) {\n",
      "    def add(t: Double): Unit = {value += t}\n",
      "    def divide(t: Double): Unit = {value *= 1/t}\n",
      "    override def toString: String = {value.toString}\n",
      "}"
     ],
     "language": "python",
     "metadata": {},
     "outputs": [
      {
       "output_type": "stream",
       "stream": "stderr",
       "text": []
      },
      {
       "output_type": "stream",
       "stream": "stdout",
       "text": []
      }
     ],
     "prompt_number": 14
    },
    {
     "cell_type": "code",
     "collapsed": false,
     "input": [
      "//merge this mith PottsModel.frequenciesAsWeights\n",
      "class MutualInformation(val samples: Seq[String], domain: CategoricalDomain[Char]) {\n",
      "    val total = samples.length\n",
      "    val numSites = samples(0).length\n",
      "    val categories = domain.categories\n",
      "    \n",
      "    val localFreqs = countLocalFrequencies\n",
      "    val pairwiseFreqs = countPairwiseFrequencies\n",
      "    \n",
      "    \n",
      "    def makeLocalCountsMap: Map[Char, Counter] = (for(c <- categories) yield (c, new Counter)).toMap\n",
      "    def countLocalFrequencies: IndexedSeq[Map[Char, Counter]] = {\n",
      "        val sitewiseCountMaps: IndexedSeq[Map[Char, Counter]] = for(i <- 0 until numSites) yield makeLocalCountsMap\n",
      "        \n",
      "        for(sample <- samples; (category, i) <- sample.zipWithIndex) sitewiseCountMaps(i)(category).add(1)\n",
      "        \n",
      "        for(countMap <- sitewiseCountMaps; c <- categories) countMap(c).divide(total)\n",
      "        sitewiseCountMaps\n",
      "    }\n",
      "    \n",
      "    def makePairwiseCountsMap: Map[(Char, Char), Counter] = (for(c1 <- categories; c2 <- categories) yield ((c1, c2), new Counter)).toMap\n",
      "    def countPairwiseFrequencies: Map[(Int, Int), Map[(Char, Char), Counter]] = {\n",
      "   \n",
      "        val pairwiseCountMaps: Map[(Int, Int), Map[(Char, Char), Counter]] = (for(i <- 0 until numSites; j <- 0 until numSites) yield ((i, j), makePairwiseCountsMap)).toMap\n",
      "    \n",
      "        for(sample <- samples; (c_i, i) <- sample.zipWithIndex; (c_j, j) <- sample.zipWithIndex) pairwiseCountMaps(i, j)(c_i, c_j).add(1)\n",
      "        for(countMap <- pairwiseCountMaps.values; c_i <- categories; c_j <- categories) countMap(c_i, c_j).divide(total)\n",
      "        pairwiseCountMaps\n",
      "    }\n",
      "    \n",
      "    def MI(i: Int, j: Int): Double = { \n",
      "        val f_i = localFreqs(i)\n",
      "        val f_j = localFreqs(j)\n",
      "        val f_ij = pairwiseFreqs(i, j)\n",
      "        \n",
      "        (for(k <- categories; l <- categories) yield (f_ij(k, l).value*math.log(f_ij(k,l).value/(f_i(k).value*f_j(l).value)))).sum\n",
      "        \n",
      "    }\n",
      "    val allMIs: Map[(Int, Int), Double] = (for(i <- 0 until numSites; j <- 0 until numSites if i < j) yield ((i, j), MI(i, j))).toMap\n",
      "}\n",
      "object MutualInformation {\n",
      "        def apply(samples: Seq[String], domain: CategoricalDomain[Char]) = new MutualInformation(samples, domain)\n",
      "}"
     ],
     "language": "python",
     "metadata": {},
     "outputs": [
      {
       "output_type": "stream",
       "stream": "stdout",
       "text": []
      },
      {
       "output_type": "stream",
       "stream": "stderr",
       "text": []
      },
      {
       "metadata": {},
       "output_type": "pyout",
       "prompt_number": 21,
       "text": [
        "MutualInformation$@4b831eeb"
       ]
      }
     ],
     "prompt_number": 21
    },
    {
     "cell_type": "code",
     "collapsed": false,
     "input": [
      "val mis = MutualInformation(strings, smallDomain).allMIs"
     ],
     "language": "python",
     "metadata": {},
     "outputs": [
      {
       "output_type": "stream",
       "stream": "stdout",
       "text": []
      },
      {
       "output_type": "stream",
       "stream": "stderr",
       "text": []
      },
      {
       "metadata": {},
       "output_type": "pyout",
       "prompt_number": 22,
       "text": [
        "Map((1,8) -> 0.7959599301172225, (2,5) -> 0.8682796066407819, (1,5) -> 1.249250779531068, (7,9) -> 0.3830643528266158, (6,7) -> 0.45900659246596226, (8,9) -> 0.6368058279649207, (3,9) -> 0.5250097116382089, (0,2) -> 0.9251076342629799, (3,4) -> 0.7756324277955053, (4,7) -> 0.4874398694211915, (0,9) -> 0.7221281248965189, (7,8) -> 0.6141779398605133, (5,9) -> 0.79740474722301, (0,7) -> 0.7074275549401595, (0,3) -> 1.2031454121767802, (6,9) -> 1.0157003458711424, (1,6) -> 0.6758658604132816, (0,5) -> 1.1508433339818909, (3,6) -> 0.7138617304529392, (2,8) -> 1.2489114307400282, (6,8) -> 0.8850672101591676, (3,5) -> 0.8363875297636731, (4,6) -> 0.7697425514698051, (1,9) -> 0.9957212365159513, (4,5) -> 1.0028489050569296, (1,4) -> 0.6938648453218583, (2,6) -> 1.1269141110807002, (0,8) -> 1.0356210982703207, (4,9) -> 0.5685251308564292, (0,4) -> 1.1318268979161743, (2,9) -> 0.6662749733310832, (5,7) -> 0.529498575634075, (1,3) -> 0.6127063354293676, (4,8) -> 0.9280360612093833, (2,7) -> 0.4538423801234383, (2,4) -> 1.0737078177914692, (3,7) -> 0.9082937583071682, (0,1) -> 0.7985216161130718, (5,8) -> 1.1172378305781407, (1,7) -> 0.43351850277074133, (2,3) -> 0.7428022484377304, (1,2) -> 0.6295842293490787, (3,8) -> 1.058492080753015, (5,6) -> 0.8495717932056528, (0,6) -> 1.035874692019996)"
       ]
      }
     ],
     "prompt_number": 22
    },
    {
     "cell_type": "code",
     "collapsed": false,
     "input": [],
     "language": "python",
     "metadata": {},
     "outputs": [],
     "prompt_number": 22
    },
    {
     "cell_type": "code",
     "collapsed": false,
     "input": [
      "//val smallDomain = new CategoricalDomain[Char](List('a', 'b', 'c'))\n",
      "val smallDomain=spinDomain\n",
      "val numSites = 10\n",
      "val g = GREMLINWeightGenerator(smallDomain, numSites, 0.2)\n",
      "val localWeights = g.generateLocalMasses\n",
      "val pairwiseWeights = g.generatePairwiseMasses\n",
      "\n",
      "val trueM = PottsModel(localWeights, pairwiseWeights, smallDomain)\n",
      "\n",
      "val spins = Spin.vector('a', numSites, smallDomain)\n",
      "val strings = generateSampleStrings(2000, trueM, spins)\n",
      "val vectors = strings.map(Spin.vector(_, smallDomain))\n",
      "vectors(0)"
     ],
     "language": "python",
     "metadata": {},
     "outputs": [
      {
       "output_type": "stream",
       "stream": "stderr",
       "text": []
      },
      {
       "output_type": "stream",
       "stream": "stdout",
       "text": []
      },
      {
       "metadata": {},
       "output_type": "pyout",
       "prompt_number": 66,
       "text": [
        "Vector(0: r, 1: p, 2: e, 3: w, 4: a, 5: a, 6: p, 7: m, 8: q, 9: t)"
       ]
      }
     ],
     "prompt_number": 66
    },
    {
     "cell_type": "code",
     "collapsed": false,
     "input": [
      "val objectiveModel = PottsModel.frequenciesAsWeights(vectors, smallDomain)"
     ],
     "language": "python",
     "metadata": {},
     "outputs": [
      {
       "output_type": "stream",
       "stream": "stdout",
       "text": []
      },
      {
       "output_type": "stream",
       "stream": "stderr",
       "text": []
      },
      {
       "metadata": {},
       "output_type": "pyout",
       "prompt_number": 67,
       "text": [
        "PottsModel@2165ea93"
       ]
      }
     ],
     "prompt_number": 67
    },
    {
     "cell_type": "code",
     "collapsed": false,
     "input": [
      "val m6 = PottsModel(numSites, smallDomain)\n",
      "val ex6 = for(v <- vectors) yield new LikelihoodExample(v, m6, InferByBPLoopy)\n",
      "Timer.start\n",
      "Trainer.batchTrain(m6.parameters, ex6)\n",
      "println(Timer.stop)"
     ],
     "language": "python",
     "metadata": {},
     "outputs": [
      {
       "output_type": "stream",
       "stream": "stderr",
       "text": []
      },
      {
       "output_type": "stream",
       "stream": "stdout",
       "text": [
        "67621\n"
       ]
      }
     ],
     "prompt_number": 68
    },
    {
     "cell_type": "markdown",
     "metadata": {},
     "source": [
      "The model works best around 0.3 connectivity!\n",
      "I've also removed the symmetry in the weights creation, does this change anything??"
     ]
    },
    {
     "cell_type": "code",
     "collapsed": false,
     "input": [
      "val mis = MutualInformation(strings, smallDomain).allMIs\n",
      "ModelValidator(trueM, m6, mis).printStats"
     ],
     "language": "python",
     "metadata": {},
     "outputs": [
      {
       "output_type": "stream",
       "stream": "stdout",
       "text": [
        "(8,12)     6.035652953628893     0.05660821382267789     1.3995249247114856\n",
        "(12,19)    5.833934290484705     0.0541172994275859      1.233832658599348\n",
        "(8,19)     0.0                   0.053794737429507786    1.241067924675696\n",
        "(3,12)     5.873961488706495     0.05155486459145353     1.197159176973859\n",
        "(3,8)      5.7343755212989524    0.051499061345393275    1.2387547962218046\n",
        "(0,12)     0.0                   0.05095088623235426     1.1047147334470546\n",
        "(0,8)      5.797726267640735     0.050615862562929534    1.1305817116639076\n",
        "(0,19)     5.967272825478887     0.050212574606426544    1.1486170619334042\n",
        "(10,12)    0.0                   0.04963427374130625     1.134019561849168\n",
        "(10,19)    5.866280111340726     0.04942913872597671     1.2355957451877377\n",
        "(8,10)     0.0                   0.049299562567519176    1.1555886476624582\n",
        "(3,19)     0.0                   0.04877700380028558     1.0547309714916826\n",
        "(2,12)     0.0                   0.048189106784352946    1.1187906948059378\n",
        "(2,8)      0.0                   0.04791300439897075     1.149571094795931\n",
        "(2,19)     5.904866913468896     0.04769950729937499     1.2402228674369065\n",
        "(0,10)     5.851889316292562     0.046875555340767074    1.1534587598597337\n",
        "(2,10)     5.881449167480797     0.046802690309924254    1.3853835094757232\n",
        "(12,14)    5.913233207051431     0.04653880989561525     1.0750090854779526\n",
        "(8,14)     6.010928537389292     0.04645676918665567     1.1152557035750168\n",
        "(12,16)    5.954105158662454     0.04642508082075585     1.0498921544823474\n",
        "(8,16)     0.0                   0.04602812673131539     1.0754368845108269\n",
        "(0,3)      0.0                   0.04574075091730612     0.9452772970277473\n",
        "(16,19)    0.0                   0.04560685944839906     1.0355043560506363\n",
        "(2,16)     5.8444191781964525    0.04556937396458301     1.3327013758114872\n",
        "(0,2)      0.0                   0.04539420058980669     1.1078163128641945\n",
        "(11,12)    0.0                   0.04509262224688716     1.0407295621139996\n",
        "(8,11)     0.0                   0.0449807199251135      1.0722623894922292\n",
        "(2,9)      5.694571961586019     0.04483384673681166     1.3044891235401985\n",
        "(9,12)     0.0                   0.044749545439444434    0.9755772197417493\n",
        "(8,9)      0.0                   0.04449836814638095     1.0091875311291494\n",
        "(10,16)    0.0                   0.04445297355871761     1.1067272603202607\n",
        "(9,19)     0.0                   0.044359576580220536    0.984656408287851\n",
        "(3,10)     0.0                   0.044316796366977385    0.9765575815774818\n",
        "(14,19)    0.0                   0.04409049205695905     0.9567512058402039\n",
        "(7,12)     0.0                   0.04383682491340852     1.013562822491869\n",
        "(7,11)     5.884116402348472     0.04380358485994325     1.5273994496000602\n",
        "(7,8)      0.0                   0.04378851594891914     1.0529170621214408\n",
        "(5,12)     0.0                   0.04374640352480236     0.9143306073187883\n",
        "(5,8)      0.0                   0.043514220195851626    0.9442194522498709\n",
        "(11,19)    0.0                   0.04346577487922015     0.979386851209039\n",
        "(0,16)     0.0                   0.043429322154666467    0.9499662972114394\n",
        "(9,10)     0.0                   0.043398915186034434    1.0548986725417258\n",
        "(5,11)     5.71061884674182      0.04283297862710988     1.3204140102258812\n",
        "(2,5)      0.0                   0.04272602208158215     1.110015513500069\n",
        "(5,19)     0.0                   0.042711581921566176    0.8688102649538026\n",
        "(2,11)     5.885612494516145     0.04263770648014279     1.2212403898254587\n",
        "(2,3)      0.0                   0.04263291060914732     0.9810113467335027\n",
        "(7,19)     0.0                   0.042304566690703094    0.9477265902618948\n",
        "(10,11)    0.0                   0.042268136867092104    1.0727216977383747\n",
        "(0,9)      0.0                   0.04220437263544281     0.8847350419445155\n",
        "(3,11)     5.665997698543776     0.042138138371941046    1.0695637047453874\n",
        "(3,14)     0.0                   0.04205654741793732     0.9392518717237391\n",
        "(9,16)     0.0                   0.04193994153603723     1.0262888520744293\n",
        "(0,14)     0.0                   0.04178881872154765     0.8592070083521578\n",
        "(5,10)     0.0                   0.041574652870798       0.9389011596535348\n",
        "(0,11)     0.0                   0.041394955293496925    0.9195973355469347\n",
        "(2,7)      0.0                   0.04122975376542307     1.15414141381159\n",
        "(5,7)      0.0                   0.041178488292189626    1.1209316356038086\n",
        "(3,16)     0.0                   0.04094928852624425     0.9119527973496927\n",
        "(7,10)     0.0                   0.040902074654304885    1.0211755929745288\n",
        "(0,5)      0.0                   0.04081593140886934     0.809207497137193\n",
        "(3,7)      0.0                   0.04074641147115285     0.9646998667279524\n",
        "(5,9)      5.94245816264258      0.04074012368084944     1.1725168245618574\n",
        "(10,14)    0.0                   0.04069915555104333     0.8900843242314677\n",
        "(0,7)      0.0                   0.040323046601074955    0.8892428131187274\n",
        "(3,5)      0.0                   0.040285447773046       0.8614246017302281\n",
        "(11,16)    0.0                   0.04019750893716083     1.0759407995728694\n",
        "(2,14)     0.0                   0.04001696514723228     0.9003306958614185\n",
        "(9,11)     0.0                   0.040005488449706784    1.0372684889869335\n",
        "(5,16)     0.0                   0.04000387000009668     0.9259550442666217\n",
        "(3,9)      0.0                   0.0392488253567339      0.8530934879465472\n",
        "(7,16)     5.903103359036987     0.038840716434604655    1.1227658751476863\n",
        "(14,16)    0.0                   0.038670300433180385    0.8407360158002727\n",
        "(7,9)      0.0                   0.038627609098519575    0.9853784384089127\n",
        "(13,19)    6.0412766903363435    0.038519538305189206    1.0479922024546477\n",
        "(12,13)    5.723978677471616     0.03844976259474509     0.9628977224810615\n",
        "(8,13)     0.0                   0.03819543083866955     0.9800595443776274\n",
        "(9,14)     0.0                   0.03722985434653524     0.7752319224308712\n",
        "(11,14)    0.0                   0.03702181940351034     0.8277754228497783\n",
        "(10,13)    0.0                   0.03603769649533534     0.9309911385468544\n",
        "(7,14)     0.0                   0.035908233725741756    0.8130951607091605\n",
        "(0,13)     0.0                   0.03588768163693        0.8596268547598105\n",
        "(2,13)     0.0                   0.03588066975328842     0.9993878207812011\n",
        "(5,14)     0.0                   0.03584148354745392     0.7158198327202906\n",
        "(1,12)     0.0                   0.03580060262744804     0.8293916547055543\n",
        "(1,8)      0.0                   0.03567073007501424     0.861005257746066\n",
        "(9,13)     5.7120633882734495    0.03553284948214809     1.1277355469195447\n",
        "(1,19)     0.0                   0.03516312317971905     0.8179311097487177\n",
        "(1,2)      5.9271187411936435    0.035141177743268075    1.1387072711103274\n",
        "(12,18)    0.0                   0.03508733872548604     0.8514768000635483\n",
        "(8,18)     0.0                   0.0348626814748457      0.8874248779144606\n",
        "(12,17)    5.916335808952111     0.03477538660742694     0.9267114868966417\n",
        "(8,17)     0.0                   0.034623886123672266    0.9490981323200417\n",
        "(3,13)     0.0                   0.0343976077363287      0.8316919824384754\n",
        "(13,16)    0.0                   0.0341862623373816      0.8483445211695654\n",
        "(18,19)    0.0                   0.033940562979759045    0.807617646221794\n",
        "(1,10)     0.0                   0.03385267006782908     0.8633474840717523\n",
        "(1,7)      6.034709467092794     0.03374299157183336     1.1385395401901313\n",
        "(1,11)     0.0                   0.033543335591252506    0.9942214931122746\n",
        "(0,1)      0.0                   0.03323166036160471     0.7404018563024417\n",
        "(16,18)    5.814663361539481     0.032973996181404876    0.9984379989608182\n",
        "(17,19)    0.0                   0.03290908017732823     0.8777306589797933\n",
        "(1,16)     0.0                   0.03285116706661056     0.8980194554108698\n",
        "(2,18)     0.0                   0.03261642325479785     0.9011862125685226\n",
        "(1,5)      0.0                   0.03251833538226874     0.8188886775073829\n",
        "(10,18)    0.0                   0.03249032774914202     0.8221126752749323\n",
        "(1,9)      0.0                   0.03246542143225645     0.8486944026490099\n",
        "(0,18)     0.0                   0.032379576495217326    0.7258145439928848\n",
        "(1,3)      0.0                   0.0322309923806101      0.735397014545401\n",
        "(11,13)    0.0                   0.03216252683757824     0.8136280522853107\n",
        "(10,17)    5.843814292010293     0.03211890425315466     1.0077267958389076\n",
        "(5,13)     0.0                   0.032075654515267914    0.7843618769864789\n",
        "(3,17)     0.0                   0.032046568395906104    0.8544149261128914\n",
        "(11,17)    5.875613795932169     0.031805798881057605    1.1127569181675117\n",
        "(6,8)      5.945012638255296     0.03178251472972473     0.905337041474153\n",
        "(6,12)     0.0                   0.031759678449635516    0.8573112388532875\n",
        "(13,14)    0.0                   0.03170243256136134     0.745505045147097\n",
        "(14,18)    5.71728097717465      0.03140859440322119     0.8614105233023707\n",
        "(3,18)     0.0                   0.03131898609196527     0.7700868057759376\n",
        "(0,17)     0.0                   0.03119401506176245     0.8072041107953017\n",
        "(2,17)     0.0                   0.03104130882275317     0.9427514453755904\n",
        "(7,13)     0.0                   0.03103582108860529     0.7736540181627761\n",
        "(7,17)     0.0                   0.030488848525555407    0.949383157995956\n",
        "(9,18)     0.0                   0.030351280915573244    0.7688191894058658\n",
        "(6,19)     0.0                   0.030098778083342034    0.7864019251225525\n",
        "(12,15)    0.0                   0.02988738887900881     0.7865528183282297\n",
        "(8,15)     0.0                   0.02983181897152017     0.8222714819023493\n",
        "(5,17)     0.0                   0.02968625709254956     0.841284578169351\n",
        "(3,15)     5.8818036591588605    0.029648913764205573    0.9246221223257776\n",
        "(16,17)    0.0                   0.029645507448027783    0.8222956997769283\n",
        "(1,14)     0.0                   0.0293783758028181      0.6476496852797533\n",
        "(3,6)      0.0                   0.02934448190165716     0.8090437010729113\n",
        "(9,17)     0.0                   0.029075030380135678    0.7911507126893323\n",
        "(4,12)     0.0                   0.02902127426767375     0.73734104532921\n",
        "(11,18)    0.0                   0.02895598075845278     0.7719119010251478\n",
        "("
       ]
      },
      {
       "output_type": "stream",
       "stream": "stdout",
       "text": [
        "4,8)      0.0                   0.02887173356674309     0.7738017665796645\n",
        "(5,18)     0.0                   0.0287232369001774      0.6768018448757884\n",
        "(14,17)    0.0                   0.028666622895313913    0.7247206087896989\n",
        "(15,19)    0.0                   0.02864604134741539     0.7421232846732632\n",
        "(0,6)      0.0                   0.02829549976754122     0.6932802946116633\n",
        "(7,18)     0.0                   0.028075255180032874    0.7516088657212237\n",
        "(4,18)     5.956095563507961     0.02788277109547106     1.2179311312395007\n",
        "(4,19)     0.0                   0.027847401692752675    0.6732575961942902\n",
        "(6,18)     5.937917798215357     0.02771959960087186     1.2034502167474892\n",
        "(6,10)     0.0                   0.027575950985925267    0.7440582180174147\n",
        "(9,15)     6.014805987639745     0.027546129528931006    1.0154790317290565\n",
        "(2,6)      0.0                   0.027277909837440398    0.7983159597290812\n",
        "(3,4)      0.0                   0.02722385595025025     0.7260638173885381\n",
        "(2,15)     0.0                   0.026998282958011596    0.834092221955408\n",
        "(10,15)    0.0                   0.026930631093577857    0.7307066159370157\n",
        "(6,14)     0.0                   0.02691891078786476     0.7207143749310598\n",
        "(0,15)     0.0                   0.026793019583771855    0.6472965381813911\n",
        "(6,16)     0.0                   0.026502944480691935    0.7636331966034364\n",
        "(0,4)      0.0                   0.02618536376997314     0.5988731400121007\n",
        "(4,10)     0.0                   0.026149647131266024    0.6487052313324057\n",
        "(1,13)     0.0                   0.026116855945442254    0.6613615587579638\n",
        "(6,9)      0.0                   0.026101455078746654    0.7768925927515334\n",
        "(15,16)    0.0                   0.025813773602459004    0.7268735710564798\n",
        "(11,15)    0.0                   0.025492672423841144    0.7777522092297797\n",
        "(2,4)      0.0                   0.025462569727246996    0.692992359176125\n",
        "(6,11)     0.0                   0.02545537311810487     0.729969371855682\n",
        "(13,18)    0.0                   0.025338479627983763    0.6606072098851934\n",
        "(4,16)     0.0                   0.025311995602056252    0.6889841362036112\n",
        "(5,15)     0.0                   0.025160889657407388    0.7435183086362634\n",
        "(6,15)     5.812337100753007     0.025118225994723773    1.164055153868444\n",
        "(15,18)    0.0                   0.02491795463109024     0.8902625428887743\n",
        "(6,7)      0.0                   0.024834913870832826    0.7062380953737563\n",
        "(5,6)      0.0                   0.024822623573175318    0.6572631628506921\n",
        "(14,15)    0.0                   0.024743529065080226    0.639410899536485\n",
        "(4,15)     5.825186765158791     0.02464770856550048     1.1567490939938962\n",
        "(7,15)     0.0                   0.024549739091803174    0.714648171534512\n",
        "(4,9)      0.0                   0.02416685164341196     0.6699254658369589\n",
        "(13,17)    0.0                   0.02412339690379937     0.6882395014433006\n",
        "(4,11)     0.0                   0.0237409051378564      0.6440993646834651\n",
        "(1,18)     0.0                   0.023736198128080914    0.6063782578186141\n",
        "(1,17)     0.0                   0.023730121627210766    0.6952586079881584\n",
        "(4,14)     0.0                   0.023588811874068045    0.6260988900453932\n",
        "(4,5)      0.0                   0.023174710869074727    0.56699054694383\n",
        "(4,7)      0.0                   0.023052404244735133    0.623690377279721\n",
        "(17,18)    0.0                   0.022022540748255652    0.6180586545251112\n",
        "(6,13)     0.0                   0.021986167393103277    0.6589321290170393\n",
        "(13,15)    0.0                   0.021949867980983123    0.6988702527602362\n",
        "(4,6)      0.0                   0.02193191663857738     0.879659272369622\n",
        "(4,13)     0.0                   0.020498118106199528    0.5629666225218524\n",
        "(1,6)      0.0                   0.020426675439832783    0.5636351655214263\n",
        "(1,15)     0.0                   0.020319393981408494    0.5869075105117653\n",
        "(6,17)     0.0                   0.019808703596555007    0.6047155080193799\n",
        "(15,17)    0.0                   0.019470282588034047    0.5994059953988181\n",
        "(1,4)      0.0                   0.0192228429050007      0.49412527688000013\n",
        "(4,17)     0.0                   0.01802342671588413     0.5250061637097349\n"
       ]
      },
      {
       "output_type": "stream",
       "stream": "stderr",
       "text": []
      }
     ],
     "prompt_number": 58
    },
    {
     "cell_type": "code",
     "collapsed": false,
     "input": [
      "val modelSR = PottsModel(numSites, smallDomain)\n",
      "val sampler = new GibbsSampler(modelSR, objectiveModel)"
     ],
     "language": "python",
     "metadata": {},
     "outputs": [
      {
       "output_type": "stream",
       "stream": "stderr",
       "text": []
      },
      {
       "output_type": "stream",
       "stream": "stdout",
       "text": []
      },
      {
       "metadata": {},
       "output_type": "pyout",
       "prompt_number": 94,
       "text": [
        "cc.factorie.infer.GibbsSampler@445549e5"
       ]
      }
     ],
     "prompt_number": 94
    },
    {
     "cell_type": "code",
     "collapsed": false,
     "input": [
      "import cc.factorie.optimize.SampleRankTrainer"
     ],
     "language": "python",
     "metadata": {},
     "outputs": [
      {
       "output_type": "stream",
       "stream": "stdout",
       "text": []
      },
      {
       "output_type": "stream",
       "stream": "stderr",
       "text": []
      }
     ],
     "prompt_number": 60
    },
    {
     "cell_type": "code",
     "collapsed": false,
     "input": [
      "val SRTrainer = new SampleRankTrainer(modelSR.parameters, sampler)"
     ],
     "language": "python",
     "metadata": {},
     "outputs": [
      {
       "output_type": "stream",
       "stream": "stdout",
       "text": []
      },
      {
       "output_type": "stream",
       "stream": "stderr",
       "text": []
      },
      {
       "metadata": {},
       "output_type": "pyout",
       "prompt_number": 93,
       "text": [
        "cc.factorie.optimize.SampleRankTrainer@3993865f"
       ]
      }
     ],
     "prompt_number": 93
    },
    {
     "cell_type": "code",
     "collapsed": false,
     "input": [
      "vectors(0)"
     ],
     "language": "python",
     "metadata": {},
     "outputs": [
      {
       "output_type": "stream",
       "stream": "stderr",
       "text": []
      },
      {
       "output_type": "stream",
       "stream": "stdout",
       "text": []
      },
      {
       "metadata": {},
       "output_type": "pyout",
       "prompt_number": 85,
       "text": [
        "Vector(0: a, 1: p, 2: e, 3: w, 4: a, 5: a, 6: p, 7: m, 8: q, 9: t)"
       ]
      }
     ],
     "prompt_number": 85
    },
    {
     "cell_type": "code",
     "collapsed": false,
     "input": [
      "Timer.start\n",
      "for(v <- vectors) SRTrainer.processContexts(v, iterations=10)\n",
      "ModelValidator(trueM, modelSR, mis).printStats\n",
      "print(\"--\")\n",
      "Timer.stop"
     ],
     "language": "python",
     "metadata": {},
     "outputs": [],
     "prompt_number": "*"
    },
    {
     "cell_type": "code",
     "collapsed": false,
     "input": [
      "ModelValidator(trueM, modelSR, mis).printStats"
     ],
     "language": "python",
     "metadata": {},
     "outputs": [
      {
       "output_type": "stream",
       "stream": "stdout",
       "text": [
        "(0,6)    0.0                  0.0    0.6932802946116633\n",
        "(5,6)    0.0                  0.0    0.6572631628506921\n",
        "(3,8)    0.0                  0.0    1.2387547962218046\n",
        "(1,2)    0.0                  0.0    1.1387072711103274\n",
        "(2,3)    0.0                  0.0    0.9810113467335027\n",
        "(1,7)    0.0                  0.0    1.1385395401901313\n",
        "(5,8)    0.0                  0.0    0.9442194522498709\n",
        "(0,1)    5.840646686247574    0.0    0.7404018563024417\n",
        "(3,7)    5.934216950701439    0.0    0.9646998667279524\n",
        "(2,4)    5.7889805197949      0.0    0.692992359176125\n",
        "(2,7)    0.0                  0.0    1.15414141381159\n",
        "(4,8)    0.0                  0.0    0.7738017665796645\n",
        "(1,3)    0.0                  0.0    0.735397014545401\n",
        "(5,7)    0.0                  0.0    1.1209316356038086\n",
        "(2,9)    0.0                  0.0    1.3044891235401985\n",
        "(0,4)    0.0                  0.0    0.5988731400121007\n",
        "(4,9)    0.0                  0.0    0.6699254658369589\n",
        "(0,8)    0.0                  0.0    1.1305817116639076\n",
        "(2,6)    0.0                  0.0    0.7983159597290812\n",
        "(1,4)    0.0                  0.0    0.49412527688000013\n",
        "(4,5)    0.0                  0.0    0.56699054694383\n",
        "(1,9)    0.0                  0.0    0.8486944026490099\n",
        "(4,6)    0.0                  0.0    0.879659272369622\n",
        "(3,5)    0.0                  0.0    0.8614246017302281\n",
        "(6,8)    0.0                  0.0    0.905337041474153\n",
        "(2,8)    0.0                  0.0    1.149571094795931\n",
        "(3,6)    0.0                  0.0    0.8090437010729113\n",
        "(0,5)    0.0                  0.0    0.809207497137193\n",
        "(1,6)    0.0                  0.0    0.5636351655214263\n",
        "(6,9)    0.0                  0.0    0.7768925927515334\n",
        "(0,3)    5.823922009275845    0.0    0.9452772970277473\n",
        "(0,7)    5.912041333788181    0.0    0.8892428131187274\n",
        "(5,9)    5.973146153591017    0.0    1.1725168245618574\n",
        "(7,8)    0.0                  0.0    1.0529170621214408\n",
        "(0,9)    0.0                  0.0    0.8847350419445155\n",
        "(4,7)    0.0                  0.0    0.623690377279721\n",
        "(3,4)    0.0                  0.0    0.7260638173885381\n",
        "(0,2)    0.0                  0.0    1.1078163128641945\n",
        "(3,9)    5.857783067989505    0.0    0.8530934879465472\n",
        "(8,9)    0.0                  0.0    1.0091875311291494\n",
        "(6,7)    5.713194587859283    0.0    0.7062380953737563\n",
        "(7,9)    0.0                  0.0    0.9853784384089127\n",
        "(1,5)    5.875142983471837    0.0    0.8188886775073829\n",
        "(2,5)    0.0                  0.0    1.110015513500069\n",
        "(1,8)    6.047571153507126    0.0    0.861005257746066\n"
       ]
      },
      {
       "output_type": "stream",
       "stream": "stderr",
       "text": []
      }
     ],
     "prompt_number": 98
    },
    {
     "cell_type": "code",
     "collapsed": false,
     "input": [],
     "language": "python",
     "metadata": {},
     "outputs": []
    }
   ],
   "metadata": {}
  }
 ]
}