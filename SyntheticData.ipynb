{
 "metadata": {
  "name": ""
 },
 "nbformat": 3,
 "nbformat_minor": 0,
 "worksheets": [
  {
   "cells": [
    {
     "cell_type": "code",
     "collapsed": false,
     "input": [
      "import cc.factorie._\n",
      "import cc.factorie.directed._\n",
      "import la.{DenseTensor2, Tensor2, DenseTensor1, Tensor1, Tensor}\n",
      "import cc.factorie.directed.{MaximizeMultivariateGaussianCovariance, MaximizeMultivariateGaussianMean, MultivariateGaussian, Gaussian}\n",
      "//import collection.mutable.{Map}\n",
      "import collection.mutable.{ArrayBuffer}\n",
      "import cc.factorie.variable.{CategoricalDomain, CategoricalVariable, DoubleVariable, MutableDiscreteVar}\n",
      "import cc.factorie.model.{Parameters, Model, Factor, DotFamilyWithStatistics1, DotFamilyWithStatistics2, Weights2}\n",
      "import cc.factorie.la.{DenseTensor1, DenseTensor2}"
     ],
     "language": "python",
     "metadata": {},
     "outputs": [
      {
       "output_type": "stream",
       "stream": "stdout",
       "text": []
      },
      {
       "output_type": "stream",
       "stream": "stderr",
       "text": []
      }
     ],
     "prompt_number": 1
    },
    {
     "cell_type": "code",
     "collapsed": false,
     "input": [
      "//object spinDomain extends CategoricalDomain[Char](List('a', 'r', 'n', 'd', 'c', 'q', 'e', 'g', 'h', 'i', 'l', 'k', 'm', 'f', 'p', 's', 't', 'w', 'y', 'v', '-'))  "
     ],
     "language": "python",
     "metadata": {},
     "outputs": [
      {
       "output_type": "stream",
       "stream": "stdout",
       "text": []
      },
      {
       "output_type": "stream",
       "stream": "stderr",
       "text": []
      },
      {
       "ename": "",
       "evalue": "",
       "output_type": "pyerr",
       "traceback": [
        "incomplete"
       ]
      }
     ],
     "prompt_number": 2
    },
    {
     "cell_type": "code",
     "collapsed": false,
     "input": [
      "class GREMLINWeightGenerator(\n",
      "    val domain: CategoricalDomain[Char], \n",
      "    val numSites: Int, \n",
      "    val edgeProbability: Double,\n",
      "    val localMean: Double = 0.0,\n",
      "    val localVariance: Double = 1.0,\n",
      "    val pairwiseMean: Double = 0.0,\n",
      "    val pairwiseVariance: Double = 1.0)  {\n",
      "    \n",
      "    implicit val random = new scala.util.Random(0)\n",
      "    \n",
      "    //allEdges contains all permutations of our\n",
      "    val allEdges = (for(i <- 0 until numSites; j <- 0 until numSites if i < j) yield (i, j)).toSet\n",
      "    val activeEdges = drawFromSet(edgeProbability, allEdges)\n",
      "    \n",
      "    def drawFromSet[A](p: Double, s: Set[A]): Set[A] = {\n",
      "        val drawn = for(i <- s if random.nextDouble < p) yield i\n",
      "        drawn\n",
      "    }  \n",
      "    \n",
      "    def generateLocalMasses: IndexedSeq[DenseTensor1] = {\n",
      "        implicit val model = DirectedModel()\n",
      "        \n",
      "        val mean = new DoubleVariable(localMean)\n",
      "        val variance = new DoubleVariable(localVariance)\n",
      "        \n",
      "        val localMasses = for(i <- 0 until numSites) yield new DenseTensor1(domain.size)\n",
      "        for(massTensor <- localMasses){\n",
      "            for(i <- 0 until massTensor.dim1){\n",
      "                val mass = new DoubleVariable :~ Gaussian(mean, variance)\n",
      "                massTensor(i) = mass.value\n",
      "            }\n",
      "        }\n",
      "        localMasses\n",
      "    }\n",
      "    \n",
      "    def generatePairwiseMasses: Map[(Int, Int), DenseTensor2] = {\n",
      "        val pairMasses: Map[(Int, Int), DenseTensor2] =(for(e <- activeEdges) yield (e -> generatePairwiseTensor)).toMap\n",
      "        pairMasses\n",
      "    }\n",
      "    \n",
      "    def generatePairwiseTensor: DenseTensor2 = {\n",
      "        implicit val model = DirectedModel()\n",
      "        \n",
      "        val mean = new DoubleVariable(pairwiseMean)\n",
      "        val variance = new DoubleVariable(pairwiseVariance)\n",
      "        \n",
      "        val tensor = new DenseTensor2(domain.size, domain.size)\n",
      "        for(a1 <- 0 until domain.size; a2 <- 0 until domain.size if a1 <= a2) {\n",
      "            val mass = new DoubleVariable :~ Gaussian(mean, variance)\n",
      "            tensor(a1, a2) = mass.value\n",
      "            tensor(a2, a1) = tensor(a1, a2)\n",
      "        }\n",
      "        tensor\n",
      "    }\n",
      "}\n",
      "\n",
      "object GREMLINWeightGenerator {\n",
      "    def apply(domain: CategoricalDomain[Char], n: Int, p: Double) = new GREMLINWeightGenerator(domain, n, p)\n",
      "    def apply(domain: CategoricalDomain[Char], p: Double) = new GREMLINWeightGenerator(domain, 10, p)\n",
      "}"
     ],
     "language": "python",
     "metadata": {},
     "outputs": [
      {
       "output_type": "stream",
       "stream": "stdout",
       "text": []
      },
      {
       "output_type": "stream",
       "stream": "stderr",
       "text": []
      },
      {
       "metadata": {},
       "output_type": "pyout",
       "prompt_number": 3,
       "text": [
        "GREMLINWeightGenerator$@2201ad"
       ]
      }
     ],
     "prompt_number": 3
    },
    {
     "cell_type": "code",
     "collapsed": false,
     "input": [
      "class Spin(v: Char, val i: Int, d: CategoricalDomain[Char]) extends CategoricalVariable[Char](v){\n",
      "    def domain = d\n",
      "    var cont: IndexedSeq[Spin] = null\n",
      "    def setContainer(c: IndexedSeq[Spin]): Unit = {this.cont = c}\n",
      "    override def toString = this.value.toString  \n",
      "}\n",
      "object Spin {\n",
      "    def apply(c: Char, i: Int, d: CategoricalDomain[Char]): Spin = new Spin(c, i, d)\n",
      "    def vector(s: String, d: CategoricalDomain[Char]): IndexedSeq[Spin] = {\n",
      "        val vector = for((c, i) <- s.zipWithIndex) yield Spin(c, i, d)\n",
      "        vector.foreach(_.setContainer(vector))\n",
      "        vector\n",
      "    }\n",
      "    def vector(c: Char, numSites: Int, d: CategoricalDomain[Char]): IndexedSeq[Spin] = {\n",
      "        val vector = for(i <- 0 until numSites) yield Spin(c, i, d)\n",
      "        vector.foreach(_.setContainer(vector))\n",
      "        vector\n",
      "    }\n",
      "}"
     ],
     "language": "python",
     "metadata": {},
     "outputs": [
      {
       "output_type": "stream",
       "stream": "stderr",
       "text": []
      },
      {
       "output_type": "stream",
       "stream": "stdout",
       "text": []
      },
      {
       "metadata": {},
       "output_type": "pyout",
       "prompt_number": 4,
       "text": [
        "Spin$@21602963"
       ]
      }
     ],
     "prompt_number": 4
    },
    {
     "cell_type": "code",
     "collapsed": false,
     "input": [
      "class PottsModel(\n",
      "    val domain: CategoricalDomain[Char], \n",
      "    val localMasses: IndexedSeq[DenseTensor1],\n",
      "    val pairwiseMasses: Map[(Int, Int), DenseTensor2])\n",
      "    extends Model with Parameters {\n",
      "    \n",
      "    val localFamilies: IndexedSeq[DotFamilyWithStatistics1[Spin]] = \n",
      "        for(m <- localMasses) yield new DotFamilyWithStatistics1[Spin] { val weights = Weights(m) }\n",
      "                                       \n",
      "    val pairwiseFamilies: Map[(Int, Int), DotFamilyWithStatistics2[Spin, Spin]] =\n",
      "        for((k, m) <- pairwiseMasses) yield (k -> new DotFamilyWithStatistics2[Spin, Spin] { val weights = Weights(m) })\n",
      "    \n",
      "            \n",
      "    def factors(variables: Iterable[Var]): Iterable[Factor] = {\n",
      "        val results = new ArrayBuffer[Factor]\n",
      "        \n",
      "        val spins = variables collect {case s: Spin => s}\n",
      "        for(s <- spins){\n",
      "                val localFamily = localFamilies(s.i)\n",
      "                results += localFamily.Factor(s)\n",
      "            \n",
      "                val pKeys = pairwiseFamilies.keys.filter((k: (Int, Int)) => k._1 == s.i || k._2 == s.i)\n",
      "                for(k <- pKeys) {\n",
      "                    val pairwiseFamily = pairwiseFamilies(k)\n",
      "                    results += pairwiseFamily.Factor(s.cont(k._1), s.cont(k._2))\n",
      "                }\n",
      "        }\n",
      "        results\n",
      "    }\n",
      "}\n",
      "    \n",
      "object PottsModel {\n",
      "    def apply(numSites: Int, domain: CategoricalDomain[Char]) = {\n",
      "        val localMasses = for(i <- 0 until numSites) yield new DenseTensor1(domain.size)\n",
      "        val pairwiseMasses = (for(i <- 0 until numSites; j <- 0 until numSites if i < j) yield ((i, j), new DenseTensor2(domain.size, domain.size))).toMap\n",
      "        \n",
      "        new PottsModel(domain, localMasses, pairwiseMasses)\n",
      "    }\n",
      "    def apply(localMasses: IndexedSeq[DenseTensor1], pairwiseMasses: Map[(Int, Int), DenseTensor2], domain: CategoricalDomain[Char]) = {\n",
      "        new PottsModel(domain, localMasses, pairwiseMasses)\n",
      "    }\n",
      "\n",
      "}"
     ],
     "language": "python",
     "metadata": {},
     "outputs": [
      {
       "output_type": "stream",
       "stream": "stderr",
       "text": []
      },
      {
       "output_type": "stream",
       "stream": "stdout",
       "text": []
      },
      {
       "metadata": {},
       "output_type": "pyout",
       "prompt_number": 5,
       "text": [
        "PottsModel$@40dd995a"
       ]
      }
     ],
     "prompt_number": 5
    },
    {
     "cell_type": "code",
     "collapsed": false,
     "input": [
      "import cc.factorie.infer.{VariableSettingsSampler, InferByGibbsSampling, GibbsSampler}"
     ],
     "language": "python",
     "metadata": {},
     "outputs": [
      {
       "output_type": "stream",
       "stream": "stdout",
       "text": []
      },
      {
       "output_type": "stream",
       "stream": "stderr",
       "text": []
      }
     ],
     "prompt_number": 6
    },
    {
     "cell_type": "code",
     "collapsed": false,
     "input": [
      "def generateSampleStrings(N:Int, model: PottsModel, variables: IndexedSeq[Spin], burnin: Int = 500): Seq[String] = {\n",
      "    implicit val random = new scala.util.Random(0)                                                                                                   \n",
      "    val sampler = new GibbsSampler(model)\n",
      "    val strings = new ArrayBuffer[String]\n",
      "    for(i <- 0 until N+burnin) {\n",
      "        sampler.processAll(variables)\n",
      "        if(i > burnin) strings += variables.mkString\n",
      "    }\n",
      "    strings\n",
      "}"
     ],
     "language": "python",
     "metadata": {},
     "outputs": [
      {
       "output_type": "stream",
       "stream": "stderr",
       "text": []
      },
      {
       "output_type": "stream",
       "stream": "stdout",
       "text": []
      }
     ],
     "prompt_number": 7
    },
    {
     "cell_type": "code",
     "collapsed": false,
     "input": [
      "object Timer {\n",
      "    var t: Long = 0\n",
      "    def start: Unit = { t = System.currentTimeMillis }\n",
      "    def stop: Long = { System.currentTimeMillis - t}\n",
      "}"
     ],
     "language": "python",
     "metadata": {},
     "outputs": [
      {
       "output_type": "stream",
       "stream": "stdout",
       "text": []
      },
      {
       "output_type": "stream",
       "stream": "stderr",
       "text": []
      },
      {
       "metadata": {},
       "output_type": "pyout",
       "prompt_number": 8,
       "text": [
        "Timer$@2fc11ac1"
       ]
      }
     ],
     "prompt_number": 8
    },
    {
     "cell_type": "code",
     "collapsed": false,
     "input": [
      "class ModelValidator(val trueModel: PottsModel, val proposedModel: PottsModel) {\n",
      "    val allNorms =\n",
      "        (for {(key, family) <- proposedModel.pairwiseFamilies //the proposedModel is completely connected\n",
      "                \n",
      "                val trueNorm = if(trueModel.pairwiseFamilies.keys.toSet.contains(key)) \n",
      "                               fNorm(trueModel.parameters(trueModel.pairwiseFamilies(key).weights)) \n",
      "                           else\n",
      "                               0.0\n",
      "                //propNorm = fNorm(proposedModel.parameters(family.weights))\n",
      "                val propNorm = fNorm(proposedModel.parameters(proposedModel.pairwiseFamilies(key).weights))\n",
      "            }\n",
      "            yield (key, (trueNorm, propNorm))).toMap\n",
      "    \n",
      "    \n",
      "    val allSquaredErrors = (for((trueValue, proposedValue) <- allNorms.values) yield squaredError(trueValue, proposedValue))\n",
      "    \n",
      "    val meanSquaredError = allSquaredErrors.sum / allSquaredErrors.toList.length\n",
      "    \n",
      "    def squaredError(values: Tuple2[Double, Double]): Double = math.pow((values._1 - values._2), 2)                                                                                       \n",
      "    \n",
      "    def printNorms(): Unit = {\n",
      "            val sorted = allNorms.toList.sortBy(_._2._2).reverse //sort by trueNorm\n",
      "            val maxKeyLength = allNorms.toList.map(_._1).map(k => k._1.toString.length + k._1.toString.length).max\n",
      "            val maxTrueNormLength = allNorms.toList.map(_._2._1).map(_.toString.length).max\n",
      "            //val maxKeyLength = 4\n",
      "            for ((k, v) <- sorted) {\n",
      "                val keyLength: Int = k._1.toString.length + k._2.toString.length\n",
      "                val trueNormLength = v._1.toString.length\n",
      "                print(k)\n",
      "                for(i <- 0 until maxKeyLength - keyLength) print(\" \")\n",
      "                print(\"    \")\n",
      "                print(v._1)\n",
      "                for(i <- 0 until maxTrueNormLength - trueNormLength) print(\" \")\n",
      "                print(\"    \")\n",
      "                print(v._2)\n",
      "                println()\n",
      "            }\n",
      "        }\n",
      "        \n",
      "        \n",
      "    \n",
      "    //The frobenius norm\n",
      "    def fNorm(w: Tensor): Double = {\n",
      "        val t = w.asInstanceOf[DenseTensor2]\n",
      "        def averageOverRow(t: DenseTensor2, k: Int): Double = {\n",
      "            // J_ij(k, .) k being a row\n",
      "            val row = for(l <- 0 until t.dim2) yield t(k, l)\n",
      "            row.sum/row.length\n",
      "        }    \n",
      "        def averageOverCol(t: DenseTensor2, l: Int): Double = {\n",
      "            // J_ij(., l) l being a column\n",
      "            val col = for(k <- 0 until t.dim1) yield t(k, l)\n",
      "            col.sum/col.length\n",
      "        }\n",
      "        val totalAverage: Double = t.sum/t.length\n",
      "        val transformed: DenseTensor2 = t.copy\n",
      "        for(k <- 0 until t.dim1; l <- 0 until t.dim2) {\n",
      "            transformed(k, l) = t(k, l) - averageOverRow(t, k) - averageOverCol(t, l) + totalAverage\n",
      "        }\n",
      "        math.sqrt(transformed.twoNorm)\n",
      "    }\n",
      "}\n",
      "object ModelValidator {\n",
      "    def apply(proposedModel: PottsModel, trueModel: PottsModel) = new ModelValidator(proposedModel, trueModel)\n",
      "}"
     ],
     "language": "python",
     "metadata": {},
     "outputs": [
      {
       "output_type": "stream",
       "stream": "stdout",
       "text": []
      },
      {
       "output_type": "stream",
       "stream": "stderr",
       "text": []
      },
      {
       "metadata": {},
       "output_type": "pyout",
       "prompt_number": 9,
       "text": [
        "ModelValidator$@5e19b12e"
       ]
      }
     ],
     "prompt_number": 9
    },
    {
     "cell_type": "code",
     "collapsed": false,
     "input": [
      "import cc.factorie.optimize._\n",
      "import cc.factorie.infer.{InferByBPLoopy, InferByGibbsSampling}"
     ],
     "language": "python",
     "metadata": {},
     "outputs": [
      {
       "output_type": "stream",
       "stream": "stdout",
       "text": []
      },
      {
       "output_type": "stream",
       "stream": "stderr",
       "text": []
      }
     ],
     "prompt_number": 10
    },
    {
     "cell_type": "code",
     "collapsed": false,
     "input": [
      "implicit val random = scala.util.Random"
     ],
     "language": "python",
     "metadata": {},
     "outputs": [
      {
       "output_type": "stream",
       "stream": "stderr",
       "text": []
      },
      {
       "output_type": "stream",
       "stream": "stdout",
       "text": []
      },
      {
       "metadata": {},
       "output_type": "pyout",
       "prompt_number": 11,
       "text": [
        "scala.util.Random$@33adf8f8"
       ]
      }
     ],
     "prompt_number": 11
    },
    {
     "cell_type": "code",
     "collapsed": false,
     "input": [
      "val smallDomain = new CategoricalDomain[Char](List('a', 'b', 'c', 'd'))\n",
      "//val smallDomain=spinDomain\n",
      "val numSites = 10\n",
      "val g = GREMLINWeightGenerator(smallDomain, numSites, 0.4)\n",
      "val localWeights = g.generateLocalMasses\n",
      "val pairwiseWeights = g.generatePairwiseMasses\n",
      "\n",
      "val trueM = PottsModel(localWeights, pairwiseWeights, smallDomain)\n",
      "\n",
      "val spins = Spin.vector('a', numSites, smallDomain)\n",
      "val strings = generateSampleStrings(2000, trueM, spins)\n",
      "val vectors = strings.map(Spin.vector(_, smallDomain))\n",
      "print(\"\")"
     ],
     "language": "python",
     "metadata": {},
     "outputs": [
      {
       "output_type": "stream",
       "stream": "stderr",
       "text": []
      },
      {
       "output_type": "stream",
       "stream": "stdout",
       "text": []
      }
     ],
     "prompt_number": 13
    },
    {
     "cell_type": "code",
     "collapsed": false,
     "input": [
      "//we add a pseudocount of 1\n",
      "class Counter(var value: Double=1) {\n",
      "    def add(t: Double): Unit = {value += t}\n",
      "    def divide(t: Double): Unit = {value *= 1/t}\n",
      "    override def toString: String = {value.toString}\n",
      "}"
     ],
     "language": "python",
     "metadata": {},
     "outputs": [
      {
       "output_type": "stream",
       "stream": "stdout",
       "text": []
      },
      {
       "output_type": "stream",
       "stream": "stderr",
       "text": []
      }
     ],
     "prompt_number": 128
    },
    {
     "cell_type": "code",
     "collapsed": false,
     "input": [
      "class MutualInformation(val samples: Seq[String], domain: CategoricalDomain[Char]) {\n",
      "    val total = samples.length\n",
      "    val numSites = samples(0).length\n",
      "    val categories = domain.categories\n",
      "    \n",
      "    val localFreqs = countLocalFrequencies\n",
      "    val pairwiseFreqs = countPairwiseFrequencies\n",
      "    \n",
      "    def makeLocalCountsMap: Map[Char, Counter] = (for(c <- categories) yield (c, new Counter)).toMap\n",
      "    def countLocalFrequencies: IndexedSeq[Map[Char, Counter]] = {\n",
      "        val sitewiseCountMaps: IndexedSeq[Map[Char, Counter]] = for(i <- 0 until numSites) yield makeLocalCountsMap\n",
      "        \n",
      "        for(sample <- samples; (category, i) <- sample.zipWithIndex) sitewiseCountMaps(i)(category).add(1)\n",
      "        \n",
      "        for(countMap <- sitewiseCountMaps; c <- categories) countMap(c).divide(total)\n",
      "        sitewiseCountMaps\n",
      "    }\n",
      "    \n",
      "    def makePairwiseCountsMap: Map[(Char, Char), Counter] = (for(c1 <- categories; c2 <- categories) yield ((c1, c2), new Counter)).toMap\n",
      "    def countPairwiseFrequencies: Map[(Int, Int), Map[(Char, Char), Counter]] = {\n",
      "   \n",
      "        val pairwiseCountMaps: Map[(Int, Int), Map[(Char, Char), Counter]] = (for(i <- 0 until numSites; j <- 0 until numSites) yield ((i, j), makePairwiseCountsMap)).toMap\n",
      "    \n",
      "        for(sample <- samples; (c_i, i) <- sample.zipWithIndex; (c_j, j) <- sample.zipWithIndex) pairwiseCountMaps(i, j)(c_i, c_j).add(1)\n",
      "        for(countMap <- pairwiseCountMaps.values; c_i <- categories; c_j <- categories) countMap(c_i, c_j).divide(total)\n",
      "        pairwiseCountMaps\n",
      "    }\n",
      "    \n",
      "    def MI(i: Int, j: Int): Double = { \n",
      "        val f_i = localFreqs(i)\n",
      "        val f_j = localFreqs(j)\n",
      "        val f_ij = pairwiseFreqs(i, j)\n",
      "        \n",
      "        (for(k <- categories; l <- categories) yield (f_ij(k, l).value*math.log(f_ij(k,l).value/(f_i(k).value*f_j(l).value)))).sum\n",
      "        \n",
      "    }\n",
      "    val allMIs: Map[(Int, Int), Double] = (for(i <- 0 until numSites; j <- 0 until numSites if i < j) yield ((i, j), MI(i, j))).toMap\n",
      "}\n",
      "object MutualInformation {\n",
      "        def apply(samples: Seq[String], domain: CategoricalDomain[Char]) = new MutualInformation(samples, domain)\n",
      "}"
     ],
     "language": "python",
     "metadata": {},
     "outputs": [
      {
       "output_type": "stream",
       "stream": "stdout",
       "text": []
      },
      {
       "output_type": "stream",
       "stream": "stderr",
       "text": []
      },
      {
       "metadata": {},
       "output_type": "pyout",
       "prompt_number": 129,
       "text": [
        "MutualInformation$@1d8af6ae"
       ]
      }
     ],
     "prompt_number": 129
    },
    {
     "cell_type": "code",
     "collapsed": false,
     "input": [
      "val mis = MutualInformation(strings, smallDomain).allMIs"
     ],
     "language": "python",
     "metadata": {},
     "outputs": [
      {
       "output_type": "stream",
       "stream": "stderr",
       "text": []
      },
      {
       "output_type": "stream",
       "stream": "stdout",
       "text": []
      },
      {
       "metadata": {},
       "output_type": "pyout",
       "prompt_number": 130,
       "text": [
        "Map((1,8) -> 0.009776158507778361, (2,5) -> 0.0821933298050486, (1,5) -> 0.0068313548436927645, (7,9) -> 0.0167950551495548, (6,7) -> 0.07955715347531664, (8,9) -> 0.035981940241931555, (3,9) -> 0.020841900423633854, (0,2) -> 0.009211401021750595, (3,4) -> 0.009333705006962961, (4,7) -> 0.040816399197967555, (0,9) -> 0.024070665486942804, (7,8) -> 0.07597881858477559, (5,9) -> 0.021149791136934406, (0,7) -> 0.3346301849045765, (0,3) -> 0.03460636365360504, (6,9) -> 0.009498274540312133, (1,6) -> 0.2288976535445012, (0,5) -> 0.00810446465458652, (3,6) -> 0.011665379003318255, (2,8) -> 0.022846252727757865, (6,8) -> 0.009700224199113611, (3,5) -> 0.007560085830722698, (4,6) -> 0.015023343011577919, (1,9) -> 0.014585344111061277, (4,5) -> 0.04845185307673996, (1,4) -> 0.010559795015153542, (2,6) -> 0.005289507646482033, (0,8) -> 0.022013737016684153, (4,9) -> 0.044593032186208796, (0,4) -> 0.055759394624204595, (2,9) -> 0.012637625935561848, (5,7) -> 0.015483233273036554, (1,3) -> 0.011055511914900763, (4,8) -> 0.16592856171427534, (2,7) -> 0.009810474332571487, (2,4) -> 0.05278546538773564, (3,7) -> 0.10714179698639192, (0,1) -> 0.14232446857399558, (5,8) -> 0.13055199809498627, (1,7) -> 0.0851816039504088, (2,3) -> 0.006302965308100136, (1,2) -> 0.005976938333042647, (3,8) -> 0.016860910226706764, (5,6) -> 0.007649890207968096, (0,6) -> 0.2233802795941247)"
       ]
      }
     ],
     "prompt_number": 130
    },
    {
     "cell_type": "code",
     "collapsed": false,
     "input": [
      "val m2 = PottsModel(numSites, smallDomain)\n",
      "val lhexamples = for(v <- vectors) yield new LikelihoodExample(v, m2, InferByBPLoopy)\n",
      "Timer.start\n",
      "//val lbl2 = new optimize.L2RegularizedConstantRate(numExamples=500)\n",
      "Trainer.batchTrain(m2.parameters, lhexamples, optimizer = lbl2, maxIterations=10)\n",
      "println(Timer.stop)\n",
      "ModelValidator(trueM, m2).printNorms"
     ],
     "language": "python",
     "metadata": {},
     "outputs": [
      {
       "ename": "",
       "evalue": "",
       "output_type": "pyerr",
       "traceback": [
        "<console>:53: error: not found: value lbl2",
        "              Trainer.batchTrain(m2.parameters, lhexamples, optimizer = lbl2, maxIterations=10)",
        "                                                                        ^"
       ]
      },
      {
       "output_type": "stream",
       "stream": "stdout",
       "text": []
      },
      {
       "output_type": "stream",
       "stream": "stderr",
       "text": []
      }
     ],
     "prompt_number": 124
    },
    {
     "cell_type": "code",
     "collapsed": false,
     "input": [
      "val m3 = PottsModel(numSites, smallDomain)\n",
      "val ex3 = for(v <- vectors) yield new LikelihoodExample(v, m3, InferByBPLoopy)\n",
      "Timer.start\n",
      "Trainer.onlineTrain(m3.parameters, ex3, optimizer=new AdaGrad())\n",
      "println(Timer.stop)\n",
      "ModelValidator(trueM, m3).printNorms"
     ],
     "language": "python",
     "metadata": {},
     "outputs": [
      {
       "output_type": "stream",
       "stream": "stdout",
       "text": [
        "62577\n",
        "(0,6)    2.0802970161374637    6.8352092226621535\n",
        "(0,4)    1.9464411134772663    6.577988634450549\n",
        "(0,5)    0.0                   6.033266323127064\n",
        "(5,8)    2.005578024880398     6.011491949729739\n",
        "(2,5)    1.5583371932960122    6.010865240246572\n",
        "(4,6)    0.0                   5.827509519618789\n",
        "(0,2)    0.0                   5.717298305476887\n",
        "(4,5)    0.0                   5.466863256227116\n",
        "(5,6)    1.7608009160550775    5.463451598504613\n",
        "(0,8)    0.0                   5.362037523184919\n",
        "(2,4)    1.5648457057075353    5.313088647960917\n",
        "(2,6)    0.0                   5.166633661737433\n",
        "(5,9)    1.4507955406813897    5.128091986357851\n",
        "(2,8)    0.0                   5.124095838510167\n",
        "(8,9)    2.0047757275948737    5.0615756881035825\n",
        "(4,8)    1.935555275096173     4.970933430042925\n",
        "(0,3)    0.0                   4.945094067149925\n",
        "(6,8)    0.0                   4.878509937129141\n",
        "(0,9)    1.9272982489375639    4.755411448306443\n",
        "(3,6)    0.0                   4.626566271157562\n",
        "(3,4)    0.0                   4.431303891871115\n",
        "(2,9)    0.0                   4.391046619816012\n",
        "(1,6)    1.791684540966903     4.29394627749986\n",
        "(0,1)    1.8088087854681627    4.207939836082672\n",
        "(3,5)    0.0                   4.149798717972521\n",
        "(6,9)    0.0                   4.071575139511204\n",
        "(2,3)    0.0                   4.0466405386207684\n",
        "(4,9)    1.6307899420373106    3.8501152262348106\n",
        "(3,9)    1.8286979329622122    3.7087738971867132\n",
        "(1,4)    0.0                   3.5773234731338084\n",
        "(1,5)    0.0                   3.5589715873431644\n",
        "(3,7)    1.3560950978803281    3.406019831519314\n",
        "(3,8)    0.0                   3.3860448979843785\n",
        "(1,2)    0.0                   3.3842129609940828\n",
        "(7,8)    1.776057256037068     3.1526742885856502\n",
        "(1,3)    0.0                   3.083256061377845\n",
        "(1,8)    0.0                   3.080075935815244\n",
        "(0,7)    1.5457927762855737    2.986184117808762\n",
        "(5,7)    0.0                   2.870169515532198\n",
        "(4,7)    0.0                   2.8679219043871744\n",
        "(6,7)    0.0                   2.8604587274497684\n",
        "(7,9)    0.0                   2.774711901208622\n",
        "(1,9)    0.0                   2.758689559161302\n",
        "(2,7)    0.0                   2.693061115481793\n",
        "(1,7)    0.0                   2.2183329568965804\n"
       ]
      },
      {
       "output_type": "stream",
       "stream": "stderr",
       "text": []
      }
     ],
     "prompt_number": 28
    },
    {
     "cell_type": "code",
     "collapsed": false,
     "input": [
      "val m4 = PottsModel(numSites, smallDomain)\n",
      "val ex4 = for(v <- vectors) yield new LikelihoodExample(v, m4, InferByBPLoopy)\n",
      "Timer.start\n",
      "Trainer.onlineTrain(m4.parameters, ex4)\n",
      "println(Timer.stop)\n",
      "ModelValidator(trueM, m4).printNorms"
     ],
     "language": "python",
     "metadata": {},
     "outputs": []
    }
   ],
   "metadata": {}
  }
 ]
}