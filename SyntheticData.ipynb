{
 "metadata": {
  "name": ""
 },
 "nbformat": 3,
 "nbformat_minor": 0,
 "worksheets": [
  {
   "cells": [
    {
     "cell_type": "code",
     "collapsed": false,
     "input": [
      "import cc.factorie._\n",
      "import cc.factorie.directed._\n",
      "import la.{DenseTensor2, Tensor2, DenseTensor1, Tensor1}\n",
      "import cc.factorie.directed.{MaximizeMultivariateGaussianCovariance, MaximizeMultivariateGaussianMean, MultivariateGaussian, Gaussian}\n",
      "import cc.factorie.variable.{TensorVariable, DoubleVariable}\n",
      "import cc.factorie.infer.Maximize"
     ],
     "language": "python",
     "metadata": {},
     "outputs": [
      {
       "output_type": "stream",
       "stream": "stderr",
       "text": []
      },
      {
       "output_type": "stream",
       "stream": "stdout",
       "text": []
      }
     ],
     "prompt_number": 18
    },
    {
     "cell_type": "code",
     "collapsed": false,
     "input": [
      "val NUMSITES = 32\n",
      "val NUMAA = 21"
     ],
     "language": "python",
     "metadata": {},
     "outputs": [
      {
       "output_type": "stream",
       "stream": "stderr",
       "text": []
      },
      {
       "output_type": "stream",
       "stream": "stdout",
       "text": []
      },
      {
       "metadata": {},
       "output_type": "pyout",
       "prompt_number": 63,
       "text": [
        "21"
       ]
      }
     ],
     "prompt_number": 63
    },
    {
     "cell_type": "code",
     "collapsed": false,
     "input": [
      "val allEdges = (for(i <- 0 until NUMSITES; j <- 0 until NUMSITES if i < j) yield (i, j)).toSet"
     ],
     "language": "python",
     "metadata": {},
     "outputs": [
      {
       "output_type": "stream",
       "stream": "stderr",
       "text": []
      },
      {
       "output_type": "stream",
       "stream": "stdout",
       "text": []
      },
      {
       "metadata": {},
       "output_type": "pyout",
       "prompt_number": 24,
       "text": [
        "Set((1,20), (7,21), (1,8), (4,26), (2,5), (16,22), (2,28), (19,27), (19,31), (0,28), (5,31), (7,12), (14,30), (28,30), (0,29), (3,11), (1,5), (7,9), (17,26), (16,27), (9,10), (24,31), (10,15), (15,27), (16,21), (8,10), (18,23), (8,27), (15,28), (25,28), (2,17), (7,31), (21,30), (3,29), (4,12), (24,30), (13,23), (26,29), (16,24), (14,19), (7,20), (19,25), (6,7), (8,9), (0,30), (10,12), (15,21), (0,17), (9,16), (13,25), (6,30), (12,25), (5,15), (18,19), (12,23), (3,9), (1,21), (2,27), (24,28), (6,24), (20,24), (0,2), (21,23), (10,25), (0,25), (9,25), (13,19), (14,27), (10,24), (3,10), (6,10), (10,19), (22,26), (25,26), (13,28), (26,28), (2,19), (0,19), (3,25), (6,14), (5,13), (1,28), (16,20), (1,29), (4,10), (9,31), (0,22), (4,17), (3,4), (22,23), (24,25), (22,24), (14,16), (3,30), (27,29), (7,24), (7,23), (13,17), (10,20), (0,10), (5,19), (23,24), (11,19), (8,19), (25,29), (9,19), (4,7), (9,23), (12,17), (2,10), (6,22), (2,24), (0,20), (16,30), (18,30), (24,27), (0,18), (7,19), (11,24), (1,24), (26,27), (19,21), (10,28), (17,20), (24,26), (20,22), (13,15), (0,9), (12,20), (5,11), (17,23), (19,24), (18,22), (8,18), (7,8), (8,26), (9,18), (10,21), (8,29), (20,30), (5,9), (21,28), (17,29), (7,16), (9,30), (1,18), (21,24), (11,14), (19,23), (3,13), (0,7), (2,13), (0,3), (19,30), (3,22), (6,9), (26,31), (4,28), (5,20), (23,27), (29,31), (8,11), (20,26), (7,26), (7,29), (12,18), (0,14), (16,18), (19,29), (8,17), (7,22), (5,17), (5,10), (14,18), (9,13), (1,6), (1,11), (0,5), (3,6), (6,23), (10,18), (19,22), (2,8), (1,19), (20,28), (8,13), (5,29), (17,25), (11,16), (29,30), (6,8), (6,27), (1,12), (15,22), (3,28), (11,31), (6,15), (3,27), (6,11), (11,22), (12,29), (3,5), (1,30), (0,15), (23,29), (14,28), (7,14), (17,28), (8,25), (10,26), (20,23), (21,26), (14,24), (1,10), (3,24), (4,29), (10,23), (3,18), (9,28), (13,24), (4,6), (22,28), (8,23), (6,13), (10,29), (20,29), (4,20), (4,11), (1,9), (3,12), (7,13), (4,13), (1,25), (8,24), (2,15), (11,29), (27,28), (4,5), (17,21), (18,28), (23,30), (13,22), (12,31), (14,25), (6,16), (1,4), (1,31), (12,16), (2,6), (17,22), (10,13), (0,8), (8,20), (4,18), (9,15), (17,31), (13,18), (22,31), (8,15), (2,31), (11,21), (25,30), (4,9), (0,4), (22,27), (12,15), (0,23), (20,31), (1,27), (2,9), (2,29), (10,16), (5,7), (12,13), (18,31), (23,26), (11,26), (15,31), (21,29), (4,27), (5,12), (12,22), (5,30), (15,16), (16,31), (11,17), (13,29), (11,25), (7,11), (18,24), (19,20), (11,30), (3,21), (8,16), (10,14), (5,16), (6,28), (1,16), (21,22), (9,27), (7,10), (0,12), (0,16), (16,17), (6,19), (7,17), (12,26), (11,23), (2,21), (0,13), (24,29), (0,27), (1,3), (1,15), (6,21), (4,8), (5,28), (4,23), (27,30), (2,14), (14,31), (10,11), (2,23), (2,7), (5,21), (14,15), (9,14), (11,27), (6,18), (9,26), (28,31), (25,31), (2,4), (11,13), (4,25), (4,30), (1,22), (3,7), (14,23), (1,14), (0,11), (8,21), (9,21), (1,26), (4,24), (10,30), (7,27), (3,15), (10,31), (15,17), (11,18), (12,19), (6,17), (9,17), (15,19), (18,27), (16,19), (9,22), (15,23), (0,1), (15,24), (7,15), (0,21), (23,31), (17,24), (20,21), (13,26), (11,28), (16,26), (13,21), (4,14), (2,22), (18,25), (30,31), (7,28), (1,23), (10,17), (1,17), (13,31), (18,29), (8,22), (12,21), (1,13), (4,15), (22,29), (13,30), (2,11), (5,25), (5,8), (21,25), (2,16), (6,20), (8,31), (7,30), (6,12), (5,22), (1,7), (19,26), (0,26), (23,28), (3,19), (16,23), (6,26), (2,3), (5,18), (23,25), (27,31), (4,22), (2,20), (13,20), (11,15), (1,2), (3,31), (5,23), (4,31), (15,18), (10,22), (3,16), (25,27), (3,14), (16,25), (3,17), (7,25), (8,12), (17,27), (26,30), (21,31), (14,17), (9,24), (21,27), (13,27), (2,30), (15,26), (12,24), (22,30), (11,20), (3,26), (2,26), (28,29), (14,29), (18,21), (15,20), (13,14), (17,18), (14,21), (11,12), (20,25), (18,26), (14,22), (12,30), (5,14), (17,30), (8,30), (9,12), (9,20), (18,20), (17,19), (15,25), (15,30), (3,8), (19,28), (5,27), (8,28), (13,16), (12,28), (4,19), (5,6), (22,25), (14,20), (20,27), (16,28), (2,25), (4,16), (0,31), (12,14), (0,6), (5,24), (16,29), (5,26), (10,27), (7,18), (14,26), (2,12), (0,24), (3,20), (2,18), (6,31), (8,14), (12,27), (9,29), (6,29), (6,25), (4,21), (15,29), (3,23), (9,11))"
       ]
      }
     ],
     "prompt_number": 24
    },
    {
     "cell_type": "code",
     "collapsed": false,
     "input": [
      "def drawFromSet[A](p: Double, s: Set[A]): Set[A] = {\n",
      "    val rand = new scala.util.Random(0)\n",
      "    val drawn = for(i <- s if p > rand.nextDouble) yield i\n",
      "    drawn\n",
      "}"
     ],
     "language": "python",
     "metadata": {},
     "outputs": [
      {
       "output_type": "stream",
       "stream": "stdout",
       "text": []
      },
      {
       "output_type": "stream",
       "stream": "stderr",
       "text": []
      }
     ],
     "prompt_number": 56
    },
    {
     "cell_type": "code",
     "collapsed": false,
     "input": [
      "val drawnEdges = drawFromSet(0.05, allEdges)"
     ],
     "language": "python",
     "metadata": {},
     "outputs": [
      {
       "output_type": "stream",
       "stream": "stdout",
       "text": []
      },
      {
       "output_type": "stream",
       "stream": "stderr",
       "text": []
      },
      {
       "metadata": {},
       "output_type": "pyout",
       "prompt_number": 58,
       "text": [
        "Set((28,30), (24,30), (15,21), (18,19), (10,19), (25,26), (1,29), (4,17), (7,24), (25,29), (0,20), (5,11), (23,27), (0,5), (11,16), (14,28), (22,28), (13,22), (0,4), (22,27), (5,30), (6,28), (6,19), (2,21), (28,31), (0,11), (4,24), (7,27), (1,23), (1,13), (9,24), (8,30), (15,25))"
       ]
      }
     ],
     "prompt_number": 58
    },
    {
     "cell_type": "code",
     "collapsed": false,
     "input": [
      "import collection.mutable.Map"
     ],
     "language": "python",
     "metadata": {},
     "outputs": [
      {
       "output_type": "stream",
       "stream": "stderr",
       "text": []
      },
      {
       "output_type": "stream",
       "stream": "stdout",
       "text": []
      }
     ],
     "prompt_number": 61
    },
    {
     "cell_type": "code",
     "collapsed": false,
     "input": [
      "implicit val model = DirectedModel()\n",
      "implicit val random = new scala.util.Random(0)\n",
      "val mean = new DoubleVariable(0)\n",
      "val variance = new DoubleVariable(1.0)\n",
      "val weights = Map[Pair[Int, Int], DenseTensor2]()\n",
      "for(e <- allEdges) weights += (e -> new DenseTensor2(NUMAA, NUMAA))\n",
      "for(e <- drawnEdges){\n",
      "    for(a1 <- 0 until NUMAA; a2 <- 0 until NUMAA if a1 <= a2) {\n",
      "        val w = new DoubleVariable :~ Gaussian(mean, variance)\n",
      "        weights(e)(a1, a2) = w.value\n",
      "        weights(e)(a2, a1) = w.value\n",
      "    }\n",
      "}\n",
      "        \n",
      "                     \n",
      "    "
     ],
     "language": "python",
     "metadata": {},
     "outputs": [
      {
       "output_type": "stream",
       "stream": "stdout",
       "text": []
      },
      {
       "output_type": "stream",
       "stream": "stderr",
       "text": []
      }
     ],
     "prompt_number": 72
    },
    {
     "cell_type": "code",
     "collapsed": false,
     "input": [
      "weights(28, 30)(1, 0)"
     ],
     "language": "python",
     "metadata": {},
     "outputs": [
      {
       "output_type": "stream",
       "stream": "stderr",
       "text": []
      },
      {
       "output_type": "stream",
       "stream": "stdout",
       "text": []
      },
      {
       "metadata": {},
       "output_type": "pyout",
       "prompt_number": 76,
       "text": [
        "-0.9017740887131888"
       ]
      }
     ],
     "prompt_number": 76
    },
    {
     "cell_type": "code",
     "collapsed": false,
     "input": [
      "weights(0, 1)"
     ],
     "language": "python",
     "metadata": {},
     "outputs": [
      {
       "output_type": "stream",
       "stream": "stderr",
       "text": []
      },
      {
       "output_type": "stream",
       "stream": "stdout",
       "text": []
      },
      {
       "metadata": {},
       "output_type": "pyout",
       "prompt_number": 71,
       "text": [
        "DenseTensor2(0.0,0.0,0.0,0.0,0.0,0.0,0.0,0.0,0.0,0.0,0.0,0.0,0.0,0.0,0.0,0.0,0.0,0.0,0.0,0.0,0.0,0.0,0.0,0.0,0.0,0.0,0.0,0.0,0.0,0.0,0.0,0.0,0.0,0.0,0.0,0.0,0.0,0.0,0.0,0.0,0.0,0.0,0.0,0.0,0.0,0.0,0.0,0.0,0.0,0.0...)"
       ]
      }
     ],
     "prompt_number": 71
    },
    {
     "cell_type": "code",
     "collapsed": false,
     "input": [
      "implicit val model = DirectedModel()\n",
      "implicit val random = new scala.util.Random(0)\n",
      "val mean = new DoubleVariable(0)\n",
      "val variance = new DoubleVariable(1.0)\n",
      "val data = for (i <- 1 to 1000) yield new DoubleVariable :~ Gaussian(mean, variance)"
     ],
     "language": "python",
     "metadata": {},
     "outputs": [
      {
       "output_type": "stream",
       "stream": "stderr",
       "text": []
      },
      {
       "output_type": "stream",
       "stream": "stdout",
       "text": []
      },
      {
       "metadata": {},
       "output_type": "pyout",
       "prompt_number": 41,
       "text": [
        "Vector(DoubleVariable(0.047047255028511696), DoubleVariable(-0.9017740887131888), DoubleVariable(-0.5067729363858887), DoubleVariable(1.3750582520321157), DoubleVariable(0.47328512338332906), DoubleVariable(1.1081269072082947), DoubleVariable(1.9387591171293932), DoubleVariable(1.071649148915686), DoubleVariable(-1.5015002790902707), DoubleVariable(0.21952546520218988), DoubleVariable(-0.13609310617841266), DoubleVariable(-0.08084364678654837), DoubleVariable(0.3366206056162971), DoubleVariable(0.913313538087334), DoubleVariable(1.7382372053106254), DoubleVariable(-0.03596721732967433), DoubleVariable(0.5092124934493628), DoubleVariable(1.2405706482376682), DoubleVariable(-1.331625100944853), DoubleVariable(0.9332824884029473), DoubleVariable(0.15973853310224026), DoubleVariable(0.4272193402541535), DoubleVariable(1.0660254451536653), DoubleVariable(-1.0803086178172057), DoubleVariable(-0.16740475993143902), DoubleVariable(0.3640199967225879), DoubleVariable(0.3339735505103908), DoubleVariable(0.8280771468890048), DoubleVariable(0.6933104368767588), DoubleVariable(0.23941210720629671), DoubleVariable(-0.04472029850900166), DoubleVariable(0.2958398527651156), DoubleVariable(-1.2427492571239156), DoubleVariable(-0.5642284294606575), DoubleVariable(0.12483422458623591), DoubleVariable(1.3797407448249364), DoubleVariable(2.2579323131865188), DoubleVariable(1.186611238485394), DoubleVariable(0.01618014143487176), DoubleVariable(-0.04078505146315824), DoubleVariable(0.887191625307075), DoubleVariable(2.4260359544448566), DoubleVariable(1.232621640611528), DoubleVariable(0.5693258774529547), DoubleVariable(-1.50475662231493), DoubleVariable(-0.0700122961016752), DoubleVariable(-0.39968837088917003), DoubleVariable(0.4207455161774743), DoubleVariable(-0.9334452957002047), DoubleVariable(-1.1562092094241727), DoubleVariable(-1.403169115777754), DoubleVariable(-0.36988099752205605), DoubleVariable(-0.9035519414967605), DoubleVariable(-0.5989760255379941), DoubleVariable(-1.3046063819455453), DoubleVariable(0.21359383322109554), DoubleVariable(-0.3111788406838259), DoubleVariable(-0.140211322658027), DoubleVariable(-0.4975459552242279), DoubleVariable(-0.8071394569419946), DoubleVariable(-0.053677076662198196), DoubleVariable(-0.4139940720346344), DoubleVariable(-0.440033392936308), DoubleVariable(1.093935688765323), DoubleVariable(0.9739171139128201), DoubleVariable(-0.589702140103769), DoubleVariable(-0.03537205028865311), DoubleVariable(-0.3802394748493507), DoubleVariable(0.27803187371390553), DoubleVariable(-0.4684949433312639), DoubleVariable(-0.13946117773813552), DoubleVariable(0.4866582020044796), DoubleVariable(-0.8405659566164508), DoubleVariable(-1.1642213679648061), DoubleVariable(-0.34191291631164317), DoubleVariable(-0.8815275111117349), DoubleVariable(-0.15095463737872739), DoubleVariable(-0.19978073963169748), DoubleVariable(-0.5398847008552022), DoubleVariable(0.7119436371866806), DoubleVariable(1.7260699878700412), DoubleVariable(0.9609276750637182), DoubleVariable(1.0071112783531055), DoubleVariable(1.384621846732715), DoubleVariable(1.4424870677707895), DoubleVariable(-0.833137537153692), DoubleVariable(-1.6056126521673062), DoubleVariable(0.06785620699891305), DoubleVariable(0.4315425374818116), DoubleVariable(-0.7856327828170713), DoubleVariable(1.4522607589054082), DoubleVariable(1.0983497970784224), DoubleVariable(-0.14002128592997803), DoubleVariable(-1.0889172373745168), DoubleVariable(-2.5546427407012993), DoubleVariable(-0.5341100712822255), DoubleVariable(0.5452284131993406), DoubleVariable(-0.4709024659408755), DoubleVariable(-0.7073681852357302), DoubleVariable(-0.049376442731263445), DoubleVariable(1.0487987767824312), DoubleVariable(-0.1554374798797792), DoubleVariable(0.40678792329631613), DoubleVariable(-1.6054780674541995), DoubleVariable(-0.13119332317299343), DoubleVariable(1.6291552380521506), DoubleVariable(-0.3040633522168772), DoubleVariable(-1.29088382931725), DoubleVariable(-0.5924953456091422), DoubleVariable(-0.8484309717233871), DoubleVariable(1.401692685339202), DoubleVariable(-0.1947211956006423), DoubleVariable(-2.3103639766092923), DoubleVariable(0.26966011208004215), DoubleVariable(-0.4393225606964156), DoubleVariable(-1.3706113888303388), DoubleVariable(1.0993409571421828), DoubleVariable(0.618281234073676), DoubleVariable(0.950900620455822), DoubleVariable(-1.105606351307507), DoubleVariable(0.8351336882574828), DoubleVariable(-1.6016040354829222), DoubleVariable(0.5292989924457059), DoubleVariable(-1.3917699535495875), DoubleVariable(-1.3069381998842373), DoubleVariable(-1.653350791524229), DoubleVariable(-0.530389170272108), DoubleVariable(-0.28438077546340795), DoubleVariable(1.9352693697139947), DoubleVariable(0.3085800134945045), DoubleVariable(-0.984292351477904), DoubleVariable(1.1327487758570245), DoubleVariable(0.5949160218890922), DoubleVariable(-0.28565915443677353), DoubleVariable(-0.33424073511725616), DoubleVariable(1.1842599349575118), DoubleVariable(-1.0210330171496156), DoubleVariable(0.33369720495117955), DoubleVariable(-1.193069553288647), DoubleVariable(-1.0283117196842528), DoubleVariable(0.2391316342069622), DoubleVariable(-0.1744717407786908), DoubleVariable(-0.5319936656453633), DoubleVariable(0.5518716293915386), DoubleVariable(1.5588826189293807), DoubleVariable(0.08096595542048432), DoubleVariable(0.7890809054508757), DoubleVariable(-0.02199622526968016), DoubleVariable(-0.4237499741853754), DoubleVariable(1.2397818455123546), DoubleVariable(0.6729120072672741), DoubleVariable(1.5556052268582372), DoubleVariable(2.4393137676482164), DoubleVariable(-1.3322119553999157), DoubleVariable(1.846166975962958), DoubleVariable(-0.010682357197012009), DoubleVariable(1.0950062267565355), DoubleVariable(-0.2617329289131876), DoubleVariable(-1.106833891983031), DoubleVariable(-0.744520906847367), DoubleVariable(0.39559385669235997), DoubleVariable(1.1945928425552148), DoubleVariable(0.7518357354386623), DoubleVariable(-0.9238591924549534), DoubleVariable(-0.6514033489504415), DoubleVariable(1.4694556269212071), DoubleVariable(0.6936881247714562), DoubleVariable(-0.9648592366947125), DoubleVariable(1.6221385055193585), DoubleVariable(1.0237015102670393), DoubleVariable(-1.346507936448011), DoubleVariable(-0.6651437321571312), DoubleVariable(0.359014840112296), DoubleVariable(-2.6229903229908307), DoubleVariable(-0.6718376927509594), DoubleVariable(0.05429567250977237), DoubleVariable(1.363838266725017), DoubleVariable(1.0291583562257685), DoubleVariable(-1.0765176410241717), DoubleVariable(1.5912968280615114), DoubleVariable(-1.1597975654494515), DoubleVariable(-0.7019881866031275), DoubleVariable(-0.25189118558354645), DoubleVariable(1.0562778324412474), DoubleVariable(-0.7795594875734886), DoubleVariable(0.7711090476173529), DoubleVariable(-0.2362652631199202), DoubleVariable(0.7954855919100847), DoubleVariable(1.618370344260793), DoubleVariable(0.005437847581587863), DoubleVariable(1.7579461260471), DoubleVariable(0.6310954484610019), DoubleVariable(0.1985852281018583), DoubleVariable(0.846786052652729), DoubleVariable(0.5181137095986283), DoubleVariable(-0.7281771115617057), DoubleVariable(-1.1965112003074105), DoubleVariable(1.5268234038712007), DoubleVariable(0.7614606499931644), DoubleVariable(0.2731553865898741), DoubleVariable(-1.0861440899254697), DoubleVariable(-0.07958496676873528), DoubleVariable(0.8637938655507188), DoubleVariable(0.22197665975904787), DoubleVariable(-1.4682202401220603), DoubleVariable(0.7513084300197765), DoubleVariable(-0.16579355467659818), DoubleVariable(-1.1326075391565773), DoubleVariable(-0.07087582973052144), DoubleVariable(0.6923048582851484), DoubleVariable(-0.7163890396182133), DoubleVariable(-0.08006124740421267), DoubleVariable(0.884206374946555), DoubleVariable(-0.6752822197653583), DoubleVariable(-2.244922754268327), DoubleVariable(-0.09597386451303658), DoubleVariable(-1.5008453649541644), DoubleVariable(0.5035738915848686), DoubleVariable(-0.17417238133386118), DoubleVariable(2.1362917270442328), DoubleVariable(-1.4036731004266396), DoubleVariable(-2.14713534832283), DoubleVariable(0.42586842886446175), DoubleVariable(-0.2418279636425185), DoubleVariable(-1.0679431483170665), DoubleVariable(-1.5351426233681689), DoubleVariable(-0.0383936746336336), DoubleVariable(-0.6296585824803173), DoubleVariable(1.7584813318150119), DoubleVariable(-0.2627599505684993), DoubleVariable(-0.5174204490614871), DoubleVariable(-0.5560322505377412), DoubleVariable(-0.8947791408166385), DoubleVariable(-1.0057502957271063), DoubleVariable(0.9614463873661776), DoubleVariable(-1.5045020693544755), DoubleVariable(-0.009336933630596313), DoubleVariable(-0.5667612995547068), DoubleVariable(0.9800832554392125), DoubleVariable(1.0147861527196176), DoubleVariable(-1.8571779088261273), DoubleVariable(0.8524857867494042), DoubleVariable(0.6035100166242379), DoubleVariable(-1.3428387021571084), DoubleVariable(-0.4107862727830703), DoubleVariable(-0.5122338621065692), DoubleVariable(-0.9538358617361964), DoubleVariable(-0.4628595249893351), DoubleVariable(-0.8294689100191195), DoubleVariable(0.9101057605043659), DoubleVariable(2.253319579666916), DoubleVariable(0.5152467611783417), DoubleVariable(0.5457006857133984), DoubleVariable(2.11405668371443), DoubleVariable(0.6817283581766501), DoubleVariable(-0.8051861801589201), DoubleVariable(0.1391356978385681), DoubleVariable(-0.08499072857579804), DoubleVariable(0.49047480461188697), DoubleVariable(0.9071609876238845), DoubleVariable(0.9924413795261074), DoubleVariable(1.9633720127800627), DoubleVariable(-0.16617998161651873), DoubleVariable(-1.4089320247026271), DoubleVariable(-0.31551644742904206), DoubleVariable(-0.912669516453747), DoubleVariable(0.31548374948709806), DoubleVariable(1.1230283511628187), DoubleVariable(-1.612019127287225), DoubleVariable(-1.4483721955886844), DoubleVariable(1.3101168340599354), DoubleVariable(-1.1628461041910143), DoubleVariable(0.7119931769952755), DoubleVariable(0.3190359847968595), DoubleVariable(-1.6777428057714632), DoubleVariable(1.6668301490112833), DoubleVariable(-1.2710358336158398), DoubleVariable(0.49776096004867976), DoubleVariable(-1.6295218159235116), DoubleVariable(-2.321533800891753), DoubleVariable(-1.3032956318674307), DoubleVariable(-0.04236082085432828), DoubleVariable(0.20417524755051872), DoubleVariable(0.9955358905077705), DoubleVariable(-1.4074534637490344), DoubleVariable(-0.5512232527954692), DoubleVariable(-0.3972434687812601), DoubleVariable(-0.26375432383406694), DoubleVariable(-0.86583588004958), DoubleVariable(0.017775102422734987), DoubleVariable(1.7685549768394937), DoubleVariable(-1.3761346462231954), DoubleVariable(-0.3235202776284502), DoubleVariable(1.8796167780876918), DoubleVariable(-0.546340371795875), DoubleVariable(-0.9626265772599898), DoubleVariable(1.5309883517545932), DoubleVariable(-2.168963206081808), DoubleVariable(0.487391787841169), DoubleVariable(1.6581947153725451), DoubleVariable(1.307226805019227), DoubleVariable(-0.40854709915923043), DoubleVariable(-0.025334763775288288), DoubleVariable(-0.5610562553713916), DoubleVariable(-0.20191100767651), DoubleVariable(-0.737354259771987), DoubleVariable(0.08782467159723614), DoubleVariable(-1.2642747680929918), DoubleVariable(-0.45647287629788325), DoubleVariable(-0.24805868307854947), DoubleVariable(2.257406628673191), DoubleVariable(-1.0882888220938223), DoubleVariable(-0.16242641139884179), DoubleVariable(0.8561560098410343), DoubleVariable(-0.3903520448516901), DoubleVariable(0.3368809441167729), DoubleVariable(0.9750120090238915), DoubleVariable(-1.4957629141725002), DoubleVariable(0.2900069419370283), DoubleVariable(0.46931424119348625), DoubleVariable(-0.0954892439085163), DoubleVariable(-0.20099030223179082), DoubleVariable(0.3140165387498804), DoubleVariable(-0.3389379329790118), DoubleVariable(-1.2559037042827752), DoubleVariable(-0.2453539676063994), DoubleVariable(-1.316719063749877), DoubleVariable(1.5054647396058092), DoubleVariable(0.2504813024676347), DoubleVariable(0.8486068505665514), DoubleVariable(-1.5750451231814517), DoubleVariable(0.20457335789375178), DoubleVariable(-0.3145356962531621), DoubleVariable(-0.2624772893018299), DoubleVariable(1.5386690484602765), DoubleVariable(1.021036143454498), DoubleVariable(0.6467974987610067), DoubleVariable(1.321200629214219), DoubleVariable(-0.6964250848678334), DoubleVariable(0.06578474468567169), DoubleVariable(1.7224794192204174), DoubleVariable(-0.39934246330537193), DoubleVariable(1.2421654010962047), DoubleVariable(1.794994821084185), DoubleVariable(-0.40819056575733725), DoubleVariable(-1.597754623512033), DoubleVariable(1.1548493402555562), DoubleVariable(-0.532744473138997), DoubleVariable(-0.19832840673605065), DoubleVariable(-0.09418601751454814), DoubleVariable(1.4431855560261309), DoubleVariable(0.07320488988584375), DoubleVariable(0.2160938808471349), DoubleVariable(-0.3868076434130762), DoubleVariable(0.9149597803712617), DoubleVariable(0.4195738640292776), DoubleVariable(1.455812650845623), DoubleVariable(0.03903637150923303), DoubleVariable(-1.1122135758510543), DoubleVariable(-1.3594190054383883), DoubleVariable(-1.7605494242179531), DoubleVariable(0.042274282663419704), DoubleVariable(0.20247191417696547), DoubleVariable(-0.6782243483307928), DoubleVariable(-0.6737964568702882), DoubleVariable(0.6195540217553096), DoubleVariable(-0.9442882776937832), DoubleVariable(-1.8243795300286147), DoubleVariable(-0.8556759714011818), DoubleVariable(-0.4038612482854908), DoubleVariable(-1.4104705357909795), DoubleVariable(2.964761570308739), DoubleVariable(0.7081936234823052), DoubleVariable(0.3278396876379122), DoubleVariable(-1.7590057938908952), DoubleVariable(0.6532447840719982), DoubleVariable(-0.45631036452101265), DoubleVariable(2.873916913941114), DoubleVariable(-0.8200902054466152), DoubleVariable(-0.07007051061238194), DoubleVariable(0.769879119772949), DoubleVariable(0.7387238147575547), DoubleVariable(0.7730739537211979), DoubleVariable(-0.6142456478367558), DoubleVariable(-1.1086060099615587), DoubleVariable(1.0524949049377657), DoubleVariable(-0.23996934124252486), DoubleVariable(-2.1177763728016257), DoubleVariable(-0.112966787809591), DoubleVariable(-0.7180151872667961), DoubleVariable(0.1874995290045282), DoubleVariable(-2.0110361683884816), DoubleVariable(0.14294400188669487), DoubleVariable(0.05048213075185802), DoubleVariable(-0.19761034475369094), DoubleVariable(0.19645403903878683), DoubleVariable(1.4469685335269102), DoubleVariable(1.5719811631986822), DoubleVariable(-0.918463972555732), DoubleVariable(-0.47507288253931307), DoubleVariable(-0.09928795254054967), DoubleVariable(1.0404347048865996), DoubleVariable(-0.9348934001874223), DoubleVariable(0.254731954793423), DoubleVariable(-1.2291142909124122), DoubleVariable(-0.6025931961962759), DoubleVariable(1.540116293102878), DoubleVariable(-0.20914944991565385), DoubleVariable(-0.06620127699966337), DoubleVariable(-0.6230742870473972), DoubleVariable(2.207768555119846), DoubleVariable(0.561341054762084), DoubleVariable(-0.6390355542043789), DoubleVariable(-0.7489202845322124), DoubleVariable(0.8405686904827105), DoubleVariable(0.41089950839986467), DoubleVariable(1.435729026812664), DoubleVariable(-0.2668029692073655), DoubleVariable(-1.891056831904348), DoubleVariable(-0.458147795132649), DoubleVariable(-1.3409036184550134), DoubleVariable(-0.3528664143911149), DoubleVariable(0.9295705864018443), DoubleVariable(-1.2803980944585756), DoubleVariable(-0.3254697766651854), DoubleVariable(-1.1201610949340304), DoubleVariable(0.22172151256310768), DoubleVariable(0.19961929036429274), DoubleVariable(2.2701910582525717), DoubleVariable(-1.105309516167451), DoubleVariable(1.9229320554292668), DoubleVariable(-0.28857531591285085), DoubleVariable(0.6719942460511664), DoubleVariable(0.021152213784636064), DoubleVariable(1.6192960371865641), DoubleVariable(-2.1646562673822825), DoubleVariable(-1.3322782932043022), DoubleVariable(0.06767265109023515), DoubleVariable(1.3678716959068011), DoubleVariable(-0.3656715205517013), DoubleVariable(0.6473848635304379), DoubleVariable(1.4290850139895737), DoubleVariable(0.6993721488277568), DoubleVariable(1.0842375036402376), DoubleVariable(-0.4261120399059027), DoubleVariable(-0.01412273362531644), DoubleVariable(-1.4942091795783923), DoubleVariable(2.362363243439217), DoubleVariable(-1.4921921280221222), DoubleVariable(1.3411990014782873), DoubleVariable(0.056825716759539964), DoubleVariable(0.8873213923022433), DoubleVariable(-0.1321769284370743), DoubleVariable(-0.698520470183529), DoubleVariable(0.16665466898248218), DoubleVariable(-0.4140424775349704), DoubleVariable(-0.22491687403089453), DoubleVariable(-0.0067742265894817156), DoubleVariable(-0.38087004401163227), DoubleVariable(-0.7204951319653631), DoubleVariable(-0.7364075558272375), DoubleVariable(1.26421537970989), DoubleVariable(0.6318217886010683), DoubleVariable(-0.924329873495965), DoubleVariable(-0.7214290645222048), DoubleVariable(-1.2782355808664358), DoubleVariable(-0.17781752716837032), DoubleVariable(-0.4978517424316103), DoubleVariable(0.8376143109139265), DoubleVariable(-0.38313456002745283), DoubleVariable(-1.0533440755690011), DoubleVariable(-0.7915972496957695), DoubleVariable(-1.1449426187418557), DoubleVariable(0.447734306065392), DoubleVariable(-0.16151284959957365), DoubleVariable(0.1874148885457777), DoubleVariable(-8.210314179826063E-4), DoubleVariable(-0.5016953675535459), DoubleVariable(1.1389663601841082), DoubleVariable(0.030642665964248278), DoubleVariable(-1.2705280274042914), DoubleVariable(-0.059005346939115404), DoubleVariable(-0.8877482484070119), DoubleVariable(0.6481008342871397), DoubleVariable(-0.8189378560378673), DoubleVariable(-1.830782754440149), DoubleVariable(1.1220286814989888), DoubleVariable(-0.8599369133629846), DoubleVariable(1.2502920012023702), DoubleVariable(0.35690165569256704), DoubleVariable(-0.026172890673661933), DoubleVariable(-0.5352372978702822), DoubleVariable(0.7385253615350754), DoubleVariable(1.8795563197303968), DoubleVariable(-0.9342370506145082), DoubleVariable(0.46351790684419525), DoubleVariable(0.2787330202994677), DoubleVariable(-0.3885046439280424), DoubleVariable(0.2601494771365935), DoubleVariable(0.9238331133670102), DoubleVariable(-3.473642751233473E-4), DoubleVariable(-0.2811976875776175), DoubleVariable(0.3986374920062725), DoubleVariable(0.054678207936484424), DoubleVariable(-1.4688682471441048), DoubleVariable(-1.202433060647035), DoubleVariable(-1.7519448442483885), DoubleVariable(-0.2932449616697563), DoubleVariable(1.7244865951048223), DoubleVariable(1.1514166654037223), DoubleVariable(-1.3743716930664693), DoubleVariable(-1.0904634832227456), DoubleVariable(0.22339806349375754), DoubleVariable(0.44448232499665935), DoubleVariable(0.28567334851926574), DoubleVariable(0.6983576636418556), DoubleVariable(-1.3876791462696125), DoubleVariable(-1.0442485760916242), DoubleVariable(1.081733775172389), DoubleVariable(0.0408472167035468), DoubleVariable(0.6270783348102587), DoubleVariable(-1.3576522147611627), DoubleVariable(0.5557789260083329), DoubleVariable(0.16929953218265106), DoubleVariable(1.4908422788709157), DoubleVariable(0.8849145803046033), DoubleVariable(1.0472210663112613), DoubleVariable(2.206601218056143), DoubleVariable(-0.38819415730481405), DoubleVariable(0.13236322219910743), DoubleVariable(0.46703314653636274), DoubleVariable(0.5888325733487431), DoubleVariable(2.45506091235459), DoubleVariable(0.6984389101339219), DoubleVariable(1.0031307427257905), DoubleVariable(0.3932622366162589), DoubleVariable(-0.7020908490016121), DoubleVariable(1.424668390637333), DoubleVariable(-1.0406437755453186), DoubleVariable(0.0705225954400417), DoubleVariable(-1.5047497761085522), DoubleVariable(1.5894462940653749), DoubleVariable(-2.3588561333595703), DoubleVariable(0.06165981911494824), DoubleVariable(1.0733649952460704), DoubleVariable(1.2457872228524454), DoubleVariable(0.5832661367068164), DoubleVariable(-0.026337659819031335), DoubleVariable(-0.09987156056140549), DoubleVariable(1.495174361745939), DoubleVariable(1.026742063036825), DoubleVariable(-1.2044377354347648), DoubleVariable(2.2428183322833544), DoubleVariable(-0.537356680260859), DoubleVariable(0.6619758508908772), DoubleVariable(-0.10451379074806165), DoubleVariable(-2.4999563814517294), DoubleVariable(1.7619371239781834), DoubleVariable(-0.4028760690147136), DoubleVariable(-0.43758075879868297), DoubleVariable(-0.32371725596913803), DoubleVariable(0.2584268834719152), DoubleVariable(-0.8978757898302968), DoubleVariable(0.31587346986654935), DoubleVariable(0.11641550940024427), DoubleVariable(1.778589881275602), DoubleVariable(0.3036196702690207), DoubleVariable(0.5021808977577351), DoubleVariable(-1.0953162427193848), DoubleVariable(-0.7012030896570798), DoubleVariable(0.8812048215197141), DoubleVariable(-0.2704403144304711), DoubleVariable(-0.4036390376047702), DoubleVariable(0.29252010222511704), DoubleVariable(0.4043386738508766), DoubleVariable(0.8140629998809935), DoubleVariable(-1.2273020344570091), DoubleVariable(-0.1619820794942741), DoubleVariable(0.28946713040624417), DoubleVariable(-0.1507582591056522), DoubleVariable(1.0047296455663306), DoubleVariable(-0.978853474061017), DoubleVariable(-0.301573563199701), DoubleVariable(-0.02263847317141706), DoubleVariable(-0.9000468063209106), DoubleVariable(-0.8685306167082166), DoubleVariable(0.7746304407332324), DoubleVariable(0.8292607502969568), DoubleVariable(0.8560337386983788), DoubleVariable(0.690125611790832), DoubleVariable(1.233343791415479), DoubleVariable(-0.3879222031750329), DoubleVariable(-0.848728454572807), DoubleVariable(1.540611394137167), DoubleVariable(-0.6361819296096181), DoubleVariable(1.5936269238737886), DoubleVariable(-0.28603005793253006), DoubleVariable(0.8158724065921883), DoubleVariable(-1.3517295522557304), DoubleVariable(-0.6711495028520638), DoubleVariable(-0.7157017147396392), DoubleVariable(0.6081244581561421), DoubleVariable(-0.13639173524793755), DoubleVariable(0.4253510882776353), DoubleVariable(-0.49891608021755723), DoubleVariable(-0.46453670181513224), DoubleVariable(0.5704661568764418), DoubleVariable(-0.8551576569495856), DoubleVariable(1.5857032506050452), DoubleVariable(0.06234153917005418), DoubleVariable(0.25347486465469365), DoubleVariable(-0.0013126317443669952), DoubleVariable(1.1960652291087142), DoubleVariable(-1.0955358762904708), DoubleVariable(-1.2082648796528734), DoubleVariable(1.3831867963479312), DoubleVariable(-0.3651443551535034), DoubleVariable(0.3776217528355718), DoubleVariable(2.281670175713166), DoubleVariable(-0.06183680697015786), DoubleVariable(1.1029380443883658), DoubleVariable(0.06131971268008544), DoubleVariable(0.14822191571898435), DoubleVariable(-0.32880222586107255), DoubleVariable(-0.07179236294914795), DoubleVariable(-0.511340747474848), DoubleVariable(-0.7386980834721389), DoubleVariable(-1.1026823790423588), DoubleVariable(-0.2573983829566333), DoubleVariable(0.4846506281607033), DoubleVariable(-0.45348349462650445), DoubleVariable(-1.36833241468947), DoubleVariable(-0.2192979035360004), DoubleVariable(-0.04213819112237633), DoubleVariable(1.1800634702169448), DoubleVariable(0.4692355622754464), DoubleVariable(-1.5583386236124572), DoubleVariable(-1.390678882118494), DoubleVariable(0.08030131802771152), DoubleVariable(0.7634765315557566), DoubleVariable(0.34496308534549636), DoubleVariable(0.83091668213775), DoubleVariable(0.8881101160177997), DoubleVariable(0.2717530388664075), DoubleVariable(0.20074728664501684), DoubleVariable(-1.8700074496444579), DoubleVariable(0.20733761022330308), DoubleVariable(1.4075147636736631), DoubleVariable(0.37948961487052174), DoubleVariable(-0.3658032122182981), DoubleVariable(-1.0690255306485887), DoubleVariable(0.7716330405802562), DoubleVariable(0.4265565996168138), DoubleVariable(1.225223432194417), DoubleVariable(1.2956890038307904), DoubleVariable(0.08962579396440189), DoubleVariable(1.4943542671497168), DoubleVariable(-1.199633667387533), DoubleVariable(-0.48923316172930387), DoubleVariable(-0.8512942753029508), DoubleVariable(-0.05555699414177451), DoubleVariable(2.0016061663690285), DoubleVariable(-0.47538424443741206), DoubleVariable(0.30643575794570266), DoubleVariable(-0.10770031932421277), DoubleVariable(1.766639594863744), DoubleVariable(0.818948814175705), DoubleVariable(-0.8072101869309759), DoubleVariable(0.1838918467849848), DoubleVariable(-0.615498495673461), DoubleVariable(0.6586218147080898), DoubleVariable(0.9687680424204468), DoubleVariable(1.9786266292364483), DoubleVariable(1.0296562596816543), DoubleVariable(0.407239460599637), DoubleVariable(-2.176815875450094), DoubleVariable(-0.5108833792812822), DoubleVariable(0.34324345735886846), DoubleVariable(0.5608155389984074), DoubleVariable(0.038198664019236446), DoubleVariable(1.5068686769910278), DoubleVariable(-0.22220207421745122), DoubleVariable(-0.4404455343535717), DoubleVariable(1.5678835590550486), DoubleVariable(-1.2975119516146196), DoubleVariable(-1.0563544299699552), DoubleVariable(-0.7033254710894615), DoubleVariable(-0.36031319864583333), DoubleVariable(0.15593309968649777), DoubleVariable(0.03627320347846295), DoubleVariable(-0.19089900001303922), DoubleVariable(-0.4623780122276583), DoubleVariable(-0.8140321254542952), DoubleVariable(-0.7751007944703443), DoubleVariable(0.5814117694874656), DoubleVariable(1.6665796414429297), DoubleVariable(0.35159141335125), DoubleVariable(0.5404440518921051), DoubleVariable(1.1529029389163776), DoubleVariable(0.9821837826537575), DoubleVariable(0.5855463146834812), DoubleVariable(-0.6560644369442631), DoubleVariable(0.8116477410267215), DoubleVariable(0.23152755438626987), DoubleVariable(-2.075188969629445), DoubleVariable(0.25225614352368675), DoubleVariable(0.6682140305468509), DoubleVariable(0.041362502175730356), DoubleVariable(0.1935255575898557), DoubleVariable(1.1003252921846514), DoubleVariable(-1.0154437367934008), DoubleVariable(0.28244366145821503), DoubleVariable(0.08224308327839247), DoubleVariable(0.2946702291228748), DoubleVariable(-0.05124649115565972), DoubleVariable(-0.48061695801928017), DoubleVariable(-0.4275538918329563), DoubleVariable(1.7135089123124485), DoubleVariable(-2.2188163470908453), DoubleVariable(1.1484400387141742), DoubleVariable(-1.0726305955224988), DoubleVariable(-0.12743268594511206), DoubleVariable(1.3203258154007003), DoubleVariable(0.7539890070351842), DoubleVariable(0.6017290383086766), DoubleVariable(-1.6705555576933666), DoubleVariable(-0.1427460550636908), DoubleVariable(-1.7077636831987573), DoubleVariable(0.6679708824137275), DoubleVariable(-0.013812716893144835), DoubleVariable(0.5624187183063434), DoubleVariable(2.0695115659089236), DoubleVariable(-0.18385899135284822), DoubleVariable(-0.33799752407396255), DoubleVariable(0.016459834017675475), DoubleVariable(0.0931920565969203), DoubleVariable(0.9503624049707244), DoubleVariable(1.1928885741272546), DoubleVariable(-0.11620144541745404), DoubleVariable(-0.05830919723215551), DoubleVariable(-0.8195532045519227), DoubleVariable(-0.007535116418907831), DoubleVariable(-0.17815676750493242), DoubleVariable(-0.3921031009073316), DoubleVariable(-1.104555340177421), DoubleVariable(-0.9698411265881223), DoubleVariable(0.35332939098771154), DoubleVariable(-2.4813113829557825), DoubleVariable(0.19485290332446756), DoubleVariable(0.4197189120242061), DoubleVariable(-0.39640186245027664), DoubleVariable(0.09933079339139339), DoubleVariable(0.8726198108755384), DoubleVariable(0.02670393997010505), DoubleVariable(-1.3442378561602661), DoubleVariable(0.2989018345021038), DoubleVariable(1.1881173326603194), DoubleVariable(-1.2866337118143312), DoubleVariable(-0.8537406869168215), DoubleVariable(1.798588805170166), DoubleVariable(-1.244988455723394), DoubleVariable(0.02794514916978257), DoubleVariable(0.2575738159791447), DoubleVariable(0.7322204420175114), DoubleVariable(1.2322069658074475), DoubleVariable(-0.9657756334146909), DoubleVariable(0.9684040828806442), DoubleVariable(-0.8046343763758963), DoubleVariable(1.7118890975486925), DoubleVariable(0.979981249602731), DoubleVariable(0.1422748741784347), DoubleVariable(-0.23679774320946892), DoubleVariable(0.19886210065776774), DoubleVariable(-0.3011264547202931), DoubleVariable(1.5912088387771095), DoubleVariable(0.5391007051218202), DoubleVariable(-1.8489259871133368), DoubleVariable(-2.1145275359322246), DoubleVariable(1.4689405590375877), DoubleVariable(-1.2293028696549242), DoubleVariable(-0.31626410466822713), DoubleVariable(1.2530049150834346), DoubleVariable(-0.4386187021794181), DoubleVariable(0.6544467351210557), DoubleVariable(1.6577818278461796), DoubleVariable(-2.9972924223549318), DoubleVariable(0.03351846005982975), DoubleVariable(0.3094779626027391), DoubleVariable(0.011782404180338144), DoubleVariable(-1.1091358844672357), DoubleVariable(0.47393500082324513), DoubleVariable(0.28344134663365206), DoubleVariable(0.60354137941641), DoubleVariable(-0.11056152245065375), DoubleVariable(0.03720177929415801), DoubleVariable(0.7048797754631261), DoubleVariable(3.3326044948695475E-4), DoubleVariable(0.5315174351857174), DoubleVariable(0.39171581027742375), DoubleVariable(-0.3477737226600518), DoubleVariable(-0.5643250598310896), DoubleVariable(1.3376734652866853), DoubleVariable(0.026674718490059507), DoubleVariable(-0.024579963152154955), DoubleVariable(-1.2426452889580029), DoubleVariable(0.12499687009462294), DoubleVariable(1.4100905713092968), DoubleVariable(0.9002679496784327), DoubleVariable(-1.376029343503054), DoubleVariable(0.7923036011368376), DoubleVariable(-0.8619647298104072), DoubleVariable(0.5092243090867263), DoubleVariable(0.9346511536023925), DoubleVariable(-1.0814677544305302), DoubleVariable(-1.3598914014354007), DoubleVariable(-0.5188963181575188), DoubleVariable(2.1088643184068636), DoubleVariable(0.23419527425139303), DoubleVariable(1.8372427065535577), DoubleVariable(0.10738831163682619), DoubleVariable(-1.2230837417548783), DoubleVariable(-0.03739079038010876), DoubleVariable(-0.5124381046163509), DoubleVariable(0.2124072886442283), DoubleVariable(-1.0883862439373402), DoubleVariable(0.3804460448927564), DoubleVariable(0.5140978716032825), DoubleVariable(0.5510238442381876), DoubleVariable(-2.43977225889852), DoubleVariable(-2.023839559321564), DoubleVariable(-1.6753856423221145), DoubleVariable(0.6421087549399782), DoubleVariable(-0.6417329787926628), DoubleVariable(-0.7172156831079337), DoubleVariable(1.0392226295808487), DoubleVariable(0.2516817213143023), DoubleVariable(-0.9644139257015044), DoubleVariable(0.6791611631745484), DoubleVariable(1.0598366108517565), DoubleVariable(0.358544585790346), DoubleVariable(-1.6476806723471533), DoubleVariable(-1.6375629081301397), DoubleVariable(0.11383546580764205), DoubleVariable(-0.11243634392385453), DoubleVariable(1.365304632111827), DoubleVariable(0.0687056418305811), DoubleVariable(-0.4971542304501426), DoubleVariable(0.7153800453106728), DoubleVariable(-0.2486585189426058), DoubleVariable(-0.1918639618335773), DoubleVariable(-2.0022937302851016), DoubleVariable(1.6422656326836802), DoubleVariable(0.3332950136665697), DoubleVariable(-0.2021279072890263), DoubleVariable(-2.207092631061381), DoubleVariable(0.5746877626842122), DoubleVariable(-2.151607241229539), DoubleVariable(-0.14589226403604041), DoubleVariable(0.7567768461760452), DoubleVariable(-0.3514990679583147), DoubleVariable(0.17590763691191716), DoubleVariable(0.13245529253401073), DoubleVariable(-0.270812667130653), DoubleVariable(0.41286747006896996), DoubleVariable(0.6201035954455293), DoubleVariable(2.189356539528558), DoubleVariable(2.2384859697941977), DoubleVariable(0.48172353076924607), DoubleVariable(0.06989078657581327), DoubleVariable(-0.463498180458004), DoubleVariable(-0.8276669829129235), DoubleVariable(-1.9038225744384996), DoubleVariable(1.178014941562525), DoubleVariable(-0.009059581598750498), DoubleVariable(-1.505044474752082), DoubleVariable(0.527544985177586), DoubleVariable(1.6541398561432312), DoubleVariable(0.03374210114120298), DoubleVariable(1.509889013079397), DoubleVariable(1.501408389121439), DoubleVariable(-2.148168851875569), DoubleVariable(-0.07043061099904964), DoubleVariable(1.833426864318815), DoubleVariable(-1.2977076295627894), DoubleVariable(-1.048808176927672), DoubleVariable(-0.518005354485777), DoubleVariable(-1.3907079480194517), DoubleVariable(2.409472563307459), DoubleVariable(-0.2029127015377248), DoubleVariable(-0.1975851912291603), DoubleVariable(0.007216293618106014), DoubleVariable(-0.3367062726532057), DoubleVariable(1.4907429283512699), DoubleVariable(0.037977203834811936), DoubleVariable(-1.0171908277379322), DoubleVariable(1.6529243401172762), DoubleVariable(-0.26926587895436943), DoubleVariable(0.0623088339185088), DoubleVariable(0.8272045853688242), DoubleVariable(0.23201401185237858), DoubleVariable(-0.06484295685460764), DoubleVariable(0.5492545397741808), DoubleVariable(-0.5651593200935684), DoubleVariable(1.0375991485665235), DoubleVariable(1.31542652073435), DoubleVariable(0.4811047714477383), DoubleVariable(0.33672070059098547), DoubleVariable(1.2380958392484525), DoubleVariable(0.5161684699349467), DoubleVariable(-0.5607991393624421), DoubleVariable(-0.11963308572641196), DoubleVariable(0.1484634442516227), DoubleVariable(-1.0650945348188505), DoubleVariable(0.16595588230771838), DoubleVariable(0.2875266154359601), DoubleVariable(1.1187538752337562), DoubleVariable(-0.31989654042571397), DoubleVariable(-0.6939193404702486), DoubleVariable(0.7423451594353134), DoubleVariable(-0.27734991094196076), DoubleVariable(-1.1759539998109958), DoubleVariable(-1.0095649975857124), DoubleVariable(0.28427072849192697), DoubleVariable(-0.5924463198601062), DoubleVariable(-0.22202963003422702), DoubleVariable(-0.1998879459834532), DoubleVariable(-0.9482636722756722), DoubleVariable(-0.32674384142379864), DoubleVariable(-0.2988062844254825), DoubleVariable(0.44599651638527354), DoubleVariable(-1.6138231501787097), DoubleVariable(-0.2686250353016398), DoubleVariable(-1.3505791291163003), DoubleVariable(-1.0055352989876098), DoubleVariable(-1.1792369629644759), DoubleVariable(-2.081434538368295), DoubleVariable(-0.2080162143247608), DoubleVariable(-0.6056219521532019), DoubleVariable(-0.8003513317788644), DoubleVariable(-1.5727572655904982), DoubleVariable(-0.3542179815323537), DoubleVariable(-1.8894768454516349), DoubleVariable(0.5496539828150617), DoubleVariable(0.6223471986946068), DoubleVariable(-0.6291917719612289), DoubleVariable(0.0456256278771087), DoubleVariable(0.5808825794374727), DoubleVariable(-1.1393438101904831), DoubleVariable(1.2575484701403685), DoubleVariable(-0.35861093049959836), DoubleVariable(0.3094155578558955), DoubleVariable(-0.5209625318974023), DoubleVariable(0.3373784248426197), DoubleVariable(-1.0446904745949295), DoubleVariable(1.0764245508396426), DoubleVariable(0.28087374027466544), DoubleVariable(-1.4394172664318146), DoubleVariable(1.4478679547283326), DoubleVariable(0.4195655906898962), DoubleVariable(2.15729271026676), DoubleVariable(0.15744476301836274), DoubleVariable(0.9328120312201457), DoubleVariable(-0.8996682659769057), DoubleVariable(-0.5565129902924489), DoubleVariable(-1.3526575683806554), DoubleVariable(-0.23293213255117964), DoubleVariable(-1.4306012754419508), DoubleVariable(1.6517049376681838), DoubleVariable(-0.6275075954709056), DoubleVariable(1.1547321899517655), DoubleVariable(-0.39342139092776757), DoubleVariable(-1.152233703100901), DoubleVariable(0.7847091394178866), DoubleVariable(-0.9490376816995942), DoubleVariable(-1.5657926871390062), DoubleVariable(0.10991141560690933), DoubleVariable(1.2481524654272047), DoubleVariable(-0.42331951015224095), DoubleVariable(0.5517116886044818), DoubleVariable(-0.19131796046943847), DoubleVariable(0.18298268940265303), DoubleVariable(0.3408268422441192), DoubleVariable(-0.5674781079764816), DoubleVariable(-0.3034685493431189), DoubleVariable(0.8411086514665533), DoubleVariable(-0.7696766298756663), DoubleVariable(-0.04302454950012105), DoubleVariable(-1.6559867690081003), DoubleVariable(-0.885861901856907), DoubleVariable(1.2313440123290154), DoubleVariable(0.2212937597709196), DoubleVariable(1.6033908577807237), DoubleVariable(-0.3506030140490641), DoubleVariable(-0.030151179918170904), DoubleVariable(-1.5714168676613962), DoubleVariable(-1.3516732683037331), DoubleVariable(0.44853071731110367), DoubleVariable(0.044371393100516486), DoubleVariable(-0.8375689149214897), DoubleVariable(-1.0401364227307603))"
       ]
      }
     ],
     "prompt_number": 41
    },
    {
     "cell_type": "code",
     "collapsed": false,
     "input": [],
     "language": "python",
     "metadata": {},
     "outputs": []
    }
   ],
   "metadata": {}
  }
 ]
}