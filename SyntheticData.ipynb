{
 "metadata": {
  "name": ""
 },
 "nbformat": 3,
 "nbformat_minor": 0,
 "worksheets": [
  {
   "cells": [
    {
     "cell_type": "code",
     "collapsed": false,
     "input": [
      "import cc.factorie._\n",
      "import cc.factorie.directed._\n",
      "import la.{DenseTensor2, Tensor2, DenseTensor1, Tensor1}\n",
      "import cc.factorie.directed.{MaximizeMultivariateGaussianCovariance, MaximizeMultivariateGaussianMean, MultivariateGaussian, Gaussian}\n",
      "import collection.mutable.{Map, ArrayBuffer}\n",
      "import cc.factorie.variable.{CategoricalDomain, CategoricalVariable, DoubleVariable, MutableDiscreteVar}"
     ],
     "language": "python",
     "metadata": {},
     "outputs": [
      {
       "output_type": "stream",
       "stream": "stderr",
       "text": []
      },
      {
       "output_type": "stream",
       "stream": "stdout",
       "text": []
      }
     ],
     "prompt_number": 1
    },
    {
     "cell_type": "code",
     "collapsed": false,
     "input": [
      "object spinDomain extends CategoricalDomain[Char](List('a', 'r', 'n', 'd', 'c', 'q', 'e', 'g', 'h', 'i', 'l', 'k', 'm', 'f', 'p', 's', 't', 'w', 'y', 'v', '-'))  "
     ],
     "language": "python",
     "metadata": {},
     "outputs": []
    },
    {
     "cell_type": "code",
     "collapsed": false,
     "input": [
      "class GREMLINWeightGenerator(\n",
      "    val domain: spinDomain, \n",
      "    val numSites: Int, \n",
      "    val edgeProbability: Double\n",
      "    val localMean: Double = 0.0\n",
      "    val localVariance: Double = 1\n",
      "    val pairwiseMean: Double = 0.0\n",
      "    val pairwiseMean: Double = 1)  {\n",
      "    \n",
      "    implicit val random = new scala.util.Random(0)\n",
      "                                                                                   \n",
      "    val allEdges = (for(i <- 0 until numSites; j <- 0 until numSites if i < j) yield (i, j)).toSet\n",
      "    val activeEdges = drawFromSet(edgeProbability, allEdges)\n",
      "    \n",
      "    def drawFromSet[A](p: Double, s: Set[A]): Set[A] = {\n",
      "        val drawn = for(i <- s if random.nextDouble < p) yield i\n",
      "        drawn\n",
      "    }  \n",
      "    \n",
      "    def generateLocalMasses: Seq[DenseTensor1] = {\n",
      "        implicit val model = DirectedModel()\n",
      "        val mean = new DoubleVariable(localMean)\n",
      "        val variance = new DoubleVariable(localVariance)\n",
      "        val localMasses = for(i <- 0 until numSites) yield new DenseTensor1(domain.length)\n",
      "        for(massTensor <- localMasses){\n",
      "            for(i <- 0 until massTensor.dim1){\n",
      "                val mass = new DoubleVariable :~ Gaussian(mean, variance)\n",
      "                weightTensor(i) = mass.value\n",
      "            }\n",
      "        }\n",
      "    }      \n",
      "    def generatPairwiseMasses: Map[Pair[Int, Int], DenseTensor2] = {                    \n",
      "        val pairMasses = Map[Pair[Int, Int], DenseTensor2]()\n",
      "        val mean = new DoubleVariable(pairwiseMean)\n",
      "        val variance = new DoubleVariable(pairwiseVariance)\n",
      "        for(e <- drawnEdges){\n",
      "            pairMasses += (e -> new DenseTensor2(numSites, numSites))\n",
      "            for(a1 <- 0 until domain.length; a2 <- 0 until domain.length if a1 <= a2) {\n",
      "                val mass = new DoubleVariable :~ Gaussian(mean, variance)\n",
      "                pairWeights(e)(a1, a2) = w.value\n",
      "                pairWeights(e)(a2, a1) = w.value\n",
      "    }\n",
      "}\n",
      "drawnEdges"
     ],
     "language": "python",
     "metadata": {},
     "outputs": [
      {
       "output_type": "stream",
       "stream": "stderr",
       "text": []
      },
      {
       "output_type": "stream",
       "stream": "stdout",
       "text": []
      },
      {
       "metadata": {},
       "output_type": "pyout",
       "prompt_number": 2,
       "text": [
        "Set((2,5), (8,9), (3,9), (0,9), (7,8), (5,9), (0,7), (1,6), (4,9), (0,4), (4,8), (2,4), (3,7), (0,1), (5,8), (5,6), (0,6))"
       ]
      }
     ],
     "prompt_number": 2
    },
    {
     "cell_type": "code",
     "collapsed": false,
     "input": [
      "class Spin(startvalue: Char, val i: Int) extends CategoricalVariable[Char](startvalue){\n",
      "    def domain = spinDomain\n",
      "    var cont: IndexedSeq[Spin] = null\n",
      "    def setContainer(c: IndexedSeq[Spin]): Unit = {this.cont = c}\n",
      "    override def toString = this.value.toString\n",
      "    \n",
      "}"
     ],
     "language": "python",
     "metadata": {},
     "outputs": [
      {
       "output_type": "stream",
       "stream": "stdout",
       "text": []
      },
      {
       "output_type": "stream",
       "stream": "stderr",
       "text": []
      }
     ],
     "prompt_number": 3
    },
    {
     "cell_type": "code",
     "collapsed": false,
     "input": [
      "def generateSpinVector(s: String): IndexedSeq[Spin] = {\n",
      "    val variables = for((s, i) <- s.zipWithIndex) yield new Spin(s, i)\n",
      "    variables.foreach(_.setContainer(variables))\n",
      "    variables\n",
      "}"
     ],
     "language": "python",
     "metadata": {},
     "outputs": [
      {
       "output_type": "stream",
       "stream": "stdout",
       "text": []
      },
      {
       "output_type": "stream",
       "stream": "stderr",
       "text": []
      }
     ],
     "prompt_number": 4
    },
    {
     "cell_type": "code",
     "collapsed": false,
     "input": [
      "import cc.factorie.model.{Parameters, Model, Factor, DotFamilyWithStatistics1, DotFamilyWithStatistics2}\n",
      "import cc.factorie.la.{DenseTensor1, DenseTensor2}"
     ],
     "language": "python",
     "metadata": {},
     "outputs": [
      {
       "output_type": "stream",
       "stream": "stderr",
       "text": []
      },
      {
       "output_type": "stream",
       "stream": "stdout",
       "text": []
      }
     ],
     "prompt_number": 5
    },
    {
     "cell_type": "code",
     "collapsed": false,
     "input": [
      "class PottsModel(\n",
      "    val num: Int, \n",
      "    val spinDomain: CategoricalDomain[Char], \n",
      "    val pairwiseWeights: Map[(Int, Int), DenseTensor2],\n",
      "    val localWeights: IndexedSeq[DenseTensor1])\n",
      "    extends Model with Parameters {\n",
      "    val domSize = spinDomain.size\n",
      "    \n",
      "    \n",
      "    val localFamilies = for(w <- localWeights) yield new DotFamilyWithStatistics1[Spin] {val weights = Weights(localWeights(0))}\n",
      "    \n",
      "    val pairwiseFamilies = Map[(Int, Int), DotFamilyWithStatistics2[Spin, Spin]]()\n",
      "    for(k <- pairwiseWeights.keys) { \n",
      "        pairwiseFamilies += (k -> new DotFamilyWithStatistics2[Spin, Spin] {\n",
      "            val weights = Weights(pairwiseWeights(k))\n",
      "        })\n",
      "    }\n",
      "            \n",
      "    def factors(variables: Iterable[Var]): Iterable[Factor] = {\n",
      "        val results = new ArrayBuffer[Factor]\n",
      "        \n",
      "        val spins = variables collect {case s: Spin => s}\n",
      "        \n",
      "        for(s <- spins){\n",
      "                val i = s.i\n",
      "                val localFamiliy = localFamilies(i)\n",
      "                results += localFamiliy.Factor(s)\n",
      "                \n",
      "                val spinContainer = s.cont\n",
      "                val pKeys = pairwiseFamilies.keys.filter((k: Pair[Int, Int]) => k._1 == i || k._2 == i)\n",
      "                for(k <- pKeys) {\n",
      "                    val pairwiseFamily = pairwiseFamilies(k)\n",
      "                    results += pairwiseFamily.Factor(spinContainer(k._1), spinContainer(k._2))\n",
      "                }\n",
      "        }\n",
      "        results\n",
      "    }\n",
      "}"
     ],
     "language": "python",
     "metadata": {},
     "outputs": [
      {
       "output_type": "stream",
       "stream": "stdout",
       "text": []
      },
      {
       "output_type": "stream",
       "stream": "stderr",
       "text": []
      }
     ],
     "prompt_number": 6
    },
    {
     "cell_type": "code",
     "collapsed": false,
     "input": [
      "import cc.factorie.infer.{VariableSettingsSampler, InferByGibbsSampling, GibbsSampler}"
     ],
     "language": "python",
     "metadata": {},
     "outputs": [
      {
       "output_type": "stream",
       "stream": "stderr",
       "text": []
      },
      {
       "output_type": "stream",
       "stream": "stdout",
       "text": []
      }
     ],
     "prompt_number": 20
    },
    {
     "cell_type": "code",
     "collapsed": false,
     "input": [
      "val firstmodel = new PottsModel(3, spinDomain, pairWeights, localWeights)"
     ],
     "language": "python",
     "metadata": {},
     "outputs": [
      {
       "output_type": "stream",
       "stream": "stderr",
       "text": []
      },
      {
       "output_type": "stream",
       "stream": "stdout",
       "text": []
      },
      {
       "metadata": {},
       "output_type": "pyout",
       "prompt_number": 8,
       "text": [
        "PottsModel@30d3cfab"
       ]
      }
     ],
     "prompt_number": 8
    },
    {
     "cell_type": "code",
     "collapsed": false,
     "input": [
      "def generateSampleStrings(N:Int, model: PottsModel, variables: Seq[Spin], burnin: Int = 500): Seq[String] = {\n",
      "    implicit val random = new scala.util.Random(0)                                                                                                   \n",
      "    val sampler = new GibbsSampler(model)\n",
      "    val strings = new ArrayBuffer[String]\n",
      "    for(i <- 0 until N+burnin) {\n",
      "        sampler.processAll(variables)\n",
      "        if(i > burnin) strings += variables.mkString\n",
      "    }\n",
      "    strings\n",
      "}"
     ],
     "language": "python",
     "metadata": {},
     "outputs": [
      {
       "output_type": "stream",
       "stream": "stderr",
       "text": []
      },
      {
       "output_type": "stream",
       "stream": "stdout",
       "text": []
      }
     ],
     "prompt_number": 47
    },
    {
     "cell_type": "code",
     "collapsed": false,
     "input": [
      "val strings = generateSampleStrings(500, firstmodel, v2)"
     ],
     "language": "python",
     "metadata": {},
     "outputs": [
      {
       "output_type": "stream",
       "stream": "stderr",
       "text": []
      },
      {
       "output_type": "stream",
       "stream": "stdout",
       "text": []
      },
      {
       "metadata": {},
       "output_type": "pyout",
       "prompt_number": 49,
       "text": [
        "ArrayBuffer(edevaeddf-, edeevefqvc, pdcefslqvs, metcgslive, mecfgtiwev, geqmgtfnev, gwp-aaeqlt, fpieawq-w-, ypicrwqtw-, ypndpwqet-, enmwnwygtv, aepqcepgeq, edegcgdglm, edpqpgdewm, edevigrhlm, edkpsgdqlm, qdpesgdqcm, edfvpgdfpm, edetpgdspm, edwwpgffpm, edwmpifkpw, pmwvfiefpc, pawwwikdfc, prhfkgkdsc, mpeemvtgqf, mtepmvqp-e, kptcmqwpae, ketgdqwqce, pcvqee-eee, fdvqddneem, qppqlgddnm, qdwqpeleqm, p-dkpkedqp, pcgwlffewv, dewwpeepfm, dpcdceeppt, decqlpehpt, dccqppg-lm, fcqqeppecm, fnfqepeecm, fmeqepaeit, deegkpemig, dpgekfepw-, dppnffqcg-, dqpvfwqewm, dpiqaweelm, dciqvweegm, dpiqvwqefv, egeqhwqdfm, esmqwwqvvm, dppkcwekvm, acmvcfekvm, dppvcgeecm, dppvvsepcm, qvp-sgfqvm, qdsevmdqcw, epeevmeqcw, dpepvpqncy, dpepvmepfg, dpedemeqcg, dpveemevvg, dpdevlqqlg, dqeevtglwg, dqyeff-yee, dcmefc-teg, dpeefmdgwg, dvqgalgcgg, dpedfpepqe, dqfgpe-ctd, demhpe-cnm, de-vte-mpq, deevichkpg, dsqlkldfpt, dqpqkedfpy, dshgkgdfpg, dpprkgefpg, dqprcggceq, dwfeeggqcm, ymf-pvgns-, dwempc-gt-, edtgpmfetp, qveypefet-, pmcvpefdtm, edvyaedfcw, eddwv-gecw, eddrktdewp, edvwptdewp, edddptveqp, ewlyp-flqe, dvr-feelae, plwefdeqee, pmqeffyqee, wdvesvvgee, nfqestvree, wrhfmvtvee, mpeggqcgae, vppqdev-ge, vwtydpvmne, vpeqdwqsqe, vpwgpieewe, dpwqptqewh, epfawtdewh, drlpitqcwf, dpepifqpwg, dwtpfqep-g, dppgfgep-h, dqwnwigpan, dpwwlgkdvl, gswtfgdigl, gqpkwgkpfl, dpfwvgepnm, dwegvggcnl, dseivmdpfl, ddegvedpft, qdegiedp-t, qdvwiedpfm, qdvqvedpnm, edeedldqcw, edkpt-qqpw, emept-fqpw, eykps-dypw, edemtmdepw, elwqi-ifpw, ewapvirqc-, epwefyfhgn, edt-fadqev, edwefadqen, edyefadqe-, edymctvwev, ey-ectvqen, wvleccevvi, dpmdceecvm, decdve-vve, pqcgfeskae, pdcffefkae, edfvweddfq, mppeweggpq, mepgwgpgpq, mqpgpgkgpq, -wwgwgefpq, tkpgwgtfpq, mpkgwvtgeq, mawgfvvgee, evvghwqew-, dpismwepes, dpipfadteh, dpfafageqa, dqqgfveelg, dqwqpvgelm, dqcqlpeest, dpw-wpgnlt, dpp-we-ntt, drppwwqelt, dpigawqpfq, dwiaewqelq, dmigvweelq, drgiteeplq, dpmeteeqlq, dcmetefqlv, edgdvfdqcw, edepvmdqcw, edcefmfqcw, eywpvmfqcm, pde-vcsqcm, pyevv-ftkm, pdempwlnt-, pdgspwgdt-, ew-dtwgdt-, ypeetvcglg, ypeepqcqsg, ypseppvwpg, vagepgpwsm, clwvpgedpm, eigvppafpm, evcmppafpn, eyweppvlqe, cpfpphegqp, -mmgerdgae, -pvgfeewhe, ypvsaedege, qpggvppegp, edews-degw, edelvmdhcw, epeedmfwcg, vpnedmeafg, dqeqkf-prg, dqhskm-pfg, dqcgvmppfg, dffpemepcd, nctkeepvcq, pcveeepqcq, pkveeefqcq, pmeee-fqcq, pddeeefqcq, pmveeefqfq, mvvevepdfq, pfeeeefdfq, cdfeeegdfq, p-veieeqfq, pieeeeedfq, pedeee-dfm, pmvveepdfq, f-peegeleq, wneetdeqpq, vitep-ewpp, pdqkpiflqp, pgwppiglqp, edwkpsdvqp, eddknedfdp, edvvhedfdw, edpvtedge-, ngmmcavgtv, avqhgwfgtm, akppqwtnlm, emfqpvperm, yeeqpmndpm, cdwwpgpfpm, epwcpgnfpm, cpwgppmfpp, cfgwepmfcp, cfewemnfcw, ndalvmdqcw, edeedmdacw, edetvmdgcw, edepeefgsm, qvvqsdfecm, qtewvedecm, qdevigdpfq, edeqivqpfg, dpegvfeecv, degqkeltem, deq-gd-qfm, pme-vm-qcm, qdeqemdecm, qdeqved-cm, qdclvedelm, qd-vttdklv, eplwtepelm, qpcyvelpcm, qdcqsddeem, qvvqfefegm, dmvtveetit, dlwgwpeplt, dpfywpeeim, derqfgeelm, dmfqppeepm, fpcqpee-pm, ypcqppc-pm, ypgqppe-pm, dpfhpge-pm, dpw-p-eelm, dcwvfgefpq, dewvtgefpm, deewpgnfpm, dewwpgkcpm, ircdqpefpw, eievtqvfhw, eplrtqqvrw, deevtqwkpw, p-evt-ffpw, nrlltmq-pw, wemntwq-d-, yppntwqpd-, dplmlwqplv, dp-qtwqplm, dr-qftqeee, dedqftqeee, dpwqftdeqe, dseqqrdeee, ed-qftpewe, pcwwfmpvve, mweeg-tdee, mdeefvdgae, edvgfedkae, edqpredkae, edpvfedkvm, edcppedkpm, edcvppdflm, emw-sgrewm, epevvfrevm, ypeqfgrewm, dppqfdepwg, dettfyqpw-, dewrft-ewd, dqqqef-ewm, demqfe-eie, dpwqfpeeim, dmfqfpeegm, qmwvfpeevm, dpwqfgneem, dewqfgkegg, dppykgdveq, dphvigereq, rwavqgeypq, fppergcfpq, mpedqvcdpq, mieetgnqpq, wefetgiqpq, deqetgnqpq, aekewgiipq, mpfewge-pq, dgpelggply, depgtweew-, de-qptqew-, plesitgswp, edeestdvwf, edfcrtdfw-, ed-cptdaw-, edqtsldew-, edqqptdewm, edaqpgdeem, edfqcadeev, eddwitdfep, edcgftddme, edpfhedgve, edvgfefkae, pdewielkae, pdevve-dv-, pedvpekdt-, pfcmiekdfq, pevteepdfq, kaigegdelq, g-egyveela, seqg-vwfea, ktteeapdeq, pegeegkqcm, pqp-egpcem, fqywfqferw, dkfpvqtpfg, dqak-mspcp, pdqyemseqp, pdhspafpqp, qqgtspep-m, dmgpppegpm, -apvtgdwpm, -peppgvwpm, vpkfpgvwcm, vsfdvgnqcm, edfmsgdncm, qdp-egdqcm, edfpvgdncn, ede-vedqfq, edeeeeddtr, edtqledeth, depgqe-cnd, decwmeecae, --cdmirwhp, wpapsiecqp, dpwtmpeewp, defqsveeqm, dcevtkgegm, mwgvdpgeic, fwgldgvelq, vpwdqvrmlq, vpeeqgcqpq, epwepefqsm, ipt-pewqpm, pvcepgkqpq, pefewgplqf, rpppqgeg-m, apevigep-m, dpappgep-g, dqwpfiepfg, dpwqkmepfg, dwnegm-pfg, drecvmepfg, dpegvmdpft, dpegvngpll, ddegvggpft, qqfpwpep-t, dpfqwpep-t, dedgweep-t, dmpkffep-g, dppgffepws, dwpgftetee, dmwgfiegew, epwphtvhew, eppdftkwee, dqcwfelmee, dppffedtae, ddmdfedvve, edwkfsdhem, edp-cgdqcm, elt-fedqee, edvefedevq, drcveedk-w, dptvfregew, dmvek-etcq, dpstdcencg, vwecvmewcg, vpfeemnwcg, vfefemhwcd, gevpeerpwd, gqdgeqrv-d, pddgeqfqcq, pnteiesgtq, pdcgdeigte, qdvgledeqe, hdcqerfeem, hdi-aafeim, etiqewqeqt, dpmgcwqp--, dslqwwqp-t, dpipcwqp-t, dplriqqpkg, dpepiqepwg, dpelfpep-w, dpwpfikp-s, dqwglgkp-y, dpmgtfepqy, dpeit-vmpw, vwlmt-v-pq, fpttdedine, kdcvdedeae, lqgqdepdae, kevgdepkae, lwpgfeecae, deqgfemcve, lfvgfemecq, fevveepfcw, pcmrtmkqpw, pdeet-fqcw, eddpveggck, edeavedefw, dpfsemfpcg, knesempsws, sqieawpswm, cpiweweecm, dppqvdeegt, dpdqapeett, dpeqkeeect, dppgsdeedt, dhdwteetcw, dsqdfndwee, -gcgftdwee, -veeefageq, svvgecpgeq, ageevvtgea, awyafagiea, dwwafpetea, eleaeigiha, sdwhwikiha, pvwawifitc, ppmfvwfcwc, ediea-dwwc, edetv-dewc, eseefqffwc, edpwffqewv, qdpdawdef-, epi-wwqefm, eppqcwqde-, metemtpqaf, -gqe-edqcp, -dwepgdwwc, edpfftv-gc, gwclfpm-gl, gewlfpm-gm, aewpfeiege, dicqeeieem, qqe-itqlem, p-e-vtewvl, gpewvgevql, dpldwsecvn, dwpecs-qe-, ewpwcf-dvw, pepgffmkre, p-efetedap, fwqwdepct-, fvvcdwqet-, kpegdwqfdq, cpglnwlflm, edfgwp-eqt, pdfqwhs-qe, wmflptqeee, ymdemfedae, wftqtdp-pl, wm-cmes-pe, w-cepeefqe, wlcwfew-ge, wvvqfqw-ke, w-vqdqwvae, wkeeeqtdae, pcmqwepdvt, fnqewnpqnq, mqaedgpqlq, mngeqgpqpq, eepewgaqfq, mepewgpqpq, pcfewgkqsq, tcfewgetpq, twfrwggieq, mcfmwgpefh, mevgdekpfe, kfffeewdvq, cpdfwefcfv, empwwetef-, mffwwekdae, py-yfekdae, petgeepkae)"
       ]
      }
     ],
     "prompt_number": 49
    },
    {
     "cell_type": "code",
     "collapsed": false,
     "input": [
      "import play.api.libs.json"
     ],
     "language": "python",
     "metadata": {},
     "outputs": [
      {
       "output_type": "stream",
       "stream": "stdout",
       "text": []
      },
      {
       "output_type": "stream",
       "stream": "stderr",
       "text": []
      }
     ],
     "prompt_number": 50
    },
    {
     "cell_type": "code",
     "collapsed": false,
     "input": [
      "json.JsArray(strings.map(json.JsString))"
     ],
     "language": "python",
     "metadata": {},
     "outputs": [
      {
       "output_type": "stream",
       "stream": "stdout",
       "text": []
      },
      {
       "output_type": "stream",
       "stream": "stderr",
       "text": []
      },
      {
       "metadata": {},
       "output_type": "pyout",
       "prompt_number": 52,
       "text": [
        "[\"edevaeddf-\",\"edeevefqvc\",\"pdcefslqvs\",\"metcgslive\",\"mecfgtiwev\",\"geqmgtfnev\",\"gwp-aaeqlt\",\"fpieawq-w-\",\"ypicrwqtw-\",\"ypndpwqet-\",\"enmwnwygtv\",\"aepqcepgeq\",\"edegcgdglm\",\"edpqpgdewm\",\"edevigrhlm\",\"edkpsgdqlm\",\"qdpesgdqcm\",\"edfvpgdfpm\",\"edetpgdspm\",\"edwwpgffpm\",\"edwmpifkpw\",\"pmwvfiefpc\",\"pawwwikdfc\",\"prhfkgkdsc\",\"mpeemvtgqf\",\"mtepmvqp-e\",\"kptcmqwpae\",\"ketgdqwqce\",\"pcvqee-eee\",\"fdvqddneem\",\"qppqlgddnm\",\"qdwqpeleqm\",\"p-dkpkedqp\",\"pcgwlffewv\",\"dewwpeepfm\",\"dpcdceeppt\",\"decqlpehpt\",\"dccqppg-lm\",\"fcqqeppecm\",\"fnfqepeecm\",\"fmeqepaeit\",\"deegkpemig\",\"dpgekfepw-\",\"dppnffqcg-\",\"dqpvfwqewm\",\"dpiqaweelm\",\"dciqvweegm\",\"dpiqvwqefv\",\"egeqhwqdfm\",\"esmqwwqvvm\",\"dppkcwekvm\",\"acmvcfekvm\",\"dppvcgeecm\",\"dppvvsepcm\",\"qvp-sgfqvm\",\"qdsevmdqcw\",\"epeevmeqcw\",\"dpepvpqncy\",\"dpepvmepfg\",\"dpedemeqcg\",\"dpveemevvg\",\"dpdevlqqlg\",\"dqeevtglwg\",\"dqyeff-yee\",\"dcmefc-teg\",\"dpeefmdgwg\",\"dvqgalgcgg\",\"dpedfpepqe\",\"dqfgpe-ctd\",\"demhpe-cnm\",\"de-vte-mpq\",\"deevichkpg\",\"dsqlkldfpt\",\"dqpqkedfpy\",\"dshgkgdfpg\",\"dpprkgefpg\",\"dqprcggceq\",\"dwfeeggqcm\",\"ymf-pvgns-\",\"dwempc-gt-\",\"edtgpmfetp\",\"qveypefet-\",\"pmcvpefdtm\",\"edvyaedfcw\",\"eddwv-gecw\",\"eddrktdewp\",\"edvwptdewp\",\"edddptveqp\",\"ewlyp-flqe\",\"dvr-feelae\",\"plwefdeqee\",\"pmqeffyqee\",\"wdvesvvgee\",\"nfqestvree\",\"wrhfmvtvee\",\"mpeggqcgae\",\"vppqdev-ge\",\"vwtydpvmne\",\"vpeqdwqsqe\",\"vpwgpieewe\",\"dpwqptqewh\",\"epfawtdewh\",\"drlpitqcwf\",\"dpepifqpwg\",\"dwtpfqep-g\",\"dppgfgep-h\",\"dqwnwigpan\",\"dpwwlgkdvl\",\"gswtfgdigl\",\"gqpkwgkpfl\",\"dpfwvgepnm\",\"dwegvggcnl\",\"dseivmdpfl\",\"ddegvedpft\",\"qdegiedp-t\",\"qdvwiedpfm\",\"qdvqvedpnm\",\"edeedldqcw\",\"edkpt-qqpw\",\"emept-fqpw\",\"eykps-dypw\",\"edemtmdepw\",\"elwqi-ifpw\",\"ewapvirqc-\",\"epwefyfhgn\",\"edt-fadqev\",\"edwefadqen\",\"edyefadqe-\",\"edymctvwev\",\"ey-ectvqen\",\"wvleccevvi\",\"dpmdceecvm\",\"decdve-vve\",\"pqcgfeskae\",\"pdcffefkae\",\"edfvweddfq\",\"mppeweggpq\",\"mepgwgpgpq\",\"mqpgpgkgpq\",\"-wwgwgefpq\",\"tkpgwgtfpq\",\"mpkgwvtgeq\",\"mawgfvvgee\",\"evvghwqew-\",\"dpismwepes\",\"dpipfadteh\",\"dpfafageqa\",\"dqqgfveelg\",\"dqwqpvgelm\",\"dqcqlpeest\",\"dpw-wpgnlt\",\"dpp-we-ntt\",\"drppwwqelt\",\"dpigawqpfq\",\"dwiaewqelq\",\"dmigvweelq\",\"drgiteeplq\",\"dpmeteeqlq\",\"dcmetefqlv\",\"edgdvfdqcw\",\"edepvmdqcw\",\"edcefmfqcw\",\"eywpvmfqcm\",\"pde-vcsqcm\",\"pyevv-ftkm\",\"pdempwlnt-\",\"pdgspwgdt-\",\"ew-dtwgdt-\",\"ypeetvcglg\",\"ypeepqcqsg\",\"ypseppvwpg\",\"vagepgpwsm\",\"clwvpgedpm\",\"eigvppafpm\",\"evcmppafpn\",\"eyweppvlqe\",\"cpfpphegqp\",\"-mmgerdgae\",\"-pvgfeewhe\",\"ypvsaedege\",\"qpggvppegp\",\"edews-degw\",\"edelvmdhcw\",\"epeedmfwcg\",\"vpnedmeafg\",\"dqeqkf-prg\",\"dqhskm-pfg\",\"dqcgvmppfg\",\"dffpemepcd\",\"nctkeepvcq\",\"pcveeepqcq\",\"pkveeefqcq\",\"pmeee-fqcq\",\"pddeeefqcq\",\"pmveeefqfq\",\"mvvevepdfq\",\"pfeeeefdfq\",\"cdfeeegdfq\",\"p-veieeqfq\",\"pieeeeedfq\",\"pedeee-dfm\",\"pmvveepdfq\",\"f-peegeleq\",\"wneetdeqpq\",\"vitep-ewpp\",\"pdqkpiflqp\",\"pgwppiglqp\",\"edwkpsdvqp\",\"eddknedfdp\",\"edvvhedfdw\",\"edpvtedge-\",\"ngmmcavgtv\",\"avqhgwfgtm\",\"akppqwtnlm\",\"emfqpvperm\",\"yeeqpmndpm\",\"cdwwpgpfpm\",\"epwcpgnfpm\",\"cpwgppmfpp\",\"cfgwepmfcp\",\"cfewemnfcw\",\"ndalvmdqcw\",\"edeedmdacw\",\"edetvmdgcw\",\"edepeefgsm\",\"qvvqsdfecm\",\"qtewvedecm\",\"qdevigdpfq\",\"edeqivqpfg\",\"dpegvfeecv\",\"degqkeltem\",\"deq-gd-qfm\",\"pme-vm-qcm\",\"qdeqemdecm\",\"qdeqved-cm\",\"qdclvedelm\",\"qd-vttdklv\",\"eplwtepelm\",\"qpcyvelpcm\",\"qdcqsddeem\",\"qvvqfefegm\",\"dmvtveetit\",\"dlwgwpeplt\",\"dpfywpeeim\",\"derqfgeelm\",\"dmfqppeepm\",\"fpcqpee-pm\",\"ypcqppc-pm\",\"ypgqppe-pm\",\"dpfhpge-pm\",\"dpw-p-eelm\",\"dcwvfgefpq\",\"dewvtgefpm\",\"deewpgnfpm\",\"dewwpgkcpm\",\"ircdqpefpw\",\"eievtqvfhw\",\"eplrtqqvrw\",\"deevtqwkpw\",\"p-evt-ffpw\",\"nrlltmq-pw\",\"wemntwq-d-\",\"yppntwqpd-\",\"dplmlwqplv\",\"dp-qtwqplm\",\"dr-qftqeee\",\"dedqftqeee\",\"dpwqftdeqe\",\"dseqqrdeee\",\"ed-qftpewe\",\"pcwwfmpvve\",\"mweeg-tdee\",\"mdeefvdgae\",\"edvgfedkae\",\"edqpredkae\",\"edpvfedkvm\",\"edcppedkpm\",\"edcvppdflm\",\"emw-sgrewm\",\"epevvfrevm\",\"ypeqfgrewm\",\"dppqfdepwg\",\"dettfyqpw-\",\"dewrft-ewd\",\"dqqqef-ewm\",\"demqfe-eie\",\"dpwqfpeeim\",\"dmfqfpeegm\",\"qmwvfpeevm\",\"dpwqfgneem\",\"dewqfgkegg\",\"dppykgdveq\",\"dphvigereq\",\"rwavqgeypq\",\"fppergcfpq\",\"mpedqvcdpq\",\"mieetgnqpq\",\"wefetgiqpq\",\"deqetgnqpq\",\"aekewgiipq\",\"mpfewge-pq\",\"dgpelggply\",\"depgtweew-\",\"de-qptqew-\",\"plesitgswp\",\"edeestdvwf\",\"edfcrtdfw-\",\"ed-cptdaw-\",\"edqtsldew-\",\"edqqptdewm\",\"edaqpgdeem\",\"edfqcadeev\",\"eddwitdfep\",\"edcgftddme\",\"edpfhedgve\",\"edvgfefkae\",\"pdewielkae\",\"pdevve-dv-\",\"pedvpekdt-\",\"pfcmiekdfq\",\"pevteepdfq\",\"kaigegdelq\",\"g-egyveela\",\"seqg-vwfea\",\"ktteeapdeq\",\"pegeegkqcm\",\"pqp-egpcem\",\"fqywfqferw\",\"dkfpvqtpfg\",\"dqak-mspcp\",\"pdqyemseqp\",\"pdhspafpqp\",\"qqgtspep-m\",\"dmgpppegpm\",\"-apvtgdwpm\",\"-peppgvwpm\",\"vpkfpgvwcm\",\"vsfdvgnqcm\",\"edfmsgdncm\",\"qdp-egdqcm\",\"edfpvgdncn\",\"ede-vedqfq\",\"edeeeeddtr\",\"edtqledeth\",\"depgqe-cnd\",\"decwmeecae\",\"--cdmirwhp\",\"wpapsiecqp\",\"dpwtmpeewp\",\"defqsveeqm\",\"dcevtkgegm\",\"mwgvdpgeic\",\"fwgldgvelq\",\"vpwdqvrmlq\",\"vpeeqgcqpq\",\"epwepefqsm\",\"ipt-pewqpm\",\"pvcepgkqpq\",\"pefewgplqf\",\"rpppqgeg-m\",\"apevigep-m\",\"dpappgep-g\",\"dqwpfiepfg\",\"dpwqkmepfg\",\"dwnegm-pfg\",\"drecvmepfg\",\"dpegvmdpft\",\"dpegvngpll\",\"ddegvggpft\",\"qqfpwpep-t\",\"dpfqwpep-t\",\"dedgweep-t\",\"dmpkffep-g\",\"dppgffepws\",\"dwpgftetee\",\"dmwgfiegew\",\"epwphtvhew\",\"eppdftkwee\",\"dqcwfelmee\",\"dppffedtae\",\"ddmdfedvve\",\"edwkfsdhem\",\"edp-cgdqcm\",\"elt-fedqee\",\"edvefedevq\",\"drcveedk-w\",\"dptvfregew\",\"dmvek-etcq\",\"dpstdcencg\",\"vwecvmewcg\",\"vpfeemnwcg\",\"vfefemhwcd\",\"gevpeerpwd\",\"gqdgeqrv-d\",\"pddgeqfqcq\",\"pnteiesgtq\",\"pdcgdeigte\",\"qdvgledeqe\",\"hdcqerfeem\",\"hdi-aafeim\",\"etiqewqeqt\",\"dpmgcwqp--\",\"dslqwwqp-t\",\"dpipcwqp-t\",\"dplriqqpkg\",\"dpepiqepwg\",\"dpelfpep-w\",\"dpwpfikp-s\",\"dqwglgkp-y\",\"dpmgtfepqy\",\"dpeit-vmpw\",\"vwlmt-v-pq\",\"fpttdedine\",\"kdcvdedeae\",\"lqgqdepdae\",\"kevgdepkae\",\"lwpgfeecae\",\"deqgfemcve\",\"lfvgfemecq\",\"fevveepfcw\",\"pcmrtmkqpw\",\"pdeet-fqcw\",\"eddpveggck\",\"edeavedefw\",\"dpfsemfpcg\",\"knesempsws\",\"sqieawpswm\",\"cpiweweecm\",\"dppqvdeegt\",\"dpdqapeett\",\"dpeqkeeect\",\"dppgsdeedt\",\"dhdwteetcw\",\"dsqdfndwee\",\"-gcgftdwee\",\"-veeefageq\",\"svvgecpgeq\",\"ageevvtgea\",\"awyafagiea\",\"dwwafpetea\",\"eleaeigiha\",\"sdwhwikiha\",\"pvwawifitc\",\"ppmfvwfcwc\",\"ediea-dwwc\",\"edetv-dewc\",\"eseefqffwc\",\"edpwffqewv\",\"qdpdawdef-\",\"epi-wwqefm\",\"eppqcwqde-\",\"metemtpqaf\",\"-gqe-edqcp\",\"-dwepgdwwc\",\"edpfftv-gc\",\"gwclfpm-gl\",\"gewlfpm-gm\",\"aewpfeiege\",\"dicqeeieem\",\"qqe-itqlem\",\"p-e-vtewvl\",\"gpewvgevql\",\"dpldwsecvn\",\"dwpecs-qe-\",\"ewpwcf-dvw\",\"pepgffmkre\",\"p-efetedap\",\"fwqwdepct-\",\"fvvcdwqet-\",\"kpegdwqfdq\",\"cpglnwlflm\",\"edfgwp-eqt\",\"pdfqwhs-qe\",\"wmflptqeee\",\"ymdemfedae\",\"wftqtdp-pl\",\"wm-cmes-pe\",\"w-cepeefqe\",\"wlcwfew-ge\",\"wvvqfqw-ke\",\"w-vqdqwvae\",\"wkeeeqtdae\",\"pcmqwepdvt\",\"fnqewnpqnq\",\"mqaedgpqlq\",\"mngeqgpqpq\",\"eepewgaqfq\",\"mepewgpqpq\",\"pcfewgkqsq\",\"tcfewgetpq\",\"twfrwggieq\",\"mcfmwgpefh\",\"mevgdekpfe\",\"kfffeewdvq\",\"cpdfwefcfv\",\"empwwetef-\",\"mffwwekdae\",\"py-yfekdae\",\"petgeepkae\"]"
       ]
      }
     ],
     "prompt_number": 52
    },
    {
     "cell_type": "code",
     "collapsed": false,
     "input": [
      "import cc.factorie.util.TraversableExtras"
     ],
     "language": "python",
     "metadata": {},
     "outputs": [],
     "prompt_number": "*"
    },
    {
     "cell_type": "code",
     "collapsed": false,
     "input": [],
     "language": "python",
     "metadata": {},
     "outputs": []
    }
   ],
   "metadata": {}
  }
 ]
}