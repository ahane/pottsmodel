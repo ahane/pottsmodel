{
 "metadata": {
  "name": ""
 },
 "nbformat": 3,
 "nbformat_minor": 0,
 "worksheets": [
  {
   "cells": [
    {
     "cell_type": "code",
     "collapsed": false,
     "input": [
      "import cc.factorie._\n",
      "import cc.factorie.directed._\n",
      "import la.{DenseTensor2, Tensor2, DenseTensor1, Tensor1}\n",
      "import cc.factorie.directed.{MaximizeMultivariateGaussianCovariance, MaximizeMultivariateGaussianMean, MultivariateGaussian, Gaussian}\n",
      "import collection.immutable.{Map}\n",
      "import collection.mutable.{ArrayBuffer}\n",
      "import cc.factorie.variable.{CategoricalDomain, CategoricalVariable, DoubleVariable, MutableDiscreteVar}\n",
      "import cc.factorie.model.{Parameters, Model, Factor, DotFamilyWithStatistics1, DotFamilyWithStatistics2}\n",
      "import cc.factorie.la.{DenseTensor1, DenseTensor2}"
     ],
     "language": "python",
     "metadata": {},
     "outputs": [
      {
       "output_type": "stream",
       "stream": "stdout",
       "text": []
      },
      {
       "output_type": "stream",
       "stream": "stderr",
       "text": []
      }
     ],
     "prompt_number": 2
    },
    {
     "cell_type": "code",
     "collapsed": false,
     "input": [
      "object spinDomain extends CategoricalDomain[Char](List('a', 'r', 'n', 'd', 'c', 'q', 'e', 'g', 'h', 'i', 'l', 'k', 'm', 'f', 'p', 's', 't', 'w', 'y', 'v', '-'))  "
     ],
     "language": "python",
     "metadata": {},
     "outputs": [
      {
       "output_type": "stream",
       "stream": "stderr",
       "text": []
      },
      {
       "output_type": "stream",
       "stream": "stdout",
       "text": []
      },
      {
       "metadata": {},
       "output_type": "pyout",
       "prompt_number": 3,
       "text": [
        "CategoricalDomain[](21)"
       ]
      }
     ],
     "prompt_number": 3
    },
    {
     "cell_type": "code",
     "collapsed": false,
     "input": [
      "spinDomain.length"
     ],
     "language": "python",
     "metadata": {},
     "outputs": [
      {
       "output_type": "stream",
       "stream": "stdout",
       "text": []
      },
      {
       "output_type": "stream",
       "stream": "stderr",
       "text": []
      },
      {
       "metadata": {},
       "output_type": "pyout",
       "prompt_number": 4,
       "text": [
        "21"
       ]
      }
     ],
     "prompt_number": 4
    },
    {
     "cell_type": "code",
     "collapsed": false,
     "input": [
      "class GREMLINWeightGenerator(\n",
      "    val domain: CategoricalDomain[Char], \n",
      "    val numSites: Int, \n",
      "    val edgeProbability: Double,\n",
      "    val localMean: Double = 0.0,\n",
      "    val localVariance: Double = 1.0,\n",
      "    val pairwiseMean: Double = 0.0,\n",
      "    val pairwiseVariance: Double = 1.0)  {\n",
      "    \n",
      "    implicit val random = new scala.util.Random(0)\n",
      "    \n",
      "    //allEdges contains all permutations of our\n",
      "    val allEdges = (for(i <- 0 until numSites; j <- 0 until numSites if i < j) yield (i, j)).toSet\n",
      "    val activeEdges = drawFromSet(edgeProbability, allEdges)\n",
      "    \n",
      "    def drawFromSet[A](p: Double, s: Set[A]): Set[A] = {\n",
      "        val drawn = for(i <- s if random.nextDouble < p) yield i\n",
      "        drawn\n",
      "    }  \n",
      "    \n",
      "    def generateLocalMasses: Seq[DenseTensor1] = {\n",
      "        implicit val model = DirectedModel()\n",
      "        \n",
      "        val mean = new DoubleVariable(localMean)\n",
      "        val variance = new DoubleVariable(localVariance)\n",
      "        \n",
      "        val localMasses = for(i <- 0 until numSites) yield new DenseTensor1(domain.length)\n",
      "        for(massTensor <- localMasses){\n",
      "            for(i <- 0 until massTensor.dim1){\n",
      "                val mass = new DoubleVariable :~ Gaussian(mean, variance)\n",
      "                massTensor(i) = mass.value\n",
      "            }\n",
      "        }\n",
      "        localMasses\n",
      "    }\n",
      "    \n",
      "    def generatePairwiseMasses: Map[(Int, Int), DenseTensor2] = {\n",
      "        implicit val model = DirectedModel()\n",
      "        \n",
      "        val mean = new DoubleVariable(pairwiseMean)\n",
      "        val variance = new DoubleVariable(pairwiseVariance)\n",
      "        \n",
      "        val pairMasses = Map[(Int, Int), DenseTensor2]()\n",
      "        for(e <- drawnEdges){\n",
      "            pairMasses += (e -> new DenseTensor2(numSites, numSites))\n",
      "            \n",
      "            for(a1 <- 0 until domain.length; a2 <- 0 until domain.length if a1 <= a2) {\n",
      "                val mass = new DoubleVariable :~ Gaussian(mean, variance)\n",
      "                pairMasses(e)(a1, a2) = mass.value\n",
      "                pairMasses(e)(a2, a1) = pairMasses(e)(a1, a2)\n",
      "            }\n",
      "        }\n",
      "        pairMasses\n",
      "    }\n",
      "}\n",
      "\n",
      "object GREMLINWeightGenerator {\n",
      "    def apply(domain: CategoricalDomain[Char], n: Int, p: Double) = new GREMLINWeightGenerator(domain, n, p)\n",
      "    def apply(domain: CategoricalDomain[Char], p: Double) = new GREMLINWeightGenerator(domain, 32, p)\n",
      "}"
     ],
     "language": "python",
     "metadata": {},
     "outputs": [
      {
       "output_type": "stream",
       "stream": "stdout",
       "text": []
      },
      {
       "ename": "",
       "evalue": "",
       "output_type": "pyerr",
       "traceback": [
        "<console>:78: error: not found: value drawnEdges",
        "               for(e <- drawnEdges){",
        "                        ^"
       ]
      },
      {
       "output_type": "stream",
       "stream": "stderr",
       "text": []
      }
     ],
     "prompt_number": 5
    },
    {
     "cell_type": "code",
     "collapsed": false,
     "input": [
      "class Spin(initValue: Char, val i: Int) extends CategoricalVariable[Char](initValue){\n",
      "    def domain = spinDomain\n",
      "    var cont: IndexedSeq[Spin] = null\n",
      "    def setContainer(c: IndexedSeq[Spin]): Unit = {this.cont = c}\n",
      "    override def toString = this.value.toString  \n",
      "}\n",
      "object Spin {\n",
      "    def apply(c: Char, i: Int): Spin = new Spin(c, i)\n",
      "    def apply(s: String): IndexedSeq[Spin] = {\n",
      "        val v = for((c, i) <- s.zipWithIndex) yield Spin(c, i)\n",
      "        v.foreach(_.setContainer(v))\n",
      "        v\n",
      "    }\n",
      "}"
     ],
     "language": "python",
     "metadata": {},
     "outputs": [
      {
       "output_type": "stream",
       "stream": "stdout",
       "text": []
      },
      {
       "output_type": "stream",
       "stream": "stderr",
       "text": []
      },
      {
       "metadata": {},
       "output_type": "pyout",
       "prompt_number": 6,
       "text": [
        "Spin$@44326d81"
       ]
      }
     ],
     "prompt_number": 6
    },
    {
     "cell_type": "code",
     "collapsed": false,
     "input": [
      "class PottsModel(\n",
      "    val domain: CategoricalDomain[Char], \n",
      "    val localMasses: IndexedSeq[DenseTensor1],\n",
      "    val pairwiseMasses: Map[(Int, Int), DenseTensor2])\n",
      "    extends Model with Parameters {\n",
      "    \n",
      "    val domSize = domain.size\n",
      "    \n",
      "    val localFamilies: IndexedSeq[DotFamilyWithStatistics1[Spin]] = \n",
      "        for(m <- localMasses) yield new DotFamilyWithStatistics1[Spin] { val weights = Weights(m) }\n",
      "                                       \n",
      "    val pairwiseFamilies: Map[(Int, Int), DotFamilyWithStatistics2[Spin, Spin]] =\n",
      "        for((k, m) <- pairwiseMasses) yield (k -> new DotFamilyWithStatistics2[Spin, Spin] { val weights = Weights(m) })\n",
      "    \n",
      "            \n",
      "    def factors(variables: Iterable[Var]): Iterable[Factor] = {\n",
      "        val results = new ArrayBuffer[Factor]\n",
      "        \n",
      "        val spins = variables collect {case s: Spin => s}\n",
      "        \n",
      "        for(s <- spins){\n",
      "                val localFamily = localFamilies(s.i)\n",
      "                results += localFamily.Factor(s)\n",
      "            \n",
      "                val pKeys = pairwiseFamilies.keys.filter((k: (Int, Int)) => k._1 == s.i || k._2 == s.i)\n",
      "                for(k <- pKeys) {\n",
      "                    val pairwiseFamily = pairwiseFamilies(k)\n",
      "                    results += pairwiseFamily.Factor(s.cont(k._1), s.cont(k._2))\n",
      "                }\n",
      "        }\n",
      "        results\n",
      "    }\n",
      "}\n",
      "    \n",
      "object PottsModel {\n",
      "    def apply(numSites: Int, domain: CategoricalDomain[Char]) = {\n",
      "        val localMasses = for(i <- 0 until numSites) yield new DenseTensor1(domain.length)\n",
      "        val pairwiseMasses = (for(i <- 0 until numSites; j <- 0 until numSites if i < j) yield ((i, j), new DenseTensor2(domain.length, domain.length))).toMap\n",
      "        new PottsModel(domain, localMasses, pairwiseMasses)\n",
      "    }\n",
      "    def apply(localMasses: IndexedSeq[DenseTensor1], pairwiseMasses: Map[(Int, Int), DenseTensor2], domain: CategoricalDomain[Char]) = {\n",
      "        new PottsModel(domain, localMasses, pairwiseMasses)\n",
      "    }\n",
      "\n",
      "}"
     ],
     "language": "python",
     "metadata": {},
     "outputs": [
      {
       "output_type": "stream",
       "stream": "stdout",
       "text": []
      },
      {
       "output_type": "stream",
       "stream": "stderr",
       "text": []
      },
      {
       "metadata": {},
       "output_type": "pyout",
       "prompt_number": 7,
       "text": [
        "PottsModel$@7b2f7e0a"
       ]
      }
     ],
     "prompt_number": 7
    },
    {
     "cell_type": "code",
     "collapsed": false,
     "input": [
      "val m1 = PottsModel(10, spinDomain)"
     ],
     "language": "python",
     "metadata": {},
     "outputs": [
      {
       "output_type": "stream",
       "stream": "stderr",
       "text": []
      },
      {
       "output_type": "stream",
       "stream": "stdout",
       "text": []
      },
      {
       "metadata": {},
       "output_type": "pyout",
       "prompt_number": 9,
       "text": [
        "PottsModel@a749d0"
       ]
      }
     ],
     "prompt_number": 9
    },
    {
     "cell_type": "code",
     "collapsed": false,
     "input": [
      "val v = Spin(\"aaaaaaaaaa\")"
     ],
     "language": "python",
     "metadata": {},
     "outputs": [
      {
       "output_type": "stream",
       "stream": "stdout",
       "text": []
      },
      {
       "output_type": "stream",
       "stream": "stderr",
       "text": []
      },
      {
       "metadata": {},
       "output_type": "pyout",
       "prompt_number": 13,
       "text": [
        "Vector(a, a, a, a, a, a, a, a, a, a)"
       ]
      }
     ],
     "prompt_number": 13
    },
    {
     "cell_type": "code",
     "collapsed": false,
     "input": [
      "import cc.factorie.infer.{VariableSettingsSampler, InferByGibbsSampling, GibbsSampler}"
     ],
     "language": "python",
     "metadata": {},
     "outputs": [
      {
       "output_type": "stream",
       "stream": "stderr",
       "text": []
      },
      {
       "output_type": "stream",
       "stream": "stdout",
       "text": []
      }
     ],
     "prompt_number": 20
    },
    {
     "cell_type": "code",
     "collapsed": false,
     "input": [
      "val firstmodel = new PottsModel(3, spinDomain, pairWeights, localWeights)"
     ],
     "language": "python",
     "metadata": {},
     "outputs": [
      {
       "output_type": "stream",
       "stream": "stderr",
       "text": []
      },
      {
       "output_type": "stream",
       "stream": "stdout",
       "text": []
      },
      {
       "metadata": {},
       "output_type": "pyout",
       "prompt_number": 8,
       "text": [
        "PottsModel@30d3cfab"
       ]
      }
     ],
     "prompt_number": 8
    },
    {
     "cell_type": "code",
     "collapsed": false,
     "input": [
      "def generateSampleStrings(N:Int, model: PottsModel, variables: Seq[Spin], burnin: Int = 500): Seq[String] = {\n",
      "    implicit val random = new scala.util.Random(0)                                                                                                   \n",
      "    val sampler = new GibbsSampler(model)\n",
      "    val strings = new ArrayBuffer[String]\n",
      "    for(i <- 0 until N+burnin) {\n",
      "        sampler.processAll(variables)\n",
      "        if(i > burnin) strings += variables.mkString\n",
      "    }\n",
      "    strings\n",
      "}"
     ],
     "language": "python",
     "metadata": {},
     "outputs": [
      {
       "output_type": "stream",
       "stream": "stderr",
       "text": []
      },
      {
       "output_type": "stream",
       "stream": "stdout",
       "text": []
      }
     ],
     "prompt_number": 47
    },
    {
     "cell_type": "code",
     "collapsed": false,
     "input": [
      "val strings = generateSampleStrings(500, firstmodel, v2)"
     ],
     "language": "python",
     "metadata": {},
     "outputs": [
      {
       "output_type": "stream",
       "stream": "stderr",
       "text": []
      },
      {
       "output_type": "stream",
       "stream": "stdout",
       "text": []
      },
      {
       "metadata": {},
       "output_type": "pyout",
       "prompt_number": 49,
       "text": [
        "ArrayBuffer(edevaeddf-, edeevefqvc, pdcefslqvs, metcgslive, mecfgtiwev, geqmgtfnev, gwp-aaeqlt, fpieawq-w-, ypicrwqtw-, ypndpwqet-, enmwnwygtv, aepqcepgeq, edegcgdglm, edpqpgdewm, edevigrhlm, edkpsgdqlm, qdpesgdqcm, edfvpgdfpm, edetpgdspm, edwwpgffpm, edwmpifkpw, pmwvfiefpc, pawwwikdfc, prhfkgkdsc, mpeemvtgqf, mtepmvqp-e, kptcmqwpae, ketgdqwqce, pcvqee-eee, fdvqddneem, qppqlgddnm, qdwqpeleqm, p-dkpkedqp, pcgwlffewv, dewwpeepfm, dpcdceeppt, decqlpehpt, dccqppg-lm, fcqqeppecm, fnfqepeecm, fmeqepaeit, deegkpemig, dpgekfepw-, dppnffqcg-, dqpvfwqewm, dpiqaweelm, dciqvweegm, dpiqvwqefv, egeqhwqdfm, esmqwwqvvm, dppkcwekvm, acmvcfekvm, dppvcgeecm, dppvvsepcm, qvp-sgfqvm, qdsevmdqcw, epeevmeqcw, dpepvpqncy, dpepvmepfg, dpedemeqcg, dpveemevvg, dpdevlqqlg, dqeevtglwg, dqyeff-yee, dcmefc-teg, dpeefmdgwg, dvqgalgcgg, dpedfpepqe, dqfgpe-ctd, demhpe-cnm, de-vte-mpq, deevichkpg, dsqlkldfpt, dqpqkedfpy, dshgkgdfpg, dpprkgefpg, dqprcggceq, dwfeeggqcm, ymf-pvgns-, dwempc-gt-, edtgpmfetp, qveypefet-, pmcvpefdtm, edvyaedfcw, eddwv-gecw, eddrktdewp, edvwptdewp, edddptveqp, ewlyp-flqe, dvr-feelae, plwefdeqee, pmqeffyqee, wdvesvvgee, nfqestvree, wrhfmvtvee, mpeggqcgae, vppqdev-ge, vwtydpvmne, vpeqdwqsqe, vpwgpieewe, dpwqptqewh, epfawtdewh, drlpitqcwf, dpepifqpwg, dwtpfqep-g, dppgfgep-h, dqwnwigpan, dpwwlgkdvl, gswtfgdigl, gqpkwgkpfl, dpfwvgepnm, dwegvggcnl, dseivmdpfl, ddegvedpft, qdegiedp-t, qdvwiedpfm, qdvqvedpnm, edeedldqcw, edkpt-qqpw, emept-fqpw, eykps-dypw, edemtmdepw, elwqi-ifpw, ewapvirqc-, epwefyfhgn, edt-fadqev, edwefadqen, edyefadqe-, edymctvwev, ey-ectvqen, wvleccevvi, dpmdceecvm, decdve-vve, pqcgfeskae, pdcffefkae, edfvweddfq, mppeweggpq, mepgwgpgpq, mqpgpgkgpq, -wwgwgefpq, tkpgwgtfpq, mpkgwvtgeq, mawgfvvgee, evvghwqew-, dpismwepes, dpipfadteh, dpfafageqa, dqqgfveelg, dqwqpvgelm, dqcqlpeest, dpw-wpgnlt, dpp-we-ntt, drppwwqelt, dpigawqpfq, dwiaewqelq, dmigvweelq, drgiteeplq, dpmeteeqlq, dcmetefqlv, edgdvfdqcw, edepvmdqcw, edcefmfqcw, eywpvmfqcm, pde-vcsqcm, pyevv-ftkm, pdempwlnt-, pdgspwgdt-, ew-dtwgdt-, ypeetvcglg, ypeepqcqsg, ypseppvwpg, vagepgpwsm, clwvpgedpm, eigvppafpm, evcmppafpn, eyweppvlqe, cpfpphegqp, -mmgerdgae, -pvgfeewhe, ypvsaedege, qpggvppegp, edews-degw, edelvmdhcw, epeedmfwcg, vpnedmeafg, dqeqkf-prg, dqhskm-pfg, dqcgvmppfg, dffpemepcd, nctkeepvcq, pcveeepqcq, pkveeefqcq, pmeee-fqcq, pddeeefqcq, pmveeefqfq, mvvevepdfq, pfeeeefdfq, cdfeeegdfq, p-veieeqfq, pieeeeedfq, pedeee-dfm, pmvveepdfq, f-peegeleq, wneetdeqpq, vitep-ewpp, pdqkpiflqp, pgwppiglqp, edwkpsdvqp, eddknedfdp, edvvhedfdw, edpvtedge-, ngmmcavgtv, avqhgwfgtm, akppqwtnlm, emfqpvperm, yeeqpmndpm, cdwwpgpfpm, epwcpgnfpm, cpwgppmfpp, cfgwepmfcp, cfewemnfcw, ndalvmdqcw, edeedmdacw, edetvmdgcw, edepeefgsm, qvvqsdfecm, qtewvedecm, qdevigdpfq, edeqivqpfg, dpegvfeecv, degqkeltem, deq-gd-qfm, pme-vm-qcm, qdeqemdecm, qdeqved-cm, qdclvedelm, qd-vttdklv, eplwtepelm, qpcyvelpcm, qdcqsddeem, qvvqfefegm, dmvtveetit, dlwgwpeplt, dpfywpeeim, derqfgeelm, dmfqppeepm, fpcqpee-pm, ypcqppc-pm, ypgqppe-pm, dpfhpge-pm, dpw-p-eelm, dcwvfgefpq, dewvtgefpm, deewpgnfpm, dewwpgkcpm, ircdqpefpw, eievtqvfhw, eplrtqqvrw, deevtqwkpw, p-evt-ffpw, nrlltmq-pw, wemntwq-d-, yppntwqpd-, dplmlwqplv, dp-qtwqplm, dr-qftqeee, dedqftqeee, dpwqftdeqe, dseqqrdeee, ed-qftpewe, pcwwfmpvve, mweeg-tdee, mdeefvdgae, edvgfedkae, edqpredkae, edpvfedkvm, edcppedkpm, edcvppdflm, emw-sgrewm, epevvfrevm, ypeqfgrewm, dppqfdepwg, dettfyqpw-, dewrft-ewd, dqqqef-ewm, demqfe-eie, dpwqfpeeim, dmfqfpeegm, qmwvfpeevm, dpwqfgneem, dewqfgkegg, dppykgdveq, dphvigereq, rwavqgeypq, fppergcfpq, mpedqvcdpq, mieetgnqpq, wefetgiqpq, deqetgnqpq, aekewgiipq, mpfewge-pq, dgpelggply, depgtweew-, de-qptqew-, plesitgswp, edeestdvwf, edfcrtdfw-, ed-cptdaw-, edqtsldew-, edqqptdewm, edaqpgdeem, edfqcadeev, eddwitdfep, edcgftddme, edpfhedgve, edvgfefkae, pdewielkae, pdevve-dv-, pedvpekdt-, pfcmiekdfq, pevteepdfq, kaigegdelq, g-egyveela, seqg-vwfea, ktteeapdeq, pegeegkqcm, pqp-egpcem, fqywfqferw, dkfpvqtpfg, dqak-mspcp, pdqyemseqp, pdhspafpqp, qqgtspep-m, dmgpppegpm, -apvtgdwpm, -peppgvwpm, vpkfpgvwcm, vsfdvgnqcm, edfmsgdncm, qdp-egdqcm, edfpvgdncn, ede-vedqfq, edeeeeddtr, edtqledeth, depgqe-cnd, decwmeecae, --cdmirwhp, wpapsiecqp, dpwtmpeewp, defqsveeqm, dcevtkgegm, mwgvdpgeic, fwgldgvelq, vpwdqvrmlq, vpeeqgcqpq, epwepefqsm, ipt-pewqpm, pvcepgkqpq, pefewgplqf, rpppqgeg-m, apevigep-m, dpappgep-g, dqwpfiepfg, dpwqkmepfg, dwnegm-pfg, drecvmepfg, dpegvmdpft, dpegvngpll, ddegvggpft, qqfpwpep-t, dpfqwpep-t, dedgweep-t, dmpkffep-g, dppgffepws, dwpgftetee, dmwgfiegew, epwphtvhew, eppdftkwee, dqcwfelmee, dppffedtae, ddmdfedvve, edwkfsdhem, edp-cgdqcm, elt-fedqee, edvefedevq, drcveedk-w, dptvfregew, dmvek-etcq, dpstdcencg, vwecvmewcg, vpfeemnwcg, vfefemhwcd, gevpeerpwd, gqdgeqrv-d, pddgeqfqcq, pnteiesgtq, pdcgdeigte, qdvgledeqe, hdcqerfeem, hdi-aafeim, etiqewqeqt, dpmgcwqp--, dslqwwqp-t, dpipcwqp-t, dplriqqpkg, dpepiqepwg, dpelfpep-w, dpwpfikp-s, dqwglgkp-y, dpmgtfepqy, dpeit-vmpw, vwlmt-v-pq, fpttdedine, kdcvdedeae, lqgqdepdae, kevgdepkae, lwpgfeecae, deqgfemcve, lfvgfemecq, fevveepfcw, pcmrtmkqpw, pdeet-fqcw, eddpveggck, edeavedefw, dpfsemfpcg, knesempsws, sqieawpswm, cpiweweecm, dppqvdeegt, dpdqapeett, dpeqkeeect, dppgsdeedt, dhdwteetcw, dsqdfndwee, -gcgftdwee, -veeefageq, svvgecpgeq, ageevvtgea, awyafagiea, dwwafpetea, eleaeigiha, sdwhwikiha, pvwawifitc, ppmfvwfcwc, ediea-dwwc, edetv-dewc, eseefqffwc, edpwffqewv, qdpdawdef-, epi-wwqefm, eppqcwqde-, metemtpqaf, -gqe-edqcp, -dwepgdwwc, edpfftv-gc, gwclfpm-gl, gewlfpm-gm, aewpfeiege, dicqeeieem, qqe-itqlem, p-e-vtewvl, gpewvgevql, dpldwsecvn, dwpecs-qe-, ewpwcf-dvw, pepgffmkre, p-efetedap, fwqwdepct-, fvvcdwqet-, kpegdwqfdq, cpglnwlflm, edfgwp-eqt, pdfqwhs-qe, wmflptqeee, ymdemfedae, wftqtdp-pl, wm-cmes-pe, w-cepeefqe, wlcwfew-ge, wvvqfqw-ke, w-vqdqwvae, wkeeeqtdae, pcmqwepdvt, fnqewnpqnq, mqaedgpqlq, mngeqgpqpq, eepewgaqfq, mepewgpqpq, pcfewgkqsq, tcfewgetpq, twfrwggieq, mcfmwgpefh, mevgdekpfe, kfffeewdvq, cpdfwefcfv, empwwetef-, mffwwekdae, py-yfekdae, petgeepkae)"
       ]
      }
     ],
     "prompt_number": 49
    },
    {
     "cell_type": "code",
     "collapsed": false,
     "input": [
      "import play.api.libs.json"
     ],
     "language": "python",
     "metadata": {},
     "outputs": [
      {
       "output_type": "stream",
       "stream": "stdout",
       "text": []
      },
      {
       "output_type": "stream",
       "stream": "stderr",
       "text": []
      }
     ],
     "prompt_number": 50
    },
    {
     "cell_type": "code",
     "collapsed": false,
     "input": [
      "json.JsArray(strings.map(json.JsString))"
     ],
     "language": "python",
     "metadata": {},
     "outputs": [
      {
       "output_type": "stream",
       "stream": "stdout",
       "text": []
      },
      {
       "output_type": "stream",
       "stream": "stderr",
       "text": []
      },
      {
       "metadata": {},
       "output_type": "pyout",
       "prompt_number": 52,
       "text": [
        "[\"edevaeddf-\",\"edeevefqvc\",\"pdcefslqvs\",\"metcgslive\",\"mecfgtiwev\",\"geqmgtfnev\",\"gwp-aaeqlt\",\"fpieawq-w-\",\"ypicrwqtw-\",\"ypndpwqet-\",\"enmwnwygtv\",\"aepqcepgeq\",\"edegcgdglm\",\"edpqpgdewm\",\"edevigrhlm\",\"edkpsgdqlm\",\"qdpesgdqcm\",\"edfvpgdfpm\",\"edetpgdspm\",\"edwwpgffpm\",\"edwmpifkpw\",\"pmwvfiefpc\",\"pawwwikdfc\",\"prhfkgkdsc\",\"mpeemvtgqf\",\"mtepmvqp-e\",\"kptcmqwpae\",\"ketgdqwqce\",\"pcvqee-eee\",\"fdvqddneem\",\"qppqlgddnm\",\"qdwqpeleqm\",\"p-dkpkedqp\",\"pcgwlffewv\",\"dewwpeepfm\",\"dpcdceeppt\",\"decqlpehpt\",\"dccqppg-lm\",\"fcqqeppecm\",\"fnfqepeecm\",\"fmeqepaeit\",\"deegkpemig\",\"dpgekfepw-\",\"dppnffqcg-\",\"dqpvfwqewm\",\"dpiqaweelm\",\"dciqvweegm\",\"dpiqvwqefv\",\"egeqhwqdfm\",\"esmqwwqvvm\",\"dppkcwekvm\",\"acmvcfekvm\",\"dppvcgeecm\",\"dppvvsepcm\",\"qvp-sgfqvm\",\"qdsevmdqcw\",\"epeevmeqcw\",\"dpepvpqncy\",\"dpepvmepfg\",\"dpedemeqcg\",\"dpveemevvg\",\"dpdevlqqlg\",\"dqeevtglwg\",\"dqyeff-yee\",\"dcmefc-teg\",\"dpeefmdgwg\",\"dvqgalgcgg\",\"dpedfpepqe\",\"dqfgpe-ctd\",\"demhpe-cnm\",\"de-vte-mpq\",\"deevichkpg\",\"dsqlkldfpt\",\"dqpqkedfpy\",\"dshgkgdfpg\",\"dpprkgefpg\",\"dqprcggceq\",\"dwfeeggqcm\",\"ymf-pvgns-\",\"dwempc-gt-\",\"edtgpmfetp\",\"qveypefet-\",\"pmcvpefdtm\",\"edvyaedfcw\",\"eddwv-gecw\",\"eddrktdewp\",\"edvwptdewp\",\"edddptveqp\",\"ewlyp-flqe\",\"dvr-feelae\",\"plwefdeqee\",\"pmqeffyqee\",\"wdvesvvgee\",\"nfqestvree\",\"wrhfmvtvee\",\"mpeggqcgae\",\"vppqdev-ge\",\"vwtydpvmne\",\"vpeqdwqsqe\",\"vpwgpieewe\",\"dpwqptqewh\",\"epfawtdewh\",\"drlpitqcwf\",\"dpepifqpwg\",\"dwtpfqep-g\",\"dppgfgep-h\",\"dqwnwigpan\",\"dpwwlgkdvl\",\"gswtfgdigl\",\"gqpkwgkpfl\",\"dpfwvgepnm\",\"dwegvggcnl\",\"dseivmdpfl\",\"ddegvedpft\",\"qdegiedp-t\",\"qdvwiedpfm\",\"qdvqvedpnm\",\"edeedldqcw\",\"edkpt-qqpw\",\"emept-fqpw\",\"eykps-dypw\",\"edemtmdepw\",\"elwqi-ifpw\",\"ewapvirqc-\",\"epwefyfhgn\",\"edt-fadqev\",\"edwefadqen\",\"edyefadqe-\",\"edymctvwev\",\"ey-ectvqen\",\"wvleccevvi\",\"dpmdceecvm\",\"decdve-vve\",\"pqcgfeskae\",\"pdcffefkae\",\"edfvweddfq\",\"mppeweggpq\",\"mepgwgpgpq\",\"mqpgpgkgpq\",\"-wwgwgefpq\",\"tkpgwgtfpq\",\"mpkgwvtgeq\",\"mawgfvvgee\",\"evvghwqew-\",\"dpismwepes\",\"dpipfadteh\",\"dpfafageqa\",\"dqqgfveelg\",\"dqwqpvgelm\",\"dqcqlpeest\",\"dpw-wpgnlt\",\"dpp-we-ntt\",\"drppwwqelt\",\"dpigawqpfq\",\"dwiaewqelq\",\"dmigvweelq\",\"drgiteeplq\",\"dpmeteeqlq\",\"dcmetefqlv\",\"edgdvfdqcw\",\"edepvmdqcw\",\"edcefmfqcw\",\"eywpvmfqcm\",\"pde-vcsqcm\",\"pyevv-ftkm\",\"pdempwlnt-\",\"pdgspwgdt-\",\"ew-dtwgdt-\",\"ypeetvcglg\",\"ypeepqcqsg\",\"ypseppvwpg\",\"vagepgpwsm\",\"clwvpgedpm\",\"eigvppafpm\",\"evcmppafpn\",\"eyweppvlqe\",\"cpfpphegqp\",\"-mmgerdgae\",\"-pvgfeewhe\",\"ypvsaedege\",\"qpggvppegp\",\"edews-degw\",\"edelvmdhcw\",\"epeedmfwcg\",\"vpnedmeafg\",\"dqeqkf-prg\",\"dqhskm-pfg\",\"dqcgvmppfg\",\"dffpemepcd\",\"nctkeepvcq\",\"pcveeepqcq\",\"pkveeefqcq\",\"pmeee-fqcq\",\"pddeeefqcq\",\"pmveeefqfq\",\"mvvevepdfq\",\"pfeeeefdfq\",\"cdfeeegdfq\",\"p-veieeqfq\",\"pieeeeedfq\",\"pedeee-dfm\",\"pmvveepdfq\",\"f-peegeleq\",\"wneetdeqpq\",\"vitep-ewpp\",\"pdqkpiflqp\",\"pgwppiglqp\",\"edwkpsdvqp\",\"eddknedfdp\",\"edvvhedfdw\",\"edpvtedge-\",\"ngmmcavgtv\",\"avqhgwfgtm\",\"akppqwtnlm\",\"emfqpvperm\",\"yeeqpmndpm\",\"cdwwpgpfpm\",\"epwcpgnfpm\",\"cpwgppmfpp\",\"cfgwepmfcp\",\"cfewemnfcw\",\"ndalvmdqcw\",\"edeedmdacw\",\"edetvmdgcw\",\"edepeefgsm\",\"qvvqsdfecm\",\"qtewvedecm\",\"qdevigdpfq\",\"edeqivqpfg\",\"dpegvfeecv\",\"degqkeltem\",\"deq-gd-qfm\",\"pme-vm-qcm\",\"qdeqemdecm\",\"qdeqved-cm\",\"qdclvedelm\",\"qd-vttdklv\",\"eplwtepelm\",\"qpcyvelpcm\",\"qdcqsddeem\",\"qvvqfefegm\",\"dmvtveetit\",\"dlwgwpeplt\",\"dpfywpeeim\",\"derqfgeelm\",\"dmfqppeepm\",\"fpcqpee-pm\",\"ypcqppc-pm\",\"ypgqppe-pm\",\"dpfhpge-pm\",\"dpw-p-eelm\",\"dcwvfgefpq\",\"dewvtgefpm\",\"deewpgnfpm\",\"dewwpgkcpm\",\"ircdqpefpw\",\"eievtqvfhw\",\"eplrtqqvrw\",\"deevtqwkpw\",\"p-evt-ffpw\",\"nrlltmq-pw\",\"wemntwq-d-\",\"yppntwqpd-\",\"dplmlwqplv\",\"dp-qtwqplm\",\"dr-qftqeee\",\"dedqftqeee\",\"dpwqftdeqe\",\"dseqqrdeee\",\"ed-qftpewe\",\"pcwwfmpvve\",\"mweeg-tdee\",\"mdeefvdgae\",\"edvgfedkae\",\"edqpredkae\",\"edpvfedkvm\",\"edcppedkpm\",\"edcvppdflm\",\"emw-sgrewm\",\"epevvfrevm\",\"ypeqfgrewm\",\"dppqfdepwg\",\"dettfyqpw-\",\"dewrft-ewd\",\"dqqqef-ewm\",\"demqfe-eie\",\"dpwqfpeeim\",\"dmfqfpeegm\",\"qmwvfpeevm\",\"dpwqfgneem\",\"dewqfgkegg\",\"dppykgdveq\",\"dphvigereq\",\"rwavqgeypq\",\"fppergcfpq\",\"mpedqvcdpq\",\"mieetgnqpq\",\"wefetgiqpq\",\"deqetgnqpq\",\"aekewgiipq\",\"mpfewge-pq\",\"dgpelggply\",\"depgtweew-\",\"de-qptqew-\",\"plesitgswp\",\"edeestdvwf\",\"edfcrtdfw-\",\"ed-cptdaw-\",\"edqtsldew-\",\"edqqptdewm\",\"edaqpgdeem\",\"edfqcadeev\",\"eddwitdfep\",\"edcgftddme\",\"edpfhedgve\",\"edvgfefkae\",\"pdewielkae\",\"pdevve-dv-\",\"pedvpekdt-\",\"pfcmiekdfq\",\"pevteepdfq\",\"kaigegdelq\",\"g-egyveela\",\"seqg-vwfea\",\"ktteeapdeq\",\"pegeegkqcm\",\"pqp-egpcem\",\"fqywfqferw\",\"dkfpvqtpfg\",\"dqak-mspcp\",\"pdqyemseqp\",\"pdhspafpqp\",\"qqgtspep-m\",\"dmgpppegpm\",\"-apvtgdwpm\",\"-peppgvwpm\",\"vpkfpgvwcm\",\"vsfdvgnqcm\",\"edfmsgdncm\",\"qdp-egdqcm\",\"edfpvgdncn\",\"ede-vedqfq\",\"edeeeeddtr\",\"edtqledeth\",\"depgqe-cnd\",\"decwmeecae\",\"--cdmirwhp\",\"wpapsiecqp\",\"dpwtmpeewp\",\"defqsveeqm\",\"dcevtkgegm\",\"mwgvdpgeic\",\"fwgldgvelq\",\"vpwdqvrmlq\",\"vpeeqgcqpq\",\"epwepefqsm\",\"ipt-pewqpm\",\"pvcepgkqpq\",\"pefewgplqf\",\"rpppqgeg-m\",\"apevigep-m\",\"dpappgep-g\",\"dqwpfiepfg\",\"dpwqkmepfg\",\"dwnegm-pfg\",\"drecvmepfg\",\"dpegvmdpft\",\"dpegvngpll\",\"ddegvggpft\",\"qqfpwpep-t\",\"dpfqwpep-t\",\"dedgweep-t\",\"dmpkffep-g\",\"dppgffepws\",\"dwpgftetee\",\"dmwgfiegew\",\"epwphtvhew\",\"eppdftkwee\",\"dqcwfelmee\",\"dppffedtae\",\"ddmdfedvve\",\"edwkfsdhem\",\"edp-cgdqcm\",\"elt-fedqee\",\"edvefedevq\",\"drcveedk-w\",\"dptvfregew\",\"dmvek-etcq\",\"dpstdcencg\",\"vwecvmewcg\",\"vpfeemnwcg\",\"vfefemhwcd\",\"gevpeerpwd\",\"gqdgeqrv-d\",\"pddgeqfqcq\",\"pnteiesgtq\",\"pdcgdeigte\",\"qdvgledeqe\",\"hdcqerfeem\",\"hdi-aafeim\",\"etiqewqeqt\",\"dpmgcwqp--\",\"dslqwwqp-t\",\"dpipcwqp-t\",\"dplriqqpkg\",\"dpepiqepwg\",\"dpelfpep-w\",\"dpwpfikp-s\",\"dqwglgkp-y\",\"dpmgtfepqy\",\"dpeit-vmpw\",\"vwlmt-v-pq\",\"fpttdedine\",\"kdcvdedeae\",\"lqgqdepdae\",\"kevgdepkae\",\"lwpgfeecae\",\"deqgfemcve\",\"lfvgfemecq\",\"fevveepfcw\",\"pcmrtmkqpw\",\"pdeet-fqcw\",\"eddpveggck\",\"edeavedefw\",\"dpfsemfpcg\",\"knesempsws\",\"sqieawpswm\",\"cpiweweecm\",\"dppqvdeegt\",\"dpdqapeett\",\"dpeqkeeect\",\"dppgsdeedt\",\"dhdwteetcw\",\"dsqdfndwee\",\"-gcgftdwee\",\"-veeefageq\",\"svvgecpgeq\",\"ageevvtgea\",\"awyafagiea\",\"dwwafpetea\",\"eleaeigiha\",\"sdwhwikiha\",\"pvwawifitc\",\"ppmfvwfcwc\",\"ediea-dwwc\",\"edetv-dewc\",\"eseefqffwc\",\"edpwffqewv\",\"qdpdawdef-\",\"epi-wwqefm\",\"eppqcwqde-\",\"metemtpqaf\",\"-gqe-edqcp\",\"-dwepgdwwc\",\"edpfftv-gc\",\"gwclfpm-gl\",\"gewlfpm-gm\",\"aewpfeiege\",\"dicqeeieem\",\"qqe-itqlem\",\"p-e-vtewvl\",\"gpewvgevql\",\"dpldwsecvn\",\"dwpecs-qe-\",\"ewpwcf-dvw\",\"pepgffmkre\",\"p-efetedap\",\"fwqwdepct-\",\"fvvcdwqet-\",\"kpegdwqfdq\",\"cpglnwlflm\",\"edfgwp-eqt\",\"pdfqwhs-qe\",\"wmflptqeee\",\"ymdemfedae\",\"wftqtdp-pl\",\"wm-cmes-pe\",\"w-cepeefqe\",\"wlcwfew-ge\",\"wvvqfqw-ke\",\"w-vqdqwvae\",\"wkeeeqtdae\",\"pcmqwepdvt\",\"fnqewnpqnq\",\"mqaedgpqlq\",\"mngeqgpqpq\",\"eepewgaqfq\",\"mepewgpqpq\",\"pcfewgkqsq\",\"tcfewgetpq\",\"twfrwggieq\",\"mcfmwgpefh\",\"mevgdekpfe\",\"kfffeewdvq\",\"cpdfwefcfv\",\"empwwetef-\",\"mffwwekdae\",\"py-yfekdae\",\"petgeepkae\"]"
       ]
      }
     ],
     "prompt_number": 52
    },
    {
     "cell_type": "code",
     "collapsed": false,
     "input": [
      "import cc.factorie.util.TraversableExtras"
     ],
     "language": "python",
     "metadata": {},
     "outputs": [],
     "prompt_number": "*"
    },
    {
     "cell_type": "code",
     "collapsed": false,
     "input": [],
     "language": "python",
     "metadata": {},
     "outputs": []
    }
   ],
   "metadata": {}
  }
 ]
}