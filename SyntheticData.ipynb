{
 "metadata": {
  "name": ""
 },
 "nbformat": 3,
 "nbformat_minor": 0,
 "worksheets": [
  {
   "cells": [
    {
     "cell_type": "code",
     "collapsed": false,
     "input": [
      "import cc.factorie._\n",
      "import cc.factorie.directed._\n",
      "import la.{DenseTensor2, Tensor2, DenseTensor1, Tensor1}\n",
      "import cc.factorie.directed.{MaximizeMultivariateGaussianCovariance, MaximizeMultivariateGaussianMean, MultivariateGaussian, Gaussian}\n",
      "import cc.factorie.variable.{TensorVariable, DoubleVariable}\n",
      "import cc.factorie.infer.Maximize"
     ],
     "language": "python",
     "metadata": {},
     "outputs": [
      {
       "output_type": "stream",
       "stream": "stderr",
       "text": []
      },
      {
       "output_type": "stream",
       "stream": "stdout",
       "text": []
      }
     ],
     "prompt_number": 18
    },
    {
     "cell_type": "code",
     "collapsed": false,
     "input": [
      "val NUMSITES = 32\n",
      "val NUMAA = 21"
     ],
     "language": "python",
     "metadata": {},
     "outputs": [
      {
       "output_type": "stream",
       "stream": "stderr",
       "text": []
      },
      {
       "output_type": "stream",
       "stream": "stdout",
       "text": []
      },
      {
       "metadata": {},
       "output_type": "pyout",
       "prompt_number": 63,
       "text": [
        "21"
       ]
      }
     ],
     "prompt_number": 63
    },
    {
     "cell_type": "code",
     "collapsed": false,
     "input": [
      "val allEdges = (for(i <- 0 until NUMSITES; j <- 0 until NUMSITES if i < j) yield (i, j)).toSet"
     ],
     "language": "python",
     "metadata": {},
     "outputs": [
      {
       "output_type": "stream",
       "stream": "stderr",
       "text": []
      },
      {
       "output_type": "stream",
       "stream": "stdout",
       "text": []
      },
      {
       "metadata": {},
       "output_type": "pyout",
       "prompt_number": 24,
       "text": [
        "Set((1,20), (7,21), (1,8), (4,26), (2,5), (16,22), (2,28), (19,27), (19,31), (0,28), (5,31), (7,12), (14,30), (28,30), (0,29), (3,11), (1,5), (7,9), (17,26), (16,27), (9,10), (24,31), (10,15), (15,27), (16,21), (8,10), (18,23), (8,27), (15,28), (25,28), (2,17), (7,31), (21,30), (3,29), (4,12), (24,30), (13,23), (26,29), (16,24), (14,19), (7,20), (19,25), (6,7), (8,9), (0,30), (10,12), (15,21), (0,17), (9,16), (13,25), (6,30), (12,25), (5,15), (18,19), (12,23), (3,9), (1,21), (2,27), (24,28), (6,24), (20,24), (0,2), (21,23), (10,25), (0,25), (9,25), (13,19), (14,27), (10,24), (3,10), (6,10), (10,19), (22,26), (25,26), (13,28), (26,28), (2,19), (0,19), (3,25), (6,14), (5,13), (1,28), (16,20), (1,29), (4,10), (9,31), (0,22), (4,17), (3,4), (22,23), (24,25), (22,24), (14,16), (3,30), (27,29), (7,24), (7,23), (13,17), (10,20), (0,10), (5,19), (23,24), (11,19), (8,19), (25,29), (9,19), (4,7), (9,23), (12,17), (2,10), (6,22), (2,24), (0,20), (16,30), (18,30), (24,27), (0,18), (7,19), (11,24), (1,24), (26,27), (19,21), (10,28), (17,20), (24,26), (20,22), (13,15), (0,9), (12,20), (5,11), (17,23), (19,24), (18,22), (8,18), (7,8), (8,26), (9,18), (10,21), (8,29), (20,30), (5,9), (21,28), (17,29), (7,16), (9,30), (1,18), (21,24), (11,14), (19,23), (3,13), (0,7), (2,13), (0,3), (19,30), (3,22), (6,9), (26,31), (4,28), (5,20), (23,27), (29,31), (8,11), (20,26), (7,26), (7,29), (12,18), (0,14), (16,18), (19,29), (8,17), (7,22), (5,17), (5,10), (14,18), (9,13), (1,6), (1,11), (0,5), (3,6), (6,23), (10,18), (19,22), (2,8), (1,19), (20,28), (8,13), (5,29), (17,25), (11,16), (29,30), (6,8), (6,27), (1,12), (15,22), (3,28), (11,31), (6,15), (3,27), (6,11), (11,22), (12,29), (3,5), (1,30), (0,15), (23,29), (14,28), (7,14), (17,28), (8,25), (10,26), (20,23), (21,26), (14,24), (1,10), (3,24), (4,29), (10,23), (3,18), (9,28), (13,24), (4,6), (22,28), (8,23), (6,13), (10,29), (20,29), (4,20), (4,11), (1,9), (3,12), (7,13), (4,13), (1,25), (8,24), (2,15), (11,29), (27,28), (4,5), (17,21), (18,28), (23,30), (13,22), (12,31), (14,25), (6,16), (1,4), (1,31), (12,16), (2,6), (17,22), (10,13), (0,8), (8,20), (4,18), (9,15), (17,31), (13,18), (22,31), (8,15), (2,31), (11,21), (25,30), (4,9), (0,4), (22,27), (12,15), (0,23), (20,31), (1,27), (2,9), (2,29), (10,16), (5,7), (12,13), (18,31), (23,26), (11,26), (15,31), (21,29), (4,27), (5,12), (12,22), (5,30), (15,16), (16,31), (11,17), (13,29), (11,25), (7,11), (18,24), (19,20), (11,30), (3,21), (8,16), (10,14), (5,16), (6,28), (1,16), (21,22), (9,27), (7,10), (0,12), (0,16), (16,17), (6,19), (7,17), (12,26), (11,23), (2,21), (0,13), (24,29), (0,27), (1,3), (1,15), (6,21), (4,8), (5,28), (4,23), (27,30), (2,14), (14,31), (10,11), (2,23), (2,7), (5,21), (14,15), (9,14), (11,27), (6,18), (9,26), (28,31), (25,31), (2,4), (11,13), (4,25), (4,30), (1,22), (3,7), (14,23), (1,14), (0,11), (8,21), (9,21), (1,26), (4,24), (10,30), (7,27), (3,15), (10,31), (15,17), (11,18), (12,19), (6,17), (9,17), (15,19), (18,27), (16,19), (9,22), (15,23), (0,1), (15,24), (7,15), (0,21), (23,31), (17,24), (20,21), (13,26), (11,28), (16,26), (13,21), (4,14), (2,22), (18,25), (30,31), (7,28), (1,23), (10,17), (1,17), (13,31), (18,29), (8,22), (12,21), (1,13), (4,15), (22,29), (13,30), (2,11), (5,25), (5,8), (21,25), (2,16), (6,20), (8,31), (7,30), (6,12), (5,22), (1,7), (19,26), (0,26), (23,28), (3,19), (16,23), (6,26), (2,3), (5,18), (23,25), (27,31), (4,22), (2,20), (13,20), (11,15), (1,2), (3,31), (5,23), (4,31), (15,18), (10,22), (3,16), (25,27), (3,14), (16,25), (3,17), (7,25), (8,12), (17,27), (26,30), (21,31), (14,17), (9,24), (21,27), (13,27), (2,30), (15,26), (12,24), (22,30), (11,20), (3,26), (2,26), (28,29), (14,29), (18,21), (15,20), (13,14), (17,18), (14,21), (11,12), (20,25), (18,26), (14,22), (12,30), (5,14), (17,30), (8,30), (9,12), (9,20), (18,20), (17,19), (15,25), (15,30), (3,8), (19,28), (5,27), (8,28), (13,16), (12,28), (4,19), (5,6), (22,25), (14,20), (20,27), (16,28), (2,25), (4,16), (0,31), (12,14), (0,6), (5,24), (16,29), (5,26), (10,27), (7,18), (14,26), (2,12), (0,24), (3,20), (2,18), (6,31), (8,14), (12,27), (9,29), (6,29), (6,25), (4,21), (15,29), (3,23), (9,11))"
       ]
      }
     ],
     "prompt_number": 24
    },
    {
     "cell_type": "code",
     "collapsed": false,
     "input": [
      "def drawFromSet[A](p: Double, s: Set[A]): Set[A] = {\n",
      "    val rand = new scala.util.Random(0)\n",
      "    val drawn = for(i <- s if p > rand.nextDouble) yield i\n",
      "    drawn\n",
      "}"
     ],
     "language": "python",
     "metadata": {},
     "outputs": [
      {
       "output_type": "stream",
       "stream": "stdout",
       "text": []
      },
      {
       "output_type": "stream",
       "stream": "stderr",
       "text": []
      }
     ],
     "prompt_number": 56
    },
    {
     "cell_type": "code",
     "collapsed": false,
     "input": [
      "val drawnEdges = drawFromSet(0.05, allEdges)"
     ],
     "language": "python",
     "metadata": {},
     "outputs": [
      {
       "output_type": "stream",
       "stream": "stdout",
       "text": []
      },
      {
       "output_type": "stream",
       "stream": "stderr",
       "text": []
      },
      {
       "metadata": {},
       "output_type": "pyout",
       "prompt_number": 58,
       "text": [
        "Set((28,30), (24,30), (15,21), (18,19), (10,19), (25,26), (1,29), (4,17), (7,24), (25,29), (0,20), (5,11), (23,27), (0,5), (11,16), (14,28), (22,28), (13,22), (0,4), (22,27), (5,30), (6,28), (6,19), (2,21), (28,31), (0,11), (4,24), (7,27), (1,23), (1,13), (9,24), (8,30), (15,25))"
       ]
      }
     ],
     "prompt_number": 58
    },
    {
     "cell_type": "code",
     "collapsed": false,
     "input": [
      "import collection.mutable.Map"
     ],
     "language": "python",
     "metadata": {},
     "outputs": [
      {
       "output_type": "stream",
       "stream": "stderr",
       "text": []
      },
      {
       "output_type": "stream",
       "stream": "stdout",
       "text": []
      }
     ],
     "prompt_number": 61
    },
    {
     "cell_type": "code",
     "collapsed": false,
     "input": [
      "implicit val model = DirectedModel()\n",
      "implicit val random = new scala.util.Random(0)\n",
      "val mean = new DoubleVariable(0)\n",
      "val variance = new DoubleVariable(1.0)\n",
      "val localWeights = for(i <- 0 until NUMSITES) yield new DenseTensor1(NUMAA)\n",
      "for(s <- localWeights){\n",
      "    for(a <- 0 until NUMAA) {\n",
      "        val w = new DoubleVariable :~ Gaussian(mean, variance)\n",
      "        s(a) = w.value\n",
      "    }\n",
      "}      \n",
      "                        \n",
      "val pairWeights = Map[Pair[Int, Int], DenseTensor2]()\n",
      "for(e <- allEdges) pairWeights += (e -> new DenseTensor2(NUMAA, NUMAA))\n",
      "for(e <- drawnEdges){\n",
      "    for(a1 <- 0 until NUMAA; a2 <- 0 until NUMAA if a1 <= a2) {\n",
      "        val w = new DoubleVariable :~ Gaussian(mean, variance)\n",
      "        pairWeights(e)(a1, a2) = w.value\n",
      "        pairWeights(e)(a2, a1) = w.value\n",
      "    }\n",
      "}\n",
      "        \n",
      "                     \n",
      "    "
     ],
     "language": "python",
     "metadata": {},
     "outputs": [
      {
       "output_type": "stream",
       "stream": "stderr",
       "text": []
      },
      {
       "output_type": "stream",
       "stream": "stdout",
       "text": []
      }
     ],
     "prompt_number": 86
    },
    {
     "cell_type": "code",
     "collapsed": false,
     "input": [],
     "language": "python",
     "metadata": {},
     "outputs": []
    }
   ],
   "metadata": {}
  }
 ]
}