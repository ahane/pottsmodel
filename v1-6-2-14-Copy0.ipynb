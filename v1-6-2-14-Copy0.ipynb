{
 "metadata": {
  "name": ""
 },
 "nbformat": 3,
 "nbformat_minor": 0,
 "worksheets": [
  {
   "cells": [
    {
     "cell_type": "code",
     "collapsed": false,
     "input": [
      "import collection.mutable.{ArrayBuffer, Set, Map}\n",
      "import cc.factorie.variable.{CategoricalDomain, CategoricalVariable, DiffList, Var}"
     ],
     "language": "python",
     "metadata": {},
     "outputs": [
      {
       "output_type": "stream",
       "stream": "stdout",
       "text": []
      },
      {
       "output_type": "stream",
       "stream": "stderr",
       "text": []
      }
     ],
     "prompt_number": 28
    },
    {
     "cell_type": "code",
     "collapsed": false,
     "input": [
      "implicit val random = new scala.util.Random(0)\n",
      "implicit val d = new DiffList"
     ],
     "language": "python",
     "metadata": {},
     "outputs": [
      {
       "output_type": "stream",
       "stream": "stdout",
       "text": []
      },
      {
       "output_type": "stream",
       "stream": "stderr",
       "text": []
      },
      {
       "metadata": {},
       "output_type": "pyout",
       "prompt_number": 2,
       "text": [
        "DiffList()"
       ]
      }
     ],
     "prompt_number": 2
    },
    {
     "cell_type": "code",
     "collapsed": false,
     "input": [
      "object spinDomain extends CategoricalDomain[Char]"
     ],
     "language": "python",
     "metadata": {},
     "outputs": [
      {
       "output_type": "stream",
       "stream": "stdout",
       "text": []
      },
      {
       "output_type": "stream",
       "stream": "stderr",
       "text": []
      },
      {
       "metadata": {},
       "output_type": "pyout",
       "prompt_number": 3,
       "text": [
        "CategoricalDomain[](0)"
       ]
      }
     ],
     "prompt_number": 3
    },
    {
     "cell_type": "code",
     "collapsed": false,
     "input": [
      "class Spin(value: Char, val i: Int) extends CategoricalVariable[Char](value){\n",
      "    def domain = spinDomain\n",
      "    var cont: IndexedSeq[Spin] = null\n",
      "    def setContainer(c: IndexedSeq[Spin]): Unit = {this.cont = c}\n",
      "    override def toString = this.value.toString\n",
      "    \n",
      "}"
     ],
     "language": "python",
     "metadata": {},
     "outputs": [
      {
       "output_type": "stream",
       "stream": "stdout",
       "text": []
      },
      {
       "output_type": "stream",
       "stream": "stderr",
       "text": []
      }
     ],
     "prompt_number": 16
    },
    {
     "cell_type": "code",
     "collapsed": false,
     "input": [
      "def generateSpinVector(s: String): IndexedSeq[Spin] = {\n",
      "    val variables = for((s, i) <- s.zipWithIndex) yield new Spin(s, i)\n",
      "    variables.foreach(_.setContainer(variables))\n",
      "    variables\n",
      "}"
     ],
     "language": "python",
     "metadata": {},
     "outputs": [
      {
       "output_type": "stream",
       "stream": "stdout",
       "text": []
      },
      {
       "output_type": "stream",
       "stream": "stderr",
       "text": []
      }
     ],
     "prompt_number": 17
    },
    {
     "cell_type": "code",
     "collapsed": false,
     "input": [
      "class SpinContainer(values: String){\n",
      "    val variables = for((s, i) <- values.zipWithIndex) yield new Spin(s, i)\n",
      "    //variables.foreach(_.setContainer(this))\n",
      "    def apply(i: Int) = variables(i)\n",
      "}"
     ],
     "language": "python",
     "metadata": {},
     "outputs": [
      {
       "output_type": "stream",
       "stream": "stdout",
       "text": []
      },
      {
       "ename": "",
       "evalue": "",
       "output_type": "pyerr",
       "traceback": [
        "<console>:12: error: not found: type Spin",
        "           val variables = for((s, i) <- values.zipWithIndex) yield new Spin(s, i)",
        "                                                                        ^"
       ]
      },
      {
       "output_type": "stream",
       "stream": "stderr",
       "text": []
      }
     ],
     "prompt_number": 4
    },
    {
     "cell_type": "code",
     "collapsed": false,
     "input": [
      "import cc.factorie.model.{Parameters, Model, Factor, DotFamilyWithStatistics1, DotFamilyWithStatistics2}\n",
      "import cc.factorie.la.{DenseTensor1, DenseTensor2}"
     ],
     "language": "python",
     "metadata": {},
     "outputs": [
      {
       "output_type": "stream",
       "stream": "stdout",
       "text": []
      },
      {
       "output_type": "stream",
       "stream": "stderr",
       "text": []
      }
     ],
     "prompt_number": 26
    },
    {
     "cell_type": "code",
     "collapsed": false,
     "input": [
      "for(i <- 1 to 5) print(i)"
     ],
     "language": "python",
     "metadata": {},
     "outputs": [
      {
       "output_type": "stream",
       "stream": "stdout",
       "text": [
        "12345"
       ]
      },
      {
       "output_type": "stream",
       "stream": "stderr",
       "text": []
      }
     ],
     "prompt_number": 37
    },
    {
     "cell_type": "code",
     "collapsed": false,
     "input": [
      "class PottsModel(val num: Int, val spinDomain: CategoricalDomain[Char]) extends Model with Parameters {\n",
      "    val domSize = spinDomain.size\n",
      "    \n",
      "    val localFamilies = for(i <- 0 until num) yield new DotFamilyWithStatistics1[Spin] {val weights = Weights(new DenseTensor1(domSize))}\n",
      "    \n",
      "    val pairwiseFamilies = Map[(Int, Int), DotFamilyWithStatistics2[Spin, Spin]]()\n",
      "    for(i <- 0 until num; j <- 0 until num if i != j) { \n",
      "        pairwiseFamilies += ((i, j) -> new DotFamilyWithStatistics2[Spin, Spin] {\n",
      "            val weights = Weights(new DenseTensor2(domSize, domSize))\n",
      "        })\n",
      "    }\n",
      "            \n",
      "    def factors(variables: Iterable[Var]): Iterable[Factor] = {\n",
      "        val results = new ArrayBuffer[Factor]\n",
      "        \n",
      "        val spins = variables collect {case s: Spin => s}\n",
      "        \n",
      "        for(s <- spins){\n",
      "                val i = s.i\n",
      "                val localFamiliy = localFamilies(i)\n",
      "                results += localFamiliy.Factor(s)\n",
      "                \n",
      "                val spinContainer = s.cont\n",
      "                val pKeys = pairwiseFamilies.keys.filter((k: Pair[Int, Int]) => k._1 == i || k._2 == i)\n",
      "                for(k <- pKeys) {\n",
      "                    val pairwiseFamily = pairwiseFamilies(k)\n",
      "                    //TODO: is the order of variable important here?\n",
      "                    results += pairwiseFamily.Factor(spinContainer(k._1), spinContainer(k._2))\n",
      "                }\n",
      "        }\n",
      "        results\n",
      "    }\n",
      "    \n",
      "    \n",
      "}"
     ],
     "language": "python",
     "metadata": {},
     "outputs": [
      {
       "output_type": "stream",
       "stream": "stdout",
       "text": []
      },
      {
       "output_type": "stream",
       "stream": "stderr",
       "text": []
      }
     ],
     "prompt_number": 38
    },
    {
     "cell_type": "code",
     "collapsed": false,
     "input": [
      "class PottsModel(val num: Int, val spinDomain: CategoricalDomain[Char]) extends Model with Parameters {\n",
      "    \n",
      "    val localFamilies = for(i <- 0 until num) yield new DotFamilyWithStatistics1[Spin] {val weights = Weights(new DenseTensor1(spinDomain.size))}\n",
      "    val pairwiseFamilies = \n",
      "    def factors(variables: Iterable[Var]): Iterable[Factor] = {\n",
      "        val results = new ArrayBuffer[Factor]\n",
      "        val spins = variables collect {case s: Spin => s}\n",
      "            for(s <- spins){\n",
      "                val f = localFamilies(s.i)\n",
      "                results += f.Factor(s)\n",
      "            }\n",
      "        results\n",
      "    }\n",
      "}"
     ],
     "language": "python",
     "metadata": {},
     "outputs": []
    },
    {
     "cell_type": "code",
     "collapsed": false,
     "input": [
      "val myData = List(\n",
      "                  \"A0E0B\",\n",
      "                  \"A0E0B\",\n",
      "                  \"D0E0C\",\n",
      "                  \"A0E0B\",\n",
      "                  \"D0E0C\",\n",
      "                  \"A0E0B\",\n",
      "                  \"D0E0C\",\n",
      "                  \"A0E0B\",\n",
      "                  \"A0E0B\",\n",
      "                  \"D0E0D\"\n",
      "                  )\n",
      "val myVaribs = for(e <- myData) yield generateSpinVector(e)\n",
      "val model = new PottsModel(5, spinDomain)\n",
      "model.factors(myVaribs(0))"
     ],
     "language": "python",
     "metadata": {},
     "outputs": [
      {
       "output_type": "stream",
       "stream": "stdout",
       "text": []
      },
      {
       "output_type": "stream",
       "stream": "stderr",
       "text": []
      },
      {
       "metadata": {},
       "output_type": "pyout",
       "prompt_number": 40,
       "text": [
        "ArrayBuffer(PottsModel$$anonfun$2$$anon$1(A), PottsModel$$anonfun$4$$anonfun$apply$mcVI$sp$2$$anon$2(A,E), PottsModel$$anonfun$4$$anonfun$apply$mcVI$sp$2$$anon$2(B,A), PottsModel$$anonfun$4$$anonfun$apply$mcVI$sp$2$$anon$2(E,A), PottsModel$$anonfun$4$$anonfun$apply$mcVI$sp$2$$anon$2(A,0), PottsModel$$anonfun$4$$anonfun$apply$mcVI$sp$2$$anon$2(0,A), PottsModel$$anonfun$4$$anonfun$apply$mcVI$sp$2$$anon$2(A,B), PottsModel$$anonfun$4$$anonfun$apply$mcVI$sp$2$$anon$2(A,0), PottsModel$$anonfun$4$$anonfun$apply$mcVI$sp$2$$anon$2(0,A), PottsModel$$anonfun$2$$anon$1(0), PottsModel$$anonfun$4$$anonfun$apply$mcVI$sp$2$$anon$2(0,0), PottsModel$$anonfun$4$$anonfun$apply$mcVI$sp$2$$anon$2(B,0), PottsModel$$anonfun$4$$anonfun$apply$mcVI$sp$2$$anon$2(0,B), PottsModel$$anonfun$4$$anonfun$apply$mcVI$sp$2$$anon$2(0,0), PottsModel$$anonfun$4$$anonfun$apply$mcVI$sp$2$$anon$2(A,0), PottsModel$$anonfun$4$$anonfun$apply$mcVI$sp$2$$anon$2(0,E), PottsModel$$anonfun$4$$anonfun$apply$mcVI$sp$2$$anon$2(E,0), PottsModel$$anonfun$4$$anonfun$apply$mcVI$sp$2$$anon$2(0,A), PottsModel$$anonfun$2$$anon$1(E), PottsModel$$anonfun$4$$anonfun$apply$mcVI$sp$2$$anon$2(A,E), PottsModel$$anonfun$4$$anonfun$apply$mcVI$sp$2$$anon$2(E,A), PottsModel$$anonfun$4$$anonfun$apply$mcVI$sp$2$$anon$2(0,E), PottsModel$$anonfun$4$$anonfun$apply$mcVI$sp$2$$anon$2(B,E), PottsModel$$anonfun$4$$anonfun$apply$mcVI$sp$2$$anon$2(E,B), PottsModel$$anonfun$4$$anonfun$apply$mcVI$sp$2$$anon$2(E,0), PottsModel$$anonfun$4$$anonfun$apply$mcVI$sp$2$$anon$2(0,E), PottsModel$$anonfun$4$$anonfun$apply$mcVI$sp$2$$anon$2(E,0), PottsModel$$anonfun$2$$anon$1(0), PottsModel$$anonfun$4$$anonfun$apply$mcVI$sp$2$$anon$2(0,B), PottsModel$$anonfun$4$$anonfun$apply$mcVI$sp$2$$anon$2(0,0), PottsModel$$anonfun$4$$anonfun$apply$mcVI$sp$2$$anon$2(A,0), PottsModel$$anonfun$4$$anonfun$apply$mcVI$sp$2$$anon$2(0,A), PottsModel$$anonfun$4$$anonfun$apply$mcVI$sp$2$$anon$2(0,E), PottsModel$$anonfun$4$$anonfun$apply$mcVI$sp$2$$anon$2(0,0), PottsModel$$anonfun$4$$anonfun$apply$mcVI$sp$2$$anon$2(E,0), PottsModel$$anonfun$4$$anonfun$apply$mcVI$sp$2$$anon$2(B,0), PottsModel$$anonfun$2$$anon$1(B), PottsModel$$anonfun$4$$anonfun$apply$mcVI$sp$2$$anon$2(B,A), PottsModel$$anonfun$4$$anonfun$apply$mcVI$sp$2$$anon$2(0,B), PottsModel$$anonfun$4$$anonfun$apply$mcVI$sp$2$$anon$2(B,0), PottsModel$$anonfun$4$$anonfun$apply$mcVI$sp$2$$anon$2(0,B), PottsModel$$anonfun$4$$anonfun$apply$mcVI$sp$2$$anon$2(A,B), PottsModel$$anonfun$4$$anonfun$apply$mcVI$sp$2$$anon$2(B,E), PottsModel$$anonfun$4$$anonfun$apply$mcVI$sp$2$$anon$2(E,B), PottsModel$$anonfun$4$$anonfun$apply$mcVI$sp$2$$anon$2(B,0))"
       ]
      }
     ],
     "prompt_number": 40
    },
    {
     "cell_type": "code",
     "collapsed": false,
     "input": [
      "myVaribs(0)"
     ],
     "language": "python",
     "metadata": {},
     "outputs": [
      {
       "output_type": "stream",
       "stream": "stderr",
       "text": []
      },
      {
       "output_type": "stream",
       "stream": "stdout",
       "text": []
      },
      {
       "metadata": {},
       "output_type": "pyout",
       "prompt_number": 35,
       "text": [
        "Vector(A, 0, E, 0, B)"
       ]
      }
     ],
     "prompt_number": 35
    },
    {
     "cell_type": "code",
     "collapsed": false,
     "input": [
      "import cc.factorie.optimize.{AdaGrad, Trainer, LikelihoodExample}\n",
      "import cc.factorie.infer.{InferByMeanField, InferByBPLoopy}"
     ],
     "language": "python",
     "metadata": {},
     "outputs": [
      {
       "output_type": "stream",
       "stream": "stderr",
       "text": []
      },
      {
       "output_type": "stream",
       "stream": "stdout",
       "text": []
      }
     ],
     "prompt_number": 230
    },
    {
     "cell_type": "code",
     "collapsed": false,
     "input": [
      "val examples = myVaribs.map(v => new LikelihoodExample(v.variables, model, InferByBPLoopy))"
     ],
     "language": "python",
     "metadata": {},
     "outputs": [
      {
       "output_type": "stream",
       "stream": "stdout",
       "text": []
      },
      {
       "output_type": "stream",
       "stream": "stderr",
       "text": []
      },
      {
       "metadata": {},
       "output_type": "pyout",
       "prompt_number": 246,
       "text": [
        "List(cc.factorie.optimize.LikelihoodExample@12e8ed75, cc.factorie.optimize.LikelihoodExample@7a3da605, cc.factorie.optimize.LikelihoodExample@655ed0f5, cc.factorie.optimize.LikelihoodExample@33e8b8d1, cc.factorie.optimize.LikelihoodExample@73bdbbf6, cc.factorie.optimize.LikelihoodExample@2d7f4ed7, cc.factorie.optimize.LikelihoodExample@1111c97, cc.factorie.optimize.LikelihoodExample@a6bfe0d, cc.factorie.optimize.LikelihoodExample@37f40cd3, cc.factorie.optimize.LikelihoodExample@77760d57)"
       ]
      }
     ],
     "prompt_number": 246
    },
    {
     "cell_type": "code",
     "collapsed": false,
     "input": [
      "spinDomain._elements"
     ],
     "language": "python",
     "metadata": {},
     "outputs": [
      {
       "output_type": "stream",
       "stream": "stdout",
       "text": []
      },
      {
       "output_type": "stream",
       "stream": "stderr",
       "text": []
      },
      {
       "metadata": {},
       "output_type": "pyout",
       "prompt_number": 257,
       "text": [
        "ArrayBuffer(A, 0, E, B, D, C)"
       ]
      }
     ],
     "prompt_number": 257
    },
    {
     "cell_type": "code",
     "collapsed": false,
     "input": [
      "val optimizer0 = new AdaGrad()"
     ],
     "language": "python",
     "metadata": {},
     "outputs": [
      {
       "output_type": "stream",
       "stream": "stdout",
       "text": []
      },
      {
       "output_type": "stream",
       "stream": "stderr",
       "text": []
      },
      {
       "metadata": {},
       "output_type": "pyout",
       "prompt_number": 247,
       "text": [
        "cc.factorie.optimize.AdaGrad@5e7542a3"
       ]
      }
     ],
     "prompt_number": 247
    },
    {
     "cell_type": "code",
     "collapsed": false,
     "input": [
      "Trainer.onlineTrain(model.parameters, examples)"
     ],
     "language": "python",
     "metadata": {},
     "outputs": [
      {
       "output_type": "stream",
       "stream": "stdout",
       "text": []
      },
      {
       "output_type": "stream",
       "stream": "stderr",
       "text": []
      }
     ],
     "prompt_number": 248
    },
    {
     "cell_type": "code",
     "collapsed": false,
     "input": [
      "model.parameters.tensors"
     ],
     "language": "python",
     "metadata": {},
     "outputs": [
      {
       "output_type": "stream",
       "stream": "stderr",
       "text": []
      },
      {
       "output_type": "stream",
       "stream": "stdout",
       "text": []
      },
      {
       "metadata": {},
       "output_type": "pyout",
       "prompt_number": 258,
       "text": [
        "ArrayBuffer(Tensor1(1.1029048776105241,-2.124878239000197,-2.124878239000197,-2.124878239000197,0.28931430529665836,-2.124878239000197), Tensor1(-1.7657712338433094,2.4297409293510386,-1.7657712338433094,-1.7657712338433094,-1.7657712338433094,-1.7657712338433094), Tensor1(-1.7657712338433094,-1.7657712338433094,2.4297409293510386,-1.7657712338433094,-1.7657712338433094,-1.7657712338433094), Tensor1(-1.7657712338433094,2.4297409293510386,-1.7657712338433094,-1.7657712338433094,-1.7657712338433094,-1.7657712338433094), Tensor1(-2.162039095459959,-2.162039095459959,-2.162039095459959,1.0222885186678548,-1.1482098861598997,-0.04865833963490934))"
       ]
      }
     ],
     "prompt_number": 258
    },
    {
     "cell_type": "code",
     "collapsed": false,
     "input": [],
     "language": "python",
     "metadata": {},
     "outputs": []
    }
   ],
   "metadata": {}
  }
 ]
}