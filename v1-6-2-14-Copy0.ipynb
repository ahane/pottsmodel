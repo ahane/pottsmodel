{
 "metadata": {
  "name": ""
 },
 "nbformat": 3,
 "nbformat_minor": 0,
 "worksheets": [
  {
   "cells": [
    {
     "cell_type": "code",
     "collapsed": false,
     "input": [
      "import collection.mutable.{ArrayBuffer, Set}\n",
      "import cc.factorie.variable.{CategoricalDomain, CategoricalVariable, DiffList}"
     ],
     "language": "python",
     "metadata": {},
     "outputs": [
      {
       "output_type": "stream",
       "stream": "stdout",
       "text": []
      },
      {
       "output_type": "stream",
       "stream": "stderr",
       "text": []
      }
     ],
     "prompt_number": 32
    },
    {
     "cell_type": "code",
     "collapsed": false,
     "input": [
      "implicit val random = new scala.util.Random(0)\n",
      "implicit val d = new DiffList"
     ],
     "language": "python",
     "metadata": {},
     "outputs": [
      {
       "output_type": "stream",
       "stream": "stdout",
       "text": []
      },
      {
       "output_type": "stream",
       "stream": "stderr",
       "text": []
      },
      {
       "metadata": {},
       "output_type": "pyout",
       "prompt_number": 33,
       "text": [
        "DiffList()"
       ]
      }
     ],
     "prompt_number": 33
    },
    {
     "cell_type": "code",
     "collapsed": false,
     "input": [
      "object spinDomain extends CategoricalDomain[Char]"
     ],
     "language": "python",
     "metadata": {},
     "outputs": [
      {
       "output_type": "stream",
       "stream": "stdout",
       "text": []
      },
      {
       "output_type": "stream",
       "stream": "stderr",
       "text": []
      },
      {
       "metadata": {},
       "output_type": "pyout",
       "prompt_number": 240,
       "text": [
        "CategoricalDomain[](0)"
       ]
      }
     ],
     "prompt_number": 240
    },
    {
     "cell_type": "code",
     "collapsed": false,
     "input": [
      "class Spin(value: Char, val i: Int) extends CategoricalVariable[Char](value){\n",
      "    def domain = spinDomain\n",
      "    override def toString = this.value.toString\n",
      "}"
     ],
     "language": "python",
     "metadata": {},
     "outputs": [
      {
       "output_type": "stream",
       "stream": "stderr",
       "text": []
      },
      {
       "output_type": "stream",
       "stream": "stdout",
       "text": []
      }
     ],
     "prompt_number": 241
    },
    {
     "cell_type": "code",
     "collapsed": false,
     "input": [
      "class SpinContainer(values: String){\n",
      "    val variables = for((s, i) <- values.zipWithIndex) yield new Spin(s, i)\n",
      "    def apply(i: Int) = variables(i)\n",
      "}"
     ],
     "language": "python",
     "metadata": {},
     "outputs": [
      {
       "output_type": "stream",
       "stream": "stderr",
       "text": []
      },
      {
       "output_type": "stream",
       "stream": "stdout",
       "text": []
      }
     ],
     "prompt_number": 242
    },
    {
     "cell_type": "code",
     "collapsed": false,
     "input": [
      "import cc.factorie.model.{Parameters, Model, DotFamilyWithStatistics1}\n",
      "import cc.factorie.la.{DenseTensor1}"
     ],
     "language": "python",
     "metadata": {},
     "outputs": [
      {
       "output_type": "stream",
       "stream": "stdout",
       "text": []
      },
      {
       "output_type": "stream",
       "stream": "stderr",
       "text": []
      }
     ],
     "prompt_number": 123
    },
    {
     "cell_type": "code",
     "collapsed": false,
     "input": [
      "class PottsModel(val num: Int, val spinDomain: CategoricalDomain[Char]) extends Model with Parameters {\n",
      "    val families = for(i <- 0 until num) yield new DotFamilyWithStatistics1[Spin] {val weights = Weights(new DenseTensor1(spinDomain.size))}\n",
      "    def factors(variables: Iterable[Var]): Iterable[Factor] = {\n",
      "        val results = new ArrayBuffer[Factor]\n",
      "        val spins = variables collect {case s: Spin => s}\n",
      "            for(s <- spins){\n",
      "                val f = families(s.i)\n",
      "                results += f.Factor(s)\n",
      "            }\n",
      "        results\n",
      "    }\n",
      "}"
     ],
     "language": "python",
     "metadata": {},
     "outputs": [
      {
       "output_type": "stream",
       "stream": "stderr",
       "text": []
      },
      {
       "output_type": "stream",
       "stream": "stdout",
       "text": []
      }
     ],
     "prompt_number": 243
    },
    {
     "cell_type": "code",
     "collapsed": false,
     "input": [
      "val myData = List(\n",
      "                  \"A0E0B\",\n",
      "                  \"A0E0B\",\n",
      "                  \"D0E0C\",\n",
      "                  \"A0E0B\",\n",
      "                  \"D0E0C\",\n",
      "                  \"A0E0B\",\n",
      "                  \"D0E0C\",\n",
      "                  \"A0E0B\",\n",
      "                  \"A0E0B\",\n",
      "                  \"D0E0D\"\n",
      "                  )\n",
      "val myVaribs = for(e <- myData) yield new SpinContainer(e)\n",
      "val model = new PottsModel(5, spinDomain)\n",
      "model.factors(myVaribs(0).variables)"
     ],
     "language": "python",
     "metadata": {},
     "outputs": [
      {
       "output_type": "stream",
       "stream": "stdout",
       "text": []
      },
      {
       "output_type": "stream",
       "stream": "stderr",
       "text": []
      },
      {
       "metadata": {},
       "output_type": "pyout",
       "prompt_number": 244,
       "text": [
        "ArrayBuffer(PottsModel$$anonfun$2$$anon$1(A), PottsModel$$anonfun$2$$anon$1(0), PottsModel$$anonfun$2$$anon$1(E), PottsModel$$anonfun$2$$anon$1(0), PottsModel$$anonfun$2$$anon$1(B))"
       ]
      }
     ],
     "prompt_number": 244
    },
    {
     "cell_type": "code",
     "collapsed": false,
     "input": [
      "import cc.factorie.optimize.{AdaGrad, Trainer, LikelihoodExample}\n",
      "import cc.factorie.infer.{InferByMeanField, InferByBPLoopy}"
     ],
     "language": "python",
     "metadata": {},
     "outputs": [
      {
       "output_type": "stream",
       "stream": "stderr",
       "text": []
      },
      {
       "output_type": "stream",
       "stream": "stdout",
       "text": []
      }
     ],
     "prompt_number": 230
    },
    {
     "cell_type": "code",
     "collapsed": false,
     "input": [
      "val examples = myVaribs.map(v => new LikelihoodExample(v.variables, model, InferByBPLoopy))"
     ],
     "language": "python",
     "metadata": {},
     "outputs": [
      {
       "output_type": "stream",
       "stream": "stdout",
       "text": []
      },
      {
       "output_type": "stream",
       "stream": "stderr",
       "text": []
      },
      {
       "metadata": {},
       "output_type": "pyout",
       "prompt_number": 246,
       "text": [
        "List(cc.factorie.optimize.LikelihoodExample@12e8ed75, cc.factorie.optimize.LikelihoodExample@7a3da605, cc.factorie.optimize.LikelihoodExample@655ed0f5, cc.factorie.optimize.LikelihoodExample@33e8b8d1, cc.factorie.optimize.LikelihoodExample@73bdbbf6, cc.factorie.optimize.LikelihoodExample@2d7f4ed7, cc.factorie.optimize.LikelihoodExample@1111c97, cc.factorie.optimize.LikelihoodExample@a6bfe0d, cc.factorie.optimize.LikelihoodExample@37f40cd3, cc.factorie.optimize.LikelihoodExample@77760d57)"
       ]
      }
     ],
     "prompt_number": 246
    },
    {
     "cell_type": "code",
     "collapsed": false,
     "input": [
      "spinDomain._elements"
     ],
     "language": "python",
     "metadata": {},
     "outputs": [
      {
       "output_type": "stream",
       "stream": "stdout",
       "text": []
      },
      {
       "output_type": "stream",
       "stream": "stderr",
       "text": []
      },
      {
       "metadata": {},
       "output_type": "pyout",
       "prompt_number": 257,
       "text": [
        "ArrayBuffer(A, 0, E, B, D, C)"
       ]
      }
     ],
     "prompt_number": 257
    },
    {
     "cell_type": "code",
     "collapsed": false,
     "input": [
      "val optimizer0 = new AdaGrad()"
     ],
     "language": "python",
     "metadata": {},
     "outputs": [
      {
       "output_type": "stream",
       "stream": "stdout",
       "text": []
      },
      {
       "output_type": "stream",
       "stream": "stderr",
       "text": []
      },
      {
       "metadata": {},
       "output_type": "pyout",
       "prompt_number": 247,
       "text": [
        "cc.factorie.optimize.AdaGrad@5e7542a3"
       ]
      }
     ],
     "prompt_number": 247
    },
    {
     "cell_type": "code",
     "collapsed": false,
     "input": [
      "Trainer.onlineTrain(model.parameters, examples)"
     ],
     "language": "python",
     "metadata": {},
     "outputs": [
      {
       "output_type": "stream",
       "stream": "stdout",
       "text": []
      },
      {
       "output_type": "stream",
       "stream": "stderr",
       "text": []
      }
     ],
     "prompt_number": 248
    },
    {
     "cell_type": "code",
     "collapsed": false,
     "input": [
      "model.parameters.tensors"
     ],
     "language": "python",
     "metadata": {},
     "outputs": [
      {
       "output_type": "stream",
       "stream": "stderr",
       "text": []
      },
      {
       "output_type": "stream",
       "stream": "stdout",
       "text": []
      },
      {
       "metadata": {},
       "output_type": "pyout",
       "prompt_number": 249,
       "text": [
        "ArrayBuffer(Tensor1(1.1029048776105241,-2.124878239000197,-2.124878239000197,-2.124878239000197,0.28931430529665836,-2.124878239000197), Tensor1(-1.7657712338433094,2.4297409293510386,-1.7657712338433094,-1.7657712338433094,-1.7657712338433094,-1.7657712338433094), Tensor1(-1.7657712338433094,-1.7657712338433094,2.4297409293510386,-1.7657712338433094,-1.7657712338433094,-1.7657712338433094), Tensor1(-1.7657712338433094,2.4297409293510386,-1.7657712338433094,-1.7657712338433094,-1.7657712338433094,-1.7657712338433094), Tensor1(-2.162039095459959,-2.162039095459959,-2.162039095459959,1.0222885186678548,-1.1482098861598997,-0.04865833963490934))"
       ]
      }
     ],
     "prompt_number": 249
    },
    {
     "cell_type": "code",
     "collapsed": false,
     "input": [
      "import cc.factorie.model.DotFamilyWithStatistics2"
     ],
     "language": "python",
     "metadata": {},
     "outputs": [
      {
       "output_type": "stream",
       "stream": "stderr",
       "text": []
      },
      {
       "output_type": "stream",
       "stream": "stdout",
       "text": []
      }
     ],
     "prompt_number": 72
    },
    {
     "cell_type": "markdown",
     "metadata": {},
     "source": [
      "Singleton Factors\n",
      "-> Singleton Variables?\n",
      "A model is a source of factors\n",
      "Infer methods take a set of variables and a model\n"
     ]
    },
    {
     "cell_type": "code",
     "collapsed": false,
     "input": [
      "import cc.factorie.model.DotFamily1"
     ],
     "language": "python",
     "metadata": {},
     "outputs": [
      {
       "output_type": "stream",
       "stream": "stderr",
       "text": []
      },
      {
       "output_type": "stream",
       "stream": "stdout",
       "text": []
      }
     ],
     "prompt_number": 59
    },
    {
     "cell_type": "code",
     "collapsed": false,
     "input": [
      "import cc.factorie.variable.Var"
     ],
     "language": "python",
     "metadata": {},
     "outputs": [
      {
       "output_type": "stream",
       "stream": "stdout",
       "text": []
      },
      {
       "output_type": "stream",
       "stream": "stderr",
       "text": []
      }
     ],
     "prompt_number": 99
    },
    {
     "cell_type": "code",
     "collapsed": false,
     "input": [
      "import cc.factorie.model.{ItemizedModel, Weights1, Factor, Model}"
     ],
     "language": "python",
     "metadata": {},
     "outputs": [
      {
       "output_type": "stream",
       "stream": "stdout",
       "text": []
      },
      {
       "ename": "",
       "evalue": "",
       "output_type": "pyerr",
       "traceback": [
        "<console>:41: error: object Var is not a member of package cc.factorie.model",
        "       import cc.factorie.model.{ItemizedModel, Weights1, Factor, Model, Var}",
        "              ^"
       ]
      },
      {
       "output_type": "stream",
       "stream": "stderr",
       "text": []
      }
     ],
     "prompt_number": 98
    },
    {
     "cell_type": "code",
     "collapsed": false,
     "input": [
      "class PottsModel(val num: Int, val spinDomain: CategoricalDomain[Char]) extends Model with Parameters {\n",
      "    val families = for(i <- 0 until num) yield new DotFamilyWithStatistics1[Spin] {val weights = Weights(new DenseTensor1(spinDomain.size))}\n",
      "    val f = new DotFamilyWithStatistics1[Spin] { val weights = Weights(new DenseTensor1(spinDomain.size))}\n",
      "    def factors(variables: Iterable[Var]): Iterable[Factor] = {\n",
      "        val results = new ArrayBuffer[Factor]\n",
      "        variables match {\n",
      "            case spins: Iterable[Spin] => {\n",
      "                for(s <- spins){\n",
      "                    val f = families(s.i)\n",
      "                    results += f.Factor(s)\n",
      "                }\n",
      "            }\n",
      "        }\n",
      "        results\n",
      "    }\n",
      "}"
     ],
     "language": "python",
     "metadata": {},
     "outputs": [
      {
       "output_type": "stream",
       "stream": "stdout",
       "text": []
      },
      {
       "output_type": "stream",
       "stream": "stderr",
       "text": []
      }
     ],
     "prompt_number": 122
    },
    {
     "cell_type": "code",
     "collapsed": false,
     "input": [],
     "language": "python",
     "metadata": {},
     "outputs": []
    }
   ],
   "metadata": {}
  }
 ]
}