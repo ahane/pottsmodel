{
 "metadata": {
  "name": ""
 },
 "nbformat": 3,
 "nbformat_minor": 0,
 "worksheets": [
  {
   "cells": [
    {
     "cell_type": "code",
     "collapsed": false,
     "input": [
      "import collection.mutable.{ArrayBuffer, Set}\n",
      "import cc.factorie.variable.{CategoricalDomain, CategoricalVariable, DiffList}"
     ],
     "language": "python",
     "metadata": {},
     "outputs": [
      {
       "output_type": "stream",
       "stream": "stdout",
       "text": []
      },
      {
       "output_type": "stream",
       "stream": "stderr",
       "text": []
      },
      {
       "output_type": "stream",
       "stream": "stdout",
       "text": []
      },
      {
       "output_type": "stream",
       "stream": "stderr",
       "text": []
      }
     ],
     "prompt_number": 2
    },
    {
     "cell_type": "code",
     "collapsed": false,
     "input": [
      "implicit val random = new scala.util.Random(0)\n",
      "implicit val d = new DiffList"
     ],
     "language": "python",
     "metadata": {},
     "outputs": [
      {
       "output_type": "stream",
       "stream": "stderr",
       "text": []
      },
      {
       "output_type": "stream",
       "stream": "stdout",
       "text": []
      },
      {
       "metadata": {},
       "output_type": "pyout",
       "prompt_number": 3,
       "text": [
        "DiffList()"
       ]
      }
     ],
     "prompt_number": 3
    },
    {
     "cell_type": "code",
     "collapsed": false,
     "input": [
      "object spinDomain extends CategoricalDomain[Char]"
     ],
     "language": "python",
     "metadata": {},
     "outputs": [
      {
       "output_type": "stream",
       "stream": "stderr",
       "text": []
      },
      {
       "output_type": "stream",
       "stream": "stdout",
       "text": []
      },
      {
       "metadata": {},
       "output_type": "pyout",
       "prompt_number": 6,
       "text": [
        "CategoricalDomain[](0)"
       ]
      }
     ],
     "prompt_number": 6
    },
    {
     "cell_type": "code",
     "collapsed": false,
     "input": [
      "class Spin(val struct: Structure, value: Char = 'A') extends CategoricalVariable[Char](value){\n",
      "    def domain = spinDomain\n",
      "    override def toString = this.value.toString\n",
      "    def neighbours: Set[Spin] = struct.getNeighbours(this)\n",
      "}\n",
      "trait Structure {\n",
      "    def getNeighbours(s: Spin): Set[Spin]\n",
      "}"
     ],
     "language": "python",
     "metadata": {},
     "outputs": [
      {
       "output_type": "stream",
       "stream": "stdout",
       "text": []
      },
      {
       "output_type": "stream",
       "stream": "stderr",
       "text": []
      }
     ],
     "prompt_number": 7
    },
    {
     "cell_type": "code",
     "collapsed": false,
     "input": [
      "class FullyConnected(values: String) extends Structure {\n",
      "    val variables = for(s <- values) yield new Spin(this, s)\n",
      "    val varSet = variables.to[Set]\n",
      "    override def getNeighbours(v: Spin) = varSet - v\n",
      "    override def toString = variables.map(_.toString).mkString(\"\")\n",
      "}"
     ],
     "language": "python",
     "metadata": {},
     "outputs": [
      {
       "output_type": "stream",
       "stream": "stderr",
       "text": []
      },
      {
       "output_type": "stream",
       "stream": "stdout",
       "text": []
      }
     ],
     "prompt_number": 8
    },
    {
     "cell_type": "code",
     "collapsed": false,
     "input": [
      "import cc.factorie.model.{Parameters, DotTemplateWithStatistics2, DotTemplateWithStatistics1, TemplateModel, Weights}\n",
      "import cc.factorie.la.{DenseTensor1, DenseTensor2}"
     ],
     "language": "python",
     "metadata": {},
     "outputs": [
      {
       "output_type": "stream",
       "stream": "stdout",
       "text": []
      },
      {
       "output_type": "stream",
       "stream": "stderr",
       "text": []
      }
     ],
     "prompt_number": 9
    },
    {
     "cell_type": "code",
     "collapsed": false,
     "input": [
      "val model = new TemplateModel with Parameters {\n",
      "    addTemplates(\n",
      "        \n",
      "        //the local bias h\n",
      "        new DotTemplateWithStatistics1[Spin] {\n",
      "            val weights = Weights(new DenseTensor1(spinDomain.size))\n",
      "        },\n",
      "        \n",
      "        //the pairwise factors J\n",
      "        new DotTemplateWithStatistics2[Spin, Spin] {\n",
      "            val weights = Weights(new DenseTensor2(spinDomain.size, spinDomain.size))\n",
      "            def unroll1(s: Spin) = {\n",
      "                val factors = new ArrayBuffer[Factor]\n",
      "                s.neighbours.foreach(factors += Factor(s, _))\n",
      "                factors\n",
      "            }\n",
      "            //because all pairwise factors are symmetric we dont have to unroll twice\n",
      "            def unroll2(s: Spin) = Nil\n",
      "        }\n",
      "    )\n",
      "}\n",
      "                        "
     ],
     "language": "python",
     "metadata": {},
     "outputs": [
      {
       "output_type": "stream",
       "stream": "stderr",
       "text": []
      },
      {
       "output_type": "stream",
       "stream": "stdout",
       "text": []
      },
      {
       "metadata": {},
       "output_type": "pyout",
       "prompt_number": 10,
       "text": [
        "$anon$3@183069d8"
       ]
      }
     ],
     "prompt_number": 10
    },
    {
     "cell_type": "code",
     "collapsed": false,
     "input": [
      "val myData = List(\n",
      "                  \"A000B\",\n",
      "                  \"A000B\",\n",
      "                  \"D000C\",\n",
      "                  \"A000B\",\n",
      "                  \"D000C\",\n",
      "                  \"A000B\",\n",
      "                  \"D000C\",\n",
      "                  \"A000B\",\n",
      "                  \"A000B\",\n",
      "                  \"D000D\"\n",
      "                  )"
     ],
     "language": "python",
     "metadata": {},
     "outputs": [
      {
       "output_type": "stream",
       "stream": "stdout",
       "text": []
      },
      {
       "output_type": "stream",
       "stream": "stderr",
       "text": []
      },
      {
       "metadata": {},
       "output_type": "pyout",
       "prompt_number": 11,
       "text": [
        "List(A000B, A000B, D000C, A000B, D000C, A000B, D000C, A000B, A000B, D000D)"
       ]
      }
     ],
     "prompt_number": 11
    },
    {
     "cell_type": "code",
     "collapsed": false,
     "input": [
      "val myVaribs = for(e <- myData) yield new FullyConnected(e)"
     ],
     "language": "python",
     "metadata": {},
     "outputs": [
      {
       "output_type": "stream",
       "stream": "stdout",
       "text": []
      },
      {
       "output_type": "stream",
       "stream": "stderr",
       "text": []
      },
      {
       "metadata": {},
       "output_type": "pyout",
       "prompt_number": 12,
       "text": [
        "List(A000B, A000B, D000C, A000B, D000C, A000B, D000C, A000B, A000B, D000D)"
       ]
      }
     ],
     "prompt_number": 12
    },
    {
     "cell_type": "code",
     "collapsed": false,
     "input": [
      "import cc.factorie.optimize.{AdaGrad, Trainer, LikelihoodExample}\n",
      "import cc.factorie.infer.{InferByMeanField, InferByBPLoopy}"
     ],
     "language": "python",
     "metadata": {},
     "outputs": [
      {
       "output_type": "stream",
       "stream": "stdout",
       "text": []
      },
      {
       "output_type": "stream",
       "stream": "stderr",
       "text": []
      }
     ],
     "prompt_number": 21
    },
    {
     "cell_type": "code",
     "collapsed": false,
     "input": [
      "val examples = myVaribs.map(v => new LikelihoodExample(v.variables, model, InferByBPLoopy))"
     ],
     "language": "python",
     "metadata": {},
     "outputs": [
      {
       "output_type": "stream",
       "stream": "stderr",
       "text": []
      },
      {
       "output_type": "stream",
       "stream": "stdout",
       "text": []
      },
      {
       "metadata": {},
       "output_type": "pyout",
       "prompt_number": 22,
       "text": [
        "List(cc.factorie.optimize.LikelihoodExample@5f9360f4, cc.factorie.optimize.LikelihoodExample@44c26431, cc.factorie.optimize.LikelihoodExample@363ff03b, cc.factorie.optimize.LikelihoodExample@1fb4cd50, cc.factorie.optimize.LikelihoodExample@17134f73, cc.factorie.optimize.LikelihoodExample@74c512da, cc.factorie.optimize.LikelihoodExample@3658e21a, cc.factorie.optimize.LikelihoodExample@56434d6, cc.factorie.optimize.LikelihoodExample@75c8d05d, cc.factorie.optimize.LikelihoodExample@52e7c614)"
       ]
      }
     ],
     "prompt_number": 22
    },
    {
     "cell_type": "code",
     "collapsed": false,
     "input": [
      "val optimizer0 = new AdaGrad()"
     ],
     "language": "python",
     "metadata": {},
     "outputs": [
      {
       "output_type": "stream",
       "stream": "stdout",
       "text": []
      },
      {
       "output_type": "stream",
       "stream": "stderr",
       "text": []
      },
      {
       "metadata": {},
       "output_type": "pyout",
       "prompt_number": 23,
       "text": [
        "cc.factorie.optimize.AdaGrad@1a46d8ee"
       ]
      }
     ],
     "prompt_number": 23
    },
    {
     "cell_type": "code",
     "collapsed": false,
     "input": [
      "Trainer.onlineTrain(model.parameters, examples, optimizer=optimizer0)"
     ],
     "language": "python",
     "metadata": {},
     "outputs": [
      {
       "output_type": "stream",
       "stream": "stdout",
       "text": []
      },
      {
       "output_type": "stream",
       "stream": "stderr",
       "text": []
      }
     ],
     "prompt_number": 24
    },
    {
     "cell_type": "code",
     "collapsed": false,
     "input": [
      "model.parameters.tensors"
     ],
     "language": "python",
     "metadata": {},
     "outputs": [
      {
       "output_type": "stream",
       "stream": "stdout",
       "text": []
      },
      {
       "output_type": "stream",
       "stream": "stderr",
       "text": []
      },
      {
       "metadata": {},
       "output_type": "pyout",
       "prompt_number": 48,
       "text": [
        "ArrayBuffer(Tensor1(-9.332248372513982,-9.390812913447052,-9.332248372513982,-9.485666922071694,-9.576939945975349), DenseTensor2(-9.56521129632724,-9.452501038135255,-9.536130567308266,-9.56521129632724,-9.56521129632724,-9.452501038135255,-9.55670877852697,-9.452501038135255,-9.576837231100084,-9.63096855290569,-9.536130567308266,-9.452501038135255,-9.56521129632724,-9.56521129632724,-9.56521129632724,-9.56521129632724,-9.576837231100084,-9.56521129632724,-9.553690449258811,-9.591340007075562,-9.56521129632724,-9.63096855290569,-9.56521129632724,-9.591340007075562,-9.56521129632724))"
       ]
      }
     ],
     "prompt_number": 48
    },
    {
     "cell_type": "code",
     "collapsed": false,
     "input": [
      "model.factors(myVaribs(0).variables(0))"
     ],
     "language": "python",
     "metadata": {},
     "outputs": [
      {
       "output_type": "stream",
       "stream": "stdout",
       "text": []
      },
      {
       "output_type": "stream",
       "stream": "stderr",
       "text": []
      },
      {
       "metadata": {},
       "output_type": "pyout",
       "prompt_number": 51,
       "text": [
        "Set($anon$3$$anon$1(A), $anon$3$$anon$2(A,0), $anon$3$$anon$2(A,0), $anon$3$$anon$2(A,B), $anon$3$$anon$2(A,0))"
       ]
      }
     ],
     "prompt_number": 51
    },
    {
     "cell_type": "code",
     "collapsed": false,
     "input": [],
     "language": "python",
     "metadata": {},
     "outputs": []
    }
   ],
   "metadata": {}
  }
 ]
}