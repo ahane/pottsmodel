{
 "metadata": {
  "name": ""
 },
 "nbformat": 3,
 "nbformat_minor": 0,
 "worksheets": [
  {
   "cells": [
    {
     "cell_type": "code",
     "collapsed": false,
     "input": [
      "import collection.mutable.{ArrayBuffer, Set}\n",
      "import cc.factorie.variable.{CategoricalDomain, CategoricalVariable, DiffList}"
     ],
     "language": "python",
     "metadata": {},
     "outputs": [],
     "prompt_number": "*"
    },
    {
     "cell_type": "code",
     "collapsed": false,
     "input": [
      "implicit val random = new scala.util.Random(0)\n",
      "implicit val d = new DiffList"
     ],
     "language": "python",
     "metadata": {},
     "outputs": [],
     "prompt_number": "*"
    },
    {
     "cell_type": "code",
     "collapsed": false,
     "input": [
      "object spinDomain extends CategoricalDomain"
     ],
     "language": "python",
     "metadata": {},
     "outputs": [],
     "prompt_number": "*"
    },
    {
     "cell_type": "code",
     "collapsed": false,
     "input": [
      "class Spin(val struct: Structure, value: Char = 'A') extends CategoricalVariable[Char](value){\n",
      "    def domain = spinDomain\n",
      "    override def toString = this.value.toString\n",
      "    def neighbours: Set[Spin] = struct.getNeighbours(this)\n",
      "}\n",
      "trait Structure {\n",
      "    def getNeighbours(s: Spin): Set[Spin]\n",
      "}"
     ],
     "language": "python",
     "metadata": {},
     "outputs": [],
     "prompt_number": "*"
    },
    {
     "cell_type": "code",
     "collapsed": false,
     "input": [
      "class FullyConnected(values: String) extends Structure {\n",
      "    val variables = for(s <- values) yield new Spin(this, s)\n",
      "    val varSet = variables.to[Set]\n",
      "    override def getNeighbours(v: Spin) = varSet - v\n",
      "    override def toString = variables.map(_.toString).mkString(\"\")\n",
      "}"
     ],
     "language": "python",
     "metadata": {},
     "outputs": [],
     "prompt_number": "*"
    },
    {
     "cell_type": "code",
     "collapsed": false,
     "input": [
      "import cc.factorie.model.{Parameters, DotTemplateWithStatistics2, DotTemplateWithStatistics1, TemplateModel, Weights}\n",
      "import cc.factorie.la.{DenseTensor1, DenseTensor2}"
     ],
     "language": "python",
     "metadata": {},
     "outputs": [],
     "prompt_number": "*"
    },
    {
     "cell_type": "code",
     "collapsed": false,
     "input": [
      "val model = new TemplateModel with Parameters {\n",
      "    addTemplates(\n",
      "        \n",
      "        //the local bias h\n",
      "        new DotTemplateWithStatistics1[Spin] {\n",
      "            val weights = Weights(new DenseTensor1(spinDomain.size))\n",
      "        },\n",
      "        \n",
      "        //the pairwise factors J\n",
      "        new DotTemplateWithStatistics2[Spin, Spin] {\n",
      "            val weights = Weights(new DenseTensor2(spinDomain.size, spinDomain.size))\n",
      "            def unroll1(s: Spin) = {\n",
      "                val factors = new ArrayBuffer[Factor]\n",
      "                s.neighbours.foreach(factors += Factor(s, _))\n",
      "                factors\n",
      "            }\n",
      "            //because all pairwise factors are symmetric we dont have to unroll twice\n",
      "            def unroll2(s: Spin) = Nil\n",
      "        }\n",
      "    )\n",
      "}\n",
      "                        "
     ],
     "language": "python",
     "metadata": {},
     "outputs": [],
     "prompt_number": "*"
    },
    {
     "cell_type": "code",
     "collapsed": false,
     "input": [
      "val myData = List(\n",
      "                  \"A000B\",\n",
      "                  \"A000B\",\n",
      "                  \"D000C\",\n",
      "                  \"A000B\",\n",
      "                  \"D000C\",\n",
      "                  \"A000B\",\n",
      "                  \"D000C\",\n",
      "                  \"A000B\",\n",
      "                  \"A000B\",\n",
      "                  \"D000D\"\n",
      "                  )"
     ],
     "language": "python",
     "metadata": {},
     "outputs": [],
     "prompt_number": "*"
    },
    {
     "cell_type": "code",
     "collapsed": false,
     "input": [
      "val myVaribs = for(e <- myData) yield new FullyConnected(e)"
     ],
     "language": "python",
     "metadata": {},
     "outputs": [],
     "prompt_number": "*"
    },
    {
     "cell_type": "code",
     "collapsed": false,
     "input": [
      "import cc.factorie.optimize.{AdaGrad, Trainer, PseudomaxExample}\n",
      "import cc.factorie.infer.{InferByMeanField, Infer}"
     ],
     "language": "python",
     "metadata": {},
     "outputs": [],
     "prompt_number": "*"
    },
    {
     "cell_type": "code",
     "collapsed": false,
     "input": [
      "MeanField"
     ],
     "language": "python",
     "metadata": {},
     "outputs": [],
     "prompt_number": "*"
    },
    {
     "cell_type": "code",
     "collapsed": false,
     "input": [
      "val examples = myVaribs.map(v => new LikelihoodExample(v.variables, model, InferByMeanField))"
     ],
     "language": "python",
     "metadata": {},
     "outputs": [],
     "prompt_number": "*"
    },
    {
     "cell_type": "code",
     "collapsed": false,
     "input": [
      "val optimizer0 = new AdaGrad()"
     ],
     "language": "python",
     "metadata": {},
     "outputs": [],
     "prompt_number": "*"
    },
    {
     "cell_type": "code",
     "collapsed": false,
     "input": [
      "Trainer.onlineTrain(model.parameters, examples, optimizer=optimizer0)"
     ],
     "language": "python",
     "metadata": {},
     "outputs": [],
     "prompt_number": "*"
    },
    {
     "cell_type": "code",
     "collapsed": false,
     "input": [],
     "language": "python",
     "metadata": {},
     "outputs": [],
     "prompt_number": "*"
    }
   ],
   "metadata": {}
  }
 ]
}